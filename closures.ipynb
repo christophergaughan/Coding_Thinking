{
 "cells": [
  {
   "metadata": {},
   "cell_type": "markdown",
   "source": [
    "## 💡 Closures: The \"Hold This Down\" Concept\n",
    "Imagine a function inside a function, and that little homie inside is like, “Ayo, I’m gonna hold onto whatever variables my big homie (the outer function) gave me, even after the big homie dips out.”\n",
    "\n",
    "## Real-Life Analogy:\n",
    "Let’s say your uncle (outer function) teaches you a hustle — how to make a sandwich — and leaves you the tools (bread, meat, cheese). Even after he bounces, you still got the tools to make sandwiches on your own.\n",
    "\n",
    "### Code Style:"
   ],
   "id": "49e365ea04f95ef2"
  },
  {
   "cell_type": "code",
   "id": "initial_id",
   "metadata": {
    "collapsed": true,
    "ExecuteTime": {
     "end_time": "2025-04-01T01:03:48.077768Z",
     "start_time": "2025-04-01T01:03:48.074600Z"
    }
   },
   "source": [
    "def sandwich_maker(meat):\n",
    "    def make():\n",
    "        return f\"Yo, here’s your {meat} sandwich!\"\n",
    "    return make  # 👈 returning the *function*, not calling it\n"
   ],
   "outputs": [],
   "execution_count": 2
  },
  {
   "metadata": {
    "ExecuteTime": {
     "end_time": "2025-04-01T01:03:48.867099Z",
     "start_time": "2025-04-01T01:03:48.864386Z"
    }
   },
   "cell_type": "code",
   "source": [
    "turkey_sandwich = sandwich_maker(\"turkey\")\n",
    "print(turkey_sandwich())\n"
   ],
   "id": "8d57496b1a0147d6",
   "outputs": [
    {
     "name": "stdout",
     "output_type": "stream",
     "text": [
      "Yo, here’s your turkey sandwich!\n"
     ]
    }
   ],
   "execution_count": 3
  },
  {
   "metadata": {},
   "cell_type": "markdown",
   "source": "That `make()` function remembered `meat='turkey'` — that’s a closure right there. It kept it locked even after the outer function dipped.",
   "id": "825f4b707f5fad44"
  },
  {
   "metadata": {},
   "cell_type": "markdown",
   "source": [
    "## 🎯 Decorators: Hooking Functions Up with Swag\n",
    "You ever seen someone take a plain white tee (basic function) and throw some ice, chains, kicks, and make it POP? That’s what a decorator does — it adds extra drip without messing with the OG tee.\n",
    "\n",
    "### Real-Life Analogy:\n",
    "You got a function that says “hello” — plain and simple. A decorator lets you slap some \"logging\" or \"timing\" on it — like checking how long it takes, or printing something before and after — without changing the original vibe.\n",
    "\n",
    "### Syntax Example:"
   ],
   "id": "8767dcd5b57fc55b"
  },
  {
   "metadata": {
    "ExecuteTime": {
     "end_time": "2025-04-01T01:03:50.634726Z",
     "start_time": "2025-04-01T01:03:50.632001Z"
    }
   },
   "cell_type": "code",
   "source": [
    "def add_flavor(func):\n",
    "    def wrapper():\n",
    "        print(\"Before: Sprinkle some seasoning on it\")\n",
    "        func()\n",
    "        print(\"After: Serve it with style 🍽️\")\n",
    "    return wrapper\n",
    "\n",
    "@add_flavor\n",
    "def greet():\n",
    "    print(\"Hey, what’s good?\")\n"
   ],
   "id": "e2a27417f6e484e4",
   "outputs": [],
   "execution_count": 4
  },
  {
   "metadata": {
    "ExecuteTime": {
     "end_time": "2025-04-01T01:03:51.159421Z",
     "start_time": "2025-04-01T01:03:51.156881Z"
    }
   },
   "cell_type": "code",
   "source": "greet()",
   "id": "e8de491a70f09561",
   "outputs": [
    {
     "name": "stdout",
     "output_type": "stream",
     "text": [
      "Before: Sprinkle some seasoning on it\n",
      "Hey, what’s good?\n",
      "After: Serve it with style 🍽️\n"
     ]
    }
   ],
   "execution_count": 5
  },
  {
   "metadata": {},
   "cell_type": "markdown",
   "source": "The `@add_flavor` is like saying, “Yo, give this function some sauce.”",
   "id": "89de357ffec5e933"
  },
  {
   "metadata": {},
   "cell_type": "markdown",
   "source": [
    "## 🧠 Memoization (Decorator That Remembers)\n",
    "This one’s all about remembering answers **so you don’t hustle twice**. If you already know 5 + 5 is 10, don’t calculate it again — just remember it.\n",
    "\n",
    "Python’s got a decorator built in:"
   ],
   "id": "a06461391611d20d"
  },
  {
   "metadata": {
    "ExecuteTime": {
     "end_time": "2025-04-01T01:03:52.635988Z",
     "start_time": "2025-04-01T01:03:52.632782Z"
    }
   },
   "cell_type": "code",
   "source": [
    "from functools import lru_cache\n",
    "\n",
    "@lru_cache(maxsize=1000)\n",
    "def slow_math(x):\n",
    "    print(f\"Doing hard math on {x}...\")\n",
    "    return x * x\n"
   ],
   "id": "167e6c3af715ee89",
   "outputs": [],
   "execution_count": 6
  },
  {
   "metadata": {
    "ExecuteTime": {
     "end_time": "2025-04-01T01:03:53.136761Z",
     "start_time": "2025-04-01T01:03:53.132067Z"
    }
   },
   "cell_type": "code",
   "source": [
    "slow_math(5)\n",
    "slow_math(4)\n"
   ],
   "id": "b20bcc5686597a0d",
   "outputs": [
    {
     "name": "stdout",
     "output_type": "stream",
     "text": [
      "Doing hard math on 5...\n",
      "Doing hard math on 4...\n"
     ]
    },
    {
     "data": {
      "text/plain": [
       "16"
      ]
     },
     "execution_count": 7,
     "metadata": {},
     "output_type": "execute_result"
    }
   ],
   "execution_count": 7
  },
  {
   "metadata": {},
   "cell_type": "markdown",
   "source": [
    "**Aight, let’s get into it — time to build your own decorator from scratch like a true code mechanic. We're gonna throw down some Python heat so that when you see a `@decorator`, you know exactly what’s going on under the hood. Let’s roll 🛠️**\n",
    "\n",
    "## 🏗️ Build Your Own Decorator\n",
    "**📖 The Blueprint:**\n",
    "\n",
    "A decorator is just a **function that takes another function** and returns a **new function** — usually wrapping the OG with something extra.\n",
    "\n",
    "Let’s build a basic one to **track when a function runs** — like leaving a log or a breadcrumb.\n",
    "\n"
   ],
   "id": "3135556fdf65ca82"
  },
  {
   "metadata": {},
   "cell_type": "markdown",
   "source": "## 🧱 Step 1: A Basic Function",
   "id": "89b2e9bb36aa6b6c"
  },
  {
   "metadata": {
    "ExecuteTime": {
     "end_time": "2025-04-01T01:03:54.570901Z",
     "start_time": "2025-04-01T01:03:54.568929Z"
    }
   },
   "cell_type": "code",
   "source": [
    "def say_hello():\n",
    "    print(\"Yo! What’s good?\")\n"
   ],
   "id": "a06a8ffddaf679d1",
   "outputs": [],
   "execution_count": 8
  },
  {
   "metadata": {},
   "cell_type": "markdown",
   "source": [
    "Basic function — does its thing, no flair.\n",
    "\n",
    "### 🔁 Step 2: Wrap It Up\n",
    "Let’s make a **decorator function** that adds some flavor before and after."
   ],
   "id": "59c22db5a7d71276"
  },
  {
   "metadata": {
    "ExecuteTime": {
     "end_time": "2025-04-01T01:03:55.733290Z",
     "start_time": "2025-04-01T01:03:55.730808Z"
    }
   },
   "cell_type": "code",
   "source": [
    "def log_decorator(func):\n",
    "    def wrapper():\n",
    "        print(\"📓 Logging: About to run the function...\")\n",
    "        func()\n",
    "        print(\"📓 Logging: Function just ran!\")\n",
    "    return wrapper\n"
   ],
   "id": "e66b8359a9d6a085",
   "outputs": [],
   "execution_count": 9
  },
  {
   "metadata": {},
   "cell_type": "markdown",
   "source": [
    "* `func` is the function we’re decorating.\n",
    "\n",
    "* `wrapper()` is the remix that runs before and after.\n",
    "\n"
   ],
   "id": "48a1582d783b768"
  },
  {
   "metadata": {},
   "cell_type": "markdown",
   "source": "### 🧵 Step 3: Thread it Together with @",
   "id": "e70e7ec17ec1d519"
  },
  {
   "metadata": {
    "ExecuteTime": {
     "end_time": "2025-04-01T01:03:57.593034Z",
     "start_time": "2025-04-01T01:03:57.590807Z"
    }
   },
   "cell_type": "code",
   "source": [
    "@log_decorator\n",
    "def say_hello():\n",
    "    print(\"Yo! What’s up?\")\n"
   ],
   "id": "dd71f4d0cf8962a8",
   "outputs": [],
   "execution_count": 10
  },
  {
   "metadata": {},
   "cell_type": "markdown",
   "source": "Now, when we call `say_hello()…`",
   "id": "7de889ac27d18372"
  },
  {
   "metadata": {
    "ExecuteTime": {
     "end_time": "2025-04-01T01:03:58.877931Z",
     "start_time": "2025-04-01T01:03:58.875371Z"
    }
   },
   "cell_type": "code",
   "source": "say_hello()",
   "id": "c9fe1448c73cc343",
   "outputs": [
    {
     "name": "stdout",
     "output_type": "stream",
     "text": [
      "📓 Logging: About to run the function...\n",
      "Yo! What’s up?\n",
      "📓 Logging: Function just ran!\n"
     ]
    }
   ],
   "execution_count": 11
  },
  {
   "metadata": {},
   "cell_type": "markdown",
   "source": "Boom! You just built a decorator from scratch. 🎉",
   "id": "c6b2ffc9f408d215"
  },
  {
   "metadata": {},
   "cell_type": "markdown",
   "source": [
    "### 📦 Bonus: Return Values\n",
    "Let’s say your function gives something back. You gotta **return the result** in the `wrapper()` too:"
   ],
   "id": "ef9008f9608e3140"
  },
  {
   "metadata": {
    "ExecuteTime": {
     "end_time": "2025-04-01T01:04:00.929955Z",
     "start_time": "2025-04-01T01:04:00.926684Z"
    }
   },
   "cell_type": "code",
   "source": [
    "def double_it(func):\n",
    "    def wrapper(x):\n",
    "        result = func(x)\n",
    "        return result * 2\n",
    "    return wrapper\n",
    "\n",
    "@double_it\n",
    "def give_number(n):\n",
    "    return n\n"
   ],
   "id": "637ce7b62e918c49",
   "outputs": [],
   "execution_count": 12
  },
  {
   "metadata": {
    "ExecuteTime": {
     "end_time": "2025-04-01T01:04:01.601675Z",
     "start_time": "2025-04-01T01:04:01.598839Z"
    }
   },
   "cell_type": "code",
   "source": "print(give_number(5))",
   "id": "cfbc673ceb349b03",
   "outputs": [
    {
     "name": "stdout",
     "output_type": "stream",
     "text": [
      "10\n"
     ]
    }
   ],
   "execution_count": 13
  },
  {
   "metadata": {},
   "cell_type": "markdown",
   "source": [
    "### 🧪 Try it Yourself:\n",
    "Make a decorator that:\n",
    "\n",
    "* Says “🔐 Access granted” before\n",
    "\n",
    "* Says “✅ Task complete” after\n",
    "\n",
    "* Calls a function like `def download(): print(\"Downloading file...\")`\n",
    "\n"
   ],
   "id": "a886d330c421fb52"
  },
  {
   "metadata": {
    "ExecuteTime": {
     "end_time": "2025-04-01T01:04:04.057354Z",
     "start_time": "2025-04-01T01:04:04.053647Z"
    }
   },
   "cell_type": "code",
   "source": [
    "def message(func):\n",
    "    def wrapper():\n",
    "        print(\"Before: 🔐 Access granted\")\n",
    "        func()\n",
    "        print(\"After: ✅ Task complete\")\n",
    "    return wrapper\n",
    "\n",
    "@message\n",
    "def download():\n",
    "    print(\"Downloading File\")\n"
   ],
   "id": "ca6216ced862a443",
   "outputs": [],
   "execution_count": 14
  },
  {
   "metadata": {
    "ExecuteTime": {
     "end_time": "2025-04-01T01:04:04.626231Z",
     "start_time": "2025-04-01T01:04:04.623207Z"
    }
   },
   "cell_type": "code",
   "source": "download()",
   "id": "ab66a58f2df9cca",
   "outputs": [
    {
     "name": "stdout",
     "output_type": "stream",
     "text": [
      "Before: 🔐 Access granted\n",
      "Downloading File\n",
      "After: ✅ Task complete\n"
     ]
    }
   ],
   "execution_count": 15
  },
  {
   "metadata": {},
   "cell_type": "markdown",
   "source": [
    "OK, so that's nice but it isn't reflecting how we might encounter this stuff in the **real world**. Let's keep it 100% real, make it understandable, but still walk the path toward real-world readiness — like something you'd actually use in a data engineering pipeline. We'll show a decorator that logs function performance (execution time), which is a common flex in data jobs — helps you know where your pipeline's slow or bottlenecked.\n",
    "\n",
    "We gonna step it up just a little, but stay crystal clear. Let’s go:\n",
    "\n",
    "## 🚧 Real-World Decorator: Tracking Execution Time in a Data Pipeline\n",
    "**🎯 Situation:**\n",
    "\n",
    "You got functions that process data — and you wanna know **how long each one takes**. This is **super common** when you're doing data engineering with large files or slow systems.\n",
    "\n",
    "**💻 Code Breakdown:**"
   ],
   "id": "5e5237d24140168c"
  },
  {
   "metadata": {
    "ExecuteTime": {
     "end_time": "2025-04-01T01:04:05.735273Z",
     "start_time": "2025-04-01T01:04:05.732174Z"
    }
   },
   "cell_type": "code",
   "source": [
    "import time\n",
    "\n",
    "# This the decorator – the stopwatch for your functions ⏱️\n",
    "def track_time(func):\n",
    "    def wrapper(*args, **kwargs):\n",
    "        print(f\"🚦 Starting: {func.__name__}\")\n",
    "        start = time.time()\n",
    "        result = func(*args, **kwargs)\n",
    "        end = time.time()\n",
    "        print(f\"✅ Done: {func.__name__} took {end - start:.4f} seconds\")\n",
    "        return result\n",
    "    return wrapper\n"
   ],
   "id": "ed43c98053f93360",
   "outputs": [],
   "execution_count": 16
  },
  {
   "metadata": {},
   "cell_type": "markdown",
   "source": [
    "* `*args` and `**kwargs` let it work with **any** function, no matter how many inputs it takes. That’s some grown-up decorator stuff right there.\n",
    "\n",
    "* We’re logging **start and end time** using `time.time()`."
   ],
   "id": "bcb075d6ce5f1562"
  },
  {
   "metadata": {},
   "cell_type": "markdown",
   "source": "### Example: Simulating a Data Load",
   "id": "393f7c091bfa94af"
  },
  {
   "metadata": {
    "ExecuteTime": {
     "end_time": "2025-04-01T01:04:07.713493Z",
     "start_time": "2025-04-01T01:04:07.710122Z"
    }
   },
   "cell_type": "code",
   "source": [
    "@track_time\n",
    "def load_big_data():\n",
    "    print(\"📦 Loading a huge CSV file from S3 bucket...\")\n",
    "    time.sleep(2)  # simulate 2 seconds of loading time\n",
    "    print(\"📊 Data loaded successfully!\")\n",
    "\n",
    "@track_time\n",
    "def clean_data():\n",
    "    print(\"🧹 Cleaning data rows...\")\n",
    "    time.sleep(1)  # simulate processing time\n",
    "    print(\"🧼 Data cleaned.\")\n"
   ],
   "id": "72f0b9297284716c",
   "outputs": [],
   "execution_count": 17
  },
  {
   "metadata": {},
   "cell_type": "markdown",
   "source": "## 🚀 Run It:",
   "id": "656b2a13dbf157e6"
  },
  {
   "metadata": {
    "ExecuteTime": {
     "end_time": "2025-04-01T01:04:11.842525Z",
     "start_time": "2025-04-01T01:04:08.829585Z"
    }
   },
   "cell_type": "code",
   "source": [
    "load_big_data()\n",
    "clean_data()\n"
   ],
   "id": "ef6700607237e60f",
   "outputs": [
    {
     "name": "stdout",
     "output_type": "stream",
     "text": [
      "🚦 Starting: load_big_data\n",
      "📦 Loading a huge CSV file from S3 bucket...\n",
      "📊 Data loaded successfully!\n",
      "✅ Done: load_big_data took 2.0034 seconds\n",
      "🚦 Starting: clean_data\n",
      "🧹 Cleaning data rows...\n",
      "🧼 Data cleaned.\n",
      "✅ Done: clean_data took 1.0054 seconds\n"
     ]
    }
   ],
   "execution_count": 18
  },
  {
   "metadata": {},
   "cell_type": "markdown",
   "source": [
    "## 💎 Real-World Sauce:\n",
    "* This is real-deal pipeline work — you could slap this `@track_time` on:\n",
    "\n",
    "* reading from a database 📥\n",
    "\n",
    "* cleaning nulls and duplicates 🧼\n",
    "\n",
    "* writing back to a warehouse like Snowflake or Redshift 💽\n",
    "\n"
   ],
   "id": "ba0d15dcc580abec"
  },
  {
   "metadata": {},
   "cell_type": "markdown",
   "source": [
    "Why don't we work with some real data. Lets actually make a JSON file and save it locally.\n",
    "\n",
    "Let’s roll with a simple but real example that hits home:\n",
    "\n",
    "* We’ll make a small JSON file (like real data engineers get from APIs or logs).\n",
    "\n",
    "* Then we’ll write a function that reads + processes it (e.g., filter or count something).\n",
    "\n",
    "* And we’ll use our custom `@track_time` decorator to see how long it takes.\n",
    "\n",
    "That’s real pipeline logic right there."
   ],
   "id": "834fb2022b55a959"
  },
  {
   "metadata": {
    "ExecuteTime": {
     "end_time": "2025-04-01T01:04:11.861219Z",
     "start_time": "2025-04-01T01:04:11.854721Z"
    }
   },
   "cell_type": "code",
   "source": [
    "import json\n",
    "\n",
    "data = [\n",
    "    {\"name\": \"Aisha\", \"age\": 22, \"city\": \"New York\"},\n",
    "    {\"name\": \"Malik\", \"age\": 17, \"city\": \"Chicago\"},\n",
    "    {\"name\": \"Jasmine\", \"age\": 30, \"city\": \"New York\"},\n",
    "    {\"name\": \"Dante\", \"age\": 19, \"city\": \"Atlanta\"},\n",
    "    {\"name\": \"Carlos\", \"age\": 15, \"city\": \"Chicago\"}\n",
    "]\n",
    "\n",
    "with open(\"data.json\", \"w\") as f:\n",
    "    json.dump(data, f, indent=2)\n"
   ],
   "id": "9c929fb2fcb9330c",
   "outputs": [],
   "execution_count": 19
  },
  {
   "metadata": {},
   "cell_type": "markdown",
   "source": [
    "## 🔁 Real Python Ops with `filter()`, `max()`, and `sorted()`\n",
    "We’ll throw the `@track_time` decorator on all of these too to see performance — that’s dev behavior."
   ],
   "id": "2d4368b32305685b"
  },
  {
   "metadata": {},
   "cell_type": "markdown",
   "source": "### 1️⃣ Count Adults using filter()",
   "id": "168a80525da50022"
  },
  {
   "metadata": {
    "ExecuteTime": {
     "end_time": "2025-04-01T01:04:12.882023Z",
     "start_time": "2025-04-01T01:04:12.879051Z"
    }
   },
   "cell_type": "code",
   "source": [
    "@track_time\n",
    "def get_adults(file_path):\n",
    "    with open(file_path, \"r\") as f:\n",
    "        people = json.load(f)\n",
    "\n",
    "    adults = list(filter(lambda p: p[\"age\"] >= 18, people))\n",
    "    print(f\"👥 Adults: {[p['name'] for p in adults]}\")\n"
   ],
   "id": "67299899beb8a7ad",
   "outputs": [],
   "execution_count": 20
  },
  {
   "metadata": {},
   "cell_type": "markdown",
   "source": "### 2️⃣ Find the Oldest Person using max()",
   "id": "4629a7a03e061a73"
  },
  {
   "metadata": {
    "ExecuteTime": {
     "end_time": "2025-04-01T01:04:14.362657Z",
     "start_time": "2025-04-01T01:04:14.359290Z"
    }
   },
   "cell_type": "code",
   "source": [
    "@track_time\n",
    "def find_oldest(file_path):\n",
    "    with open(file_path, \"r\") as f:\n",
    "        people = json.load(f)\n",
    "\n",
    "    oldest = max(people, key=people.get)\n",
    "    print(f\"👑 Oldest person: {oldest['name']} ({oldest['age']} yrs)\")\n"
   ],
   "id": "959ece4661dadbe8",
   "outputs": [],
   "execution_count": 21
  },
  {
   "metadata": {},
   "cell_type": "markdown",
   "source": "### 3️⃣ Sort by Age using sorted()",
   "id": "70a944aa609f40d6"
  },
  {
   "metadata": {
    "ExecuteTime": {
     "end_time": "2025-04-01T01:04:16.057532Z",
     "start_time": "2025-04-01T01:04:16.054378Z"
    }
   },
   "cell_type": "code",
   "source": [
    "@track_time\n",
    "def sort_by_age(file_path):\n",
    "    with open(file_path, \"r\") as f:\n",
    "        people = json.load(f)\n",
    "\n",
    "    sorted_people = sorted(people, key=lambda p: p[\"age\"])\n",
    "    print(\"📊 People sorted by age:\")\n",
    "    for p in sorted_people:\n",
    "        print(f\"  - {p['name']} ({p['age']})\")\n"
   ],
   "id": "18a52b1cf4971371",
   "outputs": [],
   "execution_count": 22
  },
  {
   "metadata": {},
   "cell_type": "markdown",
   "source": "## 🏁 Run the Ops",
   "id": "6c176f289e5de3ac"
  },
  {
   "metadata": {
    "ExecuteTime": {
     "end_time": "2025-04-01T01:04:18.309487Z",
     "start_time": "2025-04-01T01:04:18.167598Z"
    }
   },
   "cell_type": "code",
   "source": [
    "get_adults(\"data.json\")\n",
    "find_oldest(\"data.json\")\n",
    "sort_by_age(\"data.json\")\n"
   ],
   "id": "1638274e8640f178",
   "outputs": [
    {
     "name": "stdout",
     "output_type": "stream",
     "text": [
      "🚦 Starting: get_adults\n",
      "👥 Adults: ['Aisha', 'Jasmine', 'Dante']\n",
      "✅ Done: get_adults took 0.0009 seconds\n",
      "🚦 Starting: find_oldest\n"
     ]
    },
    {
     "ename": "AttributeError",
     "evalue": "'list' object has no attribute 'get'",
     "output_type": "error",
     "traceback": [
      "\u001B[0;31m---------------------------------------------------------------------------\u001B[0m",
      "\u001B[0;31mAttributeError\u001B[0m                            Traceback (most recent call last)",
      "Cell \u001B[0;32mIn[23], line 2\u001B[0m\n\u001B[1;32m      1\u001B[0m get_adults(\u001B[38;5;124m\"\u001B[39m\u001B[38;5;124mdata.json\u001B[39m\u001B[38;5;124m\"\u001B[39m)\n\u001B[0;32m----> 2\u001B[0m \u001B[43mfind_oldest\u001B[49m\u001B[43m(\u001B[49m\u001B[38;5;124;43m\"\u001B[39;49m\u001B[38;5;124;43mdata.json\u001B[39;49m\u001B[38;5;124;43m\"\u001B[39;49m\u001B[43m)\u001B[49m\n\u001B[1;32m      3\u001B[0m sort_by_age(\u001B[38;5;124m\"\u001B[39m\u001B[38;5;124mdata.json\u001B[39m\u001B[38;5;124m\"\u001B[39m)\n",
      "Cell \u001B[0;32mIn[16], line 8\u001B[0m, in \u001B[0;36mtrack_time.<locals>.wrapper\u001B[0;34m(*args, **kwargs)\u001B[0m\n\u001B[1;32m      6\u001B[0m \u001B[38;5;28mprint\u001B[39m(\u001B[38;5;124mf\u001B[39m\u001B[38;5;124m\"\u001B[39m\u001B[38;5;124m🚦 Starting: \u001B[39m\u001B[38;5;132;01m{\u001B[39;00mfunc\u001B[38;5;241m.\u001B[39m\u001B[38;5;18m__name__\u001B[39m\u001B[38;5;132;01m}\u001B[39;00m\u001B[38;5;124m\"\u001B[39m)\n\u001B[1;32m      7\u001B[0m start \u001B[38;5;241m=\u001B[39m time\u001B[38;5;241m.\u001B[39mtime()\n\u001B[0;32m----> 8\u001B[0m result \u001B[38;5;241m=\u001B[39m \u001B[43mfunc\u001B[49m\u001B[43m(\u001B[49m\u001B[38;5;241;43m*\u001B[39;49m\u001B[43margs\u001B[49m\u001B[43m,\u001B[49m\u001B[43m \u001B[49m\u001B[38;5;241;43m*\u001B[39;49m\u001B[38;5;241;43m*\u001B[39;49m\u001B[43mkwargs\u001B[49m\u001B[43m)\u001B[49m\n\u001B[1;32m      9\u001B[0m end \u001B[38;5;241m=\u001B[39m time\u001B[38;5;241m.\u001B[39mtime()\n\u001B[1;32m     10\u001B[0m \u001B[38;5;28mprint\u001B[39m(\u001B[38;5;124mf\u001B[39m\u001B[38;5;124m\"\u001B[39m\u001B[38;5;124m✅ Done: \u001B[39m\u001B[38;5;132;01m{\u001B[39;00mfunc\u001B[38;5;241m.\u001B[39m\u001B[38;5;18m__name__\u001B[39m\u001B[38;5;132;01m}\u001B[39;00m\u001B[38;5;124m took \u001B[39m\u001B[38;5;132;01m{\u001B[39;00mend\u001B[38;5;250m \u001B[39m\u001B[38;5;241m-\u001B[39m\u001B[38;5;250m \u001B[39mstart\u001B[38;5;132;01m:\u001B[39;00m\u001B[38;5;124m.4f\u001B[39m\u001B[38;5;132;01m}\u001B[39;00m\u001B[38;5;124m seconds\u001B[39m\u001B[38;5;124m\"\u001B[39m)\n",
      "Cell \u001B[0;32mIn[21], line 6\u001B[0m, in \u001B[0;36mfind_oldest\u001B[0;34m(file_path)\u001B[0m\n\u001B[1;32m      3\u001B[0m \u001B[38;5;28;01mwith\u001B[39;00m \u001B[38;5;28mopen\u001B[39m(file_path, \u001B[38;5;124m\"\u001B[39m\u001B[38;5;124mr\u001B[39m\u001B[38;5;124m\"\u001B[39m) \u001B[38;5;28;01mas\u001B[39;00m f:\n\u001B[1;32m      4\u001B[0m     people \u001B[38;5;241m=\u001B[39m json\u001B[38;5;241m.\u001B[39mload(f)\n\u001B[0;32m----> 6\u001B[0m oldest \u001B[38;5;241m=\u001B[39m \u001B[38;5;28mmax\u001B[39m(people, key\u001B[38;5;241m=\u001B[39m\u001B[43mpeople\u001B[49m\u001B[38;5;241;43m.\u001B[39;49m\u001B[43mget\u001B[49m)\n\u001B[1;32m      7\u001B[0m \u001B[38;5;28mprint\u001B[39m(\u001B[38;5;124mf\u001B[39m\u001B[38;5;124m\"\u001B[39m\u001B[38;5;124m👑 Oldest person: \u001B[39m\u001B[38;5;132;01m{\u001B[39;00moldest[\u001B[38;5;124m'\u001B[39m\u001B[38;5;124mname\u001B[39m\u001B[38;5;124m'\u001B[39m]\u001B[38;5;132;01m}\u001B[39;00m\u001B[38;5;124m (\u001B[39m\u001B[38;5;132;01m{\u001B[39;00moldest[\u001B[38;5;124m'\u001B[39m\u001B[38;5;124mage\u001B[39m\u001B[38;5;124m'\u001B[39m]\u001B[38;5;132;01m}\u001B[39;00m\u001B[38;5;124m yrs)\u001B[39m\u001B[38;5;124m\"\u001B[39m)\n",
      "\u001B[0;31mAttributeError\u001B[0m: 'list' object has no attribute 'get'"
     ]
    }
   ],
   "execution_count": 23
  },
  {
   "metadata": {},
   "cell_type": "markdown",
   "source": [
    "## ✊🏾 Why This Hits Different:\n",
    "* This is real functional programming: using filter, max, sorted like a boss.\n",
    "\n",
    "* You’re mixing in decorators for logging, which prepares you for real pipeline debugging.\n",
    "\n",
    "* Your young squad gets to see how Python isn’t just academic — it’s a tool for power moves in tech."
   ],
   "id": "5882a82388482a5f"
  },
  {
   "metadata": {},
   "cell_type": "markdown",
   "source": [
    "### We're gonna flip the script and run this like a real pipeline — where the decorators aren’t just for show, they’re working for real in a data processing workflow.\n",
    "\n",
    "We’ll:\n",
    "\n",
    "1. **Load real JSON data** (like user or product info)\n",
    "\n",
    "2. **Transform** it (filter, sort, compute something useful)\n",
    "\n",
    "3. **Output** the result (could be write to a file or print insights)\n",
    "\n",
    "And we’ll use decorators to **track time**, maybe even **log to a file**\n",
    "\n",
    "This is **real-world data engineering**, **functional programming**, and **pipeline structuring** all rolled up, no fluff. Let’s get it 👇"
   ],
   "id": "94ee7487be53fadb"
  },
  {
   "metadata": {},
   "cell_type": "markdown",
   "source": [
    "### ⚙️ Step 1: The Decorators\n",
    "### ⏱ `@track_time` – logs how long it takes\n",
    "### 📓 `@log_to_file` – writes function result to a log file"
   ],
   "id": "b37748b035a584ae"
  },
  {
   "metadata": {
    "ExecuteTime": {
     "end_time": "2025-04-01T01:04:20.415330Z",
     "start_time": "2025-04-01T01:04:20.410473Z"
    }
   },
   "cell_type": "code",
   "source": [
    "import time\n",
    "import json\n",
    "from functools import wraps\n",
    "\n",
    "def track_time(func):\n",
    "    @wraps(func)\n",
    "    def wrapper(*args, **kwargs):\n",
    "        print(f\"⏱️  Starting: {func.__name__}\")\n",
    "        start = time.time()\n",
    "        result = func(*args, **kwargs)\n",
    "        end = time.time()\n",
    "        print(f\"✅ Done: {func.__name__} in {end - start:.4f} sec\\n\")\n",
    "        return result\n",
    "    return wrapper\n",
    "\n",
    "def log_to_file(logfile=\"log.txt\"):\n",
    "    def decorator(func):\n",
    "        @wraps(func)\n",
    "        def wrapper(*args, **kwargs):\n",
    "            result = func(*args, **kwargs)\n",
    "            with open(logfile, \"a\") as f:\n",
    "                f.write(f\"{func.__name__} output:\\n{result}\\n\\n\")\n",
    "            return result\n",
    "        return wrapper\n",
    "    return decorator\n"
   ],
   "id": "f6ffe43e96cf7222",
   "outputs": [],
   "execution_count": 24
  },
  {
   "metadata": {},
   "cell_type": "markdown",
   "source": [
    "The `log_to_file_()` function seems kind of confusing.\n",
    "### 🧠 Big Picture: What's log_to_file Doing?\n",
    "This is a decorator factory — it’s a function that returns a decorator, which itself wraps another function.\n",
    "\n",
    "It might feel like three layers deep, but we’ll relate each layer back to what you’ve seen before.\n",
    "\n",
    "#### 🏗️ Layer-by-Layer Breakdown\n",
    "`def log_to_file(logfile=\"log.txt\"):`\n",
    "\n",
    "\n",
    "This is the **outer function**. It takes one argument: the file you wanna log to.\n",
    "\n",
    "* Example: `@log_to_file(\"my_log.txt\")`\n",
    "\n",
    "* This outer layer lets you customize the behavior of the decorator (like the file name)\n",
    "\n",
    "`    def decorator(func):`\n",
    "\n",
    "This is the **actual decorator**. It takes the function you're decorating.\n",
    "\n",
    "* Example: If you wrote:\n",
    "```\n",
    "@log_to_file(\"sales_log.txt\")\n",
    "def calc_total_sales():\n",
    "    ...\n",
    "```\n",
    "Then here, `func` would be `calc_total_sales`.\n",
    "\n",
    "```\n",
    "        @wraps(func)\n",
    "        def wrapper(*args, **kwargs):\n",
    "\n",
    "```\n",
    "This is the **wrapper** function — it adds the extra sauce.\n",
    "\n",
    "* *args and **kwargs just mean: “Yo, I don’t know what this function needs, so I’ll be ready for anything.”\n",
    "\n",
    "* `@wraps(func)` is just good practice. It makes sure the function keeps its original name, docstring, etc.\n",
    "\n",
    "`            result = func(*args, **kwargs)`\n",
    "\n",
    "This line **actually calls the function** and saves the result.\n",
    "```\n",
    "            with open(logfile, \"a\") as f:\n",
    "                f.write(f\"{func.__name__} output:\\n{result}\\n\\n\")\n",
    "\n",
    "```\n",
    "This part writes to the log file:\n",
    "\n",
    "* It appends (`\"a\"` mode) the name of the function and its result\n",
    "\n",
    "* It’s saving the function’s **output** for audit/logging — real-world vibes here\n",
    "```\n",
    "            return result\n",
    "\n",
    "```\n",
    "The wrapper sends back the result like nothing ever changed — this way, it doesn't mess up your function's logic.\n",
    "```\n",
    "        return wrapper\n",
    "    return decorator\n",
    "\n",
    "```\n",
    "* Return `wrapper` so that the original function gets replaced with this enhanced version\n",
    "\n",
    "* Return `decorator` from the outer function so that the `@log_to_file(\"...\")` syntax works\n",
    "### 🔗 How It Relates to Closures and Decorators\n",
    "* ✅ Decorators:\n",
    "    - You’re stacking **extra behavior** (logging) onto a function — that’s exactly what decorators are for\n",
    "\n",
    "* ✅ Closures:\n",
    "    - `wrapper()` holds onto `logfile` from the outer scope `(log_to_file)` — this is a closure\n",
    "\n",
    "That variable sticks around even after log_to_file() is done\n",
    "\n",
    "### 🧪 Visual Recap\n",
    "```\n",
    "@log_to_file(\"pipeline_log.txt\")\n",
    "def run_stage():\n",
    "    return \"Stage complete\"\n",
    "\n",
    "# Under the hood:\n",
    "# run_stage = log_to_file(\"pipeline_log.txt\")(run_stage)\n",
    "```\n",
    "\n",
    ">Think of it like this:\n",
    "log_to_file() is like setting up a trap camera 🎥 in the corner of your function's room.\n",
    "Every time your function moves, the wrapper snaps a pic (output) and saves it to the logbook.\n",
    "\n",
    "> The closure makes sure that the camera always knows which room it’s in (the file name you gave it).\n",
    "\n",
    "> You don’t gotta keep setting it up — just use @log_to_file(\"where_to_save.txt\") and it handles the rest.\n",
    "\n"
   ],
   "id": "f70271788b611d41"
  },
  {
   "metadata": {},
   "cell_type": "markdown",
   "source": [
    "### 📂 Step 2: Simulated Real JSON Data\n",
    "Let’s say this is a mock inventory system for a small sneaker shop."
   ],
   "id": "5a19aab259a2f994"
  },
  {
   "metadata": {
    "ExecuteTime": {
     "end_time": "2025-04-01T01:04:23.249623Z",
     "start_time": "2025-04-01T01:04:23.245079Z"
    }
   },
   "cell_type": "code",
   "source": [
    "inventory = [\n",
    "    {\"product\": \"Air Max 90\", \"price\": 120, \"stock\": 5, \"category\": \"shoes\"},\n",
    "    {\"product\": \"Jordan 1\", \"price\": 200, \"stock\": 2, \"category\": \"shoes\"},\n",
    "    {\"product\": \"Nike Hoodie\", \"price\": 60, \"stock\": 10, \"category\": \"clothing\"},\n",
    "    {\"product\": \"Adidas Socks\", \"price\": 12, \"stock\": 30, \"category\": \"clothing\"},\n",
    "    {\"product\": \"Yeezy Boost\", \"price\": 300, \"stock\": 0, \"category\": \"shoes\"}\n",
    "]\n",
    "\n",
    "with open(\"store_data.json\", \"w\") as f:\n",
    "    json.dump(inventory, f, indent=2)\n"
   ],
   "id": "d1e1e4445549021a",
   "outputs": [],
   "execution_count": 25
  },
  {
   "metadata": {},
   "cell_type": "markdown",
   "source": [
    "### 🧠 Step 3: Pipeline Functions (No More Toy Code)\n",
    "1. Load JSON data"
   ],
   "id": "d97a5421c391ab44"
  },
  {
   "metadata": {
    "ExecuteTime": {
     "end_time": "2025-04-01T01:04:24.371658Z",
     "start_time": "2025-04-01T01:04:24.369156Z"
    }
   },
   "cell_type": "code",
   "source": [
    "@track_time\n",
    "def load_data(file_path):\n",
    "    with open(file_path, \"r\") as f:\n",
    "        return json.load(f)\n"
   ],
   "id": "84852ded8da7e5dc",
   "outputs": [],
   "execution_count": 26
  },
  {
   "metadata": {},
   "cell_type": "markdown",
   "source": "### 2. Filter only in-stock items",
   "id": "acca157ce67e24a"
  },
  {
   "metadata": {
    "ExecuteTime": {
     "end_time": "2025-04-01T01:04:25.619481Z",
     "start_time": "2025-04-01T01:04:25.616712Z"
    }
   },
   "cell_type": "code",
   "source": [
    "@track_time\n",
    "def filter_in_stock(products):\n",
    "    return list(filter(lambda item: item[\"stock\"] > 0, products))\n"
   ],
   "id": "7039419607d7ad19",
   "outputs": [],
   "execution_count": 27
  },
  {
   "metadata": {},
   "cell_type": "markdown",
   "source": "### 3. Get top expensive items (sorted)",
   "id": "1308de6fb4f5a68"
  },
  {
   "metadata": {
    "ExecuteTime": {
     "end_time": "2025-04-01T01:04:26.855609Z",
     "start_time": "2025-04-01T01:04:26.851900Z"
    }
   },
   "cell_type": "code",
   "source": [
    "@track_time\n",
    "def get_top_expensive(products, top_n=3):\n",
    "    return sorted(products, key=lambda x: x[\"price\"], reverse=True)[:top_n]\n"
   ],
   "id": "2d1c07e13755de55",
   "outputs": [],
   "execution_count": 28
  },
  {
   "metadata": {},
   "cell_type": "markdown",
   "source": "### 4. Calculate total inventory value",
   "id": "e6a30858a1bd9d5a"
  },
  {
   "metadata": {
    "ExecuteTime": {
     "end_time": "2025-04-01T01:04:27.918883Z",
     "start_time": "2025-04-01T01:04:27.915634Z"
    }
   },
   "cell_type": "code",
   "source": [
    "@track_time\n",
    "@log_to_file(\"inventory_value.txt\")\n",
    "def calculate_total_value(products):\n",
    "    total = sum(item[\"price\"] * item[\"stock\"] for item in products)\n",
    "    return f\"💰 Total Inventory Value: ${total}\"\n"
   ],
   "id": "5879ea79167e6cb1",
   "outputs": [],
   "execution_count": 29
  },
  {
   "metadata": {},
   "cell_type": "markdown",
   "source": "### 🚀 Final Run: Real Flow, Real Functions",
   "id": "a1ad4b58e9d7316a"
  },
  {
   "metadata": {
    "ExecuteTime": {
     "end_time": "2025-04-01T01:04:29.354976Z",
     "start_time": "2025-04-01T01:04:29.348763Z"
    }
   },
   "cell_type": "code",
   "source": [
    "# Load data\n",
    "products = load_data(\"store_data.json\")\n",
    "\n",
    "# Clean/Filter\n",
    "available_products = filter_in_stock(products)\n",
    "\n",
    "# Analyze\n",
    "top_items = get_top_expensive(available_products)\n",
    "print(\"🔥 Top Expensive Products In Stock:\")\n",
    "for item in top_items:\n",
    "    print(f\"- {item['product']} (${item['price']})\")\n",
    "\n",
    "# Summarize\n",
    "calculate_total_value(available_products)\n"
   ],
   "id": "6184aaa0f99bf6b4",
   "outputs": [
    {
     "name": "stdout",
     "output_type": "stream",
     "text": [
      "⏱️  Starting: load_data\n",
      "✅ Done: load_data in 0.0009 sec\n",
      "\n",
      "⏱️  Starting: filter_in_stock\n",
      "✅ Done: filter_in_stock in 0.0000 sec\n",
      "\n",
      "⏱️  Starting: get_top_expensive\n",
      "✅ Done: get_top_expensive in 0.0000 sec\n",
      "\n",
      "🔥 Top Expensive Products In Stock:\n",
      "- Jordan 1 ($200)\n",
      "- Air Max 90 ($120)\n",
      "- Nike Hoodie ($60)\n",
      "⏱️  Starting: calculate_total_value\n",
      "✅ Done: calculate_total_value in 0.0012 sec\n",
      "\n"
     ]
    },
    {
     "data": {
      "text/plain": [
       "'💰 Total Inventory Value: $1960'"
      ]
     },
     "execution_count": 30,
     "metadata": {},
     "output_type": "execute_result"
    }
   ],
   "execution_count": 30
  },
  {
   "metadata": {},
   "cell_type": "markdown",
   "source": [
    "## 🧠 Challenge: “Who Run It?”\n",
    "You got a JSON file called artists.json with info about up-and-coming music artists. Each artist has:\n",
    "\n",
    "* name\n",
    "\n",
    "* city\n",
    "\n",
    "* monthly_listeners (in thousands)\n",
    "\n",
    "* verified (True or False)\n",
    "\n",
    "Here’s the file (you’ll create this first):\n",
    "\n",
    "### 📁 artists.json"
   ],
   "id": "865aea45e8811876"
  },
  {
   "metadata": {
    "ExecuteTime": {
     "end_time": "2025-04-01T01:04:30.091638Z",
     "start_time": "2025-04-01T01:04:30.087988Z"
    }
   },
   "cell_type": "code",
   "source": [
    "import json\n",
    "\n",
    "artists = [\n",
    "    {\"name\": \"Lil Codey\", \"city\": \"Brooklyn\", \"monthly_listeners\": 95, \"verified\": True},\n",
    "    {\"name\": \"Data B\", \"city\": \"Chicago\", \"monthly_listeners\": 40, \"verified\": False},\n",
    "    {\"name\": \"AI-nna\", \"city\": \"Atlanta\", \"monthly_listeners\": 120, \"verified\": True},\n",
    "    {\"name\": \"Buggy D\", \"city\": \"Detroit\", \"monthly_listeners\": 15, \"verified\": False},\n",
    "    {\"name\": \"Stackz\", \"city\": \"Houston\", \"monthly_listeners\": 85, \"verified\": True}\n",
    "]\n",
    "\n",
    "with open(\"artists.json\", \"w\") as f:\n",
    "    json.dump(artists, f, indent=2)\n"
   ],
   "id": "8a6b619186e0b62d",
   "outputs": [],
   "execution_count": 31
  },
  {
   "metadata": {},
   "cell_type": "markdown",
   "source": [
    "### 🧪 Your Task:\n",
    "Write a pipeline that:\n",
    "\n",
    "* Loads the data from artists.json 📥\n",
    "\n",
    "* Filters for verified artists only using `filter()` ✅\n",
    "\n",
    "* Sorts the artists by monthly_listeners using `sorted()` 📊\n",
    "\n",
    "* Finds the top artist using `max()` 👑\n",
    "\n",
    "* Logs the top artist's name and stats to `top_artist_log.txt` using a custom decorator 📓\n",
    "\n",
    "* Use a second decorator to log the runtime of each stage ⏱️\n",
    "\n",
    "### 💬 Rules:\n",
    "* You must use decorators on your functions\n",
    "\n",
    "* One of your decorators must use a closure to remember the log file name\n",
    "\n",
    "* Your functions should take artists as input and return results (don’t use globals)\n",
    "\n",
    "* Print the sorted list and the top artist's name to the screen too\n",
    "\n"
   ],
   "id": "3ab9c4b09d4a7680"
  },
  {
   "metadata": {},
   "cell_type": "markdown",
   "source": "1. Load the data from artists.json",
   "id": "3f1ca6c0b42d7d8d"
  },
  {
   "metadata": {
    "ExecuteTime": {
     "end_time": "2025-04-01T01:04:31.219544Z",
     "start_time": "2025-04-01T01:04:31.216982Z"
    }
   },
   "cell_type": "code",
   "source": [
    "@track_time\n",
    "def load_data(file_path):\n",
    "    with open(file_path, \"r\") as f:\n",
    "        return json.load(f)"
   ],
   "id": "a95d6fc0fb1c0e95",
   "outputs": [],
   "execution_count": 32
  },
  {
   "metadata": {},
   "cell_type": "markdown",
   "source": "2. Filter for verified artists only using `filter()`",
   "id": "919d1f38cfe5726f"
  },
  {
   "metadata": {
    "ExecuteTime": {
     "end_time": "2025-04-01T01:04:32.033700Z",
     "start_time": "2025-04-01T01:04:32.031396Z"
    }
   },
   "cell_type": "code",
   "source": [
    "@track_time\n",
    "def filter_verified_artist(artists):\n",
    "    return list(filter(lambda artist: artist[\"verified\"] == True, artists))\n"
   ],
   "id": "9e002da1791fb84b",
   "outputs": [],
   "execution_count": 33
  },
  {
   "metadata": {},
   "cell_type": "markdown",
   "source": "3. Sorts the artists by monthly_listeners using `sorted()`",
   "id": "88999c3de53935c4"
  },
  {
   "metadata": {
    "ExecuteTime": {
     "end_time": "2025-04-01T01:04:32.893029Z",
     "start_time": "2025-04-01T01:04:32.890984Z"
    }
   },
   "cell_type": "code",
   "source": [
    "@track_time\n",
    "def sort_artists(artists):\n",
    "    return sorted(artists, key= lambda x: x[\"monthly_listeners\"], reverse=True)\n"
   ],
   "id": "d76b5034f6bf812f",
   "outputs": [],
   "execution_count": 34
  },
  {
   "metadata": {},
   "cell_type": "markdown",
   "source": "4. Finds the top artist using `max()`",
   "id": "c82b96dd080468a4"
  },
  {
   "metadata": {
    "ExecuteTime": {
     "end_time": "2025-04-01T01:04:33.750455Z",
     "start_time": "2025-04-01T01:04:33.748241Z"
    }
   },
   "cell_type": "code",
   "source": [
    "@track_time\n",
    "def top_artist(artists):\n",
    "    top = max(artists, key=lambda x: x[\"monthly_listeners\"])\n",
    "    return top"
   ],
   "id": "6e3c67a0c8477bc6",
   "outputs": [],
   "execution_count": 35
  },
  {
   "metadata": {
    "ExecuteTime": {
     "end_time": "2025-04-01T01:04:34.190618Z",
     "start_time": "2025-04-01T01:04:34.188695Z"
    }
   },
   "cell_type": "code",
   "source": "",
   "id": "40436f204036ca49",
   "outputs": [],
   "execution_count": null
  },
  {
   "metadata": {},
   "cell_type": "markdown",
   "source": "5. Logs the top artist's name and stats to `top_artist_log.txt` using a custom decorator",
   "id": "8f4baa379aa5e52c"
  },
  {
   "metadata": {
    "ExecuteTime": {
     "end_time": "2025-04-01T01:04:35.106495Z",
     "start_time": "2025-04-01T01:04:35.103822Z"
    }
   },
   "cell_type": "code",
   "source": [
    "@track_time\n",
    "@log_to_file(\"top_artist_log.txt\")\n",
    "def show_field_top(artist):\n",
    "    name = artist[\"name\"]\n",
    "    city = artist[\"city\"]\n",
    "    listeners = artist[\"monthly_listeners\"]\n",
    "    return f\"🎤 {name} from {city} has {listeners}K monthly listeners\"\n",
    "\n"
   ],
   "id": "399317729482d67e",
   "outputs": [],
   "execution_count": 36
  },
  {
   "metadata": {
    "ExecuteTime": {
     "end_time": "2025-04-01T01:04:35.589389Z",
     "start_time": "2025-04-01T01:04:35.584902Z"
    }
   },
   "cell_type": "code",
   "source": [
    "artists = load_data(\"artists.json\")\n",
    "verified = filter_verified_artist(artists)\n",
    "sorted_list = sort_artists(verified)\n",
    "top = top_artist(sorted_list)\n",
    "show_field_top(top)\n"
   ],
   "id": "e29c3e09be89fa36",
   "outputs": [
    {
     "name": "stdout",
     "output_type": "stream",
     "text": [
      "⏱️  Starting: load_data\n",
      "✅ Done: load_data in 0.0008 sec\n",
      "\n",
      "⏱️  Starting: filter_verified_artist\n",
      "✅ Done: filter_verified_artist in 0.0000 sec\n",
      "\n",
      "⏱️  Starting: sort_artists\n",
      "✅ Done: sort_artists in 0.0000 sec\n",
      "\n",
      "⏱️  Starting: top_artist\n",
      "✅ Done: top_artist in 0.0000 sec\n",
      "\n",
      "⏱️  Starting: show_field_top\n",
      "✅ Done: show_field_top in 0.0007 sec\n",
      "\n"
     ]
    },
    {
     "data": {
      "text/plain": [
       "'🎤 AI-nna from Atlanta has 120K monthly listeners'"
      ]
     },
     "execution_count": 37,
     "metadata": {},
     "output_type": "execute_result"
    }
   ],
   "execution_count": 37
  },
  {
   "metadata": {},
   "cell_type": "markdown",
   "source": [
    "## 🎯 1. Core Concepts You Gotta Know Cold\n",
    "### ✅ Decorators\n",
    "* What they are: **Functions that modify other functions**\n",
    "\n",
    "* Syntax: `@decorator_name`\n",
    "\n",
    "* Use cases: **logging, timing, caching, access control, error catching**\n",
    "\n",
    "* Stacking decorators (order matters)\n",
    "\n",
    "* How to write your own:\n",
    "\n",
    "    - Simple decorator with no arguments\n",
    "\n",
    "    - Decorator that takes arguments (needs a closure)\n",
    "\n",
    "### ✅ Closures\n",
    "* What they are: **Inner functions that remember variables from the outer scope**\n",
    "\n",
    "* Closures are how **decorators with arguments work**\n",
    "\n",
    "* Useful for **memoization**, dynamic function factories, and decorators\n",
    "\n",
    "### ✅ Memoization\n",
    "* Saving the results of expensive function calls\n",
    "\n",
    "* Built-in: `@lru_cache` from `functools`\n",
    "\n",
    "* Use it to avoid recalculating the same inputs (like in recursion)\n",
    "\n",
    "* Know how to **write a simple custom memoizer** (like using a `dict`)\n",
    "\n",
    "## 🧪 Code You Should Be Able to Write by Hand\n",
    "\n",
    "Here’s your **decorator toolbox** you should know how to build from scratch:\n",
    "\n",
    "### 🧱 1. Basic Decorator Without Args\n",
    "\n",
    "\n"
   ],
   "id": "6920d9a431920673"
  },
  {
   "metadata": {
    "ExecuteTime": {
     "end_time": "2025-04-01T01:04:36.476503Z",
     "start_time": "2025-04-01T01:04:36.474110Z"
    }
   },
   "cell_type": "code",
   "source": [
    "from functools import wraps\n",
    "\n",
    "def shout(func):\n",
    "    @wraps(func)\n",
    "    def wrapper(*args, **kwargs):\n",
    "        print(\"YO!\")\n",
    "        return func(*args, **kwargs)\n",
    "    return wrapper\n"
   ],
   "id": "e35f05dfbc537607",
   "outputs": [],
   "execution_count": 38
  },
  {
   "metadata": {},
   "cell_type": "markdown",
   "source": "Use:",
   "id": "dad1ca04de9e3311"
  },
  {
   "metadata": {
    "ExecuteTime": {
     "end_time": "2025-04-01T01:04:37.314680Z",
     "start_time": "2025-04-01T01:04:37.312621Z"
    }
   },
   "cell_type": "code",
   "source": [
    "@shout\n",
    "def say_hello():\n",
    "    print(\"hello\")\n"
   ],
   "id": "b72c203fdc5688f",
   "outputs": [],
   "execution_count": 39
  },
  {
   "metadata": {
    "ExecuteTime": {
     "end_time": "2025-04-01T01:04:37.740915Z",
     "start_time": "2025-04-01T01:04:37.738231Z"
    }
   },
   "cell_type": "code",
   "source": [
    "@shout\n",
    "def say_hello():\n",
    "    print(\"hello\")\n"
   ],
   "id": "90133be4f3b18540",
   "outputs": [],
   "execution_count": 40
  },
  {
   "metadata": {},
   "cell_type": "markdown",
   "source": "### 🧱 2. Decorator WITH Arguments (Closure Style)",
   "id": "46d4533273266ce2"
  },
  {
   "metadata": {
    "ExecuteTime": {
     "end_time": "2025-04-01T01:04:38.718146Z",
     "start_time": "2025-04-01T01:04:38.715116Z"
    }
   },
   "cell_type": "code",
   "source": [
    "def log_to_file(filename):\n",
    "    def decorator(func):\n",
    "        @wraps(func)\n",
    "        def wrapper(*args, **kwargs):\n",
    "            result = func(*args, **kwargs)\n",
    "            with open(filename, \"a\") as f:\n",
    "                f.write(f\"{func.__name__} returned {result}\\n\")\n",
    "            return result\n",
    "        return wrapper\n",
    "    return decorator\n"
   ],
   "id": "221135c45e5c0988",
   "outputs": [],
   "execution_count": 41
  },
  {
   "metadata": {},
   "cell_type": "markdown",
   "source": "Use:",
   "id": "faf77578aa26d79d"
  },
  {
   "metadata": {
    "ExecuteTime": {
     "end_time": "2025-04-01T01:04:39.756331Z",
     "start_time": "2025-04-01T01:04:39.754141Z"
    }
   },
   "cell_type": "code",
   "source": [
    "@log_to_file(\"results.txt\")\n",
    "def add(x, y):\n",
    "    return x + y\n"
   ],
   "id": "15b9737dc7edce45",
   "outputs": [],
   "execution_count": 42
  },
  {
   "metadata": {},
   "cell_type": "markdown",
   "source": "### 🧱 3. Custom Memoizer with Closure",
   "id": "f519b1e64fbfef92"
  },
  {
   "metadata": {
    "ExecuteTime": {
     "end_time": "2025-04-01T01:04:40.831112Z",
     "start_time": "2025-04-01T01:04:40.828243Z"
    }
   },
   "cell_type": "code",
   "source": [
    "def memoize(func):\n",
    "    cache = {}\n",
    "    @wraps(func)\n",
    "    def wrapper(x):\n",
    "        if x in cache:\n",
    "            return cache[x]\n",
    "        result = func(x)\n",
    "        cache[x] = result\n",
    "        return result\n",
    "    return wrapper\n"
   ],
   "id": "38e41281f431b97c",
   "outputs": [],
   "execution_count": 43
  },
  {
   "metadata": {},
   "cell_type": "markdown",
   "source": "Use:",
   "id": "9a42edc3039a543f"
  },
  {
   "metadata": {
    "ExecuteTime": {
     "end_time": "2025-04-01T01:04:41.771744Z",
     "start_time": "2025-04-01T01:04:41.769605Z"
    }
   },
   "cell_type": "code",
   "source": [
    "@memoize\n",
    "def fib(n):\n",
    "    if n < 2:\n",
    "        return n\n",
    "    return fib(n-1) + fib(n-2)"
   ],
   "id": "98862c62589c9778",
   "outputs": [],
   "execution_count": 44
  },
  {
   "metadata": {},
   "cell_type": "markdown",
   "source": "Also learn:",
   "id": "2b6d9619b73f0fa9"
  },
  {
   "metadata": {
    "ExecuteTime": {
     "end_time": "2025-04-01T01:04:43.383052Z",
     "start_time": "2025-04-01T01:04:43.380045Z"
    }
   },
   "cell_type": "code",
   "source": [
    "from functools import lru_cache\n",
    "@lru_cache(maxsize=None)\n",
    "def fib(n): ...\n"
   ],
   "id": "c19362afe77d7e13",
   "outputs": [],
   "execution_count": 45
  },
  {
   "metadata": {},
   "cell_type": "markdown",
   "source": "### 🧱 4. Error Handling Decorator",
   "id": "246b4a78704237cb"
  },
  {
   "metadata": {
    "ExecuteTime": {
     "end_time": "2025-04-01T01:04:44.725583Z",
     "start_time": "2025-04-01T01:04:44.722241Z"
    }
   },
   "cell_type": "code",
   "source": [
    "def catch_errors(func):\n",
    "    @wraps(func)\n",
    "    def wrapper(*args, **kwargs):\n",
    "        try:\n",
    "            return func(*args, **kwargs)\n",
    "        except Exception as e:\n",
    "            print(f\"❌ Error in {func.__name__}: {e}\")\n",
    "    return wrapper\n"
   ],
   "id": "c1970713586602ce",
   "outputs": [],
   "execution_count": 46
  },
  {
   "metadata": {},
   "cell_type": "markdown",
   "source": [
    "## 📋 Checklist for Code Exams\n",
    "Here's what a hiring manager or test is actually testing with these:\n",
    "\n",
    "| Concept         | What You Should Know                                     |\n",
    "|----------------|----------------------------------------------------------|\n",
    "| Decorators      | Be able to explain and write a basic one                |\n",
    "| Closures        | Show how outer variables get \"remembered\"               |\n",
    "| Memoization     | Show how it avoids recomputing values                   |\n",
    "| Functional tools| Know how to use `filter()`, `map()`, `reduce()`, `sorted()` |\n",
    "| Syntax mastery  | Understand and use `*args`, `**kwargs`, `@wraps`        |\n",
    "| Behavior        | Be able to explain the before/after effect clearly      |\n"
   ],
   "id": "366fc846a23efca"
  },
  {
   "metadata": {},
   "cell_type": "markdown",
   "source": [
    "## 🧠 Mental Models to Practice\n",
    "* A **closure** is a function with **memory**\n",
    "\n",
    "* A **decorator** is a function with a disguise\n",
    "\n",
    "* **Memoization** is a function with a **notebook**"
   ],
   "id": "7ca6dddcc7c18f4c"
  },
  {
   "metadata": {},
   "cell_type": "markdown",
   "source": [
    "### Let's try the following:\n",
    "Write a decorator that logs how many times a function has been called."
   ],
   "id": "dcc3fcdbb26ca7b0"
  },
  {
   "metadata": {
    "ExecuteTime": {
     "end_time": "2025-04-01T01:04:46.718880Z",
     "start_time": "2025-04-01T01:04:46.715126Z"
    }
   },
   "cell_type": "code",
   "source": [
    "def times_called():\n",
    "    call_count = {}\n",
    "\n",
    "    def decorator(func):\n",
    "        @wraps(func)\n",
    "        def wrapper(*args, **kwargs):\n",
    "            name = func.__name__\n",
    "            call_count[name] = call_count.get(name, 0) + 1\n",
    "            print(f\" {name} has been called {call_count[name]} times.\")\n",
    "            return func(*args, **kwargs)\n",
    "        return wrapper\n",
    "    return decorator\n",
    "\n",
    "@times_called()\n",
    "def say_hi():\n",
    "    print(\"Hey!\")\n",
    "\n",
    "say_hi()\n",
    "say_hi()\n",
    "\n"
   ],
   "id": "7e5976eab18ad75b",
   "outputs": [
    {
     "name": "stdout",
     "output_type": "stream",
     "text": [
      " say_hi has been called 1 times.\n",
      "Hey!\n",
      " say_hi has been called 2 times.\n",
      "Hey!\n"
     ]
    }
   ],
   "execution_count": 47
  },
  {
   "metadata": {},
   "cell_type": "markdown",
   "source": [
    "## Problem 2\n",
    "Write a memoized version of a factorial() function without using lru_cache."
   ],
   "id": "e461f544a50ceaa6"
  },
  {
   "metadata": {
    "ExecuteTime": {
     "end_time": "2025-04-01T01:04:47.322591Z",
     "start_time": "2025-04-01T01:04:47.320857Z"
    }
   },
   "cell_type": "code",
   "source": "",
   "id": "e50181f066f04877",
   "outputs": [],
   "execution_count": null
  },
  {
   "metadata": {
    "ExecuteTime": {
     "end_time": "2025-04-01T01:04:47.713273Z",
     "start_time": "2025-04-01T01:04:47.711614Z"
    }
   },
   "cell_type": "code",
   "source": "",
   "id": "7a1144dc0aa8f382",
   "outputs": [],
   "execution_count": null
  },
  {
   "metadata": {},
   "cell_type": "code",
   "outputs": [],
   "execution_count": null,
   "source": "",
   "id": "ee8fdac7b35f8df"
  }
 ],
 "metadata": {
  "kernelspec": {
   "display_name": "Python 3",
   "language": "python",
   "name": "python3"
  },
  "language_info": {
   "codemirror_mode": {
    "name": "ipython",
    "version": 2
   },
   "file_extension": ".py",
   "mimetype": "text/x-python",
   "name": "python",
   "nbconvert_exporter": "python",
   "pygments_lexer": "ipython2",
   "version": "2.7.6"
  }
 },
 "nbformat": 4,
 "nbformat_minor": 5
}
