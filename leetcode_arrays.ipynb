{
 "cells": [
  {
   "metadata": {},
   "cell_type": "markdown",
   "source": [
    "## Two Pointers\n",
    "Start the pointers at the edges of the input. Move them towards each other until they meet.\n",
    "This algorithm is very efficient as not only does it run in $O(n)$ in time, but $O(1)$ in space.\n"
   ],
   "id": "44269dbf62fa3d96"
  },
  {
   "metadata": {},
   "cell_type": "markdown",
   "source": "### Palindrome",
   "id": "7b0e28018ef534ba"
  },
  {
   "cell_type": "code",
   "id": "initial_id",
   "metadata": {
    "collapsed": true,
    "ExecuteTime": {
     "end_time": "2025-04-18T20:14:33.837161Z",
     "start_time": "2025-04-18T20:14:33.830594Z"
    }
   },
   "source": [
    "s = \"madam\"\n",
    "\n",
    "def check(s):\n",
    "\n",
    "    left = 0\n",
    "    right = len(s) -1\n",
    "\n",
    "    while left < right:\n",
    "        if s[left] != s[right]:\n",
    "            return False\n",
    "        left += 1\n",
    "        right -= 1\n",
    "    return True\n",
    "\n",
    "print(check(s))\n"
   ],
   "outputs": [
    {
     "name": "stdout",
     "output_type": "stream",
     "text": [
      "True\n"
     ]
    }
   ],
   "execution_count": 1
  },
  {
   "metadata": {},
   "cell_type": "markdown",
   "source": [
    "## Arrays- 2 pointer- array must be sorted\n",
    "**Example 2**: Given a **sorted** array of unique integers and a target integer, return true if there exists a pair of numbers that sum to target, false otherwise. This problem is similar to Two Sum. (In Two Sum, the input is not sorted).\n",
    "\n"
   ],
   "id": "cb401716e3a43f3c"
  },
  {
   "metadata": {
    "ExecuteTime": {
     "end_time": "2025-04-18T20:25:09.290564Z",
     "start_time": "2025-04-18T20:25:09.276578Z"
    }
   },
   "cell_type": "code",
   "source": [
    "nums = [1, 2, 4, 6, 8, 9, 14, 15]\n",
    "target = 13\n",
    "\n",
    "def check_for_target(nums, target):\n",
    "    left = 0\n",
    "    right = len(nums) - 1\n",
    "\n",
    "    while left < right:\n",
    "        # curr is the current sum\n",
    "        curr = nums[left] + nums[right]\n",
    "        if curr == target:\n",
    "            return True\n",
    "        if curr > target:\n",
    "            right -= 1\n",
    "        else:\n",
    "            left += 1\n",
    "\n",
    "    return False\n",
    "\n",
    "check_for_target(nums, target)\n"
   ],
   "id": "8da2b532c8c1455a",
   "outputs": [
    {
     "data": {
      "text/plain": [
       "True"
      ]
     },
     "execution_count": 3,
     "metadata": {},
     "output_type": "execute_result"
    }
   ],
   "execution_count": 3
  },
  {
   "metadata": {},
   "cell_type": "markdown",
   "source": "## Sorting 2 sorted arrays into one sorted array",
   "id": "9547847420594ed6"
  },
  {
   "metadata": {
    "ExecuteTime": {
     "end_time": "2025-04-18T20:32:28.705943Z",
     "start_time": "2025-04-18T20:32:28.692037Z"
    }
   },
   "cell_type": "code",
   "source": [
    "arr1 = [1, 4, 7, 20]\n",
    "arr2 = [3, 5, 6, 21, 23]\n",
    "\n",
    "def sort_arrays(arr1, arr2):\n",
    "    ans = []\n",
    "    i = 0\n",
    "    j = 0\n",
    "    # here we do the sorting\n",
    "    while i < len(arr1) and j < len(arr2):\n",
    "        if arr1[i] < arr2[j]:\n",
    "            ans.append(arr1[i])\n",
    "            i += 1\n",
    "        else:\n",
    "            ans.append(arr2[j])\n",
    "            j += 1\n",
    "    # if anything is left over, just append whichever elements are left in which array is longer\n",
    "    while i < len(arr1):\n",
    "        ans.append(arr1[i])\n",
    "        i += 1\n",
    "    while j < len(arr2):\n",
    "        ans.append(arr2[j])\n",
    "        j += 1\n",
    "\n",
    "    return ans\n",
    "\n",
    "\n",
    "sort_arrays(arr1, arr2)\n",
    "\n",
    "\n"
   ],
   "id": "eb00029d800b8ce6",
   "outputs": [
    {
     "data": {
      "text/plain": [
       "[1, 3, 4, 5, 6, 7, 20, 21, 23]"
      ]
     },
     "execution_count": 4,
     "metadata": {},
     "output_type": "execute_result"
    }
   ],
   "execution_count": 4
  },
  {
   "metadata": {},
   "cell_type": "markdown",
   "source": [
    "## Find if one string is a subsequence of another string\n",
    "In this problem, we need to check if the characters of `s` appear in the same order in `t`, with gaps allowed. For example, \"ace\" is a subsequence of \"abcde\" because \"abcde\" contains the letters \"ace\" in that same order - the fact that they aren't consecutive doesn't matter.\n",
    "\n",
    "We can use two pointers to solve this in linear time. If we find that `s[i] == t[j]`, that means we \"found\" the letter at position `i` for `s`, and we can move on to the next one by incrementing `i`. We should increment `j` at each iteration no matter what (which means we could also implement this algorithm using `a` for loop). `s` is a subsequence of `t` if we can \"find\" all the letters of `s`, which means that `i == s`.length at the end of the algorithm."
   ],
   "id": "9d721bc38b8e8125"
  },
  {
   "metadata": {
    "ExecuteTime": {
     "end_time": "2025-04-10T20:44:32.864383Z",
     "start_time": "2025-04-10T20:44:32.859734Z"
    }
   },
   "cell_type": "code",
   "source": [
    "s = \"acde\"\n",
    "t = \"abcde\"\n",
    "\n",
    "def subsequence(s, t):\n",
    "    i = j = 0\n",
    "    while i < len(s) and j < len(t):\n",
    "        if s[i] == t[j]:\n",
    "            i += 1\n",
    "        j += 1\n",
    "    return i == len(s)\n",
    "\n",
    "subsequence(s, t)\n"
   ],
   "id": "10030550dc3a4418",
   "outputs": [
    {
     "data": {
      "text/plain": [
       "True"
      ]
     },
     "execution_count": 6,
     "metadata": {},
     "output_type": "execute_result"
    }
   ],
   "execution_count": 6
  },
  {
   "metadata": {},
   "cell_type": "markdown",
   "source": [
    "### Write a function that reverses a string. The input string is given as an array of characters s.\n",
    "\n",
    "You must do this by modifying the input array in-place with O(1) extra memory.\n",
    "\n",
    "example 1:\n",
    "```\n",
    "Input: s = [\"h\",\"e\",\"l\",\"l\",\"o\"]\n",
    "Output: [\"o\",\"l\",\"l\",\"e\",\"h\"]\n",
    "```\n",
    "\n",
    "example 2:\n",
    "```\n",
    "Input: s = [\"H\",\"a\",\"n\",\"n\",\"a\",\"h\"]\n",
    "Output: [\"h\",\"a\",\"n\",\"n\",\"a\",\"H\"]\n",
    "```"
   ],
   "id": "f059e6750e08ca03"
  },
  {
   "metadata": {
    "ExecuteTime": {
     "end_time": "2025-04-14T00:30:00.302966Z",
     "start_time": "2025-04-14T00:30:00.297884Z"
    }
   },
   "cell_type": "code",
   "source": [
    "# Note, this is not O(1) memory\n",
    "s = [\"h\",\"e\",\"l\",\"l\",\"o\"]\n",
    "def reverse(s):\n",
    "    ans = []\n",
    "    l = 0\n",
    "    r = len(s) - 1\n",
    "    while r >= l:\n",
    "        ans.append(s[r])\n",
    "        r -= 1\n",
    "    return ans\n",
    "reverse(s)"
   ],
   "id": "5c99f012187724d1",
   "outputs": [
    {
     "data": {
      "text/plain": [
       "['o', 'l', 'l', 'e', 'h']"
      ]
     },
     "execution_count": 4,
     "metadata": {},
     "output_type": "execute_result"
    }
   ],
   "execution_count": 4
  },
  {
   "metadata": {
    "ExecuteTime": {
     "end_time": "2025-04-14T00:30:05.106919Z",
     "start_time": "2025-04-14T00:30:05.101820Z"
    }
   },
   "cell_type": "code",
   "source": [
    "s = [\"H\",\"a\",\"n\",\"n\",\"a\",\"h\"]\n",
    "def reverse(s):\n",
    "    ans = []\n",
    "    l = 0\n",
    "    r = len(s) - 1\n",
    "    while r >= l:\n",
    "        ans.append(s[r])\n",
    "        r -= 1\n",
    "    return ans\n",
    "reverse(s)"
   ],
   "id": "97f8c7fe01f9ac8b",
   "outputs": [
    {
     "data": {
      "text/plain": [
       "['h', 'a', 'n', 'n', 'a', 'H']"
      ]
     },
     "execution_count": 5,
     "metadata": {},
     "output_type": "execute_result"
    }
   ],
   "execution_count": 5
  },
  {
   "metadata": {},
   "cell_type": "markdown",
   "source": "### However, the code says it must be modified *in-place*",
   "id": "1275f2ffff67c623"
  },
  {
   "metadata": {
    "ExecuteTime": {
     "end_time": "2025-04-14T00:30:12.896286Z",
     "start_time": "2025-04-14T00:30:12.892249Z"
    }
   },
   "cell_type": "code",
   "source": [
    "s = [\"H\",\"a\",\"n\",\"n\",\"a\",\"h\"]\n",
    "def reverse(s):\n",
    "    l, r = 0, len(s) - 1\n",
    "    while l < r:\n",
    "        s[l], s[r] = s[r], s[l]\n",
    "        l += 1\n",
    "        r -= 1\n",
    "    return s\n",
    "print(reverse(s))"
   ],
   "id": "be23827338ec8269",
   "outputs": [
    {
     "name": "stdout",
     "output_type": "stream",
     "text": [
      "['h', 'a', 'n', 'n', 'a', 'H']\n"
     ]
    }
   ],
   "execution_count": 6
  },
  {
   "metadata": {},
   "cell_type": "markdown",
   "source": [
    "## Subarrays\n",
    "\n",
    "### find the longest subarray\n",
    "*Remember* we're just trying to check the longest subarray <= k\n",
    "this part:\n",
    "`    ans = max(ans, right - left + 1)`\n",
    "**Each time your window is valid (i.e. sum ≤ k), you check if it’s the biggest valid window you’ve seen so far.**\n",
    "\n",
    "#### ⚠️ Why doesn’t it check for sum == k?\n",
    "Because it's not about finding exactly k. It's about finding the longest subarray where the sum is less than or equal to k.\n",
    "\n",
    "That’s why:\n",
    "\n",
    "* It lets the sum go up (`curr += nums[right]`)\n",
    "\n",
    "* But pulls it back once it gets too big (curr > k)\n",
    "\n",
    "* And keeps track of how long it can keep that window legally open\n",
    "\n"
   ],
   "id": "a4a14d6db4f90f13"
  },
  {
   "metadata": {
    "ExecuteTime": {
     "end_time": "2025-04-16T18:39:54.354078Z",
     "start_time": "2025-04-16T18:39:54.345859Z"
    }
   },
   "cell_type": "code",
   "source": [
    "nums = [3, 1, 2, 7, 4, 2, 1, 1, 5]\n",
    "k = 8\n",
    "\n",
    "def find_length(nums, k):\n",
    "    left = 0\n",
    "    curr = 0\n",
    "    ans = 0\n",
    "    for right in range(len(nums)):\n",
    "        curr += nums[right]\n",
    "        while curr > k:\n",
    "            curr -= nums[left]\n",
    "            left += 1\n",
    "        ans = max(ans, right - left + 1) # here the max function can store the sought value\n",
    "\n",
    "    return ans\n",
    "\n",
    "find_length(nums, k)\n",
    "\n",
    "\n",
    "\n"
   ],
   "id": "6b7fe1d199f5fa3d",
   "outputs": [
    {
     "data": {
      "text/plain": [
       "4"
      ]
     },
     "execution_count": 1,
     "metadata": {},
     "output_type": "execute_result"
    }
   ],
   "execution_count": 1
  },
  {
   "metadata": {},
   "cell_type": "markdown",
   "source": [
    "## Number of subarrays\n",
    "If a problem asks for the number of subarrays that fit some constraint, we can still use sliding window, but we need to use a **neat math trick** to calculate the number of subarrays.\n",
    "\n",
    "Let's say that we are using the sliding window algorithm we have learned and currently have a window (`left, right`). How many valid windows end at index `right`?\n",
    "\n",
    "There's the current window (`left, right`), then (`left + 1`, `right`), (`left + 2`, `right`), and so on until (`right`, `right`) (only the element at `right`).\n",
    "\n",
    "You can fix the right bound and then choose any value between `left` and `right` inclusive for the left bound. Therefore, the number of valid windows ending at index `right` is equal to the size of the window, which we know is `right` - `left + 1`."
   ],
   "id": "a33e427e7c72a516"
  },
  {
   "metadata": {
    "ExecuteTime": {
     "end_time": "2025-04-14T00:24:00.446466Z",
     "start_time": "2025-04-14T00:24:00.440807Z"
    }
   },
   "cell_type": "code",
   "source": [
    "nums = [10, 5, 2, 6]\n",
    "k = 100\n",
    "\n",
    "def numSubarrayProductLessThanK(nums, k):\n",
    "    if k <= 1:  # Anything <= 1 is useless, can't have any positive product < 1\n",
    "        return 0\n",
    "\n",
    "    ans = 0          # total count of valid subarrays\n",
    "    left = 0         # left pointer\n",
    "    curr = 1         # current product of the window\n",
    "\n",
    "    for right in range(len(nums)):\n",
    "        curr *= nums[right]  # expand the window to the right\n",
    "\n",
    "        while curr >= k:     # if product too big\n",
    "            curr //= nums[left]  # shrink from the left\n",
    "            left += 1\n",
    "\n",
    "        ans += right - left + 1  # add all subarrays ending at right\n",
    "                                  # and starting from left to right\n",
    "    return ans\n",
    "\n",
    "numSubarrayProductLessThanK(nums, k)"
   ],
   "id": "95e258373686a4b",
   "outputs": [
    {
     "data": {
      "text/plain": [
       "8"
      ]
     },
     "execution_count": 3,
     "metadata": {},
     "output_type": "execute_result"
    }
   ],
   "execution_count": 3
  },
  {
   "metadata": {},
   "cell_type": "markdown",
   "source": [
    "runtime of $O(n)$\n",
    "\n",
    "$O(1)$ space"
   ],
   "id": "9a1a4d592dcb50f8"
  },
  {
   "metadata": {},
   "cell_type": "markdown",
   "source": [
    "## 🔑 First, What’s the Problem Saying?\n",
    "You got an array nums, and you need to count how many contiguous subarrays (subarrays = slices of the array, not just elements picked at random) have a **product** less than some number `k`.\n",
    "\n",
    "### 🧠 Two Pointer Pattern Mindset\n",
    "Here’s the concept that runs through most two pointer problems:\n",
    "\n",
    "> “Use two pointers to define a sliding window. Expand it with the right pointer, and shrink it with the left pointer until it satisfies some condition.”\n",
    "\n",
    "And remember:\n",
    "\n",
    "* Right pointer: expands the window.\n",
    "\n",
    "* Left pointer: shrinks the window when the condition is violated.\n",
    "\n",
    "**Keep this concept tight in your mind**. It’s all about maintaining a window that meets the rule, and adjusting when it don’t.\n",
    "\n",
    "## 💡 Key Concept: How Many Subarrays?\n",
    "For every window that ends at index `right` and starts anywhere from `left` to `right`, there are:\n",
    "`right - left + 1`\n",
    "valid subarrays.\n",
    "\n",
    "Why? Because:\n",
    "\n",
    "* [left]\n",
    "\n",
    "* [left, left+1]\n",
    "\n",
    "* ...\n",
    "\n",
    "* [left, ..., right]\n",
    "\n",
    "So instead of generating each subarray, you count how many are valid. That’s a common optimization in these kinds of problems.\n",
    "\n",
    "## 🔄 Visual Example\n",
    "Let’s say nums = [10, 5, 2, 6] and k = 100.\n",
    "\n",
    "We’re looking for subarrays whose product is < 100.\n",
    "\n",
    "Step by step:\n",
    "\n",
    "1. right = 0 → curr = 10 → product is < 100\n",
    "→ left = 0 → subarrays: [10] → count = 1\n",
    "\n",
    "2. right = 1 → curr = 10 * 5 = 50 < 100\n",
    "→ left = 0 → subarrays: [10, 5], [5] → count = 2 more → total = 3\n",
    "\n",
    "3. right = 2 → curr = 50 * 2 = 100 (not < 100)\n",
    "→ divide by nums[left] → curr = 100 / 10 = 10, left = 1\n",
    "→ product < 100 → subarrays: [5, 2], [2] → count = 2 more → total = 5\n",
    "\n",
    "4. right = 3 → curr = 10 * 6 = 60 < 100\n",
    "→ subarrays: [5,2,6], [2,6], [6] → 3 more → total = 8\n",
    "\n",
    "Answer = 8\n",
    "\n",
    "## 🧠 Rules to Remember for Two Pointer Problems\n",
    "Here’s what to keep in your toolkit across all problems like this:\n",
    "\n",
    "1. **Think Sliding Window**: Are you maintaining a subarray or substring that has some valid property?\n",
    "\n",
    "2. **Expand Right**: Let the right pointer explore.\n",
    "\n",
    "3. **Shrink Left When Needed**: When the window breaks the rule, shrink it from the left.\n",
    "\n",
    "4. **Count or Save**: Once your window is valid, either:\n",
    "\n",
    "    * Count how many subarrays it includes (like `right - left + 1`)\n",
    "\n",
    "    * Or store something based on the window\n",
    "\n",
    "5. **Window Invariant**: Keep a mental check on what your window must always satisfy. Here it’s: product < k\n",
    "\n",
    "### The line `curr //= nums[left]` is confusing, not intuitive\n",
    "Ohhh yeah, I feel you right there. That line `curr //= nums[left]` before left += 1 is sneaky, and it's a make-or-break detail for really understanding two pointer logic in sliding window problems involving **products** (not sums!).\n",
    "\n",
    "**Let’s break this down crystal clear:**\n",
    "### 🔁 That Whole While Loop:\n",
    "```\n",
    "while curr >= k:\n",
    "    curr //= nums[left]\n",
    "    left += 1\n",
    "```\n",
    "Let’s flip it and break it **step-by-step**, mentally.\n",
    "\n",
    "### 🧠 Why do we divide first, then move `left`?\n",
    "Because `nums[left]` is still inside the window.\n",
    "\n",
    "You’re saying:\n",
    "\n",
    "> \"This window is now invalid (curr >= k), so let me shrink it from the left. But to do that, I gotta actually take the leftmost number out of the product, then move the left pointer over.”\n",
    "\n",
    "So it's like:\n",
    "\n",
    "1. 🧮 “Divide out `nums[left]` because I’m about to remove it from the window”\n",
    "\n",
    "2. ➡️ “Now move the left pointer one step right”\n",
    "\n",
    "If you do `left += 1` before dividing, you’ve already moved past `nums[left]`, and now you don't know what you were supposed to divide by.\n",
    "\n",
    "It’s like throwing your receipt away before returning something. You gotta process the subtraction (or division) first, then move on.\n",
    "\n",
    "## 🔥 Analogy Mode\n",
    "Imagine your window is like a party in a room. The product of everyone’s vibe in the room gotta stay chill (less than `k`).\n",
    "\n",
    "1. When the party gets **too hype** (product too big), you gotta kick someone out.\n",
    "\n",
    "2. Who you kicking out? The leftmost dude (they been in the party longest).\n",
    "\n",
    "3. But you can’t just move the door `(left += 1)` and forget them—you gotta subtract their hype (i.e., divide their effect from the vibe counter) before they out the door.\n",
    "\n",
    "So:\n",
    "```\n",
    "curr //= nums[left]  # take the dude’s hype out\n",
    "left += 1            # now he’s officially out the party\n",
    "```\n",
    "### 🧪 Still Confused? Let’s Flip the Order (Wrong Way)\n",
    "Imagine this mistake:\n",
    "```\n",
    "left += 1\n",
    "curr //= nums[left]\n",
    "```\n",
    "Now you skipped over the element that needed to be removed from `curr` 😬\n",
    "\n",
    "That’s like *moving on* before cleaning up. You're now dividing by the wrong guy.\n",
    "\n",
    "### ✍️ Rule to Tattoo in Your Brain:\n",
    "> When shrinking a window: always undo the effect of the element at the left before moving left += 1.\n",
    "\n",
    "Same goes for:\n",
    "\n",
    "* Sums → subtract `nums[left]` first\n",
    "\n",
    "* Products → divide `nums[left]` first\n",
    "\n",
    "* Maps/counters → decrement/remove `nums[left]` first\n",
    "\n",
    "\n",
    "\n",
    "\n",
    "\n"
   ],
   "id": "3e5dea5abe8232f1"
  },
  {
   "metadata": {},
   "cell_type": "markdown",
   "source": [
    "## Fixed window size\n",
    "In the examples we looked at above, our window size was dynamic. We tried to expand it to the right as much as we could while keeping the window within some constraint and removed elements from the left when the constraint was violated. Sometimes, a problem will specify a **fixed** length `k`.\n",
    "\n",
    "These problems are easy because the difference between any two adjacent windows is only two elements (we add one element on the right and remove one element on the left to maintain the length).\n",
    "\n",
    "Start by building the first window (from index `0` to `k - 1`). Once we have a window of size `k`, if we add an element at index `i`, we need to remove the element at index `i - k`. For example, `k = 2` and you currently have elements at indices `[0, 1]`. Now, we add 2: `[0, 1, 2]`. To keep the window size at `k = 2`, we need to remove `2 - k = 0`: `[1, 2]`.\n",
    "\n"
   ],
   "id": "441feb8430c6453"
  },
  {
   "metadata": {},
   "cell_type": "markdown",
   "source": [
    "## Example 4: Given an integer array `nums` and an integer `k`, find the sum of the subarray with the largest sum whose length is `k`\n",
    "As we mentioned before, we can build a window of length `k` and then slide it along the array. Add and remove one element at a time to make sure the window stays size `k`. If we are adding the value at `i`, then we need to remove the value at `i - k`.\n",
    "\n",
    "After we build the first window we initialize our answer to `curr` to consider the first window's sum.\n",
    "\n",
    "\n"
   ],
   "id": "e019a278e1c557c5"
  },
  {
   "metadata": {
    "ExecuteTime": {
     "end_time": "2025-04-11T22:50:53.219928Z",
     "start_time": "2025-04-11T22:50:53.211426Z"
    }
   },
   "cell_type": "code",
   "source": [
    "nums =  [3, -1, 4, 12, -8, 5, 6]\n",
    "k = 4\n",
    "\n",
    "def best_subarray(nums, k):\n",
    "    curr = 0\n",
    "\n",
    "    # Build the first window of size k\n",
    "    for i in range(k):               # 👈 i = 0 to k-1\n",
    "        curr += nums[i]              # 👈 Add the first k elements into curr\n",
    "\n",
    "    ans = curr                       # 👈 This is our initial best sum\n",
    "\n",
    "    # Now slide the window across the rest of the array\n",
    "    for i in range(k, len(nums)):    # 👈 Start at index k, go to end\n",
    "        curr += nums[i]              # 👈 Add the new element (entering from the right)\n",
    "        curr -= nums[i - k]          # 👈 Subtract the one that's now out of the window (left side)\n",
    "        ans = max(ans, curr)         # 👈 Update the best sum if this one is better (Stored in max())\n",
    "\n",
    "    return ans                       # 👈 Return the best sum we found\n",
    "\n",
    "\n",
    "best_subarray(nums, k)"
   ],
   "id": "730ff5981377d7c0",
   "outputs": [
    {
     "data": {
      "text/plain": [
       "18"
      ]
     },
     "execution_count": 11,
     "metadata": {},
     "output_type": "execute_result"
    }
   ],
   "execution_count": 11
  },
  {
   "metadata": {},
   "cell_type": "markdown",
   "source": [
    "time complexity of\n",
    "$O(n)$, using\n",
    "\n",
    "$O(1)$ space."
   ],
   "id": "e57a362a2252ba13"
  },
  {
   "metadata": {},
   "cell_type": "markdown",
   "source": [
    "You need to find:\n",
    "\n",
    "> The largest sum of any contiguous subarray of length k.\n",
    "\n",
    "No resizing the window. No condition to check. Just:\n",
    "“Keep a window of size k and slide it across the array, tracking the best total sum.”\n",
    "\n",
    "### 🧠 Underlying Concept: Fixed-Length Sliding Window\n",
    "Let me hit you with the conceptual mindset:\n",
    "\n",
    "When you need to find something over a fixed-length window (like a sum of length k), you don’t need two pointers like left and right. You can just:\n",
    "\n",
    "> 1. Build the first window (size `k`)\n",
    "\n",
    " > 2. Slide it one element at a time:\n",
    "\n",
    "        * Add new element\n",
    "\n",
    "        * Subtract the one that fell off the front\n",
    "\n",
    "### 🧠 Why nums[i - k]?\n",
    "Let’s take it real-world for a second:\n",
    "\n",
    "    * You’re looking at a 4-item window.\n",
    "\n",
    "    * You just added index `i`, so the first index of the window is now `i - k + 1`.\n",
    "\n",
    "    * The one that just dropped out is at `i - k`.\n",
    "\n"
   ],
   "id": "2d0c913114143b41"
  },
  {
   "metadata": {},
   "cell_type": "markdown",
   "source": [
    "**So you're keeping this invariant:**\n",
    "\n",
    "- At any point, `curr` = sum of `nums[i-k+1:i+1]`, a length-`k` window\n",
    "\n",
    "That’s why:\n",
    "```\n",
    "curr += nums[i]         # New guy in\n",
    "curr -= nums[i - k]     # Old guy out\n",
    "```\n",
    "Same mindset you had with `curr //= nums[left]` earlier — remove what just left the window, keep the total accurate.\n",
    "### 🔄 Visual Walkthrough\n",
    "```\n",
    "nums = [3, -1, 4, 12, -8, 5, 6]\n",
    "k = 4\n",
    "```\n",
    "First window (0–3):\n",
    "`3 + -1 + 4 + 12 = 18`\n",
    "\n",
    "Slide forward:\n",
    "\n",
    "    - Remove 3 (i - k = 4 - 4 = 0), add -8 → new window: [-1, 4, 12, -8] → sum = 7\n",
    "\n",
    "    - Remove -1, add 5 → [4, 12, -8, 5] → sum = 13\n",
    "\n",
    "    - Remove 4, add 6 → [12, -8, 5, 6] → sum = 15\n",
    "\n",
    "**Max of all windows: 18**\n",
    "\n",
    "### 💥 Interview-Safe Breakdown\n",
    "You can hit 'em with this in a code interview:\n",
    "\n",
    "> I’ll use a fixed-size sliding window. First, I compute the sum of the first k elements. Then, I slide the window one index at a time—adding the new value on the right and removing the value that just exited on the left. I track the max sum during each step.\n",
    "\n",
    "Short, confident, clear. 💯\n",
    "\n",
    "### 🧠 Patterns to Lock In\n",
    "| Problem Type                  | Pattern                             | Tip                                                  |\n",
    "|------------------------------|--------------------------------------|------------------------------------------------------|\n",
    "| No window size, condition-based | Two pointers (expand right, shrink left) | Use a `while` loop to shrink window until valid      |\n",
    "| Fixed-size window (like this one) | Sliding window using index math         | Use `curr += nums[i] - nums[i - k]` to maintain sum  |\n",
    "| Need subarrays or counts     | Count with `right - left + 1`        | That gives you the number of subarrays in the window |\n"
   ],
   "id": "d7001193ee1f71aa"
  },
  {
   "metadata": {},
   "cell_type": "markdown",
   "source": [
    "## Maximum Average Subarray I\n",
    "You are given an integer array nums consisting of n elements, and an integer k.\n",
    "\n",
    "Find a contiguous subarray whose length is equal to k that has the maximum average value and return this value. Any answer with a calculation error less than 10-5 will be accepted.\n",
    "\n",
    "example 1\n",
    "```\n",
    "Input: nums = [1,12,-5,-6,50,3], k = 4\n",
    "Output: 12.75000\n",
    "Explanation: Maximum average is (12 - 5 - 6 + 50) / 4 = 51 / 4 = 12.75\n",
    "```\n",
    "\n",
    "example 2\n",
    "```\n",
    "Input: nums = [5], k = 1\n",
    "Output: 5.00000\n",
    "```\n"
   ],
   "id": "c684fcc86a30fdf9"
  },
  {
   "metadata": {
    "ExecuteTime": {
     "end_time": "2025-04-14T02:22:52.697800Z",
     "start_time": "2025-04-14T02:22:52.693468Z"
    }
   },
   "cell_type": "code",
   "source": [
    "def findMaxAverage(nums, k):\n",
    "    curr = 0\n",
    "\n",
    "    # Build the first window\n",
    "    for i in range(k):\n",
    "        curr += nums[i]\n",
    "\n",
    "    # Store the average of the first window\n",
    "    aver = curr / k\n",
    "\n",
    "    # Slide the window across the rest of the array\n",
    "    for i in range(k, len(nums)):\n",
    "        curr += nums[i]          # Add new element to the window\n",
    "        curr -= nums[i - k]      # Remove the one that dropped out\n",
    "        curr_ave = curr / k      # Compute new average\n",
    "        aver = max(aver, curr_ave)  # Update max average\n",
    "\n",
    "    return aver\n",
    "\n",
    "\n",
    "\n",
    "print(findMaxAverage(nums, k))\n"
   ],
   "id": "87ee5aae368ff123",
   "outputs": [
    {
     "name": "stdout",
     "output_type": "stream",
     "text": [
      "12.75\n"
     ]
    }
   ],
   "execution_count": 9
  },
  {
   "metadata": {},
   "cell_type": "markdown",
   "source": [
    "## Max Consecutive Ones III: Looks harder than it is\n",
    "Given a binary array `nums` and an integer `k`, return the maximum number of consecutive `1`'s in the array if you can flip at most `k` `0`'s.\n",
    "\n",
    "Input: nums = [1,1,1,0,0,0,1,1,1,1,0], k = 2\n",
    "Output: 6\n",
    "Explanation: [1,1,1,0,0,1,1,1,1,1,1]\n",
    "Bolded numbers were flipped from 0 to 1. The longest subarray is underlined.\n",
    "\n",
    "This one right here is a two pointers classic called the “Max Consecutive Ones III” pattern — you're allowed to flip at most k zeroes into ones to get the longest streak of 1s in a binary array. It's a real interview favorite.\n",
    "\n",
    "Let me walk you through exactly how this works.\n",
    "\n",
    "```\n",
    "nums = [1,1,1,0,0,0,1,1,1,1,0]\n",
    "k = 2\n",
    "```\n",
    "### Goal:\n",
    "Find the maximum number of consecutive 1's, where you're allowed to flip up to k zeros to 1s.\n",
    "\n",
    "### 🧠 Mental Strategy (Sliding Window with a Twist)\n",
    "We’re gonna use the two pointer sliding window technique to maintain a window that has **at most k zeros** inside.\n",
    "\n",
    "✅ The window can grow (i.e. the right pointer moves) if the number of 0s inside ≤ k\n",
    "❌ If it exceeds k, we shrink from the left until it’s valid again"
   ],
   "id": "6e7fba4bdcd274a7"
  },
  {
   "metadata": {
    "ExecuteTime": {
     "end_time": "2025-04-14T16:03:15.897122Z",
     "start_time": "2025-04-14T16:03:15.891199Z"
    }
   },
   "cell_type": "code",
   "source": [
    "nums = [1,1,1,0,0,0,1,1,1,1,0]\n",
    "k = 2\n",
    "\n",
    "def longestOnes(nums, k):\n",
    "    left = 0         # Start of the window\n",
    "    max_len = 0      # To track the max length\n",
    "\n",
    "    for right in range(len(nums)):    # Move right pointer\n",
    "        if nums[right] == 0:\n",
    "            k -= 1                    # 'Flip' the zero (use up one of your flips)\n",
    "\n",
    "        # If we used more than k flips, shrink from the left\n",
    "        while k < 0:\n",
    "            if nums[left] == 0:\n",
    "                k += 1                # Unflip the zero (give flip back)\n",
    "            left += 1                # Move window forward\n",
    "\n",
    "        # Update the max length of valid window\n",
    "        max_len = max(max_len, right - left + 1)\n",
    "\n",
    "    return max_len\n",
    "\n",
    "print(longestOnes(nums, k))"
   ],
   "id": "dee892740aedbc45",
   "outputs": [
    {
     "name": "stdout",
     "output_type": "stream",
     "text": [
      "6\n"
     ]
    }
   ],
   "execution_count": 10
  },
  {
   "metadata": {},
   "cell_type": "markdown",
   "source": [
    "## 🔁 Step-by-Step Walkthrough\n",
    "Let’s look at your input:\n",
    "```\n",
    "nums = [1,1,1,0,0,0,1,1,1,1,0]\n",
    "k = 2\n",
    "```\n",
    "* From index 0 to 5, you hit 3 zeros.\n",
    "\n",
    "* You're only allowed 2 flips, so once the 3rd zero comes in at index 5, you gotta move the left pointer until you're back to ≤ 2 zeros in the window.\n",
    "\n",
    "That window becomes:\n",
    "```\n",
    "[0,0,1,1,1,1,0]   ⟶ max valid window is of length 6\n",
    "```\n"
   ],
   "id": "c0c3ca9436f8313a"
  },
  {
   "metadata": {},
   "cell_type": "markdown",
   "source": [
    "## Think of the approach ✅ Approach: Sliding Window with Flip Budget\n",
    "This is a two pointer / sliding window problem. The window must contain at most k zeros, because each zero represents a flip.\n",
    "\n",
    "We grow the window with the right pointer, and if the number of zeros in the window goes over k, we shrink it from the left.\n",
    "\n",
    "### 🪟 Sliding Window Trace Table\n",
    "\n",
    "| Step | Left | Right | `nums[right]` | `k` (flips left) | Current Window       | Action                        |\n",
    "|------|------|--------|----------------|------------------|-----------------------|-------------------------------|\n",
    "| 1    | 0    | 0      | 1              | 2                | [1]                  | Expand right                  |\n",
    "| 2    | 0    | 1      | 1              | 2                | [1, 1]               | Expand right                  |\n",
    "| 3    | 0    | 2      | 1              | 2                | [1, 1, 1]            | Expand right                  |\n",
    "| 4    | 0    | 3      | 0              | 1                | [1, 1, 1, 0]         | Flip 1 zero                   |\n",
    "| 5    | 0    | 4      | 0              | 0                | [1, 1, 1, 0, 0]      | Flip 1 zero                   |\n",
    "| 6    | 0    | 5      | 0              | -1               | [1, 1, 1, 0, 0, 0]   | Too many 0s → shrink left     |\n",
    "| 7    | 1    | 5      | 0              | -1               | [1, 1, 0, 0, 0]      | `nums[0]` = 1 → move left     |\n",
    "| 8    | 2    | 5      | 0              | -1               | [1, 0, 0, 0]         | `nums[1]` = 1 → move left     |\n",
    "| 9    | 3    | 5      | 0              | -1               | [0, 0, 0]            | `nums[2]` = 1 → move left     |\n",
    "| 10   | 4    | 5      | 0              | 0                | [0, 0]               | `nums[3]` = 0 → reclaim flip  |\n",
    "| 11   | 4    | 6      | 1              | 0                | [0, 0, 1]            | Valid → expand right          |\n",
    "| 12   | 4    | 7      | 1              | 0                | [0, 0, 1, 1]         | Expand right                  |\n",
    "| 13   | 4    | 8      | 1              | 0                | [0, 0, 1, 1, 1]      | Expand right                  |\n",
    "| 14   | 4    | 9      | 1              | 0                | [0, 0, 1, 1, 1, 1]   | Expand right                  |\n",
    "| 15   | 4    | 10     | 0              | -1               | [0, 0, 1, 1, 1, 1, 0]| Too many 0s → shrink left     |\n",
    "| 16   | 5    | 10     | 0              | -1               | [0, 1, 1, 1, 1, 0]   | `nums[4]` = 0 → reclaim flip  |\n",
    "| 17   | 6    | 10     | 0              | 0                | [1, 1, 1, 1, 0]      | Valid again                   |\n",
    "\n",
    "\n"
   ],
   "id": "90c7dbe626d1f813"
  },
  {
   "metadata": {},
   "cell_type": "markdown",
   "source": [
    "## Number of ways to split an array\n",
    "Given an integer array nums, find the number of ways to split the array into two parts so that the first section has a sum greater than or equal to the sum of the second section. The second section should have at least one number.\n",
    "\n",
    "A brute force approach would be to iterate over each index i from 0 until nums.length - 1. For each index, iterate from 0 to i to find the sum of the left section, and then iterate from i + 1 until the end of the array to find the sum of the right section. This algorithm would have a time complexity of\n",
    "$O(n^2)$"
   ],
   "id": "9b5028c59484dcb3"
  },
  {
   "metadata": {},
   "cell_type": "markdown",
   "source": [
    "If we build a prefix sum first, then iterate over each index, we can calculate the sums of the left and right sections in\n",
    "$O(1)$, which would improve the time complexity to $O(n)$\n"
   ],
   "id": "8474ae96497f2b8e"
  },
  {
   "metadata": {
    "ExecuteTime": {
     "end_time": "2025-04-14T20:43:30.140814Z",
     "start_time": "2025-04-14T20:43:30.136832Z"
    }
   },
   "cell_type": "code",
   "source": [
    "def waysToSplitArray(nums):\n",
    "    prefix = [nums[0]]\n",
    "    for i in range(1, len(nums)):\n",
    "        prefix.append(nums[i] + prefix[-1]) # commit to memory- how to make a prefix array\n",
    "\n",
    "    ans = 0\n",
    "    for i in range(len(nums) - 1):\n",
    "        left = prefix[i]\n",
    "        right = prefix[-1] - prefix[i]\n",
    "        if left >= right:\n",
    "            ans += 1\n",
    "\n",
    "    return ans\n"
   ],
   "id": "c921da4792a3bdc7",
   "outputs": [],
   "execution_count": 4
  },
  {
   "metadata": {
    "ExecuteTime": {
     "end_time": "2025-04-14T20:38:34.062889Z",
     "start_time": "2025-04-14T20:38:34.050240Z"
    }
   },
   "cell_type": "code",
   "source": [
    "from typing import List\n",
    "\n",
    "def waysToSplitArray(nums: List[int]) -> int:\n",
    "    n = len(nums)\n",
    "\n",
    "    # Step 1: Build the prefix sum array\n",
    "    # prefix[i] will hold the sum of nums[0] to nums[i]\n",
    "    prefix = [nums[0]]\n",
    "    for i in range(1, n):\n",
    "        # Add the current number to the running total\n",
    "        prefix.append(nums[i] + prefix[-1])\n",
    "\n",
    "    # Step 2: Initialize the counter for valid splits\n",
    "    ans = 0\n",
    "\n",
    "    # Step 3: Iterate through all possible split points\n",
    "    # We only go up to n - 1 because the right section must have at least 1 number\n",
    "    for i in range(n - 1):\n",
    "        # Sum of the left part is prefix[i] → nums[0] to nums[i]\n",
    "        left_section = prefix[i]\n",
    "\n",
    "        # Sum of the right part is total sum minus prefix[i]\n",
    "        # Which is nums[i+1] to nums[n-1]\n",
    "        right_section = prefix[-1] - prefix[i]\n",
    "\n",
    "        # If left sum is greater than or equal to right sum, count this split\n",
    "        if left_section >= right_section:\n",
    "            ans += 1\n",
    "\n",
    "    # Step 4: Return the total number of valid ways to split\n",
    "    return ans\n"
   ],
   "id": "7c25927c9056fed0",
   "outputs": [],
   "execution_count": 1
  },
  {
   "metadata": {},
   "cell_type": "markdown",
   "source": [
    "\n",
    "### 🔢 Problem: Split Array with Prefix Sums\n",
    "\n",
    "Given an integer array `nums`, count the number of ways to split the array such that:\n",
    "\n",
    "- `sum(left_part) >= sum(right_part)`\n",
    "- `right_part` must contain **at least one element**\n",
    "\n",
    "---\n",
    "\n",
    "#### 🧮 Example:\n",
    "\n",
    "```\n",
    "nums = [10, 4, -8, 7]\n",
    "```\n",
    "\n"
   ],
   "id": "96bd0aeba726d2ca"
  },
  {
   "metadata": {
    "ExecuteTime": {
     "end_time": "2025-04-14T20:41:34.669307Z",
     "start_time": "2025-04-14T20:41:34.664879Z"
    }
   },
   "cell_type": "code",
   "source": [
    "nums = [10, 4, -8, 7]\n",
    "\n",
    "def waysToSplitArray(nums):\n",
    "    prefix = [nums[0]]\n",
    "    for i in range(1, len(nums)):\n",
    "        prefix.append(nums[i] + prefix[-1])\n",
    "\n",
    "    ans = 0\n",
    "    for i in range(len(nums) - 1):\n",
    "        left = prefix[i]\n",
    "        right = prefix[-1] - prefix[i]\n",
    "        if left >= right:\n",
    "            ans += 1\n",
    "\n",
    "    return ans\n",
    "\n",
    "print(waysToSplitArray(nums))"
   ],
   "id": "48844db44e670d51",
   "outputs": [
    {
     "name": "stdout",
     "output_type": "stream",
     "text": [
      "2\n"
     ]
    }
   ],
   "execution_count": 3
  },
  {
   "metadata": {},
   "cell_type": "markdown",
   "source": [
    "## 💥 What’s a Prefix Array?\n",
    "Think of a prefix array like this:\n",
    "\n",
    "> \"Yo, what if I kept a running tab of everything I’ve spent up to each point?\"\n",
    "\n",
    "### 📦 Example:\n",
    "You got:\n",
    "```\n",
    "nums = [3, 2, 7, 5]\n",
    "```\n",
    "Now you build a prefix sum array, where each slot means:\n",
    "\n",
    "> \"How much have I added up so far?\"\n",
    "\n",
    "So:\n",
    "```\n",
    "prefix = [3, 5, 12, 17]\n",
    "```\n",
    "Here's how we got that:\n",
    "\n",
    "* 3 (just the first number)\n",
    "\n",
    "* 3 + 2 = 5\n",
    "\n",
    "* 5 + 7 = 12\n",
    "\n",
    "* 12 + 5 = 17"
   ],
   "id": "1cb277a560bd94bc"
  },
  {
   "metadata": {},
   "cell_type": "markdown",
   "source": [
    "### 🧠 Why Use It?\n",
    "Let’s say you wanna find the sum from index 1 to 3 (that’s 2 + 7 + 5 = 14)\n",
    "\n",
    "If you didn’t have a prefix array:\n",
    "```\n",
    "sum(nums[1:4])  # 2 + 7 + 5\n",
    "```\n",
    "That’s fine for small data. But if you got a huge list and gotta do this many times?\n",
    "\n",
    "❌ Inefficient — each sum call takes time.\n",
    "\n",
    "### ✅ With Prefix Array:\n",
    "```\n",
    "prefix[3] - prefix[0] = 17 - 3 = 14\n",
    "```"
   ],
   "id": "c5b196635824961b"
  },
  {
   "metadata": {},
   "cell_type": "markdown",
   "source": [
    "## ⛏️ In Our Split Problem:\n",
    "You wanna check:\n",
    "\n",
    "> \"Is the left part sum >= right part sum?\"\n",
    "\n",
    "Let’s say you're splitting at i, so:\n",
    "\n",
    "* Left side: `nums[0:i+1]` → easy: `prefix[i]`\n",
    "\n",
    "* Right side: `nums[i+1:]` → easy: `prefix[-1]` - `prefix[i]`\n",
    "\n",
    "Why?\n",
    "\n",
    "* prefix[-1] is the total sum.\n",
    "\n",
    "* prefix[i] is the left sum.\n",
    "\n",
    "So subtract left from total → get right."
   ],
   "id": "2a823b4d2068f05c"
  },
  {
   "metadata": {},
   "cell_type": "markdown",
   "source": [
    "## 🧠 When Is This Useful?\n",
    "Any time you need to:\n",
    "\n",
    "* Get subarray sums quickly\n",
    "\n",
    "* Do range queries\n",
    "\n",
    "* Compare parts of an array (like left vs. right side)\n",
    "\n",
    "It brings your time complexity from $O(n^2)$ down to $O(n)$ or even better.\n",
    "\n"
   ],
   "id": "4dfc5a5aa4fa647b"
  },
  {
   "metadata": {},
   "cell_type": "markdown",
   "source": [
    "# Now to blow your mind:\n",
    "## 🔍 What They’re Saying: No Need for an Prefix Array?\n",
    "They're saying:\n",
    "\n",
    "> “Yo, you don’t need a whole prefix array to get the prefix sum.”\n",
    "\n",
    "Instead of doing:\n",
    "```\n",
    "prefix = [nums[0], nums[1] + nums[0], ...]\n",
    "```\n",
    "You can just **keep a running total** like:\n",
    "```\n",
    "left_section = 0\n",
    "for i in range(n):\n",
    "    left_section += nums[i]\n",
    "```\n",
    "Because you’re always accessing prefix sums **in order**, you can build it **on the fly**.\n",
    "## 🧠 Key Insight:\n",
    "* You only ever use `prefix[i]` once, in order, left to right.\n",
    "\n",
    "* So why store the whole array when you can just update a single number?\n",
    "\n",
    "## 🔄 Right Section Insight\n",
    "They also say:\n",
    "\n",
    "> “Right section = total sum - left section”\n",
    "\n",
    "That makes sense, right? Cuz:\n",
    "```\n",
    "total = sum(nums)\n",
    "left_section = sum(nums[0:i+1])\n",
    "right_section = sum(nums[i+1:]) = total - left_section\n",
    "```\n",
    "💥 So if you already have `left_section` calculated as you move,\n",
    "just subtract it from `total` to get `right_section`.\n",
    "## ✅ Optimized Code Explanation\n"
   ],
   "id": "e99520d58bdd25d8"
  },
  {
   "metadata": {},
   "cell_type": "code",
   "outputs": [],
   "execution_count": null,
   "source": [
    "class Solution:\n",
    "    def waysToSplitArray(self, nums: List[int]) -> int:\n",
    "        ans = 0                     # This counts valid splits\n",
    "        left_section = 0           # Running sum of left part\n",
    "        total = sum(nums)          # Precompute total sum once\n",
    "\n",
    "        for i in range(len(nums) - 1):  # Last split can't include the last element\n",
    "            left_section += nums[i]    # Build left sum on the fly\n",
    "            right_section = total - left_section  # Subtract from total to get right\n",
    "            if left_section >= right_section:     # Check the condition\n",
    "                ans += 1                          # Valid split found\n",
    "\n",
    "        return ans\n"
   ],
   "id": "8e6ecd351deaca06"
  },
  {
   "metadata": {},
   "cell_type": "markdown",
   "source": [
    "We have improved the space complexity to $O(1)$, which is a great improvement.\n",
    "\n"
   ],
   "id": "f2f6ceda35d30c2e"
  },
  {
   "metadata": {},
   "cell_type": "markdown",
   "source": [
    "### ✅ When You’d Still Want a Prefix Array\n",
    "\n",
    "| 💼 Situation                                      | 🔧 Use Prefix Array? | 💡 Why?                                       |\n",
    "|--------------------------------------------------|-----------------------|-----------------------------------------------|\n",
    "| You need to get the sum from `i` to `j` often    | ✅ Yes                | Use `prefix[j] - prefix[i-1]` for quick sum   |\n",
    "| You're doing multiple subarray sum queries       | ✅ Yes                | Avoid recalculating sums repeatedly           |\n",
    "| You need to access prefix sums out of order      | ✅ Yes                | You can't build it on the fly if not sequential|\n",
    "| You're scanning left to right just once          | ❌ No                 | Use a running total like `left += nums[i]`    |\n",
    "| You're only comparing the left side to total sum | ❌ No                 | No need to store — just subtract from total   |\n"
   ],
   "id": "4bfa988f0f5ca5cd"
  },
  {
   "metadata": {},
   "cell_type": "markdown",
   "source": [
    "# Practice Problems\n",
    "\n",
    "Given an array nums. We define a running sum of an array as `runningSum[i]` = `sum(nums[0]…nums[i])`.\n",
    "\n",
    "Return the running sum of `nums`.\n",
    "\n",
    "```\n",
    "Input: nums = [1,2,3,4]\n",
    "Output: [1,3,6,10]\n",
    "Explanation: Running sum is obtained as follows: [1, 1+2, 1+2+3, 1+2+3+4].\n",
    "```\n",
    "\n"
   ],
   "id": "5ecd265ef0f3e5cc"
  },
  {
   "metadata": {
    "ExecuteTime": {
     "end_time": "2025-04-15T00:28:38.403423Z",
     "start_time": "2025-04-15T00:28:38.399796Z"
    }
   },
   "cell_type": "code",
   "source": [
    "nums = [3,1,2,10,1]\n",
    "def runningSum(nums):\n",
    "    prefix = [nums[0]]\n",
    "    for i in range(1, len(nums)):\n",
    "        prefix.append(nums[i] + prefix[-1])\n",
    "    return prefix\n",
    "\n",
    "print(runningSum(nums))"
   ],
   "id": "ec3645235b70e7b4",
   "outputs": [
    {
     "name": "stdout",
     "output_type": "stream",
     "text": [
      "[3, 4, 6, 16, 17]\n"
     ]
    }
   ],
   "execution_count": 8
  },
  {
   "metadata": {},
   "cell_type": "markdown",
   "source": [
    "## Minimum Value to Get Positive Step by Step Sum\n",
    "Given an array of integers nums, you start with an initial positive value startValue.\n",
    "\n",
    "In each iteration, you calculate the step by step sum of startValue plus elements in nums (from left to right).\n",
    "\n",
    "Return the minimum positive value of startValue such that the step by step sum is never less than 1.\n",
    "\n",
    "## 🧠 Understanding the Core Concept: Minimum Start Value with Prefix Sums\n",
    "\n",
    "### 📜 Problem Summary\n",
    "\n",
    "Given an array `nums`, we walk through it left to right and track a **step-by-step running total** starting from an initial value called `startValue`.\n",
    "\n",
    "At every step, the running total **must never drop below 1**.\n",
    "\n",
    "Goal: Find the **minimum positive `startValue`** that ensures the running total always stays at least 1.\n",
    "\n",
    "---\n",
    "\n",
    "### 🧩 Prefix Sum Interpretation\n",
    "\n",
    "Let’s define a **prefix sum** as the cumulative sum of the array starting from index 0:\n",
    "\n",
    "```python\n",
    "prefix_sum[i] = nums[0] + nums[1] + ... + nums[i]\n",
    "```\n",
    "The running total at each step i is:\n",
    "```\n",
    "running_total[i] = startValue + prefix_sum[i]\n",
    "```\n",
    "### 🚫 Where I Went Wrong\n",
    "In my original code:\n",
    "```\n",
    "if sum(prefix) < 1:\n",
    "```\n",
    "I checked the **sum of all prefix sums**, which doesn’t actually tell me whether **any individual running total dropped below 1**.\n",
    "\n",
    "<b>*✅ What I should’ve done is track the minimum value that the prefix sum ever hits.*</b>\n",
    "\n",
    "## ✅ The Correct Logic\n",
    "We want:\n",
    "```\n",
    "startValue + prefix_sum[i] ≥ 1  for all i\n",
    "```\n",
    "This implies:\n",
    "```\n",
    "startValue ≥ 1 - min(prefix_sum)\n",
    "```\n",
    "So the correct `startValue` is:\n",
    "```\n",
    "startValue = 1 - min(prefix_sum)\n",
    "```"
   ],
   "id": "cd0295ad61d3c906"
  },
  {
   "metadata": {
    "ExecuteTime": {
     "end_time": "2025-04-15T22:37:20.396411Z",
     "start_time": "2025-04-15T22:37:20.390102Z"
    }
   },
   "cell_type": "code",
   "source": [
    "nums = [-3,2,-3,4,2]\n",
    "def minStartValue(nums):\n",
    "    prefix = 0\n",
    "    min_prefix = 0\n",
    "\n",
    "    for num in nums:\n",
    "        prefix += num\n",
    "        min_prefix = min(min_prefix, prefix)\n",
    "\n",
    "    return 1 - min_prefix\n",
    "\n",
    "print(minStartValue(nums))\n"
   ],
   "id": "336df3ba9b8f9df",
   "outputs": [
    {
     "name": "stdout",
     "output_type": "stream",
     "text": [
      "5\n"
     ]
    }
   ],
   "execution_count": 17
  },
  {
   "metadata": {},
   "cell_type": "markdown",
   "source": [
    "## K Radius Subarray Averages\n",
    "You are given a **0-indexed** array `nums` of `n` integers, and an integer `k`.\n",
    "\n",
    "The **k-radius average** for a subarray of `nums` **centered** at some index `i` with the **radius** `k` is the average of **all** elements in `nums` between the indices `i - k` and `i + k` (**inclusive**). If there are less than `k` elements before or after the index `i`, then the **k-radius average** is `-1`.\n",
    "\n",
    "Build and return an array `avgs` of length `n` where `avgs[i]` is the **k-radius average** for the subarray centered at index `i`.\n",
    "\n",
    "The **average** of `x` elements is the sum of the `x` elements divided by `x`, using **integer division**. The integer division truncates toward zero, which means losing its fractional part.\n",
    "\n",
    "For example, the average of four elements `2`, `3`, `1`, and `5` is `(2 + 3 + 1 + 5) / 4 = 11 / 4 = 2.75`, which truncates to `2`.\n",
    "\n",
    "**Example**\n",
    "```\n",
    "Input: nums = [7,4,3,9,1,8,5,2,6], k = 3\n",
    "Output: [-1,-1,-1,5,4,4,-1,-1,-1]\n",
    "Explanation:\n",
    "- avg[0], avg[1], and avg[2] are -1 because there are less than k elements before each index.\n",
    "- The sum of the subarray centered at index 3 with radius 3 is: 7 + 4 + 3 + 9 + 1 + 8 + 5 = 37.\n",
    "  Using integer division, avg[3] = 37 / 7 = 5.\n",
    "- For the subarray centered at index 4, avg[4] = (4 + 3 + 9 + 1 + 8 + 5 + 2) / 7 = 4.\n",
    "- For the subarray centered at index 5, avg[5] = (3 + 9 + 1 + 8 + 5 + 2 + 6) / 7 = 4.\n",
    "- avg[6], avg[7], and avg[8] are -1 because there are less than k elements after each index.\n",
    "```"
   ],
   "id": "87b05f6e6146cc1e"
  },
  {
   "metadata": {
    "ExecuteTime": {
     "end_time": "2025-04-16T03:02:18.432451Z",
     "start_time": "2025-04-16T03:02:18.421307Z"
    }
   },
   "cell_type": "code",
   "source": [
    "# Correctly assign nums and k on separate lines\n",
    "nums = [7, 4, 3, 9, 1, 8, 5, 2, 6]\n",
    "k = 3\n",
    "\n",
    "result = [-1] * len(nums)\n",
    "\n",
    "# Get the length of nums before the loop\n",
    "n = len(nums)  # Move this outside the loop to avoid re-calculating it\n",
    "\n",
    "# Loop through the range to calculate window sums\n",
    "for i in range(k, n - k):\n",
    "    window_sum = 0\n",
    "    window_size = 2 * k + 1  # Size of the window to calculate\n",
    "\n",
    "    # Ensure we use the correct slice for calculating the window sum\n",
    "    window_sum = sum(nums[i - k:i + k + 1])  # Use correct indices to create the window\n",
    "\n",
    "    result[i] = window_sum//window_size  # Store the window sum in the result list\n",
    "\n",
    "# Print result to see the outcome\n",
    "print(result)\n",
    "\n"
   ],
   "id": "b0d472cb14550b",
   "outputs": [
    {
     "name": "stdout",
     "output_type": "stream",
     "text": [
      "[-1, -1, -1, 5, 4, 4, -1, -1, -1]\n"
     ]
    }
   ],
   "execution_count": 18
  },
  {
   "metadata": {},
   "cell_type": "markdown",
   "source": [
    "## ✅ Optimized Sliding Window Sum Version\n",
    "here, let's try to keep more inline with what we have been learning as to the sum:\n",
    "\n",
    "`window_sum = sum(nums[i - k:i + k + 1])`\n",
    "\n",
    "and replace it with:\n",
    "\n",
    "```python\n",
    "if i + k + 1 < n:\n",
    "            window_sum -= nums[i - k]            # slide out left\n",
    "            window_sum += nums[i + k + 1]        # slide in right\n",
    "```"
   ],
   "id": "ff973bdbf1f39aa3"
  },
  {
   "metadata": {
    "ExecuteTime": {
     "end_time": "2025-04-16T21:33:37.834516Z",
     "start_time": "2025-04-16T21:33:37.829748Z"
    }
   },
   "cell_type": "code",
   "source": [
    "nums = [7, 4, 3, 9, 1, 8, 5, 2, 6]\n",
    "k = 3\n",
    "n = len(nums)\n",
    "result = [-1] * n # we make everything in nums -1\n",
    "window_size = 2 * k + 1\n",
    "def win_sum(nums, k):\n",
    "    if n >= window_size:\n",
    "        window_sum = sum(nums[:window_size])  # first valid window\n",
    "\n",
    "        for i in range(k, n - k): # only work where the average can be attained as all other windows are too short\n",
    "            result[i] = window_sum // window_size\n",
    "\n",
    "            if i + k + 1 < n:\n",
    "                window_sum -= nums[i - k]            # slide out left\n",
    "                window_sum += nums[i + k + 1]        # slide in right\n",
    "\n",
    "    return result\n",
    "\n",
    "print(win_sum(nums, k))\n"
   ],
   "id": "5b672865288724ec",
   "outputs": [
    {
     "name": "stdout",
     "output_type": "stream",
     "text": [
      "[-1, -1, -1, 5, 4, 4, -1, -1, -1]\n"
     ]
    }
   ],
   "execution_count": 4
  },
  {
   "metadata": {},
   "cell_type": "code",
   "outputs": [],
   "execution_count": null,
   "source": "",
   "id": "6548e70d9c8901a9"
  }
 ],
 "metadata": {
  "kernelspec": {
   "display_name": "Python 3",
   "language": "python",
   "name": "python3"
  },
  "language_info": {
   "codemirror_mode": {
    "name": "ipython",
    "version": 2
   },
   "file_extension": ".py",
   "mimetype": "text/x-python",
   "name": "python",
   "nbconvert_exporter": "python",
   "pygments_lexer": "ipython2",
   "version": "2.7.6"
  }
 },
 "nbformat": 4,
 "nbformat_minor": 5
}
