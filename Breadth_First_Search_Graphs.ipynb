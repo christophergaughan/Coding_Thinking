{
 "cells": [
  {
   "metadata": {},
   "cell_type": "markdown",
   "source": [
    "# Graphs- Breadth Search First\n",
    "We're given the following graph:"
   ],
   "id": "e7329257b9b76f72"
  },
  {
   "cell_type": "code",
   "id": "initial_id",
   "metadata": {
    "collapsed": true,
    "ExecuteTime": {
     "end_time": "2025-04-03T21:17:55.082240Z",
     "start_time": "2025-04-03T21:17:55.078312Z"
    }
   },
   "source": [
    "graph = {\n",
    "    'S': ['A', 'B'],\n",
    "    'A': ['C', 'D'],\n",
    "    'B': ['E'],\n",
    "    'C': [],\n",
    "    'D': ['F'],\n",
    "    'E': [],\n",
    "    'F': []\n",
    "}\n"
   ],
   "outputs": [],
   "execution_count": 4
  },
  {
   "metadata": {},
   "cell_type": "markdown",
   "source": "## Look at Depth First Search Code",
   "id": "d6475043ab6fe441"
  },
  {
   "metadata": {
    "ExecuteTime": {
     "end_time": "2025-04-03T21:17:56.042968Z",
     "start_time": "2025-04-03T21:17:56.039312Z"
    }
   },
   "cell_type": "code",
   "source": [
    "def dfs_stack(graph, start):\n",
    "    visited = []\n",
    "    stack = [start]\n",
    "\n",
    "    while stack:\n",
    "        node = stack.pop()\n",
    "        if node not in visited:\n",
    "            visited.append(node)\n",
    "            stack.extend(reversed(graph[node]))  # or not reversed if right-to-left\n",
    "    return visited\n"
   ],
   "id": "4c20884fe7146b41",
   "outputs": [],
   "execution_count": 5
  },
  {
   "metadata": {},
   "cell_type": "markdown",
   "source": [
    "the things we need:\n",
    "1. Use a queue, not a stack.\n",
    "Right now:\n",
    "```\n",
    "stack = [start]\n",
    "node = stack.pop()  # this is DFS behavior\n",
    "```\n",
    "BFS behavior needs:\n",
    "```\n",
    "from collections import deque\n",
    "queue = deque([start])\n",
    "node = queue.popleft()  # FIFO\n",
    "```\n",
    "\n",
    "2. Don’t reverse the neighbors\n",
    "That reversing trick is a DFS hack so left-most neighbors go deeper first. For BFS, **just add neighbors in the order they appear**, no need to reverse.\n",
    "\n",
    "#### 🧠 So, your BFS version would follow this flow:\n",
    "* Replace `stack` with a `queue` (deque)\n",
    "\n",
    "* Use `popleft()` instead of `pop()`\n",
    "\n",
    "* No `reversed()` calls"
   ],
   "id": "4c18668a11b4afc4"
  },
  {
   "metadata": {},
   "cell_type": "markdown",
   "source": [
    "## The Breadth First Search- just a small alteration of this one\n",
    "1. We will use the `deque` module from collections to enable the:\n",
    "`node = queue.popleft()` call\n",
    "\n",
    "\n",
    "### Step-by-step BFS from 'S':\n",
    "Start at `'S'` → Queue: `['S']`\n",
    "\n",
    "Visit `'S'` → Enqueue 'A', 'B' → Queue: `['A', 'B']`\n",
    "\n",
    "Visit `'A'` → Enqueue 'C', 'D' → Queue: `['B', 'C', 'D']`\n",
    "\n",
    "Visit `'B'` → Enqueue 'E' → Queue: `['C', 'D', 'E']`\n",
    "\n",
    "Visit `'C'` → No neighbors → Queue: `['D', 'E']`\n",
    "\n",
    "Visit `'D'` → Enqueue 'F' → Queue: `['E', 'F']`\n",
    "\n",
    "Visit `'E'` → No neighbors → Queue: `['F']`\n",
    "\n",
    "Visit `'F'` → No neighbors → Queue: `[]`\n",
    "\n",
    "Code:"
   ],
   "id": "9856ac5842d04c34"
  },
  {
   "metadata": {
    "ExecuteTime": {
     "end_time": "2025-04-03T21:29:03.979899Z",
     "start_time": "2025-04-03T21:29:03.975999Z"
    }
   },
   "cell_type": "code",
   "source": [
    "from collections import deque\n",
    "\n",
    "def bfs_queue(graph, start):\n",
    "    visited = []\n",
    "    queue = deque([start])  # <- Fix is here\n",
    "\n",
    "    while queue:\n",
    "        node = queue.popleft()\n",
    "        if node not in visited:\n",
    "            visited.append(node)\n",
    "            queue.extend(graph[node])  # add neighbors\n",
    "\n",
    "    return visited\n",
    "\n",
    "print(bfs_queue(graph,'S'))\n"
   ],
   "id": "70d13b9731fc493",
   "outputs": [
    {
     "name": "stdout",
     "output_type": "stream",
     "text": [
      "['S', 'A', 'B', 'C', 'D', 'E', 'F']\n"
     ]
    }
   ],
   "execution_count": 7
  },
  {
   "metadata": {},
   "cell_type": "code",
   "outputs": [],
   "execution_count": null,
   "source": "",
   "id": "d98565436fc5f5fd"
  }
 ],
 "metadata": {
  "kernelspec": {
   "display_name": "Python 3",
   "language": "python",
   "name": "python3"
  },
  "language_info": {
   "codemirror_mode": {
    "name": "ipython",
    "version": 2
   },
   "file_extension": ".py",
   "mimetype": "text/x-python",
   "name": "python",
   "nbconvert_exporter": "python",
   "pygments_lexer": "ipython2",
   "version": "2.7.6"
  }
 },
 "nbformat": 4,
 "nbformat_minor": 5
}
