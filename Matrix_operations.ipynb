{
 "cells": [
  {
   "metadata": {},
   "cell_type": "markdown",
   "source": [
    "# Square Matrix Operations in Pure Python\n",
    "\n",
    "### 1. Creating and Indexing a Square Matrix"
   ],
   "id": "456c74d179b13c59"
  },
  {
   "metadata": {},
   "cell_type": "markdown",
   "source": [
    "# Matrix Basics\n",
    "\n",
    "Yo, welcome to the matrix — not the one with Neo, but the one with rows, columns, and real power. Let's break this down, no fluff, no nonsense. This is how we handle square matrices in Python, straight-up.\n",
    "\n",
    "---\n",
    "\n",
    "## ✨ What's a Matrix?\n",
    "\n",
    "A matrix is like a table or a grid. If you've ever seen a block of numbers lined up like a spreadsheet, that’s a matrix.\n",
    "\n",
    "**Square matrix?** That just means it's got the same number of rows and columns. Like 3 rows by 3 columns — a clean lil' 3x3 block.\n",
    "\n",
    "**Example:**\n",
    "```\n",
    "[1, 2, 3],\n",
    "[4, 5, 6],\n",
    "[7, 8, 9]\n",
    "```\n",
    "\n",
    "\n",
    "---\n",
    "\n",
    "## 🦜 Pull Up a Seat: Rows, Columns, and Elements\n",
    "\n",
    "### 🏋️ Rows\n",
    "\n",
    "Each row is like a squad — they roll together.\n",
    "\n",
    "In the example above:\n",
    "- First row = `[1, 2, 3]`\n",
    "- Second row = `[4, 5, 6]`\n",
    "- Third row = `[7, 8, 9]`\n",
    "\n",
    "**To grab a row in Python:**\n",
    "```python\n",
    "matrix[1]  # Gets the second row (Python starts counting from 0!)\n",
    "```\n",
    "### 📆 Columns\n",
    "Columns run top to bottom, like vertical stacks.\n",
    "\n",
    "To grab a column, you gotta loop through the matrix:\n",
    "```\n",
    "col_2 = [row[1] for row in matrix]  # This grabs column 2\n",
    "```\n",
    "This says: “Yo, go through every row, and give me the second piece.”\n",
    "\n",
    "### 🔎 Elements\n",
    "An element is just one single number. Like 5 in the middle of our matrix.\n",
    "\n",
    "Grab it with:\n",
    "```\n",
    "matrix[1][1]  # That’s the middle number: 5\n",
    "```\n",
    "### 🧠 Why Should I Care?\n",
    "\n",
    "**Matrices show up in mad places:**\n",
    "\n",
    "* Image filters (your phone filters? Matrix math.)\n",
    "\n",
    "* Machine learning (that AI stuff? Yup, matrices.)\n",
    "\n",
    "* 3D graphics, games, animations\n",
    "\n",
    "* Stats, econ, biology, you name it\n",
    "\n",
    "If you can flex on matrices, you're already ahead.\n",
    "\n",
    "### ✨ Fast Terms You Gotta Know\n",
    "\n",
    "* In****exing – Picking stuff out from a matrix. Like choosing a slice of pizza.\n",
    "\n",
    "* Row-wise – Moving left to right\n",
    "\n",
    "* Column-wise – Moving top to bottom\n",
    "\n",
    "* Transpose – Flipping the rows and columns. Like turning your hoodie inside out.\n",
    "\n",
    "* Diagonal – Top-left to bottom-right\n",
    "\n",
    "* Anti-diagonal – Top-right to bottom-left\n",
    "\n",
    "\n"
   ],
   "id": "fe8da6fc4298ecbd"
  },
  {
   "cell_type": "code",
   "id": "initial_id",
   "metadata": {
    "collapsed": true,
    "ExecuteTime": {
     "end_time": "2025-04-02T22:04:06.521121Z",
     "start_time": "2025-04-02T22:04:06.515536Z"
    }
   },
   "source": [
    "matrix = [\n",
    "    [1, 2, 3],\n",
    "    [4, 5, 6],\n",
    "    [7, 8, 9]\n",
    "]\n",
    "\n",
    "# Access element at row 1, column 2\n",
    "print(\"matrix[1][2] =\", matrix[1][2])\n",
    "\n",
    "# Modify element at row 0, column 1\n",
    "matrix[0][1] = 10\n",
    "print(\"Modified matrix:\", matrix)\n"
   ],
   "outputs": [
    {
     "name": "stdout",
     "output_type": "stream",
     "text": [
      "matrix[1][2] = 6\n",
      "Modified matrix: [[1, 10, 3], [4, 5, 6], [7, 8, 9]]\n"
     ]
    }
   ],
   "execution_count": 1
  },
  {
   "metadata": {},
   "cell_type": "markdown",
   "source": "### 2. Transposing a Matrix\n",
   "id": "46f15086ef68f879"
  },
  {
   "metadata": {
    "ExecuteTime": {
     "end_time": "2025-04-02T22:04:57.100750Z",
     "start_time": "2025-04-02T22:04:57.096893Z"
    }
   },
   "cell_type": "code",
   "source": [
    "def transpose(matrix):\n",
    "    n = len(matrix)\n",
    "    return [[matrix[j][i] for j in range(n)] for i in range(n)]\n",
    "\n",
    "transposed = transpose(matrix)\n",
    "print(\"Transposed matrix:\")\n",
    "for row in transposed:\n",
    "    print(row)"
   ],
   "id": "83c64a246a857e05",
   "outputs": [
    {
     "name": "stdout",
     "output_type": "stream",
     "text": [
      "Transposed matrix:\n",
      "[1, 4, 7]\n",
      "[10, 5, 8]\n",
      "[3, 6, 9]\n"
     ]
    }
   ],
   "execution_count": 2
  },
  {
   "metadata": {},
   "cell_type": "markdown",
   "source": "### 3. Diagonal Elements",
   "id": "3b16b766063c2c19"
  },
  {
   "metadata": {
    "ExecuteTime": {
     "end_time": "2025-04-02T22:05:58.050141Z",
     "start_time": "2025-04-02T22:05:58.046406Z"
    }
   },
   "cell_type": "code",
   "source": [
    "main_diag = [matrix[i][i] for i in range(len(matrix))]\n",
    "anti_diag = [matrix[i][len(matrix)-1-i] for i in range(len(matrix))]\n",
    "print(\"Main diagonal:\", main_diag)\n",
    "print(\"Anti-diagonal:\", anti_diag)"
   ],
   "id": "86ff9b3d2ba0c39f",
   "outputs": [
    {
     "name": "stdout",
     "output_type": "stream",
     "text": [
      "Main diagonal: [1, 5, 9]\n",
      "Anti-diagonal: [3, 5, 7]\n"
     ]
    }
   ],
   "execution_count": 3
  },
  {
   "metadata": {},
   "cell_type": "markdown",
   "source": "### 4. Matrix Addition\n",
   "id": "230d9d32c358941"
  },
  {
   "metadata": {
    "ExecuteTime": {
     "end_time": "2025-04-02T22:06:43.392187Z",
     "start_time": "2025-04-02T22:06:43.388548Z"
    }
   },
   "cell_type": "code",
   "source": [
    "main_diag = [matrix[i][i] for i in range(len(matrix))]\n",
    "anti_diag = [matrix[i][len(matrix)-1-i] for i in range(len(matrix))]\n",
    "print(\"Main diagonal:\", main_diag)\n",
    "print(\"Anti-diagonal:\", anti_diag)\n"
   ],
   "id": "64de978301bfe1ac",
   "outputs": [
    {
     "name": "stdout",
     "output_type": "stream",
     "text": [
      "Main diagonal: [1, 5, 9]\n",
      "Anti-diagonal: [3, 5, 7]\n"
     ]
    }
   ],
   "execution_count": 4
  },
  {
   "metadata": {},
   "cell_type": "markdown",
   "source": "### 4. Matrix Addition\n",
   "id": "f07c5deff3782e77"
  },
  {
   "metadata": {
    "ExecuteTime": {
     "end_time": "2025-04-02T22:07:35.564544Z",
     "start_time": "2025-04-02T22:07:35.559876Z"
    }
   },
   "cell_type": "code",
   "source": [
    "def add_matrices(a, b):\n",
    "    return [[a[i][j] + b[i][j] for j in range(len(a))] for i in range(len(a))]\n",
    "\n",
    "matrix_b = [\n",
    "    [9, 8, 7],\n",
    "    [6, 5, 4],\n",
    "    [3, 2, 1]\n",
    "]\n",
    "\n",
    "added = add_matrices(matrix, matrix_b)\n",
    "print(\"Matrix addition result:\")\n",
    "for row in added:\n",
    "    print(row)"
   ],
   "id": "a8d63a80029e41fb",
   "outputs": [
    {
     "name": "stdout",
     "output_type": "stream",
     "text": [
      "Matrix addition result:\n",
      "[10, 18, 10]\n",
      "[10, 10, 10]\n",
      "[10, 10, 10]\n"
     ]
    }
   ],
   "execution_count": 5
  },
  {
   "metadata": {},
   "cell_type": "markdown",
   "source": "### 5. Matrix Multiplication",
   "id": "18ccdc2e0f3250d0"
  },
  {
   "metadata": {
    "ExecuteTime": {
     "end_time": "2025-04-02T22:08:53.135701Z",
     "start_time": "2025-04-02T22:08:53.130688Z"
    }
   },
   "cell_type": "code",
   "source": [
    "\n",
    "def multiply_matrices(a, b):\n",
    "    n = len(a)\n",
    "    result = [[0]*n for _ in range(n)]\n",
    "    for i in range(n):\n",
    "        for j in range(n):\n",
    "            for k in range(n):\n",
    "                result[i][j] += a[i][k] * b[k][j]\n",
    "    return result\n",
    "\n",
    "product = multiply_matrices(matrix, matrix_b)\n",
    "print(\"Matrix multiplication result:\")\n",
    "for row in product:\n",
    "    print(row)\n",
    "\n"
   ],
   "id": "41d7ab1469fbae58",
   "outputs": [
    {
     "name": "stdout",
     "output_type": "stream",
     "text": [
      "Matrix multiplication result:\n",
      "[78, 64, 50]\n",
      "[84, 69, 54]\n",
      "[138, 114, 90]\n"
     ]
    }
   ],
   "execution_count": 6
  },
  {
   "metadata": {},
   "cell_type": "markdown",
   "source": "### 6. Slicing Rows and Columns",
   "id": "d069730d7791d771"
  },
  {
   "metadata": {
    "ExecuteTime": {
     "end_time": "2025-04-02T22:10:06.231944Z",
     "start_time": "2025-04-02T22:10:06.228497Z"
    }
   },
   "cell_type": "code",
   "source": [
    "# Row 1\n",
    "row_1 = matrix[1]\n",
    "print(\"Row 1:\", row_1)\n",
    "\n",
    "# Column 2\n",
    "col_2 = [row[2] for row in matrix]\n",
    "print(\"Column 2:\", col_2)"
   ],
   "id": "963271861e0b7692",
   "outputs": [
    {
     "name": "stdout",
     "output_type": "stream",
     "text": [
      "Row 1: [4, 5, 6]\n",
      "Column 2: [3, 6, 9]\n"
     ]
    }
   ],
   "execution_count": 7
  },
  {
   "metadata": {},
   "cell_type": "markdown",
   "source": "### 7. Identity Matrix",
   "id": "6a4a537c670c4c6c"
  },
  {
   "metadata": {
    "ExecuteTime": {
     "end_time": "2025-04-02T22:11:26.713644Z",
     "start_time": "2025-04-02T22:11:26.709473Z"
    }
   },
   "cell_type": "code",
   "source": [
    "def identity_matrix(n):\n",
    "    return [[1 if i == j else 0 for j in range(n)] for i in range(n)]\n",
    "\n",
    "print(\"3x3 Identity matrix:\")\n",
    "for row in identity_matrix(3):\n",
    "    print(row)"
   ],
   "id": "b4e5b9ca6b68055b",
   "outputs": [
    {
     "name": "stdout",
     "output_type": "stream",
     "text": [
      "3x3 Identity matrix:\n",
      "[1, 0, 0]\n",
      "[0, 1, 0]\n",
      "[0, 0, 1]\n"
     ]
    }
   ],
   "execution_count": 8
  },
  {
   "metadata": {},
   "cell_type": "markdown",
   "source": [
    "### 8. Practice Problems\n",
    "#### Problem 1: Rotate a matrix 90 degrees clockwise"
   ],
   "id": "6fa461d123497a2a"
  },
  {
   "metadata": {
    "ExecuteTime": {
     "end_time": "2025-04-02T22:12:49.105593Z",
     "start_time": "2025-04-02T22:12:49.101693Z"
    }
   },
   "cell_type": "code",
   "source": [
    "def rotate_90(matrix):\n",
    "    return [list(reversed(col)) for col in zip(*matrix)]\n",
    "\n",
    "rotated = rotate_90(matrix)\n",
    "print(\"Rotated 90 degrees:\")\n",
    "for row in rotated:\n",
    "    print(row)"
   ],
   "id": "cbe0c79d043638dc",
   "outputs": [
    {
     "name": "stdout",
     "output_type": "stream",
     "text": [
      "Rotated 90 degrees:\n",
      "[7, 4, 1]\n",
      "[8, 5, 10]\n",
      "[9, 6, 3]\n"
     ]
    }
   ],
   "execution_count": 9
  },
  {
   "metadata": {},
   "cell_type": "markdown",
   "source": "#### Problem 2: Check if a matrix is symmetric",
   "id": "75f10ee9fe66b727"
  },
  {
   "metadata": {
    "ExecuteTime": {
     "end_time": "2025-04-02T22:14:31.134307Z",
     "start_time": "2025-04-02T22:14:31.129505Z"
    }
   },
   "cell_type": "code",
   "source": [
    "def is_symmetric(matrix):\n",
    "    n = len(matrix)\n",
    "    for i in range(n):\n",
    "        for j in range(n):\n",
    "            if matrix[i][j] != matrix[j][i]:\n",
    "                return False\n",
    "    return True\n",
    "\n",
    "print(\"Is matrix symmetric?\", is_symmetric(matrix))\n"
   ],
   "id": "20fad52ff5e63c9",
   "outputs": [
    {
     "name": "stdout",
     "output_type": "stream",
     "text": [
      "Is matrix symmetric? False\n"
     ]
    }
   ],
   "execution_count": 11
  },
  {
   "metadata": {},
   "cell_type": "markdown",
   "source": "#### Problem 3: Zero out rows and columns if any element is 0",
   "id": "8530d386fbec913a"
  },
  {
   "metadata": {
    "ExecuteTime": {
     "end_time": "2025-04-02T22:15:42.096500Z",
     "start_time": "2025-04-02T22:15:42.091260Z"
    }
   },
   "cell_type": "code",
   "source": [
    "def zero_matrix(matrix):\n",
    "    n = len(matrix)\n",
    "    rows, cols = set(), set()\n",
    "    for i in range(n):\n",
    "        for j in range(n):\n",
    "            if matrix[i][j] == 0:\n",
    "                rows.add(i)\n",
    "                cols.add(j)\n",
    "    for i in range(n):\n",
    "        for j in range(n):\n",
    "            if i in rows or j in cols:\n",
    "                matrix[i][j] = 0\n",
    "    return matrix\n",
    "\n",
    "matrix_with_zero = [\n",
    "    [1, 2, 3],\n",
    "    [4, 0, 6],\n",
    "    [7, 8, 9]\n",
    "]\n",
    "print(\"Zeroed matrix:\")\n",
    "for row in zero_matrix(matrix_with_zero):\n",
    "    print(row)"
   ],
   "id": "bd49797f6a282c62",
   "outputs": [
    {
     "name": "stdout",
     "output_type": "stream",
     "text": [
      "Zeroed matrix:\n",
      "[1, 0, 3]\n",
      "[0, 0, 0]\n",
      "[7, 0, 9]\n"
     ]
    }
   ],
   "execution_count": 12
  },
  {
   "metadata": {},
   "cell_type": "markdown",
   "source": "#### Problem 4: Build a matrix from a function",
   "id": "62173e579afae5be"
  },
  {
   "metadata": {
    "ExecuteTime": {
     "end_time": "2025-04-02T22:17:10.758162Z",
     "start_time": "2025-04-02T22:17:10.754103Z"
    }
   },
   "cell_type": "code",
   "source": [
    "# f(i, j) = i * j\n",
    "n = 4\n",
    "generated = [[i * j for j in range(n)] for i in range(n)]\n",
    "print(\"Generated matrix (i*j):\")\n",
    "for row in generated:\n",
    "    print(row)"
   ],
   "id": "8c28e1db31d72a3e",
   "outputs": [
    {
     "name": "stdout",
     "output_type": "stream",
     "text": [
      "Generated matrix (i*j):\n",
      "[0, 0, 0, 0]\n",
      "[0, 1, 2, 3]\n",
      "[0, 2, 4, 6]\n",
      "[0, 3, 6, 9]\n"
     ]
    }
   ],
   "execution_count": 14
  },
  {
   "metadata": {},
   "cell_type": "markdown",
   "source": "#### Problem 5: Count how many rows and columns sum to the same value",
   "id": "96f774430a80c8a7"
  },
  {
   "metadata": {
    "ExecuteTime": {
     "end_time": "2025-04-02T22:18:00.017882Z",
     "start_time": "2025-04-02T22:18:00.014945Z"
    }
   },
   "cell_type": "code",
   "source": [
    "def count_equal_sums(matrix):\n",
    "    row_sums = [sum(row) for row in matrix]\n",
    "    col_sums = [sum(col) for col in zip(*matrix)]\n",
    "    return len(set(row_sums) & set(col_sums))\n",
    "\n",
    "print(\"Number of equal row and column sums:\", count_equal_sums(matrix))\n"
   ],
   "id": "bd165fdb4c27a9ab",
   "outputs": [
    {
     "name": "stdout",
     "output_type": "stream",
     "text": [
      "Number of equal row and column sums: 0\n"
     ]
    }
   ],
   "execution_count": 15
  },
  {
   "metadata": {},
   "cell_type": "code",
   "outputs": [],
   "execution_count": null,
   "source": "",
   "id": "eba6fa06c4e08b86"
  }
 ],
 "metadata": {
  "kernelspec": {
   "display_name": "Python 3",
   "language": "python",
   "name": "python3"
  },
  "language_info": {
   "codemirror_mode": {
    "name": "ipython",
    "version": 2
   },
   "file_extension": ".py",
   "mimetype": "text/x-python",
   "name": "python",
   "nbconvert_exporter": "python",
   "pygments_lexer": "ipython2",
   "version": "2.7.6"
  }
 },
 "nbformat": 4,
 "nbformat_minor": 5
}
