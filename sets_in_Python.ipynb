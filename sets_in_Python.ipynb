{
 "cells": [
  {
   "metadata": {},
   "cell_type": "markdown",
   "source": [
    "# Using sets in Python\n",
    "Aight, let’s break down sets in Python in a way that’s gonna help you flex in coding tests. Think of sets like a **squad with no duplicates**—everybody in the crew gotta be unique, no repeats.\n",
    "\n"
   ],
   "id": "3a69be1d1a45889b"
  },
  {
   "metadata": {},
   "cell_type": "markdown",
   "source": [
    "## What is a Set?\n",
    "A set in Python is like a **bag of unique items**. You throw stuff in, and if it’s already in there, Python just ignores it—no duplicates allowed.\n",
    "\n",
    "**🔹 Syntax:**"
   ],
   "id": "e6d4ed7df8d7dd52"
  },
  {
   "cell_type": "code",
   "id": "initial_id",
   "metadata": {
    "collapsed": true,
    "ExecuteTime": {
     "end_time": "2025-04-22T21:00:59.204220Z",
     "start_time": "2025-04-22T21:00:59.198175Z"
    }
   },
   "source": "my_set = {1, 2, 3, 4}\n",
   "outputs": [],
   "execution_count": 1
  },
  {
   "metadata": {},
   "cell_type": "markdown",
   "source": "**OR**",
   "id": "6d232a417a07acc6"
  },
  {
   "metadata": {
    "ExecuteTime": {
     "end_time": "2025-04-22T21:01:03.358235Z",
     "start_time": "2025-04-22T21:01:03.353088Z"
    }
   },
   "cell_type": "code",
   "source": "my_set = set([1, 2, 3, 4])  # Using set() function\n",
   "id": "7c7832bec5ed287f",
   "outputs": [],
   "execution_count": 2
  },
  {
   "metadata": {},
   "cell_type": "markdown",
   "source": [
    "## 🔹 Key Features:\n",
    "\n",
    "* **Unordered** (no specific order like lists)\n",
    "* **Mutable** (you can add/remove elements)\n",
    "* **No duplicates allowed** (automatically filters them out)\n",
    "* **Super fast for lookups** (because it’s backed by a **hash table**)\n",
    "-----------------------------------------------------------------------\n",
    "## Why Sets Matter in Coding Tests?\n",
    "**🔥 Speed Advantage**\n",
    "\n",
    "* Checking if something exists in a set is O(1) (way faster than lists, which are O(n))\n",
    "* Removing duplicates from a list? **Set does it in one move.**\n",
    "* Checking **intersection**, **union**, and **difference** is slick.\n"
   ],
   "id": "686c75fea138a595"
  },
  {
   "metadata": {},
   "cell_type": "markdown",
   "source": [
    "## Set Operations You Gotta Know\n",
    "These are the **money moves** for coding tests.\n",
    "\n",
    "### (1) Add & Remove Elements"
   ],
   "id": "17a3d17c2980e50f"
  },
  {
   "metadata": {
    "ExecuteTime": {
     "end_time": "2025-04-22T21:01:19.110024Z",
     "start_time": "2025-04-22T21:01:19.092571Z"
    }
   },
   "cell_type": "code",
   "source": [
    "my_set = {1, 2, 3}\n",
    "my_set.add(4)  # {1, 2, 3, 4}\n",
    "my_set.remove(2)  # {1, 3, 4}\n",
    "my_set.discard(5)  # Won't throw an error even if 5 isn’t in the set\n",
    "my_set.pop()  # Removes a **random** element\n",
    "\n"
   ],
   "id": "dfaac326b8c97504",
   "outputs": [
    {
     "data": {
      "text/plain": [
       "1"
      ]
     },
     "execution_count": 3,
     "metadata": {},
     "output_type": "execute_result"
    }
   ],
   "execution_count": 3
  },
  {
   "metadata": {},
   "cell_type": "markdown",
   "source": "#### 🔹 Use `.discard(x)` **instead of** `.remove(x)` if you don’t wanna risk an error when the item ain’t there.",
   "id": "945e7b506759a7be"
  },
  {
   "metadata": {},
   "cell_type": "markdown",
   "source": "### (2) Checking Membership (Fast as Hell)",
   "id": "c52dc5c99c892c7e"
  },
  {
   "metadata": {
    "ExecuteTime": {
     "end_time": "2025-04-22T21:01:27.558877Z",
     "start_time": "2025-04-22T21:01:27.552667Z"
    }
   },
   "cell_type": "code",
   "source": [
    "if 3 in my_set:\n",
    "    print(\"Yeah, 3 is in the set!\")  # ✅ Super fast lookup\n"
   ],
   "id": "7f10ea1b467b4b2f",
   "outputs": [
    {
     "name": "stdout",
     "output_type": "stream",
     "text": [
      "Yeah, 3 is in the set!\n"
     ]
    }
   ],
   "execution_count": 4
  },
  {
   "metadata": {},
   "cell_type": "markdown",
   "source": "**🔹 Way faster than checking in a list (`O(1)` vs `O(n)`).**",
   "id": "979e28dcb1cfd3ee"
  },
  {
   "metadata": {},
   "cell_type": "markdown",
   "source": [
    "### (3) Set Math (Union, Intersection, Difference, Symmetric Difference)\n",
    "This is what sets are **built for—flexing with set operations.**\n",
    "\n",
    "Union (`|` or `.union()`)\n",
    "👉 Combines two sets, removing duplicates."
   ],
   "id": "7b4268936244abc0"
  },
  {
   "metadata": {
    "ExecuteTime": {
     "end_time": "2025-04-22T21:01:40.684023Z",
     "start_time": "2025-04-22T21:01:40.675570Z"
    }
   },
   "cell_type": "code",
   "source": [
    "a = {1, 2, 3}\n",
    "b = {3, 4, 5}\n",
    "print(a | b)  # {1, 2, 3, 4, 5}\n",
    "print(a.union(b))  # Same thing\n"
   ],
   "id": "6aa777c11e07816e",
   "outputs": [
    {
     "name": "stdout",
     "output_type": "stream",
     "text": [
      "{1, 2, 3, 4, 5}\n",
      "{1, 2, 3, 4, 5}\n"
     ]
    }
   ],
   "execution_count": 5
  },
  {
   "metadata": {},
   "cell_type": "markdown",
   "source": [
    "**Intersection (`&` or `.intersection()`)**\n",
    "👉 Finds common elements in both sets."
   ],
   "id": "bea6b721633382c4"
  },
  {
   "metadata": {
    "ExecuteTime": {
     "end_time": "2025-04-22T21:01:42.010095Z",
     "start_time": "2025-04-22T21:01:42.004269Z"
    }
   },
   "cell_type": "code",
   "source": [
    "print(a & b)  # {3}\n",
    "print(a.intersection(b))  # Same thing\n"
   ],
   "id": "1a2482bc90cfa2b6",
   "outputs": [
    {
     "name": "stdout",
     "output_type": "stream",
     "text": [
      "{3}\n",
      "{3}\n"
     ]
    }
   ],
   "execution_count": 6
  },
  {
   "metadata": {},
   "cell_type": "markdown",
   "source": [
    "**Difference (`-` or .`difference()`)**\n",
    "\n",
    "👉 What’s in a that ain’t in b?"
   ],
   "id": "e8985f922baaddf8"
  },
  {
   "metadata": {
    "ExecuteTime": {
     "end_time": "2025-04-22T21:01:45.080926Z",
     "start_time": "2025-04-22T21:01:45.074531Z"
    }
   },
   "cell_type": "code",
   "source": [
    "print(a - b)  # {1, 2}\n",
    "print(a.difference(b))  # Same thing\n"
   ],
   "id": "975ad3ee0d672a9c",
   "outputs": [
    {
     "name": "stdout",
     "output_type": "stream",
     "text": [
      "{1, 2}\n",
      "{1, 2}\n"
     ]
    }
   ],
   "execution_count": 7
  },
  {
   "metadata": {},
   "cell_type": "markdown",
   "source": [
    "**Symmetric Difference (`^` or `.symmetric_difference()`)**\n",
    "\n",
    "👉 Everything except what’s in both sets."
   ],
   "id": "69c3060cdb80ac07"
  },
  {
   "metadata": {
    "ExecuteTime": {
     "end_time": "2025-04-22T21:02:04.599192Z",
     "start_time": "2025-04-22T21:02:04.592217Z"
    }
   },
   "cell_type": "code",
   "source": [
    "print(a ^ b)  # {1, 2, 4, 5} (excludes 3 because it’s in both)\n",
    "print(a.symmetric_difference(b))  # Same thing\n"
   ],
   "id": "b3574f8d52b545cd",
   "outputs": [
    {
     "name": "stdout",
     "output_type": "stream",
     "text": [
      "{1, 2, 4, 5}\n",
      "{1, 2, 4, 5}\n"
     ]
    }
   ],
   "execution_count": 8
  },
  {
   "metadata": {},
   "cell_type": "markdown",
   "source": [
    "### Convert Lists to Sets (Dedupe Like a Boss)\n",
    "Coding tests love to ask:\n",
    "\n",
    "➡️ \"**Remove duplicates from this list.**\"\n",
    "\n",
    "✅ Set does it in one line."
   ],
   "id": "637a533204a54e25"
  },
  {
   "metadata": {
    "ExecuteTime": {
     "end_time": "2025-04-22T21:02:16.092411Z",
     "start_time": "2025-04-22T21:02:16.084171Z"
    }
   },
   "cell_type": "code",
   "source": [
    "nums = [1, 2, 2, 3, 4, 4, 5]\n",
    "unique_nums = set(nums)  # {1, 2, 3, 4, 5}\n"
   ],
   "id": "c2477118bf2f43a8",
   "outputs": [],
   "execution_count": 9
  },
  {
   "metadata": {},
   "cell_type": "markdown",
   "source": "### 5️⃣ Set Comprehension (Like List Comprehension but for Sets)",
   "id": "b940d9826ce58f3a"
  },
  {
   "metadata": {
    "ExecuteTime": {
     "end_time": "2025-04-22T21:02:21.541526Z",
     "start_time": "2025-04-22T21:02:21.534836Z"
    }
   },
   "cell_type": "code",
   "source": [
    "squared = {x**2 for x in range(6)}\n",
    "print(squared)  # {0, 1, 4, 9, 16, 25}\n"
   ],
   "id": "3346bfc094cdfaab",
   "outputs": [
    {
     "name": "stdout",
     "output_type": "stream",
     "text": [
      "{0, 1, 4, 9, 16, 25}\n"
     ]
    }
   ],
   "execution_count": 10
  },
  {
   "metadata": {},
   "cell_type": "markdown",
   "source": "🔹 Useful for quick **filtering & transformations** in one line.",
   "id": "341de54eea7fca64"
  },
  {
   "metadata": {},
   "cell_type": "markdown",
   "source": [
    "### Frozen Sets (Read-Only Sets)\n",
    "Sometimes, you need a set that **can’t be changed** (like a tuple vs a list).\n",
    "That’s called a **frozen set.**"
   ],
   "id": "d2c680bac47655de"
  },
  {
   "metadata": {
    "ExecuteTime": {
     "end_time": "2025-04-22T21:02:28.608341Z",
     "start_time": "2025-04-22T21:02:28.590273Z"
    }
   },
   "cell_type": "code",
   "source": [
    "frozen = frozenset([1, 2, 3])\n",
    "frozen.add(4) # ❌ ERROR! You can’t modify a frozenset.\n"
   ],
   "id": "4886691a0f35a67f",
   "outputs": [
    {
     "ename": "AttributeError",
     "evalue": "'frozenset' object has no attribute 'add'",
     "output_type": "error",
     "traceback": [
      "\u001B[0;31m---------------------------------------------------------------------------\u001B[0m",
      "\u001B[0;31mAttributeError\u001B[0m                            Traceback (most recent call last)",
      "Cell \u001B[0;32mIn[11], line 2\u001B[0m\n\u001B[1;32m      1\u001B[0m frozen \u001B[38;5;241m=\u001B[39m \u001B[38;5;28mfrozenset\u001B[39m([\u001B[38;5;241m1\u001B[39m, \u001B[38;5;241m2\u001B[39m, \u001B[38;5;241m3\u001B[39m])\n\u001B[0;32m----> 2\u001B[0m \u001B[43mfrozen\u001B[49m\u001B[38;5;241;43m.\u001B[39;49m\u001B[43madd\u001B[49m(\u001B[38;5;241m4\u001B[39m) \u001B[38;5;66;03m# ❌ ERROR! You can’t modify a frozenset.\u001B[39;00m\n",
      "\u001B[0;31mAttributeError\u001B[0m: 'frozenset' object has no attribute 'add'"
     ]
    }
   ],
   "execution_count": 11
  },
  {
   "metadata": {},
   "cell_type": "markdown",
   "source": [
    "🔹 Used when you need **immutable sets** (e.g., dictionary keys).\n",
    "\n"
   ],
   "id": "c37dd963bc422a51"
  },
  {
   "metadata": {},
   "cell_type": "markdown",
   "source": [
    "## When to Use Sets in Coding Tests\n",
    "* ✅ Fast lookups (in operator)\n",
    "* ✅ Removing duplicates\n",
    "* ✅ Set operations (union, intersection, difference)\n",
    "* ✅ Finding unique elements quickly"
   ],
   "id": "88ee0c15668efdbe"
  },
  {
   "metadata": {},
   "cell_type": "markdown",
   "source": [
    "### Coding Test Examples\n",
    "**🧩 Problem 1: Find Duplicates in a List**"
   ],
   "id": "b92f1a34d7c90543"
  },
  {
   "metadata": {
    "ExecuteTime": {
     "end_time": "2025-04-22T21:02:43.886441Z",
     "start_time": "2025-04-22T21:02:43.869754Z"
    }
   },
   "cell_type": "code",
   "source": [
    "nums = [1, 2, 3, 4, 3, 2, 5]\n",
    "seen = set()\n",
    "dupes = set(x for x in nums if x in seen or seen.add(x))\n",
    "print(dupes)  # {2, 3}\n"
   ],
   "id": "399af1c5934dbe22",
   "outputs": [
    {
     "name": "stdout",
     "output_type": "stream",
     "text": [
      "{2, 3}\n"
     ]
    }
   ],
   "execution_count": 12
  },
  {
   "metadata": {},
   "cell_type": "markdown",
   "source": "**🔹 Trick: `.add(x)` returns `None`, so `or` makes it work.**",
   "id": "90d32f77d978c569"
  },
  {
   "metadata": {},
   "cell_type": "markdown",
   "source": [
    "## 🧩 Problem 2: Find Missing Number in a Sequence\n",
    "Given an array `nums` containing `n` distinct numbers in the range `[0, n]`, return the only number in the range that is missing from the array.\n",
    "\n"
   ],
   "id": "94d087687d86e629"
  },
  {
   "metadata": {
    "ExecuteTime": {
     "end_time": "2025-04-22T21:03:19.900642Z",
     "start_time": "2025-04-22T21:03:19.891456Z"
    }
   },
   "cell_type": "code",
   "source": [
    "nums = [1, 2, 3, 5]  # Missing 4\n",
    "\n"
   ],
   "id": "d877592db9ada5c5",
   "outputs": [
    {
     "name": "stdout",
     "output_type": "stream",
     "text": [
      "{4}\n"
     ]
    }
   ],
   "execution_count": 13
  },
  {
   "metadata": {},
   "cell_type": "markdown",
   "source": "**🔹 Way easier than iterating through a list.**",
   "id": "5cedef64d0b08153"
  },
  {
   "metadata": {},
   "cell_type": "markdown",
   "source": [
    "## 🧩 Problem 3: Are Two Lists Disjoint?\n",
    "\n",
    "👉 Do they have nothing in common?"
   ],
   "id": "826e98e86cf858d7"
  },
  {
   "metadata": {
    "ExecuteTime": {
     "end_time": "2025-03-14T22:50:44.439116Z",
     "start_time": "2025-03-14T22:50:44.436310Z"
    }
   },
   "cell_type": "code",
   "source": [
    "a = {1, 2, 3}\n",
    "b = {4, 5, 6}\n",
    "print(a.isdisjoint(b))  # True (no common elements)\n"
   ],
   "id": "58dfda8befbb3488",
   "outputs": [
    {
     "name": "stdout",
     "output_type": "stream",
     "text": [
      "True\n"
     ]
    }
   ],
   "execution_count": 15
  },
  {
   "metadata": {},
   "cell_type": "markdown",
   "source": [
    "**🔹 Super useful for fast disjoint checks.**\n",
    "\n"
   ],
   "id": "a04fccaf42e7fb7f"
  },
  {
   "metadata": {},
   "cell_type": "markdown",
   "source": "## Remove Duplicates from a List",
   "id": "c9c6e59a4628ea27"
  },
  {
   "metadata": {
    "ExecuteTime": {
     "end_time": "2025-03-14T23:34:45.314777Z",
     "start_time": "2025-03-14T23:34:45.304676Z"
    }
   },
   "cell_type": "code",
   "source": [
    "nums = [3, 3, 2, 5, 5, 1, 4, 2]\n",
    "unique_nums = set(nums)\n",
    "print(unique_nums)\n"
   ],
   "id": "a2906e0329c44cd9",
   "outputs": [
    {
     "name": "stdout",
     "output_type": "stream",
     "text": [
      "{1, 2, 3, 4, 5}\n"
     ]
    }
   ],
   "execution_count": 16
  },
  {
   "metadata": {},
   "cell_type": "markdown",
   "source": "## Add Elements to a Set",
   "id": "65fa96fd5973d7ff"
  },
  {
   "metadata": {
    "ExecuteTime": {
     "end_time": "2025-03-14T23:38:46.707900Z",
     "start_time": "2025-03-14T23:38:46.704133Z"
    }
   },
   "cell_type": "code",
   "source": [
    "my_set = {1, 2, 3}\n",
    "# expected output = {1, 2, 3, 4}\n",
    "my_set.add(4)\n",
    "print(my_set)"
   ],
   "id": "8ddf5b46bc297f6e",
   "outputs": [
    {
     "name": "stdout",
     "output_type": "stream",
     "text": [
      "{1, 2, 3, 4}\n"
     ]
    }
   ],
   "execution_count": 18
  },
  {
   "metadata": {},
   "cell_type": "markdown",
   "source": "## Remove Elements from a Set",
   "id": "3994afec9c816447"
  },
  {
   "metadata": {
    "ExecuteTime": {
     "end_time": "2025-03-14T23:42:30.171563Z",
     "start_time": "2025-03-14T23:42:30.169087Z"
    }
   },
   "cell_type": "code",
   "source": [
    "nums = {10, 20, 30, 40, 50}\n",
    "nums.remove(30)\n",
    "nums.discard(60)  # This won't cause an error\n",
    "print(nums)\n"
   ],
   "id": "98b696d444bd125d",
   "outputs": [
    {
     "name": "stdout",
     "output_type": "stream",
     "text": [
      "{50, 20, 40, 10}\n"
     ]
    }
   ],
   "execution_count": 21
  },
  {
   "metadata": {},
   "cell_type": "markdown",
   "source": "## Membership Check (Fast Lookup)",
   "id": "71253afee8d4171f"
  },
  {
   "metadata": {
    "ExecuteTime": {
     "end_time": "2025-03-14T23:47:15.443137Z",
     "start_time": "2025-03-14T23:47:15.440097Z"
    }
   },
   "cell_type": "code",
   "source": [
    "letters = {'a', 'b', 'c', 'd'}\n",
    "print('c' in letters)\n",
    "print('f' in letters)"
   ],
   "id": "4e08567b63f438f2",
   "outputs": [
    {
     "name": "stdout",
     "output_type": "stream",
     "text": [
      "True\n",
      "False\n"
     ]
    }
   ],
   "execution_count": 23
  },
  {
   "metadata": {},
   "cell_type": "markdown",
   "source": [
    "expected output\n",
    "\n",
    "True\n",
    "\n",
    "False\n"
   ],
   "id": "8e463a08b291f1f4"
  },
  {
   "metadata": {
    "ExecuteTime": {
     "end_time": "2025-03-16T01:05:24.036218Z",
     "start_time": "2025-03-16T01:05:23.448614Z"
    }
   },
   "cell_type": "code",
   "source": "",
   "id": "55ffbb3113c63692",
   "outputs": [],
   "execution_count": 24
  },
  {
   "metadata": {},
   "cell_type": "code",
   "outputs": [],
   "execution_count": null,
   "source": "",
   "id": "48b0accb271bbeb0"
  }
 ],
 "metadata": {
  "kernelspec": {
   "display_name": "Python 3",
   "language": "python",
   "name": "python3"
  },
  "language_info": {
   "codemirror_mode": {
    "name": "ipython",
    "version": 2
   },
   "file_extension": ".py",
   "mimetype": "text/x-python",
   "name": "python",
   "nbconvert_exporter": "python",
   "pygments_lexer": "ipython2",
   "version": "2.7.6"
  }
 },
 "nbformat": 4,
 "nbformat_minor": 5
}
