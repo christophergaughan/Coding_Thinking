{
 "cells": [
  {
   "metadata": {},
   "cell_type": "markdown",
   "source": [
    "## `split()`- turns a string into a list of strings and you can split on whatever you want punctuation wise\n",
    "* The idea here is that you can take a string, then turn it into a list\n",
    "* THEN, you can isolate things in the list by indexing on them"
   ],
   "id": "cb058a6bd868d129"
  },
  {
   "metadata": {
    "ExecuteTime": {
     "end_time": "2025-03-12T04:59:02.004871Z",
     "start_time": "2025-03-12T04:59:00.963459Z"
    }
   },
   "cell_type": "code",
   "source": "import pandas as pd",
   "id": "7ec11758dbd65ec3",
   "outputs": [],
   "execution_count": 2
  },
  {
   "cell_type": "code",
   "id": "initial_id",
   "metadata": {
    "collapsed": true,
    "ExecuteTime": {
     "end_time": "2025-03-12T04:58:26.582215Z",
     "start_time": "2025-03-12T04:58:26.577324Z"
    }
   },
   "source": [
    "text = \"apple,banana,grape\"\n",
    "text.split(',')[0]"
   ],
   "outputs": [
    {
     "data": {
      "text/plain": [
       "'apple'"
      ]
     },
     "execution_count": 1,
     "metadata": {},
     "output_type": "execute_result"
    }
   ],
   "execution_count": 1
  },
  {
   "metadata": {
    "ExecuteTime": {
     "end_time": "2025-03-11T00:13:53.587259Z",
     "start_time": "2025-03-11T00:13:53.582799Z"
    }
   },
   "cell_type": "code",
   "source": [
    "data = \"name:John;age:30;city:New York\"\n",
    "fields = data.split(\";\") # now you have a key:value setup ['name:John', 'age:30', 'city:New York']\n",
    "structured_data = {item.split(\":\")[0]: item.split(\":\")[1] for item in fields} # Make the dictionary\n",
    "print(structured_data)\n",
    "\n",
    "#structured_data = {item.split(\":\")[0]: item.split(\":\")[1] for item in fields}\n",
    "\n",
    "\n"
   ],
   "id": "13cbc226cc518079",
   "outputs": [
    {
     "name": "stdout",
     "output_type": "stream",
     "text": [
      "{'name': 'John', 'age': '30', 'city': 'New York'}\n"
     ]
    }
   ],
   "execution_count": 4
  },
  {
   "metadata": {},
   "cell_type": "markdown",
   "source": [
    "## `join()`\n",
    "* This method is used to concatenate elements of an iterable (like a list) into a string.\n",
    "* It's the opposite of split()"
   ],
   "id": "c20a0b519170b3e1"
  },
  {
   "metadata": {
    "ExecuteTime": {
     "end_time": "2025-03-11T00:13:57.256551Z",
     "start_time": "2025-03-11T00:13:57.253172Z"
    }
   },
   "cell_type": "code",
   "source": [
    "words = [\"Python\", \"is\", \"awesome\"]\n",
    "sentence = \" \".join(words)  # Joining with space\n",
    "print(sentence)  # Output: \"Python is awesome\"\n"
   ],
   "id": "b2ae95af73a11ad9",
   "outputs": [
    {
     "name": "stdout",
     "output_type": "stream",
     "text": [
      "Python is awesome\n"
     ]
    }
   ],
   "execution_count": 5
  },
  {
   "metadata": {
    "ExecuteTime": {
     "end_time": "2025-03-11T00:13:58.757675Z",
     "start_time": "2025-03-11T00:13:58.753818Z"
    }
   },
   "cell_type": "code",
   "source": [
    "row = [\"Alice\", \"Data Engineer\", \"San Francisco\"]\n",
    "csv_line = \",\".join(row)  # Convert list to CSV row\n",
    "print(csv_line)  # Output: \"Alice,Data Engineer,San Francisco\"\n"
   ],
   "id": "4a5e82807d249457",
   "outputs": [
    {
     "name": "stdout",
     "output_type": "stream",
     "text": [
      "Alice,Data Engineer,San Francisco\n"
     ]
    }
   ],
   "execution_count": 6
  },
  {
   "metadata": {},
   "cell_type": "markdown",
   "source": [
    "```\n",
    "text = \"  Python  is   powerful!  \"\n",
    "cleaned_text = \" \".join(text.split())  # Removes extra spaces\n",
    "print(cleaned_text)  # Output: \"Python is powerful!\"\n",
    "### An iterable can also be a dictionary"
   ],
   "id": "95dc211783ada99f"
  },
  {
   "metadata": {
    "ExecuteTime": {
     "end_time": "2025-03-07T22:30:01.896243Z",
     "start_time": "2025-03-07T22:30:01.892848Z"
    }
   },
   "cell_type": "code",
   "source": [
    "data = {\"name\": \"Alice\", \"role\": \"Data Engineer\", \"city\": \"SF\"}\n",
    "csv_line = \",\".join(f\"{k}={v}\" for k, v in data.items())\n",
    "print(csv_line)\n"
   ],
   "id": "15d80d39ab5fc4bf",
   "outputs": [
    {
     "name": "stdout",
     "output_type": "stream",
     "text": [
      "name=Alice,role=Data Engineer,city=SF\n"
     ]
    }
   ],
   "execution_count": 19
  },
  {
   "metadata": {},
   "cell_type": "markdown",
   "source": [
    "## Combining split() and join() for Data Cleaning\n",
    "Example: Normalizing Text Data"
   ],
   "id": "31924931e7466835"
  },
  {
   "metadata": {
    "ExecuteTime": {
     "end_time": "2025-03-07T22:39:57.304813Z",
     "start_time": "2025-03-07T22:39:57.302086Z"
    }
   },
   "cell_type": "code",
   "source": [
    "text = \"  Python  is   powerful!  \" # starting off with a string\n",
    "cleaned_text = \" \".join(text.split())  # Removes extra spaces- split into a list of strings, then join them\n",
    "print(cleaned_text)  # Output: \"Python is powerful!\"\n"
   ],
   "id": "5ad228d3bd25ea02",
   "outputs": [
    {
     "name": "stdout",
     "output_type": "stream",
     "text": [
      "Python is powerful!\n"
     ]
    }
   ],
   "execution_count": 21
  },
  {
   "metadata": {
    "ExecuteTime": {
     "end_time": "2025-03-07T22:48:21.327922Z",
     "start_time": "2025-03-07T22:48:21.325404Z"
    }
   },
   "cell_type": "code",
   "source": [
    "log_entry = \"ERROR|2025-03-07|Server Down\"\n",
    "# desired output: \"ERROR - 2025-03-07 - Server Down\"\n",
    "formatted_output = \" - \".join(log_entry.split(\"|\"))\n",
    "print(formatted_output)"
   ],
   "id": "56620b4844c7c03a",
   "outputs": [
    {
     "name": "stdout",
     "output_type": "stream",
     "text": [
      "ERROR - 2025-03-07 - Server Down\n"
     ]
    }
   ],
   "execution_count": 24
  },
  {
   "metadata": {},
   "cell_type": "markdown",
   "source": [
    "## Performance Considerations\n",
    "### `split()` Performance:\n",
    "* Native `.split(delimiter)` is optimized and faster than using `re.split()`.\n",
    "* `split(None)` (default) intelligently splits by any whitespace.\n",
    "## `join()` Performance:\n",
    "* `\"\".join(iterable)` is the *fastest* way to concatenate strings.\n",
    "* **Always** prefer `\"\".join(list)` over `+=` inside loops."
   ],
   "id": "fc2d3edeff40a986"
  },
  {
   "metadata": {},
   "cell_type": "markdown",
   "source": [
    "## Tricky problem: We're gonna need the `replace()` function\n",
    "### The Basics of `replace()`\n",
    "The `replace()` function in Python is like a find-and-swap tool for strings. It lets you take a piece of text and swap out certain words, letters, or symbols for something else—kinda like remixing a track with different beats.\n",
    "**Syntax**\n",
    "`string.replace(old, new, count)`\n",
    "* `old` → What you wanna swap out\n",
    "* `new` → What you wanna replace it with\n",
    "* `count` (optional) → How many times you wanna do the swap (default: all)\n",
    "\n",
    "example:\n",
    "```\n",
    "text = \"Man, Python is difficult!\"\n",
    "new_text = text.replace(\"difficult\", \"🔥\")\n",
    "print(new_text)\n",
    "Man, Python is 🔥!\n",
    "```\n",
    "\n",
    "**Processing API Responses (JSON-like strings)**\n",
    "This problem is trickier than it seems at first and you have to pay extra attention to the desired output. We"
   ],
   "id": "ffde63af97d7a851"
  },
  {
   "metadata": {
    "ExecuteTime": {
     "end_time": "2025-03-09T22:00:14.917443Z",
     "start_time": "2025-03-09T22:00:14.913897Z"
    }
   },
   "cell_type": "code",
   "source": [
    "response = '{\"name\": \"Alice\", \"age\": \"30\", \"city\": \"NY\"}'\n",
    "key_value_pairs = response.replace(\"{\", \"\").replace(\"}\", \"\").replace('\"', '').split(\",\")\n",
    "structured_dict = {_.split(\":\")[0]: _.split(\":\")[1] for _ in key_value_pairs}\n",
    "print(structured_dict)\n",
    "\n"
   ],
   "id": "72cbc25e1b39942",
   "outputs": [
    {
     "name": "stdout",
     "output_type": "stream",
     "text": [
      "{'name': ' Alice', ' age': ' 30', ' city': ' NY'}\n"
     ]
    }
   ],
   "execution_count": 49
  },
  {
   "metadata": {
    "ExecuteTime": {
     "end_time": "2025-03-09T22:09:42.329261Z",
     "start_time": "2025-03-09T22:09:42.326479Z"
    }
   },
   "cell_type": "code",
   "source": [
    "filepath = \"/home/user/documents/report.csv\"\n",
    "# Output: \"/home/user/documents\"\n",
    "\"/\".join(filepath.split(\"/\")[0:4])\n"
   ],
   "id": "403d8ec9e676d570",
   "outputs": [
    {
     "data": {
      "text/plain": [
       "'/home/user/documents'"
      ]
     },
     "execution_count": 55,
     "metadata": {},
     "output_type": "execute_result"
    }
   ],
   "execution_count": 55
  },
  {
   "metadata": {},
   "cell_type": "markdown",
   "source": [
    "expected output\n",
    "```\n",
    "[\n",
    "    {'level': 'INFO', 'timestamp': '2025-03-07', 'message': 'User login: john_doe'},\n",
    "    {'level': 'ERROR', 'timestamp': '2025-03-07', 'message': 'Database timeout'},\n",
    "    {'level': 'WARNING', 'timestamp': '2025-03-07', 'message': 'Low disk space'}\n",
    "]\n",
    "\n",
    "```"
   ],
   "id": "68905a8d5e54798c"
  },
  {
   "metadata": {
    "ExecuteTime": {
     "end_time": "2025-03-09T22:43:38.894277Z",
     "start_time": "2025-03-09T22:43:38.877584Z"
    }
   },
   "cell_type": "code",
   "source": [
    "logs = [\n",
    "    \"[INFO] 2025-03-07 12:00:01 - User login: john_doe\",\n",
    "    \"[ERROR] 2025-03-07 12:02:15 - Database timeout\",\n",
    "    \"[WARNING] 2025-03-07 12:05:42 - Low disk space\"\n",
    "]\n",
    "\n",
    "for log in logs:\n",
    "    parts = log.split(\" \", 1)\n",
    "    level, timestamp = parts[0][1:-1], parts[0].split(\" \")[1]  # Extract log level & time\n",
    "    print()\n",
    "\n",
    "\n",
    "\n"
   ],
   "id": "31220cc369c25715",
   "outputs": [
    {
     "ename": "IndexError",
     "evalue": "list index out of range",
     "output_type": "error",
     "traceback": [
      "\u001B[0;31m---------------------------------------------------------------------------\u001B[0m",
      "\u001B[0;31mIndexError\u001B[0m                                Traceback (most recent call last)",
      "Cell \u001B[0;32mIn[69], line 9\u001B[0m\n\u001B[1;32m      7\u001B[0m \u001B[38;5;28;01mfor\u001B[39;00m log \u001B[38;5;129;01min\u001B[39;00m logs:\n\u001B[1;32m      8\u001B[0m     parts \u001B[38;5;241m=\u001B[39m log\u001B[38;5;241m.\u001B[39msplit(\u001B[38;5;124m\"\u001B[39m\u001B[38;5;124m \u001B[39m\u001B[38;5;124m\"\u001B[39m, \u001B[38;5;241m1\u001B[39m)\n\u001B[0;32m----> 9\u001B[0m     level, timestamp \u001B[38;5;241m=\u001B[39m parts[\u001B[38;5;241m0\u001B[39m][\u001B[38;5;241m1\u001B[39m:\u001B[38;5;241m-\u001B[39m\u001B[38;5;241m1\u001B[39m], \u001B[43mparts\u001B[49m\u001B[43m[\u001B[49m\u001B[38;5;241;43m0\u001B[39;49m\u001B[43m]\u001B[49m\u001B[38;5;241;43m.\u001B[39;49m\u001B[43msplit\u001B[49m\u001B[43m(\u001B[49m\u001B[38;5;124;43m\"\u001B[39;49m\u001B[38;5;124;43m \u001B[39;49m\u001B[38;5;124;43m\"\u001B[39;49m\u001B[43m)\u001B[49m\u001B[43m[\u001B[49m\u001B[38;5;241;43m1\u001B[39;49m\u001B[43m]\u001B[49m  \u001B[38;5;66;03m# Extract log level & time\u001B[39;00m\n\u001B[1;32m     10\u001B[0m     \u001B[38;5;28mprint\u001B[39m(log)\n",
      "\u001B[0;31mIndexError\u001B[0m: list index out of range"
     ]
    }
   ],
   "execution_count": 69
  },
  {
   "metadata": {
    "ExecuteTime": {
     "end_time": "2025-03-09T22:45:23.105036Z",
     "start_time": "2025-03-09T22:45:23.100518Z"
    }
   },
   "cell_type": "code",
   "source": [
    "logs = [\n",
    "    \"[INFO] 2025-03-07 12:00:01 - User login: john_doe\",\n",
    "    \"[ERROR] 2025-03-07 12:02:15 - Database timeout\",\n",
    "    \"[WARNING] 2025-03-07 12:05:42 - Low disk space\"\n",
    "]\n",
    "\n",
    "def parse_logs(logs):\n",
    "    parsed = []\n",
    "    for log in logs:\n",
    "        parts = log.split(\" - \", 1)  # Split only at the first occurrence\n",
    "        level, timestamp = parts[0][1:-1], parts[0].split(\" \")[1]  # Extract log level & time\n",
    "        message = parts[1] if len(parts) > 1 else \"\"\n",
    "        parsed.append({\"level\": level, \"timestamp\": timestamp, \"message\": message})\n",
    "    return parsed\n",
    "\n",
    "structured_logs = parse_logs(logs)\n",
    "print(structured_logs)\n"
   ],
   "id": "7bec042d5bbdf161",
   "outputs": [
    {
     "name": "stdout",
     "output_type": "stream",
     "text": [
      "[{'level': 'INFO] 2025-03-07 12:00:0', 'timestamp': '2025-03-07', 'message': 'User login: john_doe'}, {'level': 'ERROR] 2025-03-07 12:02:1', 'timestamp': '2025-03-07', 'message': 'Database timeout'}, {'level': 'WARNING] 2025-03-07 12:05:4', 'timestamp': '2025-03-07', 'message': 'Low disk space'}]\n"
     ]
    }
   ],
   "execution_count": 70
  },
  {
   "metadata": {
    "ExecuteTime": {
     "end_time": "2025-03-11T00:13:27.926931Z",
     "start_time": "2025-03-11T00:13:26.692626Z"
    }
   },
   "cell_type": "code",
   "source": "",
   "id": "728c672d343c0541",
   "outputs": [],
   "execution_count": 1
  },
  {
   "metadata": {},
   "cell_type": "markdown",
   "source": [
    "# Dictionary Comprehension with Multiple Iterables\n",
    "** *You can even combine two lists into a dictionary.* **\n",
    "\n",
    "📌 Example: Zip Two Lists into a Dictionary"
   ],
   "id": "be9d18c46a04033"
  },
  {
   "metadata": {
    "ExecuteTime": {
     "end_time": "2025-03-11T00:23:51.438666Z",
     "start_time": "2025-03-11T00:23:51.431021Z"
    }
   },
   "cell_type": "code",
   "source": [
    "keys = [\"name\", \"age\", \"city\"]\n",
    "values = [\"John\", 30, \"New York\"]\n",
    "person = {k: v for k, v in zip(keys, values)}\n",
    "print(person)\n"
   ],
   "id": "556a24d733b435c",
   "outputs": [
    {
     "name": "stdout",
     "output_type": "stream",
     "text": [
      "{'name': 'John', 'age': 30, 'city': 'New York'}\n"
     ]
    }
   ],
   "execution_count": 7
  },
  {
   "metadata": {},
   "cell_type": "markdown",
   "source": [
    "🔹 This is useful for processing CSV headers with values.\n",
    "\n",
    "## Modify Values While Building the Dictionary\n",
    "Instead of just assigning values as they are, you can modify them.\n",
    "\n",
    "📌 Example: Convert Fahrenheit to Celsius"
   ],
   "id": "8102b9d2ca7b2127"
  },
  {
   "metadata": {
    "ExecuteTime": {
     "end_time": "2025-03-11T01:07:10.159627Z",
     "start_time": "2025-03-11T01:07:10.155014Z"
    }
   },
   "cell_type": "code",
   "source": [
    "temps_f = {\"NY\": 100, \"LA\": 80, \"Chicago\": 50}\n",
    "temps_in_c = {k: round((v - 32) * 5/9, 2) for k, v in temps_f.items()}\n",
    "print(temps_in_c)\n"
   ],
   "id": "40f74e6055c1f6e5",
   "outputs": [
    {
     "name": "stdout",
     "output_type": "stream",
     "text": [
      "{'NY': 37.78, 'LA': 26.67, 'Chicago': 10.0}\n"
     ]
    }
   ],
   "execution_count": 14
  },
  {
   "metadata": {},
   "cell_type": "markdown",
   "source": [
    "## Nested Dictionary Comprehension\n",
    "When dealing with complex data, you can nest dictionary comprehensions.\n",
    "\n",
    "📌 Example: Organizing AWS Resource Data\n",
    "*desired output**: Convert cost to EUR (assume 1 USD = 0.92 EUR)\n",
    "```\n",
    "{\n",
    "    'EC2': {'instances': 5, 'cost': 92.0},\n",
    "    'S3': {'buckets': 10, 'cost': 46.0},\n",
    "    'Lambda': {'functions': 20, 'cost': 27.6}\n",
    "}"
   ],
   "id": "936eacc7c08dfa0b"
  },
  {
   "metadata": {
    "ExecuteTime": {
     "end_time": "2025-03-11T01:36:11.660405Z",
     "start_time": "2025-03-11T01:36:11.656945Z"
    }
   },
   "cell_type": "code",
   "source": [
    "aws_services = {\n",
    "    \"EC2\": {\"instances\": 5, \"cost\": 100},\n",
    "    \"S3\": {\"buckets\": 10, \"cost\": 50},\n",
    "    \"Lambda\": {\"functions\": 20, \"cost\": 30}\n",
    "}\n",
    "\n",
    "costs_eur = {service: {k: (v * 0.92 if k == \"cost\" else v) for k, v in details.items()}\n",
    "                 for service, details in aws_services.items()}\n",
    "print(costs_eur)\n",
    "\n"
   ],
   "id": "df4a6422cee4705a",
   "outputs": [
    {
     "name": "stdout",
     "output_type": "stream",
     "text": [
      "{'EC2': {'instances': 5, 'cost': 92.0}, 'S3': {'buckets': 10, 'cost': 46.0}, 'Lambda': {'functions': 20, 'cost': 27.6}}\n"
     ]
    }
   ],
   "execution_count": 24
  },
  {
   "metadata": {},
   "cell_type": "markdown",
   "source": [
    "## The Basics: What is Dictionary Comprehension?\n",
    "Dictionary comprehension is a one-liner way to create a dictionary in Python. Instead of writing a whole loop, you can do it in a single line using:\n",
    "`{key: value for item in iterable}\n",
    "`"
   ],
   "id": "6a3881fca1c07661"
  },
  {
   "metadata": {
    "ExecuteTime": {
     "end_time": "2025-03-11T19:43:59.397480Z",
     "start_time": "2025-03-11T19:43:59.394086Z"
    }
   },
   "cell_type": "code",
   "source": [
    "names = [\"John\", \"Mike\", \"Lisa\"]\n",
    "name_dict = {name: len(name) for name in names}  # Names as keys, lengths as values\n",
    "print(name_dict)\n"
   ],
   "id": "109b051440f536b8",
   "outputs": [
    {
     "name": "stdout",
     "output_type": "stream",
     "text": [
      "{'John': 4, 'Mike': 4, 'Lisa': 4}\n"
     ]
    }
   ],
   "execution_count": 2
  },
  {
   "metadata": {},
   "cell_type": "markdown",
   "source": [
    "## Transforming Data Like a Pro\n",
    "Let’s say you’re dealing with AWS log data and need to extract useful info.\n",
    "\n",
    "📌 Example: Converting Key-Value Pairs from Strings"
   ],
   "id": "78985989be3909a"
  },
  {
   "metadata": {
    "ExecuteTime": {
     "end_time": "2025-03-11T20:05:58.531482Z",
     "start_time": "2025-03-11T20:05:58.526705Z"
    }
   },
   "cell_type": "code",
   "source": [
    "log = \"user:John;action:Login;status:Success\"\n",
    "{item.split(\":\")[0]:item.split(\":\")[1] for item in log.split(\";\")}"
   ],
   "id": "11dd97548d39e29a",
   "outputs": [
    {
     "data": {
      "text/plain": [
       "{'user': 'John', 'action': 'Login', 'status': 'Success'}"
      ]
     },
     "execution_count": 19,
     "metadata": {},
     "output_type": "execute_result"
    }
   ],
   "execution_count": 19
  },
  {
   "metadata": {},
   "cell_type": "markdown",
   "source": "### for this problem you can see where your k, v are via",
   "id": "7108d25d46af630d"
  },
  {
   "metadata": {
    "ExecuteTime": {
     "end_time": "2025-03-11T20:15:51.731189Z",
     "start_time": "2025-03-11T20:15:51.727498Z"
    }
   },
   "cell_type": "code",
   "source": [
    "log = \"user:John;action:Login;status:Success\"\n",
    "log.split(\";\")"
   ],
   "id": "b86acc3b6b5b2900",
   "outputs": [
    {
     "data": {
      "text/plain": [
       "['user:John', 'action:Login', 'status:Success']"
      ]
     },
     "execution_count": 20,
     "metadata": {},
     "output_type": "execute_result"
    }
   ],
   "execution_count": 20
  },
  {
   "metadata": {},
   "cell_type": "markdown",
   "source": [
    "now you see your k, v pairs in `split(\":\")[0]` and `split(\":\")[1]`--> then you can put it into the dictionary comprehension\n",
    "#### 🔹 Why this is dope:\n",
    "* It splits the log into individual key-value pairs and maps them into a dictionary in a single line. 🔥\n"
   ],
   "id": "843077d1a3377761"
  },
  {
   "metadata": {},
   "cell_type": "markdown",
   "source": [
    "## Dictionary Comprehension with Multiple Iterables\n",
    "You can even combine two lists into a dictionary.\n",
    "\n",
    "📌 Example: Zip Two Lists into a Dictionary"
   ],
   "id": "f7c016838fb0c60d"
  },
  {
   "metadata": {
    "ExecuteTime": {
     "end_time": "2025-03-11T20:23:41.466735Z",
     "start_time": "2025-03-11T20:23:41.461175Z"
    }
   },
   "cell_type": "code",
   "source": [
    "keys = [\"name\", \"age\", \"city\"]\n",
    "values = [\"John\", 30, \"New York\"]\n",
    "person = {k: v for k, v in zip(keys, values)}\n",
    "print(person)\n"
   ],
   "id": "8b713be884c16ea3",
   "outputs": [
    {
     "name": "stdout",
     "output_type": "stream",
     "text": [
      "{'name': 'John', 'age': 30, 'city': 'New York'}\n"
     ]
    }
   ],
   "execution_count": 21
  },
  {
   "metadata": {},
   "cell_type": "markdown",
   "source": [
    "## Handling Missing or Default Values\n",
    "Sometimes, your data is incomplete. You can use .get() inside dictionary comprehension to handle missing values gracefully.\n",
    "\n",
    "📌 Example: Setting Default Values"
   ],
   "id": "11a2855f55020a2"
  },
  {
   "metadata": {
    "ExecuteTime": {
     "end_time": "2025-03-11T20:39:08.358472Z",
     "start_time": "2025-03-11T20:39:08.353764Z"
    }
   },
   "cell_type": "code",
   "source": [
    "employees = [\"Alice\", \"Bob\", \"Charlie\"]\n",
    "salaries = {\"Alice\": 50000, \"Bob\": 55000}\n",
    "# Notice the salary for 'Charles' is missing\n",
    "{name: salaries.get(name, \"Salary doe not exist\") for name in employees}"
   ],
   "id": "74e5f05d55159b95",
   "outputs": [
    {
     "data": {
      "text/plain": [
       "{'Alice': 50000, 'Bob': 55000, 'Charlie': 'Salary doe not exist'}"
      ]
     },
     "execution_count": 25,
     "metadata": {},
     "output_type": "execute_result"
    }
   ],
   "execution_count": 25
  },
  {
   "metadata": {},
   "cell_type": "markdown",
   "source": [
    "#### 🔹 What happened?\n",
    "\n",
    "Charlie wasn’t in the salaries dictionary, so we set his salary to \"Not Available\" instead of throwing an error."
   ],
   "id": "ba3af6ce89496b36"
  },
  {
   "metadata": {},
   "cell_type": "markdown",
   "source": [
    "## Challenge: Log Parsing with Dictionary Comprehension\n",
    "Let’s level up—imagine you got a messy log file that looks like this:\n",
    "desired output:\n",
    "\n",
    "```\n",
    "{\n",
    "    'ERROR': 'Disk full',\n",
    "    'INFO': 'System running smoothly',\n",
    "    'WARNING': 'High CPU usage detected'\n",
    "}\n",
    "```"
   ],
   "id": "804a6b6dee894184"
  },
  {
   "metadata": {
    "ExecuteTime": {
     "end_time": "2025-03-11T22:36:42.523177Z",
     "start_time": "2025-03-11T22:36:42.519698Z"
    }
   },
   "cell_type": "code",
   "source": [
    "logs = [\n",
    "    \"ERROR: Disk full\",\n",
    "    \"INFO: System running smoothly\",\n",
    "    \"WARNING: High CPU usage detected\"\n",
    "]\n",
    "\n",
    "# remember {k:v for log in logs}\n",
    "format_log = {log.split(\":\")[0]: log.split(\":\")[1].strip() for log in logs}\n",
    "print(format_log)"
   ],
   "id": "215666cc063a22af",
   "outputs": [],
   "execution_count": 40
  },
  {
   "metadata": {},
   "cell_type": "markdown",
   "source": [
    "## Nested Dictionary- needs more work\n",
    "Let's say you got user data in a dictionary, and you want to tweak it.\n",
    "\n",
    "**Example Data (Raw JSON-style)**\n",
    "```\n",
    "users = {\n",
    "    \"chris\": {\"age\": 56, \"city\": \"NYC\"},\n",
    "    \"mike\": {\"age\": 34, \"city\": \"LA\"},\n",
    "    \"jess\": {\"age\": 49, \"city\": \"Houston\"},\n",
    "}\n",
    "```\n",
    "**Task: Convert all city names to uppercase**\n",
    "We gotta loop over each user and update their city.\n",
    "\n",
    "**Using dictionary comprehension:**\n"
   ],
   "id": "1cdc4e8295dd7cee"
  },
  {
   "metadata": {
    "ExecuteTime": {
     "end_time": "2025-03-11T21:11:15.083443Z",
     "start_time": "2025-03-11T21:11:15.079265Z"
    }
   },
   "cell_type": "code",
   "source": [
    "users = {\n",
    "    \"chris\": {\"age\": 56, \"city\": \"nyc\"},\n",
    "    \"mike\": {\"age\": 34, \"city\": \"la\"},\n",
    "    \"jess\": {\"age\": 49, \"city\": \"houston\"},\n",
    "}\n",
    "updated_users = {k: {ik: (iv.upper() if ik == \"city\" else iv) for ik, iv in v.items()} for k, v in users.items()}\n",
    "\n",
    "print(updated_users)\n"
   ],
   "id": "8e7cf44606f0627f",
   "outputs": [
    {
     "name": "stdout",
     "output_type": "stream",
     "text": [
      "{'chris': {'age': 56, 'city': 'NYC'}, 'mike': {'age': 34, 'city': 'LA'}, 'jess': {'age': 49, 'city': 'HOUSTON'}}\n"
     ]
    }
   ],
   "execution_count": 33
  },
  {
   "metadata": {},
   "cell_type": "markdown",
   "source": [
    "### 🔹 Breakdown:\n",
    "\n",
    "* First k, v loops over the outer dictionary (users).\n",
    "* Second {ik: (iv.upper() if ik == \"city\" else iv) for ik, iv in v.items()} loops over the inner dictionary.\n",
    "* We apply .upper() only when the key is \"city\"."
   ],
   "id": "3f9ede851681e2be"
  },
  {
   "metadata": {},
   "cell_type": "markdown",
   "source": [
    "## Example 2: Filtering Nested Data\n",
    "** *Let’s say we only want users above 40 years old.* **"
   ],
   "id": "25f53ef7e970ce15"
  },
  {
   "metadata": {
    "ExecuteTime": {
     "end_time": "2025-03-11T21:18:16.393819Z",
     "start_time": "2025-03-11T21:18:16.390197Z"
    }
   },
   "cell_type": "code",
   "source": [
    "filtered_users = {k: v for k, v in users.items() if v[\"age\"] > 40}\n",
    "\n",
    "print(filtered_users)\n"
   ],
   "id": "b796943448675b06",
   "outputs": [
    {
     "name": "stdout",
     "output_type": "stream",
     "text": [
      "{'chris': {'age': 56, 'city': 'nyc'}, 'jess': {'age': 49, 'city': 'houston'}}\n"
     ]
    }
   ],
   "execution_count": 35
  },
  {
   "metadata": {},
   "cell_type": "markdown",
   "source": [
    "### 🔹 Here’s the play:\n",
    "\n",
    "We used {k: v for k, v in users.items() if v[\"age\"] > 40} to keep only users where \"age\" is greater than 40."
   ],
   "id": "1dd9917decc56f5"
  },
  {
   "metadata": {},
   "cell_type": "markdown",
   "source": [
    "### Note: this can seem confusing because the syntax in both cases is different\n",
    "## Why the Syntax Feels Different\n",
    "You're seeing two types of dictionary comprehensions, but they serve different purposes.\n",
    "\n",
    "1. **Transforming** nested dictionaries → requires two loops (one for outer dict, one for inner dict).\n",
    "2. **Filtering** outer dictionary → requires one loop and a simple condition.\n",
    "\n",
    "### Case 1: Updating Nested Values (Two Loops)\n",
    "You’re modifying an inner dictionary, so you:\n",
    "```\n",
    "updated_users = {k: {ik: (iv.upper() if ik == \"city\" else iv) for ik, iv in v.items()} for k, v in users.items()}\n",
    "```\n",
    "### Step-by-Step Breakdown\n",
    "#### 1. Outer loop:\n",
    "\n",
    "* `for k, v in users.items()` → Loops through each user (outer dict keys & values).\n",
    "* `k` is `\"chris\"`, `\"mike\"`, `\"jess\"`.\n",
    "* `v` is {`\"age\": 56, \"city\": \"nyc\"`}, etc.\n",
    "\n",
    "#### 2. Inner loop (inside the outer loop):\n",
    "* `{ik: (iv.upper() if ik == \"city\" else iv) for ik, iv in v.items()`}\n",
    "* Loops through each inner dictionary `(v)`.\n",
    "* `ik` is `\"age\"`, `\"city\"`, etc.\n",
    "* If `ik == \"city\"`, apply `.upper()` to iv.\n",
    "* Otherwise, leave `iv` as is.\n",
    "### Why Two Loops?\n",
    "You’re modifying values inside the nested dictionaries, so you have to go inside each one to update.\n",
    "\n",
    "## Case 2: Filtering the Outer Dictionary (One Loop)\n",
    "Here, you’re just keeping or removing entire user entries based on a condition.\n",
    "```\n",
    "filtered_users = {k: v for k, v in users.items() if v[\"age\"] > 40}\n",
    "```\n",
    "### Step-by-Step Breakdown\n",
    "** 1. Looping through the outer dictionary only:**\n",
    "\n",
    "* `for k, v in users.items()` → Loops over `\"chris\"`, `\"mike\"`, `\"jess\"`.\n",
    "* `k` is `\"chris\"`, `\"mike\"`, `\"jess\"`.\n",
    "* `v` is {`\"age\": 56, \"city\": \"nyc\"`}, etc.\n",
    "** 2. Applying a filter condition:**\n",
    "\n",
    "* if `v[\"age\"] > 40` → Only keeps users where \"age\" is above 40.\n",
    "#### Why Only One Loop?\n",
    "* You’re not modifying anything inside the nested dictionaries.\n",
    "* You’re only deciding whether to keep or remove an entire entry.\n",
    "\n",
    "## The Key Difference\n",
    "\n",
    "| **Operation**        | **How Many Loops?** | **Purpose** |\n",
    "|----------------------|--------------------|-------------|\n",
    "| Updating nested values (e.g., uppercasing \"city\") | **Two loops** (outer & inner) | You need to go inside each nested dict and modify values |\n",
    "| Filtering users based on `\"age\"` | **One loop** (outer only) | You’re just removing entire entries, not modifying values inside |\n",
    "\n",
    "## How to Think About It\n",
    "* If you need to change things inside the nested dict, you need two loops.\n",
    "* If you just want to filter which users stay, one loop is enough.\n",
    "\n",
    "### Bringing it Together\n",
    "If you wanted to filter AND modify at the same time, you’d combine them:\n",
    "```\n",
    "final_users = {k: {ik: (iv.upper() if ik == \"city\" else iv) for ik, iv in v.items()} for k, v in users.items() if v[\"age\"] > 40}\n",
    "```\n",
    "### What’s Happening Here?\n",
    "* **First part**: `for k, v in users.items() if v[\"age\"] > 40` → Filters users (outer loop).\n",
    "* **Second part**: {`ik: (iv.upper() if ik == \"city\" else iv) for ik, iv in v.items()`} → Modifies cities (inner loop).\n",
    "\n"
   ],
   "id": "617fa0c9efec9713"
  },
  {
   "metadata": {},
   "cell_type": "markdown",
   "source": [
    "## Real-World Example\n",
    "Say you're pulling JSON from an API and you need to:\n",
    "\n",
    "* Filter out users under 40.\n",
    "* Uppercase their city names."
   ],
   "id": "9e7ec25e4e3425c0"
  },
  {
   "metadata": {},
   "cell_type": "markdown",
   "source": [
    "# Practice Problems\n",
    "## Problem 1: Modify Nested Dictionary Values\n",
    "You have a dictionary of students and their grades. Convert all subject names to uppercase."
   ],
   "id": "ad0effce5a425b7a"
  },
  {
   "metadata": {
    "ExecuteTime": {
     "end_time": "2025-03-11T22:58:34.727323Z",
     "start_time": "2025-03-11T22:58:34.723175Z"
    }
   },
   "cell_type": "code",
   "source": [
    "grades = {\n",
    "    \"alice\": {\"math\": 90, \"science\": 85},\n",
    "    \"bob\": {\"math\": 75, \"science\": 95},\n",
    "    \"charlie\": {\"math\": 88, \"science\": 92}\n",
    "}\n",
    "upper_subjects = {student:{subjects.upper(): grade for subjects, grade in subjects.items()} for student, subjects in grades.items()}\n",
    "print(upper_subjects)\n"
   ],
   "id": "b76d334c7e37e623",
   "outputs": [
    {
     "name": "stdout",
     "output_type": "stream",
     "text": [
      "{'alice': {'MATH': 90, 'SCIENCE': 85}, 'bob': {'MATH': 75, 'SCIENCE': 95}, 'charlie': {'MATH': 88, 'SCIENCE': 92}}\n"
     ]
    }
   ],
   "execution_count": 45
  },
  {
   "metadata": {},
   "cell_type": "markdown",
   "source": [
    "## Problem 2: Filtering the Outer Dictionary\n",
    "### Task:\n",
    "* Keep only the products where price is above 500."
   ],
   "id": "4a55de5aae5b4367"
  },
  {
   "metadata": {
    "ExecuteTime": {
     "end_time": "2025-03-12T00:15:31.023625Z",
     "start_time": "2025-03-12T00:15:31.019160Z"
    }
   },
   "cell_type": "code",
   "source": [
    "products = {\n",
    "    \"laptop\": {\"price\": 1200, \"brand\": \"Dell\"},\n",
    "    \"phone\": {\"price\": 800, \"brand\": \"Apple\"},\n",
    "    \"tablet\": {\"price\": 300, \"brand\": \"Samsung\"},\n",
    "    \"monitor\": {\"price\": 250, \"brand\": \"LG\"}\n",
    "}\n",
    "# filtered_users = {k: v for k, v in users.items() if v[\"age\"] > 40}\n",
    "filtered_prices = {k: v for k, v in products.items() if v[\"price\"]>500}\n",
    "print(filtered_prices)"
   ],
   "id": "2da83dc0bf7fbf23",
   "outputs": [
    {
     "name": "stdout",
     "output_type": "stream",
     "text": [
      "{'laptop': {'price': 1200, 'brand': 'Dell'}, 'phone': {'price': 800, 'brand': 'Apple'}}\n"
     ]
    }
   ],
   "execution_count": 49
  },
  {
   "metadata": {},
   "cell_type": "markdown",
   "source": [
    "## Problem 3: Flatten a Nested Dictionary\n",
    "You have employee data, and you want to convert it into a list of tuples."
   ],
   "id": "6bd9f123a08b6a4e"
  },
  {
   "metadata": {
    "ExecuteTime": {
     "end_time": "2025-03-12T00:22:31.168811Z",
     "start_time": "2025-03-12T00:22:31.164240Z"
    }
   },
   "cell_type": "code",
   "source": [
    "employees = {\n",
    "    \"john\": {\"age\": 30, \"department\": \"IT\"},\n",
    "    \"susan\": {\"age\": 35, \"department\": \"HR\"},\n",
    "    \"michael\": {\"age\": 40, \"department\": \"Finance\"}\n",
    "}\n",
    "flat_employees = [(employee, key, value) for employee, details in employees.items() for key, value in details.items()]\n",
    "print(flat_employees)\n"
   ],
   "id": "a8231bd9fb0d1773",
   "outputs": [
    {
     "name": "stdout",
     "output_type": "stream",
     "text": [
      "[('john', 'age', 30), ('john', 'department', 'IT'), ('susan', 'age', 35), ('susan', 'department', 'HR'), ('michael', 'age', 40), ('michael', 'department', 'Finance')]\n"
     ]
    }
   ],
   "execution_count": 52
  },
  {
   "metadata": {},
   "cell_type": "markdown",
   "source": "n",
   "id": "4fd149bb0089857e"
  },
  {
   "metadata": {},
   "cell_type": "markdown",
   "source": [
    "### Example 3: Flattening a Nested Dictionary\n",
    "Say you wanna flatten that nested structure into something simple, like a list of tuples:"
   ],
   "id": "971027483b4d7922"
  },
  {
   "metadata": {
    "ExecuteTime": {
     "end_time": "2025-03-11T21:23:50.781110Z",
     "start_time": "2025-03-11T21:23:50.777502Z"
    }
   },
   "cell_type": "code",
   "source": [
    "flat_list = [(user, key, value) for user, details in users.items() for key, value in details.items()]\n",
    "\n",
    "print(flat_list)\n"
   ],
   "id": "7a2aca6cf0aa5741",
   "outputs": [
    {
     "name": "stdout",
     "output_type": "stream",
     "text": [
      "[('chris', 'age', 56), ('chris', 'city', 'nyc'), ('mike', 'age', 34), ('mike', 'city', 'la'), ('jess', 'age', 49), ('jess', 'city', 'houston')]\n"
     ]
    }
   ],
   "execution_count": 36
  },
  {
   "metadata": {},
   "cell_type": "markdown",
   "source": [
    "### 🔹 What’s happening?\n",
    "\n",
    "* The first loop grabs the outer key (user name).\n",
    "* The second loop digs into the inner dictionary (details), extracting key-value pairs.\n",
    "* We format each entry as a tuple.\n"
   ],
   "id": "c57b277063888a3d"
  },
  {
   "metadata": {},
   "cell_type": "markdown",
   "source": [
    "f## Filtering a Dictionary\n",
    "\n",
    "desired output:\n",
    "```\n",
    "{\n",
    "    \"bananas\": 12,\n",
    "    \"grapes\": 15\n",
    "}\n",
    "\n",
    "```"
   ],
   "id": "b53965aeec2ea392"
  },
  {
   "metadata": {
    "ExecuteTime": {
     "end_time": "2025-03-12T18:34:52.206592Z",
     "start_time": "2025-03-12T18:34:52.202709Z"
    }
   },
   "cell_type": "code",
   "source": [
    "sales = {\n",
    "    \"apples\": 5,\n",
    "    \"bananas\": 12,\n",
    "    \"oranges\": 8,\n",
    "    \"grapes\": 15\n",
    "}\n",
    "flattened_sales = {k:v for k, v in sales.items() if v>10}\n",
    "print(flattened_sales)"
   ],
   "id": "3d0a3cf07038555d",
   "outputs": [
    {
     "name": "stdout",
     "output_type": "stream",
     "text": [
      "{'bananas': 12, 'grapes': 15}\n"
     ]
    }
   ],
   "execution_count": 5
  },
  {
   "metadata": {},
   "cell_type": "markdown",
   "source": [
    "## Splitting a String into a Dictionary\n",
    "\n",
    "desired output:\n",
    "```\n",
    "{\n",
    "    \"Alice\": 90,\n",
    "    \"Bob\": 85,\n",
    "    \"Charlie\": 78,\n",
    "    \"David\": 92\n",
    "}\n",
    "\n",
    "```"
   ],
   "id": "e773d0d5bff950ee"
  },
  {
   "metadata": {
    "ExecuteTime": {
     "end_time": "2025-03-12T19:01:41.909012Z",
     "start_time": "2025-03-12T19:01:41.905706Z"
    }
   },
   "cell_type": "code",
   "source": [
    "scores = \"Alice:90,Bob:85,Charlie:78,David:92\"\n",
    "fields = scores.split(',')\n",
    "{item.split(':')[0]: int(item.split(':')[1]) for item in fields}"
   ],
   "id": "be21c6f4e5027f6b",
   "outputs": [
    {
     "data": {
      "text/plain": [
       "{'Alice': 90, 'Bob': 85, 'Charlie': 78, 'David': 92}"
      ]
     },
     "execution_count": 14,
     "metadata": {},
     "output_type": "execute_result"
    }
   ],
   "execution_count": 14
  },
  {
   "metadata": {},
   "cell_type": "markdown",
   "source": [
    "## Problem 3: Joining a Dictionary into a String\n",
    "You have a dictionary of prices and need to convert it into a string format.\n",
    "\n",
    "desired output:\n",
    "```\n",
    "\"milk: 2.50, bread: 1.99, eggs: 3.49\"\n",
    "```"
   ],
   "id": "775b470dfd36eeef"
  },
  {
   "metadata": {
    "ExecuteTime": {
     "end_time": "2025-03-12T19:37:33.203204Z",
     "start_time": "2025-03-12T19:37:33.200066Z"
    }
   },
   "cell_type": "code",
   "source": [
    "prices = {\n",
    "    \"milk\": 2.50,\n",
    "    \"bread\": 1.99,\n",
    "    \"eggs\": 3.49\n",
    "}\n",
    "# for k, v in prices.items():\n",
    "#     print(f'\"{k}\": {v:.2f}') # print(f'\"{k}\":{v:.2f}'\n",
    "prices_str = [f'\"{k}\": {v:.2f}' for k, v in prices.items()] # turn into a list\n",
    "formatted_str = \", \".join(prices_str) # turn it into a formatted string\n",
    "print(formatted_str)"
   ],
   "id": "319a9cb05a900e8b",
   "outputs": [
    {
     "name": "stdout",
     "output_type": "stream",
     "text": [
      "\"milk\": 2.50, \"bread\": 1.99, \"eggs\": 3.49\n"
     ]
    }
   ],
   "execution_count": 38
  },
  {
   "metadata": {},
   "cell_type": "markdown",
   "source": [
    "## Convert List of Tuples to Dictionary\n",
    "You have a list of (key, value) pairs and need to turn it into a dictionary.\n",
    "\n",
    "desired output:\n",
    "```\n",
    "{\n",
    "    \"NYC\": \"New York\",\n",
    "    \"LA\": \"Los Angeles\",\n",
    "    \"CHI\": \"Chicago\"\n",
    "}\n",
    "```"
   ],
   "id": "c64f0de553ab8980"
  },
  {
   "metadata": {},
   "cell_type": "markdown",
   "source": "# Wrong Approach",
   "id": "2562a7d18345e66c"
  },
  {
   "metadata": {
    "ExecuteTime": {
     "end_time": "2025-03-12T21:03:16.731970Z",
     "start_time": "2025-03-12T21:03:16.729072Z"
    }
   },
   "cell_type": "code",
   "source": [
    "data = [(\"NYC\", \"New York\"), (\"LA\", \"Los Angeles\"), (\"CHI\", \"Chicago\")]\n",
    "lst = []\n",
    "for ele in data:\n",
    "    string = \", \".join(ele)\n",
    "    lst.append(string)\n",
    "print(list(lst))\n",
    "#     string_splt = string.split(',')\n",
    "# d = {string.split[0]:string.split[1] for items in string_splt}\n",
    "    # structured_data = {item.split[0]:item.split[1] for item in string}\n",
    "    # print(structured_data)\n"
   ],
   "id": "58deea6b192d8bf5",
   "outputs": [
    {
     "name": "stdout",
     "output_type": "stream",
     "text": [
      "['NYC, New York', 'LA, Los Angeles', 'CHI, Chicago']\n"
     ]
    }
   ],
   "execution_count": 66
  },
  {
   "metadata": {},
   "cell_type": "markdown",
   "source": [
    "# Correct Approach\n",
    "The thing to note is that we see a pair of tuples. Python can unpack tuples into a dictionary form.\n",
    "\n",
    "**for example**"
   ],
   "id": "a5cbe6c9c57e3636"
  },
  {
   "metadata": {
    "ExecuteTime": {
     "end_time": "2025-03-12T21:15:11.040191Z",
     "start_time": "2025-03-12T21:15:11.036572Z"
    }
   },
   "cell_type": "code",
   "source": [
    "data = [(\"NYC\", \"New York\"), (\"LA\", \"Los Angeles\"), (\"CHI\", \"Chicago\")]\n",
    "\n",
    "structured_data = {key: value for key, value in data}\n",
    "\n",
    "print(structured_data)\n"
   ],
   "id": "58f24e086ae083d3",
   "outputs": [
    {
     "name": "stdout",
     "output_type": "stream",
     "text": [
      "{'NYC': 'New York', 'LA': 'Los Angeles', 'CHI': 'Chicago'}\n"
     ]
    }
   ],
   "execution_count": 67
  },
  {
   "metadata": {},
   "cell_type": "markdown",
   "source": [
    "### Why This Works\n",
    "1. for key, value in data → Unpacks each tuple into key and value.\n",
    "2. {key: value for key, value in data} → Uses dictionary comprehension to build the dictionary.\n",
    "\n",
    "**Further, one could have also used the one-liner:**"
   ],
   "id": "277f486f06b9be36"
  },
  {
   "metadata": {
    "ExecuteTime": {
     "end_time": "2025-03-12T21:19:30.063089Z",
     "start_time": "2025-03-12T21:19:30.060534Z"
    }
   },
   "cell_type": "code",
   "source": [
    "structured_data = dict(data)\n",
    "print(structured_data)\n"
   ],
   "id": "d2d462d47e18d639",
   "outputs": [
    {
     "name": "stdout",
     "output_type": "stream",
     "text": [
      "{'NYC': 'New York', 'LA': 'Los Angeles', 'CHI': 'Chicago'}\n"
     ]
    }
   ],
   "execution_count": 68
  },
  {
   "metadata": {},
   "cell_type": "markdown",
   "source": [
    "## The Core Concept: How Data Structures Work in Python\n",
    "At its core, this problem is about **data transformation:**\n",
    "\n",
    "You start with a **list of tuples.**\n",
    "You need to convert it into a **dictionary.**\n",
    "\n",
    "Each tuple already has a **key-value structure**, so Python lets you **directly map it** into a dictionary.\n",
    "\n",
    "## Understanding Tuple Unpacking\n",
    "#### How Tuples Work in a Loop\n",
    "Let’s manually break down the list:"
   ],
   "id": "6fbde542138d0ac8"
  },
  {
   "metadata": {
    "ExecuteTime": {
     "end_time": "2025-03-12T21:25:03.307259Z",
     "start_time": "2025-03-12T21:25:03.304984Z"
    }
   },
   "cell_type": "code",
   "source": "data = [(\"NYC\", \"New York\"), (\"LA\", \"Los Angeles\"), (\"CHI\", \"Chicago\")]\n",
   "id": "9c63afcdb5d97f21",
   "outputs": [],
   "execution_count": 69
  },
  {
   "metadata": {
    "ExecuteTime": {
     "end_time": "2025-03-12T21:26:50.265922Z",
     "start_time": "2025-03-12T21:26:50.262881Z"
    }
   },
   "cell_type": "code",
   "source": [
    "# Each tuple is structured as:\n",
    "(\"NYC\", \"New York\")\n",
    "(\"LA\", \"Los Angeles\")\n",
    "(\"CHI\", \"Chicago\")\n"
   ],
   "id": "b42fc6fff658e010",
   "outputs": [
    {
     "data": {
      "text/plain": [
       "('CHI', 'Chicago')"
      ]
     },
     "execution_count": 70,
     "metadata": {},
     "output_type": "execute_result"
    }
   ],
   "execution_count": 70
  },
  {
   "metadata": {
    "ExecuteTime": {
     "end_time": "2025-03-12T21:27:37.694084Z",
     "start_time": "2025-03-12T21:27:37.691469Z"
    }
   },
   "cell_type": "code",
   "source": [
    "# If we loop through data normally:\n",
    "for item in data:\n",
    "    print(item)\n"
   ],
   "id": "b24fbcb1cfe071f8",
   "outputs": [
    {
     "name": "stdout",
     "output_type": "stream",
     "text": [
      "('NYC', 'New York')\n",
      "('LA', 'Los Angeles')\n",
      "('CHI', 'Chicago')\n"
     ]
    }
   ],
   "execution_count": 71
  },
  {
   "metadata": {},
   "cell_type": "markdown",
   "source": [
    "#### Tuple Unpacking: The Magic\n",
    "Python allows \"unpacking\" when looping over tuples:"
   ],
   "id": "276e2fc9462df34c"
  },
  {
   "metadata": {
    "ExecuteTime": {
     "end_time": "2025-03-12T21:31:31.036361Z",
     "start_time": "2025-03-12T21:31:31.033807Z"
    }
   },
   "cell_type": "code",
   "source": [
    "for key, value in data:\n",
    "    print(f\"Key: {key}, Value: {value}\")\n"
   ],
   "id": "8906582db0f56829",
   "outputs": [
    {
     "name": "stdout",
     "output_type": "stream",
     "text": [
      "Key: NYC, Value: New York\n",
      "Key: LA, Value: Los Angeles\n",
      "Key: CHI, Value: Chicago\n"
     ]
    }
   ],
   "execution_count": 72
  },
  {
   "metadata": {},
   "cell_type": "markdown",
   "source": [
    "#### Here’s what’s happening:\n",
    "\n",
    "1. **Python knows each tuple has exactly two items.**\n",
    "2. *`key`* gets the **first item**, *`value`* gets the **second item**.\n",
    "3. Now, we can easily use `key` and `value` inside a dictionary comprehension.\n"
   ],
   "id": "750dff883c099d5e"
  },
  {
   "metadata": {},
   "cell_type": "markdown",
   "source": [
    "### Why Dictionary Comprehension Works\n",
    "Now that you get how tuple unpacking works, the comprehension:\n",
    "`structured_data = {key: value for key, value in data}\n",
    "`"
   ],
   "id": "cb04f92b66f87b0c"
  },
  {
   "metadata": {
    "ExecuteTime": {
     "end_time": "2025-03-12T21:57:23.589510Z",
     "start_time": "2025-03-12T21:57:23.584221Z"
    }
   },
   "cell_type": "code",
   "source": "structured_data = {key: value for key, value in data}\n",
   "id": "ed05cc9733336fa2",
   "outputs": [],
   "execution_count": 73
  },
  {
   "metadata": {},
   "cell_type": "code",
   "outputs": [],
   "execution_count": null,
   "source": [
    "# Is just a short way of writing this:\n",
    "\n",
    "structured_data = {}\n",
    "for key, value in data:\n",
    "    structured_data[key] = value\n"
   ],
   "id": "a4e900df678b22bc"
  },
  {
   "metadata": {},
   "cell_type": "markdown",
   "source": [
    "# .join() is for strings, NOT tuples\n",
    ".join() combines strings together:"
   ],
   "id": "f03b3dc69100ec84"
  },
  {
   "metadata": {
    "ExecuteTime": {
     "end_time": "2025-03-12T22:00:43.299501Z",
     "start_time": "2025-03-12T22:00:43.296654Z"
    }
   },
   "cell_type": "code",
   "source": "\", \".join([\"apple\", \"banana\", \"cherry\"])\n",
   "id": "9a9190b5b14e6ac8",
   "outputs": [
    {
     "data": {
      "text/plain": [
       "'apple, banana, cherry'"
      ]
     },
     "execution_count": 74,
     "metadata": {},
     "output_type": "execute_result"
    }
   ],
   "execution_count": 74
  },
  {
   "metadata": {},
   "cell_type": "markdown",
   "source": "# .split() is for breaking strings",
   "id": "2f4bbaa6cfaee8b3"
  },
  {
   "metadata": {
    "ExecuteTime": {
     "end_time": "2025-03-12T22:02:24.580939Z",
     "start_time": "2025-03-12T22:02:24.577948Z"
    }
   },
   "cell_type": "code",
   "source": "\"NYC, New York\".split(\", \")\n",
   "id": "c5495335044aabb7",
   "outputs": [
    {
     "data": {
      "text/plain": [
       "['NYC', 'New York']"
      ]
     },
     "execution_count": 75,
     "metadata": {},
     "output_type": "execute_result"
    }
   ],
   "execution_count": 75
  },
  {
   "metadata": {},
   "cell_type": "markdown",
   "source": [
    "## 🔥 The One-Liner That Uses dict()\n",
    "Since Python **already understands** that a list of 2-item tuples can be converted to a dictionary, we can **skip the comprehension altogether:**"
   ],
   "id": "e08b0eba23e68c3"
  },
  {
   "metadata": {
    "ExecuteTime": {
     "end_time": "2025-03-12T22:05:41.970690Z",
     "start_time": "2025-03-12T22:05:41.968344Z"
    }
   },
   "cell_type": "code",
   "source": "structured_data = dict(data)\n",
   "id": "d9219b83f466ac1e",
   "outputs": [],
   "execution_count": 76
  },
  {
   "metadata": {},
   "cell_type": "markdown",
   "source": [
    "#### What `dict(data)` Actually Does\n",
    "* `dict()` expects an **iterable of key-value pairs.**\n",
    "* Since `data` is already a list of tuples, Python knows **the first item is the key and the second is the value.**\n",
    "\n",
    "✅ That’s why `dict(data)` is the **simplest and most efficient way to do this.**\n",
    "\n",
    "### 💯 Summary: The Key Takeaways\n",
    "1. Tuple unpacking allows for key, value in data to split tuples into variables automatically.\n",
    "2. Dictionary comprehension {key: value for key, value in data} is just a shorthand for a normal loop.\n",
    "3. You don’t need `.join()` or `.split()` because:\n",
    "    * `.join()` is for merging strings.\n",
    "    * `.split()` is for breaking strings apart.\n",
    "4. The `dict()` function already knows how to convert a list of tuples into a dictionary in one step."
   ],
   "id": "9176e90f4523b608"
  },
  {
   "metadata": {},
   "cell_type": "markdown",
   "source": [
    "## Modify Dictionary Values\n",
    "You need to apply a 10% discount to all prices in a dictionary.\n",
    "Desired Output:\n",
    "```\n",
    "{\n",
    "    \"milk\": 2.25,\n",
    "    \"bread\": 1.79,\n",
    "    \"eggs\": 3.14\n",
    "}\n",
    "```\n"
   ],
   "id": "ae39dba23fb0e2b3"
  },
  {
   "metadata": {
    "ExecuteTime": {
     "end_time": "2025-03-12T22:35:24.852408Z",
     "start_time": "2025-03-12T22:35:24.849723Z"
    }
   },
   "cell_type": "code",
   "source": [
    "prices = {\n",
    "    \"milk\": 2.50,\n",
    "    \"bread\": 1.99,\n",
    "    \"eggs\": 3.49\n",
    "}\n",
    "\n",
    "disc_groceries = {k: round(v-(v*0.10), 2) for k, v in prices.items()}\n",
    "print(disc_groceries)"
   ],
   "id": "35c77f4e2927d48d",
   "outputs": [
    {
     "name": "stdout",
     "output_type": "stream",
     "text": [
      "{'milk': 2.25, 'bread': 1.79, 'eggs': 3.14}\n"
     ]
    }
   ],
   "execution_count": 83
  },
  {
   "metadata": {},
   "cell_type": "markdown",
   "source": [
    "## Extract Words from a String and Count Occurrences\n",
    "You get a sentence, and you need to count how many times each word appears.\n",
    "\n",
    "desired output:\n",
    "```\n",
    "{\n",
    "    \"apple\": 3,\n",
    "    \"banana\": 2,\n",
    "    \"orange\": 1\n",
    "}\n",
    "```"
   ],
   "id": "d1795602a1128bd6"
  },
  {
   "metadata": {
    "ExecuteTime": {
     "end_time": "2025-03-14T00:00:59.161960Z",
     "start_time": "2025-03-14T00:00:59.159522Z"
    }
   },
   "cell_type": "code",
   "source": [
    "sentence = \"apple banana apple orange banana apple\"\n",
    "words = sentence.split(\" \")\n",
    "\n",
    "word_count = {word: words.count(word) for word in set(words)}  # BAD!\n",
    "                #k      #v                        #only count unique words(set())\n",
    "print(word_count)\n",
    "\n"
   ],
   "id": "58fe22878bd55270",
   "outputs": [
    {
     "name": "stdout",
     "output_type": "stream",
     "text": [
      "{'banana': 2, 'orange': 1, 'apple': 3}\n"
     ]
    }
   ],
   "execution_count": 50
  },
  {
   "metadata": {},
   "cell_type": "markdown",
   "source": "",
   "id": "9e14c940b7ecf755"
  },
  {
   "metadata": {
    "ExecuteTime": {
     "end_time": "2025-03-13T01:55:09.464277Z",
     "start_time": "2025-03-13T01:55:09.461124Z"
    }
   },
   "cell_type": "code",
   "source": [
    "sentence = \"apple banana apple orange banana apple\"\n",
    "words = sentence.split(\" \")\n",
    "d = {}\n",
    "for word in words:\n",
    "    d[word] = d.get(word, 0) + 1\n",
    "print(d)\n"
   ],
   "id": "6d5fc820ae26bfe4",
   "outputs": [
    {
     "name": "stdout",
     "output_type": "stream",
     "text": [
      "{'apple': 3, 'banana': 2, 'orange': 1}\n"
     ]
    }
   ],
   "execution_count": 107
  },
  {
   "metadata": {},
   "cell_type": "markdown",
   "source": [
    "# 🚀 Key Ways to Get Data from a Dictionary\n",
    "We’ll cover:\n",
    "\n",
    "1. Basic retrieval (`dict[key]`)\n",
    "2. Safe retrieval (`.get()`)\n",
    "3. Looping through a dictionary\n",
    "4. Checking for existence (in keyword)\n",
    "5. Getting all keys or values (`.keys()`, `.values()`)\n",
    "6. Getting key-value pairs (`.items()`)\n",
    "7. Removing data (`.pop()`, `.popitem()`)\n"
   ],
   "id": "87f18b35edb2c0e4"
  },
  {
   "metadata": {},
   "cell_type": "markdown",
   "source": [
    "### 1. Basic Retrieval (dict[key])\n",
    "This is the simplest way to get a value."
   ],
   "id": "95e43691ff305133"
  },
  {
   "metadata": {
    "ExecuteTime": {
     "end_time": "2025-03-13T21:31:01.648181Z",
     "start_time": "2025-03-13T21:31:01.645812Z"
    }
   },
   "cell_type": "code",
   "source": [
    "data = {\"name\": \"Chris\", \"age\": 56, \"city\": \"NYC\"}\n",
    "print(data[\"name\"])\n",
    "print(data[\"age\"])"
   ],
   "id": "23bbd99ed1662515",
   "outputs": [
    {
     "name": "stdout",
     "output_type": "stream",
     "text": [
      "Chris\n",
      "56\n"
     ]
    }
   ],
   "execution_count": 2
  },
  {
   "metadata": {},
   "cell_type": "markdown",
   "source": [
    "⚠️ Be Careful!\n",
    "If the key doesn’t exist, it throws an error:"
   ],
   "id": "b05265cff90521a5"
  },
  {
   "metadata": {
    "ExecuteTime": {
     "end_time": "2025-03-13T21:32:34.223128Z",
     "start_time": "2025-03-13T21:32:34.143780Z"
    }
   },
   "cell_type": "code",
   "source": "print(data[\"height\"])  # ❌ KeyError: 'height'\n",
   "id": "ccd57dc00e48edc",
   "outputs": [
    {
     "ename": "KeyError",
     "evalue": "'height'",
     "output_type": "error",
     "traceback": [
      "\u001B[0;31m---------------------------------------------------------------------------\u001B[0m",
      "\u001B[0;31mKeyError\u001B[0m                                  Traceback (most recent call last)",
      "Cell \u001B[0;32mIn[3], line 1\u001B[0m\n\u001B[0;32m----> 1\u001B[0m \u001B[38;5;28mprint\u001B[39m(\u001B[43mdata\u001B[49m\u001B[43m[\u001B[49m\u001B[38;5;124;43m\"\u001B[39;49m\u001B[38;5;124;43mheight\u001B[39;49m\u001B[38;5;124;43m\"\u001B[39;49m\u001B[43m]\u001B[49m)  \u001B[38;5;66;03m# ❌ KeyError: 'height'\u001B[39;00m\n",
      "\u001B[0;31mKeyError\u001B[0m: 'height'"
     ]
    }
   ],
   "execution_count": 3
  },
  {
   "metadata": {},
   "cell_type": "markdown",
   "source": [
    "### 🔥 2. Safe Retrieval (.get())\n",
    "Use .get() to avoid errors when the key might not exist."
   ],
   "id": "aac45ddef38a9faa"
  },
  {
   "metadata": {
    "ExecuteTime": {
     "end_time": "2025-03-13T22:12:51.034327Z",
     "start_time": "2025-03-13T22:12:51.029351Z"
    }
   },
   "cell_type": "code",
   "source": [
    "print(data.get(\"name\"))\n",
    "print(data.get(\"height\"))\n"
   ],
   "id": "976951a0de841600",
   "outputs": [
    {
     "name": "stdout",
     "output_type": "stream",
     "text": [
      "Chris\n",
      "None\n"
     ]
    }
   ],
   "execution_count": 19
  },
  {
   "metadata": {},
   "cell_type": "markdown",
   "source": "### You can also set a default value if the key is missing:",
   "id": "46b0a0e6c8d3ac5"
  },
  {
   "metadata": {
    "ExecuteTime": {
     "end_time": "2025-03-13T21:35:47.287711Z",
     "start_time": "2025-03-13T21:35:47.284836Z"
    }
   },
   "cell_type": "code",
   "source": "print(data.get(\"height\", \"Unknown\"))  # ✅ \"Unknown\"\n",
   "id": "dded8f627cb29ba5",
   "outputs": [
    {
     "name": "stdout",
     "output_type": "stream",
     "text": [
      "Unknown\n"
     ]
    }
   ],
   "execution_count": 5
  },
  {
   "metadata": {},
   "cell_type": "markdown",
   "source": [
    "✅ Use .get() when you're not sure if the key exists.\n",
    "\n",
    "## 🔥 3. Looping Through a Dictionary\n",
    "Loop Through Keys"
   ],
   "id": "ea26caf486beacdf"
  },
  {
   "metadata": {
    "ExecuteTime": {
     "end_time": "2025-03-13T21:47:05.849203Z",
     "start_time": "2025-03-13T21:47:05.844825Z"
    }
   },
   "cell_type": "code",
   "source": [
    "for key in data:\n",
    "    print(key)\n"
   ],
   "id": "3ba1b041e8dd3c95",
   "outputs": [
    {
     "name": "stdout",
     "output_type": "stream",
     "text": [
      "name\n",
      "age\n",
      "city\n"
     ]
    }
   ],
   "execution_count": 6
  },
  {
   "metadata": {},
   "cell_type": "markdown",
   "source": "### Loop Through Values",
   "id": "aab084a9ffe9d81d"
  },
  {
   "metadata": {
    "ExecuteTime": {
     "end_time": "2025-03-13T21:48:18.569011Z",
     "start_time": "2025-03-13T21:48:18.566604Z"
    }
   },
   "cell_type": "code",
   "source": [
    "for value in data.values():\n",
    "    print(value)\n"
   ],
   "id": "eb82c64b8392de6f",
   "outputs": [
    {
     "name": "stdout",
     "output_type": "stream",
     "text": [
      "Chris\n",
      "56\n",
      "NYC\n"
     ]
    }
   ],
   "execution_count": 7
  },
  {
   "metadata": {},
   "cell_type": "markdown",
   "source": "### Loop Through Key-Value Pairs",
   "id": "bccde4ab2104e8c9"
  },
  {
   "metadata": {
    "ExecuteTime": {
     "end_time": "2025-03-13T21:49:12.108327Z",
     "start_time": "2025-03-13T21:49:12.105532Z"
    }
   },
   "cell_type": "code",
   "source": [
    "for key, value in data.items():\n",
    "    print(f\"{key}: {value}\")\n"
   ],
   "id": "ec9baee811a5553b",
   "outputs": [
    {
     "name": "stdout",
     "output_type": "stream",
     "text": [
      "name: Chris\n",
      "age: 56\n",
      "city: NYC\n"
     ]
    }
   ],
   "execution_count": 8
  },
  {
   "metadata": {
    "ExecuteTime": {
     "end_time": "2025-03-13T21:49:56.893615Z",
     "start_time": "2025-03-13T21:49:56.891336Z"
    }
   },
   "cell_type": "code",
   "source": [
    "for key, value in data.items():\n",
    "    print(f\"{key}: {value}\")\n"
   ],
   "id": "6f14c10220c6a282",
   "outputs": [
    {
     "name": "stdout",
     "output_type": "stream",
     "text": [
      "name: Chris\n",
      "age: 56\n",
      "city: NYC\n"
     ]
    }
   ],
   "execution_count": 9
  },
  {
   "metadata": {},
   "cell_type": "markdown",
   "source": [
    "### 🔥 4. Checking If a Key Exists (in)\n",
    "You can check if a key exists using in:"
   ],
   "id": "1bffd563219b33f5"
  },
  {
   "metadata": {
    "ExecuteTime": {
     "end_time": "2025-03-13T21:51:53.804280Z",
     "start_time": "2025-03-13T21:51:53.801280Z"
    }
   },
   "cell_type": "code",
   "source": [
    "if \"age\" in data:\n",
    "    print(\"Age is available!\")\n"
   ],
   "id": "f8e3cca1a74e8046",
   "outputs": [
    {
     "name": "stdout",
     "output_type": "stream",
     "text": [
      "Age is available!\n"
     ]
    }
   ],
   "execution_count": 10
  },
  {
   "metadata": {},
   "cell_type": "markdown",
   "source": "✅ More reliable than checking if `dict[key]` throws an error.",
   "id": "ab4200643bb82136"
  },
  {
   "metadata": {},
   "cell_type": "markdown",
   "source": "### 🔥 5. Getting All Keys and Values",
   "id": "96012ccaf65a83d7"
  },
  {
   "metadata": {
    "ExecuteTime": {
     "end_time": "2025-03-13T21:59:28.980031Z",
     "start_time": "2025-03-13T21:59:28.977582Z"
    }
   },
   "cell_type": "code",
   "source": [
    "print(data.keys())\n",
    "print(data.values())\n"
   ],
   "id": "e92eb3c4209596e0",
   "outputs": [
    {
     "name": "stdout",
     "output_type": "stream",
     "text": [
      "dict_keys(['name', 'age', 'city'])\n",
      "dict_values(['Chris', 56, 'NYC'])\n"
     ]
    }
   ],
   "execution_count": 12
  },
  {
   "metadata": {},
   "cell_type": "markdown",
   "source": "### ⚡ Convert to a list if needed:",
   "id": "ff5070da1e57f20f"
  },
  {
   "metadata": {
    "ExecuteTime": {
     "end_time": "2025-03-13T22:01:10.438837Z",
     "start_time": "2025-03-13T22:01:10.436293Z"
    }
   },
   "cell_type": "code",
   "source": [
    "print(list(data.keys()))\n",
    "print(list(data.values()))\n"
   ],
   "id": "4f5ca05cd073fa35",
   "outputs": [
    {
     "name": "stdout",
     "output_type": "stream",
     "text": [
      "['name', 'age', 'city']\n",
      "['Chris', 56, 'NYC']\n"
     ]
    }
   ],
   "execution_count": 14
  },
  {
   "metadata": {},
   "cell_type": "markdown",
   "source": [
    "## 🔥 6. Getting Key-Value Pairs (`.items()`)\n",
    "`.items()` gives you a list of tuples:"
   ],
   "id": "823fc17e9aa17f61"
  },
  {
   "metadata": {
    "ExecuteTime": {
     "end_time": "2025-03-13T22:02:23.455805Z",
     "start_time": "2025-03-13T22:02:23.453835Z"
    }
   },
   "cell_type": "code",
   "source": "print(list(data.items()))\n",
   "id": "36013bd04991c76d",
   "outputs": [
    {
     "name": "stdout",
     "output_type": "stream",
     "text": [
      "[('name', 'Chris'), ('age', 56), ('city', 'NYC')]\n"
     ]
    }
   ],
   "execution_count": 15
  },
  {
   "metadata": {},
   "cell_type": "markdown",
   "source": [
    "### 🔥 7. Removing Data (`.pop()`, `.popitem()`)\n",
    "Remove a Specific Key (`.pop()`)"
   ],
   "id": "e1da3465956e9495"
  },
  {
   "metadata": {
    "ExecuteTime": {
     "end_time": "2025-04-17T23:38:33.716116Z",
     "start_time": "2025-04-17T23:38:33.709965Z"
    }
   },
   "cell_type": "code",
   "source": [
    "data = {\"name\": \"Chris\", \"age\": 18, \"city\": \"NYC\"}\n",
    "\n",
    "age = data.pop(\"age\")  # Removes \"age\" and returns its value\n",
    "print(age)\n",
    "print(data)\n"
   ],
   "id": "78d0a0d3f128659c",
   "outputs": [
    {
     "name": "stdout",
     "output_type": "stream",
     "text": [
      "18\n",
      "{'name': 'Chris', 'city': 'NYC'}\n"
     ]
    }
   ],
   "execution_count": 1
  },
  {
   "metadata": {},
   "cell_type": "markdown",
   "source": "### Remove the *Last Item* (`.popitem()`)",
   "id": "a4b17a3032cb5d43"
  },
  {
   "metadata": {
    "ExecuteTime": {
     "end_time": "2025-04-17T23:38:38.843515Z",
     "start_time": "2025-04-17T23:38:38.840510Z"
    }
   },
   "cell_type": "code",
   "source": [
    "last_item = data.popitem()\n",
    "print(last_item)\n",
    "print(data)\n"
   ],
   "id": "30476a4d6857ece0",
   "outputs": [
    {
     "name": "stdout",
     "output_type": "stream",
     "text": [
      "('city', 'NYC')\n",
      "{'name': 'Chris'}\n"
     ]
    }
   ],
   "execution_count": 2
  },
  {
   "metadata": {},
   "cell_type": "markdown",
   "source": [
    "#### ✅ Use .pop() when you need to remove a specific key.\n",
    "#### ✅ Use .popitem() when removing the last-added item (Python 3.7+).\n",
    "\n"
   ],
   "id": "7e1f764328826ba2"
  },
  {
   "metadata": {},
   "cell_type": "markdown",
   "source": [
    "## 🚀 Coding Test Challenges\n",
    "Let’s test your skills with real coding test-style questions. Try solving these without looking up the answers!\n",
    "\n",
    "### 🔥 Challenge 1: Find Missing Keys\n",
    "You’re given a dictionary of student scores, but some students are missing from the data. Return \"No Score\" for missing students."
   ],
   "id": "8c0b3da60e35b282"
  },
  {
   "metadata": {
    "ExecuteTime": {
     "end_time": "2025-03-13T23:19:37.503168Z",
     "start_time": "2025-03-13T23:19:37.495118Z"
    }
   },
   "cell_type": "code",
   "source": [
    "students = {\"Alice\": 85, \"Bob\": 92}\n",
    "names = [\"Alice\", \"Bob\", \"Charlie\"]\n",
    "\n",
    "# Dictionary comprehension approach\n",
    "student_dict = {name: students.get(name, \"No Score\") for name in names}\n",
    "\n",
    "print(student_dict)\n",
    "\n",
    "\n",
    "# Expected Output: {\"Alice\": 85, \"Bob\": 92, \"Charlie\": \"No Score\"}\n"
   ],
   "id": "c5a4cec3b06532a2",
   "outputs": [
    {
     "name": "stdout",
     "output_type": "stream",
     "text": [
      "{'Alice': 85, 'Bob': 92, 'Charlie': 'No Score'}\n"
     ]
    }
   ],
   "execution_count": 25
  },
  {
   "metadata": {},
   "cell_type": "markdown",
   "source": [
    "## 🔥 Challenge 2: Find the Most Common Value\n",
    "Find the most common value in this dictionary:\n",
    "#### This is a tricky problem"
   ],
   "id": "fcac9b800c600e7f"
  },
  {
   "metadata": {
    "ExecuteTime": {
     "end_time": "2025-03-14T00:25:23.282226Z",
     "start_time": "2025-03-14T00:25:23.275824Z"
    }
   },
   "cell_type": "code",
   "source": [
    "data = {\n",
    "    \"A\": 3,\n",
    "    \"B\": 5,\n",
    "    \"C\": 3,\n",
    "    \"D\": 5,\n",
    "    \"E\": 5\n",
    "}\n",
    "# Step 1: Create a dictionary to count occurrences of each value\n",
    "value_counts = {}  # This will store {value: frequency}\n",
    "\n",
    "for value in data.values():\n",
    "    value_counts[value] = value_counts.get(value, 0) + 1\n",
    "\n",
    "# Step 2: Find the value with the highest frequency\n",
    "most_common_value = None\n",
    "highest_count = 0\n",
    "\n",
    "for value, count in value_counts.items():\n",
    "    if count > highest_count:\n",
    "        most_common_value = value\n",
    "        highest_count = count\n",
    "\n",
    "print(most_common_value)\n",
    "\n",
    "\n"
   ],
   "id": "80c7203f3e9e39c0",
   "outputs": [
    {
     "name": "stdout",
     "output_type": "stream",
     "text": [
      "5\n"
     ]
    }
   ],
   "execution_count": 58
  },
  {
   "metadata": {},
   "cell_type": "markdown",
   "source": [
    "#### 🚀 Step-by-Step Approach Using a for Loop\n",
    "1. Count how many times each value appears (since we care about frequency, not the highest number).\n",
    "2. Find the most common value by looping through these counts.\n",
    "\n",
    "🔥 Solution Using a for Loop\n",
    "\n",
    "#### 🔍 Breaking It Down\n",
    "Step 1: Count Occurrences\n",
    "We loop through data.values() to create a new dictionary (value_counts) that counts occurrences.\n"
   ],
   "id": "f26e160f75bf1c99"
  },
  {
   "metadata": {
    "ExecuteTime": {
     "end_time": "2025-03-14T00:37:12.091011Z",
     "start_time": "2025-03-14T00:37:12.088597Z"
    }
   },
   "cell_type": "code",
   "source": [
    "value_counts = {}\n",
    "for value in data.values():\n",
    "    value_counts[value] = value_counts.get(value, 0) + 1\n",
    "print(value_counts)\n"
   ],
   "id": "f1ad4e1b771d1cc3",
   "outputs": [
    {
     "name": "stdout",
     "output_type": "stream",
     "text": [
      "{3: 2, 5: 3}\n"
     ]
    }
   ],
   "execution_count": 64
  },
  {
   "metadata": {},
   "cell_type": "markdown",
   "source": [
    "### Step 2: Find the Most Common Value\n",
    "Now we loop through `value_counts.items()` to find the `highest count`:"
   ],
   "id": "2461aaf04c7f6e60"
  },
  {
   "metadata": {
    "ExecuteTime": {
     "end_time": "2025-03-14T01:16:12.027253Z",
     "start_time": "2025-03-14T01:16:12.020306Z"
    }
   },
   "cell_type": "code",
   "source": [
    "most_common_value = None\n",
    "highest_count = 0\n",
    "\n",
    "for value, count in value_counts.items():\n",
    "    if count > highest_count:\n",
    "        most_common_value = value\n",
    "        highest_count = count\n"
   ],
   "id": "af012ac9c40b8e04",
   "outputs": [],
   "execution_count": 65
  },
  {
   "metadata": {},
   "cell_type": "markdown",
   "source": [
    "✅ This updates most_common_value whenever we find a higher frequency.\n",
    "\n",
    "🔥 Why This Works\n",
    "1. The first loop builds the frequency dictionary (value_counts).\n",
    "2. The second loop finds the most frequent value without using max()."
   ],
   "id": "5048b958a3be4094"
  },
  {
   "metadata": {},
   "cell_type": "markdown",
   "source": "## We could have also done this:",
   "id": "72918fbd586aa34"
  },
  {
   "metadata": {
    "ExecuteTime": {
     "end_time": "2025-03-14T03:06:00.156479Z",
     "start_time": "2025-03-14T03:06:00.153305Z"
    }
   },
   "cell_type": "code",
   "source": [
    "data = {\n",
    "    \"A\": 3,\n",
    "    \"B\": 5,\n",
    "    \"C\": 3,\n",
    "    \"D\": 5,\n",
    "    \"E\": 5\n",
    "}\n",
    "\n",
    "# Step 1: Get unique values\n",
    "unique_values = set(data.values())\n",
    "\n",
    "# Step 2: Find the most common value using a loop\n",
    "most_common_value = None\n",
    "highest_count = 0\n",
    "\n",
    "for v in unique_values:\n",
    "    count = list(data.values()).count(v)  # Count occurrences of v\n",
    "    if count > highest_count:  # If it's the highest count so far, update\n",
    "        most_common_value = v\n",
    "        highest_count = count\n",
    "\n",
    "print(most_common_value)  # ✅ Output: 5\n"
   ],
   "id": "c454b89dd5d431e6",
   "outputs": [
    {
     "name": "stdout",
     "output_type": "stream",
     "text": [
      "5\n"
     ]
    }
   ],
   "execution_count": 72
  },
  {
   "metadata": {},
   "cell_type": "markdown",
   "source": [
    "## 🔥 Challenge 3: Find the Key with the Highest Value\n",
    "Find the key that has the highest value."
   ],
   "id": "9f64230af74cca61"
  },
  {
   "metadata": {
    "ExecuteTime": {
     "end_time": "2025-04-18T00:06:36.355810Z",
     "start_time": "2025-04-18T00:06:36.351198Z"
    }
   },
   "cell_type": "code",
   "source": [
    "sales = {\"store1\": 500, \"store2\": 800, \"store3\": 750}\n",
    "max_value = max(sales.values()) # ✅ First, find the highest value\n",
    "key = [k for k, v in sales.items() if v == max_value][0]  # ✅ Get the key that matches\n",
    "\n",
    "print(key)\n",
    "\n"
   ],
   "id": "d956b629ece35b8f",
   "outputs": [
    {
     "name": "stdout",
     "output_type": "stream",
     "text": [
      "store2\n"
     ]
    }
   ],
   "execution_count": 3
  },
  {
   "metadata": {},
   "cell_type": "markdown",
   "source": "## Even Better",
   "id": "de355f7d03b4f56"
  },
  {
   "metadata": {
    "ExecuteTime": {
     "end_time": "2025-03-14T04:02:10.928036Z",
     "start_time": "2025-03-14T04:02:10.925486Z"
    }
   },
   "cell_type": "code",
   "source": [
    "sales = {\"store1\": 500, \"store2\": 800, \"store3\": 750}\n",
    "\n",
    "key = max(sales, key=sales.get)  # ✅ Finds the key with the max value\n",
    "\n",
    "print(key)  # ✅ Output: \"store2\"\n"
   ],
   "id": "f88515ff70404179",
   "outputs": [
    {
     "name": "stdout",
     "output_type": "stream",
     "text": [
      "store2\n"
     ]
    }
   ],
   "execution_count": 94
  },
  {
   "metadata": {
    "ExecuteTime": {
     "end_time": "2025-03-14T04:02:56.636299Z",
     "start_time": "2025-03-14T04:02:56.633968Z"
    }
   },
   "cell_type": "code",
   "source": [
    "max_key = None\n",
    "max_value = float('-inf')  # Start with the lowest possible number\n",
    "\n",
    "for k in sales:\n",
    "    if sales[k] > max_value:\n",
    "        max_value = sales[k]\n",
    "        max_key = k\n",
    "\n",
    "print(max_key)\n"
   ],
   "id": "b19d72c383cb72aa",
   "outputs": [
    {
     "name": "stdout",
     "output_type": "stream",
     "text": [
      "store2\n"
     ]
    }
   ],
   "execution_count": 95
  },
  {
   "metadata": {},
   "cell_type": "markdown",
   "source": [
    "## 🔥 Challenge 4: Reverse a Dictionary\n",
    "Swap keys and values in this dictionary."
   ],
   "id": "a471fda34294dcd7"
  },
  {
   "metadata": {
    "ExecuteTime": {
     "end_time": "2025-03-14T19:48:28.017546Z",
     "start_time": "2025-03-14T19:48:28.014682Z"
    }
   },
   "cell_type": "code",
   "source": [
    "cities = {\"NYC\": \"New York\", \"LA\": \"Los Angeles\", \"CHI\": \"Chicago\"}\n",
    "swapped = {k:v for v, k in cities.items()}\n",
    "print(swapped)"
   ],
   "id": "423390dc45293c1c",
   "outputs": [
    {
     "name": "stdout",
     "output_type": "stream",
     "text": [
      "{'New York': 'NYC', 'Los Angeles': 'LA', 'Chicago': 'CHI'}\n"
     ]
    }
   ],
   "execution_count": 2
  },
  {
   "metadata": {},
   "cell_type": "markdown",
   "source": "### While I got the correct output *Technically* you need to do this:",
   "id": "eaf43fd5040c7a5e"
  },
  {
   "metadata": {
    "ExecuteTime": {
     "end_time": "2025-03-14T19:55:38.438976Z",
     "start_time": "2025-03-14T19:55:38.436454Z"
    }
   },
   "cell_type": "code",
   "source": [
    "swapped = {v: k for k, v in cities.items()}  # ✅ Proper key-value swap\n",
    "print(swapped)"
   ],
   "id": "acc1795d5d2318ca",
   "outputs": [
    {
     "name": "stdout",
     "output_type": "stream",
     "text": [
      "{'New York': 'NYC', 'Los Angeles': 'LA', 'Chicago': 'CHI'}\n"
     ]
    }
   ],
   "execution_count": 4
  },
  {
   "metadata": {},
   "cell_type": "markdown",
   "source": [
    "## 🚀 Drill 1: Find the Cheapest Product\n",
    "Given a dictionary of products and their prices, find the cheapest product."
   ],
   "id": "cce43524471293b0"
  },
  {
   "metadata": {},
   "cell_type": "markdown",
   "source": "#### way 1",
   "id": "3beacf82e367b50c"
  },
  {
   "metadata": {
    "ExecuteTime": {
     "end_time": "2025-03-14T20:04:48.375765Z",
     "start_time": "2025-03-14T20:04:48.373279Z"
    }
   },
   "cell_type": "code",
   "source": [
    "products = {\n",
    "    \"Laptop\": 1200,\n",
    "    \"Phone\": 800,\n",
    "    \"Tablet\": 450,\n",
    "    \"Monitor\": 300\n",
    "}\n",
    "key = min(products, key=products.get)  # ✅ Finds the key with the max value\n",
    "\n",
    "print(key)"
   ],
   "id": "f9ea5410fb6c2054",
   "outputs": [
    {
     "name": "stdout",
     "output_type": "stream",
     "text": [
      "Monitor\n"
     ]
    }
   ],
   "execution_count": 7
  },
  {
   "metadata": {},
   "cell_type": "markdown",
   "source": "#### way 2",
   "id": "577a3d3c6d76325a"
  },
  {
   "metadata": {
    "ExecuteTime": {
     "end_time": "2025-03-14T20:44:44.853085Z",
     "start_time": "2025-03-14T20:44:44.850266Z"
    }
   },
   "cell_type": "code",
   "source": [
    "products = {\n",
    "    \"Laptop\": 1200,\n",
    "    \"Phone\": 800,\n",
    "    \"Tablet\": 450,\n",
    "    \"Monitor\": 300\n",
    "}\n",
    "min_key = None\n",
    "min_value = float('inf')\n",
    "\n",
    "for k, v in products.items():\n",
    "    if products[k] < min_value:\n",
    "        min_value = products[k]\n",
    "        min_key = k\n",
    "\n",
    "print(min_key)\n"
   ],
   "id": "8d9b95c0355980f9",
   "outputs": [
    {
     "name": "stdout",
     "output_type": "stream",
     "text": [
      "Monitor\n"
     ]
    }
   ],
   "execution_count": 17
  },
  {
   "metadata": {},
   "cell_type": "markdown",
   "source": [
    "## 🚀 Drill 2: Find the Student with the Lowest Score\n",
    "Given a dictionary of students and their scores, find the student with the lowest score."
   ],
   "id": "5ca55414a5d38373"
  },
  {
   "metadata": {},
   "cell_type": "markdown",
   "source": "### way 1",
   "id": "391185f2a004f34"
  },
  {
   "metadata": {
    "ExecuteTime": {
     "end_time": "2025-03-14T20:42:51.099812Z",
     "start_time": "2025-03-14T20:42:51.097509Z"
    }
   },
   "cell_type": "code",
   "source": [
    "scores = {\n",
    "    \"Alice\": 85,\n",
    "    \"Bob\": 92,\n",
    "    \"Charlie\": 78,\n",
    "    \"David\": 95,\n",
    "    \"Eve\": 88\n",
    "}\n",
    "\n",
    "key = min(scores, key=scores.get)\n",
    "\n",
    "print(key)"
   ],
   "id": "2952e32355392826",
   "outputs": [
    {
     "name": "stdout",
     "output_type": "stream",
     "text": [
      "Charlie\n"
     ]
    }
   ],
   "execution_count": 16
  },
  {
   "metadata": {},
   "cell_type": "markdown",
   "source": "#### way 2",
   "id": "f68ee34ab3cc0304"
  },
  {
   "metadata": {
    "ExecuteTime": {
     "end_time": "2025-03-14T20:49:59.876556Z",
     "start_time": "2025-03-14T20:49:59.873986Z"
    }
   },
   "cell_type": "code",
   "source": [
    "scores = {\n",
    "    \"Alice\": 85,\n",
    "    \"Bob\": 92,\n",
    "    \"Charlie\": 78,\n",
    "    \"David\": 95,\n",
    "    \"Eve\": 88\n",
    "}\n",
    "\n",
    "min_key = None\n",
    "min_value = float('inf')\n",
    "\n",
    "for k, v in scores.items():\n",
    "    if scores[k] < min_value:\n",
    "        min_value = scores[k]\n",
    "        min_key = k\n",
    "\n",
    "print(min_key)"
   ],
   "id": "12fc786ea9fd2727",
   "outputs": [
    {
     "name": "stdout",
     "output_type": "stream",
     "text": [
      "Charlie\n"
     ]
    }
   ],
   "execution_count": 19
  },
  {
   "metadata": {},
   "cell_type": "markdown",
   "source": "## What if we wanted to find the minimum score, not the k but the minimum *value*?",
   "id": "49ac43bc8c81cd81"
  },
  {
   "metadata": {
    "ExecuteTime": {
     "end_time": "2025-03-14T21:03:12.250081Z",
     "start_time": "2025-03-14T21:03:12.245958Z"
    }
   },
   "cell_type": "code",
   "source": [
    "scores = {\n",
    "    \"Alice\": 85,\n",
    "    \"Bob\": 92,\n",
    "    \"Charlie\": 78,\n",
    "    \"David\": 95,\n",
    "    \"Eve\": 88\n",
    "}\n",
    "\n",
    "min_key = None\n",
    "min_value = float('inf')\n",
    "\n",
    "for k, v in scores.items():\n",
    "    if scores[k] < min_value:\n",
    "        min_value = scores[k]\n",
    "        min_value = v\n",
    "\n",
    "print(min_value)"
   ],
   "id": "e10be5721f396b3a",
   "outputs": [
    {
     "name": "stdout",
     "output_type": "stream",
     "text": [
      "78\n"
     ]
    }
   ],
   "execution_count": 20
  },
  {
   "metadata": {},
   "cell_type": "markdown",
   "source": "## While my code did indeed identify the correct value, it can be shortened somewhat by:",
   "id": "65702b9c2cecaf63"
  },
  {
   "metadata": {
    "ExecuteTime": {
     "end_time": "2025-03-14T21:11:48.600734Z",
     "start_time": "2025-03-14T21:11:48.596406Z"
    }
   },
   "cell_type": "code",
   "source": [
    "scores = {\n",
    "    \"Alice\": 85,\n",
    "    \"Bob\": 92,\n",
    "    \"Charlie\": 78,\n",
    "    \"David\": 95,\n",
    "    \"Eve\": 88\n",
    "}\n",
    "\n",
    "min_value = float('inf')\n",
    "\n",
    "for v in scores.values():  # ✅ No need to loop over keys, just values\n",
    "    if v < min_value:\n",
    "        min_value = v  # ✅ Only update min_value\n",
    "\n",
    "print(min_value)"
   ],
   "id": "c32174cb6a2f3225",
   "outputs": [
    {
     "name": "stdout",
     "output_type": "stream",
     "text": [
      "78\n"
     ]
    }
   ],
   "execution_count": 21
  },
  {
   "metadata": {},
   "cell_type": "markdown",
   "source": "# However there is a one-liner for finding the minimum values:",
   "id": "705bdb9e816a47fd"
  },
  {
   "metadata": {
    "ExecuteTime": {
     "end_time": "2025-03-14T21:17:10.531664Z",
     "start_time": "2025-03-14T21:17:10.529392Z"
    }
   },
   "cell_type": "code",
   "source": [
    "min_value = min(scores.values())\n",
    "\n",
    "print(min_value)\n"
   ],
   "id": "4aa9723a8fff2417",
   "outputs": [
    {
     "name": "stdout",
     "output_type": "stream",
     "text": [
      "78\n"
     ]
    }
   ],
   "execution_count": 23
  },
  {
   "metadata": {},
   "cell_type": "markdown",
   "source": [
    "# 📌 One-Liner Comparison Table for Finding Min/Max in a Dictionary\n",
    "\n",
    "| **Goal**                                  | **One-Liner Code**                         | **Time Complexity** |\n",
    "|-------------------------------------------|---------------------------------------------|----------------------|\n",
    "| Find the **key** with the smallest value  | `min(scores, key=scores.get)`              | `O(N)` ✅            |\n",
    "| Find the **smallest value only**          | `min(scores.values())`                     | `O(N)` ✅            |\n",
    "| Find the **key** with the largest value** | `max(scores, key=scores.get)`              | `O(N)` ✅            |\n",
    "| Find the **largest value only**           | `max(scores.values())`                     | `O(N)` ✅            |\n",
    "\n",
    "## 🚀 **Explanation**\n",
    "- **`min(scores.values())`** → Finds the **smallest value** but **not the key**.\n",
    "- **`min(scores, key=scores.get)`** → Finds the **key** with the smallest value.\n",
    "- **Same logic applies for `max()`** to find the **largest value** or its **key**.\n",
    "- All of these run in **O(N) time complexity**, because Python **must check every value at least once**.\n",
    "\n",
    "🔥 **Now you can copy this into your Jupyter Notebook and have a perfect reference!** 🚀💪\n"
   ],
   "id": "158c7b6eb8b13115"
  },
  {
   "metadata": {},
   "cell_type": "code",
   "outputs": [],
   "execution_count": null,
   "source": "",
   "id": "45d51d62a4614440"
  }
 ],
 "metadata": {
  "kernelspec": {
   "display_name": "Python 3 (ipykernel)",
   "language": "python",
   "name": "python3"
  },
  "language_info": {
   "codemirror_mode": {
    "name": "ipython",
    "version": 2
   },
   "file_extension": ".py",
   "mimetype": "text/x-python",
   "name": "python",
   "nbconvert_exporter": "python",
   "pygments_lexer": "ipython2",
   "version": "2.7.6"
  }
 },
 "nbformat": 4,
 "nbformat_minor": 5
}
