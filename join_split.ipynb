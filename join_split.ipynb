{
 "cells": [
  {
   "metadata": {},
   "cell_type": "markdown",
   "source": [
    "## `split()`- turns a string into a list of strings and you can split on whatever you want punctuation wise\n",
    "* The idea here is that you can take a string, then turn it into a list\n",
    "* THEN, you can isolate things in the list by indexing on them"
   ],
   "id": "cb058a6bd868d129"
  },
  {
   "cell_type": "code",
   "id": "initial_id",
   "metadata": {
    "collapsed": true,
    "ExecuteTime": {
     "end_time": "2025-10-18T05:18:30.929323Z",
     "start_time": "2025-10-18T05:18:30.907832Z"
    }
   },
   "source": [
    "text = \"apple,banana,grape\"\n",
    "print(text.split(',')[:])\n",
    "text.split(',')[1]"
   ],
   "outputs": [
    {
     "name": "stdout",
     "output_type": "stream",
     "text": [
      "['apple', 'banana', 'grape']\n"
     ]
    },
    {
     "data": {
      "text/plain": [
       "'banana'"
      ]
     },
     "execution_count": 1,
     "metadata": {},
     "output_type": "execute_result"
    }
   ],
   "execution_count": 1
  },
  {
   "metadata": {
    "ExecuteTime": {
     "end_time": "2025-10-18T05:18:30.958021Z",
     "start_time": "2025-10-18T05:18:30.953930Z"
    }
   },
   "cell_type": "code",
   "source": [
    "data = \"name:John;age:30;city:New York\"\n",
    "fields = data.split(\";\") # now you have a key:value setup ['name:John', 'age:30', 'city:New York']\n",
    "structured_data = {item.split(\":\")[0]: item.split(\":\")[1] for item in fields} # Make the dictionary\n",
    "print(structured_data)\n",
    "\n",
    "#structured_data = {item.split(\":\")[0]: item.split(\":\")[1] for item in fields}\n",
    "\n",
    "\n"
   ],
   "id": "13cbc226cc518079",
   "outputs": [
    {
     "name": "stdout",
     "output_type": "stream",
     "text": [
      "{'name': 'John', 'age': '30', 'city': 'New York'}\n"
     ]
    }
   ],
   "execution_count": 2
  },
  {
   "metadata": {},
   "cell_type": "markdown",
   "source": [
    "## `join()`\n",
    "* This method is used to concatenate elements of an iterable (like a list) into a string.\n",
    "* It's the opposite of split()"
   ],
   "id": "c20a0b519170b3e1"
  },
  {
   "metadata": {
    "ExecuteTime": {
     "end_time": "2025-10-18T05:18:30.980228Z",
     "start_time": "2025-10-18T05:18:30.975089Z"
    }
   },
   "cell_type": "code",
   "source": [
    "words = [\"Python\", \"is\", \"awesome\"]\n",
    "sentence = \" \".join(words)  # Joining with space\n",
    "print(sentence)\n"
   ],
   "id": "b2ae95af73a11ad9",
   "outputs": [
    {
     "name": "stdout",
     "output_type": "stream",
     "text": [
      "Python is awesome\n"
     ]
    }
   ],
   "execution_count": 3
  },
  {
   "metadata": {
    "ExecuteTime": {
     "end_time": "2025-10-18T05:18:31.002081Z",
     "start_time": "2025-10-18T05:18:30.997318Z"
    }
   },
   "cell_type": "code",
   "source": [
    "row = [\"Alice\", \"Data Engineer\", \"San Francisco\"]\n",
    "csv_line = \",\".join(row)  # Convert list to CSV row\n",
    "print(csv_line)\n"
   ],
   "id": "4a5e82807d249457",
   "outputs": [
    {
     "name": "stdout",
     "output_type": "stream",
     "text": [
      "Alice,Data Engineer,San Francisco\n"
     ]
    }
   ],
   "execution_count": 4
  },
  {
   "metadata": {},
   "cell_type": "markdown",
   "source": [
    "## Removing Extra Spaces from a String\n",
    "\n",
    "This cell demonstrates a common string manipulation pattern:\n",
    "\n",
    "1. **`split()`** breaks the string into a list of words (splitting on whitespace)\n",
    "2. **`join()`** combines those words back into a single string with a single space between each word\n",
    "\n",
    "This effectively removes:\n",
    "- Leading spaces\n",
    "- Trailing spaces  \n",
    "- Multiple consecutive spaces between words\n",
    "\n",
    "### Example Breakdown:\n"
   ],
   "id": "b1b527b8b6aa957a"
  },
  {
   "metadata": {},
   "cell_type": "markdown",
   "source": [
    "python\n",
    "text = \"  Python  is   powerful!  \"\n",
    "# After split(): [\"Python\", \"is\", \"powerful!\"]\n",
    "# After join with \" \": \"Python is powerful!\"\n"
   ],
   "id": "1d46da69f158fb42"
  },
  {
   "metadata": {},
   "cell_type": "code",
   "outputs": [],
   "execution_count": null,
   "source": "",
   "id": "68df27397844c3c2"
  },
  {
   "metadata": {},
   "cell_type": "code",
   "outputs": [],
   "execution_count": null,
   "source": [
    "text = \"  Python  is   powerful!  \"\n",
    "cleaned_text = \" \".join(text.split())  # Removes extra spaces\n",
    "print(cleaned_text)\n"
   ],
   "id": "5ce42d65379d81c"
  },
  {
   "metadata": {},
   "cell_type": "markdown",
   "source": [
    "\n",
    "### An iterable can also be a dictionary"
   ],
   "id": "95dc211783ada99f"
  },
  {
   "metadata": {},
   "cell_type": "markdown",
   "source": [
    "### An iterable can also be a dictionary\n",
    "\n",
    "**Explanation:**\n",
    "\n",
    "This cell demonstrates how to use Python's `join()` method with a dictionary to create a formatted string. Here's what's happening:\n",
    "\n",
    "**Dictionary as an Iterable:**\n",
    "- When iterating over a dictionary using `.items()`, you get key-value pairs\n",
    "- You can format each pair as strings (e.g., \"key=value\")\n",
    "- The `join()` method concatenates these formatted strings with a separator\n",
    "\n",
    "**Example:**"
   ],
   "id": "373d1d93c483870a"
  },
  {
   "metadata": {},
   "cell_type": "markdown",
   "source": [
    "python\n",
    "data = {\"name\": \"Alice\", \"role\": \"Data Engineer\", \"city\": \"SF\"}\n",
    "result = \",\".join(f\"{k}={v}\" for k, v in data.items())\n",
    "# Output: \"name=Alice,role=Data Engineer,city=SF\"\n"
   ],
   "id": "f25b3bb96abf50a1"
  },
  {
   "metadata": {},
   "cell_type": "code",
   "outputs": [],
   "execution_count": null,
   "source": [
    "\n",
    "** Key\n",
    "Points: **\n",
    "- `.items()\n",
    "` returns\n",
    "key - value\n",
    "pairs\n",
    "from the dictionary\n",
    "\n",
    "- Generator\n",
    "expressions\n",
    "create\n",
    "formatted\n",
    "strings\n",
    "on - the - fly\n",
    "- `join()`\n",
    "takes\n",
    "any\n",
    "iterable\n",
    "of\n",
    "strings, including\n",
    "generators\n",
    "- This\n",
    "pattern is useful\n",
    "for logging, CSV formatting, and API parameters\n"
   ],
   "id": "5bc7cc4e6cc436b2"
  },
  {
   "metadata": {},
   "cell_type": "markdown",
   "source": [
    "python\n",
    "data = {\"name\": \"Alice\", \"role\": \"Data Engineer\", \"city\": \"SF\"}\n"
   ],
   "id": "bd16eccc47138cf3"
  },
  {
   "metadata": {},
   "cell_type": "markdown",
   "source": [
    "\n",
    "This creates a generator that:\n",
    "- Iterates through each key-value pair using `.items()`\n",
    "- Formats each pair as `\"key=value\"` using an f-string\n",
    "- Yields strings like: `\"name=Alice\"`, `\"role=Data Engineer\"`, `\"city=SF\"`\n",
    "\n",
    "**Join Operation:**\n"
   ],
   "id": "ba30a43f6c203cdb"
  },
  {
   "metadata": {},
   "cell_type": "markdown",
   "source": [
    "\n",
    "The `join()` method:\n",
    "- Takes all the formatted strings from the generator\n",
    "- Concatenates them with commas (`,`) as separators\n",
    "- Returns a single string: `\"name=Alice,role=Data Engineer,city=SF\"`\n",
    "\n",
    "**Output:**\n"
   ],
   "id": "caf01571c4e4dfb2"
  },
  {
   "metadata": {},
   "cell_type": "markdown",
   "source": [
    "\n",
    "\n",
    "**Key Concepts:**\n",
    "1. **`.items()`** returns key-value pairs from a dictionary\n",
    "2. **Generator expressions** create iterables on-the-fly without storing them in memory\n",
    "3. **`join()`** expects an iterable of strings, which our generator expression provides\n",
    "4. **f-strings** allow embedding variables directly into string literals\n",
    "\n",
    "This pattern is commonly used in data engineering for:\n",
    "- Creating log entries\n",
    "- Formatting API parameters\n",
    "- Building CSV/TSV output\n",
    "- Serializing data for transmission\n"
   ],
   "id": "c9352303058a96fd"
  },
  {
   "metadata": {},
   "cell_type": "markdown",
   "source": "### .join() with a Dictionary – Quick Licks",
   "id": "34a350bee93bf248"
  },
  {
   "metadata": {
    "ExecuteTime": {
     "end_time": "2025-10-18T05:27:56.646133Z",
     "start_time": "2025-10-18T05:27:56.614872Z"
    }
   },
   "cell_type": "code",
   "source": [
    "d = {'a': 1, 'b': 2, 'c': 3}\n",
    "result = ''.join(d)\n",
    "print(result)\n",
    "# Same as: ''.join(d.keys())\n",
    "\n"
   ],
   "id": "4155b496ea5ef1a9",
   "outputs": [
    {
     "name": "stdout",
     "output_type": "stream",
     "text": [
      "abc\n"
     ]
    }
   ],
   "execution_count": 26
  },
  {
   "metadata": {},
   "cell_type": "markdown",
   "source": "#### Join the values (must convert to str first):",
   "id": "105db361a87aeeea"
  },
  {
   "metadata": {
    "ExecuteTime": {
     "end_time": "2025-10-18T05:25:44.839681Z",
     "start_time": "2025-10-18T05:25:44.828320Z"
    }
   },
   "cell_type": "code",
   "source": "''.join(str(v) for v in d.values())\n",
   "id": "87efab40c91f1e7",
   "outputs": [
    {
     "data": {
      "text/plain": [
       "'123'"
      ]
     },
     "execution_count": 22,
     "metadata": {},
     "output_type": "execute_result"
    }
   ],
   "execution_count": 22
  },
  {
   "metadata": {},
   "cell_type": "markdown",
   "source": "you can format the dictionary how you like",
   "id": "50cd0834b8224ab1"
  },
  {
   "metadata": {
    "ExecuteTime": {
     "end_time": "2025-10-18T05:25:47.569595Z",
     "start_time": "2025-10-18T05:25:47.561984Z"
    }
   },
   "cell_type": "code",
   "source": [
    "' '.join(f'{v}:{k}' for k, v in d.items())\n",
    "# Output: 'a:1 b:2 c:3'\n"
   ],
   "id": "49a21c48d20b68ca",
   "outputs": [
    {
     "data": {
      "text/plain": [
       "'1:a 2:b 3:c'"
      ]
     },
     "execution_count": 23,
     "metadata": {},
     "output_type": "execute_result"
    }
   ],
   "execution_count": 23
  },
  {
   "metadata": {
    "ExecuteTime": {
     "end_time": "2025-10-18T05:25:48.385745Z",
     "start_time": "2025-10-18T05:25:48.372702Z"
    }
   },
   "cell_type": "code",
   "source": [
    "text = \"  Python  is   powerful!  \" # starting off with a string\n",
    "cleaned_text = \" \".join(text.split())  # Removes extra spaces- split into a list of strings, then join them\n",
    "print(cleaned_text)  # Output: \"Python is powerful!\"\n"
   ],
   "id": "5ad228d3bd25ea02",
   "outputs": [
    {
     "name": "stdout",
     "output_type": "stream",
     "text": [
      "Python is powerful!\n"
     ]
    }
   ],
   "execution_count": 24
  },
  {
   "metadata": {
    "ExecuteTime": {
     "end_time": "2025-10-18T05:25:49.141786Z",
     "start_time": "2025-10-18T05:25:49.137162Z"
    }
   },
   "cell_type": "code",
   "source": [
    "log_entry = \"ERROR|2025-03-07|Server Down\"\n",
    "# desired output: \"ERROR - 2025-03-07 - Server Down\"\n",
    "formatted_output = \" - \".join(log_entry.split(\"|\"))\n",
    "print(formatted_output)"
   ],
   "id": "56620b4844c7c03a",
   "outputs": [
    {
     "name": "stdout",
     "output_type": "stream",
     "text": [
      "ERROR - 2025-03-07 - Server Down\n"
     ]
    }
   ],
   "execution_count": 25
  },
  {
   "metadata": {},
   "cell_type": "markdown",
   "source": [
    "## Performance Considerations\n",
    "### `split()` Performance:\n",
    "* Native `.split(delimiter)` is optimized and faster than using `re.split()`.\n",
    "* `split(None)` (default) intelligently splits by any whitespace.\n",
    "## `join()` Performance:\n",
    "* `\"\".join(iterable)` is the *fastest* way to concatenate strings.\n",
    "* **Always** prefer `\"\".join(list)` over `+=` inside loops."
   ],
   "id": "fc2d3edeff40a986"
  },
  {
   "metadata": {},
   "cell_type": "markdown",
   "source": [
    "## Tricky problem: We're gonna need the `replace()` function\n",
    "### The Basics of `replace()`\n",
    "The `replace()` function in Python is like a find-and-swap tool for strings. It lets you take a piece of text and swap out certain words, letters, or symbols for something else—kinda like remixing a track with different beats.\n",
    "**Syntax**\n",
    "`string.replace(old, new, count)`\n",
    "* `old` → What you wanna swap out\n",
    "* `new` → What you wanna replace it with\n",
    "* `count` (optional) → How many times you wanna do the swap (default: all)\n",
    "\n",
    "example:\n",
    "```\n",
    "text = \"Man, Python is difficult!\"\n",
    "new_text = text.replace(\"difficult\", \"🔥\")\n",
    "print(new_text)\n",
    "Man, Python is 🔥!\n",
    "```\n",
    "\n",
    "**Processing API Responses (JSON-like strings)**\n",
    "This problem is trickier than it seems at first and you have to pay extra attention to the desired output. We"
   ],
   "id": "ffde63af97d7a851"
  },
  {
   "metadata": {
    "ExecuteTime": {
     "end_time": "2025-10-18T05:18:31.222980Z",
     "start_time": "2025-10-18T05:18:31.219141Z"
    }
   },
   "cell_type": "code",
   "source": [
    "response = '{\"name\": \"Alice\", \"age\": \"30\", \"city\": \"NY\"}'\n",
    "key_value_pairs = response.replace(\"{\", \"\").replace(\"}\", \"\").replace('\"', '').split(\",\")\n",
    "structured_dict = {_.split(\":\")[0]: _.split(\":\")[1] for _ in key_value_pairs}\n",
    "print(structured_dict)\n",
    "\n"
   ],
   "id": "72cbc25e1b39942",
   "outputs": [
    {
     "name": "stdout",
     "output_type": "stream",
     "text": [
      "{'name': ' Alice', ' age': ' 30', ' city': ' NY'}\n"
     ]
    }
   ],
   "execution_count": 12
  },
  {
   "metadata": {
    "ExecuteTime": {
     "end_time": "2025-10-18T05:18:31.233848Z",
     "start_time": "2025-10-18T05:18:31.230378Z"
    }
   },
   "cell_type": "code",
   "source": [
    "filepath = \"/home/user/documents/report.csv\"\n",
    "# Output: \"/home/user/documents\"\n",
    "\"/\".join(filepath.split(\"/\")[0:4])\n"
   ],
   "id": "403d8ec9e676d570",
   "outputs": [
    {
     "data": {
      "text/plain": [
       "'/home/user/documents'"
      ]
     },
     "execution_count": 13,
     "metadata": {},
     "output_type": "execute_result"
    }
   ],
   "execution_count": 13
  },
  {
   "metadata": {},
   "cell_type": "markdown",
   "source": [
    "expected output\n",
    "```\n",
    "[\n",
    "    {'level': 'INFO', 'timestamp': '2025-03-07', 'message': 'User login: john_doe'},\n",
    "    {'level': 'ERROR', 'timestamp': '2025-03-07', 'message': 'Database timeout'},\n",
    "    {'level': 'WARNING', 'timestamp': '2025-03-07', 'message': 'Low disk space'}\n",
    "]\n",
    "\n",
    "```"
   ],
   "id": "68905a8d5e54798c"
  },
  {
   "metadata": {
    "ExecuteTime": {
     "end_time": "2025-10-18T05:18:31.248Z",
     "start_time": "2025-10-18T05:18:31.244050Z"
    }
   },
   "cell_type": "code",
   "source": [
    "logs = [\n",
    "    \"[INFO] 2025-03-07 12:00:01 - User login: john_doe\",\n",
    "    \"[ERROR] 2025-03-07 12:02:15 - Database timeout\",\n",
    "    \"[WARNING] 2025-03-07 12:05:42 - Low disk space\"\n",
    "]\n",
    "\n",
    "for log in logs:\n",
    "    # Split once at the first space to separate [LEVEL] from the rest\n",
    "    level_part, rest = log.split(\" \", 1)\n",
    "\n",
    "\n",
    "    # Clean brackets from level\n",
    "    level = level_part[1:-1]\n",
    "\n",
    "    # Now split rest into timestamp and message\n",
    "    timestamp, message = rest.split(\" - \", 1)\n",
    "\n",
    "    print(f\"Level: {level}\")\n",
    "    print(f\"Timestamp: {timestamp}\")\n",
    "    print(f\"Message: {message}\")\n",
    "    print(\"---\")\n",
    "\n",
    "\n",
    "\n"
   ],
   "id": "31220cc369c25715",
   "outputs": [
    {
     "name": "stdout",
     "output_type": "stream",
     "text": [
      "Level: INFO\n",
      "Timestamp: 2025-03-07 12:00:01\n",
      "Message: User login: john_doe\n",
      "---\n",
      "Level: ERROR\n",
      "Timestamp: 2025-03-07 12:02:15\n",
      "Message: Database timeout\n",
      "---\n",
      "Level: WARNING\n",
      "Timestamp: 2025-03-07 12:05:42\n",
      "Message: Low disk space\n",
      "---\n"
     ]
    }
   ],
   "execution_count": 14
  },
  {
   "metadata": {
    "ExecuteTime": {
     "end_time": "2025-10-18T05:18:31.283048Z",
     "start_time": "2025-10-18T05:18:31.278222Z"
    }
   },
   "cell_type": "code",
   "source": [
    "logs = [\n",
    "    \"[INFO] 2025-03-07 12:00:01 - User login: john_doe\",\n",
    "    \"[ERROR] 2025-03-07 12:02:15 - Database timeout\",\n",
    "    \"[WARNING] 2025-03-07 12:05:42 - Low disk space\"\n",
    "]\n",
    "\n",
    "def parse_logs(logs):\n",
    "    parsed = []\n",
    "    for log in logs:\n",
    "        header_message = log.split(\" - \", 1)\n",
    "        header = header_message[0]\n",
    "        message = header_message[1] if len(header_message) > 1 else \"\"\n",
    "        tokens = header.split()\n",
    "        level = tokens[0].strip(\"[]\") if tokens else \"\"\n",
    "        timestamp = tokens[1] if len(tokens) > 1 else \"\"\n",
    "        parsed.append({\"level\": level, \"timestamp\": timestamp, \"message\": message})\n",
    "    return parsed\n",
    "\n",
    "structured_logs = parse_logs(logs)\n",
    "print(structured_logs)\n"
   ],
   "id": "7bec042d5bbdf161",
   "outputs": [
    {
     "name": "stdout",
     "output_type": "stream",
     "text": [
      "[{'level': 'INFO] 2025-03-07 12:00:0', 'timestamp': '2025-03-07', 'message': 'User login: john_doe'}, {'level': 'ERROR] 2025-03-07 12:02:1', 'timestamp': '2025-03-07', 'message': 'Database timeout'}, {'level': 'WARNING] 2025-03-07 12:05:4', 'timestamp': '2025-03-07', 'message': 'Low disk space'}]\n"
     ]
    }
   ],
   "execution_count": 15
  }
 ],
 "metadata": {
  "kernelspec": {
   "display_name": "Python 3",
   "language": "python",
   "name": "python3"
  },
  "language_info": {
   "codemirror_mode": {
    "name": "ipython",
    "version": 2
   },
   "file_extension": ".py",
   "mimetype": "text/x-python",
   "name": "python",
   "nbconvert_exporter": "python",
   "pygments_lexer": "ipython2",
   "version": "2.7.6"
  }
 },
 "nbformat": 4,
 "nbformat_minor": 5
}
