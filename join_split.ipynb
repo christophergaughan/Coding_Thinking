{
 "cells": [
  {
   "metadata": {},
   "cell_type": "markdown",
   "source": [
    "## `split()`- turns a string into a list of strings and you can split on whatever you want punctuation wise\n",
    "* The idea here is that you can take a string, then turn it into a list\n",
    "* THEN, you can isolate things in the list by indexing on them"
   ],
   "id": "cb058a6bd868d129"
  },
  {
   "cell_type": "code",
   "id": "initial_id",
   "metadata": {
    "collapsed": true,
    "ExecuteTime": {
     "end_time": "2025-03-07T21:33:40.578356Z",
     "start_time": "2025-03-07T21:33:40.575199Z"
    }
   },
   "source": [
    "text = \"apple,banana,grape\"\n",
    "text.split(',')[0]"
   ],
   "outputs": [
    {
     "data": {
      "text/plain": [
       "'apple'"
      ]
     },
     "execution_count": 6,
     "metadata": {},
     "output_type": "execute_result"
    }
   ],
   "execution_count": 6
  },
  {
   "metadata": {
    "ExecuteTime": {
     "end_time": "2025-03-07T22:02:39.918148Z",
     "start_time": "2025-03-07T22:02:39.914550Z"
    }
   },
   "cell_type": "code",
   "source": [
    "data = \"name:John;age:30;city:New York\"\n",
    "fields = data.split(\";\") # now you have a key:value setup ['name:John', 'age:30', 'city:New York']\n",
    "structured_data = {item.split(\":\")[0]: item.split(\":\")[1] for item in fields} # Make the dictionary\n",
    "print(structured_data)\n",
    "\n",
    "#structured_data = {item.split(\":\")[0]: item.split(\":\")[1] for item in fields}\n",
    "\n",
    "\n"
   ],
   "id": "13cbc226cc518079",
   "outputs": [
    {
     "name": "stdout",
     "output_type": "stream",
     "text": [
      "{'name': 'John', 'age': '30', 'city': 'New York'}\n"
     ]
    }
   ],
   "execution_count": 16
  },
  {
   "metadata": {},
   "cell_type": "markdown",
   "source": [
    "## `join()`\n",
    "* This method is used to concatenate elements of an iterable (like a list) into a string.\n",
    "* It's the opposite of split()"
   ],
   "id": "c20a0b519170b3e1"
  },
  {
   "metadata": {
    "ExecuteTime": {
     "end_time": "2025-03-07T22:20:48.678252Z",
     "start_time": "2025-03-07T22:20:48.674463Z"
    }
   },
   "cell_type": "code",
   "source": [
    "words = [\"Python\", \"is\", \"awesome\"]\n",
    "sentence = \" \".join(words)  # Joining with space\n",
    "print(sentence)  # Output: \"Python is awesome\"\n"
   ],
   "id": "b2ae95af73a11ad9",
   "outputs": [
    {
     "name": "stdout",
     "output_type": "stream",
     "text": [
      "Python is awesome\n"
     ]
    }
   ],
   "execution_count": 17
  },
  {
   "metadata": {
    "ExecuteTime": {
     "end_time": "2025-03-07T22:21:50.297113Z",
     "start_time": "2025-03-07T22:21:50.294084Z"
    }
   },
   "cell_type": "code",
   "source": [
    "row = [\"Alice\", \"Data Engineer\", \"San Francisco\"]\n",
    "csv_line = \",\".join(row)  # Convert list to CSV row\n",
    "print(csv_line)  # Output: \"Alice,Data Engineer,San Francisco\"\n"
   ],
   "id": "4a5e82807d249457",
   "outputs": [
    {
     "name": "stdout",
     "output_type": "stream",
     "text": [
      "Alice,Data Engineer,San Francisco\n"
     ]
    }
   ],
   "execution_count": 18
  },
  {
   "metadata": {},
   "cell_type": "markdown",
   "source": [
    "text = \"  Python  is   powerful!  \"\n",
    "cleaned_text = \" \".join(text.split())  # Removes extra spaces\n",
    "print(cleaned_text)  # Output: \"Python is powerful!\"\n",
    "### An iterable can also be a dictionary"
   ],
   "id": "95dc211783ada99f"
  },
  {
   "metadata": {
    "ExecuteTime": {
     "end_time": "2025-03-07T22:30:01.896243Z",
     "start_time": "2025-03-07T22:30:01.892848Z"
    }
   },
   "cell_type": "code",
   "source": [
    "data = {\"name\": \"Alice\", \"role\": \"Data Engineer\", \"city\": \"SF\"}\n",
    "csv_line = \",\".join(f\"{k}={v}\" for k, v in data.items())\n",
    "print(csv_line)\n"
   ],
   "id": "15d80d39ab5fc4bf",
   "outputs": [
    {
     "name": "stdout",
     "output_type": "stream",
     "text": [
      "name=Alice,role=Data Engineer,city=SF\n"
     ]
    }
   ],
   "execution_count": 19
  },
  {
   "metadata": {},
   "cell_type": "markdown",
   "source": [
    "## Combining split() and join() for Data Cleaning\n",
    "Example: Normalizing Text Data"
   ],
   "id": "31924931e7466835"
  },
  {
   "metadata": {
    "ExecuteTime": {
     "end_time": "2025-03-07T22:39:57.304813Z",
     "start_time": "2025-03-07T22:39:57.302086Z"
    }
   },
   "cell_type": "code",
   "source": [
    "text = \"  Python  is   powerful!  \" # starting off with a string\n",
    "cleaned_text = \" \".join(text.split())  # Removes extra spaces- split into a list of strings, then join them\n",
    "print(cleaned_text)  # Output: \"Python is powerful!\"\n"
   ],
   "id": "5ad228d3bd25ea02",
   "outputs": [
    {
     "name": "stdout",
     "output_type": "stream",
     "text": [
      "Python is powerful!\n"
     ]
    }
   ],
   "execution_count": 21
  },
  {
   "metadata": {
    "ExecuteTime": {
     "end_time": "2025-03-07T22:48:21.327922Z",
     "start_time": "2025-03-07T22:48:21.325404Z"
    }
   },
   "cell_type": "code",
   "source": [
    "log_entry = \"ERROR|2025-03-07|Server Down\"\n",
    "# desired output: \"ERROR - 2025-03-07 - Server Down\"\n",
    "formatted_output = \" - \".join(log_entry.split(\"|\"))\n",
    "print(formatted_output)"
   ],
   "id": "56620b4844c7c03a",
   "outputs": [
    {
     "name": "stdout",
     "output_type": "stream",
     "text": [
      "ERROR - 2025-03-07 - Server Down\n"
     ]
    }
   ],
   "execution_count": 24
  },
  {
   "metadata": {},
   "cell_type": "markdown",
   "source": [
    "## Performance Considerations\n",
    "### `split()` Performance:\n",
    "* Native `.split(delimiter)` is optimized and faster than using `re.split()`.\n",
    "* `split(None)` (default) intelligently splits by any whitespace.\n",
    "## `join()` Performance:\n",
    "* `\"\".join(iterable)` is the *fastest* way to concatenate strings.\n",
    "* **Always** prefer `\"\".join(list)` over `+=` inside loops."
   ],
   "id": "fc2d3edeff40a986"
  },
  {
   "metadata": {},
   "cell_type": "markdown",
   "source": [
    "## Tricky problem: We're gonna need the `replace()` function\n",
    "### The Basics of `replace()`\n",
    "The `replace()` function in Python is like a find-and-swap tool for strings. It lets you take a piece of text and swap out certain words, letters, or symbols for something else—kinda like remixing a track with different beats.\n",
    "**Syntax**\n",
    "`string.replace(old, new, count)`\n",
    "* `old` → What you wanna swap out\n",
    "* `new` → What you wanna replace it with\n",
    "* `count` (optional) → How many times you wanna do the swap (default: all)\n",
    "\n",
    "example:\n",
    "```\n",
    "text = \"Man, Python is difficult!\"\n",
    "new_text = text.replace(\"difficult\", \"🔥\")\n",
    "print(new_text)\n",
    "Man, Python is 🔥!\n",
    "```\n",
    "\n",
    "**Processing API Responses (JSON-like strings)**\n",
    "This problem is trickier than it seems at first and you have to pay extra attention to the desired output. We"
   ],
   "id": "ffde63af97d7a851"
  },
  {
   "metadata": {
    "ExecuteTime": {
     "end_time": "2025-03-09T22:00:14.917443Z",
     "start_time": "2025-03-09T22:00:14.913897Z"
    }
   },
   "cell_type": "code",
   "source": [
    "response = '{\"name\": \"Alice\", \"age\": \"30\", \"city\": \"NY\"}'\n",
    "key_value_pairs = response.replace(\"{\", \"\").replace(\"}\", \"\").replace('\"', '').split(\",\")\n",
    "structured_dict = {_.split(\":\")[0]: _.split(\":\")[1] for _ in key_value_pairs}\n",
    "print(structured_dict)\n",
    "\n"
   ],
   "id": "72cbc25e1b39942",
   "outputs": [
    {
     "name": "stdout",
     "output_type": "stream",
     "text": [
      "{'name': ' Alice', ' age': ' 30', ' city': ' NY'}\n"
     ]
    }
   ],
   "execution_count": 49
  },
  {
   "metadata": {
    "ExecuteTime": {
     "end_time": "2025-03-09T22:09:42.329261Z",
     "start_time": "2025-03-09T22:09:42.326479Z"
    }
   },
   "cell_type": "code",
   "source": [
    "filepath = \"/home/user/documents/report.csv\"\n",
    "# Output: \"/home/user/documents\"\n",
    "\"/\".join(filepath.split(\"/\")[0:4])\n"
   ],
   "id": "403d8ec9e676d570",
   "outputs": [
    {
     "data": {
      "text/plain": [
       "'/home/user/documents'"
      ]
     },
     "execution_count": 55,
     "metadata": {},
     "output_type": "execute_result"
    }
   ],
   "execution_count": 55
  },
  {
   "metadata": {},
   "cell_type": "markdown",
   "source": [
    "expected output\n",
    "```\n",
    "[\n",
    "    {'level': 'INFO', 'timestamp': '2025-03-07', 'message': 'User login: john_doe'},\n",
    "    {'level': 'ERROR', 'timestamp': '2025-03-07', 'message': 'Database timeout'},\n",
    "    {'level': 'WARNING', 'timestamp': '2025-03-07', 'message': 'Low disk space'}\n",
    "]\n",
    "\n",
    "```"
   ],
   "id": "68905a8d5e54798c"
  },
  {
   "metadata": {
    "ExecuteTime": {
     "end_time": "2025-03-09T22:43:38.894277Z",
     "start_time": "2025-03-09T22:43:38.877584Z"
    }
   },
   "cell_type": "code",
   "source": [
    "logs = [\n",
    "    \"[INFO] 2025-03-07 12:00:01 - User login: john_doe\",\n",
    "    \"[ERROR] 2025-03-07 12:02:15 - Database timeout\",\n",
    "    \"[WARNING] 2025-03-07 12:05:42 - Low disk space\"\n",
    "]\n",
    "\n",
    "for log in logs:\n",
    "    parts = log.split(\" \", 1)\n",
    "    level, timestamp = parts[0][1:-1], parts[0].split(\" \")[1]  # Extract log level & time\n",
    "    print()\n",
    "\n",
    "\n",
    "\n"
   ],
   "id": "31220cc369c25715",
   "outputs": [
    {
     "ename": "IndexError",
     "evalue": "list index out of range",
     "output_type": "error",
     "traceback": [
      "\u001B[0;31m---------------------------------------------------------------------------\u001B[0m",
      "\u001B[0;31mIndexError\u001B[0m                                Traceback (most recent call last)",
      "Cell \u001B[0;32mIn[69], line 9\u001B[0m\n\u001B[1;32m      7\u001B[0m \u001B[38;5;28;01mfor\u001B[39;00m log \u001B[38;5;129;01min\u001B[39;00m logs:\n\u001B[1;32m      8\u001B[0m     parts \u001B[38;5;241m=\u001B[39m log\u001B[38;5;241m.\u001B[39msplit(\u001B[38;5;124m\"\u001B[39m\u001B[38;5;124m \u001B[39m\u001B[38;5;124m\"\u001B[39m, \u001B[38;5;241m1\u001B[39m)\n\u001B[0;32m----> 9\u001B[0m     level, timestamp \u001B[38;5;241m=\u001B[39m parts[\u001B[38;5;241m0\u001B[39m][\u001B[38;5;241m1\u001B[39m:\u001B[38;5;241m-\u001B[39m\u001B[38;5;241m1\u001B[39m], \u001B[43mparts\u001B[49m\u001B[43m[\u001B[49m\u001B[38;5;241;43m0\u001B[39;49m\u001B[43m]\u001B[49m\u001B[38;5;241;43m.\u001B[39;49m\u001B[43msplit\u001B[49m\u001B[43m(\u001B[49m\u001B[38;5;124;43m\"\u001B[39;49m\u001B[38;5;124;43m \u001B[39;49m\u001B[38;5;124;43m\"\u001B[39;49m\u001B[43m)\u001B[49m\u001B[43m[\u001B[49m\u001B[38;5;241;43m1\u001B[39;49m\u001B[43m]\u001B[49m  \u001B[38;5;66;03m# Extract log level & time\u001B[39;00m\n\u001B[1;32m     10\u001B[0m     \u001B[38;5;28mprint\u001B[39m(log)\n",
      "\u001B[0;31mIndexError\u001B[0m: list index out of range"
     ]
    }
   ],
   "execution_count": 69
  },
  {
   "metadata": {
    "ExecuteTime": {
     "end_time": "2025-03-09T22:45:23.105036Z",
     "start_time": "2025-03-09T22:45:23.100518Z"
    }
   },
   "cell_type": "code",
   "source": [
    "logs = [\n",
    "    \"[INFO] 2025-03-07 12:00:01 - User login: john_doe\",\n",
    "    \"[ERROR] 2025-03-07 12:02:15 - Database timeout\",\n",
    "    \"[WARNING] 2025-03-07 12:05:42 - Low disk space\"\n",
    "]\n",
    "\n",
    "def parse_logs(logs):\n",
    "    parsed = []\n",
    "    for log in logs:\n",
    "        parts = log.split(\" - \", 1)  # Split only at the first occurrence\n",
    "        level, timestamp = parts[0][1:-1], parts[0].split(\" \")[1]  # Extract log level & time\n",
    "        message = parts[1] if len(parts) > 1 else \"\"\n",
    "        parsed.append({\"level\": level, \"timestamp\": timestamp, \"message\": message})\n",
    "    return parsed\n",
    "\n",
    "structured_logs = parse_logs(logs)\n",
    "print(structured_logs)\n"
   ],
   "id": "7bec042d5bbdf161",
   "outputs": [
    {
     "name": "stdout",
     "output_type": "stream",
     "text": [
      "[{'level': 'INFO] 2025-03-07 12:00:0', 'timestamp': '2025-03-07', 'message': 'User login: john_doe'}, {'level': 'ERROR] 2025-03-07 12:02:1', 'timestamp': '2025-03-07', 'message': 'Database timeout'}, {'level': 'WARNING] 2025-03-07 12:05:4', 'timestamp': '2025-03-07', 'message': 'Low disk space'}]\n"
     ]
    }
   ],
   "execution_count": 70
  },
  {
   "metadata": {},
   "cell_type": "code",
   "outputs": [],
   "execution_count": null,
   "source": "",
   "id": "728c672d343c0541"
  }
 ],
 "metadata": {
  "kernelspec": {
   "display_name": "Python 3",
   "language": "python",
   "name": "python3"
  },
  "language_info": {
   "codemirror_mode": {
    "name": "ipython",
    "version": 2
   },
   "file_extension": ".py",
   "mimetype": "text/x-python",
   "name": "python",
   "nbconvert_exporter": "python",
   "pygments_lexer": "ipython2",
   "version": "2.7.6"
  }
 },
 "nbformat": 4,
 "nbformat_minor": 5
}
