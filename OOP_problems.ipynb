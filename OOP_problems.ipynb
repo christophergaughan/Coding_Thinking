{
 "cells": [
  {
   "metadata": {},
   "cell_type": "markdown",
   "source": [
    "# Principles of OOP\n",
    "\n",
    "## Understanding Classes and __init__\n",
    "* 🔹 What is a class?\n",
    "    * A class is a blueprint for creating objects. It defines the structure and behavior (methods) that the objects created from the class will have.\n",
    "\n",
    "* 🔹 __init__ method\n",
    "    * It’s a special method (also called a “dunder” method—short for double underscore) that initializes an object’s attributes.\n",
    "    * It’s automatically called when a new object is created from a class.\n"
   ],
   "id": "2437bcfc1d29dee1"
  },
  {
   "cell_type": "code",
   "id": "initial_id",
   "metadata": {
    "collapsed": true,
    "ExecuteTime": {
     "end_time": "2025-03-24T17:31:14.089023Z",
     "start_time": "2025-03-24T17:31:14.081969Z"
    }
   },
   "source": [
    "class Dog:\n",
    "    def __init__(self, name, breed):\n",
    "        self.name = name       # instance variable\n",
    "        self.breed = breed     # instance variable\n",
    "\n",
    "    def bark(self):\n",
    "        return f\"{self.name} says woof!\"\n"
   ],
   "outputs": [],
   "execution_count": 1
  },
  {
   "metadata": {},
   "cell_type": "markdown",
   "source": "**🎯 Usage:**",
   "id": "357ca9afa15e070e"
  },
  {
   "metadata": {
    "ExecuteTime": {
     "end_time": "2025-03-24T17:31:17.819836Z",
     "start_time": "2025-03-24T17:31:17.816417Z"
    }
   },
   "cell_type": "code",
   "source": [
    "my_dog = Dog(\"Rex\", \"German Shepherd\") # notice it takes in the instance vars\n",
    "print(my_dog.bark())  # Output: Rex says woof!"
   ],
   "id": "6a36098294a00ba8",
   "outputs": [
    {
     "name": "stdout",
     "output_type": "stream",
     "text": [
      "Rex says woof!\n"
     ]
    }
   ],
   "execution_count": 2
  },
  {
   "metadata": {},
   "cell_type": "markdown",
   "source": [
    "### 🧠 Quick Check:\n",
    "Before we dive into exercises, here's what I want you to absorb:\n",
    "\n",
    "* What a class is.\n",
    "* How __init__ is used to initialize objects.\n",
    "* How instance variables work (self.name, self.breed).\n",
    "* Ready for a few test questions to lock this in?"
   ],
   "id": "4b6f4e3793e8eaf6"
  },
  {
   "metadata": {},
   "cell_type": "markdown",
   "source": [
    "#### Quick Test: Classes and __init__\n",
    "🔸 Question 1:\n",
    "What will the following code output?"
   ],
   "id": "104d64e843350e4c"
  },
  {
   "metadata": {
    "ExecuteTime": {
     "end_time": "2025-03-24T17:31:20.102719Z",
     "start_time": "2025-03-24T17:31:20.100042Z"
    }
   },
   "cell_type": "code",
   "source": [
    "class Car:\n",
    "    def __init__(self, brand, year):\n",
    "        self.brand = brand\n",
    "        self.year = year\n",
    "\n",
    "my_car = Car(\"Toyota\", 2020)\n",
    "print(my_car.brand)\n"
   ],
   "id": "c8409f6915c0b392",
   "outputs": [
    {
     "name": "stdout",
     "output_type": "stream",
     "text": [
      "Toyota\n"
     ]
    }
   ],
   "execution_count": 3
  },
  {
   "metadata": {},
   "cell_type": "markdown",
   "source": [
    "### 🔸 Question 2:\n",
    "True or False:\n",
    "The __init__ method must return a value.\n",
    "\n",
    "A) False, it takes in the data and initializes the the class with that data\n",
    "\n",
    "#### A note about the `self` term\n",
    "self is a reference to the object that’s being created or acted upon. It lets you store and access data on that specific object. Every time you call a method on an object,<u> `self` gives the method access to that particular object's data.</u>\n",
    "\n"
   ],
   "id": "df7cd4c5c98d0420"
  },
  {
   "metadata": {},
   "cell_type": "markdown",
   "source": [
    "Now for the second blank in the say_hello method — how would you write the return statement so that it says:\n",
    "\n",
    "“Hi, I’m Alice and I’m 30.”\n",
    "\n",
    "(But using the actual self.name and self.age from the object.)"
   ],
   "id": "1160ba76219f26c4"
  },
  {
   "metadata": {
    "ExecuteTime": {
     "end_time": "2025-03-24T17:31:21.730855Z",
     "start_time": "2025-03-24T17:31:21.727946Z"
    }
   },
   "cell_type": "code",
   "source": [
    "class Person:\n",
    "    def __init__(self, name, age):\n",
    "        self.name = name\n",
    "        self.age = age\n",
    "\n",
    "    def say_hello(self):\n",
    "        return f\"Hello, I'm {self.name} and I'm {self.age}\"\n"
   ],
   "id": "2404ae33b7c0ed37",
   "outputs": [],
   "execution_count": 4
  },
  {
   "metadata": {},
   "cell_type": "markdown",
   "source": [
    "## Instance Variables vs. Class Variables\n",
    "🔸 Instance Variables\n",
    "* Defined inside `__init__` using `self`\n",
    "* Unique to each object\n",
    "* Think of these as personal details: like a person’s name or age—everyone has their own."
   ],
   "id": "3f97f2e6dd333cf8"
  },
  {
   "metadata": {
    "ExecuteTime": {
     "end_time": "2025-03-24T17:31:22.952282Z",
     "start_time": "2025-03-24T17:31:22.949881Z"
    }
   },
   "cell_type": "code",
   "source": [
    "class Dog:\n",
    "    def __init__(self, name):\n",
    "        self.name = name  # instance variable\n"
   ],
   "id": "7ca3c5f9cf5e23b0",
   "outputs": [],
   "execution_count": 5
  },
  {
   "metadata": {},
   "cell_type": "markdown",
   "source": [
    "### Class Variables\n",
    "* Shared **across all instances** of the class\n",
    "* Defined directly inside the class (but **outside** any method)\n",
    "* Think of these like a rule or a category that applies to *all* dogs.\n"
   ],
   "id": "c94c0f46dd95516"
  },
  {
   "metadata": {
    "ExecuteTime": {
     "end_time": "2025-03-24T17:31:24.229680Z",
     "start_time": "2025-03-24T17:31:24.227120Z"
    }
   },
   "cell_type": "code",
   "source": [
    "class Dog:\n",
    "    species = \"Canis lupus familiaris\"  # class variable\n",
    "\n",
    "    def __init__(self, name):\n",
    "        self.name = name\n"
   ],
   "id": "c2f3aaf4411f8e72",
   "outputs": [],
   "execution_count": 6
  },
  {
   "metadata": {},
   "cell_type": "markdown",
   "source": "Example:",
   "id": "dc18470b79605dce"
  },
  {
   "metadata": {
    "ExecuteTime": {
     "end_time": "2025-03-24T17:31:25.593418Z",
     "start_time": "2025-03-24T17:31:25.590966Z"
    }
   },
   "cell_type": "code",
   "source": [
    "dog1 = Dog(\"Rex\")\n",
    "dog2 = Dog(\"Fido\")\n",
    "\n",
    "print(dog1.name)\n",
    "print(dog2.name)\n",
    "print(dog1.species)\n",
    "print(dog2.species)\n"
   ],
   "id": "343643661a459bf9",
   "outputs": [
    {
     "name": "stdout",
     "output_type": "stream",
     "text": [
      "Rex\n",
      "Fido\n",
      "Canis lupus familiaris\n",
      "Canis lupus familiaris\n"
     ]
    }
   ],
   "execution_count": 7
  },
  {
   "metadata": {},
   "cell_type": "markdown",
   "source": "If you change `Dog.species`, it affects all dogs:",
   "id": "4c086217f1e95960"
  },
  {
   "metadata": {
    "ExecuteTime": {
     "end_time": "2025-03-24T17:31:26.953992Z",
     "start_time": "2025-03-24T17:31:26.951519Z"
    }
   },
   "cell_type": "code",
   "source": [
    "Dog.species = \"Doggo\"\n",
    "print(dog1.species)\n"
   ],
   "id": "fa30e43d59b22c8",
   "outputs": [
    {
     "name": "stdout",
     "output_type": "stream",
     "text": [
      "Doggo\n"
     ]
    }
   ],
   "execution_count": 8
  },
  {
   "metadata": {},
   "cell_type": "markdown",
   "source": "But if you do `dog1.species = \"Alien Dog\"`, it creates an instance variable named species for just `dog1`.",
   "id": "8a5fe605732a0f44"
  },
  {
   "metadata": {},
   "cell_type": "markdown",
   "source": [
    "### However here we see a point of confusion\n",
    "When we wrote:\n",
    "```\n",
    "class Dog:\n",
    "    species = \"Canis lupus familiaris\"\n",
    "```\n",
    "**Why did we not see something like `self.species= species` like we did in the above cases when we used `__init__` to create variables. That's what makes this OOP stuff kind of confusing. The syntax is weird, and it will take some getting used to. Let me break it down.\n",
    "\n",
    "### The Class Variable vs. Instance Variable Dilemma\n",
    "So check it:\n",
    "\n",
    "When you roll up with this:"
   ],
   "id": "3ec6f74a458b259f"
  },
  {
   "metadata": {
    "ExecuteTime": {
     "end_time": "2025-03-24T17:31:29.023951Z",
     "start_time": "2025-03-24T17:31:29.021592Z"
    }
   },
   "cell_type": "code",
   "source": [
    "class Dog:\n",
    "    species = \"Canis lupus familiaris\"\n",
    "\n",
    "    def __init__(self, name):\n",
    "        self.name = name\n"
   ],
   "id": "e0a99d28c5d913cb",
   "outputs": [],
   "execution_count": 9
  },
  {
   "metadata": {},
   "cell_type": "markdown",
   "source": [
    "**You’re basically saying:**\n",
    "* `species` is like the crew the dog reps. All dogs out here, no matter if it's Rex or Fido, they all reppin’ **\"Canis lupus familiaris\".** That’s the **class variable**—one label for the whole squad. That’s why you don’t use `self.species` —you ain’t trying to make it personal, you’re making it universal.\n",
    "* `self.name = name`, on the other hand? That’s your dog’s **street name**. That’s personal. That’s that dog’s identity out in the field. So each dog gets their own name. That’s why it’s got that `self`. on it—`self` means \"me, myself, and I.\""
   ],
   "id": "fe585ed06589bc4f"
  },
  {
   "metadata": {},
   "cell_type": "markdown",
   "source": [
    "#### 🔑 Real Talk: Why self Isn’t Used for species?\n",
    "Because `self` is like saying \"yo, this belongs to this one specific dog.\"\n",
    "\n",
    "But `species` don’t belong to just one dog. That belongs to the entire class, like the whole breed, the whole dog universe in your code. So you drop it outside `__init__`, and you leave self out the mix because it ain’t just for one dog—it’s for every dog."
   ],
   "id": "1b74d8fdc6e27338"
  },
  {
   "metadata": {
    "ExecuteTime": {
     "end_time": "2025-03-24T17:31:30.706063Z",
     "start_time": "2025-03-24T17:31:30.702656Z"
    }
   },
   "cell_type": "code",
   "source": [
    "rex = Dog(\"Rex\")\n",
    "fido = Dog(\"Fido\")\n",
    "\n",
    "print(rex.name)     # Rex — his street name\n",
    "print(fido.name)    # Fido — his street name\n",
    "\n",
    "print(rex.species)  # Canis lupus familiaris — universal dog code\n",
    "print(fido.species) # Same thing\n"
   ],
   "id": "d31821d52ef3b476",
   "outputs": [
    {
     "name": "stdout",
     "output_type": "stream",
     "text": [
      "Rex\n",
      "Fido\n",
      "Canis lupus familiaris\n",
      "Canis lupus familiaris\n"
     ]
    }
   ],
   "execution_count": 10
  },
  {
   "metadata": {},
   "cell_type": "markdown",
   "source": "But if you go like:",
   "id": "1c6087d63e8471f9"
  },
  {
   "metadata": {
    "ExecuteTime": {
     "end_time": "2025-03-24T17:31:31.878701Z",
     "start_time": "2025-03-24T17:31:31.874093Z"
    }
   },
   "cell_type": "code",
   "source": "rex.species = \"Alien Dog\"\n",
   "id": "2f772cb5ade60d98",
   "outputs": [],
   "execution_count": 11
  },
  {
   "metadata": {},
   "cell_type": "markdown",
   "source": [
    "You just gave rex a *fake ID*. Now *rex* is repping something different, but **fido** is still with the original crew. I know it's a really slight change in code, but it can trip you up the further you go into OOP.\n",
    "\n",
    "Check this out:"
   ],
   "id": "91cf60958fe99b80"
  },
  {
   "metadata": {
    "ExecuteTime": {
     "end_time": "2025-03-24T17:31:33.038966Z",
     "start_time": "2025-03-24T17:31:33.034217Z"
    }
   },
   "cell_type": "code",
   "source": [
    "class Phone:\n",
    "    brand = \"TechMob\"  # class variable\n",
    "\n",
    "    def __init__(self, model):\n",
    "        self.model = model  # instance variable\n",
    "\n",
    "p1 = Phone(\"X5\")\n",
    "p2 = Phone(\"Z9\")\n",
    "\n",
    "p1.brand = \"GadgetKing\"\n",
    "\n"
   ],
   "id": "1bc5553618f31ce0",
   "outputs": [],
   "execution_count": 12
  },
  {
   "metadata": {
    "ExecuteTime": {
     "end_time": "2025-03-24T17:31:33.576793Z",
     "start_time": "2025-03-24T17:31:33.574579Z"
    }
   },
   "cell_type": "code",
   "source": "print(p2.brand)",
   "id": "3863f72fe220834d",
   "outputs": [
    {
     "name": "stdout",
     "output_type": "stream",
     "text": [
      "TechMob\n"
     ]
    }
   ],
   "execution_count": 13
  },
  {
   "metadata": {
    "ExecuteTime": {
     "end_time": "2025-03-24T17:31:34.204676Z",
     "start_time": "2025-03-24T17:31:34.201874Z"
    }
   },
   "cell_type": "code",
   "source": [
    "class Rapper:\n",
    "    genre = \"Hip-Hop\"\n",
    "\n",
    "    def __init__(self, name):\n",
    "        self.name = name\n",
    "\n"
   ],
   "id": "20d89d02eac3f4d3",
   "outputs": [],
   "execution_count": 14
  },
  {
   "metadata": {
    "ExecuteTime": {
     "end_time": "2025-03-24T17:31:34.815366Z",
     "start_time": "2025-03-24T17:31:34.812232Z"
    }
   },
   "cell_type": "code",
   "source": "print(Rapper.genre)",
   "id": "d9224c35b9f0a165",
   "outputs": [
    {
     "name": "stdout",
     "output_type": "stream",
     "text": [
      "Hip-Hop\n"
     ]
    }
   ],
   "execution_count": 15
  },
  {
   "metadata": {
    "ExecuteTime": {
     "end_time": "2025-03-24T17:31:35.386109Z",
     "start_time": "2025-03-24T17:31:35.383126Z"
    }
   },
   "cell_type": "code",
   "source": [
    "Rapper.name = \"BigE\"\n",
    "print(Rapper.name)"
   ],
   "id": "6e6431a6742854c3",
   "outputs": [
    {
     "name": "stdout",
     "output_type": "stream",
     "text": [
      "BigE\n"
     ]
    }
   ],
   "execution_count": 16
  },
  {
   "metadata": {},
   "cell_type": "markdown",
   "source": [
    "## Inheritance — Passing the Code DNA\n",
    "Think of inheritance like a hand-me-down system in a coding family. You got a parent class (OG), and it passes down traits (methods/attributes) to its child class (young blood).\n",
    "\n"
   ],
   "id": "7ff6490b47eedbe9"
  },
  {
   "metadata": {},
   "cell_type": "markdown",
   "source": [
    "### 💡 Real Talk Analogy:\n",
    "You got a base class called `Person`, and then you make a new class called `Student` that automatically inherits what `Person` can do — just like a kid getting their momma’s smarts and their pops’ hustle."
   ],
   "id": "573d65dc84623f59"
  },
  {
   "metadata": {
    "ExecuteTime": {
     "end_time": "2025-03-24T17:31:37.318058Z",
     "start_time": "2025-03-24T17:31:37.313359Z"
    }
   },
   "cell_type": "code",
   "source": [
    "class Person:\n",
    "    def __init__(self, name):\n",
    "        self.name = name\n",
    "\n",
    "    def speak(self):\n",
    "        return f\"My name is {self.name}\"\n",
    "\n",
    "# Student is a subclass (child), Person is the superclass (parent)\n",
    "class Student(Person):\n",
    "    def __init__(self, name, school):\n",
    "        super().__init__(wheels)         # calls Person's __init__\n",
    "        self.wheels = wheels\n",
    "\n",
    "    def show_school(self):\n",
    "        return f\"I go to {self.school}\"\n"
   ],
   "id": "1bd6019d3c03b673",
   "outputs": [],
   "execution_count": 17
  },
  {
   "metadata": {
    "ExecuteTime": {
     "end_time": "2025-03-24T17:31:38.574601Z",
     "start_time": "2025-03-24T17:31:38.454576Z"
    }
   },
   "cell_type": "code",
   "source": [
    "s = Student(\"Chris\", \"Hendrick High School\", \"4\")\n",
    "\n",
    "print(s.speak())        # inherited from Person\n",
    "print(s.show_school())  # defined in Student\n"
   ],
   "id": "5713cd21e5c05b0b",
   "outputs": [
    {
     "ename": "TypeError",
     "evalue": "__init__() takes 3 positional arguments but 4 were given",
     "output_type": "error",
     "traceback": [
      "\u001B[0;31m---------------------------------------------------------------------------\u001B[0m",
      "\u001B[0;31mTypeError\u001B[0m                                 Traceback (most recent call last)",
      "Cell \u001B[0;32mIn[18], line 1\u001B[0m\n\u001B[0;32m----> 1\u001B[0m s \u001B[38;5;241m=\u001B[39m \u001B[43mStudent\u001B[49m\u001B[43m(\u001B[49m\u001B[38;5;124;43m\"\u001B[39;49m\u001B[38;5;124;43mChris\u001B[39;49m\u001B[38;5;124;43m\"\u001B[39;49m\u001B[43m,\u001B[49m\u001B[43m \u001B[49m\u001B[38;5;124;43m\"\u001B[39;49m\u001B[38;5;124;43mHendrick High School\u001B[39;49m\u001B[38;5;124;43m\"\u001B[39;49m\u001B[43m,\u001B[49m\u001B[43m \u001B[49m\u001B[38;5;124;43m\"\u001B[39;49m\u001B[38;5;124;43m4\u001B[39;49m\u001B[38;5;124;43m\"\u001B[39;49m\u001B[43m)\u001B[49m\n\u001B[1;32m      3\u001B[0m \u001B[38;5;28mprint\u001B[39m(s\u001B[38;5;241m.\u001B[39mspeak())        \u001B[38;5;66;03m# inherited from Person\u001B[39;00m\n\u001B[1;32m      4\u001B[0m \u001B[38;5;28mprint\u001B[39m(s\u001B[38;5;241m.\u001B[39mshow_school())  \u001B[38;5;66;03m# defined in Student\u001B[39;00m\n",
      "\u001B[0;31mTypeError\u001B[0m: __init__() takes 3 positional arguments but 4 were given"
     ]
    }
   ],
   "execution_count": 18
  },
  {
   "metadata": {},
   "cell_type": "markdown",
   "source": [
    "#### Why `super()`?\n",
    "That `super().__init__(name)` is like calling your parent to handle their part before you stack your own info on top. It makes sure the parent class gets a chance to do its thing.\n",
    "\n",
    "| Term        | Meaning                                         |\n",
    "|-------------|--------------------------------------------------|\n",
    "| Superclass  | The OG class you inherit from (e.g., `Person`)   |\n",
    "| Subclass    | The new class that inherits (e.g., `Student`)    |\n",
    "| `super()`   | Used to call the parent class's methods/`__init__` |\n",
    "\n",
    "\n"
   ],
   "id": "3f5edd3dc9b108ab"
  },
  {
   "metadata": {},
   "cell_type": "markdown",
   "source": "#### 💥 Inheritance Quiz: Warm-Up",
   "id": "91489c26b533c875"
  },
  {
   "metadata": {
    "ExecuteTime": {
     "end_time": "2025-03-24T17:31:40.906042Z",
     "start_time": "2025-03-24T17:31:40.903475Z"
    }
   },
   "cell_type": "code",
   "source": [
    "class Animal:\n",
    "    def __init__(self, name):\n",
    "        self.name = name\n",
    "\n",
    "    def speak(self):\n",
    "        return f\"{self.name} makes a sound\"\n",
    "\n",
    "class Dog(Animal):\n",
    "    def bark(self):\n",
    "        return f\"{self.name} says woof\"\n"
   ],
   "id": "704ffc468d7b5430",
   "outputs": [],
   "execution_count": 19
  },
  {
   "metadata": {},
   "cell_type": "markdown",
   "source": "What will this print?",
   "id": "cdb976f92068aaf1"
  },
  {
   "metadata": {
    "ExecuteTime": {
     "end_time": "2025-03-24T17:31:42.216815Z",
     "start_time": "2025-03-24T17:31:42.214785Z"
    }
   },
   "cell_type": "code",
   "source": [
    "d = Dog(\"Rex\")\n",
    "print(d.speak())\n"
   ],
   "id": "fc83512c0d6f85ae",
   "outputs": [
    {
     "name": "stdout",
     "output_type": "stream",
     "text": [
      "Rex makes a sound\n"
     ]
    }
   ],
   "execution_count": 20
  },
  {
   "metadata": {},
   "cell_type": "markdown",
   "source": [
    "Question 2:\n",
    "What’s the role of `super().__init__(name)` inside a subclass?\n",
    "\n",
    "* A) It creates a new class variable\n",
    "* B) It ignores the parent class\n",
    "* C) It lets the child class reuse the parent class's __init__\n",
    "* D) It's only used in multiple inheritance"
   ],
   "id": "9c1708f1f1593d8e"
  },
  {
   "metadata": {},
   "cell_type": "markdown",
   "source": "Answer- C",
   "id": "15f15a4a114923e8"
  },
  {
   "metadata": {},
   "cell_type": "markdown",
   "source": [
    "## Step 4: Method Overriding — “I Got This My Way”\n",
    "Method overriding is when a child class takes a method from the parent class and says, \"Nah, I’m doing this my own way.\" 💁🏽‍♂️ It’s still called the same, but the behavior’s flipped.\n",
    "\n",
    "### 🧠 Analogy:\n",
    "Imagine your parent taught you how to cook rice with a rice cooker. But you out here air-frying jasmine rice with garlic and herbs. Same dish name: “**rice**”, different vibe: **your flavor**.\n",
    "\n",
    "**Example:**"
   ],
   "id": "ca388c990a33049a"
  },
  {
   "metadata": {
    "ExecuteTime": {
     "end_time": "2025-03-24T17:31:45.192021Z",
     "start_time": "2025-03-24T17:31:45.189080Z"
    }
   },
   "cell_type": "code",
   "source": [
    "class Person:\n",
    "    def speak(self):\n",
    "        return \"Hello, how are you?\"\n",
    "\n",
    "class Teenager(Person):\n",
    "    def speak(self):\n",
    "        return \"Yo, what’s good?\"\n"
   ],
   "id": "58f57f5080167a1e",
   "outputs": [],
   "execution_count": 21
  },
  {
   "metadata": {
    "ExecuteTime": {
     "end_time": "2025-03-24T17:31:45.956845Z",
     "start_time": "2025-03-24T17:31:45.953880Z"
    }
   },
   "cell_type": "code",
   "source": [
    "p = Person()\n",
    "t = Teenager()\n",
    "\n",
    "print(p.speak()) # will refer to the Person method\n",
    "print(t.speak()) # will refer to the Teenager method\n"
   ],
   "id": "350f5b15a70f1743",
   "outputs": [
    {
     "name": "stdout",
     "output_type": "stream",
     "text": [
      "Hello, how are you?\n",
      "Yo, what’s good?\n"
     ]
    }
   ],
   "execution_count": 22
  },
  {
   "metadata": {},
   "cell_type": "markdown",
   "source": "Same method name — `speak()` — but the child class `Teenager` overrides the parent class `Person`’s method with a new implementation.",
   "id": "10c29dea80d1327f"
  },
  {
   "metadata": {},
   "cell_type": "markdown",
   "source": [
    "## 🧪 Override and Still Use the OG (Optional but cool)\n",
    "Sometimes you still wanna call the OG method but add your twist:\n",
    "* Now let’s actually create an object and call that method:"
   ],
   "id": "d9fff561fd0cba58"
  },
  {
   "metadata": {
    "ExecuteTime": {
     "end_time": "2025-03-24T17:31:47.873466Z",
     "start_time": "2025-03-24T17:31:47.870645Z"
    }
   },
   "cell_type": "code",
   "source": [
    "class Teenager(Person):\n",
    "    def speak(self):\n",
    "        base_line = super().speak()\n",
    "        return f\"{base_line} ...but also, what's up fam?\"\n",
    "\n",
    "t = Teenager()\n",
    "print(t.speak())\n",
    "\n"
   ],
   "id": "7acd4f6af50ac6e2",
   "outputs": [
    {
     "name": "stdout",
     "output_type": "stream",
     "text": [
      "Hello, how are you? ...but also, what's up fam?\n"
     ]
    }
   ],
   "execution_count": 23
  },
  {
   "metadata": {},
   "cell_type": "markdown",
   "source": [
    "### 🔥 What's Happening Here:\n",
    "* `t = Teenager()` creates a teenager object.\n",
    "\n",
    "* `t.speak()` calls the `speak()` method in the `Teenager` class.\n",
    "\n",
    "* Inside that method, `super().speak()` is reaching up to the `Person` class and grabbing its version of `speak()` — which is \"Hello, how are you?\"\n",
    "\n",
    "* Then Teenager adds a little extra sauce to it: \" ...but also, what's up fam?\"\n",
    "\n",
    "So you basically used the OG wisdom and added your own spin."
   ],
   "id": "6372ed6f7bd83284"
  },
  {
   "metadata": {},
   "cell_type": "markdown",
   "source": [
    "| Term               | Meaning                                                                 |\n",
    "|--------------------|-------------------------------------------------------------------------|\n",
    "| Method Overriding  | When a subclass redefines a method from the parent class                |\n",
    "| `super().method()` | Calls the original method from the parent class                         |\n",
    "| Use Case           | You want the same method name but different behavior in the subclass    |\n"
   ],
   "id": "42689115b752fcf3"
  },
  {
   "metadata": {},
   "cell_type": "markdown",
   "source": [
    "## 💼 Problem: Build a Little Code Family\n",
    "You’re gonna model a basic transportation system using OOP.\n",
    "\n",
    "### 🏗️ Instructions:\n",
    "1. Create a class called `Vehicle`\n",
    "\n",
    "* It should have an `__init__` method that takes in `make` and `model`.\n",
    "\n",
    "* It should also have a method called `drive()` that returns something basic like:\n",
    "\"This vehicle is driving.\"\n",
    "\n",
    "2. Create a class called `Car` that inherits from `Vehicle`\n",
    "\n",
    "* Override the `drive()` method to return something more specific like:\n",
    "\"This car is cruising down the highway.\"\n",
    "\n",
    "* Add an instance variable called doors to store how many doors the car has.\n",
    "\n",
    "3. Create a class-level variable in `Vehicle` called `wheels` and set it to 4\n",
    "\n",
    "* Then access that variable from a Car object.\n",
    "\n",
    "4. Use `super()` in the `Car` class to initialize `make` and `model` from `Vehicle`\n",
    "\n",
    "5. Create two car objects and show that:\n",
    "\n",
    "* They can call the overridden `drive()` method\n",
    "\n",
    "* They can access the class-level wheels variable\n",
    "\n",
    "* They each have their own values for `make`, `model`, and `doors`\n",
    "\n"
   ],
   "id": "daa9f51ea66f2a3d"
  },
  {
   "metadata": {
    "ExecuteTime": {
     "end_time": "2025-03-24T17:31:51.146598Z",
     "start_time": "2025-03-24T17:31:51.142876Z"
    }
   },
   "cell_type": "code",
   "source": [
    "class Vehicle:\n",
    "    wheels = 4  # class variable shared by all vehicles\n",
    "\n",
    "    def __init__(self, make, model):\n",
    "        self.make = make\n",
    "        self.model = model\n",
    "\n",
    "    def drive(self):\n",
    "        return f'This vehicle is driving'\n",
    "\n",
    "\n",
    "class Car(Vehicle):\n",
    "    def __init__(self, make, model, doors):\n",
    "        super().__init__(make, model)\n",
    "        self.doors = doors  # instance variable\n",
    "\n",
    "    def drive(self):\n",
    "        return f'This car is cruising down the highway.'\n",
    "\n",
    "    def info(self):\n",
    "        return f\"This is a {self.doors}-door {self.make} {self.model} with {self.wheels} wheels.\"\n"
   ],
   "id": "9823e35c934eb9e",
   "outputs": [],
   "execution_count": 24
  },
  {
   "metadata": {},
   "cell_type": "markdown",
   "source": "### 🧪 Usage:",
   "id": "2a6e56b1a52541c1"
  },
  {
   "metadata": {
    "ExecuteTime": {
     "end_time": "2025-03-24T17:31:52.601316Z",
     "start_time": "2025-03-24T17:31:52.598893Z"
    }
   },
   "cell_type": "code",
   "source": [
    "car1 = Car(\"Honda\", \"Civic\", 4)\n",
    "print(car1.drive())        # This car is cruising down the highway.\n",
    "print(car1.info())         # This is a 4-door Honda Civic with 4 wheels.\n",
    "print(car1.wheels)         # 4\n"
   ],
   "id": "96977353358c0012",
   "outputs": [
    {
     "name": "stdout",
     "output_type": "stream",
     "text": [
      "This car is cruising down the highway.\n",
      "This is a 4-door Honda Civic with 4 wheels.\n",
      "4\n"
     ]
    }
   ],
   "execution_count": 25
  },
  {
   "metadata": {},
   "cell_type": "markdown",
   "source": [
    "### 🧩 OOP Challenge #2: The Music Crew\n",
    "You're gonna model a music crew using OOP — with inheritance, method overriding, and class vs. instance variables.\n",
    "\n",
    "🎼 Instructions:\n",
    "1. Create a base class called `Musician`\n",
    "\n",
    "* It should take `name` and `genre` in the `__init__` method.\n",
    "\n",
    "* It should have a method `perform()` that returns:\n",
    "\"Musician is performing.\"\n",
    "\n",
    "2. Create a class-level variable `crew_name` = \"Code Harmony\" that applies to all musicians.\n",
    "\n",
    "3. Create a subclass called Rapper that inherits from Musician\n",
    "\n",
    "* Override the `perform()` `method to return something like:\n",
    "\"Droppin' bars on the mic.\"\n",
    "\n",
    "* Add a new instance variable called `style` (e.g., \"freestyle\", \"battle\", etc.)\n",
    "\n",
    "* Use `super()` to handle the name and genre init stuff\n",
    "\n",
    "4. Create a method in `Rapper` called `intro()`\n",
    "\n",
    "* It should return a string like:\n",
    "`\"Yo, I'm [name], a [style] rapper reppin' [genre] in the [crew_name] crew!\"`\n",
    "\n"
   ],
   "id": "65a2341515a69926"
  },
  {
   "metadata": {
    "ExecuteTime": {
     "end_time": "2025-03-24T17:31:53.935901Z",
     "start_time": "2025-03-24T17:31:53.931117Z"
    }
   },
   "cell_type": "code",
   "source": [
    "class Musician():\n",
    "    crew_name = \"Code Harmony\"\n",
    "\n",
    "    def __init__(self, name, genre):\n",
    "        self.name = name\n",
    "        self.genre = genre\n",
    "\n",
    "    def perform(self):\n",
    "        return f\"Musician {self.name} is performing some {self.genre}\"\n",
    "\n",
    "class Rapper(Musician):\n",
    "    def __init__(self, name, genre, style):\n",
    "        super().__init__(name, genre)\n",
    "        self.style = style\n",
    "\n",
    "    def perform(self):\n",
    "        return f\"Droppin' bars on the mic\"\n",
    "\n",
    "    def intro(self):\n",
    "        return f\"Yo, I'm {self.name}, a {self.style} rapper reppin' {self.genre} in the {self.crew_name} crew!\"\n",
    "\n",
    "r = Rapper(\"J-Dawg\", \"Hip-Hop\", \"freestyle\")\n",
    "print(r.perform())   # \"Droppin' bars on the mic.\"\n",
    "print(r.intro())     # \"Yo, I'm J-Dawg, a freestyle rapper reppin' Hip-Hop in the Code Harmony crew!\"\n",
    "m = Musician(\"Branton Williams\", \"Jazz\")\n",
    "print(m.crew_name)\n",
    "print(m.perform())\n"
   ],
   "id": "2ca3707ba52915ad",
   "outputs": [
    {
     "name": "stdout",
     "output_type": "stream",
     "text": [
      "Droppin' bars on the mic\n",
      "Yo, I'm J-Dawg, a freestyle rapper reppin' Hip-Hop in the Code Harmony crew!\n",
      "Code Harmony\n",
      "Musician Branton Williams is performing some Jazz\n"
     ]
    }
   ],
   "execution_count": 26
  },
  {
   "metadata": {},
   "cell_type": "markdown",
   "source": [
    "## 🔥 Inheritance & Method Overriding — Key Takeaways\n",
    "| Concept              | Meaning                                                                 |\n",
    "|----------------------|-------------------------------------------------------------------------|\n",
    "| Inheritance          | A class (child) can inherit methods and variables from another (parent) |\n",
    "| `super()`            | Lets a subclass call methods from the parent class                      |\n",
    "| Method Overriding    | A subclass can redefine a parent class method with its own flavor        |\n",
    "| Class Variable       | Shared across all instances (access via `self.` or `ClassName.`)         |\n",
    "| Instance Variable    | Unique to each object (defined with `self.variable`)                     |\n",
    "| f-strings            | Needed to inject variables into strings using `{}`                       |\n",
    "| Syntax Reminder      | Use `super().__init__()` — don’t forget the parentheses!                 |\n"
   ],
   "id": "2d1a18ab8fb6cc45"
  },
  {
   "metadata": {},
   "cell_type": "markdown",
   "source": [
    "## Special “Dunder” Methods\n",
    "These give your class superpowers — like making your objects behave like built-in types.\n",
    "### 🔥 Special “Dunder” Methods — Key Uses\n",
    "\n",
    "| Method     | What It Does                                          |\n",
    "|------------|-------------------------------------------------------|\n",
    "| `__str__`  | Defines what gets printed when you use `print(obj)`   |\n",
    "| `__repr__` | Official string version, used for debugging           |\n",
    "| `__eq__`   | Lets you compare objects with `==`                    |\n",
    "| `__len__`  | Makes `len(obj)` work on your object                  |\n",
    "\n",
    "🔑 These are how you make your objects feel natural in Python.\n",
    "\n",
    "## Dataclasses\n",
    "Using `@dataclass` saves you from writing all the boilerplate like `__init__`, `__repr__`, and `__eq__`. Super handy when you're working with pure data objects (like records, models, etc.).\n",
    "\n"
   ],
   "id": "521e654485d25241"
  },
  {
   "metadata": {
    "ExecuteTime": {
     "end_time": "2025-03-24T17:31:56.124484Z",
     "start_time": "2025-03-24T17:31:56.120617Z"
    }
   },
   "cell_type": "code",
   "source": [
    "from dataclasses import dataclass\n",
    "\n",
    "@dataclass\n",
    "class Song:\n",
    "    title: str\n",
    "    artist: str\n",
    "    duration: int  # in seconds\n",
    "\n"
   ],
   "id": "bc198e02dbe255c9",
   "outputs": [],
   "execution_count": 27
  },
  {
   "metadata": {},
   "cell_type": "markdown",
   "source": [
    "One line. Boom. Done. 💥\n",
    "## Multiple Inheritance\n",
    "When a class inherits from more than one parent. Useful, but you gotta watch out for conflicts (diamond problem). We'll cover this slow and smart."
   ],
   "id": "8b6f9148e9894066"
  },
  {
   "metadata": {},
   "cell_type": "markdown",
   "source": [
    "## Special Methods — “Teaching Your Objects to Speak”\n",
    "These methods make your custom classes act like built-in Python types. They start and end with double underscores — which is why we call them dunder methods.\n",
    "\n",
    "### 🧠 Breakdown: The 3 Core Ones You NEED to Know\n",
    "`__str__` → “How your object talks when printed”"
   ],
   "id": "317b821613e41f99"
  },
  {
   "metadata": {
    "ExecuteTime": {
     "end_time": "2025-03-24T17:31:58.355122Z",
     "start_time": "2025-03-24T17:31:58.352483Z"
    }
   },
   "cell_type": "code",
   "source": [
    "class Book:\n",
    "    def __init__(self, title, author):\n",
    "        self.title = title\n",
    "        self.author = author\n",
    "\n",
    "    def __str__(self):\n",
    "        return f\"'{self.title}' by {self.author}\"\n",
    "\n",
    "b = Book(\"The Alchemist\", \"Paulo Coelho\")\n",
    "print(b)\n",
    "\n"
   ],
   "id": "a9d6ca96fac8d9de",
   "outputs": [
    {
     "name": "stdout",
     "output_type": "stream",
     "text": [
      "'The Alchemist' by Paulo Coelho\n"
     ]
    }
   ],
   "execution_count": 28
  },
  {
   "metadata": {},
   "cell_type": "markdown",
   "source": "**💡 Without `__str__`, you'd see something like: `<__main__.Book object at 0x00000123abc...>`**",
   "id": "d1848ad605ff6b5b"
  },
  {
   "metadata": {},
   "cell_type": "markdown",
   "source": "### `__repr__` → “How your object talks to the dev tools”",
   "id": "a20b01862d6bb801"
  },
  {
   "metadata": {
    "ExecuteTime": {
     "end_time": "2025-03-24T17:32:10.035679Z",
     "start_time": "2025-03-24T17:32:10.031284Z"
    }
   },
   "cell_type": "code",
   "source": [
    "class Book:\n",
    "    def __init__(self, title, author):\n",
    "        self.title = title\n",
    "        self.author = author\n",
    "\n",
    "    def __repr__(self):\n",
    "        return f\"Book(title='{self.title}', author='{self.author}')\"\n",
    "\n",
    "b = Book(\"The Alchemist\", \"Paulo Coelho\")\n",
    "b\n"
   ],
   "id": "78fa77c4ffd60e92",
   "outputs": [
    {
     "data": {
      "text/plain": [
       "Book(title='The Alchemist', author='Paulo Coelho')"
      ]
     },
     "execution_count": 29,
     "metadata": {},
     "output_type": "execute_result"
    }
   ],
   "execution_count": 29
  },
  {
   "metadata": {},
   "cell_type": "markdown",
   "source": [
    "💡` __repr__` is meant for devs. It should return something you could use to rebuild the object.\n",
    "\n"
   ],
   "id": "b916a6a287bf3b37"
  },
  {
   "metadata": {},
   "cell_type": "markdown",
   "source": "## `__eq__` → “How your object knows if it’s the same as another”",
   "id": "45cfe21b0ee77898"
  },
  {
   "metadata": {
    "ExecuteTime": {
     "end_time": "2025-03-24T17:32:12.945606Z",
     "start_time": "2025-03-24T17:32:12.942601Z"
    }
   },
   "cell_type": "code",
   "source": [
    "class Book:\n",
    "    def __init__(self, title, author):\n",
    "        self.title = title\n",
    "        self.author = author\n",
    "\n",
    "    def __eq__(self, other):\n",
    "        return self.title == other.title and self.author == other.author\n",
    "\n",
    "b1 = Book(\"The Alchemist\", \"Paulo Coelho\")\n",
    "b2 = Book(\"The Alchemist\", \"Paulo Coelho\")\n",
    "print(b1 == b2)  # True ✅\n"
   ],
   "id": "cb948c0995817cf4",
   "outputs": [
    {
     "name": "stdout",
     "output_type": "stream",
     "text": [
      "True\n"
     ]
    }
   ],
   "execution_count": 30
  },
  {
   "metadata": {},
   "cell_type": "markdown",
   "source": "💡 Without `__eq__`, Python would just compare the memory address (which isn't useful for comparing content).",
   "id": "85f356b89867c975"
  },
  {
   "metadata": {},
   "cell_type": "markdown",
   "source": [
    "### Summary Table- Special Methods\n",
    "### 🧠 Special Methods — \"Dunder\" Power Moves\n",
    "\n",
    "| Method       | Purpose                                                  |\n",
    "|--------------|----------------------------------------------------------|\n",
    "| `__str__`    | Defines what `print(obj)` shows — for users              |\n",
    "| `__repr__`   | Defines dev-friendly output — for debugging, dev tools   |\n",
    "| `__eq__`     | Makes `obj1 == obj2` work based on content, not memory   |\n"
   ],
   "id": "58be59bc1ec76b55"
  },
  {
   "metadata": {},
   "cell_type": "markdown",
   "source": [
    "### 💥 CHALLENGE: Special Methods\n",
    "Write a class called Movie with the following:\n",
    "#### 📜 Class Requirements:\n",
    "* 🔹 1. __init__\n",
    "    - Takes in title, director, and year\n",
    "\n",
    "* 🔹 2. __str__\n",
    "    - Returns a string like:\n",
    "        - \"Inception (2010) directed by Christopher Nolan\"\n",
    "\n",
    "* 🔹 3. __repr__\n",
    "    - Returns a dev-friendly string like:\n",
    "        - \"Movie(title='Inception', director='Christopher Nolan', year=2010)\"\n",
    "\n",
    "* 🔹 4. __eq__\n",
    "    - Compares two Movie objects. Return True if both title and year match.\n",
    "\n"
   ],
   "id": "667bd7c5aa34c9bf"
  },
  {
   "metadata": {
    "ExecuteTime": {
     "end_time": "2025-03-24T18:31:17.750126Z",
     "start_time": "2025-03-24T18:31:17.745776Z"
    }
   },
   "cell_type": "code",
   "source": [
    "class Movie:\n",
    "    def __init__(self, title, director, year):\n",
    "        self.title = title\n",
    "        self.director = director\n",
    "        self.year = year\n",
    "\n",
    "    def __str__(self):\n",
    "        return f\"{self.title} ({self.year}) directed by {self.director}\"\n",
    "\n",
    "    def __repr__(self):\n",
    "        return f\"Movie(title='{self.title}', director='{self.director}', year={self.year})\"\n",
    "\n",
    "    def __eq__(self, other):\n",
    "        return self.title == other.title and self.year == other.year\n",
    "\n",
    "m = Movie(\"Inception\", \"Christopher Nolan\", 2010)\n",
    "print(m)\n",
    "m\n"
   ],
   "id": "a62ca731d37aee57",
   "outputs": [
    {
     "name": "stdout",
     "output_type": "stream",
     "text": [
      "Inception (2010) directed by Christopher Nolan\n"
     ]
    },
    {
     "data": {
      "text/plain": [
       "Movie(title='Inception', director='Christopher Nolan', year=2010)"
      ]
     },
     "execution_count": 34,
     "metadata": {},
     "output_type": "execute_result"
    }
   ],
   "execution_count": 34
  },
  {
   "metadata": {
    "ExecuteTime": {
     "end_time": "2025-03-24T18:32:00.633945Z",
     "start_time": "2025-03-24T18:32:00.630711Z"
    }
   },
   "cell_type": "code",
   "source": [
    "m1 = Movie(\"Inception\", \"Christopher Nolan\", 2010)\n",
    "m2 = Movie(\"Inception\", \"Some Other Director\", 2010)\n",
    "print(m1 == m2)"
   ],
   "id": "60dc2e6866b78dfa",
   "outputs": [
    {
     "name": "stdout",
     "output_type": "stream",
     "text": [
      "True\n"
     ]
    }
   ],
   "execution_count": 37
  },
  {
   "metadata": {},
   "cell_type": "markdown",
   "source": [
    "## Dataclasses — Python’s Auto-Mechanic for OOP 🧰\n",
    "When you got classes that are mostly about **storing data**, you don’t need to write all that boilerplate (like `__init__`, `__repr__`, `__eq__`) by hand. That’s where `@dataclass` comes in — it builds it all **for you**, clean and proper."
   ],
   "id": "87969f9ed04382e5"
  },
  {
   "metadata": {},
   "cell_type": "markdown",
   "source": "**Basic Setup**",
   "id": "d68d801e47fcb715"
  },
  {
   "metadata": {
    "ExecuteTime": {
     "end_time": "2025-03-24T18:37:21.723379Z",
     "start_time": "2025-03-24T18:37:21.720150Z"
    }
   },
   "cell_type": "code",
   "source": [
    "from dataclasses import dataclass\n",
    "\n",
    "@dataclass\n",
    "class Song:\n",
    "    title: str\n",
    "    artist: str\n",
    "    year: int\n"
   ],
   "id": "af5a19c39c6c280b",
   "outputs": [],
   "execution_count": 38
  },
  {
   "metadata": {},
   "cell_type": "markdown",
   "source": "Now without writing any methods:",
   "id": "61ed3e87ebeb8a02"
  },
  {
   "metadata": {
    "ExecuteTime": {
     "end_time": "2025-03-24T18:38:09.458775Z",
     "start_time": "2025-03-24T18:38:09.456292Z"
    }
   },
   "cell_type": "code",
   "source": [
    "track = Song(\"Nuthin' But a 'G' Thang\", \"Dr. Dre\", 1992)\n",
    "print(track)\n"
   ],
   "id": "dbe70040821e5b06",
   "outputs": [
    {
     "name": "stdout",
     "output_type": "stream",
     "text": [
      "Song(title=\"Nuthin' But a 'G' Thang\", artist='Dr. Dre', year=1992)\n"
     ]
    }
   ],
   "execution_count": 39
  },
  {
   "metadata": {},
   "cell_type": "markdown",
   "source": [
    "### 🧠 Dataclass Superpowers\n",
    "\n",
    "| Feature         | Hand-Written Class | With `@dataclass` |\n",
    "|-----------------|--------------------|-------------------|\n",
    "| `__init__`      | You write it        | Auto-generated    |\n",
    "| `__repr__`      | You write it        | Auto-generated    |\n",
    "| `__eq__`        | You write it        | Auto-generated    |\n",
    "| `__str__`       | Optional            | Falls back to `__repr__` |\n",
    "| Less Typing     | ❌ Nope              | ✅ Oh yeah         |\n"
   ],
   "id": "4a291b9beadaa3ba"
  },
  {
   "metadata": {},
   "cell_type": "markdown",
   "source": [
    "### 💥 CHALLENGE TIME: Dataclass Remix\n",
    "Write a @dataclass called Album with the following:\n",
    "\n",
    "* Fields: title (str), artist (str), tracks (int), year (int)\n",
    "\n",
    "* Create two albums with the same title and year, and test ==\n",
    "\n",
    "* Print both to see the built-in __repr__\n",
    "\n",
    "* Then manually override __str__ to return something like:\n",
    "    - \"Illmatic by Nas (1994) - 10 tracks\""
   ],
   "id": "c57a4746c04c0852"
  },
  {
   "metadata": {
    "ExecuteTime": {
     "end_time": "2025-03-24T19:25:09.572612Z",
     "start_time": "2025-03-24T19:25:09.569135Z"
    }
   },
   "cell_type": "code",
   "source": [
    "from dataclasses import dataclass\n",
    "\n",
    "@dataclass\n",
    "class Album:\n",
    "    title: str\n",
    "    artist: str\n",
    "    tracks: int\n",
    "    year: int\n",
    "\n",
    "album1 = Album(\"Illmatic\", \"Beastie Boyz\", 10, 1994)\n",
    "album2 = Album(\"Illmatic\", \"Nas\", 10, 1994)\n",
    "print(album1 == album2)\n"
   ],
   "id": "c8e0b706f7ac847f",
   "outputs": [
    {
     "name": "stdout",
     "output_type": "stream",
     "text": [
      "False\n"
     ]
    }
   ],
   "execution_count": 42
  },
  {
   "metadata": {},
   "cell_type": "markdown",
   "source": [
    "### Bonus Task (Optional Override):\n",
    "If you only want two albums to be considered **\"equal\"** based on **title and year**, override `__eq__` like this:"
   ],
   "id": "e1e2639b38164c57"
  },
  {
   "metadata": {
    "ExecuteTime": {
     "end_time": "2025-03-24T19:30:34.806904Z",
     "start_time": "2025-03-24T19:30:34.803699Z"
    }
   },
   "cell_type": "code",
   "source": [
    "@dataclass\n",
    "class Album:\n",
    "    title: str\n",
    "    artist: str\n",
    "    tracks: int\n",
    "    year: int\n",
    "\n",
    "    def __eq__(self, other):\n",
    "        return self.title == other.title and self.year == other.year\n",
    "\n",
    "album1 = Album(\"Illmatic\", \"Beastie Boyz\", 10, 1994)\n",
    "album2 = Album(\"Illmatic\", \"Nas\", 10, 1994)\n",
    "print(album1 == album2)\n"
   ],
   "id": "d668ec35864db7fc",
   "outputs": [
    {
     "name": "stdout",
     "output_type": "stream",
     "text": [
      "True\n"
     ]
    }
   ],
   "execution_count": 45
  },
  {
   "metadata": {},
   "cell_type": "markdown",
   "source": [
    "#### Optional: Add __str__\n",
    "Want that clean output like:\n",
    "\n",
    "`\"Illmatic by Nas (1994) - 10 tracks\"`"
   ],
   "id": "bfc3faff8c1b2e80"
  },
  {
   "metadata": {
    "ExecuteTime": {
     "end_time": "2025-03-24T19:38:50.720342Z",
     "start_time": "2025-03-24T19:38:50.717237Z"
    }
   },
   "cell_type": "code",
   "source": [
    "@dataclass\n",
    "class Album:\n",
    "    title: str\n",
    "    artist: str\n",
    "    tracks: int\n",
    "    year: int\n",
    "\n",
    "    def __str__(self):\n",
    "        return f\"{self.title} by {self.artist} ({self.year}) - {self.tracks} tracks\"\n",
    "\n",
    "album3 = Album(\"Illmatic\", \"Nas\", 10, 1994)\n",
    "print(album3)"
   ],
   "id": "b56173f8987f1077",
   "outputs": [
    {
     "name": "stdout",
     "output_type": "stream",
     "text": [
      "Illmatic by Nas (1994) - 10 tracks\n"
     ]
    }
   ],
   "execution_count": 50
  },
  {
   "metadata": {},
   "cell_type": "markdown",
   "source": [
    "### 🥷🏽 Dataclass Ninja Level Concepts\n",
    "🔹 1. Default Values\n",
    "Let’s say most albums have 10 tracks — you can set that as a default"
   ],
   "id": "313a416760763af7"
  },
  {
   "metadata": {
    "ExecuteTime": {
     "end_time": "2025-03-24T19:45:33.889695Z",
     "start_time": "2025-03-24T19:45:33.885866Z"
    }
   },
   "cell_type": "code",
   "source": [
    "from dataclasses import dataclass\n",
    "\n",
    "@dataclass\n",
    "class Album:\n",
    "    title: str\n",
    "    artist: str\n",
    "    year: int\n",
    "    tracks: int = 10  # default value\n",
    "\n",
    "a = Album(\"Enter the Wu-Tang\", \"Wu-Tang Clan\", 1993)\n",
    "print(a.tracks)  # 10\n"
   ],
   "id": "f7f3413111f6bd02",
   "outputs": [
    {
     "name": "stdout",
     "output_type": "stream",
     "text": [
      "10\n"
     ]
    }
   ],
   "execution_count": 51
  },
  {
   "metadata": {},
   "cell_type": "markdown",
   "source": [
    "### Optional Fields\n",
    "What if sometimes you don’t know the label yet?\n",
    "\n",
    "Use Optional from typing:"
   ],
   "id": "f1601f09e3e9e004"
  },
  {
   "metadata": {},
   "cell_type": "code",
   "outputs": [],
   "execution_count": null,
   "source": [
    "from typing import Optional\n",
    "\n",
    "@dataclass\n",
    "class Album:\n",
    "    title: str\n",
    "    artist: str\n",
    "    year: int\n",
    "    label: Optional[str] = None\n"
   ],
   "id": "5a75dba7bcface02"
  },
  {
   "metadata": {},
   "cell_type": "markdown",
   "source": "Now if you don’t pass a label, it just defaults to **None**.",
   "id": "801c3432f67a2e2f"
  },
  {
   "metadata": {},
   "cell_type": "markdown",
   "source": [
    "### List Fields with default_factory\n",
    "Here’s the 💣 advanced move — if you want each album to have a list of songs, you gotta use field(`default_factory=list`). This avoids that Python pitfall where all instances share the same list."
   ],
   "id": "32d00ac250cfea49"
  },
  {
   "metadata": {
    "ExecuteTime": {
     "end_time": "2025-03-24T19:56:05.828705Z",
     "start_time": "2025-03-24T19:56:05.824996Z"
    }
   },
   "cell_type": "code",
   "source": [
    "from dataclasses import dataclass, field\n",
    "from typing import List\n",
    "\n",
    "@dataclass\n",
    "class Album:\n",
    "    title: str\n",
    "    artist: str\n",
    "    year: int\n",
    "    tracks: int = 10\n",
    "    songs: List[str] = field(default_factory=list)\n",
    "\n",
    "    def add_song(self, song: str):\n",
    "        self.songs.append(song)\n",
    "\n",
    "    def __str__(self):\n",
    "        return f\"{self.title} by {self.artist} ({self.year}) - {len(self.songs)} songs\"\n",
    "\n",
    "album = Album(\"DAMN.\", \"Kendrick Lamar\", 2017)\n",
    "album.add_song(\"DNA.\")\n",
    "album.add_song(\"HUMBLE.\")\n",
    "album.add_song(\"LOVE.\")\n",
    "print(album)\n",
    "print(album.songs)\n"
   ],
   "id": "463655dc18a7870b",
   "outputs": [
    {
     "name": "stdout",
     "output_type": "stream",
     "text": [
      "DAMN. by Kendrick Lamar (2017) - 3 songs\n",
      "['DNA.', 'HUMBLE.', 'LOVE.']\n"
     ]
    }
   ],
   "execution_count": 52
  },
  {
   "metadata": {},
   "cell_type": "markdown",
   "source": [
    "\n",
    "### 🥷🏽 Dataclass Ninja Moves\n",
    "\n",
    "| Concept             | Syntax Example                             | Use Case                                |\n",
    "|---------------------|---------------------------------------------|------------------------------------------|\n",
    "| Default Value       | `tracks: int = 10`                          | Common value shared by most instances    |\n",
    "| Optional Field      | `label: Optional[str] = None`              | Data that might not always be provided   |\n",
    "| List Field          | `songs: List[str] = field(default_factory=list)` | Unique list per object                   |\n"
   ],
   "id": "234647a07bc3474a"
  },
  {
   "metadata": {},
   "cell_type": "markdown",
   "source": [
    "### Challenge: Build a Music Library System\n",
    "🎶 Scenario:\n",
    "You’re building a backend for a small music streaming app. The system needs to:\n",
    "\n",
    "* Keep track of Albums\n",
    "\n",
    "* Manage a user’s Playlist\n",
    "\n",
    "* Let users add songs, calculate total runtime, and get clean summaries\n",
    "\n",
    "#### You’re the architect. 🏗️\n",
    "\n",
    "### 🔨 Build These Components:\n",
    "#### 🧱 1. Song class (use @dataclass)\n",
    "* Fields: title (str), artist (str), length (int, in seconds)\n",
    "\n",
    "* Add `__str__` so printing a song looks like:\n",
    "\n",
    "`\"Feel Good Inc. by Gorillaz - 211 sec\"`"
   ],
   "id": "cc25b739344aa6c9"
  },
  {
   "metadata": {
    "ExecuteTime": {
     "end_time": "2025-03-24T20:41:02.098346Z",
     "start_time": "2025-03-24T20:41:02.094617Z"
    }
   },
   "cell_type": "code",
   "source": [
    "from dataclasses import dataclass\n",
    "\n",
    "@dataclass\n",
    "class Song:\n",
    "    title: str\n",
    "    artist: str\n",
    "    length: int\n",
    "\n",
    "    def __str__ (self):\n",
    "        return f\"{self.title} by {self.artist}- {self.length} sec\"\n",
    "\n",
    "s = Song(\"Feel Good Inc\", \"Gorillaz\", 211)\n",
    "print(s)"
   ],
   "id": "1d2f3b696a1c253d",
   "outputs": [
    {
     "name": "stdout",
     "output_type": "stream",
     "text": [
      "Feel Good Inc by Gorillaz- 211 sec\n"
     ]
    }
   ],
   "execution_count": 60
  },
  {
   "metadata": {},
   "cell_type": "markdown",
   "source": [
    "### 🧱 2. `Album class`\n",
    "Fields: `title`, `artist`, `year`, `songs` (List of Song objects, default empty list)\n",
    "\n",
    "**Methods:**\n",
    "\n",
    "* `add_song(song: Song)`\n",
    "\n",
    "* `get_total_length()` → returns total runtime in seconds\n",
    "\n",
    "* `__str__()` → e.g. `\"The Chronic by Dr. Dre (1992) - 3 tracks\"`\n",
    "\n"
   ],
   "id": "f77126e09fda49c0"
  },
  {
   "metadata": {
    "ExecuteTime": {
     "end_time": "2025-03-24T21:22:13.974286Z",
     "start_time": "2025-03-24T21:22:13.967922Z"
    }
   },
   "cell_type": "code",
   "source": [
    "from dataclasses import dataclass, field\n",
    "from typing import List\n",
    "\n",
    "@dataclass\n",
    "class Album:\n",
    "    title: str\n",
    "    artist: str\n",
    "    year: int\n",
    "    songs: List[Song] = field(default_factory=list)\n",
    "\n",
    "    def add_song(self, song: Song):\n",
    "        self.songs.append(song)\n",
    "\n",
    "    def get_total_length(self):\n",
    "        return sum(song.length for song in self.songs)  # 💡 right here\n",
    "\n",
    "    def __str__(self):\n",
    "        return f\"{self.title} by {self.artist} ({self.year}) - {len(self.songs)} tracks\"\n",
    "\n",
    "s1 = Song(\"Feel Good Inc\", \"Gorillaz\", 211)\n",
    "s2 = Song(\"Clint Eastwood\", \"Gorillaz\", 294)\n",
    "\n",
    "album = Album(\"Gorillaz Hits\", \"Gorillaz\", 2005)\n",
    "album.add_song(s1)\n",
    "album.add_song(s2)\n",
    "\n",
    "print(album)\n",
    "print(\"Total length:\", album.get_total_length(), \"seconds\")\n",
    "\n"
   ],
   "id": "4ae232f8ca97813f",
   "outputs": [
    {
     "name": "stdout",
     "output_type": "stream",
     "text": [
      "Gorillaz Hits by Gorillaz (2005) - 2 tracks\n",
      "Total length: 505 seconds\n"
     ]
    }
   ],
   "execution_count": 61
  },
  {
   "metadata": {},
   "cell_type": "markdown",
   "source": [
    "### What is field in `from dataclasses import dataclass, field`?\n",
    "✅ TL;DR:\n",
    "* `field` is used when you need more control over how a dataclass handles a specific attribute.\n",
    "\n",
    "* If `@dataclass` is like a personal assistant that auto-generates `__init__`, `__repr__`, and `__eq__`, then `field` is like whispering in its ear:\n",
    "\n",
    "\"Yo, for this one attribute... handle it different.\"\n",
    "\n",
    "### Most Common Use Case: Mutable Defaults (like lists)\n",
    "If you write:\n",
    "\n",
    "`songs: List[str] = []`\n",
    "\n",
    "That looks okay, but it's **dangerous**. Why? Because that same list gets shared across all instances of the class. That’s not what you want — now your albums start acting like a group chat where everybody in the system sees everybody else's songs 😅.\n",
    "\n",
    "### The Fix: `field(default_factory=list)`\n",
    "This tells the dataclass:\n",
    "\n",
    "> “Every time you make a new object, give it a fresh, empty list. Don’t re-use the same one from before.”\n",
    "\n",
    "### 🧠 Real-World Analogy:\n",
    "Imagine making 3 new gym memberships. If you say:\n",
    "\n",
    "`workouts = []`\n",
    "\n",
    "Now all 3 members are logging their sets on the **same whiteboard**. That’s chaos. But with:\n",
    "\n",
    "`workouts = field(default_factory=list)`\n",
    "\n",
    "Each member gets their **own notebook**.\n",
    "\n",
    "### 🧠 What is `field` in `dataclasses`?\n",
    "\n",
    "| Purpose                  | Example Syntax                        | Why It's Needed                          |\n",
    "|--------------------------|----------------------------------------|-------------------------------------------|\n",
    "| Control default values   | `tracks: int = field(default=10)`     | Use when customizing default value        |\n",
    "| Safe mutable defaults    | `songs: List[str] = field(default_factory=list)` | Prevents all objects from sharing the same list |\n",
    "| Fine-tune dataclass behavior | `field(repr=False)` or `field(compare=False)` | Control what shows in print / equals     |\n",
    "\n"
   ],
   "id": "dfb2c1057c001ff6"
  },
  {
   "metadata": {},
   "cell_type": "markdown",
   "source": [
    "### 🧱 3. Playlist class\n",
    "Fields: name (`str`), `songs` (List of Song objects, default empty)\n",
    "\n",
    "* Methods:\n",
    "\n",
    "    - add_song(`song: Song`)\n",
    "\n",
    "    - remove_song(`title: str`)\n",
    "\n",
    "    - `get_total_length()` → total runtime in seconds\n",
    "\n",
    "    - `show_playlist()` → prints all song names in order\n",
    "\n"
   ],
   "id": "4400a98a62233705"
  },
  {
   "metadata": {
    "ExecuteTime": {
     "end_time": "2025-03-25T00:37:33.617022Z",
     "start_time": "2025-03-25T00:37:33.610915Z"
    }
   },
   "cell_type": "code",
   "source": [
    "from dataclasses import dataclass, field\n",
    "from typing import List\n",
    "\n",
    "@dataclass\n",
    "class Playlist:\n",
    "    name: str\n",
    "    songs: List[Song] = field(default_factory=list)\n",
    "\n",
    "    def add_song(self, song: Song):\n",
    "        self.songs.append(song)\n",
    "\n",
    "    def get_total_length(self):\n",
    "        return sum(song.length for song in self.songs)\n",
    "\n",
    "    def show_playlist(self):\n",
    "        return [str(song) for song in self.songs]\n"
   ],
   "id": "ee5d5dd6612d0bc5",
   "outputs": [],
   "execution_count": 63
  },
  {
   "metadata": {},
   "cell_type": "markdown",
   "source": [
    "### Type hints\n",
    "in the above we see:\n",
    "```\n",
    "def add_song(self, song: Song):\n",
    "        self.songs.append(song)\n",
    "```\n",
    "#### 🔍 What Does song: Song Mean in def add_song(self, song: Song)?\n",
    "✅ It's a type hint — also called a type annotation.\n",
    "* `song` is the parameter (just like normal)\n",
    "\n",
    "* `: Song` is a hint to Python (and to other devs, and to you later!) that this value should be a Song object\n",
    "\n",
    "**🧠 So this:**\n",
    "`def add_song(self, song: Song):`\n",
    "\n",
    "Is the same functionally as:\n",
    "\n",
    "`def add_song(self, song):`\n",
    "\n",
    "But the first version says:\n",
    "\n",
    "> “Yo, the thing you're passing in here — it better be a Song object or you might run into problems.”\n",
    "\n",
    "```\n",
    "s = Song(\"Feel Good Inc\", \"Gorillaz\", 211)\n",
    "\n",
    "playlist.add_song(s)  # ✅ This works great\n",
    "\n",
    "playlist.add_song(\"Not a song object\")  # 🚫 Won't raise error immediately, but your logic might break later\n",
    "```\n",
    "#### Why It Matters:\n",
    "* It helps IDEs like VSCode or JupyterLab give better auto-complete and catch errors earlier\n",
    "\n",
    "* It helps other people understand your code faster\n",
    "\n",
    "* It works with tools like mypy for static type checking (optional in Python)\n",
    "\n",
    "### 📝 Summary\n",
    "### 🔍 Why `song: Song` is Used in Method Definitions\n",
    "\n",
    "| Part         | Meaning                                 |\n",
    "|--------------|------------------------------------------|\n",
    "| `song`       | The parameter name                      |\n",
    "| `: Song`     | Type hint that `song` should be a `Song` object |\n",
    "| `-> None`    | (Optional) Return type — None means no return value |\n",
    "\n",
    "✅ Type hints don’t affect runtime but help you code safer and smarter\n",
    "\n",
    "### Other type hints:\n",
    "### 🔁 Function Return Type Hints (The `->` Syntax)\n",
    "\n",
    "| Syntax Example                          | What It Means                          |\n",
    "|----------------------------------------|----------------------------------------|\n",
    "| `-> None`                              | Function returns nothing               |\n",
    "| `-> int`                               | Function returns an integer            |\n",
    "| `-> List[str]`                         | Function returns a list of strings     |\n",
    "| `-> Song`                              | Function returns a Song object         |\n",
    "\n",
    "✅ Type hints don’t change how the code runs — they just help make it more understandable and safer\n",
    "\n",
    "\n"
   ],
   "id": "9f39a4c8f9a8389"
  },
  {
   "metadata": {},
   "cell_type": "markdown",
   "source": [
    "## 🧠 Mini-Challenge: Book Tracker\n",
    "You’re gonna build a simple class to track books you’ve read.\n",
    "\n",
    "#### 🎯 Objective:\n",
    "Create a Book class using `@dataclass` that:\n",
    "\n",
    "1. Stores: title, author, pages, and read (a boolean)\n",
    "\n",
    "2. Has a method called `mark_as_read()` that changes `read` to `True`\n",
    "\n",
    "* Has a `__str__()` method that prints like:\n",
    "    - \"The Alchemist by Paulo Coelho — 197 pages [Read]\"\n",
    "    or\n",
    "    - \"The Alchemist by Paulo Coelho — 197 pages [Not Read]\""
   ],
   "id": "2f5ceff19dc3e44e"
  },
  {
   "metadata": {
    "ExecuteTime": {
     "end_time": "2025-03-25T01:59:03.781732Z",
     "start_time": "2025-03-25T01:59:03.775825Z"
    }
   },
   "cell_type": "code",
   "source": [
    "from dataclasses import dataclass\n",
    "\n",
    "@dataclass\n",
    "class Book:\n",
    "    title: str\n",
    "    author: str\n",
    "    pages: int\n",
    "    read: bool = False\n",
    "\n",
    "    def mark_as_read(self):\n",
    "        self.read = True\n",
    "\n",
    "    def is_long(self) -> bool:\n",
    "        return self.pages > 300\n",
    "\n",
    "    def __str__(self):\n",
    "        status = \"Read\" if self.read else \"Not Read\"\n",
    "        return f\"{self.title} by {self.author} — {self.pages} pages [{status}]\"\n",
    "\n",
    "b = Book(\"The Alchemist\", \"Paulo Coelho\", 197)\n",
    "print(b)                  # The Alchemist by Paulo Coelho — 197 pages [Not Read]\n",
    "b.mark_as_read()\n",
    "print(b)                  # The Alchemist by Paulo Coelho — 197 pages [Read]\n",
    "print(b.is_long())        # False\n"
   ],
   "id": "ab0bf0808cbd39fe",
   "outputs": [
    {
     "name": "stdout",
     "output_type": "stream",
     "text": [
      "The Alchemist by Paulo Coelho — 197 pages [Not Read]\n",
      "The Alchemist by Paulo Coelho — 197 pages [Read]\n",
      "False\n"
     ]
    }
   ],
   "execution_count": 65
  },
  {
   "metadata": {},
   "cell_type": "markdown",
   "source": [
    "### ✅ Step 1: Create a Medication class using @dataclass\n",
    "Fields:\n",
    "\n",
    "* name (str)\n",
    "\n",
    "* dose_mg (float)\n",
    "\n",
    "* taken_today (bool)\n",
    "\n",
    "#### Methods:\n",
    "\n",
    "* `mark_as_taken()` — sets taken_today = True\n",
    "\n",
    "* `__str__()` — prints like:\n",
    "\"Metformin 750mg — ✅ Taken\" or \"Metformin 750mg — ❌ Not Taken\"\n",
    "\n"
   ],
   "id": "fb2f18a851752750"
  },
  {
   "metadata": {
    "ExecuteTime": {
     "end_time": "2025-03-25T02:33:32.650768Z",
     "start_time": "2025-03-25T02:33:32.646549Z"
    }
   },
   "cell_type": "code",
   "source": [
    "from dataclasses import dataclass\n",
    "\n",
    "@dataclass\n",
    "class Medication:\n",
    "    name: str\n",
    "    dose_mg: float\n",
    "    taken_today: bool = False\n",
    "\n",
    "    def mark_as_taken(self):\n",
    "        self.taken_today = True\n",
    "\n",
    "    def __str__(self):\n",
    "        status = \"Taken\" if self.taken_today else \"Not Taken\"\n",
    "        return f\"{self.name} {self.dose_mg} - {status}\"\n",
    "\n",
    "metformin = Medication(\"Metformin\", 750.0, False)\n",
    "farxiga = Medication(\"Farxiga\", 10.0, True)\n",
    "\n",
    "print(metformin)\n",
    "print(farxiga)\n"
   ],
   "id": "befcc33a1988d3e4",
   "outputs": [
    {
     "name": "stdout",
     "output_type": "stream",
     "text": [
      "Metformin 750.0 - Not Taken\n",
      "Farxiga 10.0 - Taken\n"
     ]
    }
   ],
   "execution_count": 72
  },
  {
   "metadata": {},
   "cell_type": "markdown",
   "source": [
    "### Step 2: Create a DailyRegimen class\n",
    "Fields:\n",
    "\n",
    "* date (str)\n",
    "\n",
    "* meds (List of Medication), default empty\n",
    "\n",
    "#### Methods:\n",
    "\n",
    "* `add_med`(med: Medication) — adds a med to the list\n",
    "\n",
    "* `get_taken()` — returns only the meds that have been taken today\n",
    "\n",
    "* `get_missed()` — returns only the meds that have not been taken\n",
    "\n",
    "* `__str__()` — prints how many taken/missed"
   ],
   "id": "680c63fd21c98a7a"
  },
  {
   "metadata": {
    "ExecuteTime": {
     "end_time": "2025-03-25T03:11:33.009913Z",
     "start_time": "2025-03-25T03:11:33.003885Z"
    }
   },
   "cell_type": "code",
   "source": [
    "from dataclasses import dataclass, fields\n",
    "from typing import List\n",
    "\n",
    "@dataclass\n",
    "class DailyRegimen:\n",
    "    date: str\n",
    "    meds: List = field(default_factory=list)\n",
    "\n",
    "    def add_med(self, med):\n",
    "        self.meds.append(med)\n",
    "\n",
    "    def get_taken(self):\n",
    "        return [str(med) for med in self.meds if med.taken_today]\n",
    "\n",
    "    def get_missed(self):\n",
    "        return [str(med) for med in self.meds if not med.taken_today]\n",
    "\n",
    "    def __str__(self):\n",
    "        taken = len(self.get_taken())\n",
    "        missed = len(self.get_missed())\n",
    "        return f\"Regimen for {self.date}: {taken} taken, {missed} missed\"\n",
    "\n",
    "\n",
    "today = DailyRegimen(\"2025-03-21\")\n",
    "today.add_med(metformin)\n",
    "today.add_med(farxiga)\n",
    "\n",
    "print(today)  # 1 taken, 1 missed\n",
    "print(today.get_missed())  # List of missed meds\n"
   ],
   "id": "db5b95e06a3f2beb",
   "outputs": [
    {
     "name": "stdout",
     "output_type": "stream",
     "text": [
      "Regimen for 2025-03-21: 1 taken, 1 missed\n",
      "['Metformin 750.0 - Not Taken']\n"
     ]
    }
   ],
   "execution_count": 84
  },
  {
   "metadata": {},
   "cell_type": "code",
   "outputs": [],
   "execution_count": null,
   "source": "",
   "id": "e80119ed8b5873c7"
  }
 ],
 "metadata": {
  "kernelspec": {
   "display_name": "Python 3",
   "language": "python",
   "name": "python3"
  },
  "language_info": {
   "codemirror_mode": {
    "name": "ipython",
    "version": 2
   },
   "file_extension": ".py",
   "mimetype": "text/x-python",
   "name": "python",
   "nbconvert_exporter": "python",
   "pygments_lexer": "ipython2",
   "version": "2.7.6"
  }
 },
 "nbformat": 4,
 "nbformat_minor": 5
}
