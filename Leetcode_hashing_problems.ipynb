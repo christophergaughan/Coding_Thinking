{
 "cells": [
  {
   "metadata": {},
   "cell_type": "markdown",
   "source": [
    "# 1. Hashmap Problems in Leetcode\n",
    "\n",
    "A practical, interview-focused collection of hashing patterns and LeetCode problems with clear explanations and runnable code. Learn when to use `set`, `dict`, `defaultdict`, and `Counter`, and how to apply them to the most common problem types.\n",
    "\n",
    "---\n",
    "\n",
    "## 🧭 Table of Contents\n",
    "\n",
    "- Overview and Goals\n",
    "- Hashing Building Blocks (dict, set, defaultdict, Counter)\n",
    "- Core Patterns\n",
    "  - Presence check with `set`\n",
    "  - Frequency table with `Counter` / `defaultdict`\n",
    "  - Value → index mapping (Two Sum and friends)\n",
    "  - Grouping by signature (Anagrams)\n",
    "  - Sliding window + hash map\n",
    "  - Prefix sums + counts (Subarray Sum = K)\n",
    "- Selected Problems (with notes and asserts)\n",
    "  - 1436 Destination City\n",
    "  - 1496 Path Crossing\n",
    "  - 1748 Sum of Unique Elements\n",
    "  - 3005 Count Elements With Maximum Frequency\n",
    "  - 1512 Number of Good Pairs\n",
    "- Interview Tips & Pitfalls\n",
    "- Exercises\n",
    "- Summary\n",
    "\n",
    "---\n",
    "\n",
    "## Hashing Building Blocks (Python)\n",
    "\n",
    "- dict: key→value mapping with average O(1) `in`, get/set/delete; keys must be hashable (immutable)\n",
    "- set: unordered collection of unique, hashable items with average O(1) membership\n",
    "- collections.defaultdict: dict that auto-creates a default value on missing key (great for counting and grouping)\n",
    "- collections.Counter: purpose-built frequency table with helpers like `.most_common()`\n"
   ],
   "id": "5c76fa9136be8c40"
  },
  {
   "metadata": {
    "ExecuteTime": {
     "end_time": "2025-10-25T08:45:26.796895Z",
     "start_time": "2025-10-25T08:45:26.780774Z"
    }
   },
   "cell_type": "code",
   "source": [
    "# Quick runnable cheats\n",
    "from collections import defaultdict, Counter\n",
    "\n",
    "# dict basics\n",
    "prices = {\"apple\": 1.5}\n",
    "prices[\"banana\"] = 0.99\n",
    "assert (\"apple\" in prices) and prices.get(\"pear\", 0.0) == 0.0\n",
    "\n",
    "# set basics\n",
    "seen = {1, 2, 3}\n",
    "seen.add(2)  # duplicate ignored\n",
    "assert 2 in seen and len(seen) == 3\n",
    "\n",
    "# defaultdict for counting\n",
    "counts = defaultdict(int)\n",
    "for ch in \"abaac\":\n",
    "    counts[ch] += 1\n",
    "assert counts[\"a\"] == 3 and counts[\"z\"] == 0  # auto-created default\n",
    "\n",
    "# Counter for frequency\n",
    "c = Counter([1,1,2,3,3,3])\n",
    "assert c[3] == 3 and c.most_common(1)[0] == (3, 3)\n"
   ],
   "id": "b2633e52dfb2f9f7",
   "outputs": [],
   "execution_count": 64
  },
  {
   "metadata": {},
   "cell_type": "markdown",
   "source": [
    "---\n",
    "\n",
    "## A. Checking for existence"
   ],
   "id": "a5805ee7331e3f96"
  },
  {
   "metadata": {},
   "cell_type": "markdown",
   "source": [
    "### 1436. Destination City\n",
    "\n",
    "You are given the array paths, where paths[i] = [cityAi, cityBi] means there exists a direct path going from cityAi to cityBi. **Return the destination city, that is, the city without any path outgoing to another city.**\n",
    "\n",
    "It is guaranteed that the graph of paths forms a line without any loop, therefore, there will be exactly one destination city.\n",
    "\n",
    "**Example 1**\n",
    "```\n",
    "Input: paths = [[\"London\",\"New York\"],[\"New York\",\"Lima\"],[\"Lima\",\"Sao Paulo\"]]\n",
    "Output: \"Sao Paulo\"\n",
    "Explanation: Starting at \"London\" city you will reach \"Sao Paulo\" city which is the destination city. Your trip consist of: \"London\" -> \"New York\" -> \"Lima\" -> \"Sao Paulo\".\n",
    "```\n",
    "**Example 2**\n",
    "```\n",
    "Input: paths = [[\"B\",\"C\"],[\"D\",\"B\"],[\"C\",\"A\"]]\n",
    "Output: \"A\"\n",
    "Explanation: All possible trips are:\n",
    "\"D\" -> \"B\" -> \"C\" -> \"A\".\n",
    "\"B\" -> \"C\" -> \"A\".\n",
    "\"C\" -> \"A\".\n",
    "\"A\".\n",
    "Clearly the destination city is \"A\".\n",
    "```\n",
    "**Example 3**\n",
    "```\n",
    "Input: paths = [[\"A\",\"Z\"]]\n",
    "Output: \"Z\"\n",
    "```\n"
   ],
   "id": "1b18714a1d4bf7e4"
  },
  {
   "metadata": {
    "ExecuteTime": {
     "end_time": "2025-10-25T08:43:26.735947Z",
     "start_time": "2025-10-25T08:43:26.726919Z"
    }
   },
   "cell_type": "code",
   "source": [
    "paths = [[\"A\", \"Z\"]]\n",
    "\n",
    "in_city_set = set()\n",
    "\n",
    "for in_city, out_city in paths:\n",
    "    in_city_set.add(in_city) # set addition method!\n",
    "    # loop again or filter — what's not in in_city_set?\n",
    "for in_city, out_city in paths:\n",
    "    if out_city not in in_city_set:\n",
    "        print(out_city)  # ← this is the destination\n"
   ],
   "id": "c2ea545383e50eb8",
   "outputs": [
    {
     "name": "stdout",
     "output_type": "stream",
     "text": [
      "Z\n"
     ]
    }
   ],
   "execution_count": 42
  },
  {
   "metadata": {},
   "cell_type": "markdown",
   "source": [
    "## 1496. Path Crossing\n",
    "\n",
    "Given a string path, where `path[i] = 'N', 'S', 'E' or 'W'`, each representing moving one unit north, south, east, or west, respectively. You start at the origin (0, 0) on a 2D plane and walk on the path specified by path.\n",
    "\n",
    "Return true if the path crosses itself at any point, that is, if at any time you are on a location you have previously visited. Return false otherwise.\n",
    "\n",
    "**Example 1**\n",
    "```\n",
    "Input: path = \"NES\"\n",
    "Output: false\n",
    "Explanation: Notice that the path doesn't cross any point more than once.\n",
    "```\n",
    "**Example 2**\n",
    "```\n",
    "Input: path = \"NESWW\"\n",
    "Output: true\n",
    "Explanation: Notice that the path visits the origin twice.\n",
    "```\n",
    "**Example 3**\n",
    "```\n",
    "Constraints\n",
    "1 <= path.length <= 104\n",
    "path[i] is either 'N', 'S', 'E', or 'W'.\n",
    "```\n",
    "**Strategy**\n",
    "- use set for visited\n",
    "- use the f(x, y) points to see if you cross path via `if (x, y) in visited`\n",
    "\n",
    "\n"
   ],
   "id": "ddbf0ed6856e7ee2"
  },
  {
   "metadata": {
    "ExecuteTime": {
     "end_time": "2025-10-25T08:43:27.940434Z",
     "start_time": "2025-10-25T08:43:27.935153Z"
    }
   },
   "cell_type": "code",
   "source": [
    "path = \"NESW\"\n",
    "def isPathCrossing(path):\n",
    "    x, y = 0, 0\n",
    "    visited = set()\n",
    "    visited.add((x, y))  # mark origin\n",
    "\n",
    "    for direction in path:\n",
    "        if direction == 'N':\n",
    "            y += 1\n",
    "        elif direction == 'S':\n",
    "            y -= 1\n",
    "        elif direction == 'E':\n",
    "            x += 1\n",
    "        elif direction == 'W':\n",
    "            x -= 1\n",
    "\n",
    "        if (x, y) in visited:\n",
    "            return True\n",
    "        visited.add((x, y))\n",
    "\n",
    "    return False\n",
    "\n",
    "isPathCrossing(path)\n",
    "\n"
   ],
   "id": "8d2f035830c3647",
   "outputs": [
    {
     "data": {
      "text/plain": [
       "True"
      ]
     },
     "execution_count": 43,
     "metadata": {},
     "output_type": "execute_result"
    }
   ],
   "execution_count": 43
  },
  {
   "metadata": {},
   "cell_type": "markdown",
   "source": [
    "# 🧠 When Should You Use a `set()` in Python?\n",
    "\n",
    "## 🔍 The Core Question:\n",
    "**What’s the signal that I should be using a `set`?**\n",
    "\n",
    "If you're asking yourself:\n",
    "\n",
    "> “Have I seen this before?”\n",
    "\n",
    "That’s the green light to reach for a `set()`.\n",
    "\n",
    "---\n",
    "\n",
    "## ⚡ Why `set()` is Powerful:\n",
    "\n",
    "- **O(1)** average time for `in` checks\n",
    "- No duplicate elements\n",
    "- Stores **unique history** or **states**\n",
    "- Great for fast, unordered membership testing\n",
    "\n",
    "---\n",
    "\n",
    "## ✅ Case Study: Leetcode 1496 – Path Crossing\n",
    "\n",
    "### Code Snippet:\n",
    "```python\n",
    "x, y = 0, 0\n",
    "visited = set()\n",
    "visited.add((x, y))  # mark origin\n",
    "```\n",
    "You're moving on a 2D grid, and your question is:\n",
    "\n",
    "> “Have I visited this coordinate before?”\n",
    "\n",
    "This is a textbook use case for a set.\n",
    "\n",
    "**You use:**\n",
    "`if (x, y) in visited:`\n",
    "\n",
    "- You're not counting visits.\n",
    "- You're not keeping them in order.\n",
    "- You're just checking: “Did I hit this spot already?”\n",
    "\n",
    "✅ That’s set territory.\n",
    "\n",
    "## 🆚 What If You Needed Counts Instead?\n",
    "Then it's a job for:\n",
    "\n",
    "- `defaultdict(int)`\n",
    "\n",
    "- `collections.Counter`\n",
    "\n",
    "**If you're asking:**\n",
    "\n",
    "* **“How many times have I seen this value?”**\n",
    "\n",
    "* **You want counts, not just existence.**\n",
    "\n",
    "## 🚩 Real-World Analogs\n",
    "\n",
    "| Question                                                | Use a `set`? | Why                                      |\n",
    "|---------------------------------------------------------|--------------|-------------------------------------------|\n",
    "| Have I seen this coordinate before?                     | ✅ Yes       | Need to check membership                  |\n",
    "| Has this character been used already in this string?    | ✅ Yes       | Deduplication                             |\n",
    "| Are there any duplicate entries in this list?           | ✅ Yes       | Compare `len(set(lst))` to `len(lst)`     |\n",
    "| How many times has this customer visited?               | ❌ No        | You need counts → use `dict` or `Counter` |\n",
    "| What’s the order of visits?                             | ❌ No        | Sets don’t preserve order, use `list`     |\n",
    "\n",
    "\n"
   ],
   "id": "35a6d49857d0461c"
  },
  {
   "metadata": {},
   "cell_type": "markdown",
   "source": [
    "### Example problem\n",
    "\n",
    "You're walking through a string of lowercase letters. You want to return the first character that appears twice (i.e., the first time you land on a letter you've already seen).\n",
    "\n",
    "If no character is repeated, return `\"None\"`.\n",
    "\n",
    "**Example 1**\n",
    "```\n",
    "Input: \"abcdefa\"\n",
    "Output: \"a\"\n",
    "```\n",
    "**Example 2**\n",
    "```\n",
    "Input: \"xyz\"\n",
    "Output: \"None\"\n",
    "```"
   ],
   "id": "98525f54adf27c99"
  },
  {
   "metadata": {
    "ExecuteTime": {
     "end_time": "2025-10-25T08:43:30.482397Z",
     "start_time": "2025-10-25T08:43:30.458968Z"
    }
   },
   "cell_type": "code",
   "source": [
    "stng = \"abcdefa\"\n",
    "\n",
    "seen = set()\n",
    "\n",
    "for char in stng:\n",
    "    if char in seen:\n",
    "        print(char)\n",
    "        break  # optional: stop at first repeat\n",
    "    seen.add(char)\n",
    "\n"
   ],
   "id": "8530e6b4b0075367",
   "outputs": [
    {
     "name": "stdout",
     "output_type": "stream",
     "text": [
      "a\n"
     ]
    }
   ],
   "execution_count": 44
  },
  {
   "metadata": {},
   "cell_type": "markdown",
   "source": [
    "### 🔁 If You Want to Print All Repeats:\n",
    "If you're trying to catch every char that repeats, not just the first one:"
   ],
   "id": "1dd66460321a39a7"
  },
  {
   "metadata": {
    "ExecuteTime": {
     "end_time": "2025-10-25T08:43:31.717540Z",
     "start_time": "2025-10-25T08:43:31.710602Z"
    }
   },
   "cell_type": "code",
   "source": [
    "stng = \"abcdbefgch\"\n",
    "\n",
    "seen = set()\n",
    "repeats = set()\n",
    "\n",
    "for char in stng:\n",
    "    if char in seen:\n",
    "        repeats.add(char)\n",
    "    seen.add(char)\n",
    "\n",
    "print(\"Repeated chars:\", repeats)\n"
   ],
   "id": "e7aa56c7de3c7af1",
   "outputs": [
    {
     "name": "stdout",
     "output_type": "stream",
     "text": [
      "Repeated chars: {'c', 'b'}\n"
     ]
    }
   ],
   "execution_count": 45
  },
  {
   "metadata": {},
   "cell_type": "markdown",
   "source": "## Guitar Licks for dict, defaultdict, etc",
   "id": "c1b2dc67a20fb24f"
  },
  {
   "metadata": {
    "ExecuteTime": {
     "end_time": "2025-10-25T08:43:32.964495Z",
     "start_time": "2025-10-25T08:43:32.957633Z"
    }
   },
   "cell_type": "code",
   "source": [
    "strng = \"the block is hot the block is live\"\n",
    "from collections import defaultdict\n",
    "\n",
    "counts = defaultdict(int)\n",
    "for word in strng.split():\n",
    "    counts[word] += 1\n",
    "print(dict(counts))"
   ],
   "id": "3ecf6be4c4388735",
   "outputs": [
    {
     "name": "stdout",
     "output_type": "stream",
     "text": [
      "{'the': 2, 'block': 2, 'is': 2, 'hot': 1, 'live': 1}\n"
     ]
    }
   ],
   "execution_count": 46
  },
  {
   "metadata": {},
   "cell_type": "markdown",
   "source": [
    "## 1748. Sum of Unique Elements\n",
    "\n",
    "You are given an integer array `nums`. The unique elements of an array are the elements **that appear exactly once in the array.**\n",
    "\n",
    "Return the sum of all the unique elements of nums.\n",
    "\n",
    "**Example 1:**\n",
    "```\n",
    "Input: nums = [1,2,3,2]\n",
    "Output: 4\n",
    "Explanation: The unique elements are [1,3], and the sum is 4.\n",
    "```\n",
    "**Example 2:**\n",
    "```\n",
    "Input: nums = [1,1,1,1,1]\n",
    "Output: 0\n",
    "Explanation: There are no unique elements, and the sum is 0.\n",
    "```\n",
    "**Example 3:**\n",
    "```\n",
    "Input: nums = [1,2,3,4,5]\n",
    "Output: 15\n",
    "Explanation: The unique elements are [1,2,3,4,5], and the sum is 15.\n",
    "```"
   ],
   "id": "2c98b4e8170bdb33"
  },
  {
   "metadata": {
    "ExecuteTime": {
     "end_time": "2025-10-25T08:43:34.221499Z",
     "start_time": "2025-10-25T08:43:34.215786Z"
    }
   },
   "cell_type": "code",
   "source": [
    "nums = [1,1,2,1,1]\n",
    "\n",
    "from collections import Counter\n",
    "\n",
    "\n",
    "count = Counter(nums)\n",
    "ans = 0\n",
    "for k, v in count.items():\n",
    "    if v == 1:\n",
    "        ans += k\n",
    "print(ans)"
   ],
   "id": "99592df2adc849ff",
   "outputs": [
    {
     "name": "stdout",
     "output_type": "stream",
     "text": [
      "2\n"
     ]
    }
   ],
   "execution_count": 47
  },
  {
   "metadata": {},
   "cell_type": "markdown",
   "source": [
    "## 3005. Count Elements With Maximum Frequency\n",
    "\n",
    "You are given an array nums consisting of positive integers.\n",
    "\n",
    "Return the total frequencies of elements in nums such that those elements all have the maximum frequency.\n",
    "\n",
    "The frequency of an element is the number of occurrences of that element in the array.\n",
    "\n",
    "\n",
    "\n",
    "**Example 1:**\n",
    "```\n",
    "Input: nums = [1,2,2,3,1,4]\n",
    "Output: 4\n",
    "Explanation: The elements 1 and 2 have a frequency of 2 which is the maximum frequency in the array.\n",
    "So the number of elements in the array with maximum frequency is 4.\n",
    "```\n",
    "**Example 2:**\n",
    "```\n",
    "Input: nums = [1,2,3,4,5]\n",
    "Output: 5\n",
    "Explanation: All elements of the array have a frequency of 1 which is the maximum.\n",
    "So the number of elements in the array with maximum frequency is 5.\n",
    "\n",
    "```"
   ],
   "id": "df6f9f3227530a70"
  },
  {
   "metadata": {
    "ExecuteTime": {
     "end_time": "2025-10-25T08:43:35.495824Z",
     "start_time": "2025-10-25T08:43:35.487124Z"
    }
   },
   "cell_type": "code",
   "source": [
    "nums = [1, 2, 3, 4, 5, 6]\n",
    "\n",
    "from collections import Counter\n",
    "count = Counter(nums)\n",
    "\n",
    "ans = 0\n",
    "maxi = max(count.values())\n",
    "\n",
    "for v in count.values(): # we're only interested in the values here no use to include keys\n",
    "    if v == maxi:\n",
    "        ans += v\n",
    "print(ans)"
   ],
   "id": "cba5fc0b8c852e5d",
   "outputs": [
    {
     "name": "stdout",
     "output_type": "stream",
     "text": [
      "6\n"
     ]
    }
   ],
   "execution_count": 48
  },
  {
   "metadata": {
    "ExecuteTime": {
     "end_time": "2025-10-25T08:43:36.099569Z",
     "start_time": "2025-10-25T08:43:36.094227Z"
    }
   },
   "cell_type": "code",
   "source": "print(Counter(nums))",
   "id": "137f6fb91d9b0117",
   "outputs": [
    {
     "name": "stdout",
     "output_type": "stream",
     "text": [
      "Counter({1: 1, 2: 1, 3: 1, 4: 1, 5: 1, 6: 1})\n"
     ]
    }
   ],
   "execution_count": 49
  },
  {
   "metadata": {
    "ExecuteTime": {
     "end_time": "2025-10-25T08:43:36.710574Z",
     "start_time": "2025-10-25T08:43:36.705670Z"
    }
   },
   "cell_type": "code",
   "source": "print(maxi)",
   "id": "b4dbe65827b62907",
   "outputs": [
    {
     "name": "stdout",
     "output_type": "stream",
     "text": [
      "1\n"
     ]
    }
   ],
   "execution_count": 50
  },
  {
   "metadata": {},
   "cell_type": "markdown",
   "source": [
    "## 1394. Find Lucky Integer in an Array\n",
    "\n",
    "Given an array of integers arr, a lucky integer is an integer that has a frequency in the array equal to its value.\n",
    "\n",
    "Return the largest lucky integer in the array. If there is no lucky integer return -1.\n",
    "\n",
    "**Example 1:**\n",
    "```\n",
    "Input: arr = [2,2,3,4]\n",
    "Output: 2\n",
    "Explanation: The only lucky number in the array is 2 because frequency[2] == 2.\n",
    "```\n",
    "**Example 2:**\n",
    "```\n",
    "Input: arr = [1,2,2,3,3,3]\n",
    "Output: 3\n",
    "Explanation: 1, 2 and 3 are all lucky numbers, return the largest of them.\n",
    "```\n",
    "**Example 3:**\n",
    "```\n",
    "Input: arr = [2,2,2,3,3]\n",
    "Output: -1\n",
    "Explanation: There are no lucky numbers in the array.\n",
    "```"
   ],
   "id": "1a3ff2e85a321306"
  },
  {
   "metadata": {
    "ExecuteTime": {
     "end_time": "2025-10-25T08:43:37.943632Z",
     "start_time": "2025-10-25T08:43:37.936144Z"
    }
   },
   "cell_type": "code",
   "source": [
    "arr = [2, 2, 3, 4]\n",
    "\n",
    "# Import Counter from collections to count element frequencies\n",
    "from collections import Counter\n",
    "\n",
    "freq = Counter(arr)\n",
    "\n",
    "# Initialize list to store \"lucky\" integers (where value equals frequency)\n",
    "ans = []\n",
    "\n",
    "# Loop through each key-value pair in the frequency dictionary\n",
    "for k, v in freq.items():\n",
    "    # Check if the integer value equals its frequency\n",
    "    if k == v:\n",
    "        ans.append(k)\n",
    "\n",
    "# If any lucky integers were found, print the maximum one\n",
    "if ans:\n",
    "    print(max(ans))\n",
    "else:\n",
    "    # If no lucky integers exist, print -1\n",
    "    print(-1)\n"
   ],
   "id": "7916f86b2bb10482",
   "outputs": [
    {
     "name": "stdout",
     "output_type": "stream",
     "text": [
      "2\n"
     ]
    }
   ],
   "execution_count": 51
  },
  {
   "metadata": {},
   "cell_type": "markdown",
   "source": [
    "## Analysis of my logic\n",
    "\n",
    "I have to remember the core concept:\n",
    "**If you're trying to grab the largest lucky integer, I want to filter first:**\n",
    "```\n",
    "lucky = [k for k, v in d.items() if k == v]\n",
    "max_lucky = max(lucky, default=-1)\n",
    "```\n",
    "### Why Make a List First, Then Take `max()`?\n",
    "Because sometimes you need to:\n",
    "\n",
    "- Filter the data\n",
    "\n",
    "- Transform it (apply some condition)\n",
    "\n",
    "And only then do the aggregation (like `max()` or `sum()`)\n",
    "\n"
   ],
   "id": "9bbe769c9c565d75"
  },
  {
   "metadata": {},
   "cell_type": "markdown",
   "source": [
    "## 1207. Unique Number of Occurrences\n",
    "\n",
    "Given an array of integers arr, return true if the number of occurrences of each value in the array is unique or false otherwise.\n",
    "\n",
    "\n",
    "\n",
    "**Example 1:**\n",
    "```\n",
    "Input: arr = [1,2,2,1,1,3]\n",
    "Output: true\n",
    "Explanation: The value 1 has 3 occurrences, 2 has 2 and 3 has 1. No two values have the same number of occurrences.\n",
    "```\n",
    "**Example 2:**\n",
    "```\n",
    "Input: arr = [1,2]\n",
    "Output: false\n",
    "```\n",
    "**Example 3:**\n",
    "```\n",
    "Input: arr = [-3,0,1,-3,1,1,1,-3,10,0]\n",
    "Output: true\n",
    "```"
   ],
   "id": "50840d213dc720d7"
  },
  {
   "metadata": {
    "ExecuteTime": {
     "end_time": "2025-10-25T08:43:39.847681Z",
     "start_time": "2025-10-25T08:43:39.839762Z"
    }
   },
   "cell_type": "code",
   "source": [
    "def unique_occurrences(arr):\n",
    "    from collections import Counter\n",
    "    freq = Counter(arr)\n",
    "    seen = set()\n",
    "\n",
    "    for v in freq.values():\n",
    "        if v in seen:\n",
    "            return False\n",
    "        seen.add(v)\n",
    "\n",
    "    return True\n",
    "\n",
    "print(unique_occurrences([1, 2]))  # False\n"
   ],
   "id": "471a7319f14a9ed4",
   "outputs": [
    {
     "name": "stdout",
     "output_type": "stream",
     "text": [
      "False\n"
     ]
    }
   ],
   "execution_count": 52
  },
  {
   "metadata": {},
   "cell_type": "markdown",
   "source": [
    "## Python Lick: Check if All Elements Are Unique\n",
    "\n",
    "### Purpose:\n",
    "Use this pattern to check if all values in a list, set, dictionary values, or any iterable are **unique**.\n",
    "\n",
    "### Pattern:\n",
    "```\n",
    "seen = set()\n",
    "for val in iterable:\n",
    "    if val in seen:\n",
    "        return False\n",
    "    seen.add(val)\n",
    "return True\n",
    "```\n",
    "\n"
   ],
   "id": "a20c74d9385e7dcd"
  },
  {
   "metadata": {},
   "cell_type": "markdown",
   "source": [
    "## Python Licks: Working with Sets to Track Seen Elements\n",
    "\n",
    "### 1. Check If All Elements Are Unique\n",
    "\n",
    "#### Purpose:\n",
    "Use this pattern to check if all values in a list, set, dictionary values, or any iterable are **unique**.\n",
    "\n",
    "#### Pattern:\n",
    "```\n",
    "seen = set()\n",
    "for val in iterable:\n",
    "    if val in seen:\n",
    "        return False\n",
    "    seen.add(val)\n",
    "return True\n",
    "```\n",
    "**Use Case Example:**\n",
    "* When using collections.Counter to count frequencies of elements in a list, and you want to ensure that no two values have the same frequency:\n",
    "```\n",
    "from collections import Counter\n",
    "\n",
    "arr = [1, 2, 2, 1, 1, 3]\n",
    "freq = Counter(arr)\n",
    "\n",
    "seen = set()\n",
    "for v in freq.values():\n",
    "    if v in seen:\n",
    "        return False\n",
    "    seen.add(v)\n",
    "return True\n",
    "```\n",
    "### Mental Cue:\n",
    "Ask yourself — \"Is every item I’m looking at something I’ve never seen before?\"\n",
    "If not, bounce it. If yes, stash it in seen.\n",
    "\n",
    "Why It Works:\n",
    "* `set()` allows for constant time membership checks.\n",
    "\n",
    "* Once a duplicate is found, you can immediately exit.\n",
    "\n",
    "Clean, fast, and readable.\n",
    "\n",
    "### When to Use:\n",
    "* Checking for unique characters in a string\n",
    "\n",
    "* Ensuring unique frequencies in a counter\n",
    "\n",
    "* Detecting duplicate entries in logs, user input, etc.\n",
    "\n",
    "### 2. Process Each Element Only Once (First-Time Check)\n",
    "Purpose:\n",
    "This pattern ensures that each element is only processed the first time it’s seen.\n",
    "\n",
    "Pattern:\n",
    "```\n",
    "seen = set()\n",
    "\n",
    "for x in iterable:\n",
    "    if x not in seen:\n",
    "        seen.add(x)\n",
    "        # do something with x\n",
    "```\n",
    "**Use Cases:**\n",
    "* Removing duplicates while preserving order\n",
    "\n",
    "* Finding the first unique element\n",
    "\n",
    "* Tracking visited nodes in graph traversal\n",
    "\n",
    "* Avoiding redundant operations\n",
    "\n",
    "** *Example: Remove duplicates while preserving order* **\n",
    "```\n",
    "seen = set()\n",
    "res = []\n",
    "\n",
    "for num in nums:\n",
    "    if num not in seen:\n",
    "        seen.add(num)\n",
    "        res.append(num)\n",
    "```\n",
    "**Example: First unique character**\n",
    "```\n",
    "seen = set()\n",
    "for char in s:\n",
    "    if char not in seen:\n",
    "        seen.add(char)\n",
    "        # process or return char\n",
    "```\n",
    "\n",
    "## Mental Cue: Set-Based Checks for Seen Elements\n",
    "\n",
    "### Ask Yourself:\n",
    "**“Have I already dealt with this thing?”**\n",
    "\n",
    "- If **not**, mark it down with `seen.add(x)` and handle it.\n",
    "- If **yes**, skip it — you've already handled that element.\n",
    "\n",
    "---\n",
    "\n",
    "### This Is the Inverse of the Uniqueness Check:\n",
    "\n",
    "| Pattern                        | Purpose                                |\n",
    "|-------------------------------|----------------------------------------|\n",
    "| `if x in seen: return False`  | Catches duplicates (break early)       |\n",
    "| `if x not in seen:`           | Processes each value only once         |\n",
    "\n",
    "Use the right one depending on whether you're:\n",
    "- **Verifying uniqueness** (detecting repeats),\n",
    "- or **handling first-time-only logic** (avoiding re-processing).\n"
   ],
   "id": "c4ec14407a70fe1"
  },
  {
   "metadata": {},
   "cell_type": "markdown",
   "source": [
    "## 451. Sort Characters By Frequency\n",
    "Given a string s, sort it in decreasing order based on the frequency of the characters. The frequency of a character is the number of times it appears in the string.\n",
    "\n",
    "Return the sorted string. If there are multiple answers, return any of them.\n",
    "\n",
    "**Example 1:**\n",
    "```\n",
    "Input: s = \"tree\"\n",
    "Output: \"eert\"\n",
    "Explanation: 'e' appears twice while 'r' and 't' both appear once.\n",
    "So 'e' must appear before both 'r' and 't'. Therefore \"eetr\" is also a valid answer.\n",
    "```\n",
    "**Example 2:**\n",
    "```\n",
    "Input: s = \"cccaaa\"\n",
    "Output: \"aaaccc\"\n",
    "Explanation: Both 'c' and 'a' appear three times, so both \"cccaaa\" and \"aaaccc\" are valid answers.\n",
    "Note that \"cacaca\" is incorrect, as the same characters must be together.\n",
    "```\n",
    "**Example 3:**\n",
    "```\n",
    "Input: s = \"Aabb\"\n",
    "Output: \"bbAa\"\n",
    "Explanation: \"bbaA\" is also a valid answer, but \"Aabb\" is incorrect.\n",
    "Note that 'A' and 'a' are treated as two different characters.\n",
    "```"
   ],
   "id": "99c247c512800b82"
  },
  {
   "metadata": {
    "ExecuteTime": {
     "end_time": "2025-10-25T08:43:42.460711Z",
     "start_time": "2025-10-25T08:43:42.447177Z"
    }
   },
   "cell_type": "code",
   "source": [
    "s = 'tree'\n",
    "\n",
    "from collections import Counter\n",
    "\n",
    "freq = Counter(s)\n",
    "\n",
    "ans = []\n",
    "for char, count in freq.items():\n",
    "    ans.append(char * count)\n",
    "print(''.join(sorted(ans, key = len, reverse = True)))"
   ],
   "id": "8c1460bad84edc44",
   "outputs": [
    {
     "name": "stdout",
     "output_type": "stream",
     "text": [
      "eetr\n"
     ]
    }
   ],
   "execution_count": 53
  },
  {
   "metadata": {},
   "cell_type": "markdown",
   "source": "Take a better look at what is going on",
   "id": "6e8f7bde886ccba3"
  },
  {
   "metadata": {
    "ExecuteTime": {
     "end_time": "2025-10-25T08:43:43.671918Z",
     "start_time": "2025-10-25T08:43:43.661830Z"
    }
   },
   "cell_type": "code",
   "source": [
    "s = 'bird-dog'\n",
    "from collections import Counter\n",
    "freq = Counter(s)\n",
    "print(freq)\n",
    "ans = []\n",
    "for char, count in freq.items():\n",
    "    ans.append(char * count)\n",
    "print(ans)\n",
    "res = sorted(ans, key=len, reverse=True)\n",
    "print(res)\n",
    "res2 =''.join(res) # you use join() to make one string out of a list of strings\n",
    "print(f'res2= {res2}')\n",
    "res3 = res2.split()\n",
    "print(res3)\n",
    "print(f'res3[0]= {res3[0]}')\n",
    "\n"
   ],
   "id": "bfea9f23a685f3fd",
   "outputs": [
    {
     "name": "stdout",
     "output_type": "stream",
     "text": [
      "Counter({'d': 2, 'b': 1, 'i': 1, 'r': 1, '-': 1, 'o': 1, 'g': 1})\n",
      "['b', 'i', 'r', 'dd', '-', 'o', 'g']\n",
      "['dd', 'b', 'i', 'r', '-', 'o', 'g']\n",
      "res2= ddbir-og\n",
      "['ddbir-og']\n",
      "res3[0]= ddbir-og\n"
     ]
    }
   ],
   "execution_count": 54
  },
  {
   "metadata": {},
   "cell_type": "markdown",
   "source": [
    "here's where the `''.join()` method concatenates a list of strings into a single string. It takes an iterable (like a list) and joins all elements using the string you call it on as a separator. When you use `''` (empty string), it joins with no separator between elements.\n",
    "\n",
    "Example:"
   ],
   "id": "24b16c4072500e6b"
  },
  {
   "metadata": {
    "ExecuteTime": {
     "end_time": "2025-10-25T08:43:44.848997Z",
     "start_time": "2025-10-25T08:43:44.843171Z"
    }
   },
   "cell_type": "code",
   "source": [
    "# With empty string separator\n",
    "chars = ['h', 'e', 'l', 'l', 'o']\n",
    "result = ''.join(chars)  # 'hello'\n",
    "\n",
    "# With space separator\n",
    "result = ' '.join(chars)  # 'h e l l o'\n",
    "\n",
    "# With dash separator\n",
    "result = '-'.join(chars)  # 'h-e-l-l-o'\n"
   ],
   "id": "8b8dae09ac03ea94",
   "outputs": [],
   "execution_count": 55
  },
  {
   "metadata": {},
   "cell_type": "markdown",
   "source": [
    "In the context of the frequency sorting problem, `''.join()` is used to combine the sorted list of repeated characters back into a single string output.\n",
    "\n",
    "For example, if you have a list like `['eee', 'rr', 't']`, calling `''.join(['eee', 'rr', 't'])` will produce the string `'eeeerrt'`.\n",
    "\n",
    "This method concatenates all elements in the list without any separator, which is exactly what we need when building the final result string from sorted character frequencies.\n"
   ],
   "id": "318b91d3f02423f8"
  },
  {
   "metadata": {},
   "cell_type": "markdown",
   "source": [
    "## 2958. Length of Longest Subarray With **at Most** K Frequency\n",
    "You are given an integer array `nums` and an integer `k`.\n",
    "\n",
    "The frequency of an element `x` is the number of times it occurs in an array.\n",
    "\n",
    "An array is called good if the frequency of each element in this array is less than or equal to `k`.\n",
    "\n",
    "Return the length **of the longest good subarray of** `nums`.\n",
    "\n",
    "A subarray is a contiguous non-empty sequence of elements within an array.\n",
    "\n",
    "**Example 1:**\n",
    "```\n",
    "Input: nums = [1,2,3,1,2,3,1,2], k = 2\n",
    "Output: 6\n",
    "Explanation: The longest possible good subarray is [1,2,3,1,2,3] since the values 1, 2, and 3 occur at most twice in this subarray. Note that the subarrays [2,3,1,2,3,1] and [3,1,2,3,1,2] are also good.\n",
    "It can be shown that there are no good subarrays with length more than 6.\n",
    "```\n",
    "**Example 2:**\n",
    "```\n",
    "Input: nums = [1,2,1,2,1,2,1,2], k = 1\n",
    "Output: 2\n",
    "Explanation: The longest possible good subarray is [1,2] since the values 1 and 2 occur at most once in this subarray. Note that the subarray [2,1] is also good.\n",
    "It can be shown that there are no good subarrays with length more than 2.\n",
    "```\n",
    "**Example 3:**\n",
    "```\n",
    "Input: nums = [5,5,5,5,5,5,5], k = 4\n",
    "Output: 4\n",
    "Explanation: The longest possible good subarray is [5,5,5,5] since the value 5 occurs 4 times in this subarray.\n",
    "It can be shown that there are no good subarrays with length more than 4.\n",
    "```\n"
   ],
   "id": "9999101a6a73fefc"
  },
  {
   "metadata": {},
   "cell_type": "markdown",
   "source": [
    "# Prefix Sum vs. Sliding Window — When to Use What\n",
    "\n",
    "---\n",
    "\n",
    "## Could We Use a Prefix Sum Here?\n",
    "\n",
    "**No — not really. Not for this specific problem.**\n",
    "\n",
    "### Why Not?\n",
    "Prefix sums work when you're dealing with:\n",
    "- Additive properties (like `sum`, `count`, `XOR`)\n",
    "- And you want to compute the total over any subarray in **constant time** using:\n",
    "\n",
    "`  prefix[right + 1] - prefix[left]`\n",
    "\n",
    "But here, we’re not trying to sum or accumulate — we’re trying to track frequency of individual elements inside a window that can change dynamically.\n",
    "\n",
    "## ❗ Why Prefix Sum Doesn’t Work Here\n",
    "\n",
    "| 🔍 Requirement | ✅ Prefix Sum? | 💬 Why or Why Not |\n",
    "|----------------|----------------|--------------------|\n",
    "| Add or accumulate values over a range | ✅ Yes | Prefix sum is built to track cumulative totals like sum, count, or XOR |\n",
    "| Track how many times each element appears in a range | ❌ No | Prefix sum can’t track individual frequencies without exploding into 2D arrays |\n",
    "| Adjust dynamically as the window slides | ❌ No | Prefix sum assumes static data; can't adapt to live changes in real-time |\n",
    "| Monitor and enforce frequency constraints | ❌ No | You need a `dict`, `Counter`, or `defaultdict` to track per-element frequencies |\n",
    "\n",
    "### Street Rule of Thumb\n",
    "\"Running total, static data?\" → Prefix\n",
    "\n",
    "\"Dynamic constraints, shifting window?\" → Sliding window\n",
    "\n",
    "\"Sum over range repeatedly?\" → Prefix\n",
    "\n",
    "\"Track state in real-time?\" → Sliding window\n",
    "\n",
    "\n",
    "\n"
   ],
   "id": "79a3ad7ffccc1ea6"
  },
  {
   "metadata": {},
   "cell_type": "markdown",
   "source": [
    "## So Where We At? This is our coding skelaton\n",
    "\n",
    "We initially cracked (in our logic):\n",
    "\n",
    "- **When to use sliding window vs prefix**\n",
    "- **Why frequency needs `Counter` or `defaultdict`**\n",
    "- **Why O(n) is the ceiling here**\n",
    "\n",
    "## Sliding Window + HashMap: The Core Mechanics\n",
    "\n",
    "### What Is a Sliding Window?\n",
    "\n",
    "It’s like you got a window pane you’re sliding over the array:\n",
    "\n",
    "- `left` → where the window starts\n",
    "- `right` → where the window ends\n",
    "- `right` always moves forward\n",
    "- `left` only moves when your **constraint is broken**\n",
    "\n",
    "---\n",
    "\n",
    "### 🔁 General Pattern\n",
    "\n",
    "```\n",
    "from collections import defaultdict\n",
    "\n",
    "def sliding_window(nums):\n",
    "    count = defaultdict(int)  # Tracks what's inside the window\n",
    "    left = 0\n",
    "    for right in range(len(nums)):\n",
    "        count[nums[right]] += 1  # Expand window to the right\n",
    "\n",
    "        # While the window is invalid, shrink from the left\n",
    "        while is_invalid(count):\n",
    "            count[nums[left]] -= 1\n",
    "            if count[nums[left]] == 0:\n",
    "                del count[nums[left]]  # Optional cleanup\n",
    "            left += 1\n",
    "\n",
    "        # At this point, the window [left:right] is valid\n",
    "        # You can calculate window length, or store max, or whatever\n",
    "```\n",
    "## 🧠 Your Mental Model for Sliding Window + HashMap\n",
    "\n",
    "1. **Grow** the window by moving `right`\n",
    "2. **Update** the hashmap\n",
    "   `count[nums[right]] += 1`\n",
    "3. **Check if the window is invalid**\n",
    "   - Too many duplicates?\n",
    "   - Too many distinct elements?\n",
    "   - Some frequency rule broken?\n",
    "4. If **invalid**, **shrink from the left** until valid\n",
    "5. **Track** whatever the problem is asking: max length, count, frequency, etc.\n",
    "\n",
    "## 🧪 Classic Problem Template: Longest Substring with At Most K Distinct Characters\n",
    "**Remember what your left and right pointers do:**\n",
    "\n",
    "[left]- at the beginning of the array, [right]- at the end-most point in your array\n",
    "\n",
    "```\n",
    "from collections import defaultdict\n",
    "\n",
    "def longest_substring_k_distinct(s, k):\n",
    "    count = defaultdict(int)\n",
    "    left = 0\n",
    "    max_len = 0\n",
    "\n",
    "    for right in range(len(s)):\n",
    "        count[s[right]] += 1\n",
    "\n",
    "        while len(count) > k:  # More than k distinct chars?\n",
    "            count[s[left]] -= 1\n",
    "            if count[s[left]] == 0:\n",
    "                del count[s[left]]\n",
    "            left += 1\n",
    "\n",
    "        max_len = max(max_len, right - left + 1)\n",
    "\n",
    "    return max_len\n",
    "```"
   ],
   "id": "b5d97067e455ea2c"
  },
  {
   "metadata": {},
   "cell_type": "markdown",
   "source": [
    "## 🔍 Common “Licks” for Sliding Window + HashMap\n",
    "\n",
    "| 🧠 Situation | 🧩 Pattern |\n",
    "|--------------|------------|\n",
    "| Limit frequency of a char/number | `while count[char] > k:` |\n",
    "| Limit number of distinct things | `while len(count) > k:` |\n",
    "| Track last seen position | `count[char] = index` |\n",
    "| Remove from count | `if count[x] == 0: del count[x]` |\n",
    "| Get window length | `right - left + 1` |\n"
   ],
   "id": "2b70de80eb7dd950"
  },
  {
   "metadata": {},
   "cell_type": "markdown",
   "source": [
    "# 🧠 Problem: 2958. Length of Longest Subarray With at Most K Frequency\n",
    "\n",
    "You are given an integer array `nums` and an integer `k`.\n",
    "\n",
    "Return the length of the **longest contiguous subarray** where **no element appears more than `k` times**.\n",
    "\n",
    "---\n",
    "\n",
    "## 🧠 Step 1: What Are the Signs That This Is a Sliding Window Problem?\n",
    "\n",
    "| 🔍 Clue in Problem | 💡 What It Tells Us |\n",
    "|-------------------|---------------------|\n",
    "| We're working with **subarrays** (i.e., contiguous) | ✅ Think sliding window, not prefix sum |\n",
    "| We need to track **frequency of individual elements** | ✅ Use `Counter` or `defaultdict` to track state |\n",
    "| We care about the **longest valid range** | ✅ We're trying to grow a window and shrink it only when rules break |\n",
    "| The problem requires **dynamic frequency checks** | ✅ Prefix sum won't help; need live tracking of values |\n",
    "\n",
    "---\n",
    "\n",
    "## 🔧 Sliding Window + HashMap: The Core Mechanics\n",
    "\n",
    "### What Is a Sliding Window?\n",
    "\n",
    "It’s like you got a window pane you’re sliding over the array:\n",
    "\n",
    "- `left` → where the window starts\n",
    "- `right` → where the window ends\n",
    "- `right` always moves forward\n",
    "- `left` only moves when your **constraint is broken**\n",
    "\n",
    "---\n",
    "\n",
    "### 🔁 General Pattern\n",
    "\n",
    "```\n",
    "from collections import defaultdict\n",
    "\n",
    "def sliding_window(nums, k):\n",
    "    # HashMap to track frequency of elements inside the current window\n",
    "    count = defaultdict(int)\n",
    "\n",
    "    # Left boundary of the sliding window\n",
    "    left = 0\n",
    "\n",
    "    # Keeps track of the longest valid window seen so far\n",
    "    max_len = 0\n",
    "\n",
    "    # Right boundary of the window expands across the array\n",
    "    for right in range(len(nums)):\n",
    "        # Add current number to the count map\n",
    "        count[nums[right]] += 1\n",
    "\n",
    "        # If the current number now appears more than k times, window is invalid\n",
    "        while count[nums[right]] > k:\n",
    "            # Shrink window from the left by reducing the count of the leftmost number\n",
    "            count[nums[left]] -= 1\n",
    "\n",
    "            # Clean-up: if count drops to 0, remove it from the map\n",
    "            if count[nums[left]] == 0:\n",
    "                del count[nums[left]]\n",
    "\n",
    "            # ➡️ Move left side of window forward\n",
    "            left += 1\n",
    "\n",
    "        # Update max_len if this window is the largest valid one seen so far\n",
    "        max_len = max(max_len, right - left + 1)\n",
    "\n",
    "    return max_len\n",
    "```\n",
    "## Your Mental Model for Sliding Window + HashMap\n",
    "\n",
    "1. **Grow** the window by moving `right`\n",
    "\n",
    "2. **Update** the hashmap\n",
    "   `count[nums[right]] += 1`\n",
    "\n",
    "3. Check if the window is invalid\n",
    "\n",
    "    - ❗ Is any element's frequency > k?\n",
    "\n",
    "4. If invalid, shrink from the left until valid\n",
    "\n",
    "5. Track the max valid window length seen so far\n",
    "\n",
    "### Classic Problem Template: Longest Substring with At Most K Distinct Characters\n",
    "This problem is similar in structure, but instead of frequency per element, it tracks total distinct elements.\n",
    "\n",
    "```\n",
    "from collections import defaultdict\n",
    "\n",
    "def longest_substring_k_distinct(s, k):\n",
    "    # Dictionary to keep track of character frequencies in the current window\n",
    "    count = defaultdict(int)\n",
    "\n",
    "    # Left boundary of the sliding window\n",
    "    left = 0\n",
    "\n",
    "    # Tracks the length of the longest valid substring found\n",
    "    max_len = 0\n",
    "\n",
    "    # Right boundary of the sliding window moves across the string\n",
    "    for right in range(len(s)):\n",
    "        # Add the current character to the count map\n",
    "        count[s[right]] += 1\n",
    "\n",
    "        # If there are more than k distinct characters, shrink the window from the left\n",
    "        while len(count) > k:\n",
    "            count[s[left]] -= 1  # Decrease frequency of the character at the left\n",
    "            if count[s[left]] == 0:\n",
    "                del count[s[left]]  # Remove it from the map if count drops to zero\n",
    "            left += 1  # Move the left boundary of the window to the right\n",
    "\n",
    "        # Update the max length if the current window is larger\n",
    "        max_len = max(max_len, right - left + 1)\n",
    "\n",
    "    return max_len\n",
    "```\n",
    "\n"
   ],
   "id": "91374091666f5436"
  },
  {
   "metadata": {},
   "cell_type": "markdown",
   "source": [
    "## 🔚 Summation: What to Hone In On (Code Licks + Pattern Triggers)\n",
    "\n",
    "---\n",
    "\n",
    "### 🔍 Problem Recognition Triggers\n",
    "\n",
    "- \"Subarray\" → ✅ **Contiguous** → Think **sliding window**\n",
    "- \"Longest\" → ✅ We are **tracking window size**\n",
    "- \"At most K frequency\" → ✅ You must **track frequencies**\n",
    "- \"Per-element frequency constraint\" → ✅ Use a **hashmap** (e.g. `Counter` or `defaultdict`)\n",
    "- \"Sliding subarray must follow a rule\" → ✅ Expect to **shrink window when constraint is broken**\n",
    "\n",
    "---\n",
    "\n",
    "### 🧩 Code Licks to Lock In\n",
    "\n",
    "| 🧠 Situation | 🧩 Code Pattern |\n",
    "|-------------|----------------|\n",
    "| Add element to window | `count[nums[right]] += 1` |\n",
    "| Shrink window if frequency too high | `while count[nums[right]] > k:` |\n",
    "| Remove element from left | `count[nums[left]] -= 1` |\n",
    "| Clean up zero-frequency entries | `if count[nums[left]] == 0: del count[nums[left]]` |\n",
    "| Move window start | `left += 1` |\n",
    "| Track best result | `max_len = max(max_len, right - left + 1)` |\n",
    "\n",
    "---\n",
    "\n",
    "### 🔧 Sliding Window Framework\n",
    "Mastery Cues\n",
    "* If the rule is about counts of elements → Use a dict\n",
    "\n",
    "* If you can grow and shrink the window dynamically → Use sliding window\n",
    "\n",
    "* If you're being asked to find max/min window lengths → Track right - left + 1\n",
    "\n",
    "* If the question involves \"at most\", \"no more than\", or \"valid subarray\" → Look for when the rule breaks and shrink\n",
    "\n",
    "\n"
   ],
   "id": "7505db4a5fcdf266"
  },
  {
   "metadata": {},
   "cell_type": "markdown",
   "source": [
    "### So let's write this code\n",
    "\n",
    "start with our skeleton for sliding window with conditional logic"
   ],
   "id": "e54f334918d89e49"
  },
  {
   "metadata": {
    "ExecuteTime": {
     "end_time": "2025-10-25T08:43:50.401795Z",
     "start_time": "2025-10-25T08:43:50.371609Z"
    }
   },
   "cell_type": "code",
   "source": [
    "\n",
    "nums = [1,2,3,1,2,3,1,2]\n",
    "k = 2\n",
    "\n",
    "def longest_good_subarray(nums, k):\n",
    "    from collections import defaultdict\n",
    "    # make the hashmap\n",
    "    count = defaultdict(int)\n",
    "    left = 0\n",
    "    # Keeps track of the longest valid window seen so far\n",
    "    max_len = 0\n",
    "    # Right boundary of the window expands across the array\n",
    "    for right in range(len(nums)):\n",
    "        # Add current number to the count map\n",
    "        count[nums[right]] += 1\n",
    "\n",
    "    # If the current number now appears more than k times, window is invalid\n",
    "        while count[nums[right]] > k:\n",
    "            # Shrink window from the left by reducing the count of the leftmost number\n",
    "            count[nums[left]] -= 1\n",
    "            # Clean-up: if count drops to 0, remove it from the map\n",
    "            if count[nums[left]] == 0:\n",
    "                del count[nums[left]]\n",
    "            left += 1\n",
    "\n",
    "        max_len = max(max_len, right - left + 1)\n",
    "\n",
    "    return(max_len)\n",
    "\n",
    "longest_good_subarray(nums, k)\n",
    "\n",
    "\n",
    "\n",
    "\n",
    "\n",
    "\n",
    "\n",
    "\n",
    "\n"
   ],
   "id": "e6d1571c76567c3",
   "outputs": [
    {
     "data": {
      "text/plain": [
       "6"
      ]
     },
     "execution_count": 56,
     "metadata": {},
     "output_type": "execute_result"
    }
   ],
   "execution_count": 56
  },
  {
   "metadata": {},
   "cell_type": "markdown",
   "source": "### Enhanced version of the code",
   "id": "d10416328c7a085a"
  },
  {
   "metadata": {
    "ExecuteTime": {
     "end_time": "2025-10-25T08:43:52.697963Z",
     "start_time": "2025-10-25T08:43:52.693769Z"
    }
   },
   "cell_type": "code",
   "source": [
    "from collections import defaultdict\n",
    "\n",
    "def longest_good_subarray(nums, k):\n",
    "    count = defaultdict(int)  # Tracks frequency of elements in the window\n",
    "    left = 0                  # Start of the sliding window\n",
    "    max_len = 0               # Tracks the max valid window length\n",
    "\n",
    "    for right in range(len(nums)):\n",
    "        count[nums[right]] += 1  # Expand window by including nums[right]\n",
    "\n",
    "        # If the current element appears more than k times, shrink window\n",
    "        while count[nums[right]] > k:\n",
    "            count[nums[left]] -= 1\n",
    "            left += 1  # Move left boundary of the window\n",
    "\n",
    "        # Update max length if current window is valid and longer\n",
    "        max_len = max(max_len, right - left + 1)\n",
    "\n",
    "    return max_len\n"
   ],
   "id": "2b659aec9b4ad883",
   "outputs": [],
   "execution_count": 57
  },
  {
   "metadata": {},
   "cell_type": "markdown",
   "source": [
    "## ✅ Why This Version of `longest_good_subarray` Is Enhanced\n",
    "\n",
    "This optimized implementation of the sliding window pattern is both **clean** and **efficient**. Here's a breakdown of why it's superior:\n",
    "\n",
    "---\n",
    "\n",
    "### 🔧 Optimization Highlights\n",
    "\n",
    "| Feature | Explanation |\n",
    "|--------|-------------|\n",
    "| **No unnecessary deletion (`del`)** | The code avoids deleting keys from the hashmap, which saves time. Deleting keys from a Python dictionary can cause internal rehashing and is more costly than leaving a key with a `0` value. |\n",
    "| **Focused logic** | The loop checks only what matters — whether the frequency of the current number exceeds `k`. There's no use of `len(count)` or unnecessary operations. |\n",
    "| **Minimal operations inside the loop** | The sliding window is tight and only adjusts when the frequency constraint is broken. The `left` pointer is moved only as needed. |\n",
    "| **No overengineering** | No additional flags, sets, or over-complicated logic. The code uses exactly what the problem requires and nothing more. |\n",
    "| **O(n) time complexity** | Each element is processed at most twice (once when added to the window, once when removed), making it linear in time. |\n",
    "\n",
    "---\n",
    "\n",
    "### 🧠 Strategic Choices\n",
    "\n",
    "- **Hashmap (`defaultdict`)** is used for tracking frequencies in constant time.\n",
    "- **Sliding window** dynamically adjusts the valid subarray bounds.\n",
    "- Skipping `del` improves performance without affecting correctness, since the algorithm never depends on `len(count)` or the exact keys.\n",
    "\n",
    "---\n",
    "\n",
    "### 📈 Performance Benefits\n",
    "\n",
    "| Operation | Cost with `del` | Cost without `del` |\n",
    "|-----------|------------------|---------------------|\n",
    "| Key deletion | Can trigger rehashing, adds overhead | Avoided entirely |\n",
    "| Window updates | Slower due to extra operations | Faster with cleaner logic |\n",
    "\n",
    "---\n",
    "\n",
    "### 🗣️ What to Say in an Interview\n",
    "\n",
    "> “I used a sliding window and a hashmap to track element frequencies. Since I don’t rely on the number of keys in the map, I avoided deleting keys with zero count to improve runtime performance. This keeps the loop tight and avoids unnecessary operations.”\n",
    "\n",
    "---\n",
    "\n",
    "### ✅ Final Verdict\n",
    "\n",
    "This version is:\n",
    "- Functionally correct\n",
    "- Performance-conscious\n",
    "- Interview-ready\n",
    "- Easy to walk through and defend under pressure\n"
   ],
   "id": "63d1bed2aa6189b8"
  },
  {
   "metadata": {},
   "cell_type": "markdown",
   "source": [
    "# ✅ FAANG-Ready Template: Longest Subarray with At Most K Frequency\n",
    "\n",
    "---\n",
    "\n",
    "## 📌 Problem Summary\n",
    "\n",
    "**Given** an array `nums` and an integer `k`,\n",
    "**Return** the length of the longest subarray such that **no element appears more than `k` times**.\n",
    "\n",
    "---\n",
    "\n",
    "## 🧠 Core Insight\n",
    "\n",
    "This is a classic **sliding window + frequency map** problem.\n",
    "\n",
    "### Clues that signal sliding window:\n",
    "- You're working with **subarrays** (must be contiguous)\n",
    "- You're tracking a **live frequency** of elements\n",
    "- You need the **longest valid window** where some rule holds\n",
    "- You **shrink** the window when the constraint is broken\n",
    "\n",
    "---\n",
    "\n",
    "## ✅ Final Optimized Code\n"
   ],
   "id": "2482d679b29abdf7"
  },
  {
   "metadata": {
    "ExecuteTime": {
     "end_time": "2025-10-25T08:43:54.537185Z",
     "start_time": "2025-10-25T08:43:54.527253Z"
    }
   },
   "cell_type": "code",
   "source": [
    "from collections import defaultdict\n",
    "\n",
    "def longest_good_subarray(nums, k):\n",
    "    count = defaultdict(int)  # Tracks frequency of each element in the window\n",
    "    left = 0                  # Left boundary of the sliding window\n",
    "    max_len = 0               # Stores the longest valid subarray length\n",
    "\n",
    "    for right in range(len(nums)):\n",
    "        count[nums[right]] += 1  # Include current element in the window\n",
    "\n",
    "        # Shrink window from the left if current element appears more than k times\n",
    "        while count[nums[right]] > k:\n",
    "            count[nums[left]] -= 1\n",
    "            left += 1  # Move left edge of the window forward\n",
    "\n",
    "        # Update max length of valid window\n",
    "        max_len = max(max_len, right - left + 1)\n",
    "\n",
    "    return max_len\n"
   ],
   "id": "ec142ef26c6ffbb8",
   "outputs": [],
   "execution_count": 58
  },
  {
   "metadata": {},
   "cell_type": "markdown",
   "source": [
    "## 🧠 FAANG-Ready Explanation: Sliding Window + HashMap for Frequency Constraint\n",
    "\n",
    "### 🔍 Problem Understanding\n",
    "\n",
    "The goal is to find the length of the **longest contiguous subarray** (i.e., sliding window) such that **no element appears more than `k` times**.\n",
    "\n",
    "This immediately signals a **sliding window pattern** because:\n",
    "- We're dealing with a **subarray**, which means the elements must be contiguous.\n",
    "- We need to track what's happening **inside the window in real time**.\n",
    "- The constraint is **per-element frequency**, which points directly to a **hashmap** (`dict` or `defaultdict`) to keep count.\n",
    "\n",
    "---\n",
    "\n",
    "### 🔧 Approach Overview\n",
    "\n",
    "I use a **sliding window** with two pointers (`left` and `right`) to define the current window and a hashmap (`count`) to track the frequency of each number within the window.\n",
    "\n",
    "- As I move `right` forward, I add elements to the window and update their counts.\n",
    "- If any element exceeds the allowed frequency `k`, I increment `left` to shrink the window until the window is valid again.\n",
    "- At each valid window, I track the maximum length seen so far.\n",
    "\n",
    "This ensures that I always maintain a **valid subarray**, and I only expand or contract the window when necessary.\n",
    "\n",
    "---\n",
    "\n",
    "### 🧠 Why I Avoided `del count[...]`\n",
    "\n",
    "In some implementations, people clean up the dictionary like this:\n",
    "\n",
    "```python\n",
    "# Example cleanup (optional):\n",
    "if count[nums[left]] == 0:\n",
    "    del count[nums[left]]\n",
    "```\n"
   ],
   "id": "38c5ffd7b68c35f5"
  },
  {
   "metadata": {},
   "cell_type": "markdown",
   "source": [
    "# 1512. Number of Good Pairs\n",
    "\n",
    "Given an array of integers nums, return the number of good pairs.\n",
    "\n",
    "A pair (i, j) is called good if nums[i] == nums[j] and i < j.\n",
    "\n",
    "\n",
    "\n",
    "**Example 1:**\n",
    "```\n",
    "Input: nums = [1,2,3,1,1,3]\n",
    "Output: 4\n",
    "Explanation: There are 4 good pairs (0,3), (0,4), (3,4), (2,5) 0-indexed.\n",
    "```\n",
    "**Example 2:**\n",
    "```\n",
    "Input: nums = [1,1,1,1]\n",
    "Output: 6\n",
    "Explanation: Each pair in the array are good.\n",
    "```\n",
    "**Example 3:**\n",
    "```\n",
    "Input: nums = [1,2,3]\n",
    "Output: 0\n",
    "```"
   ],
   "id": "f8584c3bdb2d863b"
  },
  {
   "metadata": {
    "ExecuteTime": {
     "end_time": "2025-10-25T08:43:56.212113Z",
     "start_time": "2025-10-25T08:43:56.203758Z"
    }
   },
   "cell_type": "code",
   "source": [
    "nums = [1,2,3,1,1,3]\n",
    "\n",
    "from collections import Counter\n",
    "\n",
    "counts = defaultdict(int)\n",
    "for i, num in enumerate(nums):\n",
    "    counts[num] += 1\n",
    "ans = 0\n",
    "for v in counts.values():\n",
    "    ans += v * (v - 1) // 2\n",
    "print(ans)\n"
   ],
   "id": "3aca37923d268650",
   "outputs": [
    {
     "name": "stdout",
     "output_type": "stream",
     "text": [
      "4\n"
     ]
    }
   ],
   "execution_count": 59
  },
  {
   "metadata": {},
   "cell_type": "markdown",
   "source": [
    "## Think of it like a “Dev Lick”:\n",
    "Like guitarists got their riffs, coders got their licks.\n",
    "\n",
    "Every time you see:\n",
    "> “Count how many pairs you can make from N identical things”\n",
    "Your reflex should be:\n",
    "n * (n - 1) // 2"
   ],
   "id": "5406473babb0054"
  },
  {
   "metadata": {},
   "cell_type": "markdown",
   "source": [
    "## Comparison Table\n",
    "\n",
    "| Concept               | Formula                   | Context                          |\n",
    "|-----------------------|---------------------------|----------------------------------|\n",
    "| Arithmetic sum        | `n * (n + 1) // 2`         | Sum of numbers from 0 to `n`     |\n",
    "| Pairwise combinations | `n * (n - 1) // 2`         | Count of index pairs `(i, j)`    |\n",
    "\n",
    "---\n",
    "\n",
    "## Mental Cue\n",
    "\n",
    "- If it’s about **summing numbers** → `n(n + 1) / 2`\n",
    "- If it’s about **counting combinations** → `n(n - 1) / 2`\n"
   ],
   "id": "f7400852c0a74441"
  },
  {
   "metadata": {},
   "cell_type": "markdown",
   "source": [
    "---\n",
    "\n",
    "## 🔧 Polished Solutions and Quick-Checks\n",
    "\n",
    "Below are concise, production-ready versions of selected problems with quick asserts to self-verify behavior.\n",
    "\n",
    "### 1748. Sum of Unique Elements\n",
    "\n",
    "- Pattern: frequency table → sum keys with count == 1\n",
    "- Tools: `collections.Counter`\n",
    "- Complexity: O(n) time, O(n) space\n"
   ],
   "id": "fcf230c854efa52c"
  },
  {
   "metadata": {
    "ExecuteTime": {
     "end_time": "2025-10-25T08:44:43.570943Z",
     "start_time": "2025-10-25T08:44:43.556113Z"
    }
   },
   "cell_type": "code",
   "source": [
    "from collections import Counter\n",
    "\n",
    "def sum_of_unique(nums):\n",
    "    cnt = Counter(nums)\n",
    "    return sum(k for k, v in cnt.items() if v == 1)\n",
    "\n",
    "# quick-checks from statement\n",
    "assert sum_of_unique([1,2,3,2]) == 4\n",
    "assert sum_of_unique([1,1,1,1,1]) == 0\n",
    "assert sum_of_unique([1,2,3,4,5]) == 15\n",
    "\n",
    "print(\"1748 OK\")\n"
   ],
   "id": "e6f6ed25d7a3e63c",
   "outputs": [
    {
     "name": "stdout",
     "output_type": "stream",
     "text": [
      "1748 OK\n"
     ]
    }
   ],
   "execution_count": 62
  },
  {
   "metadata": {},
   "cell_type": "markdown",
   "source": [
    "### 3005. Count Elements With Maximum Frequency\n",
    "\n",
    "- Goal: return total frequency of elements that tie for max frequency\n",
    "- Pattern: frequency table → sum values equal to `max(values)`\n",
    "- Complexity: O(n) time, O(n) space\n"
   ],
   "id": "544d91a1025bacbf"
  },
  {
   "metadata": {
    "ExecuteTime": {
     "end_time": "2025-10-25T08:44:45.080088Z",
     "start_time": "2025-10-25T08:44:45.072042Z"
    }
   },
   "cell_type": "code",
   "source": [
    "from collections import Counter\n",
    "\n",
    "def count_max_frequency(nums):\n",
    "    cnt = Counter(nums)\n",
    "    if not cnt:\n",
    "        return 0\n",
    "    m = max(cnt.values())\n",
    "    return sum(v for v in cnt.values() if v == m)\n",
    "\n",
    "# quick-checks from statement/examples\n",
    "assert count_max_frequency([1,2,2,3,1,4]) == 4  # 1 and 2 appear twice → 2+2\n",
    "assert count_max_frequency([1,2,3,4,5]) == 5    # all frequency 1 → sum of all 1s\n",
    "assert count_max_frequency([]) == 0\n",
    "\n",
    "print(\"3005 OK\")\n"
   ],
   "id": "cd28c3281af93d46",
   "outputs": [
    {
     "name": "stdout",
     "output_type": "stream",
     "text": [
      "3005 OK\n"
     ]
    }
   ],
   "execution_count": 63
  },
  {
   "metadata": {
    "ExecuteTime": {
     "end_time": "2025-10-25T08:44:45.634280Z",
     "start_time": "2025-10-25T08:44:45.630945Z"
    }
   },
   "cell_type": "code",
   "source": "",
   "id": "7e7534ebb92d63e4",
   "outputs": [],
   "execution_count": null
  },
  {
   "metadata": {},
   "cell_type": "code",
   "outputs": [],
   "execution_count": null,
   "source": "",
   "id": "320f053d3acee994"
  }
 ],
 "metadata": {
  "kernelspec": {
   "display_name": "Python 3",
   "language": "python",
   "name": "python3"
  },
  "language_info": {
   "codemirror_mode": {
    "name": "ipython",
    "version": 2
   },
   "file_extension": ".py",
   "mimetype": "text/x-python",
   "name": "python",
   "nbconvert_exporter": "python",
   "pygments_lexer": "ipython2",
   "version": "2.7.6"
  }
 },
 "nbformat": 4,
 "nbformat_minor": 5
}
