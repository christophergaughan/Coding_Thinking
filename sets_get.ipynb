{
 "cells": [
  {
   "metadata": {},
   "cell_type": "markdown",
   "source": [
    "---\n",
    "\n",
    "<div style=\"text-align: center; margin: 2em 0; padding: 1.5em; background: linear-gradient(135deg, #667eea 0%, #764ba2 100%); border-radius: 12px;\">\n",
    "  <h2 style=\"color: white; font-weight: 300; letter-spacing: 2px; margin: 0; font-size: 1.4em;\">\n",
    "    By Christopher L. Gaughan, Ph.D.\n",
    "  </h2>\n",
    "</div>\n",
    "\n",
    "---\n"
   ]
  },
  {
   "metadata": {},
   "cell_type": "markdown",
   "source": [
    "## What you'll learn\n",
    "- Fast membership tests with sets (O(1))\n",
    "- Tuple unpacking in loops\n",
    "- Using enumerate() safely\n",
    "- Using dict.get() for safe lookups and counting\n",
    "- max(..., key=...) to pick by a criterion\n",
    "\n",
    "### How to use this notebook\n",
    "- Read the brief explanation, then run the code cells.\n",
    "- Look for callouts: 💡 Tips, 🛑 Common mistakes, ✅ Right patterns.\n"
   ]
  },
  {
   "metadata": {},
   "cell_type": "markdown",
   "source": [
    "### Quick demo: find duplicates using a set\n",
    "This compact example shows how a set can help detect duplicates quickly. If it feels dense, skip ahead to the clearer step-by-step version right below.\n"
   ]
  },
  {
   "metadata": {
    "ExecuteTime": {
     "end_time": "2025-10-29T02:30:26.763190Z",
     "start_time": "2025-10-29T02:30:26.545338Z"
    }
   },
   "cell_type": "code",
   "source": [
    "# Build duplicates in one pass using a set for O(1) membership checks.\n",
    "# Trick: set.add(x) returns None. We use `not seen.add(file)` as a side effect\n",
    "# to add unseen items while the expression stays False; only already-seen files\n",
    "# satisfy the condition and get collected into `dupes`.\n",
    "files_uploaded = [\"data1.csv\", \"report.xlsx\", \"summary.docx\",\n",
    "                  \"data1.csv\", \"report.xlsx\", \"new_file.txt\"]\n",
    "seen = set()\n",
    "# Passes only duplicates; adds unseen files to `seen` on the fly\n",
    "dupes = set(file for file in files_uploaded if file in seen or not seen.add(file))\n",
    "\n",
    "print(dupes)\n"
   ],
   "outputs": [
    {
     "name": "stdout",
     "output_type": "stream",
     "text": [
      "{'report.xlsx', 'new_file.txt', 'summary.docx', 'data1.csv'}\n"
     ]
    }
   ],
   "execution_count": 2
  },
  {
   "cell_type": "code",
   "metadata": {
    "ExecuteTime": {
     "end_time": "2025-10-29T02:30:26.869601Z",
     "start_time": "2025-10-29T02:30:26.831806Z"
    }
   },
   "source": [
    "files_uploaded = [\"data1.csv\", \"report.xlsx\", \"summary.docx\",\n",
    "                  \"data1.csv\", \"report.xlsx\", \"new_file.txt\"]\n",
    "\n",
    "seen = set()\n",
    "dupes = set()\n",
    "\n",
    "for file in files_uploaded:\n",
    "    if file in seen:\n",
    "        dupes.add(file)  # If it's already in seen, it's a duplicate\n",
    "    else:\n",
    "        seen.add(file)  # Otherwise, add it to seen\n",
    "\n",
    "print(dupes)\n"
   ],
   "outputs": [
    {
     "name": "stdout",
     "output_type": "stream",
     "text": [
      "{'report.xlsx', 'data1.csv'}\n"
     ]
    }
   ],
   "execution_count": 3
  },
  {
   "cell_type": "markdown",
   "metadata": {},
   "source": [
    "## 📝 Example 1: Checking if a User Exists in a System\n",
    "Imagine you have a huge list of registered users, and you need to check if a new user ID is already in the system.\n",
    "\n",
    "✅ Without Sets (Slow)"
   ]
  },
  {
   "cell_type": "code",
   "metadata": {
    "ExecuteTime": {
     "end_time": "2025-10-29T02:30:26.945419Z",
     "start_time": "2025-10-29T02:30:26.915616Z"
    }
   },
   "source": [
    "users_list = [101, 202, 303, 404, 505, 606]  # Imagine this list is huge\n",
    "user_id = 303\n",
    "\n",
    "if user_id in users_list:  # O(n) lookup time\n",
    "    print(\"User exists\")\n",
    "else:\n",
    "    print(\"User not found\")\n"
   ],
   "outputs": [
    {
     "name": "stdout",
     "output_type": "stream",
     "text": [
      "User exists\n"
     ]
    }
   ],
   "execution_count": 4
  },
  {
   "cell_type": "markdown",
   "metadata": {},
   "source": [
    "**🔹 Problem: If users_list is big, searching will take time.**"
   ]
  },
  {
   "metadata": {},
   "cell_type": "markdown",
   "source": [
    "## Time Complexity of Set Lookup: O(1)\n",
    "\n",
    "When using a set in Python, checking if an element exists (using the `in` operator) has an **average time complexity of O(1)** - constant time.\n",
    "\n",
    "This is because sets use **hash tables** internally, allowing for extremely fast lookups regardless of the set size.\n",
    "\n",
    "**Comparison:**\n",
    "- **List lookup**: `O(n)` - must check each element sequentially\n",
    "- **Set lookup**: `O(1)` - direct access via hash value\n",
    "\n",
    "This makes sets ideal for membership testing in large collections!"
   ]
  },
  {
   "metadata": {
    "ExecuteTime": {
     "end_time": "2025-10-29T02:30:27.022769Z",
     "start_time": "2025-10-29T02:30:27.010188Z"
    }
   },
   "cell_type": "code",
   "source": [
    "user_set = set(users_list)\n",
    "# ✅ With a set: O(1) average lookup time\n",
    "if user_id in user_set:\n",
    "    print(\"User exists\")\n",
    "else:\n",
    "    print(\"User not found\")\n"
   ],
   "outputs": [
    {
     "name": "stdout",
     "output_type": "stream",
     "text": [
      "User exists\n"
     ]
    }
   ],
   "execution_count": 5
  },
  {
   "cell_type": "markdown",
   "metadata": {},
   "source": [
    "### 1️⃣ Detecting Plagiarism (Finding Common Words in Documents)\n",
    "You have two text documents, and you want to check how many common words appear in both."
   ]
  },
  {
   "cell_type": "code",
   "metadata": {
    "ExecuteTime": {
     "end_time": "2025-10-29T02:30:27.123118Z",
     "start_time": "2025-10-29T02:30:27.080447Z"
    }
   },
   "source": [
    "doc1 = \"\"\"Python is great for data science and machine learning\"\"\"\n",
    "doc2 = \"\"\"Machine learning and AI are transforming data science\"\"\"\n",
    "\n",
    "words1 = set(doc1.lower().split())  \n",
    "words2 = set(doc2.lower().split())\n",
    "\n",
    "# Find words that appear in both documents\n",
    "print(words1 & words2)  # Expected: {'and', 'data', 'science', 'machine', 'learning'}"
   ],
   "outputs": [
    {
     "name": "stdout",
     "output_type": "stream",
     "text": [
      "{'science', 'machine', 'data', 'learning', 'and'}\n"
     ]
    }
   ],
   "execution_count": 6
  },
  {
   "cell_type": "markdown",
   "metadata": {},
   "source": [
    "## 2️⃣ Finding Employees Who Haven't Submitted Reports\n",
    "You have two sets:\n",
    "- All employees\n",
    "- Employees who submitted reports\n",
    "\n",
    "Goal: find who hasn’t submitted their report.\n"
   ]
  },
  {
   "cell_type": "code",
   "metadata": {
    "ExecuteTime": {
     "end_time": "2025-10-29T02:30:27.201012Z",
     "start_time": "2025-10-29T02:30:27.188378Z"
    }
   },
   "source": [
    "all_employees = {\"Alice\", \"Bob\", \"Charlie\", \"David\", \"Eve\"}\n",
    "submitted_reports = {\"Alice\", \"David\", \"Eve\"}\n",
    "\n",
    "# Find employees who DID NOT submit reports\n",
    "print(all_employees - submitted_reports)"
   ],
   "outputs": [
    {
     "name": "stdout",
     "output_type": "stream",
     "text": [
      "{'Bob', 'Charlie'}\n"
     ]
    }
   ],
   "execution_count": 7
  },
  {
   "cell_type": "markdown",
   "metadata": {},
   "source": [
    "## 3️⃣ Identifying Fraudulent Transactions\n",
    "You have a list of transactions, but some accounts are blacklisted for fraud.\n",
    "- Filter out any transactions from blacklisted accounts."
   ]
  },
  {
   "cell_type": "code",
   "metadata": {
    "ExecuteTime": {
     "end_time": "2025-10-29T02:30:27.292161Z",
     "start_time": "2025-10-29T02:30:27.243910Z"
    }
   },
   "source": [
    "transactions = [\n",
    "    (\"user1\", 250), (\"user2\", 400), (\"user3\", 500),\n",
    "    (\"user4\", 100), (\"user5\", 750), (\"user3\", 600)\n",
    "]\n",
    "blacklisted_accounts = {\"user3\", \"user5\"}\n",
    "\n",
    "# Create a new list without blacklisted transactions\n",
    "filtered_transactions = []\n",
    "\n",
    "for user, amount in transactions:\n",
    "    if user not in blacklisted_accounts:\n",
    "        filtered_transactions.append((user, amount))\n",
    "\n",
    "print(filtered_transactions)  # Expected: [('user1', 250), ('user2', 400), ('user4', 100)]\n"
   ],
   "outputs": [
    {
     "name": "stdout",
     "output_type": "stream",
     "text": [
      "[('user1', 250), ('user2', 400), ('user4', 100)]\n"
     ]
    }
   ],
   "execution_count": 8
  },
  {
   "cell_type": "markdown",
   "metadata": {},
   "source": [
    "## Tuple Unpacking in a List\n",
    "* What is Tuple Unpacking?\n",
    "* When you have a list of tuples, each tuple contains multiple values.\n",
    "* You can unpack those values directly in a for loop instead of accessing them by index.\n",
    "\n",
    "✅ Basic Example: Unpacking Tuples in a List"
   ]
  },
  {
   "cell_type": "code",
   "metadata": {
    "ExecuteTime": {
     "end_time": "2025-10-29T02:30:27.352329Z",
     "start_time": "2025-10-29T02:30:27.335428Z"
    }
   },
   "source": [
    "pairs = [(1, 'a'), (2, 'b'), (3, 'c')]\n",
    "\n",
    "# Instead of doing this:\n",
    "for pair in pairs:\n",
    "    print(pair[0], pair[1])  # Accessing elements by index\n",
    "\n",
    "# Do this:\n",
    "for num, letter in pairs:\n",
    "    print(num, letter, end=\" , \")  # Unpacking the tuple directly\n"
   ],
   "outputs": [
    {
     "name": "stdout",
     "output_type": "stream",
     "text": [
      "1 a\n",
      "2 b\n",
      "3 c\n",
      "1 a , 2 b , 3 c , "
     ]
    }
   ],
   "execution_count": 9
  },
  {
   "cell_type": "markdown",
   "metadata": {},
   "source": [
    "## 🛑 Common Mistake: Forgetting to Unpack the Tuple\n",
    "### ❌ Wrong:\n",
    " "
   ]
  },
  {
   "cell_type": "code",
   "metadata": {
    "ExecuteTime": {
     "end_time": "2025-10-29T02:30:27.423779Z",
     "start_time": "2025-10-29T02:30:27.407520Z"
    }
   },
   "source": [
    "transactions = [(\"user1\", 250), (\"user2\", 400)]\n",
    "for transaction in transactions:\n",
    "    if transaction[0] == \"user1\":  # Accessing manually\n",
    "        print(\"Found transaction!\")\n"
   ],
   "outputs": [
    {
     "name": "stdout",
     "output_type": "stream",
     "text": [
      "Found transaction!\n"
     ]
    }
   ],
   "execution_count": 10
  },
  {
   "cell_type": "markdown",
   "metadata": {},
   "source": [
    "### ✅ Right (Unpack It!)"
   ]
  },
  {
   "cell_type": "code",
   "metadata": {
    "ExecuteTime": {
     "end_time": "2025-10-29T02:30:27.480666Z",
     "start_time": "2025-10-29T02:30:27.466817Z"
    }
   },
   "source": [
    "transactions = [(\"user1\", 250), (\"user2\", 400)]\n",
    "for user, amount in transactions:  # UNPACK THE TUPLE\n",
    "    if user == \"user1\":\n",
    "        print(\"Found transaction!\")\n"
   ],
   "outputs": [
    {
     "name": "stdout",
     "output_type": "stream",
     "text": [
      "Found transaction!\n"
     ]
    }
   ],
   "execution_count": 11
  },
  {
   "cell_type": "markdown",
   "metadata": {},
   "source": [
    "**💡 Why? Python lets you unpack the tuple automatically, so you can use user and amount directly.**"
   ]
  },
  {
   "cell_type": "markdown",
   "metadata": {},
   "source": [
    "## Using `enumerate()` Correctly\n",
    "- What does `enumerate()` do?\n",
    "  - It returns pairs `(index, value)` as you iterate over a sequence.\n",
    "- When to use it:\n",
    "  - Whenever you need both the position (index) and the item during iteration.\n",
    "- Syntax:\n",
    "  - `for index, value in enumerate(sequence): ...`\n",
    "\n",
    "\n",
    "✅ Basic Example:"
   ]
  },
  {
   "cell_type": "code",
   "metadata": {
    "ExecuteTime": {
     "end_time": "2025-10-29T02:30:27.601315Z",
     "start_time": "2025-10-29T02:30:27.584484Z"
    }
   },
   "source": [
    "names = [\"Alice\", \"Bob\", \"Charlie\"]\n",
    "\n",
    "for index, name in enumerate(names):\n",
    "    print(f\"Index {index} -> {name}\")\n"
   ],
   "outputs": [
    {
     "name": "stdout",
     "output_type": "stream",
     "text": [
      "Index 0 -> Alice\n",
      "Index 1 -> Bob\n",
      "Index 2 -> Charlie\n"
     ]
    }
   ],
   "execution_count": 12
  },
  {
   "cell_type": "markdown",
   "metadata": {},
   "source": "**🔹 `enumerate()` gives you a *tuple* `(index, value)`, which you unpack in the loop.**"
  },
  {
   "cell_type": "markdown",
   "metadata": {},
   "source": [
    "## 🛑 Common Mistake: Misusing enumerate() with Tuples\n",
    "If you already have a list of tuples, enumerate() adds an extra index before the tuple, which can confuse you.\n",
    "\n",
    "### ❌ Wrong: Using enumerate() on a List of Tuples Incorrectly"
   ]
  },
  {
   "cell_type": "code",
   "metadata": {
    "ExecuteTime": {
     "end_time": "2025-10-29T02:30:27.734106Z",
     "start_time": "2025-10-29T02:30:27.655507Z"
    }
   },
   "source": [
    "transactions = [(\"user1\", 250), (\"user2\", 400)]\n",
    "\n",
    "for index, user, amount in enumerate(transactions):  # ❌ This won't work!\n",
    "    print(index, user, amount)\n"
   ],
   "outputs": [
    {
     "ename": "ValueError",
     "evalue": "not enough values to unpack (expected 3, got 2)",
     "output_type": "error",
     "traceback": [
      "\u001B[0;31m---------------------------------------------------------------------------\u001B[0m",
      "\u001B[0;31mValueError\u001B[0m                                Traceback (most recent call last)",
      "Cell \u001B[0;32mIn[13], line 3\u001B[0m\n\u001B[1;32m      1\u001B[0m transactions \u001B[38;5;241m=\u001B[39m [(\u001B[38;5;124m\"\u001B[39m\u001B[38;5;124muser1\u001B[39m\u001B[38;5;124m\"\u001B[39m, \u001B[38;5;241m250\u001B[39m), (\u001B[38;5;124m\"\u001B[39m\u001B[38;5;124muser2\u001B[39m\u001B[38;5;124m\"\u001B[39m, \u001B[38;5;241m400\u001B[39m)]\n\u001B[0;32m----> 3\u001B[0m \u001B[38;5;28;01mfor\u001B[39;00m index, user, amount \u001B[38;5;129;01min\u001B[39;00m \u001B[38;5;28menumerate\u001B[39m(transactions):  \u001B[38;5;66;03m# ❌ This won't work!\u001B[39;00m\n\u001B[1;32m      4\u001B[0m     \u001B[38;5;28mprint\u001B[39m(index, user, amount)\n",
      "\u001B[0;31mValueError\u001B[0m: not enough values to unpack (expected 3, got 2)"
     ]
    }
   ],
   "execution_count": 13
  },
  {
   "cell_type": "markdown",
   "metadata": {},
   "source": [
    "## ✅ Right Way: Unpacking enumerate() Correctly"
   ]
  },
  {
   "cell_type": "code",
   "metadata": {
    "ExecuteTime": {
     "end_time": "2025-10-29T02:30:47.191595Z",
     "start_time": "2025-10-29T02:30:47.136892Z"
    }
   },
   "source": [
    "transactions = [(\"user1\", 250), (\"user2\", 400)]\n",
    "\n",
    "for index, (user, amount) in enumerate(transactions):  # ✅ Unpack the tuple properly\n",
    "    print(f\"{index}: {user} -> ${amount}\")\n"
   ],
   "outputs": [
    {
     "name": "stdout",
     "output_type": "stream",
     "text": [
      "0: user1 -> $250\n",
      "1: user2 -> $400\n"
     ]
    }
   ],
   "execution_count": 14
  },
  {
   "cell_type": "markdown",
   "metadata": {},
   "source": [
    "### 💡 Rule of Thumb:\n",
    "\n",
    "* If working with a regular list, use enumerate() normally.\n",
    "* If working with a list of tuples, unpack the tuple inside the enumerate() loop.\n",
    "\n",
    "## Practice Problems to Drill This Concept\n",
    "Try these to lock it in:\n",
    "\n",
    "### 🧩 Problem 1: Unpack Tuples from a List\n"
   ]
  },
  {
   "cell_type": "code",
   "metadata": {
    "ExecuteTime": {
     "end_time": "2025-10-29T02:30:49.017592Z",
     "start_time": "2025-10-29T02:30:49.005982Z"
    }
   },
   "source": [
    "products = [(\"Laptop\", 1000), (\"Phone\", 500), (\"Tablet\", 750)]\n",
    "# Print each product name and its price\n",
    "for item, price in products:\n",
    "    print(f'{item} costs {price}')"
   ],
   "outputs": [
    {
     "name": "stdout",
     "output_type": "stream",
     "text": [
      "Laptop costs 1000\n",
      "Phone costs 500\n",
      "Tablet costs 750\n"
     ]
    }
   ],
   "execution_count": 15
  },
  {
   "cell_type": "markdown",
   "metadata": {},
   "source": [
    "### 🧩 Problem 2: Use `enumerate()` Correctly"
   ]
  },
  {
   "cell_type": "code",
   "metadata": {
    "ExecuteTime": {
     "end_time": "2025-10-29T02:30:50.557645Z",
     "start_time": "2025-10-29T02:30:50.550189Z"
    }
   },
   "source": [
    "students = [(\"Alice\", 90), (\"Bob\", 85), (\"Charlie\", 88)]\n",
    "# Print each student's position (index) in the list and their grade\n",
    "for index, (student, grade) in enumerate(students):\n",
    "    print(f'Student # {index}: {student} scored {grade}')"
   ],
   "outputs": [
    {
     "name": "stdout",
     "output_type": "stream",
     "text": [
      "Student # 0: Alice scored 90\n",
      "Student # 1: Bob scored 85\n",
      "Student # 2: Charlie scored 88\n"
     ]
    }
   ],
   "execution_count": 16
  },
  {
   "cell_type": "markdown",
   "metadata": {},
   "source": [
    "### 🧩 Problem 3: Find the First Duplicate in a List"
   ]
  },
  {
   "cell_type": "code",
   "metadata": {
    "ExecuteTime": {
     "end_time": "2025-10-29T02:30:52.460759Z",
     "start_time": "2025-10-29T02:30:52.443197Z"
    }
   },
   "source": [
    "numbers = [4, 5, 6, 7, 5, 8, 9, 6]\n",
    "# Use a set and unpacking to find the first duplicate\n",
    "seen = set()\n",
    "\n",
    "for number in numbers:\n",
    "    if number in seen:\n",
    "        print(number)\n",
    "        break\n",
    "    else:\n",
    "        seen.add(number)\n",
    "        \n",
    "        "
   ],
   "outputs": [
    {
     "name": "stdout",
     "output_type": "stream",
     "text": [
      "5\n"
     ]
    }
   ],
   "execution_count": 17
  },
  {
   "cell_type": "markdown",
   "metadata": {},
   "source": [
    "### Finding Unused API Keys\n",
    "You have a set of all API keys and another set of used API keys.\n",
    "\n",
    "Find which API keys have **never been used**."
   ]
  },
  {
   "cell_type": "code",
   "metadata": {
    "ExecuteTime": {
     "end_time": "2025-10-29T02:30:54.130771Z",
     "start_time": "2025-10-29T02:30:54.113192Z"
    }
   },
   "source": [
    "all_keys = {\"key1\", \"key2\", \"key3\", \"key4\", \"key5\"}\n",
    "used_keys = {\"key1\", \"key3\", \"key5\"}\n",
    "\n",
    "# Find API keys that were never used\n",
    "print(all_keys - used_keys)"
   ],
   "outputs": [
    {
     "name": "stdout",
     "output_type": "stream",
     "text": [
      "{'key2', 'key4'}\n"
     ]
    }
   ],
   "execution_count": 18
  },
  {
   "metadata": {},
   "cell_type": "markdown",
   "source": [
    "### 🔧 Problem 1: Detecting Missing Records in a Data Pipeline\n",
    "Your system processes data every hour, but some expected records are missing from the output.\n",
    "\n",
    "Goal: find timestamps that are expected but did not appear (set difference)."
   ]
  },
  {
   "metadata": {
    "ExecuteTime": {
     "end_time": "2025-10-29T02:30:55.807359Z",
     "start_time": "2025-10-29T02:30:55.802965Z"
    }
   },
   "cell_type": "code",
   "source": [
    "expected_records = {\n",
    "    \"2024-03-01T01:00:00\", \"2024-03-01T02:00:00\", \"2024-03-01T03:00:00\",\n",
    "    \"2024-03-01T04:00:00\", \"2024-03-01T05:00:00\"\n",
    "}\n",
    "actual_records = {\n",
    "    \"2024-03-01T01:00:00\", \"2024-03-01T03:00:00\", \"2024-03-01T05:00:00\"\n",
    "}\n",
    "\n",
    "missing = expected_records - actual_records  # ✅ difference: in expected, not in actual\n",
    "print(missing)  # Expected: {\"2024-03-01T02:00:00\", \"2024-03-01T04:00:00\"}"
   ],
   "outputs": [
    {
     "name": "stdout",
     "output_type": "stream",
     "text": [
      "{'2024-03-01T04:00:00', '2024-03-01T02:00:00'}\n"
     ]
    }
   ],
   "execution_count": 19
  },
  {
   "cell_type": "markdown",
   "metadata": {},
   "source": [
    "### 🔧 Problem 2: Identifying Frequent API Callers\n",
    "Your logs track API calls made by users. You want to find users who made more than 2 API calls.\n",
    "\n",
    "✅ Task: Use a dictionary to count the number of API calls per user and find users with more than 2 calls."
   ]
  },
  {
   "cell_type": "code",
   "metadata": {
    "ExecuteTime": {
     "end_time": "2025-10-29T02:30:57.224671Z",
     "start_time": "2025-10-29T02:30:57.208130Z"
    }
   },
   "source": [
    "api_logs = [\n",
    "    (\"user1\", \"/login\"), (\"user2\", \"/data\"), (\"user2\", \"/data\"),\n",
    "    (\"user3\", \"/data\"), (\"user2\", \"/login\"), (\"user1\", \"/logout\"),\n",
    "    (\"user3\", \"/logout\"), (\"user2\", \"/data\"), (\"user3\", \"/data\")\n",
    "]\n",
    "\n",
    "# Step 1: Count API calls per user\n",
    "api_counts = {}\n",
    "\n",
    "# Make the frequency dictionary using `get()`\n",
    "for user, _ in api_logs:\n",
    "    api_counts[user] = api_counts.get(user, 0) + 1  # O(1) update\n",
    "print(api_counts)\n",
    "# Step 2: Find users with more than 2 API calls\n",
    "frequent_users = {user for user, count in api_counts.items() if count > 2}\n",
    "\n",
    "print(frequent_users)  # Expected Output: {'user2', 'user3'}\n",
    "\n",
    "    "
   ],
   "outputs": [
    {
     "name": "stdout",
     "output_type": "stream",
     "text": [
      "{'user1': 2, 'user2': 4, 'user3': 3}\n",
      "{'user2', 'user3'}\n"
     ]
    }
   ],
   "execution_count": 20
  },
  {
   "metadata": {},
   "cell_type": "markdown",
   "source": [
    "## What does dict.get() do, exactly?\n",
    "\n",
    "`dict.get(key, default=None)`\n",
    "\n",
    "- Looks up `key` in the dictionary.\n",
    "- If the key exists → returns its value.\n",
    "- If the key is missing → returns `default` instead of raising `KeyError` (defaults to `None` if you don’t provide one).\n",
    "\n",
    "Why use `get()`?\n",
    "- Safer than `d[key]` when a key might be absent.\n",
    "- Lets you supply a sensible fallback without `try/except`.\n",
    "- Great for counting/accumulating and reading optional settings.\n",
    "\n",
    "Common pitfalls and tips:\n",
    "- If you rely on `None` to mean “missing”, remember `get()` also returns `None` by default. Provide an explicit default if you need to distinguish: `d.get(\"threshold\", 0)`.\n",
    "- `get()` doesn’t insert the key. If you want to insert when missing, use `setdefault` or assign explicitly: `d[key] = d.get(key, 0) + 1`.\n",
    "- For many missing-key initializations, `collections.defaultdict` can be even cleaner.\n"
   ]
  },
  {
   "metadata": {},
   "cell_type": "markdown",
   "source": "### Basic example: using `get()` to fetch values"
  },
  {
   "cell_type": "code",
   "metadata": {
    "ExecuteTime": {
     "end_time": "2025-10-29T02:30:59.615423Z",
     "start_time": "2025-10-29T02:30:59.582663Z"
    }
   },
   "source": [
    "user_ages = {\"Alice\": 25, \"Bob\": 30, \"Charlie\": 28}\n",
    "\n",
    "print(user_ages.get(\"Alice\"))\n",
    "print(user_ages.get(\"Eve\"))    # ✅ None (Key doesn’t exist, default is None)\n",
    "print(user_ages.get(\"Eve\", \"Unknown\"))  # ✅ \"Unknown\" (Custom default value)\n"
   ],
   "outputs": [
    {
     "name": "stdout",
     "output_type": "stream",
     "text": [
      "25\n",
      "None\n",
      "Unknown\n"
     ]
    }
   ],
   "execution_count": 21
  },
  {
   "cell_type": "markdown",
   "metadata": {},
   "source": [
    "#### Why is this Useful?\n",
    "* Using user_ages[\"Eve\"] would throw a KeyError if \"Eve\" isn’t in the dictionary.\n",
    "* get() avoids this error and lets you handle missing keys gracefully."
   ]
  },
  {
   "cell_type": "markdown",
   "metadata": {},
   "source": [
    "## Lets look at the `get()` function\n",
    "You're given a list of API calls made by users. \n",
    "* Use get() to count how many times each user made an API call.\n",
    "\n",
    "### Using `.get()` for Counting (Why It’s Useful in above problem)\n",
    "When counting things (like API calls), .get() makes it easy to initialize missing keys."
   ]
  },
  {
   "cell_type": "code",
   "metadata": {
    "ExecuteTime": {
     "end_time": "2025-10-29T02:31:01.861457Z",
     "start_time": "2025-10-29T02:31:01.789251Z"
    }
   },
   "source": [
    "api_counts = {}\n",
    "\n",
    "# Without .get() - More complicated\n",
    "for user in [\"Alice\", \"Bob\", \"Alice\", \"Charlie\", \"Alice\"]:\n",
    "    if user in api_counts:\n",
    "        api_counts[user] += 1\n",
    "    else:\n",
    "        api_counts[user] = 1\n",
    "\n",
    "print(api_counts)  # {'Alice': 3, 'Bob': 1, 'Charlie': 1}\n"
   ],
   "outputs": [
    {
     "name": "stdout",
     "output_type": "stream",
     "text": [
      "{'Alice': 3, 'Bob': 1, 'Charlie': 1}\n"
     ]
    }
   ],
   "execution_count": 22
  },
  {
   "cell_type": "markdown",
   "metadata": {},
   "source": [
    "**✅ With .get() - Cleaner & Faster:**"
   ]
  },
  {
   "cell_type": "code",
   "metadata": {
    "ExecuteTime": {
     "end_time": "2025-10-29T02:31:08.931705Z",
     "start_time": "2025-10-29T02:31:08.897525Z"
    }
   },
   "source": [
    "api_counts = {}\n",
    "\n",
    "for user in [\"Alice\", \"Bob\", \"Alice\", \"Charlie\", \"Alice\"]:\n",
    "    api_counts[user] = api_counts.get(user, 0) + 1  # 🔥 No if-else needed!\n",
    "\n",
    "print(api_counts) \n"
   ],
   "outputs": [
    {
     "name": "stdout",
     "output_type": "stream",
     "text": [
      "{'Alice': 3, 'Bob': 1, 'Charlie': 1}\n"
     ]
    }
   ],
   "execution_count": 23
  },
  {
   "cell_type": "markdown",
   "metadata": {},
   "source": [
    "**Why?**\n",
    "\n",
    "* If user already exists, .get(user, 0) returns its count and increments it.\n",
    "* If user doesn’t exist, .get(user, 0) returns 0, so we start counting from 1.\n",
    "\n",
    "### Avoiding KeyErrors with .get()\n",
    "Imagine a dictionary storing configuration settings.\n",
    "\n",
    "❌ Without .get(), you risk errors:\n"
   ]
  },
  {
   "cell_type": "code",
   "metadata": {
    "ExecuteTime": {
     "end_time": "2025-10-29T02:31:10.588550Z",
     "start_time": "2025-10-29T02:31:10.558139Z"
    }
   },
   "source": [
    "config = {\"theme\": \"dark\", \"language\": \"English\"}\n",
    "\n",
    "print(config[\"theme\"])  # ✅ \"dark\"\n",
    "print(config[\"font_size\"])  # ❌ KeyError because \"font_size\" isn’t in the dictionary\n"
   ],
   "outputs": [
    {
     "name": "stdout",
     "output_type": "stream",
     "text": [
      "dark\n"
     ]
    },
    {
     "ename": "KeyError",
     "evalue": "'font_size'",
     "output_type": "error",
     "traceback": [
      "\u001B[0;31m---------------------------------------------------------------------------\u001B[0m",
      "\u001B[0;31mKeyError\u001B[0m                                  Traceback (most recent call last)",
      "Cell \u001B[0;32mIn[24], line 4\u001B[0m\n\u001B[1;32m      1\u001B[0m config \u001B[38;5;241m=\u001B[39m {\u001B[38;5;124m\"\u001B[39m\u001B[38;5;124mtheme\u001B[39m\u001B[38;5;124m\"\u001B[39m: \u001B[38;5;124m\"\u001B[39m\u001B[38;5;124mdark\u001B[39m\u001B[38;5;124m\"\u001B[39m, \u001B[38;5;124m\"\u001B[39m\u001B[38;5;124mlanguage\u001B[39m\u001B[38;5;124m\"\u001B[39m: \u001B[38;5;124m\"\u001B[39m\u001B[38;5;124mEnglish\u001B[39m\u001B[38;5;124m\"\u001B[39m}\n\u001B[1;32m      3\u001B[0m \u001B[38;5;28mprint\u001B[39m(config[\u001B[38;5;124m\"\u001B[39m\u001B[38;5;124mtheme\u001B[39m\u001B[38;5;124m\"\u001B[39m])  \u001B[38;5;66;03m# ✅ \"dark\"\u001B[39;00m\n\u001B[0;32m----> 4\u001B[0m \u001B[38;5;28mprint\u001B[39m(\u001B[43mconfig\u001B[49m\u001B[43m[\u001B[49m\u001B[38;5;124;43m\"\u001B[39;49m\u001B[38;5;124;43mfont_size\u001B[39;49m\u001B[38;5;124;43m\"\u001B[39;49m\u001B[43m]\u001B[49m)  \u001B[38;5;66;03m# ❌ KeyError because \"font_size\" isn’t in the dictionary\u001B[39;00m\n",
      "\u001B[0;31mKeyError\u001B[0m: 'font_size'"
     ]
    }
   ],
   "execution_count": 24
  },
  {
   "cell_type": "markdown",
   "metadata": {},
   "source": [
    "### ✅ Using .get() Prevents Crashes:"
   ]
  },
  {
   "cell_type": "code",
   "metadata": {
    "ExecuteTime": {
     "end_time": "2025-10-29T02:31:33.272453Z",
     "start_time": "2025-10-29T02:31:33.249930Z"
    }
   },
   "source": [
    "print(config.get(\"font_size\", 12))  # ✅ 12 (default value)\n"
   ],
   "outputs": [
    {
     "name": "stdout",
     "output_type": "stream",
     "text": [
      "12\n"
     ]
    }
   ],
   "execution_count": 25
  },
  {
   "cell_type": "markdown",
   "metadata": {},
   "source": [
    "### Using .get() for Nested Dictionaries\n",
    "Example: User Data in a Dictionary"
   ]
  },
  {
   "cell_type": "code",
   "metadata": {
    "ExecuteTime": {
     "end_time": "2025-10-29T02:31:34.661537Z",
     "start_time": "2025-10-29T02:31:34.649911Z"
    }
   },
   "source": [
    "user_profiles = {\n",
    "    \"Alice\": {\"age\": 25, \"location\": \"NY\"},\n",
    "    \"Bob\": {\"age\": 30}\n",
    "}\n",
    "\n",
    "# Without .get() (Risky)\n",
    "print(user_profiles[\"Alice\"][\"location\"])  # ✅ \"NY\"\n",
    "# print(user_profiles[\"Bob\"][\"location\"])  # ❌ KeyError\n",
    "\n",
    "# With .get() (Safe)\n",
    "print(user_profiles.get(\"Bob\", {}).get(\"location\", \"Unknown\"))  # ✅ \"Unknown\"\n"
   ],
   "outputs": [
    {
     "name": "stdout",
     "output_type": "stream",
     "text": [
      "NY\n",
      "Unknown\n"
     ]
    }
   ],
   "execution_count": 26
  },
  {
   "cell_type": "markdown",
   "metadata": {},
   "source": [
    "**Why?**\n",
    "\n",
    "* `.get(\"Bob\", {})` → Returns `{}` if \"Bob\" doesn’t exist, preventing an error.\n",
    "* `.get(\"location\", \"Unknown\")` → Returns \"Unknown\" if \"location\" is missing.\n",
    "\n",
    "\n",
    "### `.get()` vs. DefaultDict (Alternative Approach)\n",
    "* **If you're always using .get() to initialize missing keys, consider collections.defaultdict instead.**"
   ]
  },
  {
   "cell_type": "code",
   "metadata": {
    "ExecuteTime": {
     "end_time": "2025-10-29T02:31:36.068147Z",
     "start_time": "2025-10-29T02:31:36.057212Z"
    }
   },
   "source": [
    "from collections import defaultdict\n",
    "\n",
    "api_counts = defaultdict(int)  # Default value for missing keys is 0\n",
    "\n",
    "for user in [\"Alice\", \"Bob\", \"Alice\", \"Charlie\", \"Alice\"]:\n",
    "    api_counts[user] += 1  # No need for .get()\n",
    "\n",
    "print(api_counts)  # {'Alice': 3, 'Bob': 1, 'Charlie': 1}\n"
   ],
   "outputs": [
    {
     "name": "stdout",
     "output_type": "stream",
     "text": [
      "defaultdict(<class 'int'>, {'Alice': 3, 'Bob': 1, 'Charlie': 1})\n"
     ]
    }
   ],
   "execution_count": 27
  },
  {
   "cell_type": "markdown",
   "metadata": {},
   "source": [
    "#### Difference?\n",
    "\n",
    "* `dict.get()` → Manual way to handle missing keys.\n",
    "* defaultdict → Auto-creates missing keys with a default value.\n"
   ]
  },
  {
   "cell_type": "code",
   "metadata": {
    "ExecuteTime": {
     "end_time": "2025-10-29T02:31:37.669257Z",
     "start_time": "2025-10-29T02:31:37.620238Z"
    }
   },
   "source": [
    "api_calls = [\"Alice\", \"Bob\", \"Alice\", \"Charlie\", \"Alice\", \"Bob\", \"Charlie\", \"Charlie\"]\n",
    "\n",
    "# Count occurrences using .get()\n",
    "api_counts = {}\n",
    "\n",
    "for user in api_calls:\n",
    "    api_counts[user] = api_counts.get(user, 0) + 1\n",
    "\n",
    "print(api_counts)\n"
   ],
   "outputs": [
    {
     "name": "stdout",
     "output_type": "stream",
     "text": [
      "{'Alice': 3, 'Bob': 2, 'Charlie': 3}\n"
     ]
    }
   ],
   "execution_count": 28
  },
  {
   "metadata": {},
   "cell_type": "markdown",
   "source": [
    "## Find Missing Configurations\n",
    "You have a dictionary of **app settings**, but some keys might be missing. Use `get()` to ensure missing keys return a **default value**."
   ]
  },
  {
   "metadata": {
    "ExecuteTime": {
     "end_time": "2025-10-29T02:31:39.313847Z",
     "start_time": "2025-10-29T02:31:39.296988Z"
    }
   },
   "cell_type": "code",
   "source": [
    "config = {\"theme\": \"dark\", \"language\": \"English\"}\n",
    "\n",
    "# Get settings with defaults\n",
    "theme = config.get(\"theme\", \"light\")\n",
    "language = config.get(\"language\", \"English\")\n",
    "font_size = config.get(\"font_size\", 12)  # Default to 12\n",
    "notifications = config.get(\"notifications\", True)  # Default to True\n",
    "\n",
    "print(theme, language, font_size, notifications)\n"
   ],
   "outputs": [
    {
     "name": "stdout",
     "output_type": "stream",
     "text": [
      "dark English 12 True\n"
     ]
    }
   ],
   "execution_count": 29
  },
  {
   "metadata": {},
   "cell_type": "markdown",
   "source": [
    "## Find Most Common Word in a Log File\n",
    "A log file contains multiple words, and you need to find the most frequent word using `get()`."
   ]
  },
  {
   "metadata": {
    "ExecuteTime": {
     "end_time": "2025-10-29T02:31:40.785216Z",
     "start_time": "2025-10-29T02:31:40.777036Z"
    }
   },
   "cell_type": "code",
   "source": [
    "log_words = [\"error\", \"warning\", \"info\", \"error\", \"error\", \"warning\", \"info\", \"info\", \"error\"]\n",
    "\n",
    "word_counts = {}\n",
    "\n",
    "# Count occurrences using .get()\n",
    "for word in log_words:\n",
    "    word_counts[word] = word_counts.get(word, 0) + 1\n",
    "print(word_counts)\n",
    "# Find the most common word\n",
    "most_common_word = max(word_counts, key=word_counts.get)\n",
    "\n",
    "print(most_common_word)\n"
   ],
   "outputs": [
    {
     "name": "stdout",
     "output_type": "stream",
     "text": [
      "{'error': 4, 'warning': 2, 'info': 3}\n",
      "error\n"
     ]
    }
   ],
   "execution_count": 30
  },
  {
   "metadata": {},
   "cell_type": "markdown",
   "source": [
    "## Count Unique Categories of Purchases\n",
    "A dataset tracks customer purchases in different **product categories**. Use `get()` to count how many purchases were made in each category."
   ]
  },
  {
   "metadata": {
    "ExecuteTime": {
     "end_time": "2025-10-29T02:31:42.014011Z",
     "start_time": "2025-10-29T02:31:41.993547Z"
    }
   },
   "cell_type": "code",
   "source": [
    "purchases = [\n",
    "    (\"Alice\", \"Electronics\"), (\"Bob\", \"Clothing\"), (\"Alice\", \"Home\"),\n",
    "    (\"Charlie\", \"Clothing\"), (\"Bob\", \"Electronics\"), (\"Charlie\", \"Home\"),\n",
    "    (\"Alice\", \"Electronics\"), (\"Charlie\", \"Electronics\"), (\"Bob\", \"Clothing\")\n",
    "]\n",
    "\n",
    "category_counts = {}\n",
    "\n",
    "for _, category in purchases:\n",
    "    category_counts[category] = category_counts.get(category, 0) + 1\n",
    "\n",
    "print(category_counts)\n"
   ],
   "outputs": [
    {
     "name": "stdout",
     "output_type": "stream",
     "text": [
      "{'Electronics': 4, 'Clothing': 3, 'Home': 2}\n"
     ]
    }
   ],
   "execution_count": 31
  },
  {
   "metadata": {},
   "cell_type": "markdown",
   "source": [
    "## Detect Unauthorized Login Attempts\n",
    "A system logs **login attempts**, but only authorized users should log in. Use `get()` to count **attempts per user**, then find users who **aren’t authorized**."
   ]
  },
  {
   "metadata": {
    "ExecuteTime": {
     "end_time": "2025-10-29T02:31:43.349250Z",
     "start_time": "2025-10-29T02:31:43.331964Z"
    }
   },
   "cell_type": "code",
   "source": [
    "authorized_users = {\"Alice\", \"Bob\", \"Charlie\"}\n",
    "login_attempts = [\"Alice\", \"Bob\", \"Eve\", \"Frank\", \"Charlie\", \"Mallory\", \"David\"]\n",
    "\n",
    "# Dictionary to store counts\n",
    "login_counts = {}\n",
    "\n",
    "for user in login_attempts:\n",
    "    login_counts[user] = login_counts.get(user, 0) + 1\n",
    "print(login_counts)\n",
    "\n",
    "# Find unauthorized users\n",
    "unauthorized_attempts = {user: login_counts[user] for user in login_counts if user not in authorized_users}\n",
    "\n",
    "print(unauthorized_attempts)\n"
   ],
   "outputs": [
    {
     "name": "stdout",
     "output_type": "stream",
     "text": [
      "{'Alice': 1, 'Bob': 1, 'Eve': 1, 'Frank': 1, 'Charlie': 1, 'Mallory': 1, 'David': 1}\n",
      "{'Eve': 1, 'Frank': 1, 'Mallory': 1, 'David': 1}\n"
     ]
    }
   ],
   "execution_count": 32
  },
  {
   "metadata": {},
   "cell_type": "markdown",
   "source": [
    "## Challenge Problem: Find First Duplicate Using get()\n",
    "You have a list of numbers, and you want to find the *first number that appears twice* using `get()`."
   ]
  },
  {
   "metadata": {
    "ExecuteTime": {
     "end_time": "2025-10-29T02:31:44.399433Z",
     "start_time": "2025-10-29T02:31:44.390189Z"
    }
   },
   "cell_type": "code",
   "source": [
    "numbers = [4, 5, 6, 7, 5, 8, 9, 6]\n",
    "\n",
    "seen = {}\n",
    "\n",
    "for num in numbers:\n",
    "    seen[num] = seen.get(num, 0) + 1\n",
    "print(seen) # just to see the dict\n",
    "\n",
    "# Should print the first duplicate number\n",
    "for key, value in seen.items():\n",
    "    if value == 2:\n",
    "        print(key)\n",
    "        break\n"
   ],
   "outputs": [
    {
     "name": "stdout",
     "output_type": "stream",
     "text": [
      "{4: 1, 5: 2, 6: 2, 7: 1, 8: 1, 9: 1}\n",
      "5\n"
     ]
    }
   ],
   "execution_count": 33
  },
  {
   "metadata": {},
   "cell_type": "markdown",
   "source": "### While I did get a solution, there is a cleaner one:"
  },
  {
   "metadata": {
    "ExecuteTime": {
     "end_time": "2025-10-29T02:31:45.492809Z",
     "start_time": "2025-10-29T02:31:45.463848Z"
    }
   },
   "cell_type": "code",
   "source": [
    "numbers = [4, 5, 6, 7, 5, 8, 9, 6]\n",
    "\n",
    "seen = {}\n",
    "\n",
    "for num in numbers:\n",
    "    if seen.get(num, 0) == 1:  # If it's already in seen, it's a duplicate!\n",
    "        print(num)\n",
    "        break  # Stop as soon as we find the first duplicate\n",
    "    seen[num] = seen.get(num, 0) + 1  # Otherwise, count it\n"
   ],
   "outputs": [
    {
     "name": "stdout",
     "output_type": "stream",
     "text": [
      "5\n"
     ]
    }
   ],
   "execution_count": 34
  },
  {
   "metadata": {},
   "cell_type": "markdown",
   "source": [
    "## What is max(iterable, key=...)?\n",
    "The `max()` function finds the largest value in an iterable. But when we use key=..., we're telling Python **how to determine what \"largest\" means.**\n",
    "\n",
    "✅ Basic Example: Find the Longest Word"
   ]
  },
  {
   "metadata": {
    "ExecuteTime": {
     "end_time": "2025-10-29T02:31:46.835098Z",
     "start_time": "2025-10-29T02:31:46.766170Z"
    }
   },
   "cell_type": "code",
   "source": [
    "words = [\"apple\", \"banana\", \"cherry\", \"blueberry\"]\n",
    "\n",
    "longest_word = max(words, key=len)  # Finds the word with the longest length\n",
    "\n",
    "print(longest_word)  # ✅ \"blueberry\"\n"
   ],
   "outputs": [
    {
     "name": "stdout",
     "output_type": "stream",
     "text": [
      "blueberry\n"
     ]
    }
   ],
   "execution_count": 35
  },
  {
   "metadata": {},
   "cell_type": "markdown",
   "source": [
    "### What’s Happening?\n",
    "\n",
    "* `max()` **compares elements** using `key=len` (word length).\n",
    "* Instead of comparing **alphabetically**, it compares **by length**.\n"
   ]
  },
  {
   "metadata": {},
   "cell_type": "markdown",
   "source": [
    "## Using `max()` with Dictionaries\n",
    "You can't run `max()` directly on a dictionary because it doesn't know whether to compare `keys` or `values`.\n",
    "The `key=` argument **solves this problem**.\n",
    "\n",
    "### ✅ Find the Most Common Word in a Log File"
   ]
  },
  {
   "metadata": {
    "ExecuteTime": {
     "end_time": "2025-10-29T02:31:48.886533Z",
     "start_time": "2025-10-29T02:31:48.865247Z"
    }
   },
   "cell_type": "code",
   "source": [
    "word_counts = {\"error\": 4, \"warning\": 2, \"info\": 3}\n",
    "\n",
    "most_common_word = max(word_counts, key=word_counts.get)\n",
    "\n",
    "print(most_common_word)  # ✅ \"error\" (since 4 is the highest count)\n"
   ],
   "outputs": [
    {
     "name": "stdout",
     "output_type": "stream",
     "text": [
      "error\n"
     ]
    }
   ],
   "execution_count": 36
  },
  {
   "metadata": {},
   "cell_type": "markdown",
   "source": [
    "#### 💡 What’s Happening?\n",
    "\n",
    "* `word_counts.get` is used as the `key=`... function.\n",
    "* Python **compares values** (`4`, `2`, `3`) instead of keys (`\"error\"`, `\"warning\"`, `\"info\"`).\n",
    "* The word with the **highest count** is selected."
   ]
  },
  {
   "metadata": {},
   "cell_type": "markdown",
   "source": [
    "## Using `max()` to Find the Largest Transaction\n",
    "You have **bank transactions**, and you want to find **the largest one**."
   ]
  },
  {
   "metadata": {
    "ExecuteTime": {
     "end_time": "2025-10-29T02:31:50.741502Z",
     "start_time": "2025-10-29T02:31:50.734447Z"
    }
   },
   "cell_type": "code",
   "source": [
    "transactions = [\n",
    "    (\"Alice\", 500), (\"Bob\", 1200), (\"Charlie\", 750), (\"David\", 300)\n",
    "]\n",
    "\n",
    "largest_transaction = max(transactions, key=lambda x: x[1])\n",
    "\n",
    "print(largest_transaction)  # ✅ ('Bob', 1200)\n"
   ],
   "outputs": [
    {
     "name": "stdout",
     "output_type": "stream",
     "text": [
      "('Bob', 1200)\n"
     ]
    }
   ],
   "execution_count": 37
  },
  {
   "metadata": {},
   "cell_type": "markdown",
   "source": [
    "#### 💡 What’s Happening?\n",
    "\n",
    "* We **unpack tuples** and use `x[1]` (transaction amount) as the `key=`....\n",
    "* `max()` selects the tuple where `x[1]` is the highest."
   ]
  },
  {
   "metadata": {},
   "cell_type": "markdown",
   "source": "## Using max() to Find the Employee with the Highest Salary"
  },
  {
   "metadata": {
    "ExecuteTime": {
     "end_time": "2025-10-29T02:31:52.761878Z",
     "start_time": "2025-10-29T02:31:52.721702Z"
    }
   },
   "cell_type": "code",
   "source": [
    "salaries = {\n",
    "    \"Alice\": 70000,\n",
    "    \"Bob\": 85000,\n",
    "    \"Charlie\": 65000,\n",
    "    \"David\": 90000\n",
    "}\n",
    "\n",
    "highest_paid_employee = max(salaries, key=salaries.get)\n",
    "\n",
    "print(highest_paid_employee)  # ✅ \"David\"\n"
   ],
   "outputs": [
    {
     "name": "stdout",
     "output_type": "stream",
     "text": [
      "David\n"
     ]
    }
   ],
   "execution_count": 38
  },
  {
   "metadata": {},
   "cell_type": "markdown",
   "source": [
    "#### 💡 Why `salaries.get`?\n",
    "\n",
    "* `salaries.get(employee_name)` retrieves the salary value.\n",
    "* `max()` finds the employee with the **highest salary**."
   ]
  },
  {
   "metadata": {},
   "cell_type": "markdown",
   "source": [
    "## Using `max()` with Multiple Criteria\n",
    "* Sometimes, you need to **break ties** by comparing multiple things.\n",
    "* Imagine you're ranking players by **score**, but if scores are equal, the one with the **longest name** should win."
   ]
  },
  {
   "metadata": {
    "ExecuteTime": {
     "end_time": "2025-10-29T02:31:55.136439Z",
     "start_time": "2025-10-29T02:31:55.126785Z"
    }
   },
   "cell_type": "code",
   "source": [
    "players = [\n",
    "    (\"Alice\", 95), (\"Bob\", 95), (\"Charlie\", 90), (\"David\", 95)\n",
    "]\n",
    "\n",
    "best_player = max(players, key=lambda x: (x[1], len(x[0])))  # Compare score first, then name length\n",
    "\n",
    "print(best_player)  # ✅ (\"David\", 95) (same score as Alice & Bob, but longest name)\n"
   ],
   "outputs": [
    {
     "name": "stdout",
     "output_type": "stream",
     "text": [
      "('Alice', 95)\n"
     ]
    }
   ],
   "execution_count": 39
  },
  {
   "metadata": {},
   "cell_type": "markdown",
   "source": [
    "## 💡 What’s Happening?\n",
    "\n",
    "* `x[1]` → Sorts by **score** (first priority).\n",
    "* `len(x[0])` → Breaks ties by **longest name**."
   ]
  },
  {
   "metadata": {},
   "cell_type": "markdown",
   "source": [
    "## Using `max()` to Find the Most Frequent IP Address\n",
    "In **server logs**, we want to find which **IP address** appeared the most."
   ]
  },
  {
   "metadata": {
    "ExecuteTime": {
     "end_time": "2025-10-29T02:31:56.997570Z",
     "start_time": "2025-10-29T02:31:56.989907Z"
    }
   },
   "cell_type": "code",
   "source": [
    "ip_counts = {\n",
    "    \"192.168.1.1\": 15,\n",
    "    \"192.168.1.2\": 30,\n",
    "    \"192.168.1.3\": 25\n",
    "}\n",
    "\n",
    "most_frequent_ip = max(ip_counts, key=ip_counts.get)\n",
    "\n",
    "print(most_frequent_ip)  # ✅ \"192.168.1.2\" (30 accesses)\n"
   ],
   "outputs": [
    {
     "name": "stdout",
     "output_type": "stream",
     "text": [
      "192.168.1.2\n"
     ]
    }
   ],
   "execution_count": 40
  },
  {
   "metadata": {},
   "cell_type": "markdown",
   "source": [
    "#### 💡 Why Use `key=ip_counts.get`?\n",
    "\n",
    "`max()` will use **each IP’s count** as the sorting criterion."
   ]
  },
  {
   "metadata": {},
   "cell_type": "markdown",
   "source": [
    "### 🔥 Takeaways\n",
    "* ✅ `max()` with `key=...` **lets you control what \"maximum\" means.**\n",
    "* ✅ **Dictionaries require** `get()` (`max(d, key=d.get`)) to compare values instead of keys.\n",
    "* ✅ **Can compare by multiple conditions** (`key=lambda x: (x[1], x[2])`).\n",
    "* ✅ **Useful in real-world scenarios** like **logs, transactions, salaries, and rankings.**\n",
    "\n"
   ]
  },
  {
   "metadata": {},
   "cell_type": "markdown",
   "source": [
    "## 📝 PRACTICE PROBLEMS\n",
    "🚀 Try these out to lock it in:"
   ]
  },
  {
   "metadata": {},
   "cell_type": "markdown",
   "source": "### 🧩 1️⃣ Find the Oldest Person"
  },
  {
   "metadata": {
    "ExecuteTime": {
     "end_time": "2025-10-29T02:32:00.476248Z",
     "start_time": "2025-10-29T02:32:00.442702Z"
    }
   },
   "cell_type": "code",
   "source": [
    "people = {\n",
    "    \"Alice\": 32,\n",
    "    \"Bob\": 45,\n",
    "    \"Charlie\": 29,\n",
    "    \"David\": 40\n",
    "}\n",
    "\n",
    "# Find the oldest person using max()\n",
    "oldest_person =  max(people, key=people.get)\n",
    "\n",
    "print(oldest_person)\n"
   ],
   "outputs": [
    {
     "name": "stdout",
     "output_type": "stream",
     "text": [
      "Bob\n"
     ]
    }
   ],
   "execution_count": 41
  },
  {
   "metadata": {},
   "cell_type": "markdown",
   "source": "## 🧩 2️⃣ Find the Product with the Highest Price"
  },
  {
   "metadata": {
    "ExecuteTime": {
     "end_time": "2025-10-29T02:32:01.994289Z",
     "start_time": "2025-10-29T02:32:01.910326Z"
    }
   },
   "cell_type": "code",
   "source": [
    "products = [\n",
    "    (\"Laptop\", 1200),\n",
    "    (\"Phone\", 800),\n",
    "    (\"Tablet\", 600),\n",
    "    (\"Monitor\", 300)\n",
    "]\n",
    "\n",
    "# Find the most expensive product\n",
    "most_expensive = max(products, key=lambda x:x[1])\n",
    "\n",
    "print(most_expensive)\n"
   ],
   "outputs": [
    {
     "name": "stdout",
     "output_type": "stream",
     "text": [
      "('Laptop', 1200)\n"
     ]
    }
   ],
   "execution_count": 42
  },
  {
   "metadata": {},
   "cell_type": "markdown",
   "source": "### 🧩 3️⃣ Find the Most Common Character in a String"
  },
  {
   "metadata": {
    "ExecuteTime": {
     "end_time": "2025-10-29T02:32:03.702937Z",
     "start_time": "2025-10-29T02:32:03.659984Z"
    }
   },
   "cell_type": "code",
   "source": [
    "text = \"banana\"\n",
    "\n",
    "# Count occurrences of each character\n",
    "char_counts = {}\n",
    "\n",
    "for char in text:\n",
    "    char_counts[char] = char_counts.get(char, 0) + 1\n",
    "\n",
    "\n",
    "# Find the most common character using max()\n",
    "most_common_char = max(char_counts, key=char_counts.get)\n",
    "\n",
    "print(most_common_char)\n"
   ],
   "outputs": [
    {
     "name": "stdout",
     "output_type": "stream",
     "text": [
      "a\n"
     ]
    }
   ],
   "execution_count": 43
  },
  {
   "metadata": {},
   "cell_type": "markdown",
   "source": [
    "## Summary: Key takeaways\n",
    "- Sets give fast membership tests (average O(1)) and make differences/intersections easy.\n",
    "- Unpack tuples directly in `for` loops; with `enumerate()`, unpack `(index, value)`.\n",
    "- For lists of tuples, use `for i, (a, b) in enumerate(pairs)` to avoid mistakes.\n",
    "- `dict.get(key, default)` prevents `KeyError` and simplifies counting patterns.\n",
    "- `max(iterable, key=...)` lets you choose what “largest” means (e.g., by value, length, or multiple criteria).\n",
    "\n",
    "If anything is unclear, add a short comment above the code cell stating your goal (e.g., “Goal: find missing timestamps”).\n"
   ]
  }
 ],
 "metadata": {
  "kernelspec": {
   "display_name": "base",
   "language": "python",
   "name": "python3"
  },
  "language_info": {
   "codemirror_mode": {
    "name": "ipython",
    "version": 3
   },
   "file_extension": ".py",
   "mimetype": "text/x-python",
   "name": "python",
   "nbconvert_exporter": "python",
   "pygments_lexer": "ipython3",
   "version": "3.9.7"
  }
 },
 "nbformat": 4,
 "nbformat_minor": 2
}
