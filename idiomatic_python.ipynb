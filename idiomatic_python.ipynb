{
 "cells": [
  {
   "metadata": {},
   "cell_type": "markdown",
   "source": [
    "# Idiomatic Python Built-Ins\n",
    "Aight, let’s hit the lab and break these down so you can flex them in exams and teach you how to code like kings and queens. We’re keeping it Pythonic, smooth, and easy to grasp. Here's the breakdown of these <u>built-ins and idiomatic patterns</u>:\n",
    "\n",
    "### Note as well that some of these methods have imbedded 'keys' and other methods inside them\n",
    "# 🔍 Python Built-in Functions — Cheatsheet for Exams & Real-World Coding\n",
    "\n",
    "| Function       | Common Use                            | Accepts `key=`? | Use With `.items()`? | Notes / Gotchas |\n",
    "|----------------|----------------------------------------|------------------|-----------------------|------------------|\n",
    "| `sorted()`     | Sort elements (list, tuple, dict)     | ✅ Yes           | ✅ Yes                | `key=lambda x: ...` tells it *what* to sort by |\n",
    "| `max()`        | Find maximum value                    | ✅ Yes           | ✅ Yes                | Use `key=` to specify what to compare |\n",
    "| `min()`        | Find minimum value                    | ✅ Yes           | ✅ Yes                | Same deal as `max()` |\n",
    "| `sum()`        | Add values (usually numeric)          | ❌ No            | ✅ (with `.values()`) | Works best on list or dict `.values()` |\n",
    "| `all()`        | Check if **all** elements are `True`  | ❌ No            | ✅ (conditions or `.values()`) | Often used with conditions like `all(x > 0 for x in ...)` |\n",
    "| `any()`        | Check if **any** element is `True`    | ❌ No            | ✅ (conditions or `.values()`) | Same usage pattern as `all()` |\n",
    "| `zip()`        | Pair elements from multiple iterables | ❌ No            | ❌ No (but can zip `.keys()`, `.values()`) | Returns tuples; wrap with `list()` or `dict()` as needed |\n",
    "| `enumerate()`  | Loop with index + value               | ❌ No            | ❌ No                 | Returns `(index, value)` pairs; great in `for` loops |\n",
    "| `filter()`     | Filter items based on condition       | ✅ Yes (via `lambda`) | ✅ Yes (with `.items()` or list of dicts) | Returns filter object; cast to `list()` |\n",
    "| `map()`        | Apply function to all items           | ✅ Yes (via `lambda`) | ✅ Yes (with `.items()` or list of dicts) | Returns map object; cast to `list()` |\n",
    "| `reduce()`     | Reduce to a single value (e.g., sum)  | ✅ Sometimes     | ✅ Yes                | Import from `functools`; less common now |\n",
    "| `round()`      | Round numbers to given decimals       | ❌ No            | ❌ No                 | Use for math (not formatting); e.g., `round(x, 2)` |\n",
    "| `print()`      | Display results/output                | ❌ No            | ❌ No                 | Use f-strings for clean formatting |\n",
    "| `dict()`       | Create a dictionary                   | ❌ No            | ✅ Yes (with `zip()` or `.items()`) | Often used with `zip()` to pair two lists |\n",
    "\n",
    "---\n",
    "\n",
    "## 🔑 Dict Helper Methods\n",
    "\n",
    "- `dict.items()` → use when looping key **and** value\n",
    "- `dict.keys()` → get only the keys\n",
    "- `dict.values()` → get only the values\n",
    "\n",
    "---\n",
    "\n",
    "## 🧠 Display vs Math: Formatting Rules\n",
    "\n",
    "| Situation           | Use This             | Example                          |\n",
    "|---------------------|----------------------|----------------------------------|\n",
    "| Format for output   | `:.2f` in f-string   | `f\"${price:.2f}\"`                |\n",
    "| Round for math      | `round(x, 2)`        | `round(price * 1.08, 2)`         |\n",
    "| Sort/filter by part | `key=lambda x: ...` | `sorted(data, key=lambda x: x[1])` |\n",
    "\n",
    "---\n",
    "\n",
    "> 💬 **Pro Tip:** If you're working with a list of dictionaries (e.g., students with grades), use `.items()` for regular dicts, and plain list access (like `student[\"grade\"]`) for list of dicts.\n",
    "\n",
    "\n"
   ],
   "id": "9d70651af3ea2d72"
  },
  {
   "metadata": {},
   "cell_type": "markdown",
   "source": [
    "## 🔁 `zip():`\n",
    "Think of `zip` like bundling squad members into teams."
   ],
   "id": "c91e755f020284cb"
  },
  {
   "cell_type": "code",
   "id": "initial_id",
   "metadata": {
    "collapsed": true,
    "ExecuteTime": {
     "end_time": "2025-03-26T21:00:47.869493Z",
     "start_time": "2025-03-26T21:00:47.864094Z"
    }
   },
   "source": [
    "names = ['Chris', 'Jamal', 'Jennie']\n",
    "scores = [95, 88, 76]\n",
    "\n",
    "for name, score in zip(names, scores):\n",
    "    print(f\"{name} got {score} points\")"
   ],
   "outputs": [
    {
     "name": "stdout",
     "output_type": "stream",
     "text": [
      "Chris got 95 points\n",
      "Jamal got 88 points\n",
      "Jennie got 76 points\n"
     ]
    }
   ],
   "execution_count": 1
  },
  {
   "metadata": {},
   "cell_type": "markdown",
   "source": "**🎯 Use it to pair up two or more iterables element-by-element.**",
   "id": "f2784cad21788c7c"
  },
  {
   "metadata": {},
   "cell_type": "markdown",
   "source": [
    "## 🔢 enumerate():\n",
    "Instead of using an index counter like a rookie, `enumerate` gives you index and value on the fly."
   ],
   "id": "9e3f6df91f2337d8"
  },
  {
   "metadata": {
    "ExecuteTime": {
     "end_time": "2025-03-26T21:00:47.937085Z",
     "start_time": "2025-03-26T21:00:47.934514Z"
    }
   },
   "cell_type": "code",
   "source": [
    "squad = ['Tank', 'Maya', 'Kiki']\n",
    "\n",
    "for i, name in enumerate(squad, start=1):\n",
    "    print(f\"{i}. {name}\")\n"
   ],
   "id": "4859453fbbe19292",
   "outputs": [
    {
     "name": "stdout",
     "output_type": "stream",
     "text": [
      "1. Tank\n",
      "2. Maya\n",
      "3. Kiki\n"
     ]
    }
   ],
   "execution_count": 2
  },
  {
   "metadata": {},
   "cell_type": "markdown",
   "source": "**🎯 Cleaner than using `range(len(...))`. Makes you look pro.**",
   "id": "6025b8030047e3f5"
  },
  {
   "metadata": {},
   "cell_type": "markdown",
   "source": [
    "## 🔀 sorted() and reversed():\n",
    "You tryna sort data? `sorted()` returns a new list. `reversed()` flips it—like hitting reverse in a whip."
   ],
   "id": "4c18c8c26e1b6c2d"
  },
  {
   "metadata": {
    "ExecuteTime": {
     "end_time": "2025-03-26T21:00:49.770042Z",
     "start_time": "2025-03-26T21:00:49.767461Z"
    }
   },
   "cell_type": "code",
   "source": [
    "grades = [88, 92, 75]\n",
    "print(sorted(grades))\n",
    "print(list(reversed(grades)))\n"
   ],
   "id": "4eb59bf3584995c0",
   "outputs": [
    {
     "name": "stdout",
     "output_type": "stream",
     "text": [
      "[75, 88, 92]\n",
      "[75, 92, 88]\n"
     ]
    }
   ],
   "execution_count": 3
  },
  {
   "metadata": {},
   "cell_type": "markdown",
   "source": "**🎯 Remember: sorted() doesn't change the original, unless you assign it.**",
   "id": "46badb48df1a4145"
  },
  {
   "metadata": {},
   "cell_type": "markdown",
   "source": [
    "## `range()` and the trio:\n",
    "Used when looping through counts."
   ],
   "id": "14ee5f7b3133ec92"
  },
  {
   "metadata": {
    "ExecuteTime": {
     "end_time": "2025-03-26T21:00:51.698121Z",
     "start_time": "2025-03-26T21:00:51.695061Z"
    }
   },
   "cell_type": "code",
   "source": [
    "# range(stop)\n",
    "for i in range(5):\n",
    "    print(i, end=\", \") # 0 to 4\n",
    "print()\n",
    "# range(start, stop)\n",
    "for i in range(1, 6):\n",
    "    print(i, end=\"* \")  # 1 to 5\n",
    "print()\n",
    "# range(start, stop, step)\n",
    "for i in range(10, 0, -2):\n",
    "    print(i, end=\"# \")  # 10, 8, 6, 4, 2\n",
    "print()"
   ],
   "id": "db925d2ebcfee561",
   "outputs": [
    {
     "name": "stdout",
     "output_type": "stream",
     "text": [
      "0, 1, 2, 3, 4, \n",
      "1* 2* 3* 4* 5* \n",
      "10# 8# 6# 4# 2# \n"
     ]
    }
   ],
   "execution_count": 4
  },
  {
   "metadata": {},
   "cell_type": "markdown",
   "source": [
    "**🎯 Use range() like your loop tempo—set the pace of the grind.**\n",
    "\n",
    "## 🔝 `max()`, `min()`, `sum()`, `all()`, `any()`:"
   ],
   "id": "38732cd7b77c38f5"
  },
  {
   "metadata": {
    "ExecuteTime": {
     "end_time": "2025-03-26T21:00:52.958492Z",
     "start_time": "2025-03-26T21:00:52.955574Z"
    }
   },
   "cell_type": "code",
   "source": [
    "grades = [88, 92, 75, 100]\n",
    "\n",
    "print(max(grades))  # 100\n",
    "print(min(grades))  # 75\n",
    "print(sum(grades))  # 355\n",
    "\n",
    "# `all()` checks if all are True\n",
    "print(all(g > 70 for g in grades))  # True\n",
    "\n",
    "# `any()` checks if at least one is True\n",
    "print(any(g == 100 for g in grades))  # True\n"
   ],
   "id": "a842cba0995a906d",
   "outputs": [
    {
     "name": "stdout",
     "output_type": "stream",
     "text": [
      "100\n",
      "75\n",
      "355\n",
      "True\n",
      "True\n"
     ]
    }
   ],
   "execution_count": 5
  },
  {
   "metadata": {},
   "cell_type": "markdown",
   "source": "**🎯 These are like your squad checks—see who’s the strongest, weakest, or if everyone’s pulling their weight.**",
   "id": "ac199301fa6c5164"
  },
  {
   "metadata": {},
   "cell_type": "markdown",
   "source": [
    "## 🧠 `map()`, `filter()`, `reduce()` `(from functools)`:\n",
    "`map()`: apply a function to each item"
   ],
   "id": "2dbbbe24b806c031"
  },
  {
   "metadata": {
    "ExecuteTime": {
     "end_time": "2025-03-26T21:00:54.770622Z",
     "start_time": "2025-03-26T21:00:54.767750Z"
    }
   },
   "cell_type": "code",
   "source": [
    "nums = [1, 2, 3]\n",
    "squared = list(map(lambda x: x ** 2, nums)) # map applies the lambda function to each numer in the list\n",
    "print(squared)\n"
   ],
   "id": "4297339cbf2ae50d",
   "outputs": [
    {
     "name": "stdout",
     "output_type": "stream",
     "text": [
      "[1, 4, 9]\n"
     ]
    }
   ],
   "execution_count": 6
  },
  {
   "metadata": {},
   "cell_type": "markdown",
   "source": "## `filter()`: keep only what passes a test",
   "id": "8c74586016c78b"
  },
  {
   "metadata": {
    "ExecuteTime": {
     "end_time": "2025-03-26T21:00:55.844635Z",
     "start_time": "2025-03-26T21:00:55.841720Z"
    }
   },
   "cell_type": "code",
   "source": [
    "lst = [1, 2, 3, 4, 5, 6, 7]\n",
    "even = list(filter(lambda x: x % 2 == 0, lst))\n",
    "print(even)\n"
   ],
   "id": "549c7a7ef31cb520",
   "outputs": [
    {
     "name": "stdout",
     "output_type": "stream",
     "text": [
      "[2, 4, 6]\n"
     ]
    }
   ],
   "execution_count": 7
  },
  {
   "metadata": {},
   "cell_type": "markdown",
   "source": [
    "## `reduce()`: reduce it to one value\n",
    "Just remember: **you have to import functools to use `reduce()`**"
   ],
   "id": "3b74452bd921383d"
  },
  {
   "metadata": {
    "ExecuteTime": {
     "end_time": "2025-03-26T21:00:57.259484Z",
     "start_time": "2025-03-26T21:00:57.256962Z"
    }
   },
   "cell_type": "code",
   "source": [
    "from functools import reduce\n",
    "\n",
    "total = reduce(lambda x, y: x + y, lst)\n",
    "print(total)\n"
   ],
   "id": "b94678e60d6d036c",
   "outputs": [
    {
     "name": "stdout",
     "output_type": "stream",
     "text": [
      "28\n"
     ]
    }
   ],
   "execution_count": 8
  },
  {
   "metadata": {},
   "cell_type": "markdown",
   "source": "**🎯 These are like applying a rule across the block—either everyone gets squared, or only the even ones stay in the crew.**",
   "id": "94a5e62e1476d1fe"
  },
  {
   "metadata": {},
   "cell_type": "markdown",
   "source": [
    "## 🔥 lambda functions (anonymous hustlers):\n",
    "One-liners that do a job without needing a name."
   ],
   "id": "dab1c8adaec2580f"
  },
  {
   "metadata": {
    "ExecuteTime": {
     "end_time": "2025-03-26T21:00:58.573053Z",
     "start_time": "2025-03-26T21:00:58.570484Z"
    }
   },
   "cell_type": "code",
   "source": [
    "double = lambda x: x * 2\n",
    "print(double(4))  # 8"
   ],
   "id": "443ecccb35913f4b",
   "outputs": [
    {
     "name": "stdout",
     "output_type": "stream",
     "text": [
      "8\n"
     ]
    }
   ],
   "execution_count": 9
  },
  {
   "metadata": {},
   "cell_type": "markdown",
   "source": "Perfect when you don’t wanna waste time creating a full function.",
   "id": "e81e14998a9dfd5e"
  },
  {
   "metadata": {
    "ExecuteTime": {
     "end_time": "2025-03-26T21:01:00.167332Z",
     "start_time": "2025-03-26T21:01:00.164725Z"
    }
   },
   "cell_type": "code",
   "source": "print(list(map(lambda x: x + 1, [5, 6, 7])))",
   "id": "19568720642f2e26",
   "outputs": [
    {
     "name": "stdout",
     "output_type": "stream",
     "text": [
      "[6, 7, 8]\n"
     ]
    }
   ],
   "execution_count": 10
  },
  {
   "metadata": {},
   "cell_type": "markdown",
   "source": "**🎯 Keep it clean. Don't use lambdas where a regular function would be more readable.**",
   "id": "80eef87401c3a6d1"
  },
  {
   "metadata": {},
   "cell_type": "markdown",
   "source": [
    "## 💡 Pythonic Style Tip:\n",
    "Use **list comprehensions** *when* they’re more readable:"
   ],
   "id": "c9a664074b118201"
  },
  {
   "metadata": {
    "ExecuteTime": {
     "end_time": "2025-03-26T21:01:02.008648Z",
     "start_time": "2025-03-26T21:01:02.005679Z"
    }
   },
   "cell_type": "code",
   "source": [
    "# Instead of map\n",
    "squared = [x**2 for x in lst]\n",
    "print(squared)\n",
    "# Instead of filter\n",
    "evens = [x for x in lst if x % 2 == 0]\n",
    "print(evens)\n"
   ],
   "id": "4f168e795f28b1c5",
   "outputs": [
    {
     "name": "stdout",
     "output_type": "stream",
     "text": [
      "[1, 4, 9, 16, 25, 36, 49]\n",
      "[2, 4, 6]\n"
     ]
    }
   ],
   "execution_count": 11
  },
  {
   "metadata": {
    "ExecuteTime": {
     "end_time": "2025-03-26T21:01:02.796297Z",
     "start_time": "2025-03-26T21:01:02.793730Z"
    }
   },
   "cell_type": "code",
   "source": [
    "# Instead of map\n",
    "squared = [x**2 for x in lst]\n",
    "print(squared)\n",
    "\n",
    "# Instead of filter\n",
    "evens = [x for x in lst if x % 2 == 0]\n",
    "print(evens)"
   ],
   "id": "1f21a97cc31541c9",
   "outputs": [
    {
     "name": "stdout",
     "output_type": "stream",
     "text": [
      "[1, 4, 9, 16, 25, 36, 49]\n",
      "[2, 4, 6]\n"
     ]
    }
   ],
   "execution_count": 12
  },
  {
   "metadata": {},
   "cell_type": "markdown",
   "source": [
    "### You might notice: These functions that we've applied we've done on lists- which are *Iterables*- but you might ask what other kind of iterables can we perform these on? How?\n",
    "Boom. That's a sharp question right there. Respect. You’re on that higher-level flow now—asking how to take these built-ins and apply them when you’re working with dictionaries or other kinds of iterables, not just basic lists.\n",
    "\n",
    "#### Let’s get into it like we’re breaking down a beat:\n",
    "##### 🎒 Reminder: What's an iterable?\n",
    "An iterable is anything you can loop through—like lists, tuples, strings, sets, and yeah, dictionaries too (but dictionaries be slick—you gotta know how to pull the keys, values, or items out).\n",
    "\n",
    "\n",
    "\n"
   ],
   "id": "c5628cff434e8288"
  },
  {
   "metadata": {},
   "cell_type": "markdown",
   "source": [
    "## 🧩 zip() with dictionaries\n",
    "You can combine two dictionaries by zipping keys or values:"
   ],
   "id": "7dc9e054d369c09e"
  },
  {
   "metadata": {
    "ExecuteTime": {
     "end_time": "2025-03-26T21:01:04.991016Z",
     "start_time": "2025-03-26T21:01:04.988057Z"
    }
   },
   "cell_type": "code",
   "source": [
    "prices = {'apple': 1.5, 'banana': 0.99}\n",
    "quantities = {'apple': 4, 'banana': 6}\n",
    "\n",
    "for fruit, total in zip(prices.items(), quantities.values()):\n",
    "    print(fruit, total)\n"
   ],
   "id": "1c817c1ae171ae1e",
   "outputs": [
    {
     "name": "stdout",
     "output_type": "stream",
     "text": [
      "('apple', 1.5) 4\n",
      "('banana', 0.99) 6\n"
     ]
    }
   ],
   "execution_count": 13
  },
  {
   "metadata": {},
   "cell_type": "markdown",
   "source": "But if you want to keep keys **aligned**, go with:",
   "id": "49a4f5cf3cbf2171"
  },
  {
   "metadata": {
    "ExecuteTime": {
     "end_time": "2025-03-26T21:01:06.414775Z",
     "start_time": "2025-03-26T21:01:06.412400Z"
    }
   },
   "cell_type": "code",
   "source": [
    "for k in prices:\n",
    "    print(k, prices[k] * quantities[k])\n"
   ],
   "id": "f9058bf91539c35a",
   "outputs": [
    {
     "name": "stdout",
     "output_type": "stream",
     "text": [
      "apple 6.0\n",
      "banana 5.9399999999999995\n"
     ]
    }
   ],
   "execution_count": 14
  },
  {
   "metadata": {},
   "cell_type": "markdown",
   "source": "**🎯 Use `.keys()`, `.values()`, or `.items()` to get the pieces you need.**",
   "id": "1797e077e7f85b23"
  },
  {
   "metadata": {},
   "cell_type": "markdown",
   "source": [
    "## 🔢 `enumerate()` with dictionaries\n",
    "Not as common, but you can still use it on `.items()`:"
   ],
   "id": "a39bdde9dfbbfee4"
  },
  {
   "metadata": {
    "ExecuteTime": {
     "end_time": "2025-03-26T21:01:08.110728Z",
     "start_time": "2025-03-26T21:01:08.108042Z"
    }
   },
   "cell_type": "code",
   "source": [
    "d = {'cat': 3, 'dog': 5}\n",
    "\n",
    "for i, (k, v) in enumerate(d.items()):\n",
    "    print(f\"{i}: {k} has {v}\")\n"
   ],
   "id": "ebfe3db1bcbe2783",
   "outputs": [
    {
     "name": "stdout",
     "output_type": "stream",
     "text": [
      "0: cat has 3\n",
      "1: dog has 5\n"
     ]
    }
   ],
   "execution_count": 15
  },
  {
   "metadata": {},
   "cell_type": "markdown",
   "source": [
    "## 🔁 `sorted()` with dictionaries\n",
    "Sort by keys:"
   ],
   "id": "72189dc0572d1cf6"
  },
  {
   "metadata": {
    "ExecuteTime": {
     "end_time": "2025-03-26T21:01:08.972108Z",
     "start_time": "2025-03-26T21:01:08.969670Z"
    }
   },
   "cell_type": "code",
   "source": "print(sorted(d))\n",
   "id": "93af1b6d3d391383",
   "outputs": [
    {
     "name": "stdout",
     "output_type": "stream",
     "text": [
      "['cat', 'dog']\n"
     ]
    }
   ],
   "execution_count": 16
  },
  {
   "metadata": {},
   "cell_type": "markdown",
   "source": "Sort by values:",
   "id": "384535f9db37d59d"
  },
  {
   "metadata": {
    "ExecuteTime": {
     "end_time": "2025-03-26T21:01:10.056428Z",
     "start_time": "2025-03-26T21:01:10.052939Z"
    }
   },
   "cell_type": "code",
   "source": "print(sorted(d.items(), key=lambda item: item[1]))\n",
   "id": "3e8febf9f4923be0",
   "outputs": [
    {
     "name": "stdout",
     "output_type": "stream",
     "text": [
      "[('cat', 3), ('dog', 5)]\n"
     ]
    }
   ],
   "execution_count": 17
  },
  {
   "metadata": {},
   "cell_type": "markdown",
   "source": "You could flip that to a full dict again:",
   "id": "c5803d05e59a2463"
  },
  {
   "metadata": {
    "ExecuteTime": {
     "end_time": "2025-03-26T21:01:11.075476Z",
     "start_time": "2025-03-26T21:01:11.072875Z"
    }
   },
   "cell_type": "code",
   "source": [
    "sorted_dict = dict(sorted(d.items(), key=lambda item: item[1]))\n",
    "print(sorted_dict)\n"
   ],
   "id": "c7439e6a154377d6",
   "outputs": [
    {
     "name": "stdout",
     "output_type": "stream",
     "text": [
      "{'cat': 3, 'dog': 5}\n"
     ]
    }
   ],
   "execution_count": 18
  },
  {
   "metadata": {},
   "cell_type": "markdown",
   "source": [
    "## 📉 reversed() with dict\n",
    "You gotta first **convert it into a list of items:**"
   ],
   "id": "87af8936cbaee118"
  },
  {
   "metadata": {
    "ExecuteTime": {
     "end_time": "2025-03-26T21:01:11.857785Z",
     "start_time": "2025-03-26T21:01:11.855162Z"
    }
   },
   "cell_type": "code",
   "source": [
    "for k, v in reversed(list(d.items())):\n",
    "    print(k, v)\n"
   ],
   "id": "ef382592fe3049cf",
   "outputs": [
    {
     "name": "stdout",
     "output_type": "stream",
     "text": [
      "dog 5\n",
      "cat 3\n"
     ]
    }
   ],
   "execution_count": 19
  },
  {
   "metadata": {},
   "cell_type": "markdown",
   "source": "**💡 dict doesn't support direct reversal since it's not ordered in older versions of Python (pre-3.7).**",
   "id": "54324d223287bcd1"
  },
  {
   "metadata": {},
   "cell_type": "markdown",
   "source": "## 🔍 all(), any() on dict values",
   "id": "a979edbdc5b3cd13"
  },
  {
   "metadata": {
    "ExecuteTime": {
     "end_time": "2025-03-26T21:01:13.060283Z",
     "start_time": "2025-03-26T21:01:13.056256Z"
    }
   },
   "cell_type": "code",
   "source": [
    "scores = {'Jamal': 80, 'Maya': 95, 'Lee': 70}\n",
    "\n",
    "# Check if everybody passed\n",
    "print(all(score >= 70 for score in scores.values()))  # True\n",
    "\n",
    "# See if anyone got perfect\n",
    "print(any(score == 100 for score in scores.values()))  # False\n"
   ],
   "id": "c3257cde593cbb35",
   "outputs": [
    {
     "name": "stdout",
     "output_type": "stream",
     "text": [
      "True\n",
      "False\n"
     ]
    }
   ],
   "execution_count": 20
  },
  {
   "metadata": {},
   "cell_type": "markdown",
   "source": "## ➕ `sum()`, `max()`, etc.",
   "id": "8140416279eda1a0"
  },
  {
   "metadata": {
    "ExecuteTime": {
     "end_time": "2025-03-26T21:01:13.910601Z",
     "start_time": "2025-03-26T21:01:13.907908Z"
    }
   },
   "cell_type": "code",
   "source": [
    "print(sum(scores.values()))      # 245\n",
    "print(max(scores.values()))      # 95\n",
    "print(min(scores.keys()))        # 'Jamal' (alphabetical)\n"
   ],
   "id": "3f6f3e9c907783fe",
   "outputs": [
    {
     "name": "stdout",
     "output_type": "stream",
     "text": [
      "245\n",
      "95\n",
      "Jamal\n"
     ]
    }
   ],
   "execution_count": 21
  },
  {
   "metadata": {},
   "cell_type": "markdown",
   "source": "You can also combine:",
   "id": "fadefe83a2af6da6"
  },
  {
   "metadata": {
    "ExecuteTime": {
     "end_time": "2025-03-26T21:01:14.948016Z",
     "start_time": "2025-03-26T21:01:14.945639Z"
    }
   },
   "cell_type": "code",
   "source": [
    "top_student = max(scores.items(), key=lambda item: item[1])\n",
    "print(top_student)  # ('Maya', 95)\n"
   ],
   "id": "85eac5e63aa4cf68",
   "outputs": [
    {
     "name": "stdout",
     "output_type": "stream",
     "text": [
      "('Maya', 95)\n"
     ]
    }
   ],
   "execution_count": 22
  },
  {
   "metadata": {},
   "cell_type": "markdown",
   "source": [
    "## 🧠 `map()` & `filter()` with dicts\n",
    "Yo, when using `map()` or `filter()`, don’t forget to convert it back to a dict if needed:"
   ],
   "id": "787de11b20d8cb61"
  },
  {
   "metadata": {
    "ExecuteTime": {
     "end_time": "2025-03-26T21:01:16.096538Z",
     "start_time": "2025-03-26T21:01:16.093423Z"
    }
   },
   "cell_type": "code",
   "source": [
    "# Double each value\n",
    "doubled = dict(map(lambda item: (item[0], item[1] * 2), scores.items()))\n",
    "print(doubled)\n",
    "\n",
    "# Filter out folks with scores < 80\n",
    "passed = dict(filter(lambda item: item[1] >= 80, scores.items()))\n",
    "print(passed)\n"
   ],
   "id": "6c3d0cfdae26ab3d",
   "outputs": [
    {
     "name": "stdout",
     "output_type": "stream",
     "text": [
      "{'Jamal': 160, 'Maya': 190, 'Lee': 140}\n",
      "{'Jamal': 80, 'Maya': 95}\n"
     ]
    }
   ],
   "execution_count": 23
  },
  {
   "metadata": {},
   "cell_type": "markdown",
   "source": [
    "## 🔥 lambda with dictionaries\n",
    "These shine when sorting or transforming:"
   ],
   "id": "c899c698a8f33a07"
  },
  {
   "metadata": {
    "ExecuteTime": {
     "end_time": "2025-03-26T21:01:17.316795Z",
     "start_time": "2025-03-26T21:01:17.313975Z"
    }
   },
   "cell_type": "code",
   "source": [
    "# Sort by key length\n",
    "print(sorted(scores.items(), key=lambda x: len(x[0])))"
   ],
   "id": "b1f7b383c577747f",
   "outputs": [
    {
     "name": "stdout",
     "output_type": "stream",
     "text": [
      "[('Lee', 70), ('Maya', 95), ('Jamal', 80)]\n"
     ]
    }
   ],
   "execution_count": 24
  },
  {
   "metadata": {
    "ExecuteTime": {
     "end_time": "2025-03-26T21:01:18.256242Z",
     "start_time": "2025-03-26T21:01:18.253823Z"
    }
   },
   "cell_type": "code",
   "source": [
    "# Sort by value\n",
    "print(sorted(scores.items(), key=lambda x: x[1]))"
   ],
   "id": "843313d9d37599ec",
   "outputs": [
    {
     "name": "stdout",
     "output_type": "stream",
     "text": [
      "[('Lee', 70), ('Jamal', 80), ('Maya', 95)]\n"
     ]
    }
   ],
   "execution_count": 25
  },
  {
   "metadata": {},
   "cell_type": "markdown",
   "source": [
    "## 💡 Other iterables? Strings & sets?\n",
    "`map`, `filter`, `zip`, `enumerate`, `sorted` — all work with strings too.\n",
    "\n",
    "Sets are like wild animals—unordered, no duplicates. But you can still run most of these on them (you just gotta be okay with randomness in order)."
   ],
   "id": "6805af8a28019621"
  },
  {
   "metadata": {
    "ExecuteTime": {
     "end_time": "2025-03-26T21:01:19.449479Z",
     "start_time": "2025-03-26T21:01:19.446630Z"
    }
   },
   "cell_type": "code",
   "source": [
    "chars = 'python'\n",
    "print(list(map(str.upper, chars)))\n",
    "\n",
    "unique_nums = {5, 2, 9}\n",
    "print(sorted(unique_nums))\n"
   ],
   "id": "5f275ce6e882708",
   "outputs": [
    {
     "name": "stdout",
     "output_type": "stream",
     "text": [
      "['P', 'Y', 'T', 'H', 'O', 'N']\n",
      "[2, 5, 9]\n"
     ]
    }
   ],
   "execution_count": 26
  },
  {
   "metadata": {},
   "cell_type": "markdown",
   "source": [
    "## ✅ Real Talk:\n",
    "Built-ins are your day-one tools. They vibe with anything iterable—but dictionaries just require you to be intentional about what you’re looping through: keys, values, or items.\n",
    "\n"
   ],
   "id": "df9890166ea3e5a8"
  },
  {
   "metadata": {},
   "cell_type": "markdown",
   "source": [
    "# Problems\n",
    "\n",
    "## 🔥 Level 1: Warm-Up (Basic Built-ins)\n",
    "1. Zip It Up\n",
    "You’ve got two lists:\n",
    "👉 Make a list of strings like \"Chris got 85\", one for each name and score."
   ],
   "id": "b19c1a9f4b29d03e"
  },
  {
   "metadata": {
    "ExecuteTime": {
     "end_time": "2025-03-26T21:01:26.074432Z",
     "start_time": "2025-03-26T21:01:26.071577Z"
    }
   },
   "cell_type": "code",
   "source": [
    "names = ['Chris', 'Deja', 'Malik']\n",
    "scores = [85, 90, 78]\n",
    "for name, score in zip(names, scores):\n",
    "    print(f\"{name} got {score}\")\n"
   ],
   "id": "a5f249ef256e881d",
   "outputs": [
    {
     "name": "stdout",
     "output_type": "stream",
     "text": [
      "Chris got 85\n",
      "Deja got 90\n",
      "Malik got 78\n"
     ]
    }
   ],
   "execution_count": 27
  },
  {
   "metadata": {},
   "cell_type": "markdown",
   "source": [
    "### I'll go a little further and try to turn the list into a dictionary\n",
    "**one liner**:"
   ],
   "id": "f11ca36e42959bb0"
  },
  {
   "metadata": {
    "ExecuteTime": {
     "end_time": "2025-03-26T21:01:27.117643Z",
     "start_time": "2025-03-26T21:01:27.113377Z"
    }
   },
   "cell_type": "code",
   "source": [
    "d = dict(zip(names, scores))\n",
    "d"
   ],
   "id": "5d407ee87caf1281",
   "outputs": [
    {
     "data": {
      "text/plain": [
       "{'Chris': 85, 'Deja': 90, 'Malik': 78}"
      ]
     },
     "execution_count": 28,
     "metadata": {},
     "output_type": "execute_result"
    }
   ],
   "execution_count": 28
  },
  {
   "metadata": {},
   "cell_type": "markdown",
   "source": "or I could have done:",
   "id": "2fbee4a7090d258f"
  },
  {
   "metadata": {
    "ExecuteTime": {
     "end_time": "2025-03-26T21:01:32.700249Z",
     "start_time": "2025-03-26T21:01:32.696912Z"
    }
   },
   "cell_type": "code",
   "source": [
    "info = [f\"{name}: {score}\" for name, score in zip(names, scores)] # result: list of names:scores\n",
    "d = {item.split(\": \")[0]: int(item.split(\": \")[1]) for item in info}\n"
   ],
   "id": "56e3797027ed4ce4",
   "outputs": [],
   "execution_count": 29
  },
  {
   "metadata": {},
   "cell_type": "markdown",
   "source": [
    "## 2. Range Riddim\n",
    "Write a function that returns the sum of every third number between 1 and 100, starting at 3.\n",
    "\n"
   ],
   "id": "59493c02ebc913ea"
  },
  {
   "metadata": {
    "ExecuteTime": {
     "end_time": "2025-03-26T21:01:45.800032Z",
     "start_time": "2025-03-26T21:01:45.797108Z"
    }
   },
   "cell_type": "code",
   "source": [
    "total = 0\n",
    "for i in range(3, 101, 3):\n",
    "    total += i\n",
    "print(total)\n"
   ],
   "id": "642118628caf3f55",
   "outputs": [
    {
     "name": "stdout",
     "output_type": "stream",
     "text": [
      "1683\n"
     ]
    }
   ],
   "execution_count": 30
  },
  {
   "metadata": {},
   "cell_type": "markdown",
   "source": "#### or use the one-liner:",
   "id": "67063505b7bab8eb"
  },
  {
   "metadata": {
    "ExecuteTime": {
     "end_time": "2025-03-26T21:01:49.165499Z",
     "start_time": "2025-03-26T21:01:49.162193Z"
    }
   },
   "cell_type": "code",
   "source": "print(sum(range(3, 101, 3)))\n",
   "id": "48a98d94a131ad85",
   "outputs": [
    {
     "name": "stdout",
     "output_type": "stream",
     "text": [
      "1683\n"
     ]
    }
   ],
   "execution_count": 31
  },
  {
   "metadata": {},
   "cell_type": "markdown",
   "source": [
    "## 3. Enumerate Squad\n",
    "Print each item in the list below, but with its index starting at 1\n",
    "**don't iterate for index, object.... object is a built-in keyword in Python. It's the base class everything inherits from. Avoid built-in keywords!!!**"
   ],
   "id": "98afd853fe662e97"
  },
  {
   "metadata": {
    "ExecuteTime": {
     "end_time": "2025-03-26T21:01:50.554069Z",
     "start_time": "2025-03-26T21:01:50.550452Z"
    }
   },
   "cell_type": "code",
   "source": [
    "items = ['pen', 'notebook', 'laptop', 'charger']\n",
    "for idx, item in enumerate(items, start=1):\n",
    "    print(f\"{idx}. {item}\")\n"
   ],
   "id": "4d0f7e21721f4cfa",
   "outputs": [
    {
     "name": "stdout",
     "output_type": "stream",
     "text": [
      "1. pen\n",
      "2. notebook\n",
      "3. laptop\n",
      "4. charger\n"
     ]
    }
   ],
   "execution_count": 32
  },
  {
   "metadata": {},
   "cell_type": "markdown",
   "source": [
    "## 🔥 Level 2: Intermediate (Dictionaries & Aggregates)\n",
    "4. Dictionary Detective\n",
    "You’ve got this dictionary of test scores, *👉 Find the name(s) of the person with the highest score using max().*"
   ],
   "id": "1c9851ea51e090a"
  },
  {
   "metadata": {
    "ExecuteTime": {
     "end_time": "2025-03-26T21:01:53.941510Z",
     "start_time": "2025-03-26T21:01:53.938709Z"
    }
   },
   "cell_type": "code",
   "source": [
    "grades = {'Maya': 87, 'Tyrone': 94, 'Ali': 76, 'Latrell': 89}\n",
    "max(grades, key=grades.get)\n"
   ],
   "id": "6bb6b8b3e9259e56",
   "outputs": [
    {
     "data": {
      "text/plain": [
       "'Tyrone'"
      ]
     },
     "execution_count": 33,
     "metadata": {},
     "output_type": "execute_result"
    }
   ],
   "execution_count": 33
  },
  {
   "metadata": {},
   "cell_type": "markdown",
   "source": [
    "**Filter the Real Ones**\n",
    "\n",
    "Using the same grades dictionary, create a new dictionary that only contains people who scored 85 or higher."
   ],
   "id": "7de95e7aa52ab378"
  },
  {
   "metadata": {
    "ExecuteTime": {
     "end_time": "2025-03-26T21:01:55.220533Z",
     "start_time": "2025-03-26T21:01:55.216707Z"
    }
   },
   "cell_type": "code",
   "source": [
    "passed = dict(filter(lambda item: item[1]>85, grades.items()))\n",
    "print(passed)"
   ],
   "id": "c9db34e99a2b46f6",
   "outputs": [
    {
     "name": "stdout",
     "output_type": "stream",
     "text": [
      "{'Maya': 87, 'Tyrone': 94, 'Latrell': 89}\n"
     ]
    }
   ],
   "execution_count": 34
  },
  {
   "metadata": {},
   "cell_type": "markdown",
   "source": [
    "## 6. Total Up\n",
    "Using `sum()` and `.values()`, find the average score in the grades dictionary *(rounded to two decimal places)*."
   ],
   "id": "810c887bdea58fd1"
  },
  {
   "metadata": {
    "ExecuteTime": {
     "end_time": "2025-03-26T21:01:56.628766Z",
     "start_time": "2025-03-26T21:01:56.625967Z"
    }
   },
   "cell_type": "code",
   "source": "print(f\"{sum(grades.values()) / len(grades.values()):.2f}\")\n",
   "id": "ec3993086b30e090",
   "outputs": [
    {
     "name": "stdout",
     "output_type": "stream",
     "text": [
      "86.50\n"
     ]
    }
   ],
   "execution_count": 35
  },
  {
   "metadata": {},
   "cell_type": "markdown",
   "source": [
    "## 🔥 Level 3: Boss Level (Map, Lambda, Comprehension)\n",
    "### 7. Flip It & Boost It\n",
    "Given this list of prices:\n",
    "* 👉 Use `map()` and `lambda` to increase each price by 15%. Return the new prices rounded to 2 decimal places."
   ],
   "id": "3cc7b68b4e1ce7b4"
  },
  {
   "metadata": {
    "ExecuteTime": {
     "end_time": "2025-03-26T21:01:57.860037Z",
     "start_time": "2025-03-26T21:01:57.856390Z"
    }
   },
   "cell_type": "code",
   "source": [
    "prices = [10.50, 20.99, 5.99, 12.75]\n",
    "\n",
    "new_prices = list(map(lambda x: round(x * 1.15, 2), prices))\n",
    "\n",
    "print(new_prices)"
   ],
   "id": "a878a4b27a1dc18b",
   "outputs": [
    {
     "name": "stdout",
     "output_type": "stream",
     "text": [
      "[12.07, 24.14, 6.89, 14.66]\n"
     ]
    }
   ],
   "execution_count": 36
  },
  {
   "metadata": {},
   "cell_type": "markdown",
   "source": [
    "## Remember\n",
    "### 💡 Rule of Thumb:\n",
    "> Use round() when you're doing math.\n",
    ">\n",
    "> Use :.2f when you're doing display/formatting.\n",
    "\n",
    "### 🧮 Use round() when:\n",
    "You’re still gonna use the result later in more math, storage, comparisons, or return values.\n",
    "\n",
    "\n",
    "\n"
   ],
   "id": "bc6c5b16ff9bbcad"
  },
  {
   "metadata": {
    "ExecuteTime": {
     "end_time": "2025-03-26T21:01:59.140261Z",
     "start_time": "2025-03-26T21:01:59.136494Z"
    }
   },
   "cell_type": "code",
   "source": [
    "tax = 0.15\n",
    "price = 10.50\n",
    "new_price = round(price * (1 + tax), 2)\n",
    "\n",
    "# You can now use `new_price` in calculations\n"
   ],
   "id": "dcd98cd27ab77e62",
   "outputs": [],
   "execution_count": 37
  },
  {
   "metadata": {},
   "cell_type": "markdown",
   "source": [
    "* ✅ round() returns a **float** value\n",
    "* ❌ But it **won’t show trailing zeros** when printed unless formatted\n",
    "\n",
    "### 🖨️ Use :.2f when:\n",
    "You’re just tryna show the number, like in a print statement, receipt, report, label, etc.\n",
    "\n"
   ],
   "id": "fcc09916fcf2ec67"
  },
  {
   "metadata": {
    "ExecuteTime": {
     "end_time": "2025-03-26T21:02:00.434553Z",
     "start_time": "2025-03-26T21:02:00.431383Z"
    }
   },
   "cell_type": "code",
   "source": "print(f\"Total: ${new_price:.2f}\")\n",
   "id": "c57b5e9feca4b88e",
   "outputs": [
    {
     "name": "stdout",
     "output_type": "stream",
     "text": [
      "Total: $12.07\n"
     ]
    }
   ],
   "execution_count": 38
  },
  {
   "metadata": {},
   "cell_type": "markdown",
   "source": [
    "* ✅ Always shows 2 decimal places\n",
    "* ✅ Keeps the output looking clean and professional\n",
    "* ❌ Doesn’t change the actual value behind the scenes—just how it's shown\n",
    "\n",
    "#### ⚠️ Common Mistake:\n",
    "* Trying to use :.2f on something that's not a number or inside the wrong part of an f-string.\n",
    "\n",
    "❌ Wrong:\n",
    "```\n",
    "print(f\"list(map(lambda x: ..., prices)):.2f\")  # error\n",
    "\n",
    "```\n",
    "#### ✅ Right:\n",
    "* Format each number inside the list comprehension:\n",
    "`formatted = [f\"${p:.2f}\" for p in prices]\n",
    "`"
   ],
   "id": "4776d11dce89f508"
  },
  {
   "metadata": {},
   "cell_type": "markdown",
   "source": [
    "## 8. Who Got an A?\n",
    "Given this list:\n",
    "* 👉 Use `filter()` and `lambda` to return a list of names for students who scored 90 or higher.\n",
    "\n"
   ],
   "id": "b56d623b1a740032"
  },
  {
   "metadata": {
    "ExecuteTime": {
     "end_time": "2025-03-26T21:37:53.460094Z",
     "start_time": "2025-03-26T21:37:53.456777Z"
    }
   },
   "cell_type": "code",
   "source": [
    "students = [\n",
    "    {'name': 'Nia', 'grade': 92},\n",
    "    {'name': 'Darius', 'grade': 85},\n",
    "    {'name': 'Shay', 'grade': 77},\n",
    "    {'name': 'Tina', 'grade': 88}\n",
    "]\n",
    "\n",
    "\n",
    "honor_roll = list(filter(lambda student: student[\"grade\"] >= 90, students))\n",
    "print(honor_roll)\n"
   ],
   "id": "89ba14df1686cf79",
   "outputs": [
    {
     "name": "stdout",
     "output_type": "stream",
     "text": [
      "[{'name': 'Nia', 'grade': 92}]\n"
     ]
    }
   ],
   "execution_count": 47
  },
  {
   "metadata": {},
   "cell_type": "markdown",
   "source": [
    "Here you must remember that we have a **list** of dictionaries, *thus use list method*\n",
    "The combination of list and dictionary structure can be confusing and you may be temted to use a dictionary mathod like `students.items()`, or something to that effect. Don't get it twisted."
   ],
   "id": "1e9d6323235dda48"
  },
  {
   "metadata": {},
   "cell_type": "markdown",
   "source": [
    "## 9. Reversed Dict Order\n",
    "* You got this dictionary:\n",
    "* 👉 Print the key-value pairs in reverse chronological order (from newest launch to oldest)."
   ],
   "id": "1d729d5e4ac9fcb5"
  },
  {
   "metadata": {},
   "cell_type": "markdown",
   "source": [
    "### I'll show you how I got tripped up\n",
    "**❌ Wrong**\n"
   ],
   "id": "94412b79fc6a38dc"
  },
  {
   "metadata": {
    "ExecuteTime": {
     "end_time": "2025-03-26T22:01:13.745761Z",
     "start_time": "2025-03-26T22:01:13.743018Z"
    }
   },
   "cell_type": "code",
   "source": [
    "launches = {'Falcon9': 2020, 'SaturnV': 1969, 'Starship': 2023}\n",
    "for v in reversed(list(launches.values())):\n",
    "    print(v)\n"
   ],
   "id": "990bb1b5d336698d",
   "outputs": [
    {
     "name": "stdout",
     "output_type": "stream",
     "text": [
      "2023\n",
      "1969\n",
      "2020\n"
     ]
    }
   ],
   "execution_count": 51
  },
  {
   "metadata": {},
   "cell_type": "markdown",
   "source": [
    "### I got this one wrong\n",
    "You wanna see the **rocket names with the years**, in **reverse chronological order** (from newest launch to oldest), right?\n",
    "\n",
    "Let me walk you through it smooth."
   ],
   "id": "f3a34ef68181256a"
  },
  {
   "metadata": {},
   "cell_type": "markdown",
   "source": "### 🧠 What my code did:",
   "id": "abc469f29cd3eac4"
  },
  {
   "metadata": {
    "ExecuteTime": {
     "end_time": "2025-03-26T22:08:22.212387Z",
     "start_time": "2025-03-26T22:08:22.210048Z"
    }
   },
   "cell_type": "code",
   "source": [
    "for v in reversed(list(launches.values())):\n",
    "    print(v)\n"
   ],
   "id": "6bde81e9f6401357",
   "outputs": [
    {
     "name": "stdout",
     "output_type": "stream",
     "text": [
      "2023\n",
      "1969\n",
      "2020\n"
     ]
    }
   ],
   "execution_count": 52
  },
  {
   "metadata": {},
   "cell_type": "markdown",
   "source": [
    "What you really need to do:\n",
    "* Loop through the launches **dict sorted by year (value)**, from most recent to oldest.\n",
    "\n"
   ],
   "id": "bc1a83d2cb9d029f"
  },
  {
   "metadata": {
    "ExecuteTime": {
     "end_time": "2025-03-26T22:12:33.830612Z",
     "start_time": "2025-03-26T22:12:33.827666Z"
    }
   },
   "cell_type": "code",
   "source": [
    "launches = {'Falcon9': 2020, 'SaturnV': 1969, 'Starship': 2023}\n",
    "\n",
    "# Sort by launch year (value), in reverse (newest first)\n",
    "for rocket, year in sorted(launches.items(), key=lambda x: x[1], reverse=True):\n",
    "    print(f\"{rocket}: {year}\")\n"
   ],
   "id": "8048c819f080e89b",
   "outputs": [
    {
     "name": "stdout",
     "output_type": "stream",
     "text": [
      "Starship: 2023\n",
      "Falcon9: 2020\n",
      "SaturnV: 1969\n"
     ]
    }
   ],
   "execution_count": 53
  },
  {
   "metadata": {},
   "cell_type": "markdown",
   "source": [
    "### 💡 Breakdown:\n",
    "* `.items()` gets you (key, value) pairs\n",
    "\n",
    "* `key=lambda x: x[1]` tells Python to sort by the year\n",
    "\n",
    "* `reverse=True` flips it so newest launches come first\n",
    "\n",
    "so **sorted** was the key to this problem"
   ],
   "id": "5f79df2c4a49b57c"
  },
  {
   "metadata": {},
   "cell_type": "markdown",
   "source": [
    "## 🧩 PRACTICE DRILLS: Level-Up Pack\n",
    "### 🔁 DRILL 1: Zip and Dict It\n",
    "👉 Make a dictionary using zip, then print each product with a \"$\" in front of the price\n"
   ],
   "id": "19b2ceb754cc51fd"
  },
  {
   "metadata": {
    "ExecuteTime": {
     "end_time": "2025-03-26T22:24:01.475343Z",
     "start_time": "2025-03-26T22:24:01.472409Z"
    }
   },
   "cell_type": "code",
   "source": [
    "products = ['Soap', 'Shampoo', 'Toothpaste']\n",
    "prices = [2.50, 5.99, 3.75]\n",
    "\n",
    "for product, prices in zip(products, prices):\n",
    "    print(f\"{product} costs ${price}\")"
   ],
   "id": "6b240bd75356e673",
   "outputs": [
    {
     "name": "stdout",
     "output_type": "stream",
     "text": [
      "Soap costs $10.5\n",
      "Shampoo costs $10.5\n",
      "Toothpaste costs $10.5\n"
     ]
    }
   ],
   "execution_count": 54
  },
  {
   "metadata": {},
   "cell_type": "markdown",
   "source": [
    "## 🧠 DRILL 2: Enumerate & Format\n",
    "**expected output:**\n",
    "\n",
    "👉 Print a numbered list starting from 1:\n",
    "1. Laptop\n",
    "2. Mouse\n",
    "3. ... etc"
   ],
   "id": "cd270993a10bb51d"
  },
  {
   "metadata": {
    "ExecuteTime": {
     "end_time": "2025-03-26T22:30:53.073929Z",
     "start_time": "2025-03-26T22:30:53.071150Z"
    }
   },
   "cell_type": "code",
   "source": [
    "equipment = ['Laptop', 'Mouse', 'Keyboard', 'Monitor']\n",
    "\n",
    "for index, item in enumerate(equipment, start=1):\n",
    "    print(f\"{index}. {item}\")"
   ],
   "id": "f22276f2212323ac",
   "outputs": [
    {
     "name": "stdout",
     "output_type": "stream",
     "text": [
      "1. Laptop\n",
      "2. Mouse\n",
      "3. Keyboard\n",
      "4. Monitor\n"
     ]
    }
   ],
   "execution_count": 55
  },
  {
   "metadata": {},
   "cell_type": "markdown",
   "source": [
    "### 📊 DRILL 3: Filter with Lambda\n",
    "👉 Use filter and lambda to create a list of students who scored 80 or higher\n",
    "\n",
    "Then print just their names\n",
    "\n",
    "**first we know it's a list of dictionaries**"
   ],
   "id": "231a8b32c28d3f55"
  },
  {
   "metadata": {
    "ExecuteTime": {
     "end_time": "2025-03-26T23:00:30.792859Z",
     "start_time": "2025-03-26T23:00:30.789537Z"
    }
   },
   "cell_type": "code",
   "source": [
    "data = [\n",
    "    {'name': 'Rico', 'score': 75},\n",
    "    {'name': 'Jayda', 'score': 89},\n",
    "    {'name': 'Ty', 'score': 93},\n",
    "    {'name': 'Lena', 'score': 66}\n",
    "]\n",
    "\n",
    "high_scores = list(filter(lambda student: student[\"score\"]>=80, data))\n",
    "\n",
    "names = [student[\"name\"] for student in high_scores]\n",
    "\n",
    "print(names)"
   ],
   "id": "9e2b4749fd04ccdc",
   "outputs": [
    {
     "name": "stdout",
     "output_type": "stream",
     "text": [
      "['Jayda', 'Ty']\n"
     ]
    }
   ],
   "execution_count": 69
  },
  {
   "metadata": {},
   "cell_type": "markdown",
   "source": [
    "### 🧮 DRILL 4: Map and Round\n",
    "* 👉 Use map and lambda to increase each price by 10% and round to 2 decimal places\n",
    "    - Then print the new price list"
   ],
   "id": "dc0015adab67c1fb"
  },
  {
   "metadata": {
    "ExecuteTime": {
     "end_time": "2025-03-26T23:12:36.854953Z",
     "start_time": "2025-03-26T23:12:36.851569Z"
    }
   },
   "cell_type": "code",
   "source": [
    "prices = [10.99, 25.50, 6.35, 13.20]\n",
    "\n",
    "new_prices = list(map(lambda x: round(x* 1.10, 2), prices))\n",
    "print(new_prices)\n"
   ],
   "id": "8fbe03a0564fc94",
   "outputs": [
    {
     "name": "stdout",
     "output_type": "stream",
     "text": [
      "[12.09, 28.05, 6.99, 14.52]\n"
     ]
    }
   ],
   "execution_count": 73
  },
  {
   "metadata": {},
   "cell_type": "markdown",
   "source": [
    "### 🧠 DRILL 5: Sort a Dict by Value\n",
    "* 👉 Print each mission in order from newest to oldest launch"
   ],
   "id": "b0af096b0ede2411"
  },
  {
   "metadata": {
    "ExecuteTime": {
     "end_time": "2025-03-26T23:23:33.825570Z",
     "start_time": "2025-03-26T23:23:33.822276Z"
    }
   },
   "cell_type": "code",
   "source": [
    "launch_years = {'Apollo11': 1969, 'FalconHeavy': 2018, 'Starship': 2023, 'Skylab': 1973}\n",
    "\n",
    "for rocket, year in sorted(launch_years.items(), key=lambda x: x[1], reverse=True):\n",
    "    print(f\"{rocket}, {year}\")"
   ],
   "id": "6578a799cb23bf3d",
   "outputs": [
    {
     "name": "stdout",
     "output_type": "stream",
     "text": [
      "Starship, 2023\n",
      "FalconHeavy, 2018\n",
      "Skylab, 1973\n",
      "Apollo11, 1969\n"
     ]
    }
   ],
   "execution_count": 76
  },
  {
   "metadata": {},
   "cell_type": "markdown",
   "source": [
    "## 🧮 DRILL 6: All & Any on Dict Values\n",
    "👉 Check:\n",
    "* Did *everyone* score above 75?\n",
    "* Did *anyone* score a perfect 100?\n",
    "\n"
   ],
   "id": "40a4aadf1f6e5e6c"
  },
  {
   "metadata": {
    "ExecuteTime": {
     "end_time": "2025-03-27T19:50:46.520292Z",
     "start_time": "2025-03-27T19:50:46.517277Z"
    }
   },
   "cell_type": "code",
   "source": [
    "grades = {'Malik': 82, 'Zoe': 90, 'Kevin': 78, 'Ashley': 88}\n",
    "\n",
    "print(all(grade>75 for grade in grades.values()))\n",
    "print(any(grade == 100 for grade in grades.values()))\n"
   ],
   "id": "41985cbdf16bf129",
   "outputs": [
    {
     "name": "stdout",
     "output_type": "stream",
     "text": [
      "True\n",
      "False\n"
     ]
    }
   ],
   "execution_count": 81
  },
  {
   "metadata": {},
   "cell_type": "markdown",
   "source": [
    "## 💸 DRILL 7: Format Prices with formatting and Two Decimals\n",
    "* 👉 Print each item and its price like: \"notebook: $2.50\"\n",
    "\n"
   ],
   "id": "a8b935e019677e2c"
  },
  {
   "metadata": {
    "ExecuteTime": {
     "end_time": "2025-03-27T20:13:01.593958Z",
     "start_time": "2025-03-27T20:13:01.591299Z"
    }
   },
   "cell_type": "code",
   "source": [
    "items = {'notebook': 2.5, 'backpack': 35.0, 'pen': 0.99}\n",
    "items_lst = list(price for price in items.values())\n",
    "print(f\"${p:.2f}\" for p in items_lst)\n",
    "\n"
   ],
   "id": "2c5f711978e02e4f",
   "outputs": [
    {
     "name": "stdout",
     "output_type": "stream",
     "text": [
      "<generator object <genexpr> at 0x1222cdba0>\n"
     ]
    }
   ],
   "execution_count": 89
  },
  {
   "metadata": {},
   "cell_type": "markdown",
   "source": [
    "Ayy, you spotted one of the classic gotchas in Python right there. That <generator object ...> isn't an error—it's Python saying:\n",
    "\n",
    "> \"Yo, I got you a list of things... but I haven't actually done anything with it yet.\"\n",
    "\n",
    "You're running a generator expression, but you're not forcing it to evaluate and show the results.\n",
    "\n",
    "Let’s break it down and clean it up 🧼👇\n",
    "\n"
   ],
   "id": "9219e8b2ab398cd5"
  },
  {
   "metadata": {},
   "cell_type": "markdown",
   "source": [
    "This line:\n",
    "`print(f\"${p:.2f}\" for p in items_lst)`\n",
    "\n",
    "**Creates a generator, but `print()` doesn't know what to do with it unless you loop or convert it to a list.**\n",
    "### ✅ Fix: Wrap it in a list (or loop it)\n",
    "Option 1: Show as list"
   ],
   "id": "2e5ef3305e3917fa"
  },
  {
   "metadata": {
    "ExecuteTime": {
     "end_time": "2025-03-27T20:21:01.600465Z",
     "start_time": "2025-03-27T20:21:01.597990Z"
    }
   },
   "cell_type": "code",
   "source": [
    "formatted_prices = [f\"${p:.2f}\" for p in items_lst]\n",
    "print(formatted_prices)\n",
    "\n"
   ],
   "id": "9421eb77aee24c4a",
   "outputs": [
    {
     "name": "stdout",
     "output_type": "stream",
     "text": [
      "['$2.50', '$35.00', '$0.99']\n"
     ]
    }
   ],
   "execution_count": 92
  },
  {
   "metadata": {},
   "cell_type": "markdown",
   "source": "### Option 2: Print one by one in a loop",
   "id": "5e25188070f13f19"
  },
  {
   "metadata": {
    "ExecuteTime": {
     "end_time": "2025-03-27T20:22:20.917414Z",
     "start_time": "2025-03-27T20:22:20.914927Z"
    }
   },
   "cell_type": "code",
   "source": [
    "for p in items_lst:\n",
    "    print(f\"${p:.2f}\")\n"
   ],
   "id": "e33f918cde431b42",
   "outputs": [
    {
     "name": "stdout",
     "output_type": "stream",
     "text": [
      "$2.50\n",
      "$35.00\n",
      "$0.99\n"
     ]
    }
   ],
   "execution_count": 93
  },
  {
   "metadata": {},
   "cell_type": "markdown",
   "source": [
    "### 🔥 Bonus: Print item name with formatted price\n",
    "Let’s do it real classy for Drill 7:"
   ],
   "id": "dfe9d10b4aee349b"
  },
  {
   "metadata": {
    "ExecuteTime": {
     "end_time": "2025-03-27T20:24:22.199627Z",
     "start_time": "2025-03-27T20:24:22.196762Z"
    }
   },
   "cell_type": "code",
   "source": [
    "items = {'notebook': 2.5, 'backpack': 35.0, 'pen': 0.99}\n",
    "\n",
    "for name, price in items.items():\n",
    "    print(f\"{name}: ${price:.2f}\")\n"
   ],
   "id": "2536ee92f1418551",
   "outputs": [
    {
     "name": "stdout",
     "output_type": "stream",
     "text": [
      "notebook: $2.50\n",
      "backpack: $35.00\n",
      "pen: $0.99\n"
     ]
    }
   ],
   "execution_count": 94
  },
  {
   "metadata": {},
   "cell_type": "markdown",
   "source": [
    "## 🧠 DRILL 8: Bonus Challenge — Filter + Map Together\n",
    "👉 Use filter + map + lambda to return a list of names of students with grade >= 90\n"
   ],
   "id": "258ffb9c9ab17e75"
  },
  {
   "metadata": {
    "ExecuteTime": {
     "end_time": "2025-03-27T20:50:11.001467Z",
     "start_time": "2025-03-27T20:50:10.997895Z"
    }
   },
   "cell_type": "code",
   "source": [
    "students = [\n",
    "    {'name': 'Jaz', 'grade': 91},\n",
    "    {'name': 'Eli', 'grade': 72},\n",
    "    {'name': 'Keisha', 'grade': 95},\n",
    "    {'name': 'Omar', 'grade': 68}\n",
    "]\n",
    "high_scores = list(filter(lambda student: student[\"grade\"]>=90, students))\n",
    "print(high_scores)\n",
    "names = [student[\"name\"] for student in high_scores]\n",
    "print(names)\n"
   ],
   "id": "4b7a86c0584503ca",
   "outputs": [
    {
     "name": "stdout",
     "output_type": "stream",
     "text": [
      "[{'name': 'Jaz', 'grade': 91}, {'name': 'Keisha', 'grade': 95}]\n",
      "['Jaz', 'Keisha']\n"
     ]
    }
   ],
   "execution_count": 109
  },
  {
   "metadata": {},
   "cell_type": "markdown",
   "source": [
    "## 💥 Super Challenge: Dict of Top Students\n",
    "* Using the same students list from above, make a new dict where key=name and value=grade,\n",
    "* but ONLY for those with grade >= 90\n"
   ],
   "id": "f80e2d1cc70cf103"
  },
  {
   "metadata": {
    "ExecuteTime": {
     "end_time": "2025-03-27T20:53:52.837352Z",
     "start_time": "2025-03-27T20:53:52.834210Z"
    }
   },
   "cell_type": "code",
   "source": "{student[\"name\"]:student[\"grade\"] for student in high_scores}\n",
   "id": "3d6db8078c4afd8c",
   "outputs": [
    {
     "data": {
      "text/plain": [
       "{'Jaz': 91, 'Keisha': 95}"
      ]
     },
     "execution_count": 113,
     "metadata": {},
     "output_type": "execute_result"
    }
   ],
   "execution_count": 113
  },
  {
   "metadata": {},
   "cell_type": "code",
   "outputs": [],
   "execution_count": null,
   "source": "",
   "id": "f5e9c22f0a68e893"
  }
 ],
 "metadata": {
  "kernelspec": {
   "display_name": "Python 3",
   "language": "python",
   "name": "python3"
  },
  "language_info": {
   "codemirror_mode": {
    "name": "ipython",
    "version": 2
   },
   "file_extension": ".py",
   "mimetype": "text/x-python",
   "name": "python",
   "nbconvert_exporter": "python",
   "pygments_lexer": "ipython2",
   "version": "2.7.6"
  }
 },
 "nbformat": 4,
 "nbformat_minor": 5
}
