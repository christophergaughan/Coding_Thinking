{
 "cells": [
  {
   "metadata": {},
   "cell_type": "markdown",
   "source": [
    "# Idiomatic Python Built-Ins\n",
    "\n",
    "A comprehensive guide to Python's built-in functions and idiomatic patterns for coding interviews and real-world development.\n",
    "\n",
    "---\n",
    "\n",
    "## 📚 Overview\n",
    "\n",
    "This notebook covers:\n",
    "\n",
    "- **Built-in functions** (`sorted()`, `max()`, `min()`, `zip()`, `enumerate()`, etc.)\n",
    "- **Dictionary methods** (`.items()`, `.keys()`, `.values()`)\n",
    "- **Best practices** for interviews and production code\n",
    "- **Common patterns** and gotchas\n",
    "\n",
    "---\n",
    "\n",
    "## 🧭 Table of Contents\n",
    "\n",
    "- Overview\n",
    "- Built-in Functions Reference\n",
    "- zip()\n",
    "- enumerate()\n",
    "- sorted() vs .sort() and reversed()\n",
    "- range()\n",
    "- max(), min(), sum(), all(), any()\n",
    "- map(), filter(), reduce()\n",
    "- Comprehensions (list, set, dict)\n",
    "- Working with Dictionaries\n",
    "- Practice Problems\n",
    "- Summary\n",
    "\n",
    "---\n",
    "\n",
    "## 📖 Built-in Functions Reference\n",
    "\n",
    "| Function | Common Use | Accepts `key=`? | Use With `.items()`? | Notes / Gotchas |\n",
    "|----------|------------|-----------------|----------------------|-----------------|\n",
    "| `sorted()` | Sort elements (list, tuple, dict) | ✅ Yes | ✅ Yes | `key=lambda x: ...` tells it *what* to sort by |\n",
    "| `max()` | Find maximum value | ✅ Yes | ✅ Yes | Use `key=` to specify what to compare |\n",
    "| `min()` | Find minimum value | ✅ Yes | ✅ Yes | Same deal as `max()` |\n",
    "| `sum()` | Add values (usually numeric) | ❌ No | ✅ (with `.values()`) | Works best on list or dict `.values()` |\n",
    "| `all()` | Check if **all** elements are `True` | ❌ No | ✅ (conditions or `.values()`) | Often used with conditions |\n",
    "| `any()` | Check if **any** element is `True` | ❌ No | ✅ (conditions or `.values()`) | Same usage pattern as `all()` |\n",
    "| `zip()` | Pair elements from multiple iterables | ❌ No | ❌ No (but can zip `.keys()`, `.values()`) | Returns tuples |\n",
    "| `enumerate()` | Loop with index + value | ❌ No | ❌ No | Returns `(index, value)` pairs |\n",
    "| `filter()` | Filter items based on condition | ✅ Yes (via `lambda`) | ✅ Yes | Returns filter object; cast to `list()` |\n",
    "| `map()` | Apply function to all items | ✅ Yes (via `lambda`) | ✅ Yes | Returns map object; cast to `list()` |\n",
    "\n",
    "---\n",
    "\n",
    "## 🔑 Dictionary Helper Methods\n",
    "\n",
    "- **`dict.items()`** → use when looping key **and** value\n",
    "- **`dict.keys()`** → get only the keys\n",
    "- **`dict.values()`** → get only the values\n",
    "\n",
    "---\n",
    "\n",
    "## 🎨 Display vs Math: Formatting Rules\n",
    "\n",
    "| Situation | Use This | Example |\n",
    "|-----------|----------|---------|\n",
    "| Format for output | `:.2f` in f-string | `f\"${price:.2f}\"` |\n",
    "| Round for math | `round(x, 2)` | `round(price * 1.08, 2)` |\n",
    "| Sort/filter by part | `key=lambda x: ...` | `sorted(data, key=lambda x: x[1])` |\n",
    "\n",
    "---\n"
   ],
   "id": "d8bda75b2bb0c7c3"
  },
  {
   "metadata": {},
   "cell_type": "markdown",
   "source": [
    "## 🔁 `zip()` - Pair Multiple Iterables\n",
    "\n",
    "\n",
    "\n",
    "Think of `zip()` like bundling squad members into teams.\n",
    "\n",
    "\n",
    "\n",
    "**Use it to:** Pair up two or more iterables element-by-element.\n",
    "\n",
    "\n",
    "\n",
    "---"
   ],
   "id": "33fb37752ca5dec"
  },
  {
   "metadata": {
    "ExecuteTime": {
     "end_time": "2025-10-25T04:46:47.951364Z",
     "start_time": "2025-10-25T04:46:47.940771Z"
    }
   },
   "cell_type": "code",
   "source": [
    "names = ['Chris', 'Jamal', 'Jennie']\n",
    "\n",
    "scores = [95, 88, 76]\n",
    "\n",
    "\n",
    "\n",
    "for name, score in zip(names, scores):\n",
    "\n",
    "    print(f\"{name} got {score} points\")"
   ],
   "id": "884ec8fa6e7732d0",
   "outputs": [
    {
     "name": "stdout",
     "output_type": "stream",
     "text": [
      "Chris got 95 points\n",
      "Jamal got 88 points\n",
      "Jennie got 76 points\n"
     ]
    }
   ],
   "execution_count": 1
  },
  {
   "metadata": {
    "ExecuteTime": {
     "end_time": "2025-10-25T04:55:44.843967Z",
     "start_time": "2025-10-25T04:55:44.833931Z"
    }
   },
   "cell_type": "code",
   "source": [
    "# Additional zip() examples directly below\n",
    "cities = [\"Boston\", \"Seattle\", \"Austin\"]\n",
    "populations = [675_647, 749_256, 974_447]\n",
    "\n",
    "for city, pop in zip(cities, populations):\n",
    "    print(f\"{city:7}\\t-> population: {pop:,}\")\n",
    "\n",
    "# Build a dictionary from two lists\n",
    "city_pop = dict(zip(cities, populations))\n",
    "print(city_pop)\n",
    "\n",
    "# Unzip (reverse of zip)\n",
    "pairs = list(zip(cities, populations))\n",
    "restored_cities, restored_pops = zip(*pairs)\n",
    "print(restored_cities)\n",
    "print(restored_pops)\n",
    "\n",
    "# Handle uneven lengths with zip_longest\n",
    "from itertools import zip_longest\n",
    "\n",
    "names2 = [\"Chris\", \"Jamal\", \"Jennie\", \"Maya\"]\n",
    "scores2 = [95, 88, 76]\n",
    "\n",
    "for name, score in zip_longest(names2, scores2, fillvalue=\"N/A\"):\n",
    "    print(f\"{name:<6} -> {score}\")"
   ],
   "id": "62b3f6cbf67f4af1",
   "outputs": [
    {
     "name": "stdout",
     "output_type": "stream",
     "text": [
      "Boston \t-> population: 675,647\n",
      "Seattle\t-> population: 749,256\n",
      "Austin \t-> population: 974,447\n",
      "{'Boston': 675647, 'Seattle': 749256, 'Austin': 974447}\n",
      "('Boston', 'Seattle', 'Austin')\n",
      "(675647, 749256, 974447)\n",
      "Chris  -> 95\n",
      "Jamal  -> 88\n",
      "Jennie -> 76\n",
      "Maya   -> N/A\n"
     ]
    }
   ],
   "execution_count": 3
  },
  {
   "metadata": {},
   "cell_type": "markdown",
   "source": [
    "### Advanced `zip()` Patterns\n",
    "\n",
    "- Zip 3+ iterables\n",
    "- Transpose rows/columns with `zip(*matrix)`\n",
    "- Combine `enumerate()` + `zip()` to keep an index\n",
    "\n",
    "---"
   ],
   "id": "830ceb7fb5e4c048"
  },
  {
   "metadata": {
    "ExecuteTime": {
     "end_time": "2025-10-25T05:20:36.740633Z",
     "start_time": "2025-10-25T05:20:36.729418Z"
    }
   },
   "cell_type": "code",
   "source": [
    "# Zipping 3 lists\n",
    "months = [\"Jan\", \"Feb\", \"Mar\"]\n",
    "revenue = [12_000, 15_500, 13_200]\n",
    "profit = [3_000, 4_200, 3_100]\n",
    "for m, rev, prof in zip(months, revenue, profit):\n",
    "    print(f\"{m}: rev={rev:,} profit={prof:,}\")\n"
   ],
   "id": "e7176182c1d36345",
   "outputs": [
    {
     "name": "stdout",
     "output_type": "stream",
     "text": [
      "Jan: rev=12,000 profit=3,000\n",
      "Feb: rev=15,500 profit=4,200\n",
      "Mar: rev=13,200 profit=3,100\n"
     ]
    }
   ],
   "execution_count": 1
  },
  {
   "metadata": {
    "ExecuteTime": {
     "end_time": "2025-10-25T05:20:51.515711Z",
     "start_time": "2025-10-25T05:20:51.501891Z"
    }
   },
   "cell_type": "code",
   "source": [
    "# Transpose a matrix using zip(*)\n",
    "matrix = [\n",
    "    [1, 2, 3],\n",
    "    [4, 5, 6],\n",
    "]\n",
    "transposed = list(zip(*matrix))\n",
    "print(transposed)  # [(1, 4), (2, 5), (3, 6)]\n"
   ],
   "id": "ae95aa4906a72dd7",
   "outputs": [
    {
     "name": "stdout",
     "output_type": "stream",
     "text": [
      "[(1, 4), (2, 5), (3, 6)]\n"
     ]
    }
   ],
   "execution_count": 2
  },
  {
   "metadata": {
    "ExecuteTime": {
     "end_time": "2025-10-25T05:21:03.995477Z",
     "start_time": "2025-10-25T05:21:03.977171Z"
    }
   },
   "cell_type": "code",
   "source": [
    "# Keep position while zipping\n",
    "names = [\"Ana\", \"Bo\", \"Cy\"]\n",
    "scores = [90, 85, 93]\n",
    "for i, (n, s) in enumerate(zip(names, scores), start=1):\n",
    "    print(f\"{i:>2}) {n:<3} -> {s}\")\n"
   ],
   "id": "7cb46d560f71171f",
   "outputs": [
    {
     "name": "stdout",
     "output_type": "stream",
     "text": [
      " 1) Ana -> 90\n",
      " 2) Bo  -> 85\n",
      " 3) Cy  -> 93\n"
     ]
    }
   ],
   "execution_count": 3
  },
  {
   "metadata": {},
   "cell_type": "markdown",
   "source": [
    "---\n",
    "\n",
    "\n",
    "\n",
    "## 🔢 `enumerate()` - Loop with Index\n",
    "\n",
    "\n",
    "\n",
    "Instead of using an index counter manually, `enumerate()` gives you index and value on the fly.\n",
    "\n",
    "\n",
    "\n",
    "**Why use it:** Cleaner than using `range(len(...))`. Makes you look pro.\n",
    "\n",
    "\n",
    "\n",
    "---"
   ],
   "id": "18a742f529afe66a"
  },
  {
   "metadata": {},
   "cell_type": "markdown",
   "source": "<llm-snippet-file>idiomatic_python.ipynb</llm-snippet-file>\n",
   "id": "74b885d6b5e02f72"
  },
  {
   "metadata": {
    "ExecuteTime": {
     "end_time": "2025-10-21T05:35:35.846001Z",
     "start_time": "2025-10-21T05:35:35.834520Z"
    }
   },
   "cell_type": "code",
   "source": [
    "# Squad roster with descriptive numbering\n",
    "squad = ['Tank', 'Maya', 'Kiki']\n",
    "\n",
    "# Enumerate with 1-based indexing for clearer output\n",
    "for i, name in enumerate(squad, start=1):\n",
    "    print(f\"{i}. {name}\")\n"
   ],
   "id": "72cf3a4c0fcf8544",
   "outputs": [
    {
     "name": "stdout",
     "output_type": "stream",
     "text": [
      "1. Tank\n",
      "2. Maya\n",
      "3. Kiki\n"
     ]
    }
   ],
   "execution_count": 11
  },
  {
   "metadata": {},
   "cell_type": "markdown",
   "source": [
    "### More `enumerate()` Patterns\n",
    "\n",
    "- Start from 0 (default) vs custom start index\n",
    "- Enumerate over dictionaries with `.items()`\n",
    "- Keep index and value as a tuple for later use\n",
    "\n",
    "---"
   ],
   "id": "cad82f8dcadd1953"
  },
  {
   "metadata": {
    "ExecuteTime": {
     "end_time": "2025-10-25T05:21:15.455472Z",
     "start_time": "2025-10-25T05:21:15.444752Z"
    }
   },
   "cell_type": "code",
   "source": [
    "# Default start index (0)\n",
    "letters = [\"a\", \"b\", \"c\"]\n",
    "for idx, ch in enumerate(letters):\n",
    "    print(idx, ch)\n"
   ],
   "id": "19981b75071e635a",
   "outputs": [
    {
     "name": "stdout",
     "output_type": "stream",
     "text": [
      "0 a\n",
      "1 b\n",
      "2 c\n"
     ]
    }
   ],
   "execution_count": 4
  },
  {
   "metadata": {
    "ExecuteTime": {
     "end_time": "2025-10-25T05:21:22.073660Z",
     "start_time": "2025-10-25T05:21:22.059177Z"
    }
   },
   "cell_type": "code",
   "source": [
    "# Enumerating dicts: grab both key and value\n",
    "inventory = {\"apple\": 4, \"banana\": 6, \"pear\": 2}\n",
    "for i, (fruit, qty) in enumerate(inventory.items(), start=1):\n",
    "    print(f\"{i}) {fruit:<6} -> {qty}\")\n"
   ],
   "id": "f7a2b9174b88a940",
   "outputs": [
    {
     "name": "stdout",
     "output_type": "stream",
     "text": [
      "1) apple  -> 4\n",
      "2) banana -> 6\n",
      "3) pear   -> 2\n"
     ]
    }
   ],
   "execution_count": 5
  },
  {
   "metadata": {
    "ExecuteTime": {
     "end_time": "2025-10-25T05:21:36.148625Z",
     "start_time": "2025-10-25T05:21:36.144486Z"
    }
   },
   "cell_type": "code",
   "source": [
    "# Keep enumerated pairs for later processing\n",
    "indexed = list(enumerate([10, 20, 30], start=100))\n",
    "print(indexed)  # [(100, 10), (101, 20), (102, 30)]\n"
   ],
   "id": "744f47acf99198f",
   "outputs": [
    {
     "name": "stdout",
     "output_type": "stream",
     "text": [
      "[(100, 10), (101, 20), (102, 30)]\n"
     ]
    }
   ],
   "execution_count": 6
  },
  {
   "metadata": {},
   "cell_type": "markdown",
   "source": [
    "---\n",
    "\n",
    "\n",
    "\n",
    "## 🔀 `sorted()` and `reversed()`\n",
    "\n",
    "\n",
    "\n",
    "You trying to sort data? `sorted()` returns a new list. `reversed()` flips it.\n",
    "\n",
    "\n",
    "\n",
    "**Remember:** `sorted()` doesn't change the original, unless you assign it.\n",
    "\n",
    "\n",
    "\n",
    "---"
   ],
   "id": "30a162f004b5b6a9"
  },
  {
   "metadata": {
    "ExecuteTime": {
     "end_time": "2025-10-25T05:21:43.004460Z",
     "start_time": "2025-10-25T05:21:42.995885Z"
    }
   },
   "cell_type": "code",
   "source": [
    "grades = [88, 92, 75]\n",
    "\n",
    "print(\"Sorted:\", sorted(grades))\n",
    "\n",
    "print(\"Reversed:\", list(reversed(grades)))\n",
    "\n",
    "print(\"Original:\", grades)"
   ],
   "id": "54f7cb6f675b0d8e",
   "outputs": [
    {
     "name": "stdout",
     "output_type": "stream",
     "text": [
      "Sorted: [75, 88, 92]\n",
      "Reversed: [75, 92, 88]\n",
      "Original: [88, 92, 75]\n"
     ]
    }
   ],
   "execution_count": 7
  },
  {
   "metadata": {},
   "cell_type": "markdown",
   "source": [
    "### What Does `sorted()` Actually Do?\n",
    "\n",
    "\n",
    "\n",
    "`sorted()` is a built-in Python function that returns a **new sorted list** from any iterable.\n",
    "\n",
    "\n",
    "\n",
    "**Key point:** It does **not** modify the original data structure in place.\n",
    "\n",
    "\n",
    "\n",
    "---"
   ],
   "id": "60a66bae03c44c91"
  },
  {
   "metadata": {
    "ExecuteTime": {
     "end_time": "2025-10-21T05:30:35.743004Z",
     "start_time": "2025-10-21T05:30:35.738800Z"
    }
   },
   "cell_type": "code",
   "source": [
    "nums = [5, 2, 8, 1]\n",
    "\n",
    "result = sorted(nums)\n",
    "\n",
    "print(\"Result:\", result)  # [1, 2, 5, 8]\n",
    "\n",
    "print(\"Original:\", nums)  # [5, 2, 8, 1]  ← original unchanged"
   ],
   "id": "a4bf0cca51b008dd",
   "outputs": [
    {
     "name": "stdout",
     "output_type": "stream",
     "text": [
      "Result: [1, 2, 5, 8]\n",
      "Original: [5, 2, 8, 1]\n"
     ]
    }
   ],
   "execution_count": 4
  },
  {
   "metadata": {},
   "cell_type": "markdown",
   "source": [
    "### Modifying the Original\n",
    "\n",
    "\n",
    "\n",
    "If you want to modify the original list, **assign** the result back:\n",
    "\n",
    "\n",
    "\n",
    "---"
   ],
   "id": "4f3d530cc41937fa"
  },
  {
   "metadata": {
    "ExecuteTime": {
     "end_time": "2025-10-21T05:30:38.535052Z",
     "start_time": "2025-10-21T05:30:38.525026Z"
    }
   },
   "cell_type": "code",
   "source": [
    "nums = [5, 2, 8, 1]\n",
    "\n",
    "nums = sorted(nums)  # ✅ Now nums is updated\n",
    "\n",
    "print(nums)  # [1, 2, 5, 8]"
   ],
   "id": "524d4363ef497d8e",
   "outputs": [
    {
     "name": "stdout",
     "output_type": "stream",
     "text": [
      "[1, 2, 5, 8]\n"
     ]
    }
   ],
   "execution_count": 5
  },
  {
   "metadata": {},
   "cell_type": "markdown",
   "source": [
    "Or use `.sort()` method (which modifies in-place):\n",
    "\n",
    "\n",
    "\n",
    "---"
   ],
   "id": "eeabce5490332659"
  },
  {
   "metadata": {
    "ExecuteTime": {
     "end_time": "2025-10-21T05:30:43.004372Z",
     "start_time": "2025-10-21T05:30:42.996352Z"
    }
   },
   "cell_type": "code",
   "source": [
    "nums = [5, 2, 8, 1]\n",
    "\n",
    "nums.sort()  # ✅ Modifies nums directly\n",
    "\n",
    "print(nums)  # [1, 2, 5, 8]"
   ],
   "id": "d213cd61e971c94f",
   "outputs": [
    {
     "name": "stdout",
     "output_type": "stream",
     "text": [
      "[1, 2, 5, 8]\n"
     ]
    }
   ],
   "execution_count": 6
  },
  {
   "metadata": {},
   "cell_type": "markdown",
   "source": [
    "### Key Differences: `sorted()` vs `.sort()`\n",
    "\n",
    "| Feature                | `sorted()`                       | `.sort()`                        |\n",
    "|------------------------|----------------------------------|----------------------------------|\n",
    "| Returns                | New sorted list                  | `None` (modifies in place)       |\n",
    "| Works on               | Any iterable                     | Lists only                       |\n",
    "| Original unchanged?    | Yes                              | No                               |\n",
    "\n",
    "---\n",
    "\n",
    "### Use Cases\n",
    "\n",
    "**When to use `sorted()`:**\n",
    "- You want to keep the original data intact\n",
    "- You're sorting something that's not a list (like a string or dict keys)\n",
    "- You need a sorted copy for comparison\n",
    "\n",
    "**When to use `.sort()`:**\n",
    "- You want to save memory (no copy created)\n",
    "- You're working with a list and don't need the original order\n",
    "- You want to modify the list in place\n",
    "\n",
    "---\n"
   ],
   "id": "71fa0c6419fc66b7"
  },
  {
   "metadata": {},
   "cell_type": "markdown",
   "source": [
    "### Advanced: Sorting with `key=`\n",
    "\n",
    "\n",
    "\n",
    "Both `sorted()` and `.sort()` accept a `key` parameter for custom sorting:\n",
    "\n",
    "\n",
    "\n",
    "---"
   ],
   "id": "ad379514cb486edd"
  },
  {
   "metadata": {
    "ExecuteTime": {
     "end_time": "2025-10-25T05:22:09.253513Z",
     "start_time": "2025-10-25T05:22:09.234193Z"
    }
   },
   "cell_type": "code",
   "source": [
    "words = ['banana', 'pie', 'Washington', 'book']\n",
    "\n",
    "\n",
    "\n",
    "# Sort by length\n",
    "\n",
    "sorted_words = sorted(words, key=len)\n",
    "\n",
    "print(\"By length:\", sorted_words)\n",
    "\n",
    "\n",
    "\n",
    "# Sort dictionary by values\n",
    "\n",
    "scores = {'Alice': 85, 'Bob': 92, 'Charlie': 78}\n",
    "\n",
    "sorted_scores = sorted(scores.items(), key=lambda x: x[1])\n",
    "\n",
    "print(\"By value:\", sorted_scores)\n"
   ],
   "id": "acedd7b729fe62be",
   "outputs": [
    {
     "name": "stdout",
     "output_type": "stream",
     "text": [
      "By length: ['pie', 'book', 'banana', 'Washington']\n",
      "By value: [('Charlie', 78), ('Alice', 85), ('Bob', 92)]\n"
     ]
    }
   ],
   "execution_count": 8
  },
  {
   "metadata": {},
   "cell_type": "markdown",
   "source": [
    "#### More sorting tricks\n",
    "\n",
    "- Descending order: `reverse=True`\n",
    "- Sort by multiple keys: return a tuple from the key function\n",
    "- Sort a list of dicts by a specific field\n",
    "\n",
    "---"
   ],
   "id": "bb9f4cdf9020f631"
  },
  {
   "metadata": {},
   "cell_type": "code",
   "outputs": [],
   "execution_count": null,
   "source": [
    "nums = [3, 10, 7]\n",
    "print(sorted(nums, reverse=True))  # [10, 7, 3]\n"
   ],
   "id": "eaa8571952c326f7"
  },
  {
   "metadata": {},
   "cell_type": "code",
   "outputs": [],
   "execution_count": null,
   "source": [
    "# Multi-key: last name, then first name\n",
    "names = [\"Doe, Jane\", \"Adams, Amy\", \"Doe, John\", \"Adams, Zach\"]\n",
    "sorted_names = sorted(names, key=lambda s: (s.split(\", \")[0], s.split(\", \")[1]))\n",
    "print(sorted_names)\n"
   ],
   "id": "8f881cb60a4abb70"
  },
  {
   "metadata": {},
   "cell_type": "code",
   "outputs": [],
   "execution_count": null,
   "source": [
    "# List of dicts: sort by 'age', then by 'name'\n",
    "people = [\n",
    "    {\"name\": \"Zoe\", \"age\": 30},\n",
    "    {\"name\": \"Ana\", \"age\": 25},\n",
    "    {\"name\": \"Bob\", \"age\": 25},\n",
    "]\n",
    "print(sorted(people, key=lambda p: (p[\"age\"], p[\"name\"])))\n"
   ],
   "id": "22656fddbfe3bc63"
  },
  {
   "metadata": {},
   "cell_type": "markdown",
   "source": [
    "### Memory & Performance\n",
    "\n",
    "| Operation | Time Complexity | Space Complexity |\n",
    "|:--|:--:|:--:|\n",
    "| `sorted()` | O(n log n) | O(n) |\n",
    "| `.sort()` | O(n log n) | O(1) |\n",
    "\n",
    "`.sort()` is slightly more memory-efficient because it doesn't create a copy.\n",
    "\n",
    "\n",
    "\n",
    "---\n",
    "\n",
    "\n",
    "\n",
    "### 💡 Interview Tip\n",
    "\n",
    "\n",
    "\n",
    "> **\"When you see a problem that requires sorting, ask yourself: do I need to preserve the original order? If yes, use `sorted()`. If not, use `.sort()` to save memory.\"**\n",
    "\n",
    "\n",
    "\n",
    "---"
   ],
   "id": "962d11dc9688892"
  },
  {
   "metadata": {},
   "cell_type": "markdown",
   "source": [
    "### ⚠️ Common Mistake\n",
    "\n",
    "\n",
    "\n",
    "---"
   ],
   "id": "7e45077fe630433a"
  },
  {
   "metadata": {
    "ExecuteTime": {
     "end_time": "2025-10-21T05:38:14.438882Z",
     "start_time": "2025-10-21T05:38:14.433461Z"
    }
   },
   "cell_type": "code",
   "source": [
    "nums = [3, 1, 4]\n",
    "\n",
    "sorted(nums)  # ❌ Does nothing! Result not saved\n",
    "\n",
    "\n",
    "\n",
    "print(nums)   # [3, 1, 4] ← Still unsorted"
   ],
   "id": "7cff6c25348d350b",
   "outputs": [
    {
     "name": "stdout",
     "output_type": "stream",
     "text": [
      "[3, 1, 4]\n"
     ]
    }
   ],
   "execution_count": 13
  },
  {
   "metadata": {},
   "cell_type": "markdown",
   "source": [
    "**Fix:**\n",
    "\n",
    "\n",
    "\n",
    "---"
   ],
   "id": "9e5f5576c78e5221"
  },
  {
   "metadata": {
    "ExecuteTime": {
     "end_time": "2025-10-21T05:38:24.414755Z",
     "start_time": "2025-10-21T05:38:24.403793Z"
    }
   },
   "cell_type": "code",
   "source": [
    "nums = [3, 1, 4]\n",
    "\n",
    "nums = sorted(nums)  # ✅ Now it works\n",
    "\n",
    "print(nums)          # [1, 3, 4]"
   ],
   "id": "aeea85f2354f4d7",
   "outputs": [
    {
     "name": "stdout",
     "output_type": "stream",
     "text": [
      "[1, 3, 4]\n"
     ]
    }
   ],
   "execution_count": 14
  },
  {
   "metadata": {},
   "cell_type": "markdown",
   "source": [
    "---\n",
    "\n",
    "\n",
    "\n",
    "## 🔢 `range()` - The Loop Controller\n",
    "\n",
    "\n",
    "\n",
    "Used when looping through counts.\n",
    "\n",
    "\n",
    "\n",
    "---"
   ],
   "id": "415371b33ee0e40a"
  },
  {
   "metadata": {
    "ExecuteTime": {
     "end_time": "2025-10-25T05:23:08.703738Z",
     "start_time": "2025-10-25T05:23:08.694017Z"
    }
   },
   "cell_type": "code",
   "source": [
    "# range(stop)\n",
    "\n",
    "for i in range(5):\n",
    "\n",
    "    print(i, end=\", \")  # 0 to 4\n",
    "\n",
    "print()\n",
    "\n",
    "\n",
    "\n",
    "# range(start, stop)\n",
    "\n",
    "for i in range(1, 6):\n",
    "\n",
    "    print(i, end=\"* \")  # 1 to 5\n",
    "\n",
    "print()\n",
    "\n",
    "\n",
    "\n",
    "# range(start, stop, step)\n",
    "\n",
    "for i in range(10, 0, -2):\n",
    "\n",
    "    print(i, end=\"# \")  # 10, 8, 6, 4, 2\n",
    "\n",
    "print()\n"
   ],
   "id": "96bf3412651db3d2",
   "outputs": [
    {
     "name": "stdout",
     "output_type": "stream",
     "text": [
      "0, 1, 2, 3, 4, \n",
      "1* 2* 3* 4* 5* \n",
      "10# 8# 6# 4# 2# \n"
     ]
    }
   ],
   "execution_count": 9
  },
  {
   "metadata": {},
   "cell_type": "markdown",
   "source": [
    "#### More `range()` patterns\n",
    "\n",
    "- Materialize to a list: `list(range(...))` when you need indexing/slicing\n",
    "- Negative steps for countdowns\n",
    "- Generate indices to pair with data\n",
    "\n",
    "---"
   ],
   "id": "50a3c609d4dd0d4b"
  },
  {
   "metadata": {
    "ExecuteTime": {
     "end_time": "2025-10-25T05:23:22.581843Z",
     "start_time": "2025-10-25T05:23:22.572815Z"
    }
   },
   "cell_type": "code",
   "source": [
    "# Build a list quickly\n",
    "steps = list(range(0, 21, 5))\n",
    "print(steps)  # [0, 5, 10, 15, 20]\n"
   ],
   "id": "cba77df3ff599dc",
   "outputs": [
    {
     "name": "stdout",
     "output_type": "stream",
     "text": [
      "[0, 5, 10, 15, 20]\n"
     ]
    }
   ],
   "execution_count": 10
  },
  {
   "metadata": {
    "ExecuteTime": {
     "end_time": "2025-10-25T05:23:28.971204Z",
     "start_time": "2025-10-25T05:23:28.963543Z"
    }
   },
   "cell_type": "code",
   "source": [
    "# Countdown with formatting\n",
    "for t in range(5, 0, -1):\n",
    "    print(f\"T-{t}\")\n",
    "print(\"Liftoff!\")\n"
   ],
   "id": "ba2df3ca2d7b405c",
   "outputs": [
    {
     "name": "stdout",
     "output_type": "stream",
     "text": [
      "T-5\n",
      "T-4\n",
      "T-3\n",
      "T-2\n",
      "T-1\n",
      "Liftoff!\n"
     ]
    }
   ],
   "execution_count": 11
  },
  {
   "metadata": {
    "ExecuteTime": {
     "end_time": "2025-10-25T05:23:37.686980Z",
     "start_time": "2025-10-25T05:23:37.675460Z"
    }
   },
   "cell_type": "code",
   "source": [
    "# Indices for a list\n",
    "data = [10, 20, 30]\n",
    "for i in range(len(data)):\n",
    "    print(i, data[i])\n",
    "\n",
    "# Prefer enumerate when you also need values\n"
   ],
   "id": "b9cc6b28d004d901",
   "outputs": [
    {
     "name": "stdout",
     "output_type": "stream",
     "text": [
      "0 10\n",
      "1 20\n",
      "2 30\n"
     ]
    }
   ],
   "execution_count": 12
  },
  {
   "metadata": {},
   "cell_type": "markdown",
   "source": [
    "---\n",
    "\n",
    "\n",
    "\n",
    "## 🔝 `max()`, `min()`, `sum()`, `all()`, `any()`\n",
    "\n",
    "\n",
    "\n",
    "---"
   ],
   "id": "35030b394369b41a"
  },
  {
   "metadata": {
    "ExecuteTime": {
     "end_time": "2025-10-25T05:23:51.161203Z",
     "start_time": "2025-10-25T05:23:51.152369Z"
    }
   },
   "cell_type": "code",
   "source": [
    "grades = [88, 92, 75, 100]\n",
    "\n",
    "\n",
    "\n",
    "print(\"Max:\", max(grades))    # 100\n",
    "\n",
    "print(\"Min:\", min(grades))    # 75\n",
    "\n",
    "print(\"Sum:\", sum(grades))    # 355\n",
    "\n",
    "\n",
    "\n",
    "# all() checks if all are True\n",
    "\n",
    "print(\"All > 70:\", all(g > 70 for g in grades))  # True\n",
    "\n",
    "\n",
    "\n",
    "# any() checks if at least one is True\n",
    "\n",
    "print(\"Any == 100:\", any(g == 100 for g in grades))  # True\n"
   ],
   "id": "e328fba704e9d83b",
   "outputs": [
    {
     "name": "stdout",
     "output_type": "stream",
     "text": [
      "Max: 100\n",
      "Min: 75\n",
      "Sum: 355\n",
      "All > 70: True\n",
      "Any == 100: True\n"
     ]
    }
   ],
   "execution_count": 13
  },
  {
   "metadata": {},
   "cell_type": "markdown",
   "source": [
    "#### `key=` and `default=` tips\n",
    "\n",
    "- `max()`/`min()` support `key=` just like `sorted()`\n",
    "- Safe on empty iterables with `default=`\n",
    "\n",
    "---"
   ],
   "id": "18e9ea3cbbbf5925"
  },
  {
   "metadata": {},
   "cell_type": "code",
   "outputs": [],
   "execution_count": null,
   "source": [
    "players = [\n",
    "    {\"name\": \"Ana\", \"score\": 91},\n",
    "    {\"name\": \"Bo\", \"score\": 88},\n",
    "    {\"name\": \"Cy\", \"score\": 95},\n",
    "]\n",
    "# Highest score by 'score' field\n",
    "best = max(players, key=lambda p: p[\"score\"])  # {'name': 'Cy', 'score': 95}\n",
    "print(best)\n"
   ],
   "id": "dd7d3b68b4633702"
  },
  {
   "metadata": {},
   "cell_type": "code",
   "outputs": [],
   "execution_count": null,
   "source": [
    "# Safe defaults on empty data\n",
    "empty = []\n",
    "print(min(empty, default=None))  # None\n",
    "print(max(empty, default=\"no-data\"))  # 'no-data'\n"
   ],
   "id": "c8bf9c604ac96e47"
  },
  {
   "metadata": {},
   "cell_type": "markdown",
   "source": [
    "---\n",
    "\n",
    "\n",
    "\n",
    "## 🧠 `map()`, `filter()`, `reduce()`\n",
    "\n",
    "\n",
    "\n",
    "- **`map()`**: Apply a function to each item\n",
    "\n",
    "- **`filter()`**: Keep only items that pass a test\n",
    "\n",
    "- **`reduce()`**: Reduce to a single value (requires `from functools import reduce`)\n",
    "\n",
    "\n",
    "\n",
    "---"
   ],
   "id": "9052fa3488ec50c4"
  },
  {
   "metadata": {
    "ExecuteTime": {
     "end_time": "2025-10-21T05:38:30.893585Z",
     "start_time": "2025-10-21T05:38:30.886594Z"
    }
   },
   "cell_type": "code",
   "source": [
    "nums = [1, 2, 3]\n",
    "\n",
    "\n",
    "\n",
    "# map: apply lambda to each number\n",
    "\n",
    "squared = list(map(lambda x: x ** 2, nums))\n",
    "\n",
    "print(\"Squared:\", squared)"
   ],
   "id": "92f236c6a60f8c24",
   "outputs": [
    {
     "name": "stdout",
     "output_type": "stream",
     "text": [
      "Squared: [1, 4, 9]\n"
     ]
    }
   ],
   "execution_count": 17
  },
  {
   "metadata": {},
   "cell_type": "markdown",
   "source": [
    "### `filter()`: Keep Only What Passes\n",
    "\n",
    "\n",
    "\n",
    "---"
   ],
   "id": "cf8c9cdc0c019dd8"
  },
  {
   "metadata": {
    "ExecuteTime": {
     "end_time": "2025-10-21T05:38:32.826679Z",
     "start_time": "2025-10-21T05:38:32.821021Z"
    }
   },
   "cell_type": "code",
   "source": [
    "lst = [1, 2, 3, 4, 5, 6, 7]\n",
    "\n",
    "even = list(filter(lambda x: x % 2 == 0, lst))\n",
    "\n",
    "print(\"Even:\", even)"
   ],
   "id": "4322fa444c31d471",
   "outputs": [
    {
     "name": "stdout",
     "output_type": "stream",
     "text": [
      "Even: [2, 4, 6]\n"
     ]
    }
   ],
   "execution_count": 18
  },
  {
   "metadata": {},
   "cell_type": "markdown",
   "source": [
    "### `reduce()`: Reduce to One Value\n",
    "\n",
    "\n",
    "\n",
    "**Remember:** You have to import `functools` to use `reduce()`\n",
    "\n",
    "\n",
    "\n",
    "---"
   ],
   "id": "b03425489d7bcc36"
  },
  {
   "metadata": {
    "ExecuteTime": {
     "end_time": "2025-10-21T05:40:53.618370Z",
     "start_time": "2025-10-21T05:40:53.612607Z"
    }
   },
   "cell_type": "code",
   "source": [
    "from functools import reduce\n",
    "\n",
    "# Create a list of numbers to sum\n",
    "lst = [1, 2, 3, 4, 5]\n",
    "\n",
    "# Use reduce with lambda to sum all numbers in the list\n",
    "# reduce applies the lambda function cumulatively:\n",
    "# Step 1: 1 + 2 = 3\n",
    "# Step 2: 3 + 3 = 6\n",
    "# Step 3: 6 + 4 = 10\n",
    "# Step 4: 10 + 5 = 15\n",
    "total = reduce(lambda x, y: x + y, lst)\n",
    "\n",
    "print(\"Total:\", total)\n"
   ],
   "id": "96a18f5a51742c39",
   "outputs": [
    {
     "name": "stdout",
     "output_type": "stream",
     "text": [
      "Total: 15\n"
     ]
    }
   ],
   "execution_count": 30
  },
  {
   "metadata": {},
   "cell_type": "markdown",
   "source": [
    "#### Map vs Comprehension: which to use?\n",
    "\n",
    "- Prefer comprehensions for readability when transforming to a list\n",
    "- Use `map()` when you already have a named function and don't need a list immediately\n",
    "\n",
    "---"
   ],
   "id": "7ba57fdf70a44d9d"
  },
  {
   "metadata": {
    "ExecuteTime": {
     "end_time": "2025-10-25T05:24:40.656878Z",
     "start_time": "2025-10-25T05:24:40.645833Z"
    }
   },
   "cell_type": "code",
   "source": [
    "# map with a named function\n",
    "import math\n",
    "nums = [1, 4, 9, 16]\n",
    "roots_map = list(map(math.sqrt, nums))\n",
    "print(roots_map)\n"
   ],
   "id": "a6539c557cae4079",
   "outputs": [
    {
     "name": "stdout",
     "output_type": "stream",
     "text": [
      "[1.0, 2.0, 3.0, 4.0]\n"
     ]
    }
   ],
   "execution_count": 14
  },
  {
   "metadata": {
    "ExecuteTime": {
     "end_time": "2025-10-25T05:24:44.071773Z",
     "start_time": "2025-10-25T05:24:44.065764Z"
    }
   },
   "cell_type": "code",
   "source": [
    "# Same with list comprehension (often clearer)\n",
    "roots_comp = [math.sqrt(x) for x in nums]\n",
    "print(roots_comp)\n"
   ],
   "id": "a70aad6e4ffb477d",
   "outputs": [
    {
     "name": "stdout",
     "output_type": "stream",
     "text": [
      "[1.0, 2.0, 3.0, 4.0]\n"
     ]
    }
   ],
   "execution_count": 15
  },
  {
   "metadata": {},
   "cell_type": "markdown",
   "source": [
    "#### Filtering truthy values quickly\n",
    "\n",
    "- `filter(None, iterable)` removes falsy values (`0`, `''`, `None`, `False`)\n",
    "\n",
    "---"
   ],
   "id": "3697c4606ca472d5"
  },
  {
   "metadata": {
    "ExecuteTime": {
     "end_time": "2025-10-25T05:24:53.163854Z",
     "start_time": "2025-10-25T05:24:53.153409Z"
    }
   },
   "cell_type": "code",
   "source": [
    "raw = [\"Alice\", \"\", None, \"Bob\", 0, \"Charlie\"]\n",
    "clean = list(filter(None, raw))\n",
    "print(clean)  # ['Alice', 'Bob', 'Charlie']\n"
   ],
   "id": "ed890a7034ef325b",
   "outputs": [
    {
     "name": "stdout",
     "output_type": "stream",
     "text": [
      "['Alice', 'Bob', 'Charlie']\n"
     ]
    }
   ],
   "execution_count": 16
  },
  {
   "metadata": {},
   "cell_type": "markdown",
   "source": [
    "---\n",
    "\n",
    "\n",
    "\n",
    "## 🔥 Lambda Functions\n",
    "\n",
    "\n",
    "\n",
    "One-liners that do a job without needing a name.\n",
    "\n",
    "\n",
    "\n",
    "---"
   ],
   "id": "7c0b3c9664ce2f0f"
  },
  {
   "metadata": {
    "ExecuteTime": {
     "end_time": "2025-10-21T05:40:55.837345Z",
     "start_time": "2025-10-21T05:40:55.830090Z"
    }
   },
   "cell_type": "code",
   "source": [
    "double = lambda x: x * 2\n",
    "\n",
    "print(double(4))  # 8\n",
    "\n",
    "\n",
    "\n",
    "# Use in map\n",
    "\n",
    "print(list(map(lambda x: x + 1, [5, 6, 7])))"
   ],
   "id": "4899216628793f9e",
   "outputs": [
    {
     "name": "stdout",
     "output_type": "stream",
     "text": [
      "8\n",
      "[6, 7, 8]\n"
     ]
    }
   ],
   "execution_count": 31
  },
  {
   "metadata": {},
   "cell_type": "markdown",
   "source": [
    "---\n",
    "\n",
    "\n",
    "\n",
    "## 💡 Pythonic Style: List Comprehensions\n",
    "\n",
    "\n",
    "\n",
    "Use list comprehensions when they're more readable:\n",
    "\n",
    "\n",
    "\n",
    "---"
   ],
   "id": "5345a4d8f998b82f"
  },
  {
   "metadata": {
    "ExecuteTime": {
     "end_time": "2025-10-21T05:40:58.941457Z",
     "start_time": "2025-10-21T05:40:58.934176Z"
    }
   },
   "cell_type": "code",
   "source": [
    "# Instead of map\n",
    "\n",
    "squared = [x**2 for x in lst]\n",
    "\n",
    "print(\"Squared:\", squared)\n",
    "\n",
    "\n",
    "\n",
    "# Instead of filter\n",
    "\n",
    "evens = [x for x in lst if x % 2 == 0]\n",
    "\n",
    "print(\"Evens:\", evens)"
   ],
   "id": "2eacdba8fcc5177b",
   "outputs": [
    {
     "name": "stdout",
     "output_type": "stream",
     "text": [
      "Squared: [1, 4, 9, 16, 25]\n",
      "Evens: [2, 4]\n"
     ]
    }
   ],
   "execution_count": 32
  },
  {
   "metadata": {},
   "cell_type": "markdown",
   "source": [
    "### Set and Dict Comprehensions\n",
    "\n",
    "- Set comprehension removes duplicates automatically\n",
    "- Dict comprehension builds mappings from pairs or by transforming items\n",
    "\n",
    "---"
   ],
   "id": "bd7a4064406df9f7"
  },
  {
   "metadata": {
    "ExecuteTime": {
     "end_time": "2025-10-25T05:25:06.081643Z",
     "start_time": "2025-10-25T05:25:06.070295Z"
    }
   },
   "cell_type": "code",
   "source": [
    "# Set comprehension: unique lengths\n",
    "words = [\"apple\", \"banana\", \"pear\", \"apple\"]\n",
    "lengths = {len(w) for w in words}\n",
    "print(lengths)  # {4, 5, 6}\n"
   ],
   "id": "25781e64737a860d",
   "outputs": [
    {
     "name": "stdout",
     "output_type": "stream",
     "text": [
      "{4, 5, 6}\n"
     ]
    }
   ],
   "execution_count": 17
  },
  {
   "metadata": {
    "ExecuteTime": {
     "end_time": "2025-10-25T05:25:24.512053Z",
     "start_time": "2025-10-25T05:25:24.503163Z"
    }
   },
   "cell_type": "code",
   "source": [
    "# Dict comprehension: mapping word -> length\n",
    "word_len = {w: len(w) for w in words}\n",
    "print(word_len)\n"
   ],
   "id": "f62fd463ac670937",
   "outputs": [
    {
     "name": "stdout",
     "output_type": "stream",
     "text": [
      "{'apple': 5, 'banana': 6, 'pear': 4}\n"
     ]
    }
   ],
   "execution_count": 18
  },
  {
   "metadata": {
    "ExecuteTime": {
     "end_time": "2025-10-25T05:25:30.982514Z",
     "start_time": "2025-10-25T05:25:30.976723Z"
    }
   },
   "cell_type": "code",
   "source": [
    "# Dict comprehension: invert a mapping (be careful with duplicates)\n",
    "city_to_state = {\"Austin\": \"TX\", \"Boston\": \"MA\", \"Seattle\": \"WA\"}\n",
    "state_to_city = {state: city for city, state in city_to_state.items()}\n",
    "print(state_to_city)\n"
   ],
   "id": "3a96e749f68a2c6c",
   "outputs": [
    {
     "name": "stdout",
     "output_type": "stream",
     "text": [
      "{'TX': 'Austin', 'MA': 'Boston', 'WA': 'Seattle'}\n"
     ]
    }
   ],
   "execution_count": 19
  },
  {
   "metadata": {},
   "cell_type": "markdown",
   "source": [
    "---\n",
    "\n",
    "\n",
    "\n",
    "## 🔑 Working with Dictionaries\n",
    "\n",
    "\n",
    "\n",
    "### Pattern: Dictionary Iteration\n",
    "\n",
    "\n",
    "\n",
    "---"
   ],
   "id": "7656a00318e706dd"
  },
  {
   "metadata": {
    "ExecuteTime": {
     "end_time": "2025-10-21T05:41:00.763281Z",
     "start_time": "2025-10-21T05:41:00.757304Z"
    }
   },
   "cell_type": "code",
   "source": [
    "prices = {'apple': 1.5, 'banana': 0.99}\n",
    "\n",
    "quantities = {'apple': 4, 'banana': 6}\n",
    "\n",
    "\n",
    "\n",
    "for fruit in prices:\n",
    "\n",
    "    total = prices[fruit] * quantities[fruit]\n",
    "\n",
    "    print(f\"{fruit}: ${total:.2f}\")"
   ],
   "id": "9c103b71353b3cf9",
   "outputs": [
    {
     "name": "stdout",
     "output_type": "stream",
     "text": [
      "apple: $6.00\n",
      "banana: $5.94\n"
     ]
    }
   ],
   "execution_count": 33
  },
  {
   "metadata": {},
   "cell_type": "markdown",
   "source": [
    "### Safer lookups with `.get()`\n",
    "\n",
    "- Avoid `KeyError` by providing a default\n",
    "- Useful when keys may be missing\n",
    "\n",
    "---"
   ],
   "id": "3fe3b3243935ecc8"
  },
  {
   "metadata": {
    "ExecuteTime": {
     "end_time": "2025-10-25T05:26:03.284181Z",
     "start_time": "2025-10-25T05:26:03.269999Z"
    }
   },
   "cell_type": "code",
   "source": [
    "prices = {\"apple\": 1.5, \"banana\": 0.99}\n",
    "print(prices.get(\"apple\", 0.0))   # 1.5\n",
    "print(prices.get(\"pear\", 0.0))    # 0.0 (default)\n"
   ],
   "id": "dfc502ee2ecb32ad",
   "outputs": [
    {
     "name": "stdout",
     "output_type": "stream",
     "text": [
      "1.5\n",
      "0.0\n"
     ]
    }
   ],
   "execution_count": 20
  },
  {
   "metadata": {},
   "cell_type": "markdown",
   "source": [
    "### Merging and updating dictionaries\n",
    "\n",
    "- Python 3.9+: `a | b` merges; `a |= b` updates in place\n",
    "- Pre-3.9: `{**a, **b}` (copy + unpack)\n",
    "\n",
    "---"
   ],
   "id": "192f32ca854da968"
  },
  {
   "metadata": {
    "ExecuteTime": {
     "end_time": "2025-10-25T05:26:12.178018Z",
     "start_time": "2025-10-25T05:26:12.170323Z"
    }
   },
   "cell_type": "code",
   "source": [
    "a = {\"x\": 1, \"y\": 2}\n",
    "b = {\"y\": 20, \"z\": 3}\n",
    "print(a | b)        # {'x': 1, 'y': 20, 'z': 3}\n",
    "a |= b\n",
    "print(a)            # updated a\n"
   ],
   "id": "ab4e953e80f42564",
   "outputs": [
    {
     "name": "stdout",
     "output_type": "stream",
     "text": [
      "{'x': 1, 'y': 20, 'z': 3}\n",
      "{'x': 1, 'y': 20, 'z': 3}\n"
     ]
    }
   ],
   "execution_count": 21
  },
  {
   "metadata": {},
   "cell_type": "markdown",
   "source": [
    "### Counting items with `collections.Counter`\n",
    "\n",
    "- Fast frequency table from any iterable\n",
    "\n",
    "---"
   ],
   "id": "72a82c1e3124475"
  },
  {
   "metadata": {
    "ExecuteTime": {
     "end_time": "2025-10-25T05:26:51.792492Z",
     "start_time": "2025-10-25T05:26:51.768341Z"
    }
   },
   "cell_type": "code",
   "source": [
    "from collections import Counter\n",
    "words = [\"red\", \"blue\", \"red\", \"green\", \"blue\", \"red\"]\n",
    "counts = Counter(words)\n",
    "print(counts)                 # Counter({'red': 3, 'blue': 2, 'green': 1})\n",
    "print(counts.most_common(2))  # [('red', 3), ('blue', 2)]\n"
   ],
   "id": "95bb5ff162e8d59c",
   "outputs": [
    {
     "name": "stdout",
     "output_type": "stream",
     "text": [
      "Counter({'red': 3, 'blue': 2, 'green': 1})\n",
      "[('red', 3), ('blue', 2)]\n"
     ]
    }
   ],
   "execution_count": 22
  },
  {
   "metadata": {},
   "cell_type": "markdown",
   "source": [
    "---\n",
    "\n",
    "\n",
    "\n",
    "# 🎯 Practice Problems\n",
    "\n",
    "\n",
    "\n",
    "---\n",
    "\n",
    "\n",
    "\n",
    "## 🔥 Level 1: Warm-Up (Basic Built-ins)\n",
    "\n",
    "\n",
    "\n",
    "### Problem 1: Zip It Up\n",
    "\n",
    "\n",
    "\n",
    "You've got two lists. Make a list of strings like \"Chris got 85\", one for each name and score.\n",
    "\n",
    "\n",
    "\n",
    "---"
   ],
   "id": "25630e2986d13f5e"
  },
  {
   "metadata": {
    "ExecuteTime": {
     "end_time": "2025-10-21T05:41:02.846543Z",
     "start_time": "2025-10-21T05:41:02.839054Z"
    }
   },
   "cell_type": "code",
   "source": [
    "names = ['Chris', 'Deja', 'Malik']\n",
    "\n",
    "scores = [85, 90, 78]\n",
    "\n",
    "\n",
    "\n",
    "# Solution\n",
    "\n",
    "for name, score in zip(names, scores):\n",
    "\n",
    "    print(f\"{name} got {score}\")"
   ],
   "id": "628b020eaed0c08a",
   "outputs": [
    {
     "name": "stdout",
     "output_type": "stream",
     "text": [
      "Chris got 85\n",
      "Deja got 90\n",
      "Malik got 78\n"
     ]
    }
   ],
   "execution_count": 34
  },
  {
   "metadata": {},
   "cell_type": "markdown",
   "source": [
    "#### Bonus: Convert to Dictionary\n",
    "\n",
    "\n",
    "\n",
    "**One-liner:**\n",
    "\n",
    "\n",
    "\n",
    "---"
   ],
   "id": "4edf4e14a9e6a401"
  },
  {
   "metadata": {
    "ExecuteTime": {
     "end_time": "2025-10-21T05:41:04.358459Z",
     "start_time": "2025-10-21T05:41:04.351380Z"
    }
   },
   "cell_type": "code",
   "source": [
    "d = dict(zip(names, scores))\n",
    "\n",
    "print(d)"
   ],
   "id": "eaf17532230d8b06",
   "outputs": [
    {
     "name": "stdout",
     "output_type": "stream",
     "text": [
      "{'Chris': 85, 'Deja': 90, 'Malik': 78}\n"
     ]
    }
   ],
   "execution_count": 35
  },
  {
   "metadata": {},
   "cell_type": "markdown",
   "source": [
    "**Alternative approach:**\n",
    "\n",
    "\n",
    "\n",
    "---"
   ],
   "id": "c09d2696bdaa6a92"
  },
  {
   "metadata": {
    "ExecuteTime": {
     "end_time": "2025-10-21T05:41:06.323544Z",
     "start_time": "2025-10-21T05:41:06.314598Z"
    }
   },
   "cell_type": "code",
   "source": [
    "info = [f\"{name}: {score}\" for name, score in zip(names, scores)]\n",
    "\n",
    "d = {item.split(\": \")[0]: int(item.split(\": \")[1]) for item in info}\n",
    "\n",
    "print(d)"
   ],
   "id": "e67728d83fd77273",
   "outputs": [
    {
     "name": "stdout",
     "output_type": "stream",
     "text": [
      "{'Chris': 85, 'Deja': 90, 'Malik': 78}\n"
     ]
    }
   ],
   "execution_count": 36
  },
  {
   "metadata": {},
   "cell_type": "markdown",
   "source": [
    "---\n",
    "\n",
    "\n",
    "\n",
    "### Problem 2: Range Riddim\n",
    "\n",
    "\n",
    "\n",
    "Write a function that returns the sum of every third number between 1 and 100, starting at 3.\n",
    "\n",
    "\n",
    "\n",
    "---"
   ],
   "id": "751ed6387c2601b7"
  },
  {
   "metadata": {
    "ExecuteTime": {
     "end_time": "2025-10-21T05:41:09.918548Z",
     "start_time": "2025-10-21T05:41:09.905631Z"
    }
   },
   "cell_type": "code",
   "source": [
    "# Approach 1: Loop\n",
    "\n",
    "total = 0\n",
    "\n",
    "for i in range(3, 101, 3):\n",
    "\n",
    "    total += i\n",
    "\n",
    "print(\"Total:\", total)"
   ],
   "id": "e8eb01e916921a07",
   "outputs": [
    {
     "name": "stdout",
     "output_type": "stream",
     "text": [
      "Total: 1683\n"
     ]
    }
   ],
   "execution_count": 37
  },
  {
   "metadata": {},
   "cell_type": "markdown",
   "source": [
    "**One-liner:**\n",
    "\n",
    "\n",
    "\n",
    "---"
   ],
   "id": "1cfa877e98ee00ff"
  },
  {
   "metadata": {
    "ExecuteTime": {
     "end_time": "2025-10-21T05:41:12.014455Z",
     "start_time": "2025-10-21T05:41:12.004726Z"
    }
   },
   "cell_type": "code",
   "source": "print(\"Total:\", sum(range(3, 101, 3)))",
   "id": "8fc3fb534777f006",
   "outputs": [
    {
     "name": "stdout",
     "output_type": "stream",
     "text": [
      "Total: 1683\n"
     ]
    }
   ],
   "execution_count": 38
  },
  {
   "metadata": {},
   "cell_type": "markdown",
   "source": [
    "---\n",
    "\n",
    "\n",
    "\n",
    "### Problem 3: Enumerate Squad\n",
    "\n",
    "\n",
    "\n",
    "Print each item in the list below, with its index starting at 1.\n",
    "\n",
    "\n",
    "\n",
    "**Note:** Avoid using `object` as a variable name—it's a built-in keyword in Python!\n",
    "\n",
    "\n",
    "\n",
    "---"
   ],
   "id": "dc5180b759a22196"
  },
  {
   "metadata": {
    "ExecuteTime": {
     "end_time": "2025-10-21T05:41:13.985339Z",
     "start_time": "2025-10-21T05:41:13.975493Z"
    }
   },
   "cell_type": "code",
   "source": [
    "items = ['pen', 'notebook', 'laptop', 'charger']\n",
    "\n",
    "\n",
    "\n",
    "for idx, item in enumerate(items, start=1):\n",
    "\n",
    "    print(f\"{idx}. {item}\")"
   ],
   "id": "1b710bc2098f8757",
   "outputs": [
    {
     "name": "stdout",
     "output_type": "stream",
     "text": [
      "1. pen\n",
      "2. notebook\n",
      "3. laptop\n",
      "4. charger\n"
     ]
    }
   ],
   "execution_count": 39
  },
  {
   "metadata": {},
   "cell_type": "markdown",
   "source": [
    "---\n",
    "\n",
    "\n",
    "\n",
    "## 🔥 Level 2: Intermediate (To be continued...)\n",
    "\n",
    "\n",
    "\n",
    "---\n",
    "\n",
    "\n",
    "\n",
    "## ✅ Summary\n",
    "\n",
    "\n",
    "\n",
    "- **`sorted()`** returns a new sorted list — original stays the same\n",
    "\n",
    "- **`.sort()`** modifies the list in place — no return value\n",
    "\n",
    "- Both support `key=` and `reverse=` for custom sorting\n",
    "\n",
    "- Use `sorted()` for non-lists (strings, tuples, dict keys)\n",
    "\n",
    "- Use `.sort()` when you want to save memory and don't need the original order\n",
    "\n",
    "- **List comprehensions** are often more Pythonic than `map()` and `filter()`\n",
    "\n",
    "\n",
    "\n",
    "---\n"
   ],
   "id": "98ff5b4ae145b8ac"
  }
 ],
 "metadata": {
  "kernelspec": {
   "display_name": "Python 3",
   "language": "python",
   "name": "python3"
  },
  "language_info": {
   "codemirror_mode": {
    "name": "ipython",
    "version": 2
   },
   "file_extension": ".py",
   "mimetype": "text/x-python",
   "name": "python",
   "nbconvert_exporter": "python",
   "pygments_lexer": "ipython2",
   "version": "2.7.6"
  }
 },
 "nbformat": 4,
 "nbformat_minor": 5
}
