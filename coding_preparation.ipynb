{
 "cells": [
  {
   "metadata": {
    "ExecuteTime": {
     "end_time": "2025-06-19T07:16:18.333383Z",
     "start_time": "2025-06-19T07:16:18.325894Z"
    }
   },
   "cell_type": "code",
   "source": [
    "from IPython.display import Image, display\n",
    "\n",
    "display(Image(filename=\"tyson_plan_punch.jpg\", width=800, height=600))\n",
    "\n"
   ],
   "id": "437e64ed9d4b7a55",
   "outputs": [
    {
     "data": {
      "image/jpeg": "[encoded data removed]",
      "text/plain": [
       "<IPython.core.display.Image object>"
      ]
     },
     "metadata": {
      "image/jpeg": {
       "width": 800,
       "height": 600
      }
     },
     "output_type": "display_data"
    }
   ],
   "execution_count": 4
  },
  {
   "metadata": {},
   "cell_type": "markdown",
   "source": [
    "## Real Talk: Planning Ain’t Bulletproof\n",
    "\n",
    "> **“Everyone has a plan until they get punched in the face.”**\n",
    "> — *Mike Tyson*\n",
    "\n",
    "---\n",
    "\n",
    "### What This Means for You\n",
    "\n",
    "You absolutely need a plan—but don’t fall in love with it.\n",
    "Plans are **ideas**. Reality is **messy**.\n",
    "\n",
    "When the heat comes down—bad data, broken tools, wrong assumptions—you’ll need to **adapt** or fall flat.\n",
    "\n",
    "---\n",
    "\n",
    "### How to Plan Like a Pro\n",
    "\n",
    "1. **Draft with discipline.**\n",
    "   Define steps, resources, and timing. That’s your scaffolding.\n",
    "\n",
    "2. **Build with flex.**\n",
    "   Add margins: time, budget, mental bandwidth. Don’t ride the edge.\n",
    "\n",
    "3. **Stress test your setup.**\n",
    "   Ask yourself: *What’s my plan B?*\n",
    "   What if GitHub goes down? What if I lose network access? What if I misunderstood the spec?\n",
    "\n",
    "4. **Expect the punch.**\n",
    "   The first plan will break. That’s fine. The next one’s stronger.\n",
    "\n",
    "5. **Train the bounce-back.**\n",
    "   Resilience beats perfection every time. Stay in the ring.\n",
    "\n",
    "---\n",
    "\n",
    "**Mental Cue**:\n",
    "*Your plan is step one. Surviving the punch?*\n",
    "**That’s the real curriculum.**\n"
   ],
   "id": "cf69024b261656ff"
  },
  {
   "cell_type": "code",
   "id": "initial_id",
   "metadata": {
    "collapsed": true,
    "ExecuteTime": {
     "end_time": "2025-06-20T12:54:53.336584Z",
     "start_time": "2025-06-20T12:54:53.249966Z"
    }
   },
   "source": "import numpy as np",
   "outputs": [],
   "execution_count": 1
  },
  {
   "metadata": {
    "ExecuteTime": {
     "end_time": "2025-06-20T12:54:54.461601Z",
     "start_time": "2025-06-20T12:54:54.166004Z"
    }
   },
   "cell_type": "code",
   "source": "import pandas as pd",
   "id": "f3855e9b4550f839",
   "outputs": [],
   "execution_count": 2
  },
  {
   "metadata": {},
   "cell_type": "code",
   "outputs": [],
   "execution_count": null,
   "source": "",
   "id": "5e88c804c2eb22ea"
  },
  {
   "metadata": {},
   "cell_type": "code",
   "outputs": [],
   "execution_count": null,
   "source": "",
   "id": "80df835d2c4e37cd"
  }
 ],
 "metadata": {
  "kernelspec": {
   "display_name": "Python 3",
   "language": "python",
   "name": "python3"
  },
  "language_info": {
   "codemirror_mode": {
    "name": "ipython",
    "version": 2
   },
   "file_extension": ".py",
   "mimetype": "text/x-python",
   "name": "python",
   "nbconvert_exporter": "python",
   "pygments_lexer": "ipython2",
   "version": "2.7.6"
  }
 },
 "nbformat": 4,
 "nbformat_minor": 5
}
