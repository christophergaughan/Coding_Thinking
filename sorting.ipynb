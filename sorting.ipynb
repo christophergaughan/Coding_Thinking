{
 "cells": [
  {
   "metadata": {},
   "cell_type": "markdown",
   "source": [
    "## 🧠 PART 1: Built-in Sorting in Python\n",
    "Here we'll just give you a quick overview of the material just to show you how it looks, you can check it out before we do the deep dive.\n",
    "\n",
    "**`list.sort()` vs `sorted()`**\n",
    "* `list.sort()` sorts the list in place and returns `None`.\n",
    "\n",
    "* `sorted()` returns a new sorted list, leaving the original unchanged.\n",
    "\n",
    "### 🔑 Using key Parameter\n",
    "The key parameter lets you sort using custom logic\n"
   ],
   "id": "d667e4e24aa9d66d"
  },
  {
   "cell_type": "code",
   "id": "initial_id",
   "metadata": {
    "collapsed": true,
    "ExecuteTime": {
     "end_time": "2025-04-01T17:39:54.929573Z",
     "start_time": "2025-04-01T17:39:54.924381Z"
    }
   },
   "source": [
    "words = ['banana', 'apple', 'cherry']\n",
    "# Sort by length of word\n",
    "sorted_words = sorted(words, key=len)\n",
    "print(sorted_words)\n"
   ],
   "outputs": [
    {
     "name": "stdout",
     "output_type": "stream",
     "text": [
      "['apple', 'banana', 'cherry']\n"
     ]
    }
   ],
   "execution_count": 1
  },
  {
   "metadata": {},
   "cell_type": "markdown",
   "source": "You can also use lambda or even a function:",
   "id": "82baaccea4b5837f"
  },
  {
   "metadata": {
    "ExecuteTime": {
     "end_time": "2025-04-01T17:41:03.127520Z",
     "start_time": "2025-04-01T17:41:03.121937Z"
    }
   },
   "cell_type": "code",
   "source": [
    "def last_letter(word):\n",
    "    return word[-1]\n",
    "\n",
    "sorted(words, key=last_letter)\n"
   ],
   "id": "c2498188ddb9b03c",
   "outputs": [
    {
     "data": {
      "text/plain": [
       "['banana', 'apple', 'cherry']"
      ]
     },
     "execution_count": 2,
     "metadata": {},
     "output_type": "execute_result"
    }
   ],
   "execution_count": 2
  },
  {
   "metadata": {},
   "cell_type": "markdown",
   "source": [
    "## 🧠 PART 2: Binary Search & bisect Module\n",
    "Manual Binary Search Pattern"
   ],
   "id": "2af177bc43964856"
  },
  {
   "metadata": {
    "ExecuteTime": {
     "end_time": "2025-04-01T17:44:41.028182Z",
     "start_time": "2025-04-01T17:44:41.024908Z"
    }
   },
   "cell_type": "code",
   "source": [
    "def binary_search(arr, target):\n",
    "    low, high = 0, len(arr) - 1\n",
    "    while low <= high:\n",
    "        mid = (low + high) // 2\n",
    "        if arr[mid] == target:\n",
    "            return mid\n",
    "        elif arr[mid] < target:\n",
    "            low = mid + 1\n",
    "        else:\n",
    "            high = mid - 1\n",
    "    return -1\n"
   ],
   "id": "3dc57d92c2b90c5",
   "outputs": [],
   "execution_count": 3
  },
  {
   "metadata": {},
   "cell_type": "markdown",
   "source": "### 📦 bisect Module",
   "id": "724674610bc543b1"
  },
  {
   "metadata": {
    "ExecuteTime": {
     "end_time": "2025-04-01T17:47:51.079362Z",
     "start_time": "2025-04-01T17:47:51.075356Z"
    }
   },
   "cell_type": "code",
   "source": [
    "import bisect\n",
    "\n",
    "nums = [1, 3, 4, 7, 9]\n",
    "bisect.insort(nums, 6)  # Inserts 6 while keeping list sorted\n",
    "# nums is now [1, 3, 4, 6, 7, 9]\n",
    "\n",
    "# Find where to insert to keep order\n",
    "idx = bisect.bisect(nums, 5)\n",
    "print(idx)"
   ],
   "id": "3bd68cc6c7b3c6df",
   "outputs": [
    {
     "name": "stdout",
     "output_type": "stream",
     "text": [
      "3\n"
     ]
    }
   ],
   "execution_count": 5
  },
  {
   "metadata": {},
   "cell_type": "markdown",
   "source": [
    "`bisect_left` and `bisect_right` can help with duplicates.\n",
    "\n"
   ],
   "id": "43e51c3935a24d7b"
  },
  {
   "metadata": {},
   "cell_type": "markdown",
   "source": [
    "## 🧠 PART 3: Classic Sort/Search Algos from Scratch\n",
    "✅ MergeSort"
   ],
   "id": "dbbbc09d5635606d"
  },
  {
   "metadata": {
    "ExecuteTime": {
     "end_time": "2025-04-01T17:52:42.658831Z",
     "start_time": "2025-04-01T17:52:42.655673Z"
    }
   },
   "cell_type": "code",
   "source": [
    "def merge_sort(arr):\n",
    "    if len(arr) <= 1:\n",
    "        return arr\n",
    "    mid = len(arr) // 2\n",
    "    left = merge_sort(arr[:mid])\n",
    "    right = merge_sort(arr[mid:])\n",
    "    return merge(left, right)\n",
    "\n",
    "def merge(left, right):\n",
    "    result = []\n",
    "    i = j = 0\n",
    "    while i < len(left) and j < len(right):\n",
    "        if left[i] < right[j]:\n",
    "            result.append(left[i])\n",
    "            i += 1\n",
    "        else:\n",
    "            result.append(right[j])\n",
    "            j += 1\n",
    "    result.extend(left[i:])\n",
    "    result.extend(right[j:])\n",
    "    return result\n"
   ],
   "id": "ce647fe53316c61",
   "outputs": [],
   "execution_count": 6
  },
  {
   "metadata": {},
   "cell_type": "markdown",
   "source": "### ✅ QuickSort",
   "id": "c6e34f0d4f7620c"
  },
  {
   "metadata": {
    "ExecuteTime": {
     "end_time": "2025-04-01T17:53:45.534780Z",
     "start_time": "2025-04-01T17:53:45.531257Z"
    }
   },
   "cell_type": "code",
   "source": [
    "def quicksort(arr):\n",
    "    if len(arr) <= 1:\n",
    "        return arr\n",
    "    pivot = arr[0]\n",
    "    less = [x for x in arr[1:] if x <= pivot]\n",
    "    greater = [x for x in arr[1:] if x > pivot]\n",
    "    return quicksort(less) + [pivot] + quicksort(greater)\n"
   ],
   "id": "575e46494f1475a",
   "outputs": [],
   "execution_count": 7
  },
  {
   "metadata": {},
   "cell_type": "markdown",
   "source": [
    "## 🧠 Part 2: Binary Search – Fast Lookup Game\n",
    ">Imagine flippin' through a sorted list, like one of those huge phone books we had back in the day. You're not going page-by-page—you jump to the middle, then half, then half again. **Boom**. That’s > binary search.\""
   ],
   "id": "a19923e5b3e7ecd3"
  },
  {
   "metadata": {
    "ExecuteTime": {
     "end_time": "2025-04-01T18:19:41.379861Z",
     "start_time": "2025-04-01T18:19:41.374425Z"
    }
   },
   "cell_type": "code",
   "source": [
    "def binary_search(arr, target):\n",
    "    low, high = 0, len(arr) - 1\n",
    "    while low <= high:\n",
    "        mid = (low + high) // 2\n",
    "        if arr[mid] == target:\n",
    "            return mid\n",
    "        elif arr[mid] < target:\n",
    "            low = mid + 1\n",
    "        else:\n",
    "            high = mid - 1\n",
    "    return -1\n"
   ],
   "id": "2cb7ad58bb788858",
   "outputs": [],
   "execution_count": 8
  },
  {
   "metadata": {},
   "cell_type": "markdown",
   "source": [
    "**💡 When to use?**\n",
    "\n",
    "Use this only when the <u>list is already sorted</u>—otherwise it **won’t work!**\n",
    "\n"
   ],
   "id": "6d646e78940762f4"
  },
  {
   "metadata": {},
   "cell_type": "markdown",
   "source": "### 📦 Bonus: bisect – Stay Sorted While Inserting",
   "id": "b8f7c88a1f1af397"
  },
  {
   "metadata": {
    "ExecuteTime": {
     "end_time": "2025-04-07T19:56:12.198209Z",
     "start_time": "2025-04-07T19:56:12.191417Z"
    }
   },
   "cell_type": "code",
   "source": [
    "import bisect\n",
    "\n",
    "prices = [100, 150, 200, 250]\n",
    "bisect.insort(prices, 175)  # Inserts while keeping the list sorted\n",
    "print(prices)\n"
   ],
   "id": "f417ea34fc9b9a0d",
   "outputs": [
    {
     "name": "stdout",
     "output_type": "stream",
     "text": [
      "[100, 150, 175, 200, 250]\n"
     ]
    }
   ],
   "execution_count": 1
  },
  {
   "metadata": {},
   "cell_type": "markdown",
   "source": [
    "## ⚡ Sorting Algorithms from Scratch\n",
    "Let’s say Python didn’t hook you up. You still gotta know how to hustle it yourself."
   ],
   "id": "5dc7ff686315f47f"
  },
  {
   "metadata": {},
   "cell_type": "markdown",
   "source": [
    "### 🔧 MergeSort – The \"Split and Rebuild\" Move\n",
    "> \"It’s like breakin’ a problem down into smaller problems until you got nothin’ but easy stuff. Then you build back up like stackin' bricks.\""
   ],
   "id": "5b7b1d1e8c9281b1"
  },
  {
   "metadata": {
    "ExecuteTime": {
     "end_time": "2025-04-01T18:31:57.471929Z",
     "start_time": "2025-04-01T18:31:57.465453Z"
    }
   },
   "cell_type": "code",
   "source": [
    "def merge_sort(arr):\n",
    "    if len(arr) <= 1:\n",
    "        return arr\n",
    "    mid = len(arr)//2\n",
    "    left = merge_sort(arr[:mid])\n",
    "    right = merge_sort(arr[mid:])\n",
    "    return merge(left, right)\n",
    "\n",
    "def merge(left, right):\n",
    "    result = []\n",
    "    i = j = 0\n",
    "    while i < len(left) and j < len(right):\n",
    "        if left[i] < right[j]:\n",
    "            result.append(left[i])\n",
    "            i += 1\n",
    "        else:\n",
    "            result.append(right[j])\n",
    "            j += 1\n",
    "    result.extend(left[i:])\n",
    "    result.extend(right[j:])\n",
    "    return result\n"
   ],
   "id": "fbf5ff8f420fbff2",
   "outputs": [],
   "execution_count": 10
  },
  {
   "metadata": {},
   "cell_type": "markdown",
   "source": "you probably already know the `append` function, but- as a reminder about `extend`",
   "id": "4364a8aa5072d670"
  },
  {
   "metadata": {
    "ExecuteTime": {
     "end_time": "2025-04-02T17:44:18.729457Z",
     "start_time": "2025-04-02T17:44:18.716146Z"
    }
   },
   "cell_type": "code",
   "source": [
    "list1 = [1, 2, 3]\n",
    "list2 = [4, 5, 6]\n",
    "\n",
    "list1.extend(list2)\n",
    "print(list1)"
   ],
   "id": "8bf3d49c96fa70a7",
   "outputs": [
    {
     "name": "stdout",
     "output_type": "stream",
     "text": [
      "[1, 2, 3, 4, 5, 6]\n"
     ]
    }
   ],
   "execution_count": 24
  },
  {
   "metadata": {},
   "cell_type": "markdown",
   "source": [
    "## 🔧 QuickSort – Pick a Pivot, Split the Crowd\n",
    "> \"Pick one number to be your ‘pivot’. Everything smaller to the left, bigger to the right. Do it again and again till it’s clean.\""
   ],
   "id": "d69b5423a2df74a1"
  },
  {
   "metadata": {
    "ExecuteTime": {
     "end_time": "2025-04-01T18:34:01.301717Z",
     "start_time": "2025-04-01T18:34:01.298169Z"
    }
   },
   "cell_type": "code",
   "source": [
    "def quicksort(arr):\n",
    "    if len(arr) <= 1:\n",
    "        return arr\n",
    "    pivot = arr[0]\n",
    "    less = [x for x in arr[1:] if x <= pivot]\n",
    "    more = [x for x in arr[1:] if x > pivot]\n",
    "    return quicksort(less) + [pivot] + quicksort(more)\n"
   ],
   "id": "a4d3b13aacb68c58",
   "outputs": [],
   "execution_count": 11
  },
  {
   "metadata": {},
   "cell_type": "markdown",
   "source": [
    "## 🔁 Are You Supposed to Memorize All This Code?\n",
    "**Nah fam, don’t trip. You’re not supposed to memorize all this line-for-line**. That ain’t how real coders move. Yes there are a few code patterns to memorize, but here’s the real game:\n",
    "\n",
    "**💡 What You Should Focus On:**\n",
    "\n",
    "### 🧠 How to Understand Sorting/Searching Algorithms Without Memorizing\n",
    "#### 🔧 MergeSort – Like Building Blocks\n",
    "> \"Split up the mess until it’s all clean, then stack it back in order.\"\n",
    "\n",
    "* 🪓 Step 1: Split the list in half again and again until each piece got only 1 item (already sorted).\n",
    "\n",
    "* 🧱 Step 2: Start merging back up, comparing two pieces at a time and stacking them in order.\n",
    "\n",
    "That’s why we got:\n",
    "```\n",
    "mid = len(arr)//2\n",
    "left = merge_sort(arr[:mid])\n",
    "right = merge_sort(arr[mid:])\n",
    "```\n",
    "\n",
    "And when we **merge**, it’s like:\n",
    "```\n",
    "if left[i] < right[j]:\n",
    "    result.append(left[i])\n",
    "```\n",
    "Like saying, “Who’s smaller? Put them first in line.”\n",
    "\n",
    "### 🔧 QuickSort – Like a Real One Splitting Up the Block\n",
    "> \"Pick a pivot (like a boss). Sort the crew: homies on the left if they’re loyal, snakes on the right if they grimey. Do it again until all is clean.\"\n",
    "\n",
    "So when you do:\n",
    "```\n",
    "pivot = arr[0]\n",
    "less = [x for x in arr[1:] if x <= pivot]\n",
    "```\n",
    "That’s you separating the real from the fake. You don’t need to memorize that line—you just need to remember: pivot splits the squad.\n",
    "\n",
    "### 🔍 Binary Search – Like Smart Searching at Foot Locker\n",
    "> \"Don’t start at the beginning. Hit the middle. Then half of that. Then half again.\"\n",
    "\n",
    "The pattern is:\n",
    "`mid = (low + high) // 2`"
   ],
   "id": "e2ac8333271a60c"
  },
  {
   "metadata": {},
   "cell_type": "markdown",
   "source": [
    "## 🎯 Part 4: Graph Search Algorithms – BFS & DFS\n",
    "Imagine you got people connected like in the hood—neighbors, friends, fam. That’s a graph. You can search it in two ways:"
   ],
   "id": "37064068354199db"
  },
  {
   "metadata": {},
   "cell_type": "markdown",
   "source": [
    "### 🔍 DFS (Depth First Search) – Deep Dive\n",
    "\"DFS is like that somebody who walks into a party and keeps going deep into rooms without checking the others first.\""
   ],
   "id": "77d21998012caab3"
  },
  {
   "metadata": {
    "ExecuteTime": {
     "end_time": "2025-04-01T18:37:47.972922Z",
     "start_time": "2025-04-01T18:37:47.969666Z"
    }
   },
   "cell_type": "code",
   "source": [
    "def dfs(graph, node, visited=set()):\n",
    "    if node not in visited:\n",
    "        print(node)\n",
    "        visited.add(node)\n",
    "        for neighbor in graph[node]:\n",
    "            dfs(graph, neighbor, visited) # recursive\n"
   ],
   "id": "520a9d8e5989318f",
   "outputs": [],
   "execution_count": 12
  },
  {
   "metadata": {},
   "cell_type": "markdown",
   "source": [
    "Let’s break this all the way down so it feels like real life, not just “some tech thing.” We’ll explain it from scratch, so even if you never heard of a \"graph\" before, you’ll get it.\n",
    "\n",
    "### 🔌 What is a Graph?\n",
    "> \"A graph is just a map of connections. Think: people in a neighborhood, train stops, or Instagram followers.\"\n",
    "\n",
    "**Real-World Analogy:**\n",
    "* A graph is like a web of relationships.\n",
    "\n",
    "* The people or spots are called nodes (also called vertices).\n",
    "\n",
    "* The connections between them are called edges (like lines linking two people).\n",
    "\n",
    "### 👤 What is a Node?\n",
    "> \"A node is like one player in the game, or one person in your crew.\"\n",
    "\n",
    "* It could be a person, a house, a computer, a train station, anything.\n",
    "\n",
    "* It’s just a dot in the system.\n",
    "\n",
    "### 🔗 What is an Edge?\n",
    "\"An edge is like a relationship—a link. Like who knows who, or what road connects two corners.\"\n",
    "\n",
    "* If node A is connected to node B, there’s an edge between them.\n",
    "\n",
    "### 🎨 Here's a Graph Example:\n",
    "```\n",
    "graph = {\n",
    "    'A': ['B', 'C'],\n",
    "    'B': ['D', 'E'],\n",
    "    'C': ['F'],\n",
    "    'D': [],\n",
    "    'E': ['F'],\n",
    "    'F': []\n",
    "}\n",
    "```\n",
    "### 🧠 Think of This Graph Like a Crew or Network:\n",
    "* 'A' is cool with 'B' and 'C'\n",
    "\n",
    "* 'B' knows 'D' and 'E'\n",
    "\n",
    "* 'C' knows 'F'\n",
    "\n",
    "* 'E' knows 'F' too (yep, double connection)\n",
    "\n",
    "* 'D' and 'F' don’t know anybody else\n",
    "\n",
    "### 🔍 What is DFS? (Depth-First Search)\n",
    "> \"DFS is like walking into the first room you see, then into the next door, and the next, until you can’t go deeper—then you backtrack.\"\n",
    "\n",
    "You keep going **deep** first, not wide.\n",
    "### 🧠 Code Explained Line by Line\n",
    "`def dfs(graph, node, visited=set()):`\n",
    "* `dfs` = our function name. It stands for Depth-First Search.\n",
    "\n",
    "* `graph` = the dictionary with connections.\n",
    "\n",
    "* `node` = where we start (like starting at house 'A').\n",
    "\n",
    "* `visited` = a set to remember where we’ve already been, so we don’t loop forever.\n",
    "*\n",
    "`    if node not in visited:`\n",
    "* If we haven’t already been here, go ahead.\n",
    "\n",
    "* We don’t want to revisit the same node—we could get stuck in a loop.\n",
    "\n",
    "`        print(node)`\n",
    "* This is where we **do something** at this spot. Here, we’re just printing to say “I visited this node.”\n",
    "*\n",
    "`        visited.add(node)`\n",
    "* Mark this spot as visited, so we don’t come back.\n",
    "\n",
    "```\n",
    "        for neighbor in graph[node]:\n",
    "            dfs(graph, neighbor, visited)\n",
    "```\n",
    "* Loop through all the people or places this one is connected to (its “neighbors”).\n",
    "\n",
    "* Call dfs again, going deeper each time.\n",
    "```\n",
    "graph = {\n",
    "    'A': ['B', 'C'],\n",
    "    'B': ['D'],\n",
    "    'C': [],\n",
    "    'D': []\n",
    "}\n",
    "\n",
    "dfs(graph, 'A')\n",
    "```\n",
    "#### 👀 What Happens?\n",
    "* We start at ‘A’:\n",
    "\n",
    "* Go to ‘B’\n",
    "\n",
    "    - Go to ‘D’ (nothing left)\n",
    "\n",
    "* Backtrack\n",
    "\n",
    "* Now go to ‘C’\n",
    "\n",
    "So it prints:\n",
    "```\n",
    "A\n",
    "B\n",
    "D\n",
    "C\n",
    "```\n",
    "\n",
    "### 🧠 Why is This Useful?\n",
    "DFS is used in:\n",
    "\n",
    "* 🔍 Searching through social networks (find who's connected to who)\n",
    "\n",
    "* 🧠 AI game logic (like searching all possible moves)\n",
    "\n",
    "* 🏃 Maze solving (go deep into paths)\n",
    "\n",
    "* 💻 Analyzing network structures (web pages, friend groups, etc.)\n",
    "\n",
    "### 💬 Summary for the Block:\n",
    "> \"DFS is like runnin’ through a building—deep into each hallway—till you hit a dead end. Then you turn back and check other spots. The graph is the building, nodes are the rooms, and edges are the doors.\"\n",
    "\n",
    "\n",
    "\n",
    "\n",
    "\n",
    "\n",
    "\n",
    "\n"
   ],
   "id": "c2147e75e5d3d377"
  },
  {
   "metadata": {},
   "cell_type": "markdown",
   "source": [
    "## 🔍 BFS – Breadth First\n",
    "> \"BFS is like someone who checks out everyone in the living room first before going into the kitchen or back rooms.\""
   ],
   "id": "5096b07d9ee1eca2"
  },
  {
   "metadata": {
    "ExecuteTime": {
     "end_time": "2025-04-01T18:39:50.548977Z",
     "start_time": "2025-04-01T18:39:50.545480Z"
    }
   },
   "cell_type": "code",
   "source": [
    "from collections import deque\n",
    "\n",
    "def bfs(graph, start):\n",
    "    visited = set()\n",
    "    queue = deque([start])\n",
    "    while queue:\n",
    "        node = queue.popleft()\n",
    "        if node not in visited:\n",
    "            print(node)\n",
    "            visited.add(node)\n",
    "            queue.extend(graph[node])\n"
   ],
   "id": "7d92b92b4c3b3e5",
   "outputs": [],
   "execution_count": 13
  },
  {
   "metadata": {},
   "cell_type": "markdown",
   "source": [
    "### 🧠 What Is Breadth-First Search (BFS)?\n",
    "> \"BFS is like checkin’ every room on the first floor before going up to the second. It spreads wide first, not deep.\"\n",
    "\n",
    "Think of it like:\n",
    "\n",
    "* You’re trying to find someone in a building.\n",
    "\n",
    "* You don’t just walk down one hallway (like DFS).\n",
    "\n",
    "* You hit all the rooms on the current floor first, **then** go to the next.\n",
    "### 🎯 When Would You Use BFS?\n",
    "* Finding the **shortest path** between two people in a network (like mutual friends on Facebook)\n",
    "\n",
    "* Spreading out from a point (like viral content or gossip—BFS spreads fast!)\n",
    "\n",
    "* Level-order stuff (like playing a game and checking moves step by step)\n",
    "### 🔧 The BFS Code (with full breakdown)\n",
    "```\n",
    "from collections import deque\n",
    "\n",
    "def bfs(graph, start):\n",
    "    visited = set()\n",
    "    queue = deque([start])\n",
    "\n",
    "    while queue:\n",
    "        node = queue.popleft()\n",
    "        if node not in visited:\n",
    "            print(node)\n",
    "            visited.add(node)\n",
    "            queue.extend(graph[node])\n",
    "```\n",
    "### 👀 Now Let's Explain It, Line-by-Line\n",
    "`from collections import deque`\n",
    "> We bring in `deque` because we need a **fast line system** (queue) for who’s next in line to be checked.\n",
    "Deque = **double-ended queue**, real quick for taking people in and out.\n",
    "\n",
    "`def bfs(graph, start):`\n",
    "\n",
    "We're defining a function called bfs.\n",
    "* `start` is where you begin, like your home base.\n",
    "\n",
    "* `graph` is the map (just like in DFS).\n",
    "\n",
    "`node = queue.popleft()`\n",
    "> Take the first name off the line.\n",
    "This is what makes BFS **\"first come, first served.\"**\n",
    "\n",
    "`if node not in visited:`\n",
    "> Only mess with people you ain’t already checked.\n",
    "Keeps it clean and avoids wasting time.\n",
    "\n",
    "`print(node)`\n",
    "> This is where you \"visit\" the node. Could be printing, storing, whatever.\n",
    "\n",
    "`visited.add(node)`\n",
    "> You mark this node as done so you don’t come back.\n",
    "\n",
    "`queue.extend(graph[node])`\n",
    "> Add all of this node’s neighbors (connected spots) to the end of the line.\n",
    "\n",
    "* So if node ‘A’ connects to ‘B’ and ‘C’, those get added to the queue next.\n",
    "\n",
    "\n",
    "\n",
    "\n",
    "\n",
    "\n",
    "\n",
    "\n",
    "\n",
    "\n",
    "\n",
    "\n",
    "\n",
    "\n",
    "\n",
    "\n",
    "\n",
    "\n",
    "\n",
    "\n",
    "\n",
    "\n"
   ],
   "id": "b8f84f4834e9b18"
  },
  {
   "metadata": {
    "ExecuteTime": {
     "end_time": "2025-04-01T20:28:11.752368Z",
     "start_time": "2025-04-01T20:28:11.747088Z"
    }
   },
   "cell_type": "code",
   "source": [
    "graph = {\n",
    "    'A': ['B', 'C'],\n",
    "    'B': ['D', 'E'],\n",
    "    'C': ['F'],\n",
    "    'D': [],\n",
    "    'E': ['F'],\n",
    "    'F': []\n",
    "}\n",
    "\n",
    "bfs(graph, 'A')\n"
   ],
   "id": "6f572b54bc6ac27c",
   "outputs": [
    {
     "name": "stdout",
     "output_type": "stream",
     "text": [
      "A\n",
      "B\n",
      "C\n",
      "D\n",
      "E\n",
      "F\n"
     ]
    }
   ],
   "execution_count": 20
  },
  {
   "metadata": {},
   "cell_type": "markdown",
   "source": [
    "### 🔁 What Happened:\n",
    "* Start at A → put B and C in line.\n",
    "\n",
    "* Next up: B → put D and E in line.\n",
    "\n",
    "* Then C → put F in line.\n",
    "\n",
    "* Then D → nothing to add.\n",
    "\n",
    "* Then E → F already in line, skip it.\n",
    "\n",
    "* Then F → nothing to add.\n",
    "\n",
    "\n",
    "\n",
    "\n",
    "## 🧠 What’s a deque?\n",
    "> \"Think of `deque` like a line at the DMV or a food truck. People can jump in at the front or the back.\"\n",
    "\n",
    "Python’s `deque` stands for double-ended queue (fancy name, simple idea):"
   ],
   "id": "7bbce5e2a1b0930c"
  },
  {
   "metadata": {
    "ExecuteTime": {
     "end_time": "2025-04-01T19:00:21.145096Z",
     "start_time": "2025-04-01T19:00:21.140569Z"
    }
   },
   "cell_type": "code",
   "source": [
    "from collections import deque\n",
    "\n",
    "line = deque()\n",
    "line.append(\"Alex\")      # Alex joins at the end\n",
    "line.appendleft(\"Bri\")   # Bri cuts in front\n",
    "line.pop()               # Alex leaves from the back\n",
    "line.popleft()           # Bri leaves from the front\n",
    "\n"
   ],
   "id": "564a9c57505fc0af",
   "outputs": [
    {
     "data": {
      "text/plain": [
       "'Bri'"
      ]
     },
     "execution_count": 15,
     "metadata": {},
     "output_type": "execute_result"
    }
   ],
   "execution_count": 15
  },
  {
   "metadata": {},
   "cell_type": "markdown",
   "source": [
    "## 🧠 What Makes deque Special?\n",
    "> \"A deque is like a street that got both ends open—people can pull up or dip out from either side, fast.\"\n",
    "\n",
    "Python lists can add/remove stuff at the end fast (`append`, `pop`),\n",
    "**but** adding/removing from the front (`insert(0, x)` or `pop(0)`) is slow 😩 because it has to shift everything over.\n",
    "\n",
    "### 💥 deque handles both ends like a boss:\n",
    "\n",
    "### 🚀 Performance: `deque` vs `list`\n",
    "\n",
    "| Operation            | `list` performance | `deque` performance     |\n",
    "|---------------------|--------------------|--------------------------|\n",
    "| `append(x)`         | ✅ Fast (O(1))      | ✅ Fast (O(1))            |\n",
    "| `pop()`             | ✅ Fast (O(1))      | ✅ Fast (O(1))            |\n",
    "| `insert(0, x)`      | ❌ Slow (O(n))      | ✅ Fast (O(1)) via `appendleft()` |\n",
    "| `pop(0)`            | ❌ Slow (O(n))      | ✅ Fast (O(1)) via `popleft()`  |\n",
    "\n",
    "### 🔧 Built-in Power Moves with deque\n",
    "Here are the key methods deque gives you:"
   ],
   "id": "2550756293d4a7fb"
  },
  {
   "metadata": {
    "ExecuteTime": {
     "end_time": "2025-04-01T19:30:18.080421Z",
     "start_time": "2025-04-01T19:30:18.070140Z"
    }
   },
   "cell_type": "code",
   "source": [
    "from collections import deque\n",
    "\n",
    "# Start with an empty deque\n",
    "d = deque()\n",
    "print(\"Start:\", d)\n",
    "\n",
    "# ✅ Add to either end\n",
    "d.append(\"right-1\")         # add to the right\n",
    "print(\"After append to right:\", d)\n",
    "\n",
    "d.appendleft(\"left-1\")      # add to the left\n",
    "print(\"After append to left:\", d)\n",
    "\n",
    "# ✅ Remove from either end\n",
    "right = d.pop()             # remove from the right\n",
    "print(\"After pop from right:\", d, \"-> removed:\", right)\n",
    "\n",
    "left = d.popleft()          # remove from the left\n",
    "print(\"After pop from left:\", d, \"-> removed:\", left)\n",
    "\n",
    "# Add a few items back for peeking & rotating\n",
    "d.append(\"A\")\n",
    "d.append(\"B\")\n",
    "d.append(\"C\")\n",
    "print(\"Deque refilled:\", d)\n",
    "\n",
    "# ✅ Peek at either end\n",
    "print(\"Peek front (d[0]):\", d[0])\n",
    "print(\"Peek back (d[-1]):\", d[-1])\n",
    "\n",
    "# ✅ Rotate the whole line\n",
    "d.rotate(1)\n",
    "print(\"After rotate(1):\", d)\n",
    "\n",
    "d.rotate(-1)\n",
    "print(\"After rotate(-1):\", d)\n",
    "\n",
    "# ✅ Check size\n",
    "print(\"Length of deque:\", len(d))\n",
    "\n",
    "# ✅ Clear it\n",
    "d.clear()\n",
    "print(\"After clear:\", d)\n"
   ],
   "id": "f02e1b1a74c84b15",
   "outputs": [
    {
     "name": "stdout",
     "output_type": "stream",
     "text": [
      "Start: deque([])\n",
      "After append to right: deque(['right-1'])\n",
      "After append to left: deque(['left-1', 'right-1'])\n",
      "After pop from right: deque(['left-1']) -> removed: right-1\n",
      "After pop from left: deque([]) -> removed: left-1\n",
      "Deque refilled: deque(['A', 'B', 'C'])\n",
      "Peek front (d[0]): A\n",
      "Peek back (d[-1]): C\n",
      "After rotate(1): deque(['C', 'A', 'B'])\n",
      "After rotate(-1): deque(['A', 'B', 'C'])\n",
      "Length of deque: 3\n",
      "After clear: deque([])\n"
     ]
    }
   ],
   "execution_count": 19
  },
  {
   "metadata": {},
   "cell_type": "markdown",
   "source": [
    "## OK, we have seen the graph searching DFS and BFS code. But do we just memorize this code? Is there anything we have to look out for?\n",
    "\n",
    "The goal isn’t to memorize code **like a robot**—it’s to <u>understand</u> the flow so you can remix it when you need it.\n",
    "\n",
    "Let’s break this down—because BFS and DFS are both about the strategy, not just the syntax.\n",
    "\n",
    "## 🧠 So… Should You Memorize the Code?\n",
    "Short answer?\n",
    "❌ No, don’t memorize blindly.\n",
    "\n",
    "✅ Do understand the pattern and the gotchas.\n",
    "\n",
    "Instead of memorizing the whole chunk, you want to lock in the mental blueprint.\n",
    "\n",
    "### ✅ What to Look Out For (Both BFS & DFS)\n",
    "1. The Visited Set\n",
    "* 🛑 **Why we need it:** To avoid going in circles and revisiting the same node again and again (especially if the graph loops).\n",
    "\n",
    "```\n",
    "visited = set()\n",
    "if node not in visited:\n",
    "    visited.add(node)\n",
    "```\n",
    "* Without this?\n",
    "Your code **might never stop** if your graph has cycles. You’d be trapped in a loop like walking around the same block forever.\n",
    "\n",
    "2. Recursive DFS vs Iterative BFS\n",
    "DFS goes deep using function calls (recursion):\n",
    "\n",
    "`dfs(graph, neighbor, visited)`\n",
    "\n",
    "* 💥 Be careful: recursion can crash (stack overflow) if your graph is **too big or deep**. That’s why BFS is sometimes better.\n",
    "\n",
    "**BFS uses a queue, which is a different mindset:**\n",
    "\n",
    "`from collections import deque\n",
    "queue = deque([start])`\n",
    "\n",
    "* 📌 Just remember: **DFS = go deep → stack (calls)**\n",
    "* **BFS = go wide → queue (lineup)**\n",
    "\n",
    "3. Graph Format (Dictionary)\n",
    "Make sure the graph is structured like this:\n",
    "`graph = {\n",
    "    'A': ['B', 'C'],\n",
    "    'B': ['D'],\n",
    "    'C': []\n",
    "}`\n",
    "\n",
    "* 👀 If your data doesn’t look like this, you’ll need to convert it first.\n",
    "* Like turning CSVs, adjacency matrices, or raw edges into this format.\n",
    "\n",
    "### 🧠 Goal: Convert Raw Data into Graph Format\n",
    "🔢If You Get an Edge List (like a contact list)\n",
    "`edges = [\n",
    "    ('A', 'B'),\n",
    "    ('A', 'C'),\n",
    "    ('B', 'D')\n",
    "]\n",
    "`\n",
    "This is saying:\n",
    "\n",
    "* A is connected to B\n",
    "\n",
    "* A is also connected to C\n",
    "\n",
    "* B is connected to D\n",
    "\n",
    "**You can turn this into a dictionary like this:**\n",
    "\n",
    "```\n",
    "graph = {}\n",
    "\n",
    "for start, end in edges:\n",
    "    if start not in graph:\n",
    "        graph[start] = []\n",
    "    graph[start].append(end)\n",
    "\n",
    "    # Optional: if it's an undirected graph, add the reverse\n",
    "    # if end not in graph:\n",
    "    #     graph[end] = []\n",
    "    # graph[end].append(start)\n",
    "\n",
    "# Fill in any nodes with no outgoing edges\n",
    "for _, end in edges:\n",
    "    if end not in graph:\n",
    "        graph[end] = []\n",
    "\n",
    "print(graph)\n",
    "```\n",
    "Output:\n",
    "\n",
    "`{'A': ['B', 'C'], 'B': ['D'], 'D': [], 'C': []}`\n",
    "\n",
    "\n",
    "\n"
   ],
   "id": "44612be269c20c74"
  },
  {
   "metadata": {},
   "cell_type": "markdown",
   "source": [
    "### 🔍 When to Use BFS vs DFS\n",
    "\n",
    "| Question You’re Asking                      | Use BFS or DFS? | Why?                                                                 |\n",
    "|--------------------------------------------|------------------|----------------------------------------------------------------------|\n",
    "| 🛣️ What’s the shortest path to the target? | ✅ **BFS**        | It checks level by level, like streets and intersections—fastest route. |\n",
    "| 🧠 I want to explore **everything** deeply  | ✅ **DFS**        | Goes all the way down a path before turning back—like checking every hallway. |\n",
    "| 🔁 The graph might have **cycles or loops** | ✅ **Both**       | Just make sure to track `visited` so you don’t get stuck.            |\n",
    "| 🧬 I’m solving a puzzle or decision tree    | ✅ **DFS**        | DFS is better for finding deep solutions (like game states).         |\n",
    "| 🔎 I want to find **the closest match first**| ✅ **BFS**       | BFS finds things near the top of the tree before going deeper.       |\n",
    "| 🚀 I care about **memory efficiency**       | ✅ **DFS**        | DFS uses less memory because it doesn’t store a big queue.           |\n",
    "| 🏗️ I want a step-by-step spread (like gossip or virus) | ✅ **BFS** | It moves outward in waves, just like gossip.                         |\n"
   ],
   "id": "40f7207b07e581d3"
  },
  {
   "metadata": {},
   "cell_type": "markdown",
   "source": [
    "## 🧠 Mental Blueprints\n",
    "**DFS mental map:**\n",
    "\n",
    "* Start at a node\n",
    "\n",
    "* Go deep to the next neighbor\n",
    "\n",
    "* Keep going until you hit a dead end\n",
    "\n",
    "* Backtrack and try the next path\n",
    "\n",
    "**BFS mental map:**\n",
    "\n",
    "* Start at a node\n",
    "\n",
    "* Visit all direct neighbors\n",
    "\n",
    "* Then their neighbors\n",
    "\n",
    "* Like ripples in water"
   ],
   "id": "9ec292768135aaaf"
  },
  {
   "metadata": {
    "ExecuteTime": {
     "end_time": "2025-04-01T22:44:28.412577Z",
     "start_time": "2025-04-01T22:44:28.406055Z"
    }
   },
   "cell_type": "code",
   "source": [
    "graph = {\n",
    "    'S': ['A', 'B'],\n",
    "    'A': ['C', 'D'],\n",
    "    'B': ['E'],\n",
    "    'C': [],\n",
    "    'D': ['F'],\n",
    "    'E': [],\n",
    "    'F': []\n",
    "}\n",
    "\n",
    "\n",
    "def dep_fs(graph, node, visited=set()):\n",
    "    if node not in visited:\n",
    "        print(node)\n",
    "        visited.add(node)\n",
    "        for neighbor in graph[node]:\n",
    "            dfs(graph, neighbor, visited)\n",
    "\n",
    "dep_fs(graph, 'S')\n",
    "\n",
    "\n"
   ],
   "id": "39da29034926cdae",
   "outputs": [
    {
     "name": "stdout",
     "output_type": "stream",
     "text": [
      "S\n",
      "A\n",
      "C\n",
      "D\n",
      "F\n",
      "B\n",
      "E\n"
     ]
    }
   ],
   "execution_count": 22
  },
  {
   "metadata": {
    "ExecuteTime": {
     "end_time": "2025-04-01T23:05:41.380353Z",
     "start_time": "2025-04-01T23:05:41.373808Z"
    }
   },
   "cell_type": "code",
   "source": [
    "graph = {\n",
    "    'S': ['A', 'B'],\n",
    "    'A': ['C', 'D'],\n",
    "    'B': ['E'],\n",
    "    'C': [],\n",
    "    'D': ['F'],\n",
    "    'E': [],\n",
    "    'F': []\n",
    "}\n",
    "\n",
    "from collections import deque\n",
    "\n",
    "def br_sf(graph, start):\n",
    "    visited = set()\n",
    "    queue = deque([start])\n",
    "    while queue:\n",
    "        node = queue.popleft()\n",
    "        if node not in visited:\n",
    "            print(node)\n",
    "            visited.add(node)\n",
    "            queue.extend(graph[node])\n",
    "\n",
    "br_sf(graph, 'S')\n",
    "\n"
   ],
   "id": "c9fb2a2327096624",
   "outputs": [
    {
     "name": "stdout",
     "output_type": "stream",
     "text": [
      "S\n",
      "A\n",
      "B\n",
      "C\n",
      "D\n",
      "E\n",
      "F\n"
     ]
    }
   ],
   "execution_count": 23
  },
  {
   "metadata": {},
   "cell_type": "code",
   "outputs": [],
   "execution_count": null,
   "source": "",
   "id": "20d90f9025abe412"
  }
 ],
 "metadata": {
  "kernelspec": {
   "display_name": "Python 3",
   "language": "python",
   "name": "python3"
  },
  "language_info": {
   "codemirror_mode": {
    "name": "ipython",
    "version": 2
   },
   "file_extension": ".py",
   "mimetype": "text/x-python",
   "name": "python",
   "nbconvert_exporter": "python",
   "pygments_lexer": "ipython2",
   "version": "2.7.6"
  }
 },
 "nbformat": 4,
 "nbformat_minor": 5
}
