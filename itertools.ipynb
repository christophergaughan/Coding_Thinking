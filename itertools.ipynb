{
 "cells": [
  {
   "metadata": {},
   "cell_type": "markdown",
   "source": [
    "## `itertools.chain`\n",
    "**What it does**\n",
    "* chain takes multiple iterables and “chains” them together, returning a single iterable that produces elements from the first iterable, then the second, and so on.\n",
    "\n",
    "Example Usage:"
   ],
   "id": "e7a00271b775a843"
  },
  {
   "cell_type": "code",
   "id": "initial_id",
   "metadata": {
    "collapsed": true,
    "ExecuteTime": {
     "end_time": "2025-03-20T23:35:30.020228Z",
     "start_time": "2025-03-20T23:35:29.996710Z"
    }
   },
   "source": [
    "from itertools import chain\n",
    "\n",
    "list1 = [1, 2, 3]\n",
    "list2 = [4, 5, 6]\n",
    "chained_iter = chain(list1, list2)\n",
    "\n",
    "print(list(chained_iter))\n"
   ],
   "outputs": [
    {
     "name": "stdout",
     "output_type": "stream",
     "text": [
      "[1, 2, 3, 4, 5, 6]\n"
     ]
    }
   ],
   "execution_count": 3
  },
  {
   "metadata": {},
   "cell_type": "markdown",
   "source": [
    "**Sample Problem:**\n",
    "* You have several lists of numbers (e.g., employees’ sales figures for consecutive months) and you want a single, flattened list of all figures."
   ],
   "id": "47ee3eb3a2268d66"
  },
  {
   "metadata": {
    "ExecuteTime": {
     "end_time": "2025-03-20T23:50:00.930685Z",
     "start_time": "2025-03-20T23:50:00.923907Z"
    }
   },
   "cell_type": "code",
   "source": [
    "from itertools import chain\n",
    "\n",
    "# Example data\n",
    "sales_jan = [250, 300, 400]\n",
    "sales_feb = [350, 310, 420]\n",
    "sales_mar = [280, 390, 410]\n",
    "\n",
    "# Flatten them into one list\n",
    "all_sales = list(chain(sales_jan, sales_feb, sales_mar))\n",
    "print(all_sales)\n",
    "# [250, 300, 400, 350, 310, 420, 280, 390, 410]\n"
   ],
   "id": "a2efd0e94b750b3c",
   "outputs": [
    {
     "name": "stdout",
     "output_type": "stream",
     "text": [
      "[250, 300, 400, 350, 310, 420, 280, 390, 410]\n"
     ]
    }
   ],
   "execution_count": 4
  },
  {
   "metadata": {},
   "cell_type": "markdown",
   "source": [
    "**Why it’s useful:**\n",
    "\n",
    "* Eliminates the need to write nested loops or list comprehensions to combine iterables.\n",
    "* Keeps the code more readable when dealing with multiple sequences."
   ],
   "id": "4f88702c69d00124"
  },
  {
   "metadata": {},
   "cell_type": "markdown",
   "source": [
    "## `itertools.combinations`\n",
    "What it does\n",
    "* `combinations(iterable, r)` returns an iterator of all possible combinations of length `r` from the given iterable. Order does not matter in combinations.\n",
    "\n",
    "**Example Usage:**"
   ],
   "id": "196b0132d51ec54b"
  },
  {
   "metadata": {
    "ExecuteTime": {
     "end_time": "2025-03-21T00:00:54.511655Z",
     "start_time": "2025-03-21T00:00:54.508274Z"
    }
   },
   "cell_type": "code",
   "source": [
    "from itertools import combinations\n",
    "\n",
    "letters = ['a', 'b', 'c']\n",
    "for combo in combinations(letters, 2):\n",
    "    print(combo)"
   ],
   "id": "5afd4dce65a310f0",
   "outputs": [
    {
     "name": "stdout",
     "output_type": "stream",
     "text": [
      "('a', 'b')\n",
      "('a', 'c')\n",
      "('b', 'c')\n"
     ]
    }
   ],
   "execution_count": 7
  },
  {
   "metadata": {},
   "cell_type": "markdown",
   "source": [
    "**Sample Problem:**\n",
    "\n",
    "Given a list of candidate items, find all unique ways to pick exactly three of them for a team project."
   ],
   "id": "56142df2492e41b1"
  },
  {
   "metadata": {
    "ExecuteTime": {
     "end_time": "2025-03-21T00:04:02.343568Z",
     "start_time": "2025-03-21T00:04:02.338535Z"
    }
   },
   "cell_type": "code",
   "source": [
    "from itertools import combinations\n",
    "\n",
    "candidates = [\"Alice\", \"Bob\", \"Charlie\", \"Diana\", \"Eve\"]\n",
    "teams_of_three = list(combinations(candidates, 3))\n",
    "\n",
    "print(f\"Number of possible teams: {len(teams_of_three)}\")\n",
    "print(teams_of_three)\n",
    "# Output (number depends on combination formula nCr).\n",
    "# For 5 candidates, 5C3 = 10 combinations\n"
   ],
   "id": "cabbecce8bfe40f6",
   "outputs": [
    {
     "name": "stdout",
     "output_type": "stream",
     "text": [
      "Number of possible teams: 10\n",
      "[('Alice', 'Bob', 'Charlie'), ('Alice', 'Bob', 'Diana'), ('Alice', 'Bob', 'Eve'), ('Alice', 'Charlie', 'Diana'), ('Alice', 'Charlie', 'Eve'), ('Alice', 'Diana', 'Eve'), ('Bob', 'Charlie', 'Diana'), ('Bob', 'Charlie', 'Eve'), ('Bob', 'Diana', 'Eve'), ('Charlie', 'Diana', 'Eve')]\n"
     ]
    }
   ],
   "execution_count": 8
  },
  {
   "metadata": {},
   "cell_type": "markdown",
   "source": [
    "**Why it’s useful:**\n",
    "\n",
    "* Straightforward approach to generate subsets of a certain length (combinatorial problems).\n",
    "* Great for subset selection in many algorithmic challenges.\n"
   ],
   "id": "18ddc983cb5b9411"
  },
  {
   "metadata": {},
   "cell_type": "markdown",
   "source": [
    "## `itertools.permutations`\n",
    "**What it does**\n",
    "* `permutations(iterable, r)` is similar to combinations, but order matters. It yields tuples of length r where each tuple is a possible ordering of elements from the iterable.\n",
    "\n",
    "**Example Usage:**"
   ],
   "id": "8910b36a5d299430"
  },
  {
   "metadata": {
    "ExecuteTime": {
     "end_time": "2025-03-21T00:10:33.415050Z",
     "start_time": "2025-03-21T00:10:33.409955Z"
    }
   },
   "cell_type": "code",
   "source": [
    "from itertools import permutations\n",
    "\n",
    "letters = ['a', 'b', 'c']\n",
    "for perm in permutations(letters, 2):\n",
    "    print(perm)"
   ],
   "id": "c608db2e155246b",
   "outputs": [
    {
     "name": "stdout",
     "output_type": "stream",
     "text": [
      "('a', 'b')\n",
      "('a', 'c')\n",
      "('b', 'a')\n",
      "('b', 'c')\n",
      "('c', 'a')\n",
      "('c', 'b')\n"
     ]
    }
   ],
   "execution_count": 9
  },
  {
   "metadata": {},
   "cell_type": "markdown",
   "source": [
    "**Sample Problem:**\n",
    "* Generate all possible permutations of digits (e.g., from a 4-digit PIN) and try them against a mock “lock” function to find the correct combination."
   ],
   "id": "75fb39883d799398"
  },
  {
   "metadata": {
    "ExecuteTime": {
     "end_time": "2025-03-21T00:19:28.521576Z",
     "start_time": "2025-03-21T00:19:28.517737Z"
    }
   },
   "cell_type": "code",
   "source": [
    "from itertools import permutations\n",
    "\n",
    "def mock_lock(pin):\n",
    "    \"\"\" Mock function – checks if the pin is '1234' \"\"\"\n",
    "    return \"\".join(pin) == \"1234\"\n",
    "\n",
    "digits = \"1234\"\n",
    "for perm in permutations(digits, 4):\n",
    "    if mock_lock(perm):\n",
    "        print(\"Unlocked with PIN:\", \"\".join(perm))\n",
    "        break\n"
   ],
   "id": "afb37e5eac62b002",
   "outputs": [
    {
     "name": "stdout",
     "output_type": "stream",
     "text": [
      "Unlocked with PIN: 1234\n"
     ]
    }
   ],
   "execution_count": 11
  },
  {
   "metadata": {},
   "cell_type": "markdown",
   "source": [
    "**Why it’s useful:**\n",
    "\n",
    "* Essential when tackling problems requiring all reorderings of a sequence (e.g., traveling salesman type problems, generating permutations for passwords, etc.).\n"
   ],
   "id": "3dbad57b3bd67c12"
  },
  {
   "metadata": {},
   "cell_type": "markdown",
   "source": [
    "## itertools.product\n",
    "**What it does**\n",
    "`product` gives the Cartesian product of input iterables, equivalent to nested loops. For example, `product(A, B)` returns `(a, b)` for all `a` in `A` and all `b` in `B`. If you supply a `repeat` argument, it computes the product of one iterable with itself a given number of times.\n",
    "\n",
    "Example Usage:"
   ],
   "id": "6d446039c1211101"
  },
  {
   "metadata": {
    "ExecuteTime": {
     "end_time": "2025-03-21T00:26:58.341336Z",
     "start_time": "2025-03-21T00:26:58.336233Z"
    }
   },
   "cell_type": "code",
   "source": [
    "from itertools import product\n",
    "\n",
    "list1 = [1, 2]\n",
    "list2 = ['A', 'B']\n",
    "for prod in product(list1, list2):\n",
    "    print(prod)"
   ],
   "id": "66d9930c1f7bdb3a",
   "outputs": [
    {
     "name": "stdout",
     "output_type": "stream",
     "text": [
      "(1, 'A')\n",
      "(1, 'B')\n",
      "(2, 'A')\n",
      "(2, 'B')\n"
     ]
    }
   ],
   "execution_count": 12
  },
  {
   "metadata": {},
   "cell_type": "markdown",
   "source": [
    "**Sample Problem:**\n",
    "* Given two lists of attributes, create all possible pairs to generate product variations (like color × size in an e-commerce system)."
   ],
   "id": "8bcc44101fdd1ef2"
  },
  {
   "metadata": {},
   "cell_type": "markdown",
   "source": [
    "## Dictionary Comprehensions\n",
    "Used to build dictionaries in a single, readable line rather than using a loop with `.append()` or `dict[key] = value`.\n",
    "\n",
    "`{key_expr: value_expr for item in iterable if condition}`"
   ],
   "id": "dde2b6fa6b00635d"
  },
  {
   "metadata": {},
   "cell_type": "markdown",
   "source": [
    "**Example:**\n",
    "Let’s say you have a list of strings and want a dictionary that maps each string to its length.\n",
    "\n",
    "Using a loop:"
   ],
   "id": "a900a999b8250382"
  },
  {
   "metadata": {
    "ExecuteTime": {
     "end_time": "2025-03-21T19:26:22.471343Z",
     "start_time": "2025-03-21T19:26:22.468561Z"
    }
   },
   "cell_type": "code",
   "source": [
    "words = [\"apple\", \"banana\", \"cherry\"]\n",
    "lengths = {}\n",
    "for word in words:\n",
    "    lengths[word] = len(word)\n"
   ],
   "id": "fd5528b49e1133ed",
   "outputs": [],
   "execution_count": 14
  },
  {
   "metadata": {},
   "cell_type": "markdown",
   "source": "**Using a dictionary comprehension:**",
   "id": "267ea55a42e5f6b2"
  },
  {
   "metadata": {
    "ExecuteTime": {
     "end_time": "2025-03-21T19:27:19.782655Z",
     "start_time": "2025-03-21T19:27:19.779998Z"
    }
   },
   "cell_type": "code",
   "source": [
    "lengths = {word: len(word) for word in words}\n",
    "print(lengths)"
   ],
   "id": "8e95a3d870e444b9",
   "outputs": [
    {
     "name": "stdout",
     "output_type": "stream",
     "text": [
      "{'apple': 5, 'banana': 6, 'cherry': 6}\n"
     ]
    }
   ],
   "execution_count": 15
  },
  {
   "metadata": {},
   "cell_type": "markdown",
   "source": [
    "**When to use:**\n",
    "\n",
    "* You’re building a dictionary by transforming elements in a list or iterable.\n",
    "* You want more concise and readable code.\n",
    "* You’re filtering as you build."
   ],
   "id": "c006d4c0c0b3ec34"
  },
  {
   "metadata": {},
   "cell_type": "markdown",
   "source": [
    "## Generator Expressions\n",
    "* Used when you want to generate items on-the-fly without storing them all in memory. They’re especially useful in `sum()`, `max()`, `min()`, `any()`, `all()`.\n",
    "\n",
    "**Syntax**\n",
    "`(expression for item in iterable if condition)`"
   ],
   "id": "f35e1f0ded8915bb"
  },
  {
   "metadata": {},
   "cell_type": "markdown",
   "source": [
    "**Example:**\n",
    "\n",
    "Find the sum of all even numbers in a list.\n",
    "\n",
    "**Using a loop:**"
   ],
   "id": "1757d356ef488427"
  },
  {
   "metadata": {
    "ExecuteTime": {
     "end_time": "2025-04-02T17:25:58.578406Z",
     "start_time": "2025-04-02T17:25:58.573605Z"
    }
   },
   "cell_type": "code",
   "source": [
    "nums = [1, 2, 3, 4, 7, 3]\n",
    "total = 0\n",
    "for n in nums:\n",
    "    if n % 2 == 0:\n",
    "        total += n\n",
    "print(total)\n"
   ],
   "id": "30f3c94084114916",
   "outputs": [
    {
     "name": "stdout",
     "output_type": "stream",
     "text": [
      "6\n"
     ]
    }
   ],
   "execution_count": 1
  },
  {
   "metadata": {},
   "cell_type": "markdown",
   "source": "**Using a generator expression:**",
   "id": "bb11d57d01b91272"
  },
  {
   "metadata": {
    "ExecuteTime": {
     "end_time": "2025-04-02T17:26:06.233650Z",
     "start_time": "2025-04-02T17:26:06.231197Z"
    }
   },
   "cell_type": "code",
   "source": [
    "total = sum(n for n in nums if n % 2 == 0)\n",
    "print(total)"
   ],
   "id": "40bf179bf29bd132",
   "outputs": [
    {
     "name": "stdout",
     "output_type": "stream",
     "text": [
      "6\n"
     ]
    }
   ],
   "execution_count": 2
  },
  {
   "metadata": {},
   "cell_type": "markdown",
   "source": [
    "### When to use:\n",
    "\n",
    "* You’re passing an iterable to a function like sum() or max().\n",
    "* You don’t need to store the intermediate results — just compute and discard.\n",
    "* Memory efficiency matters (e.g., when working with huge datasets or files).\n"
   ],
   "id": "b9dcda3102ac1102"
  },
  {
   "metadata": {},
   "cell_type": "markdown",
   "source": [
    "## Real Coding Interview Examples\n",
    "1. Count Frequency of Words"
   ],
   "id": "9c6a0f4ba928e9b3"
  },
  {
   "metadata": {
    "ExecuteTime": {
     "end_time": "2025-03-21T19:38:12.588401Z",
     "start_time": "2025-03-21T19:38:12.584969Z"
    }
   },
   "cell_type": "code",
   "source": [
    "words = [\"apple\", \"banana\", \"apple\", \"orange\", \"banana\", \"banana\"]\n",
    "\n",
    "# Using defaultdict:\n",
    "from collections import defaultdict\n",
    "freq = defaultdict(int)\n",
    "for word in words:\n",
    "    freq[word] += 1\n",
    "print(freq)\n",
    "\n",
    "# Dictionary comprehension with count() (less efficient for large lists):\n",
    "freq = {word: words.count(word) for word in set(words)}\n",
    "print(freq)"
   ],
   "id": "89c508b4c6c08ea6",
   "outputs": [
    {
     "name": "stdout",
     "output_type": "stream",
     "text": [
      "defaultdict(<class 'int'>, {'apple': 2, 'banana': 3, 'orange': 1})\n",
      "{'orange': 1, 'banana': 3, 'apple': 2}\n"
     ]
    }
   ],
   "execution_count": 21
  },
  {
   "metadata": {},
   "cell_type": "markdown",
   "source": "**now that you have a dictionary, you can use the `max()` function to find the most frquent fruit**",
   "id": "de86028711020cec"
  },
  {
   "metadata": {
    "ExecuteTime": {
     "end_time": "2025-03-21T19:42:20.267444Z",
     "start_time": "2025-03-21T19:42:20.264634Z"
    }
   },
   "cell_type": "code",
   "source": [
    "most_common_fruit = max(freq, key=freq.get)\n",
    "\n",
    "print(most_common_fruit)"
   ],
   "id": "9de4db97ec59a535",
   "outputs": [
    {
     "name": "stdout",
     "output_type": "stream",
     "text": [
      "banana\n"
     ]
    }
   ],
   "execution_count": 22
  },
  {
   "metadata": {},
   "cell_type": "markdown",
   "source": [
    "## Filter and Transform Dictionary\n",
    "You want to square only the even numbers in a dictionary of values."
   ],
   "id": "32eec8152e0bf0ca"
  },
  {
   "metadata": {
    "ExecuteTime": {
     "end_time": "2025-03-21T19:44:05.073882Z",
     "start_time": "2025-03-21T19:44:05.070325Z"
    }
   },
   "cell_type": "code",
   "source": [
    "nums = {'a': 1, 'b': 2, 'c': 3, 'd': 4}\n",
    "squared_evens = {k: v**2 for k, v in nums.items() if v % 2 == 0}\n",
    "print(squared_evens)\n"
   ],
   "id": "f3e43df4ee25c64",
   "outputs": [
    {
     "name": "stdout",
     "output_type": "stream",
     "text": [
      "{'b': 4, 'd': 16}\n"
     ]
    }
   ],
   "execution_count": 23
  },
  {
   "metadata": {},
   "cell_type": "markdown",
   "source": "**now that you have the dictionary, you can get the `min()`**",
   "id": "7951e6e9e9141067"
  },
  {
   "metadata": {
    "ExecuteTime": {
     "end_time": "2025-03-21T19:47:57.245331Z",
     "start_time": "2025-03-21T19:47:57.243072Z"
    }
   },
   "cell_type": "code",
   "source": [
    "least_freq_letter = min(squared_evens, key=squared_evens.get)\n",
    "print(least_freq_letter)"
   ],
   "id": "2bbd8a1a522d4995",
   "outputs": [
    {
     "name": "stdout",
     "output_type": "stream",
     "text": [
      "b\n"
     ]
    }
   ],
   "execution_count": 26
  },
  {
   "metadata": {},
   "cell_type": "markdown",
   "source": "## Find Max Value in a List of Tuples Using a Generator",
   "id": "4e054bc2e320add8"
  },
  {
   "metadata": {
    "ExecuteTime": {
     "end_time": "2025-03-21T19:50:51.320923Z",
     "start_time": "2025-03-21T19:50:51.318065Z"
    }
   },
   "cell_type": "code",
   "source": [
    "students = [(\"Alice\", 88), (\"Bob\", 95), (\"Charlie\", 72)]\n",
    "\n",
    "# Get name of student with the highest score\n",
    "best = max((score, name) for name, score in students)[1]\n",
    "print(best)"
   ],
   "id": "162e953f7e3ae527",
   "outputs": [
    {
     "name": "stdout",
     "output_type": "stream",
     "text": [
      "Bob\n"
     ]
    }
   ],
   "execution_count": 27
  },
  {
   "metadata": {},
   "cell_type": "markdown",
   "source": "**another way to do it**",
   "id": "76c39573dfa5e8b8"
  },
  {
   "metadata": {
    "ExecuteTime": {
     "end_time": "2025-03-21T19:59:26.047957Z",
     "start_time": "2025-03-21T19:59:26.043145Z"
    }
   },
   "cell_type": "code",
   "source": [
    "best = max(students, key = lambda x:x[1])\n",
    "print(best[0])"
   ],
   "id": "dbda380499fe33e5",
   "outputs": [
    {
     "name": "stdout",
     "output_type": "stream",
     "text": [
      "Bob\n"
     ]
    }
   ],
   "execution_count": 35
  },
  {
   "metadata": {},
   "cell_type": "markdown",
   "source": [
    "## With respect to the Student-tuple problem, let's understand the syntax\n",
    "#### 🤔 First Step — Let’s Try a Loop (The Old-School Way)"
   ],
   "id": "b824bd05bd10ec9b"
  },
  {
   "metadata": {
    "ExecuteTime": {
     "end_time": "2025-03-21T20:05:58.472937Z",
     "start_time": "2025-03-21T20:05:58.470384Z"
    }
   },
   "cell_type": "code",
   "source": [
    "max_score = -1\n",
    "best_student = None\n",
    "\n",
    "for name, score in students:\n",
    "    if score > max_score:\n",
    "        max_score = score\n",
    "        best_student = name\n",
    "\n",
    "print(best_student)"
   ],
   "id": "651b5731f03f5049",
   "outputs": [
    {
     "name": "stdout",
     "output_type": "stream",
     "text": [
      "Bob\n"
     ]
    }
   ],
   "execution_count": 36
  },
  {
   "metadata": {},
   "cell_type": "markdown",
   "source": [
    "### What’s `max()` Doing?\n",
    "The function `max()` finds the largest item in an iterable.\n",
    "\n",
    "If you pass it:"
   ],
   "id": "33f7ba793cc83da1"
  },
  {
   "metadata": {
    "ExecuteTime": {
     "end_time": "2025-03-21T20:08:00.895787Z",
     "start_time": "2025-03-21T20:08:00.890322Z"
    }
   },
   "cell_type": "code",
   "source": "max([1, 3, 2])\n",
   "id": "fa9c5d97d445afd2",
   "outputs": [
    {
     "data": {
      "text/plain": [
       "3"
      ]
     },
     "execution_count": 37,
     "metadata": {},
     "output_type": "execute_result"
    }
   ],
   "execution_count": 37
  },
  {
   "metadata": {},
   "cell_type": "markdown",
   "source": [
    "But what if the data isn’t a simple number? Like our (name, score) tuples?\n",
    "\n",
    "You have to tell `max()` how to compare the elements."
   ],
   "id": "2d896f56c03a2b38"
  },
  {
   "metadata": {},
   "cell_type": "markdown",
   "source": [
    "(score, name) for name, score in students\n",
    "## 🧱 Rebuilding the One-Liner Step-by-Step\n",
    "### 1. What’s this part doing?\n",
    "\n",
    "`(score, name) for name, score in students`\n",
    "\n",
    "This is a **generator expression** that converts:\n",
    "```\n",
    "(\"Alice\", 88) ➝ (88, \"Alice\")\n",
    "(\"Bob\", 95) ➝ (95, \"Bob\")\n",
    "(\"Charlie\", 72) ➝ (72, \"Charlie\")\n",
    "\n",
    "```\n",
    "Why flip them?\n",
    "Because `max()` compares tuples **left to right**. So comparing `(score, name)` will prioritize the score.\n",
    "\n",
    "That’s why we flip `(name, score)` ➝ `(score, name)`.\n",
    "\n",
    "Python compares tuples element by element.\n",
    "So `(95, 'Bob')` > `(88, 'Alice')` ➝ **True**\n",
    "\n",
    "### 2. Wrap it in `max()`"
   ],
   "id": "d606749248f641e6"
  },
  {
   "metadata": {
    "ExecuteTime": {
     "end_time": "2025-03-21T20:16:34.938828Z",
     "start_time": "2025-03-21T20:16:34.933885Z"
    }
   },
   "cell_type": "code",
   "source": [
    "max((score, name) for name, score in students)\n",
    "\n"
   ],
   "id": "7020234731e32654",
   "outputs": [
    {
     "data": {
      "text/plain": [
       "(95, 'Bob')"
      ]
     },
     "execution_count": 39,
     "metadata": {},
     "output_type": "execute_result"
    }
   ],
   "execution_count": 39
  },
  {
   "metadata": {},
   "cell_type": "markdown",
   "source": "### 3. Finally, pull out the name",
   "id": "875b6736fc96b129"
  },
  {
   "metadata": {
    "ExecuteTime": {
     "end_time": "2025-03-21T20:19:16.902369Z",
     "start_time": "2025-03-21T20:19:16.899266Z"
    }
   },
   "cell_type": "code",
   "source": "max((score, name) for name, score in students)[1]\n",
   "id": "3bfd8d1947610ec7",
   "outputs": [
    {
     "data": {
      "text/plain": [
       "'Bob'"
      ]
     },
     "execution_count": 41,
     "metadata": {},
     "output_type": "execute_result"
    }
   ],
   "execution_count": 41
  },
  {
   "metadata": {},
   "cell_type": "markdown",
   "source": [
    "That `[1]` grabs the second element — the student name.\n",
    "\n",
    "## I think the best one liner here is:"
   ],
   "id": "153d45f4e60f8355"
  },
  {
   "metadata": {
    "ExecuteTime": {
     "end_time": "2025-03-21T20:22:59.295001Z",
     "start_time": "2025-03-21T20:22:59.291593Z"
    }
   },
   "cell_type": "code",
   "source": "max(students, key=lambda x: x[1])[0]",
   "id": "44e30703bcd11346",
   "outputs": [
    {
     "data": {
      "text/plain": [
       "'Bob'"
      ]
     },
     "execution_count": 42,
     "metadata": {},
     "output_type": "execute_result"
    }
   ],
   "execution_count": 42
  },
  {
   "metadata": {},
   "cell_type": "markdown",
   "source": [
    "**This is:**\n",
    "\n",
    "* ✅ More readable\n",
    "* ✅ Preferred in production\n",
    "* ❌ Slightly longer, but clearer"
   ],
   "id": "1270ff2172a3b827"
  },
  {
   "metadata": {},
   "cell_type": "markdown",
   "source": [
    "### `sum(iterable, start=0)`\n",
    "* Adds up the items in an iterable.\n",
    "* Works with numbers and even lists (`sum([[1], [2], [3]], []`) ➝ `[1, 2, 3])`\n",
    "* No key= argument allowed."
   ],
   "id": "cf7570d59bea0c60"
  },
  {
   "metadata": {
    "ExecuteTime": {
     "end_time": "2025-03-21T20:40:45.373065Z",
     "start_time": "2025-03-21T20:40:45.370484Z"
    }
   },
   "cell_type": "code",
   "source": [
    "nums = [1, 2, 3, 4]\n",
    "total = sum(nums)\n",
    "print(total)"
   ],
   "id": "1b44f5dde0c6259b",
   "outputs": [
    {
     "name": "stdout",
     "output_type": "stream",
     "text": [
      "10\n"
     ]
    }
   ],
   "execution_count": 45
  },
  {
   "metadata": {},
   "cell_type": "markdown",
   "source": "### With generator expression:",
   "id": "255e08232a39887"
  },
  {
   "metadata": {
    "ExecuteTime": {
     "end_time": "2025-03-21T20:40:26.816316Z",
     "start_time": "2025-03-21T20:40:26.812311Z"
    }
   },
   "cell_type": "code",
   "source": [
    "evens_total = sum(n for n in nums if n % 2 == 0)\n",
    "print(evens_total)"
   ],
   "id": "8b439bbac543e823",
   "outputs": [
    {
     "name": "stdout",
     "output_type": "stream",
     "text": [
      "6\n"
     ]
    }
   ],
   "execution_count": 44
  },
  {
   "metadata": {},
   "cell_type": "markdown",
   "source": "🔥 **Common use:** summing based on a condition, often with generator expressions.",
   "id": "74988c9845d00dd8"
  },
  {
   "metadata": {},
   "cell_type": "markdown",
   "source": [
    "## any(iterable)\n",
    "* Returns True if at least one element is truthy.\n",
    "* Does not take a key= argument.\n",
    "* Short-circuits: stops as soon as it finds a truthy value.\n"
   ],
   "id": "be45468a5fc02c31"
  },
  {
   "metadata": {
    "ExecuteTime": {
     "end_time": "2025-03-21T20:45:43.736917Z",
     "start_time": "2025-03-21T20:45:43.733153Z"
    }
   },
   "cell_type": "code",
   "source": [
    "nums = [0, 0, 3, 0]\n",
    "any(nums)  # ➝ True, because 3 is truthy\n"
   ],
   "id": "e60f995785b255c6",
   "outputs": [
    {
     "data": {
      "text/plain": [
       "True"
      ]
     },
     "execution_count": 47,
     "metadata": {},
     "output_type": "execute_result"
    }
   ],
   "execution_count": 47
  },
  {
   "metadata": {},
   "cell_type": "markdown",
   "source": "### With generator:",
   "id": "e66e399aaef7c9a8"
  },
  {
   "metadata": {
    "ExecuteTime": {
     "end_time": "2025-03-21T20:47:21.263478Z",
     "start_time": "2025-03-21T20:47:21.260426Z"
    }
   },
   "cell_type": "code",
   "source": [
    "has_negative = any(n < 0 for n in nums)\n",
    "print(has_negative)\n"
   ],
   "id": "733c087ef33db8a2",
   "outputs": [
    {
     "name": "stdout",
     "output_type": "stream",
     "text": [
      "False\n"
     ]
    }
   ],
   "execution_count": 49
  },
  {
   "metadata": {},
   "cell_type": "markdown",
   "source": "**🔥 Common use**: checking if any element meets a condition.",
   "id": "49d2a3f897843e6"
  },
  {
   "metadata": {},
   "cell_type": "markdown",
   "source": [
    "## all(iterable)\n",
    "* Returns True only if all elements are truthy.\n",
    "* Also no key=.\n",
    "* Short-circuits on the first False.\n",
    "\n",
    "**🔍 Example:**"
   ],
   "id": "b4be1a48ccab6f85"
  },
  {
   "metadata": {
    "ExecuteTime": {
     "end_time": "2025-03-21T20:50:09.129108Z",
     "start_time": "2025-03-21T20:50:09.125798Z"
    }
   },
   "cell_type": "code",
   "source": [
    "nums = [1, 2, 3]\n",
    "all(nums)  # ➝ True (all are non-zero)\n",
    "\n",
    "nums = [1, 0, 3]\n",
    "all(nums)  # ➝ False (0 is falsy)\n"
   ],
   "id": "357009e62a32d2c9",
   "outputs": [
    {
     "data": {
      "text/plain": [
       "False"
      ]
     },
     "execution_count": 50,
     "metadata": {},
     "output_type": "execute_result"
    }
   ],
   "execution_count": 50
  },
  {
   "metadata": {},
   "cell_type": "markdown",
   "source": "#### With generator:",
   "id": "b75e740618f054c9"
  },
  {
   "metadata": {
    "ExecuteTime": {
     "end_time": "2025-03-21T20:52:26.945804Z",
     "start_time": "2025-03-21T20:52:26.943175Z"
    }
   },
   "cell_type": "code",
   "source": [
    "all_positive = all(n > 0 for n in nums)\n",
    "print(all_positive)"
   ],
   "id": "5f3db0f99aa9ad3e",
   "outputs": [
    {
     "name": "stdout",
     "output_type": "stream",
     "text": [
      "False\n"
     ]
    }
   ],
   "execution_count": 51
  },
  {
   "metadata": {},
   "cell_type": "markdown",
   "source": "**🔥 Common use**: validating all elements in a sequence.",
   "id": "48882f37a9846131"
  },
  {
   "metadata": {},
   "cell_type": "markdown",
   "source": [
    "### With all we have gone over, take a close look at the data structure\n",
    "It's a **list** of **dictionaries**, and this can be slightly confusing because you know that you have to get the **value** of **\"grade\"** in order to use the `sum()` function."
   ],
   "id": "aee4fb3ad7a79158"
  },
  {
   "metadata": {
    "ExecuteTime": {
     "end_time": "2025-03-21T21:02:36.536874Z",
     "start_time": "2025-03-21T21:02:36.533082Z"
    }
   },
   "cell_type": "code",
   "source": [
    "students = [\n",
    "    {\"name\": \"Alice\", \"grade\": 85},\n",
    "    {\"name\": \"Bob\", \"grade\": 92},\n",
    "    {\"name\": \"Charlie\", \"grade\": 78}\n",
    "]\n"
   ],
   "id": "1c85f2cc1fc99577",
   "outputs": [],
   "execution_count": 52
  },
  {
   "metadata": {},
   "cell_type": "markdown",
   "source": [
    "Can you use:\n",
    "\n",
    "* `sum()` to get the total grade\n",
    "* `all()` to check if all passed (grade ≥ 70)\n",
    "* `any()` to see if anyone got above 90\n",
    "* `max(..., key=...)` to find the top student\n"
   ],
   "id": "531777a9e544cc27"
  },
  {
   "metadata": {},
   "cell_type": "markdown",
   "source": "**Loop**",
   "id": "d9119ad953a6d6a0"
  },
  {
   "metadata": {
    "ExecuteTime": {
     "end_time": "2025-03-21T21:29:04.850298Z",
     "start_time": "2025-03-21T21:29:04.847633Z"
    }
   },
   "cell_type": "code",
   "source": [
    "inf = []\n",
    "for info in students:\n",
    "    grades = info.get(\"grade\")\n",
    "    inf.append(grades)\n",
    "print(sum(inf))"
   ],
   "id": "78c67dfe9a15e52e",
   "outputs": [
    {
     "name": "stdout",
     "output_type": "stream",
     "text": [
      "255\n"
     ]
    }
   ],
   "execution_count": 66
  },
  {
   "metadata": {},
   "cell_type": "markdown",
   "source": "## Better way",
   "id": "75341f094268b618"
  },
  {
   "metadata": {
    "ExecuteTime": {
     "end_time": "2025-03-21T21:33:27.248109Z",
     "start_time": "2025-03-21T21:33:27.243073Z"
    }
   },
   "cell_type": "code",
   "source": [
    "total = sum(student.get(\"grade\", 0) for student in students)\n",
    "print(total)\n"
   ],
   "id": "2a586290f3a61d3f",
   "outputs": [
    {
     "name": "stdout",
     "output_type": "stream",
     "text": [
      "255\n"
     ]
    }
   ],
   "execution_count": 67
  },
  {
   "metadata": {},
   "cell_type": "markdown",
   "source": "### OR Better yet:",
   "id": "44da4f2a498ae3ef"
  },
  {
   "metadata": {
    "ExecuteTime": {
     "end_time": "2025-03-21T21:35:02.726335Z",
     "start_time": "2025-03-21T21:35:02.722820Z"
    }
   },
   "cell_type": "code",
   "source": [
    "total = sum(student[\"grade\"] for student in students)\n",
    "print(total)\n"
   ],
   "id": "2617371ddc960e8e",
   "outputs": [
    {
     "name": "stdout",
     "output_type": "stream",
     "text": [
      "255\n"
     ]
    }
   ],
   "execution_count": 68
  },
  {
   "metadata": {},
   "cell_type": "markdown",
   "source": [
    "### Remember, the above is a *list* of dictionaries\n",
    "**So this will work**"
   ],
   "id": "5a40016de6b16034"
  },
  {
   "metadata": {
    "ExecuteTime": {
     "end_time": "2025-03-21T21:42:09.184017Z",
     "start_time": "2025-03-21T21:42:09.181178Z"
    }
   },
   "cell_type": "code",
   "source": [
    "for student in students:\n",
    "    print(student[\"grade\"])\n"
   ],
   "id": "cc087dab2a66badb",
   "outputs": [
    {
     "name": "stdout",
     "output_type": "stream",
     "text": [
      "85\n",
      "92\n",
      "78\n"
     ]
    }
   ],
   "execution_count": 69
  },
  {
   "metadata": {},
   "cell_type": "markdown",
   "source": [
    "## 🧠 The Way to Think About It\n",
    "#### Here’s the rule of thumb:\n",
    "\n",
    "* If you’re **iterating over a list**, you're getting **one item at a time**.\n",
    "* If the item happens to be a dictionary, then you can do `.get()`, `.items()`, etc. on that item.\n"
   ],
   "id": "aac291953af7454d"
  },
  {
   "metadata": {},
   "cell_type": "markdown",
   "source": [
    "## 🔁 Real-World Analogy\n",
    "* Let’s say `students` is like a row of folders on a shelf.\n",
    "* Each folder (dictionary) contains some info: a name and a grade.\n",
    "\n",
    "When you do:\n",
    "```\n",
    "for folder in shelf:\n",
    "   print(folder[\"grade\"])\n",
    "```\n",
    "You’re pulling one folder off the shelf at a time and opening it to see what’s inside.\n",
    "\n",
    "### 🔨 Practice Fix\n",
    "If you find yourself trying to write:\n",
    "`{k: v for k, v in students.items()}`\n",
    "\n",
    "**Just pause and ask:**\n",
    "\n",
    "> \"Wait… is students a dictionary? Or a list?\"\n",
    "\n",
    "Do:\n"
   ],
   "id": "aee5b08565b357b9"
  },
  {
   "metadata": {
    "ExecuteTime": {
     "end_time": "2025-03-21T22:01:05.288863Z",
     "start_time": "2025-03-21T22:01:05.282219Z"
    }
   },
   "cell_type": "code",
   "source": [
    "print(type(students))  # list\n",
    "print(type(students[0]))  # dict\n"
   ],
   "id": "ae46fe5897c17f77",
   "outputs": [
    {
     "name": "stdout",
     "output_type": "stream",
     "text": [
      "<class 'list'>\n",
      "<class 'dict'>\n"
     ]
    }
   ],
   "execution_count": 70
  },
  {
   "metadata": {},
   "cell_type": "markdown",
   "source": "Once that muscle memory locks in — **you're good**.",
   "id": "7e9f5c211d5ebf77"
  },
  {
   "metadata": {},
   "cell_type": "markdown",
   "source": [
    "## 🔄 1. Warm-up: List of dictionaries\n",
    "Data:"
   ],
   "id": "271ceef6944ada9b"
  },
  {
   "metadata": {
    "ExecuteTime": {
     "end_time": "2025-03-21T22:07:05.877443Z",
     "start_time": "2025-03-21T22:07:05.875012Z"
    }
   },
   "cell_type": "code",
   "source": [
    "students = [\n",
    "    {\"name\": \"Alice\", \"grade\": 85},\n",
    "    {\"name\": \"Bob\", \"grade\": 92},\n",
    "    {\"name\": \"Charlie\", \"grade\": 78}\n",
    "]\n"
   ],
   "id": "881e2f5105e2e9a0",
   "outputs": [],
   "execution_count": 71
  },
  {
   "metadata": {},
   "cell_type": "markdown",
   "source": [
    "### Challenge 1: Get all the names in a list\n",
    "i.e. `[\"Alice\", \"Bob\", \"Charlie\"]`"
   ],
   "id": "e9e915d811f9ba22"
  },
  {
   "metadata": {
    "ExecuteTime": {
     "end_time": "2025-03-21T22:10:19.479209Z",
     "start_time": "2025-03-21T22:10:19.473141Z"
    }
   },
   "cell_type": "code",
   "source": [
    "names = [student[\"name\"] for student in students]\n",
    "print(names)"
   ],
   "id": "72667824d053279e",
   "outputs": [
    {
     "name": "stdout",
     "output_type": "stream",
     "text": [
      "['Alice', 'Bob', 'Charlie']\n"
     ]
    }
   ],
   "execution_count": 72
  },
  {
   "metadata": {},
   "cell_type": "markdown",
   "source": [
    "### Challenge 2: Create a dictionary of names and grades\n",
    "want: `{\"Alice\": 85, \"Bob\": 92, \"Charlie\": 78}`"
   ],
   "id": "86a9ed5d2c5f31ca"
  },
  {
   "metadata": {
    "ExecuteTime": {
     "end_time": "2025-03-21T22:14:57.528446Z",
     "start_time": "2025-03-21T22:14:57.524923Z"
    }
   },
   "cell_type": "code",
   "source": "{student[\"name\"]:student[\"grade\"] for student in students}",
   "id": "a8ef442eb1525c62",
   "outputs": [
    {
     "data": {
      "text/plain": [
       "{'Alice': 85, 'Bob': 92, 'Charlie': 78}"
      ]
     },
     "execution_count": 73,
     "metadata": {},
     "output_type": "execute_result"
    }
   ],
   "execution_count": 73
  },
  {
   "metadata": {},
   "cell_type": "markdown",
   "source": [
    "## 🔁 2. Level Up: Nested dictionaries\n",
    "**Challenge 3: Get everyone’s math grade, i.e.**\n",
    "\n",
    "`[90, 92, 78]`"
   ],
   "id": "761a422ef9f948c1"
  },
  {
   "metadata": {
    "ExecuteTime": {
     "end_time": "2025-03-26T22:51:22.418657Z",
     "start_time": "2025-03-26T22:51:22.413121Z"
    }
   },
   "cell_type": "code",
   "source": [
    "students = [\n",
    "    {\n",
    "        \"name\": \"Alice\",\n",
    "        \"grades\": {\"math\": 90, \"science\": 85}\n",
    "    },\n",
    "    {\n",
    "        \"name\": \"Bob\",\n",
    "        \"grades\": {\"math\": 92, \"science\": 88}\n",
    "    },\n",
    "    {\n",
    "        \"name\": \"Charlie\",\n",
    "        \"grades\": {\"math\": 78, \"science\": 80}\n",
    "    }\n",
    "]\n",
    "[student[\"grades\"][\"math\"] for student in students]"
   ],
   "id": "26ab3e20f2b083c6",
   "outputs": [
    {
     "data": {
      "text/plain": [
       "[90, 92, 78]"
      ]
     },
     "execution_count": 4,
     "metadata": {},
     "output_type": "execute_result"
    }
   ],
   "execution_count": 4
  },
  {
   "metadata": {},
   "cell_type": "markdown",
   "source": [
    "## Challenge 4: Get a dict of {name: science grade}\n",
    "desired output: `{\"Alice\": 85, \"Bob\": 88, \"Charlie\": 80}`"
   ],
   "id": "be6a9e9efdd95197"
  },
  {
   "metadata": {
    "ExecuteTime": {
     "end_time": "2025-03-21T22:38:56.657719Z",
     "start_time": "2025-03-21T22:38:56.640376Z"
    }
   },
   "cell_type": "code",
   "source": "{student[\"name\"]:student[\"grades\"][\"science\"] for student in students}",
   "id": "342900f9208c2fd6",
   "outputs": [
    {
     "data": {
      "text/plain": [
       "{'Alice': 85, 'Bob': 88, 'Charlie': 80}"
      ]
     },
     "execution_count": 78,
     "metadata": {},
     "output_type": "execute_result"
    }
   ],
   "execution_count": 78
  },
  {
   "metadata": {},
   "cell_type": "markdown",
   "source": [
    "### 🧠 3. Interview-Style Challenges\n",
    "🧪 Challenge 5: Check if all students passed math (≥ 70)"
   ],
   "id": "2083d345d1820e55"
  },
  {
   "metadata": {
    "ExecuteTime": {
     "end_time": "2025-03-26T22:50:19.055010Z",
     "start_time": "2025-03-26T22:50:19.051143Z"
    }
   },
   "cell_type": "code",
   "source": [
    "students = [\n",
    "    {\n",
    "        \"name\": \"Alice\",\n",
    "        \"grades\": {\"math\": 90, \"science\": 85}\n",
    "    },\n",
    "    {\n",
    "        \"name\": \"Bob\",\n",
    "        \"grades\": {\"math\": 92, \"science\": 88}\n",
    "    },\n",
    "    {\n",
    "        \"name\": \"Charlie\",\n",
    "        \"grades\": {\"math\": 78, \"science\": 80}\n",
    "    }\n",
    "]\n",
    "\n",
    "high_math = [student[\"grades\"][\"math\"]>=70 for student in students]\n",
    "print(high_math)"
   ],
   "id": "1bc66bfe187b73c1",
   "outputs": [
    {
     "name": "stdout",
     "output_type": "stream",
     "text": [
      "[True, True, True]\n"
     ]
    }
   ],
   "execution_count": 3
  },
  {
   "metadata": {},
   "cell_type": "markdown",
   "source": "### 🧪 Challenge 6: Is anyone getting less than a B science (< 80)?",
   "id": "bf3b492918eacf7d"
  },
  {
   "metadata": {
    "ExecuteTime": {
     "end_time": "2025-03-21T22:47:59.901471Z",
     "start_time": "2025-03-21T22:47:59.897915Z"
    }
   },
   "cell_type": "code",
   "source": "any(student[\"grades\"][\"science\"]<80 for student in students)",
   "id": "a979d83a66ef2d81",
   "outputs": [
    {
     "data": {
      "text/plain": [
       "False"
      ]
     },
     "execution_count": 80,
     "metadata": {},
     "output_type": "execute_result"
    }
   ],
   "execution_count": 80
  },
  {
   "metadata": {},
   "cell_type": "markdown",
   "source": "### 🧪 Challenge 7: Sum of all science grades",
   "id": "f4cde02839c6124e"
  },
  {
   "metadata": {
    "ExecuteTime": {
     "end_time": "2025-03-21T22:50:13.925032Z",
     "start_time": "2025-03-21T22:50:13.917197Z"
    }
   },
   "cell_type": "code",
   "source": "sum(student[\"grades\"][\"math\"] for student in students)",
   "id": "fae2cf40a66a26db",
   "outputs": [
    {
     "data": {
      "text/plain": [
       "260"
      ]
     },
     "execution_count": 81,
     "metadata": {},
     "output_type": "execute_result"
    }
   ],
   "execution_count": 81
  },
  {
   "metadata": {},
   "cell_type": "markdown",
   "source": [
    "## 🧠 Recap Strategy\n",
    "Whenever you see a **list of dicts**, just think:\n",
    "\n",
    ">* I'm looping over the **list**, so each item is a **dict**.\n",
    ">* I can use the dict keys just like I would on any dictionary.\n",
    "\n",
    "And if it’s nested (like grades[\"math\"]), just chain the keys:"
   ],
   "id": "3a17c3030b386f83"
  },
  {
   "metadata": {
    "ExecuteTime": {
     "end_time": "2025-03-21T22:54:07.783222Z",
     "start_time": "2025-03-21T22:54:07.779552Z"
    }
   },
   "cell_type": "code",
   "source": "[student[\"grades\"][\"math\"] for student in students]",
   "id": "6597ee6ceb53feb1",
   "outputs": [
    {
     "data": {
      "text/plain": [
       "[90, 92, 78]"
      ]
     },
     "execution_count": 84,
     "metadata": {},
     "output_type": "execute_result"
    }
   ],
   "execution_count": 84
  },
  {
   "metadata": {},
   "cell_type": "code",
   "outputs": [],
   "execution_count": null,
   "source": "",
   "id": "f480db826103cb8b"
  }
 ],
 "metadata": {
  "kernelspec": {
   "display_name": "Python 3",
   "language": "python",
   "name": "python3"
  },
  "language_info": {
   "codemirror_mode": {
    "name": "ipython",
    "version": 2
   },
   "file_extension": ".py",
   "mimetype": "text/x-python",
   "name": "python",
   "nbconvert_exporter": "python",
   "pygments_lexer": "ipython2",
   "version": "2.7.6"
  }
 },
 "nbformat": 4,
 "nbformat_minor": 5
}
