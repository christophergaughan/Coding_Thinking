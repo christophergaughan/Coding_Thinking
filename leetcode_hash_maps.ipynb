{
 "cells": [
  {
   "cell_type": "code",
   "id": "initial_id",
   "metadata": {
    "collapsed": true,
    "ExecuteTime": {
     "end_time": "2025-10-18T06:33:23.491472Z",
     "start_time": "2025-10-18T06:33:23.475944Z"
    }
   },
   "source": [
    "# Declaration: a hash map is declared like any other variable. The syntax is {}\n",
    "hash_map = {}\n",
    "\n",
    "# If you want to initialize it with some key value pairs, use the following syntax:\n",
    "hash_map = {1: 2, 5: 3, 7: 2}\n",
    "\n",
    "# Checking if a key exists: simply use the `in` keyword\n",
    "1 in hash_map # True\n",
    "9 in hash_map # False\n",
    "\n",
    "# Accessing a value given a key: use square brackets, similar to an array.\n",
    "hash_map[5] # 3\n",
    "\n",
    "# Adding or updating a key: use square brackets, similar to an array.\n",
    "# If the key already exists, the value will be updated\n",
    "hash_map[5] = 6\n",
    "\n",
    "# If the key doesn't exist yet, the key value pair will be inserted\n",
    "hash_map[9] = 15\n",
    "\n",
    "# Deleting a key: use the del keyword. Key must exist or you will get an error.\n",
    "del hash_map[9]\n",
    "\n",
    "# Get size\n",
    "len(hash_map) # 3\n",
    "\n",
    "# Get keys: use .keys(). You can iterate over this using a for loop.\n",
    "keys = hash_map.keys()\n",
    "for key in keys:\n",
    "    print(key)\n",
    "\n",
    "# Get values: use .values(). You can iterate over this using a for loop.\n",
    "values = hash_map.values()\n",
    "for val in values:\n",
    "    print(val)"
   ],
   "outputs": [
    {
     "name": "stdout",
     "output_type": "stream",
     "text": [
      "1\n",
      "5\n",
      "7\n",
      "2\n",
      "6\n",
      "2\n"
     ]
    }
   ],
   "execution_count": 2
  },
  {
   "metadata": {
    "ExecuteTime": {
     "end_time": "2025-10-18T06:33:23.548550Z",
     "start_time": "2025-10-18T06:33:23.540133Z"
    }
   },
   "cell_type": "code",
   "source": "{k:v for k, v in hash_map.items()}",
   "id": "1b6723b7915f105f",
   "outputs": [
    {
     "data": {
      "text/plain": [
       "{1: 2, 5: 6, 7: 2}"
      ]
     },
     "execution_count": 3,
     "metadata": {},
     "output_type": "execute_result"
    }
   ],
   "execution_count": 3
  },
  {
   "metadata": {
    "ExecuteTime": {
     "end_time": "2025-10-18T06:33:23.567456Z",
     "start_time": "2025-10-18T06:33:23.562319Z"
    }
   },
   "cell_type": "code",
   "source": "{val ** 2 for val in hash_map.values()}",
   "id": "f100de2c7588d5ef",
   "outputs": [
    {
     "data": {
      "text/plain": [
       "{4, 36}"
      ]
     },
     "execution_count": 4,
     "metadata": {},
     "output_type": "execute_result"
    }
   ],
   "execution_count": 4
  },
  {
   "metadata": {
    "ExecuteTime": {
     "end_time": "2025-10-18T06:33:23.584515Z",
     "start_time": "2025-10-18T06:33:23.579354Z"
    }
   },
   "cell_type": "code",
   "source": "{sum(values) for val in hash_map.values()}",
   "id": "c0d5d44204ec888e",
   "outputs": [
    {
     "data": {
      "text/plain": [
       "{10}"
      ]
     },
     "execution_count": 5,
     "metadata": {},
     "output_type": "execute_result"
    }
   ],
   "execution_count": 5
  },
  {
   "metadata": {},
   "cell_type": "markdown",
   "source": [
    "## Example 1: 1. Two Sum\n",
    "\n",
    "> Given an array of integers `nums` and an integer `target`, return indices of two numbers such that they add up to `target`. You cannot use the same index twice.\n",
    "\n",
    "The brute force solution would be to use a nested for loop to iterate over every pair of indices and check if the sum is equal to `target`. This will result in a time complexity of $O(n^2)$. In the brute force solution, the first for loop focuses on a number `num` and does a second for loop which looks for `target - num` in the array. With an array, looking for `target` - num is $O(n)$, but with a hash map, it is $O(1)$.\n",
    "\n",
    "We can build a hash map as we iterate along the array, mapping each value to it's index. At each index `i`, where `num = nums[i]`, we can check our hash map for `target - num`. Adding key-value pairs and checking for `target - num` are all $O(1)$, so our time complexity will improve to $O(n)$.\n",
    "\n"
   ],
   "id": "c21d396c7993e260"
  },
  {
   "metadata": {
    "ExecuteTime": {
     "end_time": "2025-10-18T06:33:23.600608Z",
     "start_time": "2025-10-18T06:33:23.595292Z"
    }
   },
   "cell_type": "code",
   "source": [
    "nums = [5, 2, 7, 10, 3, 9]\n",
    "target = 8\n",
    "\n",
    "def twoSum(nums, target):\n",
    "    dic = {}\n",
    "    for i in range(len(nums)):\n",
    "        num = nums[i]\n",
    "        complement = target - num\n",
    "        if complement in dic: # This operation is O(1)!\n",
    "            return [i, dic[complement]]\n",
    "\n",
    "        dic[num] = i\n",
    "\n",
    "    return dic #[-1, -1]\n",
    "\n",
    "print(twoSum(nums, target))"
   ],
   "id": "efe7e8eb08447b5c",
   "outputs": [
    {
     "name": "stdout",
     "output_type": "stream",
     "text": [
      "[4, 0]\n"
     ]
    }
   ],
   "execution_count": 6
  },
  {
   "metadata": {},
   "cell_type": "markdown",
   "source": [
    "### ✅ Using .get() in twoSum\n",
    "in this problem you are using the formula `nums[i] + complement = target` thus `target - nums[i] = complement`\n",
    "\n",
    "A more **'Pythonic'** is to write it this way:"
   ],
   "id": "5bb97bf57277c353"
  },
  {
   "metadata": {
    "ExecuteTime": {
     "end_time": "2025-10-18T06:33:23.621493Z",
     "start_time": "2025-10-18T06:33:23.616565Z"
    }
   },
   "cell_type": "code",
   "source": [
    "def twoSum(nums, target):\n",
    "    dic = {}\n",
    "    for i, num in enumerate(nums):\n",
    "        complement = target - num # here we are getting the number to look for\n",
    "        index = dic.get(complement)\n",
    "        if index is not None:\n",
    "            return [i, index]\n",
    "        dic[num] = i\n",
    "    return dic#[-1, -1]\n",
    "\n",
    "print(twoSum(nums, target))"
   ],
   "id": "fd0a6d0fee7f5f3d",
   "outputs": [
    {
     "name": "stdout",
     "output_type": "stream",
     "text": [
      "[4, 0]\n"
     ]
    }
   ],
   "execution_count": 7
  },
  {
   "metadata": {},
   "cell_type": "markdown",
   "source": [
    "## 🔍 What Is dict.get() in Python?\n",
    "`dict.get(key, default_value)` is a safe way to access a value from a dictionary without raising an error if the key doesn't exist.\n",
    "\n",
    "### ✅ Basic Example"
   ],
   "id": "490ba6b205e18529"
  },
  {
   "metadata": {
    "ExecuteTime": {
     "end_time": "2025-10-18T06:33:23.638745Z",
     "start_time": "2025-10-18T06:33:23.633834Z"
    }
   },
   "cell_type": "code",
   "source": [
    "prices = {\"apple\": 1.5, \"banana\": 0.99}\n",
    "\n",
    "# Works fine\n",
    "print(prices.get(\"apple\"))        # → 1.5\n",
    "\n",
    "# Key doesn't exist, so get() returns None\n",
    "print(prices.get(\"orange\"))       # → None\n",
    "\n",
    "# With a default value\n",
    "print(prices.get(\"orange\", 0))    # → 0\n"
   ],
   "id": "20ba54c00a29840f",
   "outputs": [
    {
     "name": "stdout",
     "output_type": "stream",
     "text": [
      "1.5\n",
      "None\n",
      "0\n"
     ]
    }
   ],
   "execution_count": 8
  },
  {
   "metadata": {},
   "cell_type": "markdown",
   "source": [
    "### 💡 Use Cases\n",
    "1. ✅ Avoiding KeyErrors"
   ],
   "id": "d83ac731c6429cd4"
  },
  {
   "metadata": {
    "ExecuteTime": {
     "end_time": "2025-10-18T06:33:23.665588Z",
     "start_time": "2025-10-18T06:33:23.662629Z"
    }
   },
   "cell_type": "code",
   "source": [
    "# Without get()\n",
    "# print(prices[\"orange\"])  # ❌ KeyError\n",
    "\n",
    "# With get()\n",
    "print(prices.get(\"orange\"))  # ✅ None\n"
   ],
   "id": "bf37012aaafb6072",
   "outputs": [
    {
     "name": "stdout",
     "output_type": "stream",
     "text": [
      "None\n"
     ]
    }
   ],
   "execution_count": 9
  },
  {
   "metadata": {},
   "cell_type": "markdown",
   "source": "### 2. ✅ Setting a Default Value",
   "id": "5340c5d55f9f5b6d"
  },
  {
   "metadata": {
    "ExecuteTime": {
     "end_time": "2025-10-18T06:33:23.683530Z",
     "start_time": "2025-10-18T06:33:23.680343Z"
    }
   },
   "cell_type": "code",
   "source": [
    "name_ages = {\"Chris\": 30, \"Mike\": 25}\n",
    "\n",
    "print(name_ages.get(\"Lena\", 20))  # → 20 (uses default)\n",
    "print(name_ages.get(\"Chris\", 20)) # → 30 (ignores default)\n"
   ],
   "id": "245143ef512fb737",
   "outputs": [
    {
     "name": "stdout",
     "output_type": "stream",
     "text": [
      "20\n",
      "30\n"
     ]
    }
   ],
   "execution_count": 10
  },
  {
   "metadata": {},
   "cell_type": "markdown",
   "source": "## It's important to know how to build a dictionary from `nums` in the first place, so let do that",
   "id": "83350c5c76a7236e"
  },
  {
   "metadata": {
    "ExecuteTime": {
     "end_time": "2025-10-18T06:33:23.724769Z",
     "start_time": "2025-10-18T06:33:23.720878Z"
    }
   },
   "cell_type": "code",
   "source": [
    "nums = [5, 2, 7, 10, 3, 9]\n",
    "target = 8\n",
    "\n",
    "dict = {}\n",
    "for i, num in enumerate(nums):\n",
    "    dict[num] = i # key=num val=idx\n",
    "print(dict)\n",
    "\n",
    "\n"
   ],
   "id": "1f86c0eb9b0033b9",
   "outputs": [
    {
     "name": "stdout",
     "output_type": "stream",
     "text": [
      "{5: 0, 2: 1, 7: 2, 10: 3, 3: 4, 9: 5}\n"
     ]
    }
   ],
   "execution_count": 11
  },
  {
   "metadata": {},
   "cell_type": "markdown",
   "source": [
    "### 🧠 Bonus: .get() Is Readable\n",
    "Instead of this:"
   ],
   "id": "ba89d684b40b0a63"
  },
  {
   "metadata": {
    "ExecuteTime": {
     "end_time": "2025-10-18T06:33:23.743468Z",
     "start_time": "2025-10-18T06:33:23.740536Z"
    }
   },
   "cell_type": "code",
   "source": [
    "if \"banana\" in prices:\n",
    "    price = prices[\"banana\"]\n",
    "else:\n",
    "    price = 0\n"
   ],
   "id": "2f81ff41340f352c",
   "outputs": [],
   "execution_count": 12
  },
  {
   "metadata": {},
   "cell_type": "markdown",
   "source": "You just write:",
   "id": "5b3574855da80e48"
  },
  {
   "metadata": {
    "ExecuteTime": {
     "end_time": "2025-10-18T06:33:23.758535Z",
     "start_time": "2025-10-18T06:33:23.755286Z"
    }
   },
   "cell_type": "code",
   "source": [
    "price = prices.get(\"banana\", 0)\n",
    "print(price)\n"
   ],
   "id": "bdefeeb9dcc7c828",
   "outputs": [
    {
     "name": "stdout",
     "output_type": "stream",
     "text": [
      "0.99\n"
     ]
    }
   ],
   "execution_count": 13
  },
  {
   "metadata": {},
   "cell_type": "markdown",
   "source": [
    "## Example 2: 2351. First Letter to Appear Twice\n",
    "\n",
    "Given a string `s`, return the first character to appear twice. It is guaranteed that the input will have a duplicate character."
   ],
   "id": "71fe7aa86c0018a7"
  },
  {
   "metadata": {
    "ExecuteTime": {
     "end_time": "2025-10-18T06:33:23.776577Z",
     "start_time": "2025-10-18T06:33:23.773204Z"
    }
   },
   "cell_type": "code",
   "source": [
    "s = \"abcdeda\"\n",
    "\n",
    "\n",
    "def repeatedCharacter(s):\n",
    "    seen = set()\n",
    "    for c in s:\n",
    "        if c in seen:\n",
    "            return c\n",
    "        seen.add(c)\n",
    "\n",
    "    return seen\n",
    "\n",
    "print(repeatedCharacter(s))"
   ],
   "id": "5681444d73f8c47a",
   "outputs": [
    {
     "name": "stdout",
     "output_type": "stream",
     "text": [
      "d\n"
     ]
    }
   ],
   "execution_count": 14
  },
  {
   "metadata": {},
   "cell_type": "markdown",
   "source": [
    "## Check if the Sentence Is Pangram\n",
    "A pangram is a `sentence` where every letter of the English alphabet appears at least once.\n",
    "\n",
    "Given a string `sentence` containing only lowercase English letters, return `true` if `sentence` is a pangram, or `false` otherwise.\n",
    "\n",
    "```python\n",
    "Input: sentence = \"thequickbrownfoxjumpsoverthelazydog\"\n",
    "Output: true\n",
    "Explanation: sentence contains at least one of every letter of the English alphabet.\n",
    "```\n",
    "\n",
    "```python\n",
    "Input: sentence = \"leetcode\"\n",
    "Output: false\n",
    "```"
   ],
   "id": "ebaee65b60980f8a"
  },
  {
   "metadata": {
    "ExecuteTime": {
     "end_time": "2025-10-18T06:33:23.792447Z",
     "start_time": "2025-10-18T06:33:23.788809Z"
    }
   },
   "cell_type": "code",
   "source": [
    "# we know that id the len(set) == 27 we must have a Panagram\n",
    "s = (\"thequickbrownfoxjumpsoverthelazydog\")\n",
    "def panagram(s):\n",
    "    seen = set()\n",
    "    for letter in s:\n",
    "        seen.add(letter)\n",
    "    if len(seen) == 26:\n",
    "        return True\n",
    "    return False\n",
    "print(panagram(s))\n"
   ],
   "id": "b7e7294405cbc282",
   "outputs": [
    {
     "name": "stdout",
     "output_type": "stream",
     "text": [
      "True\n"
     ]
    }
   ],
   "execution_count": 15
  },
  {
   "metadata": {},
   "cell_type": "markdown",
   "source": [
    "## Missing Number\n",
    "Given an array `nums` containing `n` distinct numbers in the range `[0, n]`, return the only number in the range that is missing from the array.\n",
    "\n",
    " **Example 1:**\n",
    " ```python\n",
    "Input: nums = [3,0,1]\n",
    "\n",
    "Output: 2\n",
    "\n",
    "\n",
    "```\n",
    "**Explanation:**\n",
    "`n = 3` since there are 3 numbers, so all numbers are in the range `[0,3]`. 2 is the missing number in the range since it does not appear in `nums`.\n"
   ],
   "id": "eb7330c6ff6227e2"
  },
  {
   "metadata": {
    "ExecuteTime": {
     "end_time": "2025-10-18T06:33:23.807569Z",
     "start_time": "2025-10-18T06:33:23.803605Z"
    }
   },
   "cell_type": "code",
   "source": [
    "nums = [3,0,1]\n",
    "\n",
    "def missingNumber(nums):\n",
    "        full = set(range(len(nums) + 1))\n",
    "        return (full - set(nums)).pop()\n",
    "\n",
    "missingNumber(nums)"
   ],
   "id": "43f4f44530985b6b",
   "outputs": [
    {
     "data": {
      "text/plain": [
       "2"
      ]
     },
     "execution_count": 16,
     "metadata": {},
     "output_type": "execute_result"
    }
   ],
   "execution_count": 16
  },
  {
   "metadata": {},
   "cell_type": "markdown",
   "source": [
    "### 🧠 Why .pop()?\n",
    "Because set subtraction returns a set, even if it contains just one value. `.pop()` pulls out that single number."
   ],
   "id": "90fb569a110f723d"
  },
  {
   "metadata": {},
   "cell_type": "markdown",
   "source": [
    "### Example Walkthrough\n",
    "Input:"
   ],
   "id": "d261530fff017b12"
  },
  {
   "metadata": {
    "ExecuteTime": {
     "end_time": "2025-10-18T06:33:23.820649Z",
     "start_time": "2025-10-18T06:33:23.817874Z"
    }
   },
   "cell_type": "code",
   "source": "nums = [3, 0, 1]\n",
   "id": "988cfcaf7bc408be",
   "outputs": [],
   "execution_count": 17
  },
  {
   "metadata": {},
   "cell_type": "markdown",
   "source": [
    "* `len(nums) = 3`\n",
    "\n",
    "* full = `set(range(4))` = `{0, 1, 2, 3}`\n",
    "\n",
    "* `set(nums)` = `{0, 1, 3}`\n",
    "\n",
    "* Difference = `{2}`\n",
    "* `.pop()` gets `2`\n",
    "\n",
    "Alright bet — the math trick for the “Missing Number” problem is a classic interview move. Let’s go over it:\n",
    "\n",
    "### 🔢 The Math Trick (Sum Formula)\n",
    "If there are n numbers from 0 to n, their sum should be:\n",
    "\n",
    "$expected\\_sum = \\frac{n(n+1)}{2}$\n",
    "\n",
    "\n",
    "If you subtract the actual sum of the list from the expected sum, you get the missing number.\n",
    "\n",
    "### ✅ Final Code (Math Version)"
   ],
   "id": "f56836cb4a6fb85c"
  },
  {
   "metadata": {
    "ExecuteTime": {
     "end_time": "2025-10-18T06:33:23.837632Z",
     "start_time": "2025-10-18T06:33:23.833131Z"
    }
   },
   "cell_type": "code",
   "source": [
    "nums = [0, 1, 2, 3, 4, 6, 7, 8]  # missing number is 2\n",
    "\n",
    "\n",
    "def missingNumber(nums):\n",
    "    n = len(nums)\n",
    "    expected_sum = n * (n + 1) // 2\n",
    "    actual_sum = sum(nums)\n",
    "    return expected_sum - actual_sum\n",
    "\n",
    "missingNumber(nums)\n"
   ],
   "id": "71f87348258384a7",
   "outputs": [
    {
     "data": {
      "text/plain": [
       "5"
      ]
     },
     "execution_count": 18,
     "metadata": {},
     "output_type": "execute_result"
    }
   ],
   "execution_count": 18
  },
  {
   "metadata": {},
   "cell_type": "markdown",
   "source": [
    "## Counting\n",
    "Counting is a very common pattern with hash maps. By \"counting\", we are referring to **tracking the frequency** of things. This means our hash map will be **<u>mapping keys to integers</u>**. <span style=\"background-color: orange\">Anytime you need to count anything, think about using a **hash map** to do it</span>.\n",
    "\n",
    "Recall that when we were looking at sliding windows, some problems had <span style=\"background-color: orange\">their **constraint** as *limiting the amount* of a certain element in the window</span>. For example, longest substring with at most `k` `0s`. In those problems, we could simply use an integer variable `curr` because we are only focused on one element (we only cared about 0). A hash map opens the door to solving problems where the constraint involves multiple elements. Let's start by looking at a sliding window example that leverages a hash map.\n",
    "\n",
    "> **Example 1**: You are given a string `s` and an integer `k`. Find the length of the longest substring that contains at most `k` distinct characters.\n",
    "For example, given `s = \"eceba\"` and `k = 2`, return `3`. The longest substring with at most `2` distinct characters is `\"ece\"`.\n",
    "\n",
    "This problem deals with substrings and has a constraint on the substrings (at most `k` distinct characters). These characteristics let us know that we should consider sliding window. *Remember, the idea of a sliding window is to add elements by sliding to the right* until the **window violates the constraint**. Once it does, we shrink the window from the left until it no longer violates the constraint. In this problem, we are concerned with the number of distinct characters in the window. The brute force way to check for this constraint would be to check the entire window every time, which could take $O(n)$ time. Using a hash map, we can check the constraint in $O(1)$.\n",
    "\n",
    "Let's use a hash map `counts` to keep count of the characters in the window. This means we will *map letters to their frequency* (letter:frequency-->k:v). The length (number of keys) in `counts` at any time is the number of distinct characters. When we remove from the left, we can decrement the frequency of the elements being removed. <span style=\"background-color: orange\">When the frequency becomes `0`, we know this character is no longer part of the window, and we can delete the key</span>."
   ],
   "id": "b34f8f0b2ea54531"
  },
  {
   "metadata": {},
   "cell_type": "markdown",
   "source": [
    "> ### First — What’s a Sliding Window?\n",
    "“Add elements by sliding to the right until the window violates the constraint. Once it does, shrink from the left until it no longer violates the constraint.”\n",
    "\n",
    "👀 Think of this like a glass window you slide open on a hot day.\n",
    "You keep extending the window to the right (adding letters to the substring) — like letting in air — until you hit a problem (💥 too many different letters).\n",
    "Once that happens, you slide the left side of the window in (remove letters from the left) to fix the issue.\n",
    "\n",
    "This \"sliding\" action is how we scan through the string without restarting every time. Keeps the run-time tight.\n",
    "\n",
    "> ### 🤖 Why Use a Hash Map?\n",
    "“We are concerned with the number of distinct characters in the window.”\n",
    "\n",
    "We need to know how many unique letters are in the current substring. You could scan the window manually every time, but that’s slow — O(n) every time.\n",
    "\n",
    "Instead, we use a hash map (in Python, that’s just a dict) to keep track of how many times each character appears. That gives us instant info in O(1) time. 💨\n",
    "\n",
    "### 🧠 Hash Map Behavior\n",
    "“We’ll map letters to their frequency.”\n",
    "\n",
    "So the hash map might look like:\n",
    "```\n",
    "counts = {'e': 2, 'c': 1}\n",
    "```\n",
    "This means `'e'` showed up twice, `'c'` once, in our current window.\n",
    "\n",
    "> ### 📏 Why do we care about the length of the hash map?\n",
    "“The **length (number of keys)** in counts is the number of distinct characters.”\n",
    "\n",
    "💡 Every unique key is a unique letter.\n",
    "So if your map is:\n",
    "```\n",
    "counts = {'a': 3, 'b': 1, 'z': 2}\n",
    "```\n",
    "That means you have 3 distinct characters in the window.\n",
    "\n",
    "If that number exceeds `k`, the window has too many flavors in it. Time to trim it down by removing from the left.\n",
    "\n",
    "> ### 🗑 When do we delete keys?\n",
    "“When frequency becomes 0, we delete the key.”\n",
    "\n",
    "If you slide the window and remove a letter, drop its count.\n",
    "If its count hits zero, it’s no longer part of the substring, so kick it out of the hash map:\n",
    "```\n",
    "counts[char] -= 1\n",
    "if counts[char] == 0:\n",
    "    del counts[char]\n",
    "```\n",
    "This keeps your hash map clean, tight, and only filled with active characters in the current window.\n",
    "\n",
    "## NOTE: `del`\n",
    "The del keyword in Python is like saying:\n",
    "**\"Yo, delete this key from the dictionary — like it never existed.\"**\n",
    "```\n",
    "del some_dict[key]\n",
    "```\n",
    "It removes the **key and its value** from the dictionary entirely.\n",
    "\n",
    "### Example\n",
    "```\n",
    "my_dict = {'a': 2, 'b': 5, 'c': 0}\n",
    "\n",
    "# We want to delete 'c' because its value is 0\n",
    "del my_dict['c']\n",
    "\n",
    "print(my_dict)\n",
    "# Output: {'a': 2, 'b': 5}\n",
    "```\n",
    "Boom — `'c': 0` gone from the dictionary. 🔥\n",
    "\n",
    "### <span style=\"background-color: orange\">🧠 When to use del in sliding window or hashmap problems</span>\n",
    "Let’s say you’re counting characters in a substring:\n",
    "```\n",
    "char_count = {'a': 1, 'b': 1}\n",
    "char_count['a'] -= 1  # now char_count['a'] = 0\n",
    "\n",
    "if char_count['a'] == 0:\n",
    "    del char_count['a']  # remove it completely\n",
    "```\n",
    "This keeps your map clean — so you’re only tracking **active characters** in the current window.\n",
    "\n",
    "## <span style=\"background-color: red\">⚠️ Be careful:</span>\n",
    "If the key doesn’t exist, del will throw a KeyError. So always make sure it’s there:\n",
    "```\n",
    "if key in my_dict:\n",
    "    del my_dict[key]\n",
    "```\n",
    "Or use `pop()` with a default:\n",
    "```\n",
    "my_dict.pop(key, None)  # safe way to remove if you're not sure it's there\n",
    "```"
   ],
   "id": "48a6c5cf1d092a1a"
  },
  {
   "metadata": {
    "ExecuteTime": {
     "end_time": "2025-10-18T06:33:23.857654Z",
     "start_time": "2025-10-18T06:33:23.851968Z"
    }
   },
   "cell_type": "code",
   "source": [
    "s = \"eceba\"\n",
    "k = 2\n",
    "\n",
    "def lengthOfLongestSubstringKDistinct(s, k):\n",
    "    from collections import defaultdict\n",
    "\n",
    "    # Hash map to count how many times each char appears in the current window\n",
    "    char_count = defaultdict(int) # always initialize defaultdict this way\n",
    "\n",
    "    left = 0           # Left end of the sliding window\n",
    "    max_len = 0        # Track the maximum length of valid substrings\n",
    "\n",
    "    # Right end of the window moves with each loop\n",
    "    for right in range(len(s)):\n",
    "        char = s[right] # get key or letter in the string\n",
    "        char_count[char] += 1  # Add the current char to the window\n",
    "\n",
    "        # 🧠 If we now have more than k distinct chars, we shrink from the left\n",
    "        while len(char_count) > k:\n",
    "            # Shrink window from the left\n",
    "            left_char = s[left]\n",
    "            char_count[left_char] -= 1  # Decrease the count of the char being removed\n",
    "\n",
    "            if char_count[left_char] == 0: # Not True on the first round thus next line is executed?\n",
    "                del char_count[left_char]  # Remove the char from map if it's no longer in window, could use char_count.pop(left_char, None)\n",
    "\n",
    "            left += 1  # Move the left side of the window right\n",
    "\n",
    "        # 🎯 Update the max length if this window is the biggest so far\n",
    "        window_len = right - left + 1\n",
    "        max_len = max(max_len, window_len)\n",
    "\n",
    "        # 🖨️ Debugging trace (optional)\n",
    "        # print(f\"Window: {s[left:right+1]}, CountMap: {dict(char_count)}, MaxLen: {max_len}\")\n",
    "\n",
    "    return max_len\n",
    "\n",
    "lengthOfLongestSubstringKDistinct(s, k)\n"
   ],
   "id": "13c2c199843f20e6",
   "outputs": [
    {
     "data": {
      "text/plain": [
       "3"
      ]
     },
     "execution_count": 19,
     "metadata": {},
     "output_type": "execute_result"
    }
   ],
   "execution_count": 19
  },
  {
   "metadata": {},
   "cell_type": "markdown",
   "source": [
    "### Why we don’t write `right = 0` before the loop:\n",
    "\n",
    "- The line `for right in range(len(s))` **already sets `right = 0`** on the first loop.\n",
    "- Each iteration automatically updates `right` to the next index.\n",
    "- So `right = 0` is unnecessary — the `for` loop handles initialization, incrementing, and stopping.\n"
   ],
   "id": "a07c852d8c64b0b9"
  },
  {
   "metadata": {},
   "cell_type": "markdown",
   "source": [
    "## ✅ Example usage:\n",
    "```\n",
    "s = \"eceba\"\n",
    "k = 2\n",
    "print(\"Result:\", lengthOfLongestSubstringKDistinct(s, k))\n",
    "```\n",
    "### 💬 Output trace would look like:\n",
    "| Step | Left | Right | Window     | CountMap                     | Window Len | MaxLen |\n",
    "|------|------|--------|------------|-------------------------------|------------|--------|\n",
    "| 1    | 0    | 0      | e          | {'e': 1}                      | 1          | 1      |\n",
    "| 2    | 0    | 1      | ec         | {'e': 1, 'c': 1}              | 2          | 2      |\n",
    "| 3    | 0    | 2      | ece        | {'e': 2, 'c': 1}              | 3          | 3 ✅   |\n",
    "| 4    | 0    | 3      | eceb       | {'e': 2, 'c': 1, 'b': 1}      | 4          | 3      |\n",
    "| 5    | 1    | 3      | ceb        | {'e': 1, 'c': 1, 'b': 1}      | 3          | 3      |\n",
    "| 6    | 2    | 3      | eb         | {'e': 0, 'c': 1, 'b': 1} 🗑️e  | 2          | 3      |\n",
    "| 7    | 2    | 4      | ba         | {'b': 1, 'a': 1}              | 2          | 3      |\n",
    "\n",
    "This will help you **see the window sliding, map updating, and max length growing** — just like watching plays in slow motion film.\n",
    "\n",
    "```\n",
    "window_len = right - left + 1\n",
    "```\n",
    "That’s the heartbeat of the sliding window method. Let’s break it down and understand **why that `+1`is there**, and what this formula really **measures**.\n",
    "\n",
    "### 🎯 What It’s Doing\n",
    "This line calculates the length of the current window between the left and right pointers.\n",
    "```\n",
    "Index:    0   1   2   3   4\n",
    "String:   e   c   e   b   a\n",
    "```\n",
    "\n",
    "Let’s say:\n",
    "\n",
    "* `left = 1`\n",
    "\n",
    "* `right = 3`\n",
    "\n",
    "That means your window is covering:\n",
    "```\n",
    "s[1:4] → 'c', 'e', 'b'\n",
    "```\n",
    "But here’s the thing — Python slicing like `s[1:4]` excludes index 4, so it's 3 elements.\n",
    "\n",
    "So we use:\n",
    "```\n",
    "window_len = right - left + 1\n",
    "```\n",
    "To reflect **how many elements** we actually have between `left` and `right`, **inclusive.**\n",
    "\n",
    "> ### 🔁 So in words:\n",
    "\"Take the total number of letters between the two ends of the window — including both ends.\"\n",
    "\n",
    "This makes sure you're not missing that last character that was just added by `right`."
   ],
   "id": "f3f1252ddb3aaae2"
  },
  {
   "metadata": {},
   "cell_type": "markdown",
   "source": [
    "## ❓ When we say k = 2 in these problems...\n",
    "We mean:\n",
    "\n",
    "> The substring can contain at most 2 distinct characters — that’s it.\n",
    "\n",
    "So **exactly** this:\n",
    "\n",
    "* It can have 0 (empty substring)\n",
    "\n",
    "* It can have 1 distinct character (like \"aaa\")\n",
    "\n",
    "* Or at most 2 distinct characters (like \"aba\" or \"ece\")\n",
    "\n",
    "✅ So yes — we're saying:\n",
    "```\n",
    "distinct_char_count <= 2\n",
    "```\n",
    "### To be very specific: You’re asking:\n",
    "\n",
    "> What's the longest substring where the number of unique letters is 0, 1, or 2? (but not 3 or more)\n",
    "\n",
    "## 🚫 Not This:\n",
    "You're not being asked to get characters at position 0, 1, 2, **or to loop from 0 to k**.\n",
    "This ain't a range — it's a constraint.\n",
    "\n",
    "### 🧠 Mental Tip\n",
    "Think:\n",
    "\n",
    "> \"How many different letters am I allowed to have in my substring?\"\n",
    "\n",
    "That's what k is saying.\n",
    "\n"
   ],
   "id": "b74b3dbff30840c1"
  },
  {
   "metadata": {},
   "cell_type": "markdown",
   "source": "### Just Code",
   "id": "efc16f5a937833c6"
  },
  {
   "metadata": {
    "ExecuteTime": {
     "end_time": "2025-10-18T06:33:23.873813Z",
     "start_time": "2025-10-18T06:33:23.869654Z"
    }
   },
   "cell_type": "code",
   "source": [
    "from collections import defaultdict\n",
    "\n",
    "def find_longest_substring(s, k):\n",
    "    counts = defaultdict(int)\n",
    "    left = ans = 0\n",
    "    for right in range(len(s)):\n",
    "        counts[s[right]] += 1\n",
    "        while len(counts) > k:\n",
    "            counts[s[left]] -= 1\n",
    "            if counts[s[left]] == 0:\n",
    "                del counts[s[left]]\n",
    "            left += 1\n",
    "\n",
    "        ans = max(ans, right - left + 1)\n",
    "\n",
    "    return ans"
   ],
   "id": "c64f47109468a7bd",
   "outputs": [],
   "execution_count": 20
  },
  {
   "metadata": {},
   "cell_type": "markdown",
   "source": [
    "## Example 2: 2248. Intersection of Multiple Arrays\n",
    "\n",
    "Given a 2D array `nums` that contains `n` arrays of distinct integers, return a **sorted array** containing all the numbers that appear in all `n` arrays.\n",
    "\n",
    "For example,\n",
    "\n",
    "given nums = `[[3,1,2,4,5],[1,2,3,4],[3,4,5,6]]`\n",
    "\n",
    "return `[3, 4]`\n",
    "\n",
    "3 and 4 are the only numbers that are in all arrays."
   ],
   "id": "950c08faaa843081"
  },
  {
   "metadata": {},
   "cell_type": "markdown",
   "source": "## My Solution",
   "id": "f55614f4f22614ce"
  },
  {
   "metadata": {
    "ExecuteTime": {
     "end_time": "2025-10-18T06:33:23.887584Z",
     "start_time": "2025-10-18T06:33:23.884057Z"
    }
   },
   "cell_type": "code",
   "source": [
    "nums = [[3,1,2,4,5],[1,2,3,4],[3,4,5,6]]\n",
    "def intersect(nums):\n",
    "    res = set(nums[0])     # Start strong\n",
    "    for arr in nums[1:]:\n",
    "        res = res & set(arr)\n",
    "    return sorted(res) # or res.intersection_update(set(arr))\n",
    "\n",
    "print(intersect(nums))"
   ],
   "id": "d772e98d8bf4d17",
   "outputs": [
    {
     "name": "stdout",
     "output_type": "stream",
     "text": [
      "[3, 4]\n"
     ]
    }
   ],
   "execution_count": 21
  },
  {
   "metadata": {
    "ExecuteTime": {
     "end_time": "2025-10-18T06:33:23.904596Z",
     "start_time": "2025-10-18T06:33:23.901243Z"
    }
   },
   "cell_type": "code",
   "source": "print(nums[0])",
   "id": "eff421ddb11a96e3",
   "outputs": [
    {
     "name": "stdout",
     "output_type": "stream",
     "text": [
      "[3, 1, 2, 4, 5]\n"
     ]
    }
   ],
   "execution_count": 22
  },
  {
   "metadata": {},
   "cell_type": "markdown",
   "source": "## Their solution",
   "id": "70f481017ab551dc"
  },
  {
   "metadata": {
    "ExecuteTime": {
     "end_time": "2025-10-18T06:33:23.920588Z",
     "start_time": "2025-10-18T06:33:23.915788Z"
    }
   },
   "cell_type": "code",
   "source": [
    "nums = [[3,1,2,4,5],[1,2,3,4],[3,4,5,6]]\n",
    "\n",
    "def intersection(nums):\n",
    "    from collections import defaultdict\n",
    "    counts = defaultdict(int)\n",
    "    for arr in nums:\n",
    "        for x in arr:\n",
    "            counts[x] += 1\n",
    "\n",
    "    n = len(nums)\n",
    "    ans = []\n",
    "    for key in counts:\n",
    "        if counts[key] == n:\n",
    "            ans.append(key)\n",
    "\n",
    "    return sorted(ans)\n",
    "\n",
    "intersection(nums)"
   ],
   "id": "7be85f1b44a5a28a",
   "outputs": [
    {
     "data": {
      "text/plain": [
       "[3, 4]"
      ]
     },
     "execution_count": 23,
     "metadata": {},
     "output_type": "execute_result"
    }
   ],
   "execution_count": 23
  },
  {
   "metadata": {},
   "cell_type": "markdown",
   "source": [
    "### Time Complexity of Nested Loops in Intersection Problem:\n",
    "\n",
    "- Outer loop: iterates over `n` subarrays.\n",
    "- Inner loop: iterates over `m` elements per subarray.\n",
    "- Total cost = $O(n * m)$ because we touch each element exactly once.\n",
    "\n",
    "- Then we loop through all unique elements $(U)$, and sort the final result (k items).\n",
    "- Sorting: $O(k*log k)$\n",
    "\n",
    "### Final Complexity:\n",
    "$O(n * m + k log k)$\n",
    "\n",
    "**Not** $O(n²)$ — two nested loops != quadratic unless both loops are over `n`.\n"
   ],
   "id": "e4cf0d7f01a59a7a"
  },
  {
   "metadata": {
    "ExecuteTime": {
     "end_time": "2025-10-18T06:33:24.720443Z",
     "start_time": "2025-10-18T06:33:23.931752Z"
    }
   },
   "cell_type": "code",
   "source": [
    "import matplotlib.pyplot as plt\n",
    "import numpy as np\n",
    "\n",
    "# Define x-axis: input size\n",
    "x = np.linspace(1, 100, 500)\n",
    "\n",
    "# Define various Big O functions\n",
    "y_O1 = np.ones_like(x)\n",
    "y_Ologn = np.log2(x)\n",
    "y_On = x\n",
    "y_Onlogn = x * np.log2(x)\n",
    "y_On2 = x**2\n",
    "y_O2n = 2**(x / 10)  # scale x to keep it on the graph\n",
    "y_Ofactorial = [np.math.factorial(int(val)) if val < 20 else np.nan for val in x]  # avoid overflow\n",
    "\n",
    "# Plot the complexities\n",
    "plt.figure(figsize=(12, 8))\n",
    "plt.plot(x, y_O1, label=\"O(1)\")\n",
    "plt.plot(x, y_Ologn, label=\"O(log n)\")\n",
    "plt.plot(x, y_On, label=\"O(n)\")\n",
    "plt.plot(x, y_Onlogn, label=\"O(n log n)\")\n",
    "plt.plot(x, y_On2, label=\"O(n^2)\")\n",
    "plt.plot(x, y_O2n, label=\"O(2^n)\")\n",
    "plt.plot(x, y_Ofactorial, label=\"O(n!)\")\n",
    "\n",
    "plt.ylim(0, 100)\n",
    "plt.xlim(1, 100)\n",
    "plt.xlabel(\"Input Size (n)\")\n",
    "plt.ylabel(\"Operations\")\n",
    "plt.title(\"Big O Time Complexities\")\n",
    "plt.legend()\n",
    "plt.grid(True)\n",
    "plt.show()\n"
   ],
   "id": "9a8993b33cb20c12",
   "outputs": [
    {
     "ename": "AttributeError",
     "evalue": "module 'numpy' has no attribute 'math'",
     "output_type": "error",
     "traceback": [
      "\u001B[0;31m---------------------------------------------------------------------------\u001B[0m",
      "\u001B[0;31mAttributeError\u001B[0m                            Traceback (most recent call last)",
      "Cell \u001B[0;32mIn[24], line 14\u001B[0m\n\u001B[1;32m     12\u001B[0m y_On2 \u001B[38;5;241m=\u001B[39m x\u001B[38;5;241m*\u001B[39m\u001B[38;5;241m*\u001B[39m\u001B[38;5;241m2\u001B[39m\n\u001B[1;32m     13\u001B[0m y_O2n \u001B[38;5;241m=\u001B[39m \u001B[38;5;241m2\u001B[39m\u001B[38;5;241m*\u001B[39m\u001B[38;5;241m*\u001B[39m(x \u001B[38;5;241m/\u001B[39m \u001B[38;5;241m10\u001B[39m)  \u001B[38;5;66;03m# scale x to keep it on the graph\u001B[39;00m\n\u001B[0;32m---> 14\u001B[0m y_Ofactorial \u001B[38;5;241m=\u001B[39m [np\u001B[38;5;241m.\u001B[39mmath\u001B[38;5;241m.\u001B[39mfactorial(\u001B[38;5;28mint\u001B[39m(val)) \u001B[38;5;28;01mif\u001B[39;00m val \u001B[38;5;241m<\u001B[39m \u001B[38;5;241m20\u001B[39m \u001B[38;5;28;01melse\u001B[39;00m np\u001B[38;5;241m.\u001B[39mnan \u001B[38;5;28;01mfor\u001B[39;00m val \u001B[38;5;129;01min\u001B[39;00m x]  \u001B[38;5;66;03m# avoid overflow\u001B[39;00m\n\u001B[1;32m     16\u001B[0m \u001B[38;5;66;03m# Plot the complexities\u001B[39;00m\n\u001B[1;32m     17\u001B[0m plt\u001B[38;5;241m.\u001B[39mfigure(figsize\u001B[38;5;241m=\u001B[39m(\u001B[38;5;241m12\u001B[39m, \u001B[38;5;241m8\u001B[39m))\n",
      "Cell \u001B[0;32mIn[24], line 14\u001B[0m, in \u001B[0;36m<listcomp>\u001B[0;34m(.0)\u001B[0m\n\u001B[1;32m     12\u001B[0m y_On2 \u001B[38;5;241m=\u001B[39m x\u001B[38;5;241m*\u001B[39m\u001B[38;5;241m*\u001B[39m\u001B[38;5;241m2\u001B[39m\n\u001B[1;32m     13\u001B[0m y_O2n \u001B[38;5;241m=\u001B[39m \u001B[38;5;241m2\u001B[39m\u001B[38;5;241m*\u001B[39m\u001B[38;5;241m*\u001B[39m(x \u001B[38;5;241m/\u001B[39m \u001B[38;5;241m10\u001B[39m)  \u001B[38;5;66;03m# scale x to keep it on the graph\u001B[39;00m\n\u001B[0;32m---> 14\u001B[0m y_Ofactorial \u001B[38;5;241m=\u001B[39m [\u001B[43mnp\u001B[49m\u001B[38;5;241;43m.\u001B[39;49m\u001B[43mmath\u001B[49m\u001B[38;5;241m.\u001B[39mfactorial(\u001B[38;5;28mint\u001B[39m(val)) \u001B[38;5;28;01mif\u001B[39;00m val \u001B[38;5;241m<\u001B[39m \u001B[38;5;241m20\u001B[39m \u001B[38;5;28;01melse\u001B[39;00m np\u001B[38;5;241m.\u001B[39mnan \u001B[38;5;28;01mfor\u001B[39;00m val \u001B[38;5;129;01min\u001B[39;00m x]  \u001B[38;5;66;03m# avoid overflow\u001B[39;00m\n\u001B[1;32m     16\u001B[0m \u001B[38;5;66;03m# Plot the complexities\u001B[39;00m\n\u001B[1;32m     17\u001B[0m plt\u001B[38;5;241m.\u001B[39mfigure(figsize\u001B[38;5;241m=\u001B[39m(\u001B[38;5;241m12\u001B[39m, \u001B[38;5;241m8\u001B[39m))\n",
      "File \u001B[0;32m/opt/conda/envs/dataengineering_env/lib/python3.10/site-packages/numpy/__init__.py:414\u001B[0m, in \u001B[0;36m__getattr__\u001B[0;34m(attr)\u001B[0m\n\u001B[1;32m    411\u001B[0m     \u001B[38;5;28;01mimport\u001B[39;00m\u001B[38;5;250m \u001B[39m\u001B[38;5;21;01mnumpy\u001B[39;00m\u001B[38;5;21;01m.\u001B[39;00m\u001B[38;5;21;01mchar\u001B[39;00m\u001B[38;5;250m \u001B[39m\u001B[38;5;28;01mas\u001B[39;00m\u001B[38;5;250m \u001B[39m\u001B[38;5;21;01mchar\u001B[39;00m\n\u001B[1;32m    412\u001B[0m     \u001B[38;5;28;01mreturn\u001B[39;00m char\u001B[38;5;241m.\u001B[39mchararray\n\u001B[0;32m--> 414\u001B[0m \u001B[38;5;28;01mraise\u001B[39;00m \u001B[38;5;167;01mAttributeError\u001B[39;00m(\u001B[38;5;124m\"\u001B[39m\u001B[38;5;124mmodule \u001B[39m\u001B[38;5;132;01m{!r}\u001B[39;00m\u001B[38;5;124m has no attribute \u001B[39m\u001B[38;5;124m\"\u001B[39m\n\u001B[1;32m    415\u001B[0m                      \u001B[38;5;124m\"\u001B[39m\u001B[38;5;132;01m{!r}\u001B[39;00m\u001B[38;5;124m\"\u001B[39m\u001B[38;5;241m.\u001B[39mformat(\u001B[38;5;18m__name__\u001B[39m, attr))\n",
      "\u001B[0;31mAttributeError\u001B[0m: module 'numpy' has no attribute 'math'"
     ]
    }
   ],
   "execution_count": 24
  },
  {
   "metadata": {},
   "cell_type": "markdown",
   "source": [
    "### 🧠 What they’re doing:\n",
    "1. `defaultdict(int)` → Count how many times each number appears across all arrays\n",
    "```\n",
    "counts = defaultdict(int)\n",
    "```\n",
    "\n",
    "Every time a number shows up in a subarray, they add 1 to that number's count.\n",
    "\n",
    "2. Loop through all the arrays\n",
    "```\n",
    "for arr in nums:\n",
    "    for x in arr:\n",
    "        counts[x] += 1\n",
    "```\n",
    "So if 3 shows up in all 3 arrays, counts[3] == 3.\n",
    "\n",
    "### 3. Then they say:\n",
    "> \"Only keep numbers whose count is equal to n (the number of arrays).\"\n",
    "```\n",
    "n = len(nums)\n",
    "for key in counts:\n",
    "    if counts[key] == n:\n",
    "        ans.append(key)\n",
    "```\n",
    "Boom — only the numbers that appeared in every subarray make the final list.\n",
    "\n",
    "### 4. Return sorted answer:\n",
    "`return sorted(ans)`"
   ],
   "id": "32bc460fd636bbcb"
  },
  {
   "metadata": {},
   "cell_type": "markdown",
   "source": "## First they make their dictionary",
   "id": "31ad7ccf79939a46"
  },
  {
   "metadata": {
    "ExecuteTime": {
     "end_time": "2025-10-18T06:33:24.743635Z",
     "start_time": "2025-05-19T05:23:15.726855Z"
    }
   },
   "cell_type": "code",
   "source": [
    "nums = [[3,1,2,4,5],[1,2,3,4],[3,4,5,6]]\n",
    "def inter(nums):\n",
    "        counts = defaultdict(int)\n",
    "        for arr in nums:\n",
    "            for x in arr:\n",
    "                counts[x] += 1\n",
    "        return counts\n",
    "\n",
    "inter(nums)"
   ],
   "id": "7bacf116ac739045",
   "outputs": [
    {
     "data": {
      "text/plain": [
       "defaultdict(int, {3: 3, 1: 2, 2: 2, 4: 3, 5: 2, 6: 1})"
      ]
     },
     "execution_count": 25,
     "metadata": {},
     "output_type": "execute_result"
    }
   ],
   "execution_count": 25
  },
  {
   "metadata": {},
   "cell_type": "markdown",
   "source": [
    "### Here is where some subtle thinking occurs\n",
    "only numbers that appear n times (i.e., the number of arrays) will be kept- here there are 3 arrays.\n",
    "#### Thus:\n",
    "```\n",
    "        n = len(nums)\n",
    "        ans = []\n",
    "        for key in counts:\n",
    "            if counts[key] == n:\n",
    "                ans.append(key)\n",
    "\n",
    "        return sorted(ans)\n",
    "```\n"
   ],
   "id": "54de173c965d9418"
  },
  {
   "metadata": {
    "ExecuteTime": {
     "end_time": "2025-10-18T06:33:24.746106Z",
     "start_time": "2025-05-19T05:23:16.496678Z"
    }
   },
   "cell_type": "code",
   "source": [
    "from collections import defaultdict\n",
    "from typing import List\n",
    "\n",
    "\n",
    "def intersection(nums):\n",
    "    # Step 1: Create a default dictionary to count occurrences of each number\n",
    "    counts = defaultdict(int)\n",
    "\n",
    "    # Step 2: Loop through each subarray in nums\n",
    "    for arr in nums:\n",
    "        for x in arr:\n",
    "            counts[x] += 1  # Increment the count for this number\n",
    "\n",
    "    # Step 3: Determine how many subarrays we have\n",
    "    n = len(nums)\n",
    "\n",
    "    # Step 4: Initialize a list to hold the final answer\n",
    "    ans = []\n",
    "\n",
    "    # Step 5: Loop through the keys in the count map\n",
    "    for key in counts:\n",
    "        # If a number appeared in all n subarrays, add it to the result\n",
    "        if counts[key] == n:\n",
    "            ans.append(key)\n",
    "\n",
    "    # Step 6: Return the result in sorted order\n",
    "    return sorted(ans)\n",
    "\n",
    "intersection(nums)\n"
   ],
   "id": "4d52e2e0d341e4f3",
   "outputs": [
    {
     "data": {
      "text/plain": [
       "[3, 4]"
      ]
     },
     "execution_count": 26,
     "metadata": {},
     "output_type": "execute_result"
    }
   ],
   "execution_count": 26
  },
  {
   "metadata": {},
   "cell_type": "markdown",
   "source": [
    "## Example 3: 1941. Check if All Characters Have Equal Number of Occurrences\n",
    "\n",
    "Given a string `s`, determine if all characters have the same frequency.\n",
    "\n",
    "**For example**\n",
    " `s = \"abacbc\"`, return `True`.\n",
    "\n",
    "All characters appear twice.\n",
    "\n",
    "`s = \"aaabb\"`, return `False.`\n",
    "\n",
    "\"a\" appears 3 times, \"b\" appears 2 times. 3 != 2.\n",
    "\n"
   ],
   "id": "45e5657572c1ba0d"
  },
  {
   "metadata": {
    "ExecuteTime": {
     "end_time": "2025-10-18T06:33:24.746407Z",
     "start_time": "2025-05-19T05:23:18.676698Z"
    }
   },
   "cell_type": "code",
   "source": [
    "s = \"abacbc\"\n",
    "from collections import defaultdict\n",
    "\n",
    "def areOccurrencesEqual(s):\n",
    "    counts = defaultdict(int)\n",
    "    for c in s:\n",
    "        counts[c] += 1\n",
    "    vals = list(counts.values())\n",
    "    return len(set(vals)) == 1\n",
    "\n",
    "\n",
    "\n",
    "areOccurrencesEqual(s)\n",
    "\n",
    "\n"
   ],
   "id": "7f8df2349e164f6a",
   "outputs": [
    {
     "data": {
      "text/plain": [
       "True"
      ]
     },
     "execution_count": 27,
     "metadata": {},
     "output_type": "execute_result"
    }
   ],
   "execution_count": 27
  },
  {
   "metadata": {},
   "cell_type": "markdown",
   "source": [
    "### 🔥 What's happening here?\n",
    "* `counts.values()` → gives you all the counts `[2, 2, 2]`\n",
    "\n",
    "* `set(vals)` → kills duplicates → `{2}`\n",
    "\n",
    "* If the set size is 1, **all the counts were the same.**\n",
    "\n",
    "### 🧠 Why does it work?\n",
    "* Because a set only keeps unique stuff.\n",
    "\n",
    "* If everybody was the same number, the set size gonna be 1.\n",
    "\n",
    "* If not? 🤡 Set gonna have size >1, meaning some counts were different."
   ],
   "id": "e3ebdc30adebf0da"
  },
  {
   "metadata": {},
   "cell_type": "markdown",
   "source": "#### Superslick",
   "id": "d3907d37f4eb8ced"
  },
  {
   "metadata": {
    "ExecuteTime": {
     "end_time": "2025-10-18T06:33:24.751708Z",
     "start_time": "2025-05-19T05:23:20.109963Z"
    }
   },
   "cell_type": "code",
   "source": [
    "s = 'abacbc'\n",
    "def areOccurrencesEqual(s):\n",
    "    return len(set(s.count(c) for c in set(s))) == 1\n",
    "\n",
    "areOccurrencesEqual(s)"
   ],
   "id": "7be7e5a8d558f652",
   "outputs": [
    {
     "data": {
      "text/plain": [
       "True"
      ]
     },
     "execution_count": 28,
     "metadata": {},
     "output_type": "execute_result"
    }
   ],
   "execution_count": 28
  },
  {
   "metadata": {},
   "cell_type": "markdown",
   "source": [
    "## Example 4: 560. Subarray Sum Equals K\n",
    "### Key Thing: if `prefix sum -k` is in the hash map: `ans += 1` that's the meat of this problem"
   ],
   "id": "35301c3fea54d445"
  },
  {
   "metadata": {},
   "cell_type": "markdown",
   "source": [
    "## 🧠 What's really going on?\n",
    "You got a list of numbers nums, right?\n",
    "You're tryna count how many subarrays (chunks of numbers) add up exactly to k.\n",
    "\n",
    "⚡ First check:\n",
    "You can't use normal sliding window like you do with \"sum ≤ k\" problems.\n",
    "Because when you're hunting for an exact number, adding more numbers usually breaks the sum, not keeps it good.\n",
    "\n",
    "Sliding window only works when \"more is still good,\" like \"sum < k\".\n",
    "Here, more numbers = messier. We need a smarter approach."
   ],
   "id": "6fd2fe1b0badd781"
  },
  {
   "metadata": {},
   "cell_type": "markdown",
   "source": [
    "## 🧠 560. Subarray Sum Equals K\n",
    "\n",
    "### 🧩 The smarter idea: Prefix sums with a hashmap\n",
    "\n",
    "Instead of checking every subarray one by one (slow AF 💀),\n",
    "we track **prefix sums** — the sum of elements from the start up to a given index.\n",
    "\n",
    "✋🏽 Hold up tho.\n",
    "**Why?**\n",
    "Because the **difference between two prefix sums** gives you the sum of the subarray *between* those two points.\n",
    "\n",
    "#### 🔍 Example:\n",
    "Say we got:\n",
    "```\n",
    "indexes: 0 1 2 3 4\n",
    "nums = [0, 1, 2, 3, 4]\n",
    "prefix = [0, 1, 3, 6, 10] ← cumulative sum from 0 to i\n",
    "```\n",
    "\n",
    "\n",
    "## 🔍 Revisited Example for 560. Subarray Sum Equals K (with actual `k` value)\n",
    "\n",
    "Let's walk through the idea using a **real `k` value** so we lock in the logic.\n",
    "\n",
    "---\n",
    "\n",
    "### 💥 Problem Setup:\n",
    "\n",
    "```python\n",
    "nums = [0, 1, 2, 3, 4]\n",
    "k = 5\n",
    "\n",
    "We want to find how many subarrays sum to 5.\n",
    "\n",
    "### 🧠 Key Concept:\n",
    "At each index, we compute the running total (prefix sum).\n",
    "\n",
    "We ask:\n",
    "\n",
    "> \"Have I seen a prefix sum equal to curr_sum - k before?\"\n",
    "\n",
    "Because:\n",
    "```\n",
    "curr_sum - previous_prefix_sum = k\n",
    "→ subarray between those two points sums to k\n",
    "```\n",
    "To track this, we use a hashmap (`prefix_count`) to count how often each prefix sum has occurred.\n",
    "\n",
    "### 🧮 Step-by-Step Execution:\n",
    "We initialize:\n",
    "```\n",
    "prefix_count = {0: 1}  # prefix sum of 0 has occurred once (important!)\n",
    "curr_sum = 0\n",
    "count = 0\n",
    "```\n",
    "##### 👉🏽 i = 0, num = 0:\n",
    "* curr_sum = 0\n",
    "\n",
    "* `curr_sum - k` = 0 - 5 = -5 → not in prefix_count\n",
    "\n",
    "* Update: prefix_count = {0: 2}\n",
    "\n",
    "##### 👉🏽 i = 1, num = 1:\n",
    "* `curr_sum = 1`\n",
    "\n",
    "* `1 - 5 = -4` → not in map\n",
    "\n",
    "* Update: prefix_count = {0: 2, 1: 1}\n",
    "\n",
    "##### 👉🏽 i = 2, num = 2:\n",
    "* `curr_sum = 3`\n",
    "\n",
    "* `3 - 5 = -2` → nope\n",
    "\n",
    "* Update: prefix_count = {0: 2, 1: 1, 3: 1}\n",
    "\n",
    "##### 👉🏽 i = 3, num = 3:\n",
    "* `curr_sum = 6`\n",
    "\n",
    "* `6 - 5 = 1` ✅ → found in prefix_count\n",
    "\n",
    "* That means: there is a subarray between a previous index where prefix sum was 1 and now, and it sums to 5 → that subarray is [2, 3]\n",
    "\n",
    "* So: `count += prefix_count[1]` → count = 1\n",
    "\n",
    "Update: `prefix_count = {0: 2, 1: 1, 3: 1, 6: 1}`\n",
    "\n",
    "#### 👉🏽 i = 4, num = 4:\n",
    "* `curr_sum = 10`\n",
    "\n",
    "* `10 - 5 = 5` → not in map\n",
    "\n",
    "* Update: `prefix_count = {0: 2, 1: 1, 3: 1, 6: 1, 10: 1}`\n",
    "\n",
    "\n",
    "\n",
    "\n",
    "### 💡 Here's the real juice:\n",
    "We want to find how many subarrays sum to **k**.\n",
    "\n",
    "Let’s say at index `i`, our `prefix_sum` is `curr_sum`.\n",
    "\n",
    "If at some earlier index, there was a `prefix_sum` equal to `curr_sum - k`,\n",
    "then the subarray between those two indices **must sum to k**. 🎯\n",
    "\n",
    "So we keep a hashmap `prefix_count` to count how many times each prefix sum has shown up.\n",
    "\n",
    "```\n",
    "prefix_count = {0: 1}  # We start with 0 sum once (important)\n",
    "count = 0\n",
    "curr_sum = 0\n",
    "\n",
    "for num in nums:\n",
    "    curr_sum += num\n",
    "    if curr_sum - k in prefix_count:\n",
    "        count += prefix_count[curr_sum - k]\n",
    "    prefix_count[curr_sum] = prefix_count.get(curr_sum, 0) + 1\n",
    "```"
   ],
   "id": "4612606e7a649123"
  },
  {
   "metadata": {},
   "cell_type": "markdown",
   "source": [
    "## 🗺️ How the algorithm goes:\n",
    "\n",
    "1. Walk through the array, adding up numbers into `curr_sum`.\n",
    "\n",
    "2. At each number, ask:\n",
    "\n",
    "    > \"Yo, have I seen a `prefix_sum` before that would make my chunk sum to exactly `k`?\"\n",
    "\n",
    "    > **Translation: \"Is `(curr_sum - k)` already in my counts hashmap?\"**\n",
    "\n",
    "3. If yes, add how many times that `prefix_sum` showed up to your answer.\n",
    "\n",
    "4. Then record the `curr_sum` you just hit into `counts`.\n",
    "\n",
    "## 🎯 The key formula:\n",
    "`curr_sum - k  ➔  did I see this prefix_sum before?`\n",
    "\n",
    "If yes → it means there’s a subarray ending at me that sums to k.\n",
    "Maybe many subarrays, so we add up all ways.\n"
   ],
   "id": "cd5cd738a5ee38ee"
  },
  {
   "metadata": {
    "ExecuteTime": {
     "end_time": "2025-10-18T06:33:24.753771Z",
     "start_time": "2025-05-19T05:23:22.393249Z"
    }
   },
   "cell_type": "code",
   "source": [
    "from collections import defaultdict\n",
    "nums = [1, 2, 1, 2, 1]\n",
    "k=3\n",
    "\n",
    "def subarraySum(nums, k):\n",
    "    counts = defaultdict(int)\n",
    "    counts[0] = 1   # important! empty prefix sum\n",
    "    curr_sum = 0\n",
    "    ans = 0\n",
    "\n",
    "    for num in nums:\n",
    "        curr_sum += num\n",
    "        ans += counts[curr_sum - k]  # how many times we've seen the needed prefix\n",
    "        counts[curr_sum] += 1         # now record my prefix\n",
    "\n",
    "    return ans, counts\n",
    "\n",
    "subarraySum(nums, k)"
   ],
   "id": "f63070b780f592f",
   "outputs": [
    {
     "data": {
      "text/plain": [
       "(4, defaultdict(int, {0: 1, -2: 0, 1: 1, 3: 1, 4: 1, 6: 1, 7: 1}))"
      ]
     },
     "execution_count": 29,
     "metadata": {},
     "output_type": "execute_result"
    }
   ],
   "execution_count": 29
  },
  {
   "metadata": {},
   "cell_type": "markdown",
   "source": [
    "## Visual Trace: `nums = [1, 2, 3]` and `k = 3`\n",
    "\n",
    "| Step | `num` | `curr_sum` | `curr_sum - k` | `counts` lookup (how many times seen) | `ans` (running total) | `counts` after update |\n",
    "|:----:|:-----:|:----------:|:--------------:|:-------------------------------------:|:---------------------:|:---------------------:|\n",
    "| 1    | 1     | 1          | -2             | 0                                     | 0                     | {0:1, 1:1}             |\n",
    "| 2    | 2     | 3          | 0              | 1                                     | 1                     | {0:1, 1:1, 3:1}        |\n",
    "| 3    | 3     | 6          | 3              | 1                                     | 2                     | {0:1, 1:1, 3:1, 6:1}   |\n",
    "\n",
    "### 🔥 What's Happening\n",
    "- At step 2:\n",
    "  - `curr_sum = 3`\n",
    "  - `curr_sum - k = 0`\n",
    "  - counts[0] = 1 → there’s **one subarray** ending at index 1 that sums to `k`. ➡️ `ans += 1`\n",
    "- At step 3:\n",
    "  - `curr_sum = 6`\n",
    "  - `curr_sum - k = 3`\n",
    "  - counts[3] = 1 → **another subarray** ending at index 2 that sums to `k`. ➡️ `ans += 1`\n",
    "- Final Answer = **2 subarrays**.\n"
   ],
   "id": "6326379834a9fa28"
  },
  {
   "metadata": {},
   "cell_type": "markdown",
   "source": [
    "### Important Insight:\n",
    "\n",
    "- If `curr_sum[i] - curr_sum[j] == k`, then the subarray from index `j+1` to `i` sums to exactly `k`.\n",
    "- Every matching `(curr_sum - k)` means a valid subarray.\n",
    "- So `ans += counts[curr_sum - k]` is adding the number of ways we can chop the array earlier to get an exact sum of `k`.\n"
   ],
   "id": "d2b6887c5ee330fb"
  },
  {
   "metadata": {},
   "cell_type": "markdown",
   "source": [
    "## Prefix Sum Timeline for `nums = [1, 2, 1, 2, 1]`\n",
    "\n",
    "0 --(1)--> 1 --(2)--> 3 --(1)--> 4 --(2)--> 6 --(1)--> 7\n",
    "\n",
    "- Numbers in parentheses are elements being added.\n",
    "\n",
    "### How subarrays with sum = 3 are found:\n",
    "\n",
    "| Current Index (i) | curr_sum[i] | Previous Index (j) | curr_sum[j] | Difference (curr_sum[i] - curr_sum[j]) | Subarray Found (indexes) |\n",
    "|:-----------------:|:-----------:|:------------------:|:-----------:|:--------------------------------------:|:-------------------------:|\n",
    "| 1                 | 3           | 0                  | 0           | 3                                      | [0,1] (nums[0:2])          |\n",
    "| 2                 | 4           | 0                  | 1           | 3                                      | [1,2] (nums[1:3])          |\n",
    "| 3                 | 6           | 1                  | 3           | 3                                      | [2,3] (nums[2:4])          |\n",
    "| 4                 | 7           | 2                  | 4           | 3                                      | [3,4] (nums[3:5])          |\n",
    "\n",
    "### Key Idea:\n",
    "- Whenever `curr_sum[i] - curr_sum[j] == k`, there is a subarray between j+1 and i that sums to `k`.\n",
    "- `counts[curr_sum - k]` tracks how many such j's exist at every step.\n"
   ],
   "id": "af1d74cf0bc10a2f"
  },
  {
   "metadata": {},
   "cell_type": "markdown",
   "source": [
    "### How `ans += counts[curr_sum - k]` Works:\n",
    "\n",
    "- Every time we reach a new number:\n",
    "    - We calculate `curr_sum - k`.\n",
    "    - If this value has been seen before (counts[curr_sum - k] > 0):\n",
    "        - It means there are that many subarrays ending here that sum to `k`.\n",
    "        - We add all of them to `ans`.\n",
    "\n",
    "- If counts[curr_sum - k] == 0:\n",
    "    - No subarrays ending here sum to `k`.\n",
    "    - No addition to ans.\n",
    "\n",
    "This check happens **every time**, no matter what.\n"
   ],
   "id": "a2175aa23ac67f14"
  },
  {
   "metadata": {},
   "cell_type": "markdown",
   "source": [
    "📊 Example Input:\n",
    "```\n",
    "nums = [1, -1, 2, 3]\n",
    "k = 3\n",
    "```\n",
    "### 🧪 Trace Table: nums = [1, -1, 2, 3], k = 3\n",
    "\n",
    "| Index | num | curr_sum | curr_sum - k | counts lookup | ans | counts updated to                   |\n",
    "|-------|-----|----------|--------------|---------------|-----|-------------------------------------|\n",
    "| 0     | 1   | 1        | -2           | 0             | 0   | {0:1, 1:1}                          |\n",
    "| 1     | -1  | 0        | -3           | 0             | 0   | {0:1, 1:1, 0:1}                     |\n",
    "| 2     | 2   | 2        | -1           | 0             | 0   | {0:2, 1:1, 2:1}                     |\n",
    "| 3     | 3   | 5        | 2            | 1 ✅           | 1   | {0:2, 1:1, 2:1, 5:1}                |\n",
    "\n",
    "### 🧠 What Just Happened?\n",
    "* At index `3`, `curr_sum = 5`, so we ask: have we seen 5 - 3 = 2 before?\n",
    "\n",
    "* Yup — we saw `curr_sum = 2` at index 2.\n",
    "\n",
    "* So the subarray `[3]` alone is NOT the only one — it’s `[2, 3]` (index 2 to 3).\n",
    "\n",
    "Even though `curr_sum - k = 2` (which is positive here),\n",
    "look at earlier steps — we were working with negative curr_sum too.\n",
    "\n",
    "### ❗ Key Insight:\n",
    "Even if `curr_sum - k < 0`, the code works fine — we just may not have seen that key in the counts yet.\n",
    "\n",
    "So again:\n",
    "\n",
    ">Don’t worry about curr_sum - k being negative.\n",
    "Just check if you’ve seen that prefix sum before.\n",
    "\n",
    "### 💡 Tattoo This Mental Model:\n",
    "* Any single number can be its own subarray.\n",
    "* If that number is exactly k, it counts.\n",
    "\n",
    "**This is why prefix sum is so powerful — it lets you check for all valid subarrays ending at each index, even if they’re size 1.**"
   ],
   "id": "530251f1313be6a0"
  },
  {
   "metadata": {},
   "cell_type": "markdown",
   "source": [
    "### Key Insight for \"Count Number of Nice Subarrays\"\n",
    "\n",
    "- Track how many odd numbers (`curr`) have been seen so far.\n",
    "- If `nums[i]` is even, `curr` stays the same.\n",
    "- If `nums[i]` is odd, increment `curr` by 1.\n",
    "- Every time you hit a new index:\n",
    "    - Look up `counts[curr - k]`:\n",
    "        - How many ways were there before to have (curr - k) odds?\n",
    "        - Each one gives a valid subarray ending at current i.\n",
    "    - Add that to `ans`.\n",
    "- Update `counts[curr]` by 1.\n"
   ],
   "id": "688ef65bad96a68e"
  },
  {
   "metadata": {
    "ExecuteTime": {
     "end_time": "2025-10-18T06:33:24.754006Z",
     "start_time": "2025-05-19T05:23:24.676332Z"
    }
   },
   "cell_type": "code",
   "source": [
    "from collections import defaultdict\n",
    "nums = [1, 1, 2, 1, 1]\n",
    "k = 3\n",
    "\n",
    "def numberOfSubarrays(nums, k):\n",
    "    counts = defaultdict(int)\n",
    "    counts[0] = 1\n",
    "    ans = curr = 0\n",
    "\n",
    "    for num in nums:\n",
    "        curr += num % 2\n",
    "        ans += counts[curr - k]\n",
    "        counts[curr] += 1\n",
    "\n",
    "    return ans\n",
    "\n",
    "numberOfSubarrays(nums, k)"
   ],
   "id": "d6ecc1d4ac0cb8e5",
   "outputs": [
    {
     "data": {
      "text/plain": [
       "2"
      ]
     },
     "execution_count": 30,
     "metadata": {},
     "output_type": "execute_result"
    }
   ],
   "execution_count": 30
  },
  {
   "metadata": {},
   "cell_type": "markdown",
   "source": [
    "```\n",
    "nums = [1, 1, 2, 1, 1]\n",
    "k = 3\n",
    "\n",
    "```"
   ],
   "id": "609fafd3020e54e7"
  },
  {
   "metadata": {},
   "cell_type": "markdown",
   "source": [
    "### 🔁 Step-by-Step Breakdown\n",
    "Let’s walk through the code, update curr, and match it with what gets stored in counts.\n",
    "\n",
    "| Index | num | num % 2 | curr (odd count so far) | curr - k | counts[curr - k] | ans | counts after update               |\n",
    "|-------|-----|---------|--------------------------|-----------|-------------------|-----|----------------------------------|\n",
    "| 0     | 1   | 1       | 1                        | -2        | 0                 | 0   | {0:1, 1:1}                        |\n",
    "| 1     | 1   | 1       | 2                        | -1        | 0                 | 0   | {0:1, 1:1, 2:1}                   |\n",
    "| 2     | 2   | 0       | 2                        | -1        | 0                 | 0   | {0:1, 1:1, 2:2}                   |\n",
    "| 3     | 1   | 1       | 3                        | 0         | 1                 | 1   | {0:1, 1:1, 2:2, 3:1}              |\n",
    "| 4     | 1   | 1       | 4                        | 1         | 1                 | 2   | {0:1, 1:1, 2:2, 3:1, 4:1}         |\n",
    "\n",
    "✅ Final ans = 2\n",
    "(2 subarrays with exactly 3 odd numbers)\n",
    "\n",
    "### 🧠 What Does Each Entry in counts Mean?\n",
    "Let’s decode defaultdict(<class 'int'>, {0: 1, -2: 0, 1: 1, -1: 0, 2: 2, 3: 1, 4: 1}):\n",
    "\n",
    "| Key | Meaning                                  | Value | Interpretation                                      |\n",
    "|-----|------------------------------------------|--------|-----------------------------------------------------|\n",
    "| 0   | 0 odd numbers seen so far                | 1      | Seen once (at start — base case)                   |\n",
    "| 1   | 1 odd number seen so far                 | 1      | Seen once                                           |\n",
    "| 2   | 2 odd numbers seen so far                | 2      | Seen twice (indexes 1 and 2)                       |\n",
    "| 3   | 3 odd numbers seen so far                | 1      | Seen once (at index 3)                             |\n",
    "| 4   | 4 odd numbers seen so far                | 1      | Seen once (at index 4)                             |\n",
    "| -1  | Never actually seen, accessed via lookup | 0      | Used for `curr - k` when curr was 2               |\n",
    "| -2  | Same — never seen                        | 0      | Used for `curr - k` when curr was 1               |\n",
    "\n",
    "The negative keys just show up because of:\n",
    "```\n",
    "ans += counts[curr - k]\n",
    "```\n",
    "Even if `curr - k` is negative, the defaultdict handles it gracefully by returning 0.\n",
    "\n",
    "### 🔍 Real Meaning of the Logic\n",
    "> \"How many previous prefix states had exactly curr - k odd numbers?\"\n",
    "Because that tells us how many subarrays ending right here have exactly k odds.\n",
    "\n",
    "### ✅ Recap\n",
    "* `counts[curr]`: how many times we’ve seen a given odd count so far\n",
    "\n",
    "* `curr - k`: how far back we’d need to rewind the odd count to get a subarray of length k\n",
    "\n",
    "Final answer: total number of such subarrays"
   ],
   "id": "c71d2de37711e45d"
  },
  {
   "metadata": {},
   "cell_type": "markdown",
   "source": [
    "### Why there is no `curr_sum` here:\n",
    "\n",
    "- In this problem, we are not tracking the total sum of the numbers.\n",
    "- We are tracking the **count of odd numbers**.\n",
    "- `curr` counts how many odd numbers have been seen so far.\n",
    "- Even numbers do not affect `curr`.\n",
    "- Therefore, no `curr_sum` is needed — just `curr` to track the odd count.\n"
   ],
   "id": "7a89c228d76c2f7c"
  },
  {
   "metadata": {},
   "cell_type": "markdown",
   "source": [
    "## 🧠 The Line:\n",
    "`curr += num % 2`\n",
    "\n",
    "What does this actually do?\n",
    "\n",
    "* If num is odd (like 1, 3, 5, etc.):\n",
    "\n",
    "    - num % 2 == 1\n",
    "\n",
    "    - So curr += 1\n",
    "\n",
    "* If num is even (like 2, 4, 6, etc.):\n",
    "\n",
    "    - num % 2 == 0\n",
    "\n",
    "    - So curr += 0"
   ],
   "id": "5fbbe3d152929600"
  },
  {
   "metadata": {},
   "cell_type": "markdown",
   "source": [
    "## 💥 What’s a Constraint Metric?\n",
    "Let’s strip this down:\n",
    "\n",
    "> A constraint metric is what you're measuring or limiting in the subarray.\n",
    "\n",
    "🔍 Think of it like the ruler you’re using to judge if a subarray is valid.\n",
    "\n",
    "### 🔢 Some Examples of Constraint Metrics\n",
    "\n",
    "| Problem Type                              | Constraint Metric        | What You’re Tracking                   |\n",
    "|-------------------------------------------|--------------------------|----------------------------------------|\n",
    "| Subarray sums to `k`                      | Sum                      | Total sum of subarray                  |\n",
    "| Subarray with exactly `k` odd numbers     | Count of odd elements    | How many odds in subarray              |\n",
    "| Longest substring with at most `k` unique chars | Distinct count       | Hashmap of character frequencies       |\n",
    "| Subarray with max average                 | Sum                      | Sliding window average                 |\n",
    "| Longest subarray with at most `k` zeros   | Count of zeros           | Flip count for valid subarray          |\n",
    "| Count of subarrays with product < `k`     | Product                  | Running product within window          |\n",
    "| Subarrays where all elements are <= `k`   | Max element              | Sliding max or comparison per window   |\n",
    "\n",
    "#### 🧠 Rule of Thumb:\n",
    "\n",
    "> Whatever makes the subarray “valid” — that’s your constraint metric."
   ],
   "id": "4ba2a2527648aff"
  },
  {
   "metadata": {},
   "cell_type": "markdown",
   "source": [
    "## 🧠 Why curr - k Shows Up?\n",
    "Let’s look at the idea behind it. Suppose you’re sweeping a window through an array, and:\n",
    "\n",
    "* `curr` = cumulative value of your constraint metric up to current index.\n",
    "\n",
    "* You want to know: how many earlier prefix states could I subtract out to get exactly k?\n",
    "\n",
    "So:\n",
    "```\n",
    "curr - k = some past state\n",
    "```\n",
    "\n",
    "**You’re asking:**\n",
    "\n",
    "> “How many ways did I hit a state in the past where I had exactly k less than I have now?”\n",
    "\n",
    "This is where the prefix map (a.k.a. counter dictionary) shows up."
   ],
   "id": "e2369b114f7edb23"
  },
  {
   "metadata": {},
   "cell_type": "markdown",
   "source": [
    "## 🔍 Deep Dive: Your Problem\n",
    "Problem:\n",
    "```\n",
    "nums = [1, 1, 2, 1, 1]\n",
    "k = 3\n",
    "```\n",
    "\n",
    "Let’s annotate:\n",
    "\n",
    "* odds show up at index 0, 1, 3, 4\n",
    "\n",
    "* you want all subarrays with exactly 3 odd numbers\n",
    "\n",
    "### 💡 Key Insight:\n",
    "* Let’s keep `curr` = count of odd numbers so far\n",
    "\n",
    "* Let’s also keep a dictionary `prefix_counts` to track how often each value of `curr` has appeared\n",
    "\n",
    "**Why?**\n",
    "* If `curr = 4` and we’re looking for a subarray ending at index `i` that has 3 odds, then the starting point of that subarray had to have `curr = 1`.\n",
    "\n",
    "* So how many times did we see `curr = 1` before now? That’s how many valid subarrays end at index i."
   ],
   "id": "7b1876cdc5a351a6"
  },
  {
   "metadata": {},
   "cell_type": "markdown",
   "source": "## 🔁 Code Walkthrough (Mental Tattoo Time)",
   "id": "1be9e9931cf912e7"
  },
  {
   "metadata": {
    "ExecuteTime": {
     "end_time": "2025-10-18T06:33:24.754396Z",
     "start_time": "2025-05-20T04:58:41.082546Z"
    }
   },
   "cell_type": "code",
   "source": [
    "from collections import defaultdict\n",
    "\n",
    "def numberOfSubarrays(nums, k):\n",
    "    count = 0\n",
    "    prefix_counts = defaultdict(int)\n",
    "    prefix_counts[0] = 1   # Base case: 0 odd numbers before we start\n",
    "    curr = 0               # Running count of odd numbers\n",
    "\n",
    "    for num in nums:\n",
    "        if num % 2 == 1:\n",
    "            curr += 1\n",
    "\n",
    "        # Look back to how many times we saw (curr - k)\n",
    "        count += prefix_counts[curr - k]\n",
    "\n",
    "        # Mark this current prefix state as seen\n",
    "        prefix_counts[curr] += 1\n",
    "\n",
    "    return count\n"
   ],
   "id": "acf00738eef15028",
   "outputs": [],
   "execution_count": 1
  },
  {
   "metadata": {},
   "cell_type": "markdown",
   "source": [
    "### 🧠 Mental Tattoo Summary\n",
    "\n",
    "| Concept                  | Real Meaning                                                                 |\n",
    "|--------------------------|------------------------------------------------------------------------------|\n",
    "| `curr`                   | Running value of your constraint (like count of odd numbers seen so far)     |\n",
    "| `curr - k`               | The prefix state we must subtract to get exactly `k` constraint units        |\n",
    "| `prefix_counts[curr - k]`| Number of times we saw that prior valid state → gives number of valid subarrays |\n",
    "| `prefix_counts[0] = 1`   | Seed the count so subarrays starting at index 0 get counted                   |\n"
   ],
   "id": "5d86fb4af5762c7d"
  },
  {
   "metadata": {},
   "cell_type": "markdown",
   "source": [
    "### 🧪 Breakdown with Input\n",
    "```\n",
    "nums = [1, 1, 2, 1, 1]\n",
    "k = 3\n",
    "```\n",
    "\n",
    "| Index | num | curr (odd count) | curr - k | prefix_counts snapshot           | count |\n",
    "|-------|-----|------------------|----------|----------------------------------|--------|\n",
    "| 0     | 1   | 1                | -2       | {0:1, 1:1}                       | 0      |\n",
    "| 1     | 1   | 2                | -1       | {0:1, 1:1, 2:1}                  | 0      |\n",
    "| 2     | 2   | 2                | -1       | {0:1, 1:1, 2:2}                  | 0      |\n",
    "| 3     | 1   | 3                | 0        | {0:1, 1:1, 2:2, 3:1}             | 1      |\n",
    "| 4     | 1   | 4                | 1        | {0:1, 1:1, 2:2, 3:1, 4:1}        | 2      |\n",
    "\n",
    "#### ✅ Final Answer: 2 valid subarrays with exactly 3 odd numbers.\n"
   ],
   "id": "e3ef9c36f18663ae"
  },
  {
   "metadata": {},
   "cell_type": "markdown",
   "source": [
    "## Find Players With Zero or One Losses\n",
    "\n",
    "You are given an integer array `matches` where `matches[i] = [winneri, loseri]` indicates that the player `winneri` defeated player `loseri` in a match.\n",
    "\n",
    "Return a list answer of size 2 where:\n",
    "\n",
    "`answer[0]` is a list of all players that have not lost any matches.\n",
    "`answer[1]` is a list of all players that have lost exactly one match.\n",
    "The values in the two lists should be returned in increasing order.\n",
    "\n",
    "Note:\n",
    "\n",
    "You should only consider the players that have played at least one match.\n",
    "The testcases will be generated such that no two matches will have the same outcome.\n",
    "\n",
    "**Example1**\n",
    "```\n",
    "Input: matches = [[1,3],[2,3],[3,6],[5,6],[5,7],[4,5],[4,8],[4,9],[10,4],[10,9]]\n",
    "Output: [[1,2,10],[4,5,7,8]]\n",
    "Explanation:\n",
    "Players 1, 2, and 10 have not lost any matches.\n",
    "Players 4, 5, 7, and 8 each have lost one match.\n",
    "Players 3, 6, and 9 each have lost two matches.\n",
    "Thus, answer[0] = [1,2,10] and answer[1] = [4,5,7,8].\n",
    "```\n",
    "\n",
    "**Example 2:**\n",
    "```\n",
    "Input: matches = [[2,3],[1,3],[5,4],[6,4]]\n",
    "Output: [[1,2,5,6],[]]\n",
    "Explanation:\n",
    "Players 1, 2, 5, and 6 have not lost any matches.\n",
    "Players 3 and 4 each have lost two matches.\n",
    "Thus, answer[0] = [1,2,5,6] and answer[1] = [].\n",
    "```"
   ],
   "id": "6dceb11160abd679"
  },
  {
   "metadata": {
    "ExecuteTime": {
     "end_time": "2025-10-18T06:33:24.754638Z",
     "start_time": "2025-05-20T04:58:54.018884Z"
    }
   },
   "cell_type": "code",
   "source": [
    "matches = [[1,3],[2,3],[3,6],[5,6],[5,7],[4,5],[4,8],[4,9],[10,4],[10,9]]\n",
    "from collections import defaultdict\n",
    "\n",
    "\n",
    "from collections import defaultdict\n",
    "\n",
    "def findWinners(matches):\n",
    "    # Track how many times each player has lost\n",
    "    losses = defaultdict(int)\n",
    "\n",
    "    # Track all players who have played at least one match\n",
    "    players = set()\n",
    "\n",
    "    # Process each match: update losses and player set\n",
    "    for winner, loser in matches:\n",
    "        losses[loser] += 1           # Increment the loser's loss count\n",
    "        players.add(winner)          # Add winner to the set of players\n",
    "        players.add(loser)           # Add loser to the set of players\n",
    "\n",
    "    # Find all players with 0 losses\n",
    "    zero_losses = [p for p in players if losses[p] == 0]\n",
    "\n",
    "    # Find all players with exactly 1 loss\n",
    "    one_loss = [p for p in players if losses[p] == 1]\n",
    "\n",
    "    # Return both lists sorted\n",
    "    return [sorted(zero_losses), sorted(one_loss)]\n",
    "\n",
    "\n",
    "    return [sorted(zero_losses), sorted(one_loss)]\n",
    "\n",
    "findWinners(matches)"
   ],
   "id": "493aea68077a9c84",
   "outputs": [
    {
     "data": {
      "text/plain": [
       "[[1, 2, 10], [4, 5, 7, 8]]"
      ]
     },
     "execution_count": 2,
     "metadata": {},
     "output_type": "execute_result"
    }
   ],
   "execution_count": 2
  },
  {
   "metadata": {},
   "cell_type": "markdown",
   "source": [
    "## 🧠 Problem Breakdown: Find Players With Zero or One Losses\n",
    "\n",
    "You're given a list of matches in the form `[[winner, loser]]`.\n",
    "\n",
    "Your goal:\n",
    "- Return a list of players who have **0 losses**\n",
    "- Return a list of players who have **exactly 1 loss**\n",
    "\n",
    "Only include players who actually played (either as winner or loser).\n",
    "\n",
    "---\n",
    "\n",
    "### 🔑 What You Need to Track\n",
    "\n",
    "| Data Structure     | Purpose                                   |\n",
    "|--------------------|--------------------------------------------|\n",
    "| `losses[player]`   | How many times each player has lost       |\n",
    "| `players` (set)    | All players who have played at least once |\n",
    "\n",
    "---\n",
    "\n",
    "### 🔁 Step-by-Step Logic\n",
    "\n",
    "1. Loop through each match `[winner, loser]`\n",
    "2. Increment `losses[loser]` by 1\n",
    "3. Add both `winner` and `loser` to the `players` set\n",
    "4. After processing all matches:\n",
    "   - Players with `losses[player] == 0` → zero-loss list\n",
    "   - Players with `losses[player] == 1` → one-loss list\n",
    "5. Sort both lists and return\n",
    "\n",
    "---\n",
    "\n",
    "### 🧱 Example Input\n",
    "\n",
    "```python\n",
    "matches = [[2,3],[1,3],[5,4],[6,4]]\n"
   ],
   "id": "9e591c9757eea287"
  },
  {
   "metadata": {},
   "cell_type": "markdown",
   "source": [
    "### 🧠 Flowchart-style Trace\n",
    "\n",
    "**Match: [1, 3]**\n",
    "players → {1, 3}\n",
    "losses → {3: 1}\n",
    "\n",
    "**Match: [2, 3]**\n",
    "players → {1, 2, 3}\n",
    "losses → {3: 2}\n",
    "\n",
    "**Match: [3, 6]**\n",
    "players → {1, 2, 3, 6}\n",
    "losses → {3: 2, 6: 1}\n",
    "\n",
    "**Match: [5, 6]**\n",
    "players → {1, 2, 3, 5, 6}\n",
    "losses → {3: 2, 6: 2}\n",
    "\n",
    "**Match: [5, 7]**\n",
    "players → {1, 2, 3, 5, 6, 7}\n",
    "losses → {3: 2, 6: 2, 7: 1}\n",
    "\n",
    "**Match: [4, 5]**\n",
    "players → {1, 2, 3, 4, 5, 6, 7}\n",
    "losses → {3: 2, 6: 2, 7: 1, 5: 1}\n",
    "\n",
    "**Match: [4, 8]**\n",
    "players → {1, 2, 3, 4, 5, 6, 7, 8}\n",
    "losses → {3: 2, 6: 2, 7: 1, 5: 1, 8: 1}\n",
    "\n",
    "**Match: [4, 9]**\n",
    "players → {1, 2, 3, 4, 5, 6, 7, 8, 9}\n",
    "losses → {3: 2, 6: 2, 7: 1, 5: 1, 8: 1, 9: 1}\n",
    "\n",
    "**Match: [10, 4]**\n",
    "players → {1, 2, 3, 4, 5, 6, 7, 8, 9, 10}\n",
    "losses → {3: 2, 6: 2, 7: 1, 5: 1, 8: 1, 9: 1, 4: 1}\n",
    "\n",
    "**Match: [10, 9]**\n",
    "players → {1, 2, 3, 4, 5, 6, 7, 8, 9, 10}\n",
    "losses → {3: 2, 6: 2, 7: 1, 5: 1, 8: 1, 9: 2, 4: 1}\n"
   ],
   "id": "b2dd6ff3bfba622b"
  },
  {
   "metadata": {},
   "cell_type": "markdown",
   "source": [
    "### 💡 Core Data Structures Used\n",
    "\n",
    "| Structure           | What it Holds                            | Why We Use It                                        |\n",
    "|---------------------|-------------------------------------------|------------------------------------------------------|\n",
    "| `defaultdict(int)`  | `{player: loss_count}`                    | Automatically returns 0 for unseen players           |\n",
    "| `set()`             | `{player1, player2, ...}`                | Stores all unique players who appeared in a match    |\n",
    "| `list`              | `[players with 0 or 1 losses]`            | Final sorted output as required by the problem       |\n"
   ],
   "id": "4427aea9642be631"
  },
  {
   "metadata": {},
   "cell_type": "markdown",
   "source": [
    "## Largest Unique Number\n",
    "\n",
    "**Example 1**\n",
    "```\n",
    "Input: nums = [5,7,3,9,4,9,8,3,1]\n",
    "Output: 8\n",
    "Explanation: The maximum integer in the array is 9 but it is repeated. The number 8 occurs only once, so it is the answer.\n",
    "```\n",
    "**Example 2**\n",
    "```\n",
    "Input: nums = [9,9,8,8]\n",
    "Output: -1\n",
    "Explanation: There is no number that occurs only once.\n",
    "```\n"
   ],
   "id": "97336cc11d938833"
  },
  {
   "metadata": {
    "ExecuteTime": {
     "end_time": "2025-10-18T06:33:24.754806Z",
     "start_time": "2025-05-20T04:59:04.533681Z"
    }
   },
   "cell_type": "code",
   "source": [
    "nums = [5,7,3,9,4,9,8,3,1]\n",
    "\n",
    "from collections import defaultdict\n",
    "ocurrences = defaultdict(int)\n",
    "\n",
    "for num in nums:\n",
    "    ocurrences[num] += 1\n",
    "\n",
    "unique_num = max([num for num in nums if ocurrences[num]==1])\n",
    "print(unique_num)"
   ],
   "id": "9b6e66cb531fb146",
   "outputs": [
    {
     "name": "stdout",
     "output_type": "stream",
     "text": [
      "8\n"
     ]
    }
   ],
   "execution_count": 3
  },
  {
   "metadata": {
    "ExecuteTime": {
     "end_time": "2025-10-18T06:33:24.755031Z",
     "start_time": "2025-05-20T04:59:05.076397Z"
    }
   },
   "cell_type": "code",
   "source": [
    "text = \"loonbalxballpoon\"\n",
    "\n",
    "from collections import Counter\n",
    "\n",
    "key_word = \"balloon\"\n",
    "\n",
    "\n",
    "recipe = Counter(key_word)      # what we need → {'l': 2, 'o': 2, 'b': 1, 'a': 1, 'n': 1}\n",
    "supply = Counter(text)          # what we have → counts of all characters in text\n",
    "\n",
    "numz = min(supply[char] // recipe[char] for char in recipe)\n",
    "print(numz)\n",
    "\n"
   ],
   "id": "60ee6a1a869c97a4",
   "outputs": [
    {
     "name": "stdout",
     "output_type": "stream",
     "text": [
      "2\n"
     ]
    }
   ],
   "execution_count": 4
  },
  {
   "metadata": {},
   "cell_type": "markdown",
   "source": [
    "## Contiguous Array\n",
    "**Example 1:**\n",
    "```\n",
    "Input: nums = [0,1]\n",
    "Output: 2\n",
    "Explanation: [0, 1] is the longest contiguous subarray with an equal number of 0 and 1.\n",
    "```\n",
    "\n",
    "**Example 2:**\n",
    "```\n",
    "Input: nums = [0,1,0]\n",
    "Output: 2\n",
    "Explanation: [0, 1] (or [1, 0]) is a longest contiguous subarray with equal number of 0 and 1.\n",
    "```\n",
    "**Example 3:**\n",
    "```\n",
    "Input: nums = [0,1,1,1,1,1,0,0,0]\n",
    "Output: 6\n",
    "Explanation: [1,1,1,0,0,0] is the longest contiguous subarray with equal number of 0 and 1.\n",
    "```"
   ],
   "id": "ca3fde8b319c34a9"
  },
  {
   "metadata": {},
   "cell_type": "markdown",
   "source": [
    "# 🧠 Problem: Contiguous Array (LeetCode 525)\n",
    "\n",
    "## 🎯 Goal:\n",
    "Given a binary array `nums` (only 0s and 1s), return the **maximum length** of a contiguous subarray with **equal number of 0s and 1s**.\n",
    "\n",
    "---\n",
    "\n",
    "## 🔍 How to Recognize This Pattern\n",
    "\n",
    "This is a classic **prefix sum + hashmap** problem. Watch for clues:\n",
    "\n",
    "- Problem talks about **equal count** of two values (like 0s and 1s)\n",
    "- You need to find the **longest** or **maximum length** of a **subarray**\n",
    "- You're allowed to scan the array once or optimize a brute force solution\n",
    "\n",
    "When you see **\"longest subarray where counts balance out\"**, think:\n",
    "> Can I turn this into a sum problem?\n",
    "\n",
    "Yes — by converting `0 → -1`, we’re looking for the **longest subarray that sums to 0**.\n",
    "\n",
    "---\n",
    "\n",
    "## 💡 Core Idea (Reframe the Problem)\n",
    "\n",
    "1. Convert `0`s to `-1`s → this transforms the array so we can use prefix sum logic.\n",
    "2. Now the problem becomes:\n",
    "   > Find the **longest subarray** with a sum of **zero**.\n",
    "3. Track **prefix sums** and store the **first index** where each sum appears.\n",
    "4. If we see the same sum again, the subarray in between must sum to **0**.\n",
    "\n",
    "---\n",
    "\n",
    "## 🧱 Step-by-Step Approach\n",
    "\n",
    "1. **Initialize**:\n",
    "```\n",
    "   running_sum = 0\n",
    "   index_map = {0: -1}  # Handle edge case where valid subarray starts at index 0\n",
    "   max_len = 0\n",
    "```\n",
    "2. Loop through the array:\n",
    "\n",
    "* Convert 0 → -1\n",
    "\n",
    "* Add to running_sum\n",
    "\n",
    "    * If that running_sum was seen before:\n",
    "\n",
    "        * The subarray between the first time and now sums to 0\n",
    "\n",
    "        * Calculate its length: i - index_map[running_sum]\n",
    "\n",
    "        * Update max_len if this length is longer\n",
    "\n",
    "    * If it has not been seen before:\n",
    "\n",
    "        * Store the index of this sum: index_map[running_sum] = i"
   ],
   "id": "f34d7806a0942171"
  },
  {
   "metadata": {
    "ExecuteTime": {
     "end_time": "2025-10-18T06:33:24.755233Z",
     "start_time": "2025-05-20T04:59:06.525038Z"
    }
   },
   "cell_type": "code",
   "source": [
    "nums = [1, 0, 0, 1]\n",
    "# [0, 1, 0, 1, 1, 0]\n",
    "\n",
    "def findMaxLength(nums):\n",
    "    running_sum = 0\n",
    "    index_map = {0: -1} # NOTE: the dict is val:running sum- here we initialize it\n",
    "    max_len = 0\n",
    "\n",
    "    for i, num in enumerate(nums):\n",
    "        val = -1 if num == 0 else 1\n",
    "        running_sum += val\n",
    "\n",
    "        if running_sum in index_map:\n",
    "            length = i - index_map[running_sum]\n",
    "            max_len = max(max_len, length)\n",
    "        else:\n",
    "            index_map[running_sum] = i\n",
    "\n",
    "    return max_len\n",
    "\n",
    "print(findMaxLength(nums))"
   ],
   "id": "9d09a02f02a6e8e8",
   "outputs": [
    {
     "name": "stdout",
     "output_type": "stream",
     "text": [
      "4\n"
     ]
    }
   ],
   "execution_count": 5
  },
  {
   "metadata": {},
   "cell_type": "markdown",
   "source": "## Option 2: Use a *different version* of the function that assumes input is *already transformed*",
   "id": "3ee5b46759729a26"
  },
  {
   "metadata": {
    "ExecuteTime": {
     "end_time": "2025-10-18T06:33:24.755405Z",
     "start_time": "2025-05-19T05:23:31.317560Z"
    }
   },
   "cell_type": "code",
   "source": [
    "def findMaxLengthTransformed(nums):\n",
    "    running_sum = 0\n",
    "    index_map = {0: -1} # the key here is that the key is the num and the val is the index BUT always initialize like this!\n",
    "    max_len = 0\n",
    "\n",
    "    for i, val in enumerate(nums):  # assume already transformed\n",
    "        running_sum += val\n",
    "\n",
    "        if running_sum in index_map:\n",
    "            length = i - index_map[running_sum]\n",
    "            max_len = max(max_len, length)\n",
    "        else:\n",
    "            index_map[running_sum] = i\n",
    "\n",
    "    return max_len\n",
    "\n",
    "nums = [1, -1, -1, 1]\n",
    "print(findMaxLengthTransformed(nums))  # ✅ Outputs: 4\n"
   ],
   "id": "82f87eab58264f99",
   "outputs": [
    {
     "name": "stdout",
     "output_type": "stream",
     "text": [
      "4\n"
     ]
    }
   ],
   "execution_count": 36
  },
  {
   "metadata": {},
   "cell_type": "markdown",
   "source": [
    "## 🔁 The Real Game\n",
    "\n",
    "Tech screens aren’t just about solving problems — they’re about **pattern recognition**.\n",
    "\n",
    "Learn to spot the hidden structure beneath the surface. Here are the heavy hitters:\n",
    "\n",
    "- **Prefix Sum**\n",
    "  - Clues: \"longest\", \"balanced\", \"equal count\", \"sum = 0\"\n",
    "  - Common usage: track state changes over time, convert problems to running totals\n",
    "\n",
    "- **Hashmap**\n",
    "  - Clues: \"first occurrence\", \"frequency count\", \"lookup in constant time\"\n",
    "  - Use it to store what you’ve seen and where\n",
    "\n",
    "- **Sliding Window**\n",
    "  - Clues: \"maximum/minimum subarray\", \"contains exactly k\", \"length ≤ k\"\n",
    "  - Used when you want to maintain a window with a dynamic size or constraint\n",
    "\n",
    "- **Two Pointers**\n",
    "  - Clues: \"sorted array\", \"move in from both ends\", \"in-place operations\"\n",
    "  - Classic for shrinking space without nested loops\n",
    "\n",
    "- **DFS/BFS**\n",
    "  - Clues: \"tree\", \"graph\", \"traverse\", \"level order\", \"connected components\"\n",
    "  - Use queues for BFS, stacks/recursion for DFS\n",
    "\n",
    "---\n",
    "\n",
    "### 🧠 Pattern Recognition is King\n",
    "\n",
    "Interviewers rarely hand you the exact LeetCode problem — but they often hand you a **problem that lives in the same neighborhood**.\n",
    "\n",
    "For example:\n",
    "> Instead of “equal number of 0s and 1s,” they’ll say “equal number of successes and failures.”\n",
    "\n",
    "Same pattern, different vocab.\n",
    "\n",
    "**Learn the patterns. Not just the problems.**\n"
   ],
   "id": "b31a4c3b262484ac"
  },
  {
   "metadata": {},
   "cell_type": "markdown",
   "source": [
    "## 💣 Real Talk\n",
    "\n",
    "⏱ **You’ve got 30–45 minutes per problem**, sometimes less.\n",
    "\n",
    "🤔 If you're still trying to *figure out the strategy* 10 minutes in, you're in a hole.\n",
    "\n",
    "🧠 But if you **recognize the underlying pattern**?\n",
    "You’re halfway done in your head before you write a line of code.\n",
    "\n",
    "---\n",
    "\n",
    "## 🧠 Interview Pattern Recognition = Superpower\n",
    "\n",
    "- Memorizing problems ≠ Mastery\n",
    "- **Mastering patterns = Speed + Confidence**\n",
    "\n",
    "That’s why this method works:\n",
    "\n",
    "- ✅ You stop and ask **why** something works\n",
    "- ✅ You challenge your own assumptions and fix the gaps\n",
    "- ✅ You’re building **instincts**, not just copying answers\n",
    "\n",
    "---\n",
    "\n",
    "## 🥇 Pro Moves in a Real Interview\n",
    "\n",
    "### 🔍 Spot the Category Within 60 Seconds\n",
    "\n",
    "> Ask yourself:\n",
    "- Is this about prefix sums, sliding windows, or frequency counts?\n",
    "- Does it involve trees, graphs, or intervals?\n",
    "- What’s the size of the input? Can brute force work?\n",
    "\n",
    "📌 *Common categories:*\n",
    "- Hashmap / Set\n",
    "- Prefix Sum\n",
    "- Sliding Window\n",
    "- Binary Search\n",
    "- Stack / Monotonic Stack\n",
    "- DFS / BFS\n",
    "- Union Find\n",
    "- Greedy\n",
    "- DP (Dynamic Programming)\n",
    "\n",
    "---\n",
    "\n",
    "### ✍️ Write a High-Level Plan in Comments\n",
    "\n",
    "```python\n",
    "# Step 1: Convert 0s to -1s\n",
    "# Step 2: Track running sum\n",
    "# Step 3: Use hashmap to store first index of each prefix sum\n",
    "# Step 4: If prefix sum repeats, compute length and update max\n"
   ],
   "id": "c047e11afe93a0fc"
  },
  {
   "metadata": {},
   "cell_type": "markdown",
   "source": "# 💸 Moneyline Betting Odds Calculator with Hashing\n",
   "id": "10029bd097ad7ede"
  },
  {
   "metadata": {
    "ExecuteTime": {
     "end_time": "2025-10-18T06:33:24.755563Z",
     "start_time": "2025-05-19T05:23:33.491912Z"
    }
   },
   "cell_type": "code",
   "source": [
    "# 💸 Moneyline Betting Odds Calculator with Hashing\n",
    "\n",
    "def calculate_payout(odds_dict, bet_amount):\n",
    "    results = {}  # Store results in a hashmap\n",
    "\n",
    "    for team, odds in odds_dict.items():\n",
    "        if odds > 0:\n",
    "            profit = bet_amount * (odds / 100)\n",
    "        else:\n",
    "            profit = bet_amount / abs(odds) * 100\n",
    "\n",
    "        total_return = bet_amount + profit\n",
    "\n",
    "        results[team] = {\n",
    "            \"odds\": odds,\n",
    "            \"profit\": round(profit, 2),\n",
    "            \"total_return\": round(total_return, 2)\n",
    "        }\n",
    "\n",
    "    return results\n",
    "\n",
    "\n",
    "# Example usage:\n",
    "odds = {\n",
    "    \"Yankees\": -144,\n",
    "    \"Mariners\": +122\n",
    "}\n",
    "\n",
    "bet = 100  # You can change this\n",
    "\n",
    "payouts = calculate_payout(odds, bet)\n",
    "\n",
    "# 🖨️ Display the results\n",
    "for team, info in payouts.items():\n",
    "    print(f\"Team: {team}\")\n",
    "    print(f\"  Odds: {info['odds']}\")\n",
    "    print(f\"  Profit if you bet ${bet}: ${info['profit']}\")\n",
    "    print(f\"  Total return: ${info['total_return']}\")\n",
    "    print()\n",
    "\n",
    "# ⭐ Determine the favorite\n",
    "favorite = min(odds, key=lambda t: odds[t] if odds[t] < 0 else float('inf'))\n",
    "print(f\"🔥 Favorite: {favorite} (odds: {odds[favorite]})\")\n"
   ],
   "id": "7d535b482dfc3484",
   "outputs": [
    {
     "name": "stdout",
     "output_type": "stream",
     "text": [
      "Team: Yankees\n",
      "  Odds: -144\n",
      "  Profit if you bet $100: $69.44\n",
      "  Total return: $169.44\n",
      "\n",
      "Team: Mariners\n",
      "  Odds: 122\n",
      "  Profit if you bet $100: $122.0\n",
      "  Total return: $222.0\n",
      "\n",
      "🔥 Favorite: Yankees (odds: -144)\n"
     ]
    }
   ],
   "execution_count": 37
  },
  {
   "metadata": {},
   "cell_type": "markdown",
   "source": [
    "# More hashing examples\n",
    "\n",
    "### Example 1: 49. Group Anagrams\n",
    "\n",
    "Given an array of strings strs, group the anagrams together.\n",
    "\n",
    "For example, given:\n",
    "`strs = [\"eat\",\"tea\",\"tan\",\"ate\",\"nat\",\"bat\"], return [[\"bat\"],[\"nat\",\"tan\"],[\"ate\",\"eat\",\"tea\"]]`\n",
    "\n",
    "> The cleanest way to know if two strings are anagrams of each other is by checking if they are equal after both being sorted. Also, all strings in a group will be the same when sorted, so we can use the sorted version as a key. We can map these keys to the groups themselves in a hash map, and then our answer is just the values of the hash map.\n",
    "\n",
    "Essentially, every group has its own \"identifier\" (the sorted string), and we can use this identifier to group them in a hash map easily.\n",
    "\n",
    "Two strings are anagrams of each other if and only if they are sorted. This makes sense because when you sort a string, the characters are forced to appear in a well defined order. By definition, anagrams have the same letters, so when these letters appear in the same order, they must be equal.\n",
    "\n",
    "If we have a string \"bcab\", then sort it, we have \"abbc\". This is its \"identifier\" because every anagram of \"bcab\" will also result in \"abbc\" when sorted. We can use the identifier of each string as a hash map key to easily group all the anagrams together.\n",
    "\n",
    "\n",
    "\n"
   ],
   "id": "ac7d5d2f58f310c7"
  },
  {
   "metadata": {
    "ExecuteTime": {
     "end_time": "2025-10-18T06:33:24.755726Z",
     "start_time": "2025-05-19T05:23:34.221546Z"
    }
   },
   "cell_type": "code",
   "source": [
    "strs = [\"eat\",\"tea\",\"tan\",\"ate\",\"nat\",\"bat\"] # return [[\"bat\"],[\"nat\",\"tan\"],[\"ate\",\"eat\",\"tea\"]]\n",
    "\n",
    "from collections import defaultdict\n",
    "\n",
    "d = defaultdict(list)\n",
    "\n",
    "for word in strs:\n",
    "    srtd = ''.join(sorted(word))\n",
    "    d[srtd].append(word)\n",
    "\n",
    "res = list(d.values())\n",
    "print(res)\n"
   ],
   "id": "9bda75cfecb8ef74",
   "outputs": [
    {
     "name": "stdout",
     "output_type": "stream",
     "text": [
      "[['eat', 'tea', 'ate'], ['tan', 'nat'], ['bat']]\n"
     ]
    }
   ],
   "execution_count": 38
  },
  {
   "metadata": {},
   "cell_type": "markdown",
   "source": "### Their solution",
   "id": "8093a8f3e32e3f7f"
  },
  {
   "metadata": {
    "ExecuteTime": {
     "end_time": "2025-10-18T06:33:24.755919Z",
     "start_time": "2025-05-19T05:23:34.978546Z"
    }
   },
   "cell_type": "code",
   "source": [
    "strs = [\"eat\",\"tea\",\"tan\",\"ate\",\"nat\",\"bat\"]\n",
    "from collections import defaultdict\n",
    "\n",
    "def groupAnagrams(strs):\n",
    "    groups = defaultdict(list)\n",
    "    for s in strs:\n",
    "        key = \"\".join(sorted(s))\n",
    "        groups[key].append(s)\n",
    "\n",
    "    return list(groups.values())\n",
    "\n",
    "groupAnagrams(strs)"
   ],
   "id": "82dbe85b0b800c2f",
   "outputs": [
    {
     "data": {
      "text/plain": [
       "[['eat', 'tea', 'ate'], ['tan', 'nat'], ['bat']]"
      ]
     },
     "execution_count": 39,
     "metadata": {},
     "output_type": "execute_result"
    }
   ],
   "execution_count": 39
  },
  {
   "metadata": {},
   "cell_type": "markdown",
   "source": "## Another solution:",
   "id": "1d6685c65dcf52a3"
  },
  {
   "metadata": {
    "ExecuteTime": {
     "end_time": "2025-10-18T06:33:24.756181Z",
     "start_time": "2025-05-19T05:23:35.463845Z"
    }
   },
   "cell_type": "code",
   "source": [
    "strs = ['listen', 'silent', 'enlist',\n",
    "'rat', 'tar', 'art',\n",
    "'evil', 'vile', 'veil', 'live']\n",
    "\n",
    "def groupAnagrams(strs):\n",
    "        memory = {}\n",
    "        for string in strs:\n",
    "            sorted_string = ''.join(sorted(string))\n",
    "            if sorted_string in memory:\n",
    "                memory[sorted_string].append(string)\n",
    "            else:\n",
    "                memory[sorted_string] = [string]\n",
    "        return list(memory.values())\n",
    "\n",
    "groupAnagrams(strs)"
   ],
   "id": "178a851d9c15c775",
   "outputs": [
    {
     "data": {
      "text/plain": [
       "[['listen', 'silent', 'enlist'],\n",
       " ['rat', 'tar', 'art'],\n",
       " ['evil', 'vile', 'veil', 'live']]"
      ]
     },
     "execution_count": 40,
     "metadata": {},
     "output_type": "execute_result"
    }
   ],
   "execution_count": 40
  },
  {
   "metadata": {},
   "cell_type": "markdown",
   "source": [
    "### 🔍 What’s Really Happening?\n",
    "Let’s walk it through like Python sees it:\n",
    "```\n",
    "s = \"eat\"\n",
    "key = \"aet\"  # after sorting\n",
    "groups[key]  # doesn't exist yet? no problem — defaultdict makes it []\n",
    "groups[key].append(\"eat\")  # now appending to that empty list\n",
    "```\n",
    "Boom, `\"eat\"` is now in `groups[\"aet\"]`\n",
    "\n",
    "Next time `\"tea\"` comes in, it gets the same sorted key:\n",
    "```\n",
    "key = \"aet\"\n",
    "groups[\"aet\"].append(\"tea\")\n",
    "```\n",
    "Now `groups[\"aet\"] = [\"eat\", \"tea\"]`\n",
    "\n",
    "### 🧠 Mental Shortcut\n",
    "> When you use `defaultdict(list)`, you can treat every `groups[key]` like it's already a list — no need to pre-create it or check if it’s there.\n",
    "\n",
    "So yeah, `append()` is for lists, and `groups[key]` is a list at that moment, because `defaultdict(list)` made it that way."
   ],
   "id": "c6f1bb1782ab8498"
  },
  {
   "metadata": {},
   "cell_type": "markdown",
   "source": "## 🔧 Without defaultdict (Manual Handling)",
   "id": "6ec1f473533bb231"
  },
  {
   "metadata": {
    "ExecuteTime": {
     "end_time": "2025-10-18T06:33:24.756738Z",
     "start_time": "2025-05-19T05:23:36.310619Z"
    }
   },
   "cell_type": "code",
   "source": [
    "def groupAnagrams(strs):\n",
    "    groups = {}\n",
    "\n",
    "    for s in strs:\n",
    "        key = ''.join(sorted(s))\n",
    "\n",
    "        # Check if the key exists already\n",
    "        if key not in groups:\n",
    "            groups[key] = []  # Manually create the list\n",
    "\n",
    "        groups[key].append(s)\n",
    "\n",
    "    return list(groups.values())\n"
   ],
   "id": "31c59e9ed4552cf5",
   "outputs": [],
   "execution_count": 41
  },
  {
   "metadata": {},
   "cell_type": "markdown",
   "source": "Total Time = $N * O(K log K) = O(N * K log K)$\n",
   "id": "4a7cadec1f8f278b"
  },
  {
   "metadata": {},
   "cell_type": "markdown",
   "source": [
    "## Example 2: 2260. Minimum Consecutive Cards to Pick Up\n",
    "\n",
    "Given an integer array `cards`, find the length of the *shortest* subarray that contains at least one duplicate. If the array has no duplicates, return `-1`.\n",
    "\n",
    "We can actually solve this problem using a sliding window, but let's take a look at another approach that has more emphasis on a hash map. This question is equivalent to: <span style=\"background-color: orange\">what is the shortest distance between any two of the same element?</span> If we go through the array and use a hash map to record the indices for every element, we can iterate over those indices to find the shortest distance. For example, given `cards = [1, 2, 6, 2, 1]`, we would map `1: [0, 4], 2: [1, 3], and 6: [2]`. Then we can iterate over the values and see that the **minimum** difference can be achieved from picking up the 2s.\n",
    "\n",
    "The shortest subarray that contains a duplicate will have the first and last element be the duplicate - otherwise elements could be trimmed off the edges at no cost. Therefore, we just need to find the shortest distance between any two of the same element.\n",
    "\n",
    "Iterate over the array once and record the position of each element in a hash map. <span style=\"background-color: orange\">The keys to the hash map will be the element, and the value will be an array of all the indices it appears at.</span>\n",
    "\n",
    "Because we iterate on the indices in ascending order, each array within the hash map will also be sorted ascending.\n",
    "\n",
    "Now we can check each element individually. To find the minimum distance, we just need to check all adjacent pairs because the array is sorted.\n",
    "\n"
   ],
   "id": "950f4100545366a3"
  },
  {
   "metadata": {},
   "cell_type": "markdown",
   "source": [
    "So **Key-->element of array: Value-->idx value appears at**\n",
    "\n",
    "If you have `cards = [1, 2, 6, 2, 1]` --> `{1: 0, 2: 1, 6: 2, 2: 3, 1: 4}`\n",
    "\n",
    "so if we had a dict called `d`\n",
    "\n",
    "`d = {1: 0, 2: 1, 6: 2, 2: 3, 1: 4}`\n",
    "\n",
    "d[1] = 0, d[2] = 1, d[6] = 2, d[2] = 3 so right here we have 2 ocurrences of d[2] at vals [1, 3] how do we turn this into python?\n",
    "\n",
    "```\n",
    "d[1] = 0\n",
    "d[2] = 1\n",
    "d[6] = 2\n",
    "d[2] = 3\n",
    "```\n",
    "You’re watching `2` get overwritten from `1 → 3`, and you want to catch that the first time `2` appeared at index `1`, and the second time at index `3`, and compute the difference, i.e. `3 - 1`.\n",
    "\n",
    "### 🧱 Step-by-step: Build That in Python\n",
    "Let’s simulate that with a loop and a conditional:\n",
    "```\n",
    "cards = [1, 2, 6, 2]\n",
    "d = {}  # map from card value to index\n",
    "```\n",
    "Now loop and check:\n",
    "```\n",
    "for i, card in enumerate(cards):\n",
    "    if card in d:\n",
    "        print(f\"Found duplicate for {card} at index {i}\")\n",
    "        diff = i - d[card]\n",
    "        print(f\"Previous index: {d[card]}, Current index: {i}, Difference: {diff}\")\n",
    "    d[card] = i  # update the index for this card\n",
    "```\n",
    "so: `diff = i - d[card]`\n",
    "\n",
    "#### 🧪 Output will be:\n",
    "```\n",
    "Found duplicate for 2 at index 3\n",
    "Previous index: 1, Current index: 3, Difference: 2\n",
    "```\n"
   ],
   "id": "daba4b0d21d3ecb7"
  },
  {
   "metadata": {
    "ExecuteTime": {
     "end_time": "2025-10-18T06:33:24.757022Z",
     "start_time": "2025-05-19T05:23:37.900841Z"
    }
   },
   "cell_type": "code",
   "source": [
    "cards = [1, 2, 6, 2, 1]  # 🟡 Input array of card values (can have duplicates)\n",
    "\n",
    "from collections import defaultdict  # ✅ Import defaultdict for auto-initialized lists\n",
    "\n",
    "# 🔧 Function to find the length of the smallest subarray containing a duplicate\n",
    "def minimumCardPickup(cards):\n",
    "    dic = defaultdict(list)  # ✅ Dictionary where each key maps to a list of indices (auto-created)\n",
    "\n",
    "    # 🔁 Loop through each card by index\n",
    "    for i in range(len(cards)):\n",
    "        dic[cards[i]].append(i)\n",
    "        # 🔹 Key: card value (e.g., 2)\n",
    "        # 🔹 Value: list of indices it appears at (e.g., [1, 3] for value 2)\n",
    "        # ✅ If the key isn't there yet, defaultdict creates an empty list for you\n",
    "\n",
    "    ans = float(\"inf\")  # ⏳ Initialize min distance as infinity (so any real distance will be smaller)\n",
    "\n",
    "    # 🔁 Now loop over each key in the dictionary (each unique card value)\n",
    "    for key in dic:\n",
    "        arr = dic[key]  # 🔹 arr is a list of all indices where `key` appears\n",
    "\n",
    "        # 🔁 Loop through index *pairs* in `arr`\n",
    "        for i in range(len(arr) - 1):\n",
    "            # ✅ We use `-1` because we access `arr[i + 1]` inside the loop\n",
    "            # 🧠 So we stop at the second-to-last index to avoid IndexError\n",
    "\n",
    "            # 🧮 Calculate subarray length that contains this duplicate pair\n",
    "            ans = min(ans, arr[i + 1] - arr[i] + 1)\n",
    "            # 🔹 `arr[i + 1] - arr[i]` gives the gap between duplicates\n",
    "            # 🔹 `+1` makes it the **inclusive length** of the subarray\n",
    "\n",
    "    # ✅ If we found a duplicate (ans was updated), return it. Otherwise, return -1\n",
    "    return ans if ans < float(\"inf\") else -1\n",
    "\n",
    "\n",
    "\n",
    "print(minimumCardPickup(cards))"
   ],
   "id": "d32e8c85eaa69bb1",
   "outputs": [
    {
     "name": "stdout",
     "output_type": "stream",
     "text": [
      "3\n"
     ]
    }
   ],
   "execution_count": 42
  },
  {
   "metadata": {},
   "cell_type": "markdown",
   "source": [
    "Aight, let’s crack this open with no fluff — you already understand the core logic (`diff = i - d[card]`), now let’s break down this line you might be asking about:\n",
    "\n",
    "`ans = min(ans, arr[i + 1] - arr[i] + 1)\n",
    "`\n",
    "### 🧠 First, What Is *arr*?\n",
    "In that original code:\n",
    "```\n",
    "for key in dic:\n",
    "    arr = dic[key]  # this is the list of all indices where that card appears\n",
    "```\n",
    "So for example, if cards = [1, 2, 6, 2, 1], then:\n",
    "```\n",
    "dic = {\n",
    "    1: [0, 4],\n",
    "    2: [1, 3],\n",
    "    6: [2]\n",
    "}\n",
    "```\n",
    "So for `key = 2`, `arr = [1, 3]`\n",
    "That means: \"Card `2` shows up at index `1` and again at index `3`\"\n",
    "\n",
    "### 🔎 Now the Line:\n",
    "```\n",
    "ans = min(ans, arr[i + 1] - arr[i] + 1)\n",
    "```\n",
    "This is just:\n",
    "`distance_between_repeats = arr[i+1] - arr[i] + 1\n",
    "`\n",
    "* Why arr[i+1] - arr[i]?\n",
    "    - You're getting the gap between two appearances of the same card\n",
    "\n",
    "* Why the +1?\n",
    "    - Because they want the length of the subarray that includes both duplicates.\n",
    "\n",
    "So:\n",
    "\n",
    "If the same card appears at indices `1` and `3`, that’s the subarray: `cards[1:4]` = `[2, 6, 2]`\n",
    "\n",
    "That’s a length of `3 - 1 + 1 = 3`\n",
    "\n",
    "### 🧪 Tiny Example:\n",
    "```\n",
    "arr = [1, 3]\n",
    "arr[1] - arr[0] + 1 = 3 - 1 + 1 = 3\n",
    "```\n",
    "That’s the length of the smallest subarray that contains both copies of that card.\n",
    "\n",
    "### Another potential trip-up: 🔍 Why range(len(arr) - 1) instead of range(len(arr))?\n",
    "Because you're accessing arr[i + 1] in this line:\n",
    "`ans = min(ans, arr[i + 1] - arr[i] + 1)\n",
    "`\n",
    "### 🔥 Now imagine if you used this:\n",
    "```\n",
    "for i in range(len(arr)):\n",
    "    ans = min(ans, arr[i + 1] - arr[i] + 1)  # Uh oh!\n",
    "```\n",
    "When i gets to the last index, you're gonna hit:\n",
    "`arr[len(arr)]  # ❌ IndexError: list index out of range\n",
    "`\n",
    "### Because Python lists are 0-indexed:\n",
    "\n",
    "* `range(len(arr))` goes from `0` to `len(arr) - 1`\n",
    "\n",
    "* So `arr[i + 1]` becomes `arr[len(arr)]` at the end — that's out of bounds\n",
    "\n",
    "### ✅ So `range(len(arr) - 1)` is the safe move\n",
    "You only loop up to the second-to-last index, so that i + 1 stays inside the list.\n",
    "\n",
    "## 🔁 TL;DR Rule:\n",
    "If you're doing `arr[i + 1]` *inside a loop*, you better **stop your loop** at `range(len(arr) - 1)`, or you'll crash out with an `IndexError`.\n"
   ],
   "id": "9e8859e6c09f01ce"
  },
  {
   "metadata": {},
   "cell_type": "markdown",
   "source": [
    "You might be asking:\n",
    "\n",
    "> \"Why do we start with ans = float(\"inf\") if we're just gonna call min(ans, ...) anyway?\"\n",
    "\n",
    "### 🔍 Here's Why:\n",
    "`ans = float(\"inf\")` is a safe starting value for tracking the minimum.\n",
    "You're using:\n",
    "`ans = min(ans, some_number)`\n",
    "So you need ans to **start off as something huge**, so that the first real number you compare it with becomes the new minimum.\n",
    "\n",
    "#### 🧪 Think of This Example:\n",
    "Let’s say your actual subarray lengths are like: `5, 3, 4`\n",
    "\n",
    "If you start with:\n",
    "`ans = 0`\n",
    "Then:\n",
    "`ans = min(0, 5)  # still 0 ❌ wrong!`\n",
    "That’s a problem — your code now thinks 0 is the minimum, but that’s not even a valid subarray length!\n",
    "\n",
    "#### ✅ So We Start With Infinity\n",
    "`ans = float(\"inf\")`\n",
    "Then when we run:\n",
    "```\n",
    "ans = min(float(\"inf\"), 5)  # ✅ ans becomes 5\n",
    "ans = min(5, 3)             # ✅ ans becomes 3\n",
    "ans = min(3, 4)             # ✅ stays 3\n",
    "```\n",
    "### 🧠 Final Word:\n",
    "* float(\"inf\") is just a clean Python trick for:\n",
    "\n",
    "> “Start big, so the first real value beats it.”\n",
    "\n",
    "* It’s like a mental placeholder that says:\n",
    "\n",
    "> \"I haven't seen anything useful yet.\"\n",
    "\n",
    "\n"
   ],
   "id": "62d8d4d021976bf"
  },
  {
   "metadata": {},
   "cell_type": "markdown",
   "source": [
    "## 🧠 Lesson: Track Previous Occurrences to Find Minimal Distance Between Duplicates\n",
    "When you're trying to detect patterns like duplicates, repeated values, or distances between repeating elements, you don't need to store everything —\n",
    "→ You just need to remember where you last saw it.\n",
    "\n",
    "### 📌 Core Takeaways:\n",
    "1. Use a hash map (dictionary) to track the last seen index of each element.\n",
    "\n",
    "    - d[card] = i lets you quickly look up the last time a card showed up.\n",
    "\n",
    "2. When you see the same value again, compare current index to last seen.\n",
    "\n",
    "    - `diff = i - d[card]` gives you the gap.\n",
    "\n",
    "    - Add +1 if they want inclusive length of a subarray.\n",
    "\n",
    "3. Use `float(\"inf\")` as a clean min-tracker starting value.\n",
    "\n",
    "    - It guarantees your first real diff will get accepted.\n",
    "\n",
    "4. Loop carefully if you’re comparing i and i+1.\n",
    "\n",
    "    - `range(len(arr) - 1)` prevents index out-of-range errors.\n",
    "\n",
    "## 🧠 Bigger Pattern:\n",
    "This falls under the \"sliding window / last seen / two-pointer\" umbrella —\n",
    "You don’t need to store all data — just the right piece of info from the last step to get your answer in $O(N)$.\n",
    "\n",
    "#### 🧱 Mental Model Moving Forward:\n",
    "> “If I’m checking distance between duplicates, I only need to know when I saw it last.”\n",
    "\n",
    "Want a one-liner motto to keep in your head for these?\n",
    "\n",
    "> “Don’t hoard the history — remember the last time.”\n"
   ],
   "id": "6f4069509f9f9b06"
  },
  {
   "metadata": {},
   "cell_type": "markdown",
   "source": [
    "## Improved version of this algorithm\n",
    "The time complexity is still\n",
    "$O(n)$ even though we have a nested loop in the algorithm. This is because the inner loop in the nested loop can only iterate\n",
    "$n$ times in total, since it's iterating over indices of elements from the array, where\n",
    "$n$ is the length of the input array.\n",
    "\n",
    "We can actually improve this algorithm slightly by **observing that we don't need to store all the indices**, <u>but only the most recent one</u> that we saw for each number. This improves the average space complexity. The current algorithm has\n",
    "$O(n)$ space complexity always, but with the improvement, it is only\n",
    "$O(n)$ in the worst case, when there are no duplicates."
   ],
   "id": "c6663628d009f561"
  },
  {
   "metadata": {
    "ExecuteTime": {
     "end_time": "2025-10-18T06:33:24.757226Z",
     "start_time": "2025-05-19T05:23:39.828266Z"
    }
   },
   "cell_type": "code",
   "source": [
    "cards = [1, 2, 3, 4, 1, 1]\n",
    "from collections import defaultdict\n",
    "\n",
    "\n",
    "def minimumCardPickup(cards):\n",
    "    dic = defaultdict(int)\n",
    "    ans = float(\"inf\")\n",
    "    for i in range(len(cards)):\n",
    "        if cards[i] in dic:\n",
    "            ans = min(ans, i - dic[cards[i]] + 1)\n",
    "\n",
    "        dic[cards[i]] = i\n",
    "\n",
    "    return ans if ans < float(\"inf\") else -1\n",
    "\n",
    "minimumCardPickup(cards)\n"
   ],
   "id": "73621b078f0b5b4d",
   "outputs": [
    {
     "data": {
      "text/plain": [
       "2"
      ]
     },
     "execution_count": 43,
     "metadata": {},
     "output_type": "execute_result"
    }
   ],
   "execution_count": 43
  },
  {
   "metadata": {},
   "cell_type": "markdown",
   "source": [
    "## Example 3: 2342. Max Sum of a Pair With Equal Sum of Digits\n",
    "\n",
    "Given an array of integers nums, find the maximum value of `nums[i] + nums[j]`, where `nums[i]` and `nums[j]` have the same digit sum (the sum of their individual digits). Return `-1` if there is no pair of numbers with the same digit sum.\n",
    "\n",
    "**Example 1:**\n",
    "```\n",
    "Input: nums = [18,43,36,13,7]\n",
    "Output: 54\n",
    "Explanation: The pairs (i, j) that satisfy the conditions are:\n",
    "- (0, 2), both numbers have a sum of digits equal to 9, and their sum is 18 + 36 = 54.\n",
    "- (1, 4), both numbers have a sum of digits equal to 7, and their sum is 43 + 7 = 50.\n",
    "So the maximum sum that we can obtain is 54.\n",
    "```\n",
    "**Example 2:**\n",
    "```\n",
    "Input: nums = [10,12,19,14]\n",
    "Output: -1\n",
    "Explanation: There are no two numbers that satisfy the conditions, so we return -1.\n",
    "```"
   ],
   "id": "e181338a74666263"
  },
  {
   "metadata": {},
   "cell_type": "markdown",
   "source": [
    "### The first thing you may ask yourself- How do I even add these numbers???\n",
    "\n",
    "It will go something like this:\n",
    "```\n",
    "sum = 0\n",
    "while x:\n",
    "     sum += x%10\n",
    "     x = x//10\n",
    "```\n",
    "Just think about it:\n",
    "- 18 % 10 = 8\n",
    "- 18 // 10 = 1\n",
    "\n",
    "then you add these digits to get 9\n",
    "\n"
   ],
   "id": "7ff43a917aea21db"
  },
  {
   "metadata": {
    "ExecuteTime": {
     "end_time": "2025-10-18T06:33:24.757429Z",
     "start_time": "2025-05-19T05:23:44.078141Z"
    }
   },
   "cell_type": "code",
   "source": [
    "num = 18\n",
    "print(f'18 % 10 = {18 % 10}')\n",
    "print(f'18 // 10 = {18 // 10}')\n",
    "print(f'1 // 10 = {1 // 10}')\n",
    "\n",
    "# encase in a for loop\n",
    "sum = 0\n",
    "while num > 0:\n",
    "    sum += num % 10\n",
    "    num = num //10\n",
    "print(sum)\n"
   ],
   "id": "160f4586104cec4",
   "outputs": [
    {
     "name": "stdout",
     "output_type": "stream",
     "text": [
      "18 % 10 = 8\n",
      "18 // 10 = 1\n",
      "1 // 10 = 0\n",
      "9\n"
     ]
    }
   ],
   "execution_count": 44
  },
  {
   "metadata": {
    "ExecuteTime": {
     "end_time": "2025-10-18T06:33:24.757678Z",
     "start_time": "2025-05-19T05:23:44.640363Z"
    }
   },
   "cell_type": "code",
   "source": [
    "nums = [18, 43, 36, 13, 7]\n",
    "\n",
    "for num in nums:\n",
    "    digit_sum = 0\n",
    "    n = num\n",
    "    while n > 0:\n",
    "        digit_sum += n % 10\n",
    "        n = n // 10\n",
    "    print(f\"Number: {num}, Digit Sum: {digit_sum}\")\n",
    "\n"
   ],
   "id": "c2e99a5718c4c2e3",
   "outputs": [
    {
     "name": "stdout",
     "output_type": "stream",
     "text": [
      "Number: 18, Digit Sum: 9\n",
      "Number: 43, Digit Sum: 7\n",
      "Number: 36, Digit Sum: 9\n",
      "Number: 13, Digit Sum: 4\n",
      "Number: 7, Digit Sum: 7\n"
     ]
    }
   ],
   "execution_count": 45
  },
  {
   "metadata": {},
   "cell_type": "markdown",
   "source": "### Let's just look at this part",
   "id": "b89bcecec56e3bb3"
  },
  {
   "metadata": {
    "ExecuteTime": {
     "end_time": "2025-10-18T06:33:24.757897Z",
     "start_time": "2025-05-19T05:23:46.403098Z"
    }
   },
   "cell_type": "code",
   "source": [
    "n= 18\n",
    "digit_sum = 0\n",
    "digit_sum += n% 10\n",
    "print(digit_sum)"
   ],
   "id": "84fddd97f07db5d",
   "outputs": [
    {
     "name": "stdout",
     "output_type": "stream",
     "text": [
      "8\n"
     ]
    }
   ],
   "execution_count": 46
  },
  {
   "metadata": {},
   "cell_type": "markdown",
   "source": [
    "**so here you just get the last digit**\n",
    "\n",
    "### 🧠 Step-by-Step Breakdown\n",
    "🎯 Goal:\n",
    "We wanna find the sum of digits for each number in the list nums.\n",
    "\n",
    "#### 🔢 Step 1: Loop through the numbers\n",
    "`for num in nums:`\n",
    "\n",
    "You're pulling each number from the list. First it’s 18, then 43, etc.\n",
    "\n",
    "#### 🛑 Step 2: Don’t Touch the Original\n",
    "`n = num`\n",
    "We copy the number into `n` so we can chop it up without losing the original. Think of `num` like the name on the birth certificate and `n` is the street nickname we mess with.\n",
    "\n",
    "#### 🏁 Step 3: Initialize your sum\n",
    "`digit_sum = 0`\n",
    "You're setting up a counter to collect the digits.\n",
    "\n",
    "#### ♻️ Step 4: Loop through the digits\n",
    "`while n > 0:`\n",
    "You loop **until the number becomes 0**. This is your digit extraction zone.\n",
    "\n",
    "#### 🧮 Step 5: Extract last digit and add it\n",
    "`digit_sum += n % 10`\n",
    "\n",
    "**This is the sauce**. `n % 10` gives you the last digit:\n",
    "\n",
    "* `18 % 10 → 8`\n",
    "\n",
    "* `43 % 10 → 3`\n",
    "\n",
    "You’re adding that to `digit_sum`.\n",
    "\n"
   ],
   "id": "ea68c3fa13219ce3"
  },
  {
   "metadata": {},
   "cell_type": "markdown",
   "source": [
    "### 💥 Quick Trace Example: num = 36\n",
    "* `n = 36`, `digit_sum = 0`\n",
    "\n",
    "* `36 % 10` = `6` → `digit_sum = 6`\n",
    "\n",
    "* `36 // 10 = 3 → n = 3`\n",
    "\n",
    "* `3 % 10 = 3 → digit_sum = 9`\n",
    "\n",
    "* `3 // 10 = 0 → n = 0, exit loop`\n",
    "\n",
    "Result: `36` → `digit sum = 9`"
   ],
   "id": "24c9a0aa896e3dbe"
  },
  {
   "metadata": {
    "ExecuteTime": {
     "end_time": "2025-10-18T06:33:24.758179Z",
     "start_time": "2025-05-19T05:23:48.427951Z"
    }
   },
   "cell_type": "code",
   "source": [
    "nums = [18, 43, 36, 13, 7]\n",
    "\n",
    "for num in  nums:\n",
    "    n = num\n",
    "    digit_sum = 0\n",
    "    while n > 0:\n",
    "        digit_sum += n % 10\n",
    "        n = n // 10\n",
    "    print(digit_sum)\n"
   ],
   "id": "656d11395d6fb6b7",
   "outputs": [
    {
     "name": "stdout",
     "output_type": "stream",
     "text": [
      "9\n",
      "7\n",
      "9\n",
      "4\n",
      "7\n"
     ]
    }
   ],
   "execution_count": 47
  },
  {
   "metadata": {},
   "cell_type": "markdown",
   "source": [
    "### OK, so we have got the digit sums\n",
    "**Here are the instructions**\n",
    "> Given an array of integers nums, find the maximum value of `nums[i] + nums[j]`, where `nums[i]` and `nums[j]` have the same digit sum (the sum of their individual digits). Return `-1` if there is no pair of numbers with the same digit sum.\n",
    "\n",
    "#### 🧠 So What's the Strategy?\n",
    "right here:\n",
    "\n",
    "> \"Make a dictionary where the key is the digit sum, and the value is a list of numbers that gave that digit sum.\"\n",
    "\n",
    "so k: digit sum, v: list of numbers--> dict= {digit_sum: num, digit_sum: num......}\n",
    "\n",
    "#### 🔍 Now, About defaultdict(list)...\n",
    "That’s a Python trick that saves your ass when building dictionaries of lists.\n",
    "\n",
    "**✋ Without it:**\n",
    "```\n",
    "d = {}\n",
    "for x in nums:\n",
    "    key = some_key(x)\n",
    "    if key not in d:\n",
    "        d[key] = []\n",
    "    d[key].append(x)\n",
    "```\n",
    "\n",
    "***✅ With `defaultdict(list)`:***\n",
    "```\n",
    "from collections import defaultdict\n",
    "\n",
    "d = defaultdict(list)\n",
    "\n",
    "for x in nums:\n",
    "    key = some_key(x)\n",
    "    d[key].append(x)  # No need to check if key exists. It auto-creates it as a list!\n",
    "```\n",
    "\n",
    "#### ⚙️ Under the Hood:\n",
    "`defaultdict(list)` means:\n",
    "> “If I access a key that doesn’t exist, just give me an empty list and let me roll.”\n",
    "\n",
    "You can also do `defaultdict(int)` for counting, or `defaultdict(set)` for unique values.\n",
    "\n",
    "\n"
   ],
   "id": "8054573314754bf"
  },
  {
   "metadata": {
    "ExecuteTime": {
     "end_time": "2025-10-18T06:33:24.758358Z",
     "start_time": "2025-05-19T05:23:49.553313Z"
    }
   },
   "cell_type": "code",
   "source": [
    "from collections import defaultdict\n",
    "\n",
    "grouped = defaultdict(list)\n",
    "\n",
    "nums = [18, 43, 36, 13, 7]\n",
    "\n",
    "def digit_sum(n):\n",
    "    s = 0\n",
    "    while n > 0:\n",
    "        s += n % 10\n",
    "        n //= 10\n",
    "    return s\n",
    "\n",
    "for num in nums:\n",
    "    dsum = digit_sum(num)\n",
    "    grouped[dsum].append(num)\n",
    "\n",
    "print(grouped)\n"
   ],
   "id": "87129943af1bb272",
   "outputs": [
    {
     "name": "stdout",
     "output_type": "stream",
     "text": [
      "defaultdict(<class 'list'>, {9: [18, 36], 7: [43, 7], 4: [13]})\n"
     ]
    }
   ],
   "execution_count": 48
  },
  {
   "metadata": {},
   "cell_type": "markdown",
   "source": [
    "## Next Move:\n",
    "Now, for each key, if len(grouped[key]) >= 2, sort the list descending and take the top 2. That sum is your candidate for max."
   ],
   "id": "3a75e2f9ef91d11a"
  },
  {
   "metadata": {
    "ExecuteTime": {
     "end_time": "2025-10-18T06:33:24.758543Z",
     "start_time": "2025-05-19T05:23:50.041860Z"
    }
   },
   "cell_type": "code",
   "source": [
    "from collections import defaultdict\n",
    "\n",
    "grouped = defaultdict(list)\n",
    "\n",
    "nums = [18, 43, 36, 13, 7]\n",
    "\n",
    "def digit_sum(n):\n",
    "    s = 0\n",
    "    while n > 0:\n",
    "        s += n % 10\n",
    "        n //= 10\n",
    "    return s\n",
    "\n",
    "# Group numbers by their digit sum\n",
    "for num in nums:\n",
    "    dsum = digit_sum(num)\n",
    "    grouped[dsum].append(num)\n",
    "\n",
    "# Now, find the max pair sum\n",
    "max_pair_sum = -1  # Start low in case there's no valid pair and note the problem only has positive numbers\n",
    "\n",
    "for digit, num_list in grouped.items():\n",
    "    if len(num_list) >= 2:\n",
    "        sorted_nums = sorted(num_list, reverse=True)\n",
    "        pair_sum = sorted_nums[0] + sorted_nums[1]\n",
    "        max_pair_sum = max(max_pair_sum, pair_sum)\n",
    "\n",
    "print(max_pair_sum)\n",
    "\n",
    "\n",
    "\n",
    "\n",
    "\n"
   ],
   "id": "2906aa456c376989",
   "outputs": [
    {
     "name": "stdout",
     "output_type": "stream",
     "text": [
      "54\n"
     ]
    }
   ],
   "execution_count": 49
  },
  {
   "metadata": {},
   "cell_type": "markdown",
   "source": [
    "## 2nd Strategy\n",
    "\n",
    "#### 🧠 Strategy in Plain English\n",
    "Instead of storing all numbers per digit sum, they only keep the largest number seen so far for each digit sum.\n",
    "\n",
    "Then:\n",
    "\n",
    "* When a new number shows up with the same `digit sum`,\n",
    "\n",
    "* They add it to the previous biggest number in `dic[digit_sum]`,\n",
    "\n",
    "* And check if that’s the best pair seen."
   ],
   "id": "a98f38b01cd1d702"
  },
  {
   "metadata": {
    "ExecuteTime": {
     "end_time": "2025-10-18T06:33:24.758732Z",
     "start_time": "2025-05-19T05:23:50.575436Z"
    }
   },
   "cell_type": "code",
   "source": [
    "from collections import defaultdict\n",
    "\n",
    "def maximumSum(nums):\n",
    "    def get_digit_sum(num):\n",
    "        digit_sum = 0\n",
    "        while num:\n",
    "            digit_sum += num % 10\n",
    "            num //= 10\n",
    "\n",
    "        return digit_sum\n",
    "\n",
    "    dic = defaultdict(int)\n",
    "    ans = -1\n",
    "    for num in nums:\n",
    "        digit_sum = get_digit_sum(num)\n",
    "        if digit_sum in dic:\n",
    "            ans = max(ans, num + dic[digit_sum])\n",
    "        dic[digit_sum] = max(dic[digit_sum], num)\n",
    "\n",
    "    return ans\n",
    "\n",
    "maximumSum(nums)"
   ],
   "id": "ac0e7cdeff1ba01c",
   "outputs": [
    {
     "data": {
      "text/plain": [
       "54"
      ]
     },
     "execution_count": 50,
     "metadata": {},
     "output_type": "execute_result"
    }
   ],
   "execution_count": 50
  },
  {
   "metadata": {},
   "cell_type": "markdown",
   "source": [
    "### 🧩 Let’s Annotate the Code\n",
    "```\n",
    "from collections import defaultdict\n",
    "\n",
    "def maximumSum(nums):\n",
    "    def get_digit_sum(num):\n",
    "        digit_sum = 0\n",
    "        while num:\n",
    "            digit_sum += num % 10\n",
    "            num //= 10\n",
    "        return digit_sum\n",
    "```\n",
    "### 👇 `get_digit_sum()`:\n",
    "* Just like your version — clean digit extraction.\n",
    "\n",
    "* They use while num: instead of `while num > 0`: — same effect.\n",
    "\n",
    "```\n",
    "    dic = defaultdict(int)\n",
    "    ans = -1\n",
    "```\n",
    "* `dic[digit_sum]` holds the largest number seen so far with that digit sum.\n",
    "\n",
    "* `ans` tracks the best sum of any two such numbers.\n",
    "\n",
    "```\n",
    "    for num in nums:\n",
    "        digit_sum = get_digit_sum(num)\n",
    "```\n",
    "Loop through the list, get digit sum for each number.\n",
    "\n",
    "```\n",
    "        if digit_sum in dic:\n",
    "            ans = max(ans, num + dic[digit_sum])\n",
    "```\n",
    "#### 💥 Here's the clutch move:\n",
    "\n",
    "* If there's already a number with the same digit sum,\n",
    "\n",
    "* Add num + previous max, and update ans if it’s better.\n",
    "\n",
    "`        dic[digit_sum] = max(dic[digit_sum], num)`\n",
    "\n",
    "* Keep the largest number seen for that digit sum.\n",
    "\n",
    "* No need to keep a list. Just the GOAT number per group.\n",
    "\n",
    "### 🧠 Why This Is Efficient:\n",
    "* You don’t store extra data.\n",
    "\n",
    "* You loop through nums once — total time: O(n * d), where d is number of digits.\n",
    "\n",
    "* You keep a tight dict — no sorting, no second loop. Clean.\n",
    "\n",
    "\n",
    "\n"
   ],
   "id": "9b204ec60c9e8387"
  },
  {
   "metadata": {},
   "cell_type": "markdown",
   "source": "## 🔧 Optimized Version – Written Like You Own It:",
   "id": "c25e5e220730035f"
  },
  {
   "metadata": {
    "ExecuteTime": {
     "end_time": "2025-10-18T06:33:24.759034Z",
     "start_time": "2025-05-19T05:48:25.742792Z"
    }
   },
   "cell_type": "code",
   "source": [
    "from collections import defaultdict\n",
    "\n",
    "nums = [18, 43, 36, 13, 7]\n",
    "\n",
    "def digit_sum(n):\n",
    "    s = 0\n",
    "    while n > 0:\n",
    "        s += n % 10\n",
    "        n //= 10\n",
    "    return s\n",
    "\n",
    "best = defaultdict(int)\n",
    "max_sum = -1\n",
    "\n",
    "for num in nums:\n",
    "    dsum = digit_sum(num)\n",
    "    if dsum in best:\n",
    "        max_sum = max(max_sum, num + best[dsum])\n",
    "    best[dsum] = max(best[dsum], num)\n",
    "\n",
    "print(max_sum)\n",
    "\n"
   ],
   "id": "50554481f35a7fa6",
   "outputs": [
    {
     "name": "stdout",
     "output_type": "stream",
     "text": [
      "54\n"
     ]
    }
   ],
   "execution_count": 54
  },
  {
   "metadata": {},
   "cell_type": "markdown",
   "source": [
    "* `defaultdict(int)` gives you a default of 0\n",
    "\n",
    "* This lets you skip key checks and write slick, one-liner logic\n",
    "\n",
    "* In this problem, we used it to track the max number per digit sum and avoid crashes\n",
    "\n",
    "### 🔁 Code Walkthrough Example (Leetcode 2342)\n",
    "\n",
    "Let’s say `nums = [18, 43, 36, 13, 7]`\n",
    "\n",
    "| `num` | `digit_sum` | `best[dsum]` before | Action Taken                                              | `max_sum` |\n",
    "|-------|-------------|---------------------|-----------------------------------------------------------|-----------|\n",
    "| 18    | 9           | 0                   | `best[9] = max(0, 18)` → 18                               | -1        |\n",
    "| 43    | 7           | 0                   | `best[7] = max(0, 43)` → 43                               | -1        |\n",
    "| 36    | 9           | 18                  | `max_sum = max(-1, 36 + 18)` → **54**                     | 54        |\n",
    "|       |             |                     | `best[9] = max(18, 36)` → 36                              |           |\n",
    "| 13    | 4           | 0                   | `best[4] = max(0, 13)` → 13                               | 54        |\n",
    "| 7     | 7           | 43                  | `max_sum = max(54, 7 + 43)` → stays **54**               | 54        |\n",
    "|       |             |                     | `best[7] = max(43, 7)` → stays 43                         |           |\n"
   ],
   "id": "f8ca686cc5ecaf1e"
  },
  {
   "metadata": {},
   "cell_type": "markdown",
   "source": [
    "### 🧠 `defaultdict` Flashcard Cheat Sheet\n",
    "\n",
    "#### 🔧 General Syntax:\n",
    "```python\n",
    "from collections import defaultdict\n",
    "```\n",
    "d = defaultdict(default_factory)\n",
    "\n",
    "### 🧮 defaultdict(int)\n",
    "* Default value: 0\n",
    "\n",
    "* Use when: You’re counting things\n",
    "\n",
    "* Example: Character frequency, tallying votes, counting digits\n",
    "```\n",
    "count = defaultdict(int)\n",
    "for ch in \"banana\":\n",
    "    count[ch] += 1\n",
    "{'b':1, 'a':3, 'n':2}\n",
    "```\n",
    "\n",
    "### 📦 defaultdict(list)\n",
    "* Default value: [] (empty list)\n",
    "\n",
    "* Use when: You want to group values under the same key\n",
    "\n",
    "* Example: Grouping items by category, building adjacency lists for graphs\n",
    "```\n",
    "groups = defaultdict(list)\n",
    "for word in [\"bat\", \"tab\", \"cat\"]:\n",
    "    key = ''.join(sorted(word))\n",
    "    groups[key].append(word)\n",
    "{'abt': ['bat', 'tab'], 'act': ['cat']}\n",
    "```\n",
    "\n",
    "### 🔒 defaultdict(set)\n",
    "* Default value: set() (empty set)\n",
    "\n",
    "* Use when: You want to store unique values per key\n",
    "\n",
    "* Example: Avoid duplicates in grouping, graph representations\n",
    "```\n",
    "graph = defaultdict(set)\n",
    "graph[1].add(2)\n",
    "graph[1].add(2)  # only one 2 is stored\n",
    "```\n",
    "\n",
    "### 💣 defaultdict(lambda: <custom_value>)\n",
    "* Default value: Custom! Whatever you want.\n",
    "\n",
    "* Use when: You need a specific default other than 0, [], or set()\n",
    "```\n",
    "from collections import defaultdict\n",
    "d = defaultdict(lambda: 999)\n",
    "print(d['missing']) --> 999\n",
    "```\n"
   ],
   "id": "e20ce66075dc2bd2"
  },
  {
   "metadata": {},
   "cell_type": "markdown",
   "source": [
    "## Example 4: 2352. Equal Row and Column Pairs\n",
    "\n",
    "Given an `n x n` matrix grid, return the number of pairs `(R, C)` where `R` is a row and `C` is a column, and `R` and `C` are equal if we consider them as 1D arrays.\n",
    "\n",
    "**How can we calculate the number of equal pairs?** Let's say there are three rows that look like `[1, 2, 3]`, and there are two columns that also look like `[1, 2, 3]`. For each of the three rows, there are two columns to pair with, so that means there are `3 * 2 = 6` pairs. We can use a hash map to count how many times each **row** occurs. We can use a *second hash map* to do the same thing with the columns. Then, we can iterate over the rows hash map, and for each row, check if the same array appeared as a column. If it did, then the product of the number of appearances is added to our answer.\n",
    "\n",
    "The problem is, **arrays can't be put in a hash map as a key because they are mutable**. We need to convert the rows and columns into a hashable form such as a string or tuple. The best choice will depend on the language you're using.\n",
    "\n",
    "If there are `x` rows that are identical to `y` columns, then for each of the `x` rows, it could match with any of the `y` columns. This means there are `x * y` pairs.\n",
    "\n",
    "By using **separate hash maps** for the **rows** and **columns**, we can easily find, for any given row/column, how many times it shows up as a row and as a column. *Then we just take their product and add it to the answer.*\n",
    "\n",
    "The only issue now is converting the rows/columns into a *hashable format, as we cannot hash arrays. In Python, we can easily convert them into tuples. In other languages, we convert them into strings delimited by a comma.\n",
    "\n"
   ],
   "id": "9da3831ab6e19193"
  },
  {
   "metadata": {},
   "cell_type": "markdown",
   "source": "## Wrong way to go about this",
   "id": "1d663c018b13a1c3"
  },
  {
   "metadata": {
    "ExecuteTime": {
     "end_time": "2025-10-18T06:33:24.759356Z",
     "start_time": "2025-05-19T05:54:41.056017Z"
    }
   },
   "cell_type": "code",
   "source": [
    "grid = [\n",
    "    [1, 2, 3],\n",
    "    [4, 5, 6],\n",
    "    [7, 8, 9]\n",
    "]\n",
    "from collections import defaultdict\n",
    "rows = defaultdict(list)\n",
    "for row in grid:\n",
    "    row.append(rows)\n",
    "print(rows)"
   ],
   "id": "5ef0712dfb9a4a45",
   "outputs": [
    {
     "name": "stdout",
     "output_type": "stream",
     "text": [
      "defaultdict(<class 'list'>, {})\n"
     ]
    }
   ],
   "execution_count": 56
  },
  {
   "metadata": {},
   "cell_type": "markdown",
   "source": [
    "### 🔄 Rows and Columns — Real Talk\n",
    "Let’s say you got this grid:"
   ],
   "id": "1c8ddc6198882dc1"
  },
  {
   "metadata": {
    "ExecuteTime": {
     "end_time": "2025-10-18T06:33:24.759525Z",
     "start_time": "2025-05-19T06:02:01.808914Z"
    }
   },
   "cell_type": "code",
   "source": [
    "grid = [\n",
    "    [1, 2, 3],\n",
    "    [4, 5, 6],\n",
    "    [7, 8, 9]\n",
    "]\n"
   ],
   "id": "11c8252a244ecae4",
   "outputs": [],
   "execution_count": 78
  },
  {
   "metadata": {},
   "cell_type": "markdown",
   "source": [
    "### ✅ Iterating Over Rows\n",
    "Easy. Each row is already a list inside the big list:"
   ],
   "id": "5004b77bb42f22ab"
  },
  {
   "metadata": {
    "ExecuteTime": {
     "end_time": "2025-10-18T06:33:24.759894Z",
     "start_time": "2025-05-19T06:02:03.579938Z"
    }
   },
   "cell_type": "code",
   "source": [
    "for row in grid:\n",
    "    print(row)\n"
   ],
   "id": "43410cf643df7cef",
   "outputs": [
    {
     "name": "stdout",
     "output_type": "stream",
     "text": [
      "[1, 2, 3]\n",
      "[4, 5, 6]\n",
      "[7, 8, 9]\n"
     ]
    }
   ],
   "execution_count": 79
  },
  {
   "metadata": {},
   "cell_type": "markdown",
   "source": "Or if you need index too:",
   "id": "a92557a3e28bf858"
  },
  {
   "metadata": {
    "ExecuteTime": {
     "end_time": "2025-10-18T06:33:24.760089Z",
     "start_time": "2025-05-19T06:02:04.956555Z"
    }
   },
   "cell_type": "code",
   "source": [
    "for i in range(len(grid)):\n",
    "    print(f\"Row {i}:\", grid[i])\n"
   ],
   "id": "f3c082812686d5f2",
   "outputs": [
    {
     "name": "stdout",
     "output_type": "stream",
     "text": [
      "Row 0: [1, 2, 3]\n",
      "Row 1: [4, 5, 6]\n",
      "Row 2: [7, 8, 9]\n"
     ]
    }
   ],
   "execution_count": 80
  },
  {
   "metadata": {},
   "cell_type": "markdown",
   "source": [
    "### ✅ Iterating Over Columns\n",
    "Now here’s where rookies fumble the bag — columns aren’t directly stored like rows, so you **gotta construct them**:"
   ],
   "id": "8f88b8cfc4817231"
  },
  {
   "metadata": {
    "ExecuteTime": {
     "end_time": "2025-10-18T06:33:24.760235Z",
     "start_time": "2025-05-19T06:02:06.384335Z"
    }
   },
   "cell_type": "code",
   "source": [
    "n = len(grid)\n",
    "\n",
    "for col in range(n):\n",
    "    col_vals = [grid[row][col] for row in range(n)]\n",
    "    print(f\"Col {col}:\", col_vals)\n"
   ],
   "id": "e186026cb8e37945",
   "outputs": [
    {
     "name": "stdout",
     "output_type": "stream",
     "text": [
      "Col 0: [1, 4, 7]\n",
      "Col 1: [2, 5, 8]\n",
      "Col 2: [3, 6, 9]\n"
     ]
    }
   ],
   "execution_count": 81
  },
  {
   "metadata": {},
   "cell_type": "markdown",
   "source": [
    "### 🔍 What’s happening here?\n",
    "You're looping over the column `index (col)` and for each col, you're grabbing the element at `grid[row][col]` across all rows.\n",
    "\n",
    "Think of it like:\n",
    "\n",
    "* Fix column index\n",
    "\n",
    "* Slide down the rows to build that column"
   ],
   "id": "a00fbbb238b363ea"
  },
  {
   "metadata": {},
   "cell_type": "markdown",
   "source": [
    "## 💥 Pro Move: Transposing with Zip\n",
    "Want all columns in one shot?"
   ],
   "id": "c55d9969e5eb5956"
  },
  {
   "metadata": {
    "ExecuteTime": {
     "end_time": "2025-10-18T06:33:24.760801Z",
     "start_time": "2025-05-19T06:02:08.712861Z"
    }
   },
   "cell_type": "code",
   "source": [
    "columns = list(zip(*grid))\n",
    "for col in columns:\n",
    "    print(col)\n"
   ],
   "id": "f595d44d6f54b0dc",
   "outputs": [
    {
     "name": "stdout",
     "output_type": "stream",
     "text": [
      "(1, 4, 7)\n",
      "(2, 5, 8)\n",
      "(3, 6, 9)\n"
     ]
    }
   ],
   "execution_count": 82
  },
  {
   "metadata": {},
   "cell_type": "markdown",
   "source": [
    "This uses unpacking `*grid` and `zip()` to flip rows into columns. Super clean.\n",
    "\n",
    "### Code Nuggets"
   ],
   "id": "62adab171f485ec0"
  },
  {
   "metadata": {
    "ExecuteTime": {
     "end_time": "2025-10-18T06:33:24.761371Z",
     "start_time": "2025-05-19T06:02:12.973660Z"
    }
   },
   "cell_type": "code",
   "source": [
    "# Iterate rows\n",
    "for row in grid:\n",
    "    pass  # do something with row\n",
    "\n",
    "# Iterate columns\n",
    "for col_idx in range(len(grid[0])):\n",
    "    col = [grid[row_idx][col_idx] for row_idx in range(len(grid))]\n",
    "    pass  # do something with col\n",
    "\n",
    "# Pro move: transpose to get columns\n",
    "columns = list(zip(*grid))  # Now columns[i] gives you the i-th column as a tuple\n",
    "print(columns)\n"
   ],
   "id": "72b08a7cac4a4a88",
   "outputs": [
    {
     "name": "stdout",
     "output_type": "stream",
     "text": [
      "[(1, 4, 7), (2, 5, 8), (3, 6, 9)]\n"
     ]
    }
   ],
   "execution_count": 83
  },
  {
   "metadata": {},
   "cell_type": "markdown",
   "source": [
    "#### 🛠️ So in the mistake above, what I probably should have done:\n",
    "You wanna store the row (as a tuple) inside the rows dictionary, probably counting how many times each row appears — right?\n",
    "\n",
    "✅ Fixed version:"
   ],
   "id": "36a66aac89e780e6"
  },
  {
   "metadata": {
    "ExecuteTime": {
     "end_time": "2025-10-18T06:33:24.761551Z",
     "start_time": "2025-05-19T06:02:14.613570Z"
    }
   },
   "cell_type": "code",
   "source": [
    "from collections import defaultdict\n",
    "\n",
    "rows = defaultdict(int)\n",
    "cols = defaultdict(int)\n",
    "\n",
    "for row in grid:\n",
    "    rows[tuple(row)] += 1\n",
    "\n",
    "transposed = list(zip(*grid)) # there's no trick to it, it's just a simple trick\n",
    "for col in transposed:\n",
    "    cols[tuple(col)] += 1\n",
    "\n",
    "print(f'rows: {rows}')\n",
    "print(f'cols: {cols}')\n",
    "\n",
    "if rows in cols:\n",
    "    res = rows[row] * cols[col]\n"
   ],
   "id": "e0ee6107ab835ae5",
   "outputs": [
    {
     "name": "stdout",
     "output_type": "stream",
     "text": [
      "rows: defaultdict(<class 'int'>, {(1, 2, 3): 1, (4, 5, 6): 1, (7, 8, 9): 1})\n",
      "cols: defaultdict(<class 'int'>, {(1, 4, 7): 1, (2, 5, 8): 1, (3, 6, 9): 1})\n"
     ]
    },
    {
     "ename": "TypeError",
     "evalue": "unhashable type: 'collections.defaultdict'",
     "output_type": "error",
     "traceback": [
      "\u001B[0;31m---------------------------------------------------------------------------\u001B[0m",
      "\u001B[0;31mTypeError\u001B[0m                                 Traceback (most recent call last)",
      "Cell \u001B[0;32mIn[84], line 16\u001B[0m\n\u001B[1;32m     13\u001B[0m \u001B[38;5;28mprint\u001B[39m(\u001B[38;5;124mf\u001B[39m\u001B[38;5;124m'\u001B[39m\u001B[38;5;124mrows: \u001B[39m\u001B[38;5;132;01m{\u001B[39;00mrows\u001B[38;5;132;01m}\u001B[39;00m\u001B[38;5;124m'\u001B[39m)\n\u001B[1;32m     14\u001B[0m \u001B[38;5;28mprint\u001B[39m(\u001B[38;5;124mf\u001B[39m\u001B[38;5;124m'\u001B[39m\u001B[38;5;124mcols: \u001B[39m\u001B[38;5;132;01m{\u001B[39;00mcols\u001B[38;5;132;01m}\u001B[39;00m\u001B[38;5;124m'\u001B[39m)\n\u001B[0;32m---> 16\u001B[0m \u001B[38;5;28;01mif\u001B[39;00m \u001B[43mrows\u001B[49m\u001B[43m \u001B[49m\u001B[38;5;129;43;01min\u001B[39;49;00m\u001B[43m \u001B[49m\u001B[43mcols\u001B[49m:\n\u001B[1;32m     17\u001B[0m     res \u001B[38;5;241m=\u001B[39m rows[row] \u001B[38;5;241m*\u001B[39m cols[col]\n",
      "\u001B[0;31mTypeError\u001B[0m: unhashable type: 'collections.defaultdict'"
     ]
    }
   ],
   "execution_count": 84
  },
  {
   "metadata": {},
   "cell_type": "markdown",
   "source": [
    "## This is the wrong way of checking for membership\n",
    "\n",
    "### 🔥 The Problem\n",
    "I wrote:\n",
    "```\n",
    "if rows in cols:\n",
    "    res = rows[row] * cols[col]\n",
    "```\n",
    "### ❌ What went wrong?\n",
    "* `rows` is a defaultdict\n",
    "\n",
    "* `cols` is also a defaultdict\n",
    "\n",
    "So rows in cols is like saying:\n",
    "> \"Is this entire dictionary rows one of the keys in cols?\"\n",
    "**That doesn’t make sense in Python — it's like asking:**\n",
    "\n",
    "> “Is the whole phonebook inside someone’s phone number?”\n",
    "\n",
    "You wanna compare the `keys` of `rows` to the `keys` of `cols`.\n",
    "\n",
    "*So here’s how to properly do it:*"
   ],
   "id": "4ad4b9fac0fd8787"
  },
  {
   "metadata": {
    "ExecuteTime": {
     "end_time": "2025-10-18T06:33:24.761783Z",
     "start_time": "2025-05-19T06:04:43.062552Z"
    }
   },
   "cell_type": "code",
   "source": [
    "res = 0\n",
    "\n",
    "for key in rows:\n",
    "    if key in cols:\n",
    "        res += rows[key] * cols[key]\n",
    "print(res)\n"
   ],
   "id": "d379a7a27c8739da",
   "outputs": [
    {
     "name": "stdout",
     "output_type": "stream",
     "text": [
      "0\n"
     ]
    }
   ],
   "execution_count": 85
  },
  {
   "metadata": {},
   "cell_type": "markdown",
   "source": [
    "Boom. That’s the magic. You're saying:\n",
    "\n",
    "> “For every row-tuple that showed up, check if it’s also a column-tuple — and if it is, multiply how many times it appears as a row by how many times it appears as a column.”\n",
    "\n",
    "### So here's what we come up with:"
   ],
   "id": "438cf6aafbf52a1d"
  },
  {
   "metadata": {
    "ExecuteTime": {
     "end_time": "2025-10-18T06:33:24.761958Z",
     "start_time": "2025-05-19T06:21:39.423730Z"
    }
   },
   "cell_type": "code",
   "source": [
    "from collections import defaultdict\n",
    "\n",
    "grid = [\n",
    "    [1, 2, 1],\n",
    "    [4, 5, 2],\n",
    "    [1, 2, 1]\n",
    "]\n",
    "\n",
    "rows = defaultdict(int)\n",
    "cols = defaultdict(int)\n",
    "\n",
    "for row in grid:\n",
    "    rows[tuple(row)] += 1\n",
    "\n",
    "transposed = list(zip(*grid))\n",
    "for col in transposed:\n",
    "    cols[tuple(col)] += 1\n",
    "\n",
    "res = 0\n",
    "for key in rows:\n",
    "    if key in cols:\n",
    "        res += rows[key] * cols[key]\n",
    "\n",
    "print(\"Matching row-column pairs:\", res)\n"
   ],
   "id": "5b615a9707ca9d5f",
   "outputs": [
    {
     "name": "stdout",
     "output_type": "stream",
     "text": [
      "Matching row-column pairs: 2\n"
     ]
    }
   ],
   "execution_count": 89
  },
  {
   "metadata": {},
   "cell_type": "markdown",
   "source": [
    "## 🧠 Lesson Summary: Matching Rows and Columns in a Grid\n",
    "\n",
    "| Concept               | Correct Approach                              |\n",
    "|-----------------------|-----------------------------------------------|\n",
    "| Check if a row is a column | Compare keys: `if key in cols:`            |\n",
    "| Avoid comparing entire dicts | `rows in cols` is invalid — don’t compare dicts |\n",
    "| Use hashable keys     | Convert rows/columns to `tuple` before hashing |\n",
    "| Multiply matches      | `res += rows[key] * cols[key]` accumulates matching pairs |\n",
    "| Variable scope matters | Make sure `key`, `row`, `col` are scoped right |\n",
    "\n",
    "**Pro Tip:** When you're comparing rows and columns in a grid, you're really comparing **tuples**, not lists — and you're checking if a specific pattern appears in both the row map and the column map.\n",
    "\n"
   ],
   "id": "1a56bae0a126a472"
  },
  {
   "metadata": {},
   "cell_type": "markdown",
   "source": [
    "## 🔄 Tuples vs Sets in Python\n",
    "\n",
    "When working with matrices, it's important to know when to use a `tuple` vs a `set`. Here's a breakdown:\n",
    "\n",
    "| Feature              | `tuple`                            | `set`                              |\n",
    "|----------------------|-------------------------------------|------------------------------------|\n",
    "| **Ordered?**         | ✅ Yes (preserves order)            | ❌ No (unordered)                   |\n",
    "| **Allows duplicates?** | ✅ Yes                             | ❌ No (only unique values)          |\n",
    "| **Hashable?**        | ✅ Yes (can be used as dict keys)   | ✅ Yes (as long as elements are hashable) |\n",
    "| **Mutable?**         | ❌ No (immutable)                   | ✅ Yes (mutable)                    |\n",
    "| **Best for...**      | Exact sequence matching (e.g. rows/cols) | Checking for unique items regardless of order |\n",
    "\n",
    "### 🔥 Examples\n",
    "\n",
    "\n",
    "```\n",
    "# Tuple preserves order and duplicates\n",
    "tuple_example = (1, 2, 2)\n",
    "print(tuple_example)  # (1, 2, 2)\n",
    "\n",
    "# Set removes duplicates and ignores order\n",
    "set_example = {1, 2, 2}\n",
    "print(set_example)    # {1, 2}\n",
    "```\n"
   ],
   "id": "90839b7ed920bb98"
  },
  {
   "metadata": {},
   "cell_type": "markdown",
   "source": "## My final code",
   "id": "9ce56b9b9c3fa74"
  },
  {
   "metadata": {
    "ExecuteTime": {
     "end_time": "2025-10-18T06:33:24.762107Z",
     "start_time": "2025-05-19T06:21:09.219914Z"
    }
   },
   "cell_type": "code",
   "source": [
    "from collections import defaultdict\n",
    "from typing import List\n",
    "\n",
    "grid = [\n",
    "    [1, 2, 1],\n",
    "    [4, 5, 2],\n",
    "    [1, 2, 1]\n",
    "]\n",
    "\n",
    "\n",
    "def equalPairs(grid):\n",
    "    row_counts = defaultdict(int)\n",
    "\n",
    "    # Count each row as a tuple\n",
    "    for row in grid:\n",
    "        row_counts[tuple(row)] += 1\n",
    "\n",
    "    # Transpose grid and count each column as a tuple\n",
    "    col_counts = defaultdict(int)\n",
    "    for col in zip(*grid):  # zip(*grid) transposes the grid\n",
    "        col_counts[col] += 1\n",
    "\n",
    "    # Count matching (row, column) pairs\n",
    "    result = 0\n",
    "    for key in row_counts:\n",
    "        if key in col_counts:\n",
    "            result += row_counts[key] * col_counts[key]\n",
    "\n",
    "    return result\n",
    "\n",
    "equalPairs(grid)\n"
   ],
   "id": "be53ca28472b9e75",
   "outputs": [
    {
     "data": {
      "text/plain": [
       "2"
      ]
     },
     "execution_count": 88,
     "metadata": {},
     "output_type": "execute_result"
    }
   ],
   "execution_count": 88
  },
  {
   "metadata": {},
   "cell_type": "markdown",
   "source": [
    "$O(n^2)$ + $O(n^2)$ + $O(n)$ → simplified to → **$O(n^2)$**\n",
    "\n",
    "So yeah, it's clean and efficient — just quadratic time, which is **expected for any grid-based solution that touches every element.**\n"
   ],
   "id": "89ffe1eb34115886"
  },
  {
   "metadata": {},
   "cell_type": "markdown",
   "source": [
    "## Ransom Note\n",
    "\n",
    "Given two strings `ransomNote` and `magazine`, return true if ransomNote can be constructed by using the letters from magazine and false otherwise.\n",
    "\n",
    "**Each letter in magazine can only be used once in ransomNote.**\n",
    "\n",
    "**Example 1:**\n",
    "```\n",
    "Input: ransomNote = \"a\", magazine = \"b\"\n",
    "Output: false\n",
    "```\n",
    "**Example 2:**\n",
    "```\n",
    "Input: ransomNote = \"aa\", magazine = \"ab\"\n",
    "Output: false\n",
    "```\n",
    "**Example 3:**\n",
    "```\n",
    "Input: ransomNote = \"aa\", magazine = \"aab\"\n",
    "Output: true\n",
    "```\n",
    "\n",
    "\n"
   ],
   "id": "5f17a15e7d0f9a2c"
  },
  {
   "metadata": {
    "ExecuteTime": {
     "end_time": "2025-10-18T06:33:24.762274Z",
     "start_time": "2025-05-19T18:54:26.388378Z"
    }
   },
   "cell_type": "code",
   "source": [
    "ransomNote = \"ab\"\n",
    "magazine = \"bb\"\n",
    "\n",
    "from collections import defaultdict\n",
    "\n",
    "def canConstruct(ransomNote, magazine):\n",
    "\n",
    "\n",
    "\n",
    "    magazine_dict = defaultdict(int)\n",
    "    ransom_dict = defaultdict(int)\n",
    "\n",
    "    for char in magazine:\n",
    "        magazine_dict[char] += 1\n",
    "\n",
    "    for char in ransomNote:\n",
    "        ransom_dict[char] += 1\n",
    "\n",
    "    for k, v in ransom_dict.items():\n",
    "        if magazine_dict[k] < v:\n",
    "            return False\n",
    "    return True\n",
    "\n",
    "\n",
    "\n",
    "print(canConstruct(ransomNote, magazine))\n",
    "\n"
   ],
   "id": "201ce8d410f24a1c",
   "outputs": [
    {
     "name": "stdout",
     "output_type": "stream",
     "text": [
      "False\n"
     ]
    }
   ],
   "execution_count": 101
  },
  {
   "metadata": {},
   "cell_type": "markdown",
   "source": [
    "# 🧠 Reflection: Counting & HashMap Patterns in Coding Problems\n",
    "\n",
    "Hashmaps and counting problems pop up everywhere, especially in LeetCode-style interviews. Once you see the pattern, you start recognizing that **many problems are secretly just frequency tracking**. Here's how it's shown up in recent challenges.\n",
    "\n",
    "---\n",
    "\n",
    "### 🔍 1. **Ransom Note Construction**\n",
    "**Problem:** Can we build `ransomNote` using letters from `magazine`?\n",
    "\n",
    "**Core Pattern:**\n",
    "- Build a frequency count of `magazine`.\n",
    "- Compare against the needed count in `ransomNote`.\n",
    "\n",
    "**Key Structure:**\n",
    "```\n",
    "from collections import defaultdict\n",
    "\n",
    "magazine_dict = defaultdict(int)\n",
    "for char in magazine:\n",
    "    magazine_dict[char] += 1\n",
    "```\n",
    "General Insight:\n",
    "* Track inventory → compare to demand.\n",
    "* This is the essence of counting with constraints.\n",
    "\n",
    "### 🔍 2. Equal Row and Column Pairs in a Grid\n",
    "Problem: Count how many row/column pairs are equal in a grid.\n",
    "\n",
    "Core Pattern:\n",
    "\n",
    "* Convert rows and columns to tuples (to hash them).\n",
    "\n",
    "* Count row frequencies with a hashmap.\n",
    "\n",
    "* Compare each column to rows via the hashmap.\n",
    "\n",
    "Key Structure:\n",
    "```\n",
    "row_counter = defaultdict(int)\n",
    "for row in grid:\n",
    "    row_counter[tuple(row)] += 1\n",
    "```\n",
    "General Insight:\n",
    "* Even 2D problems reduce to \"count this shape\" with hashmap keys.\n",
    "\n",
    "### 🔍 3. Anagram Check\n",
    "Problem: Are two strings anagrams?\n",
    "\n",
    "Core Pattern:\n",
    "\n",
    "* Build two Counter or defaultdict frequency maps.\n",
    "\n",
    "* Compare them directly.\n",
    "\n",
    "Key Structure:\n",
    "```\n",
    "from collections import Counter\n",
    "Counter(s1) == Counter(s2)\n",
    "```\n",
    "General Insight:\n",
    "* Anagrams = same letter counts. Simple hashmap equality.\n",
    "\n",
    "### 🔍 4. Majority Element\n",
    "Problem: Which element appears more than n/2 times?\n",
    "\n",
    "Core Pattern:\n",
    "\n",
    "* Count frequency of each element using hashmap.\n",
    "\n",
    "* Return element if count > n//2.\n",
    "\n",
    "Key Structure:\n",
    "```\n",
    "counts = defaultdict(int)\n",
    "for num in nums:\n",
    "    counts[num] += 1\n",
    "```\n",
    "General Insight:\n",
    "* Tracking dominant frequency → classic hashmap job.\n",
    "\n",
    "### 🔍 5. Two Sum\n",
    "Problem: Find two numbers that sum to a target.\n",
    "\n",
    "Core Pattern:\n",
    "\n",
    "* Use hashmap to store seen values and their indices.\n",
    "\n",
    "* For each element, check if `target - current` is in the map.\n",
    "\n",
    "Key Structure:\n",
    "```\n",
    "seen = {}\n",
    "for i, num in enumerate(nums):\n",
    "    complement = target - num\n",
    "    if complement in seen:\n",
    "        return [seen[complement], i]\n",
    "    seen[num] = i\n",
    "```\n",
    "General Insight:\n",
    "* Hashmap as a reverse lookup table — find match in O(1) time.\n",
    "\n",
    "## 💡 Common Patterns with HashMaps\n",
    "\n",
    "| 🧠 Pattern Name         | 💬 Description                                                                 |\n",
    "|-------------------------|--------------------------------------------------------------------------------|\n",
    "| Frequency Count         | Track how many times each element appears.                                    |\n",
    "| Inventory vs. Demand    | See if one group has enough resources to meet another’s request (e.g., ransom). |\n",
    "| Reverse Lookup          | Check if a matching or complementary value has already been seen.             |\n",
    "| Shape/Pattern Matching  | Hash complex structures (like rows or tuples) to count or match patterns.     |\n",
    "| Set-Like Behavior       | Use keys to track uniqueness, duplicates, or presence.                        |\n",
    "\n",
    "\n",
    "## 🧠 Time Complexity Tricks with HashMaps\n",
    "\n",
    "| 🔧 Operation Type        | ⏱️ Time Complexity | 💡 Notes                                              |\n",
    "|--------------------------|-------------------|-------------------------------------------------------|\n",
    "| Insertion                | O(1) average       | Unless there’s a hash collision (rare in practice).  |\n",
    "| Lookup (check existence) | O(1) average       | Same deal — very fast, uses hash function.           |\n",
    "| Frequency Counting       | O(n)               | `n` = size of input list/string.                     |\n",
    "| Comparing Dicts          | O(k)               | `k` = number of unique keys (often ≤ 26 for a-z).    |\n",
    "| Iterating Dict Keys      | O(k)               | Depends on number of unique items, not total count.  |\n",
    "\n",
    "\n",
    "\n",
    "\n",
    "\n",
    "\n",
    "\n",
    "\n"
   ],
   "id": "d922d4174fef0782"
  },
  {
   "metadata": {},
   "cell_type": "markdown",
   "source": "## Jewels and Stones",
   "id": "7706185ea178e580"
  },
  {
   "metadata": {},
   "cell_type": "markdown",
   "source": [
    "You're given strings `jewels` representing the types of `stones` that are jewels, and `stones` representing the stones you have. Each character in `stones` is a type of stone you have. You want to know how many of the stones you have are also jewels.\n",
    "\n",
    "Letters are case sensitive, so \"a\" is considered a different type of stone from \"A\".\n",
    "\n",
    "**Example 1:**\n",
    "```\n",
    "Input: jewels = \"aA\", stones = \"aAAbbbb\"\n",
    "Output: 3\n",
    "```\n",
    "**Example 2:**\n",
    "```\n",
    "Input: jewels = \"z\", stones = \"ZZ\"\n",
    "Output: 0\n",
    "```\n",
    "\n",
    "### Strategy\n",
    "# 🧱 Jewel Stones Problem Outline\n",
    "\n",
    "## 🧠 Goal:\n",
    "Count how many stones in `stones` are also listed in `jewels`.\n",
    "\n",
    "## 💡 Core Insight:\n",
    "We don’t care how many times each *jewel* appears — just how many *stones* match any jewel type.\n",
    "\n",
    "## ✅ Steps:\n",
    "\n",
    "1. **Convert `jewels` into a Set**\n",
    "   - Why? Fast O(1) lookup per character.\n",
    "   - We don’t need counts — just membership.\n",
    "\n",
    "2. **Initialize a Counter (or just a plain integer)**\n",
    "   - This will hold our total jewel count.\n",
    "\n",
    "3. **Loop through each character in `stones`**\n",
    "   - For each stone:\n",
    "     - If the stone exists in the `jewels` set → increment the counter\n",
    "\n",
    "4. **Return the total count**\n",
    "\n",
    "## ⚠️ Edge Notes:\n",
    "- Case-sensitive: `\"a\"` and `\"A\"` are different.\n",
    "- `stones` can contain non-jewel characters — ignore them.\n",
    "- Using a `set()` instead of a `dict` saves space and gives clean lookups.\n",
    "\n",
    "---\n",
    "\n",
    "## 🔁 Time & Space Complexity:\n",
    "\n",
    "| Step               | Complexity                    |\n",
    "|--------------------|-------------------------------|\n",
    "| Convert `jewels`   | $O(j)$, where j = len(jewels) |\n",
    "| Loop through `stones` | $O(s)$, where s = len(stones) |\n",
    "| Total Time         | $O(j + s)$                    |\n",
    "| Space              | $O(j)$ for the set            |\n",
    "\n",
    "---\n",
    "\n",
    "\n",
    "\n"
   ],
   "id": "5278c42b280dfad"
  },
  {
   "metadata": {
    "ExecuteTime": {
     "end_time": "2025-10-18T06:33:24.762433Z",
     "start_time": "2025-05-21T21:59:53.458523Z"
    }
   },
   "cell_type": "code",
   "source": [
    "jewels = \"z\"\n",
    "stones = \"ZZ\"\n",
    "\n",
    "st_jls = set(jewels)\n",
    "\n",
    "counter = 0\n",
    "\n",
    "for s in stones:\n",
    "    if s in st_jls:\n",
    "        counter += 1\n",
    "\n",
    "print(counter)\n"
   ],
   "id": "9c38a3ac677ccdc5",
   "outputs": [
    {
     "name": "stdout",
     "output_type": "stream",
     "text": [
      "0\n"
     ]
    }
   ],
   "execution_count": 7
  },
  {
   "metadata": {},
   "cell_type": "markdown",
   "source": [
    "##  Longest Substring Without Repeating Characters\n",
    "\n",
    "Given a string `s`, find the length of the longest substring without duplicate characters.\n",
    "\n",
    "\n",
    "\n",
    "**Example 1:**\n",
    "```\n",
    "Input: s = \"abcabcbb\"\n",
    "Output: 3\n",
    "Explanation: The answer is \"abc\", with the length of 3.\n",
    "```\n",
    "**Example 2**\n",
    "```\n",
    "Input: s = \"bbbbb\"\n",
    "Output: 1\n",
    "Explanation: The answer is \"b\", with the length of 1.\n",
    "```\n",
    "**Example 3**\n",
    "```\n",
    "Input: s = \"pwwkew\"\n",
    "Output: 3\n",
    "Explanation: The answer is \"wke\", with the length of 3.\n",
    "Notice that the answer must be a substring, \"pwke\" is a subsequence and not a substring.\n",
    "```\n",
    "\n",
    "**Hint**\n",
    "Generate all possible substrings & check for each substring if it's valid and keep updating maxLen accordingly.\n"
   ],
   "id": "5a962288706352fd"
  },
  {
   "metadata": {
    "ExecuteTime": {
     "end_time": "2025-10-18T06:33:24.762597Z",
     "start_time": "2025-05-22T22:59:20.778156Z"
    }
   },
   "cell_type": "code",
   "source": [
    "s = \"pwwkew\"\n",
    "from collections import defaultdict\n",
    "\n",
    "left = right = 0\n",
    "\n",
    "seen = defaultdict(int)\n",
    "\n",
    "longest = 0\n",
    "\n",
    "for right, char in enumerate(s):\n",
    "    if char in seen and seen[char] >= left:\n",
    "        left = seen[char] + 1\n",
    "    seen[char] = right\n",
    "    longest = max(longest, right - left + 1)\n",
    "print(longest)\n",
    "\n",
    "\n"
   ],
   "id": "927eb0c8b79ff232",
   "outputs": [
    {
     "name": "stdout",
     "output_type": "stream",
     "text": [
      "3\n"
     ]
    }
   ],
   "execution_count": 15
  },
  {
   "metadata": {},
   "cell_type": "markdown",
   "source": [
    "# 🧠 Lessons Learned: Longest Substring Without Repeating Characters\n",
    "\n",
    "## ✅ Problem Recap\n",
    "Given a string `s`, find the length of the longest substring without repeating characters.\n",
    "\n",
    "---\n",
    "\n",
    "## 🔍 Lessons Learned\n",
    "\n",
    "| 🚨 Problem Area | 💡 Insight |\n",
    "|----------------|------------|\n",
    "| **1. Overwriting `seen[char]` too early** | ⚠️ Updated `seen[char] = right` *before* checking for repeats. This overwrote the old index, making the `if` condition always look at the new index — leading to incorrect `left` updates. |\n",
    "| **2. Order of operations matters** | 🧠 Always check conditions before updating tracking structures. Sliding window logic depends heavily on precise sequencing. |\n",
    "| **3. When to move `left`** | 🔄 `left` should only jump forward if the duplicate character was inside the current window. Use the condition: `seen[char] >= left` to avoid backtracking. |\n",
    "| **4. Purpose of the hashmap** | ✅ The hashmap is for tracking the **most recent index** of each character — not counting frequency. Know the role of your tools. |\n",
    "| **5. Naming variables wisely** | 🧼 Replacing `i` with `right` makes your code semantically clearer — you're not just looping, you're controlling a moving window. |\n",
    "| **6. Calculating max window length** | 🔢 Use `max_len = max(max_len, right - left + 1)` to capture the current valid window. Don’t forget the `+1` since you're working with indices. |\n",
    "| **7. `defaultdict` vs `dict`** | 🧯 While `defaultdict(int)` works, it's not necessary here. You're checking existence and positions, not counting — a plain `dict` is more precise. |\n",
    "| **8. Trust the dry-run** | 🧪 Printing out `seen` exposed the bug — the latest index of `'w'` overwrote earlier ones. Manual tracing can save hours of guessing. |\n",
    "| **9. Never move `right` manually** | 🛑 The loop controls `right`. Don't ever do `right = seen[char]`. Only `left` jumps based on logic — `right` always slides forward naturally. |\n",
    "| **10. Syntax and Python fluency** | 🏗️ Getting comfortable with `enumerate`, tuple unpacking, dictionary updates, and `max()` logic means your Python game is leveling up. Keep grinding. |\n",
    "\n",
    "---\n",
    "\n",
    "## 💬 Final Thoughts\n",
    "\n",
    "This problem sharpened your skills in:\n",
    "- Sliding window strategy\n",
    "- Correct usage of hashmap for index tracking\n",
    "- Order-sensitive logic\n",
    "- Clean and expressive Python syntax\n",
    "\n",
    "You're not just solving — you're **learning how to think like a coder**.\n",
    "\n",
    "---\n",
    "\n"
   ],
   "id": "dfa66e18000f5f08"
  },
  {
   "metadata": {},
   "cell_type": "code",
   "outputs": [],
   "execution_count": null,
   "source": "",
   "id": "880a18be2c407432"
  }
 ],
 "metadata": {
  "kernelspec": {
   "display_name": "Python 3",
   "language": "python",
   "name": "python3"
  },
  "language_info": {
   "codemirror_mode": {
    "name": "ipython",
    "version": 2
   },
   "file_extension": ".py",
   "mimetype": "text/x-python",
   "name": "python",
   "nbconvert_exporter": "python",
   "pygments_lexer": "ipython2",
   "version": "2.7.6"
  }
 },
 "nbformat": 4,
 "nbformat_minor": 5
}
