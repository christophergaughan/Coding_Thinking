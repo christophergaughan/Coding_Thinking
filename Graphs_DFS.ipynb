{
 "cells": [
  {
   "metadata": {},
   "cell_type": "markdown",
   "source": [
    "# Graphs- Depth Search First\n",
    "\n",
    "let's say we're given:"
   ],
   "id": "2aa67eded6850149"
  },
  {
   "cell_type": "code",
   "id": "initial_id",
   "metadata": {
    "collapsed": true,
    "ExecuteTime": {
     "end_time": "2025-09-24T04:51:56.487112Z",
     "start_time": "2025-09-24T04:51:56.472159Z"
    }
   },
   "source": [
    "graph = {\n",
    "    'S': ['A', 'B'],\n",
    "    'A': ['C', 'D'],\n",
    "    'B': ['E'],\n",
    "    'C': [],\n",
    "    'D': ['F'],\n",
    "    'E': [],\n",
    "    'F': []\n",
    "}\n"
   ],
   "outputs": [],
   "execution_count": 2
  },
  {
   "metadata": {},
   "cell_type": "markdown",
   "source": [
    "We didn’t say whether we’re using **iterative or recursive** DFS, or if we’re going **left-to-right** or **right-to-left** when visiting neighbors — so we’ll go with the standard **recursive DFS**, visiting neighbors **in the order they appear** (left-to-right in the list).\n",
    "\n"
   ],
   "id": "13badd62bb8f825f"
  },
  {
   "metadata": {},
   "cell_type": "markdown",
   "source": "### ✅ Recursive DFS Code",
   "id": "f37697c98faa6f1c"
  },
  {
   "metadata": {
    "ExecuteTime": {
     "end_time": "2025-09-24T04:51:59.472100Z",
     "start_time": "2025-09-24T04:51:59.440661Z"
    }
   },
   "cell_type": "code",
   "source": [
    "def dfs(graph, start, visited=None):\n",
    "    if visited is None:\n",
    "        visited = []\n",
    "    visited.append(start)\n",
    "    for neighbor in graph[start]:\n",
    "        if neighbor not in visited:\n",
    "            dfs(graph, neighbor, visited) # recursive call\n",
    "    return visited\n",
    "\n",
    "print(dfs(graph, 'S'))\n"
   ],
   "id": "faa67a0d37de0868",
   "outputs": [
    {
     "name": "stdout",
     "output_type": "stream",
     "text": [
      "['S', 'A', 'C', 'D', 'F', 'B', 'E']\n"
     ]
    }
   ],
   "execution_count": 3
  },
  {
   "metadata": {},
   "cell_type": "markdown",
   "source": [
    "### 🔍 Walkthrough\n",
    "Start at `'S'`\n",
    "`visited` = `['S']` Neighbors = `['A', 'B']`\n",
    "\n",
    "Go to `'A'`\n",
    "`visited = ['S', 'A']` Neighbors = `['C', 'D']`\n",
    "\n",
    "Go to `'C'`\n",
    "`visited = ['S', 'A', 'C']`\n",
    "No neighbors, backtrack to `'A'`\n",
    "\n",
    "Go to `'D'`\n",
    "`visited = ['S', 'A', 'C', 'D']`\n",
    "Neighbor = `['F']`\n",
    "\n",
    "Go to `'F'`\n",
    "`visited = ['S', 'A', 'C', 'D', 'F']`\n",
    "No neighbors, backtrack to `'D'`, then `'A'`, then `'S'`\n",
    "\n",
    "Go to `'B'`\n",
    "`visited = ['S', 'A', 'C', 'D', 'F', 'B']`\n",
    "Neighbor = `['E']`\n",
    "\n",
    "Go to `'E'`\n",
    "`visited = ['S', 'A', 'C', 'D', 'F', 'B', 'E']`"
   ],
   "id": "a38b425fb68bd260"
  },
  {
   "metadata": {},
   "cell_type": "markdown",
   "source": [
    "### Final Answer\n",
    "`['S', 'A', 'C', 'D', 'F', 'B', 'E']`"
   ],
   "id": "288ea8c967baee42"
  },
  {
   "metadata": {},
   "cell_type": "markdown",
   "source": [
    "**Why It Works This Way**\n",
    "* DFS goes **deep** first — it dives into a node and keeps going down one path until it hits the end, then it backtracks and explores the rest.\n",
    "\n",
    "* It’s **not breadth-first** (which would do all the neighbors first before going deeper).\n",
    "\n",
    "* It uses a **stack-like behavior**, especially when implemented recursively.\n"
   ],
   "id": "ee7a13cbb0bef02e"
  },
  {
   "metadata": {},
   "cell_type": "markdown",
   "source": [
    "## Conceptual understanding of code\n",
    "Imagine you’re starting at house **S**. You tryna explore the whole neighborhood. But you got one rule:\n",
    "\n",
    "> “Always go as deep as you can before backtracking.”\n",
    "\n",
    "So if you got choices, you don’t hit all your neighbors first like a social butterfly. Nah, you pick one friend, follow them to where *they* going, *then* their people, and so on — till you stuck.\n",
    "\n",
    "Only then, you backtrack and hit the next route.\n",
    "\n",
    "## 🧱 THE NEIGHBORHOOD (The Graph Visualized)\n",
    "Let’s draw this graph like streets and houses:\n",
    "\n",
    "        S\n",
    "       / \\\n",
    "      A   B\n",
    "     / \\   \\\n",
    "    C   D   E\n",
    "         \\\n",
    "          F\n",
    "\n",
    "You start at **S**. S got two paths: to A or B. You always go in order — so A first.\n",
    "\n",
    "Then from A, you got C and D. So go to C first (nothing there), come back, hit D, then go to F from D. After F? Nowhere to go. So you backtrack all the way to S and try B. Then from B, you hit E. Done.\n",
    "\n"
   ],
   "id": "551aa4ffac7c23cd"
  },
  {
   "metadata": {},
   "cell_type": "markdown",
   "source": [
    "## 🧠 WHY THE CODE LOOKS LIKE THAT\n",
    "Here’s that same DFS code:"
   ],
   "id": "bf3b2abaafcec9c1"
  },
  {
   "metadata": {
    "ExecuteTime": {
     "end_time": "2025-04-02T19:14:20.448667Z",
     "start_time": "2025-04-02T19:14:20.442048Z"
    }
   },
   "cell_type": "code",
   "source": [
    "def dfs(graph, start, visited=None):\n",
    "    if visited is None:\n",
    "        visited = []\n",
    "    visited.append(start)\n",
    "    for neighbor in graph[start]:\n",
    "        if neighbor not in visited:\n",
    "            dfs(graph, neighbor, visited)\n",
    "    return visited\n"
   ],
   "id": "672c38119be61566",
   "outputs": [],
   "execution_count": 4
  },
  {
   "metadata": {},
   "cell_type": "markdown",
   "source": [
    "### 🔨 Let's break this down line-by-line:\n",
    "\n",
    "| Line | What’s going on?                              | Why we need it                                      |\n",
    "|------|-----------------------------------------------|-----------------------------------------------------|\n",
    "| `if visited is None:`                                | First time you run this function                    | Sets up your empty notebook to track places you been |\n",
    "| `visited = []`                                       | Making that empty notebook                          | We need a list of what we’ve already seen           |\n",
    "| `visited.append(start)`                              | You at this house now                               | Mark that you visited it                            |\n",
    "| `for neighbor in graph[start]:`                      | Check who your current friend know                  | Loop through who you can go visit next              |\n",
    "| `if neighbor not in visited:`                        | Avoid hitting up people you already seen            | No reruns                                           |\n",
    "| `dfs(graph, neighbor, visited)`                      | Dive deeper                                          | Follow the next path (recursive call)               |\n",
    "| `return visited`                                     | When you're done                                    | Send the full route you took                        |\n"
   ],
   "id": "1cbb899508a19af7"
  },
  {
   "metadata": {},
   "cell_type": "markdown",
   "source": [
    "### 🧭 VISUAL TRACE WITH STACK MENTALITY\n",
    "You can think of recursion like a stack — a pile of calls waiting to finish. Here’s what the function calls look like visually when walking through the graph:\n",
    "```\n",
    "dfs(S)\n",
    "├── dfs(A)\n",
    "│   ├── dfs(C) ← no more neighbors, go back up\n",
    "│   └── dfs(D)\n",
    "│       └── dfs(F) ← dead end\n",
    "└── dfs(B)\n",
    "    └── dfs(E)\n",
    "```\n",
    "This is your call tree. DFS builds this tree deep before backtracking.\n",
    "\n",
    "### FULL TRIP\n",
    "You hit these nodes in order:\n",
    "`S → A → C → D → F → B → E`\n",
    "\n"
   ],
   "id": "307f7586c8a6ea22"
  },
  {
   "metadata": {},
   "cell_type": "markdown",
   "source": [
    "### 🧠 BIG TAKEAWAYS\n",
    "* DFS = go **deep**, not wide.\n",
    "\n",
    "* It uses **recursion or a stack** to remember where you came from.\n",
    "\n",
    "* Always check if you’ve **already visited** a node to **avoid looping forever**.\n",
    "\n",
    "* The way you order your neighbors affects the result. (If you flipped A and B under S, the order would change.)"
   ],
   "id": "5b99ea7d0dbbe2e7"
  },
  {
   "metadata": {},
   "cell_type": "markdown",
   "source": [
    "## What do we mean by a stack?\n",
    "A **stack** is like a **pile of plates** at a buffet.\n",
    "\n",
    "* You add new plates to the **top** *(push)*.\n",
    "\n",
    "* You take plates off the **top** *(pop)*.\n",
    "\n",
    "* You **never touch the bottom plates** until all the ones above are gone.\n",
    "\n",
    "This is called **LIFO: Last In, First Out.**"
   ],
   "id": "47f2155ec85d36c0"
  },
  {
   "metadata": {},
   "cell_type": "markdown",
   "source": [
    "### 🥞 Real Life Analogy\n",
    "Imagine a stack of pancakes:\n",
    "```\n",
    "Top → 🥞 (newest)\n",
    "       🥞\n",
    "       🥞\n",
    "Bottom → 🥞 (oldest)\n",
    "```\n",
    "\n",
    "* You **add** a pancake on top → `push()`\n",
    "\n",
    "* You **remove** from the top → `pop()`\n",
    "\n",
    "You're not pulling pancakes from the bottom. You **deal with the top one first, always.**\n",
    "\n",
    "\n"
   ],
   "id": "4cc3f1523ac73b0"
  },
  {
   "metadata": {},
   "cell_type": "markdown",
   "source": [
    "## 🧠 Python Stack 101\n",
    "Python doesn’t have a built-in “stack” type, but lists do the job."
   ],
   "id": "d8907721b783873e"
  },
  {
   "metadata": {
    "ExecuteTime": {
     "end_time": "2025-04-02T19:44:44.687404Z",
     "start_time": "2025-04-02T19:44:44.683526Z"
    }
   },
   "cell_type": "code",
   "source": [
    "stack = []\n",
    "\n",
    "# push elements\n",
    "stack.append('A')   # stack = ['A']\n",
    "stack.append('B')   # stack = ['A', 'B']\n",
    "stack.append('C')   # stack = ['A', 'B', 'C']\n",
    "\n",
    "# pop element (last in = first out)\n",
    "top = stack.pop()   # top = 'C', stack = ['A', 'B']\n"
   ],
   "id": "948db89494a17dbe",
   "outputs": [],
   "execution_count": 6
  },
  {
   "metadata": {},
   "cell_type": "markdown",
   "source": [
    "## 🧭 How Stacks Work in DFS\n",
    "Now here’s why stacks are key to DFS.\n",
    "\n",
    "DFS is like:\n",
    "\n",
    "> “I'm going to keep walkin' forward until I hit a dead end, then I backtrack the last spot I came from and try another path.”\n",
    "\n",
    "That “last spot you came from” gets stored in a stack.\n",
    "\n",
    "* Each time you visit a node, you **push** it.\n",
    "* Each time you finish with a node or hit a dead end, you **pop** it and go back.\n",
    "\n"
   ],
   "id": "37f82be08bf8ca4c"
  },
  {
   "metadata": {},
   "cell_type": "markdown",
   "source": [
    "## 📦 DFS Using a Stack (Iterative Style)\n",
    "Here’s an example:"
   ],
   "id": "5064982089ee3e29"
  },
  {
   "metadata": {
    "ExecuteTime": {
     "end_time": "2025-04-02T19:53:09.444641Z",
     "start_time": "2025-04-02T19:53:09.440978Z"
    }
   },
   "cell_type": "code",
   "source": [
    "def dfs_stack(graph, start):\n",
    "    visited = []\n",
    "    stack = [start]\n",
    "\n",
    "    while stack:\n",
    "        node = stack.pop()  # take the top\n",
    "        if node not in visited:\n",
    "            visited.append(node)\n",
    "            # Add neighbors in reverse so left-most gets popped first\n",
    "            stack.extend(reversed(graph[node]))\n",
    "\n",
    "    return visited\n",
    "\n",
    "print(dfs(graph,'S'))"
   ],
   "id": "8a2bb71c4fe33729",
   "outputs": [
    {
     "name": "stdout",
     "output_type": "stream",
     "text": [
      "['S', 'A', 'C', 'D', 'F', 'B', 'E']\n"
     ]
    }
   ],
   "execution_count": 7
  },
  {
   "metadata": {},
   "cell_type": "markdown",
   "source": [
    "**Same Result**\n",
    "```\n",
    "        S\n",
    "       / \\\n",
    "      A   B\n",
    "     / \\   \\\n",
    "    C   D   E\n",
    "         \\\n",
    "          F\n",
    "```\n",
    "Why? Because:\n",
    "\n",
    "* You start with `['S']`\n",
    "\n",
    "* Pop `S`, push its neighbors: `['B', 'A']`\n",
    "\n",
    "* Pop `A`, push its neighbors: `['B', 'D', 'C']`\n",
    "\n",
    "* Keep going...\n",
    "\n",
    "You see how we always work with the most recently added node? Stack behavior.\n",
    "\n"
   ],
   "id": "367df04972fa5cdc"
  },
  {
   "metadata": {},
   "cell_type": "markdown",
   "source": [
    "This is an interesting way to approach the problem, but how does this line work?\n",
    "\n",
    "`stack.extend(reversed(graph[node]))`\n",
    "\n",
    "How does it know to automatically add neighboring nodes?\n",
    "\n",
    "Here we have to remember we are working with the following structure:\n"
   ],
   "id": "c41b8aba9b5fd575"
  },
  {
   "metadata": {
    "ExecuteTime": {
     "end_time": "2025-04-02T20:20:47.874128Z",
     "start_time": "2025-04-02T20:20:47.868856Z"
    }
   },
   "cell_type": "code",
   "source": [
    "graph = {\n",
    "    'S': ['A', 'B'],\n",
    "    'A': ['C', 'D'],\n",
    "    'B': ['E'],\n",
    "    'C': [],\n",
    "    'D': ['F'],\n",
    "    'E': [],\n",
    "    'F': []\n",
    "}"
   ],
   "id": "b0872262326e56f0",
   "outputs": [],
   "execution_count": 8
  },
  {
   "metadata": {},
   "cell_type": "markdown",
   "source": [
    "### 👀 What's Happening?\n",
    "Let’s say you’re at a node — for example, `'A'` — and in the graph, `'A'` has neighbors `'C'` and `'D'`.\n",
    "\n",
    "`graph['A'] = ['C', 'D']`\n",
    "\n",
    "When you're processing node `'A'`, you wanna add these neighbors to the stack so you can explore them next.\n",
    "\n",
    "But here’s the thing: **stacks are LIFO** — Last In, First Out — so if you want to visit `'C'` before `'D'`, you need to push `'D'` first, then `'C'`. That’s where the `reversed()` comes in.\n",
    "\n"
   ],
   "id": "dc1e3165607be910"
  },
  {
   "metadata": {},
   "cell_type": "markdown",
   "source": [
    "### 💥 Step-by-step Breakdown\n",
    "Let’s say:\n",
    "\n",
    "```\n",
    "node = 'A'\n",
    "graph[node] = ['C', 'D']\n",
    "```\n",
    "1. `reversed(graph[node])`\n",
    "→ This gives you: `['D', 'C']`\n",
    "\n",
    "2. `stack.extend(...)`\n",
    "→ Adds `'D'` and `'C'` to the **end of the stack**, which works for our purposes because we’re gonna **pop from the end**.\n",
    "\n",
    "So the stack goes from:\n",
    "\n",
    "`['B'] → after popping 'S'`\n",
    "\n",
    "to:\n",
    "\n",
    "`['B', 'D', 'C']`\n",
    "\n",
    "And when we do `stack.pop()`, we get `'C'` next — just like we want."
   ],
   "id": "d2bc0ad8ae696720"
  },
  {
   "metadata": {},
   "cell_type": "markdown",
   "source": [
    "### 🛠️ What .extend() Does\n",
    "Let’s say your stack is:\n",
    "\n",
    "`stack = ['B']`\n",
    "\n",
    "And you do:\n",
    "\n",
    "`stack.extend(['D', 'C'])`\n",
    "\n",
    "Now your stack is:\n",
    "\n",
    "`['B', 'D', 'C']`\n",
    "\n",
    "`.extend()` adds multiple items. Not like `.append()`, which would treat `['D', 'C']` as one item.\n",
    "\n",
    "### 🧠 Why We Reverse It\n",
    "We reverse the neighbor list to make sure the **first neighbor** in the list gets visited **first**, due to how stacks pop.\n",
    "\n",
    "Without reversing:\n",
    "\n",
    "```\n",
    "graph['A'] = ['C', 'D']\n",
    "stack.extend(['C', 'D'])  → Stack: [..., 'C', 'D']\n",
    "```\n",
    "Now `'D'` gets popped before `'C'` — which isn’t the order we wanted.\n",
    "\n",
    "But with reversed():\n",
    "\n",
    "`stack.extend(['D', 'C']) → Stack: [..., 'D', 'C']`\n",
    "\n",
    "Now `'C'` is popped first. ✅\n",
    "\n",
    "\n",
    "\n"
   ],
   "id": "c062e82eaa0fe095"
  },
  {
   "metadata": {},
   "cell_type": "markdown",
   "source": [
    "## What if we want to do right-to-left DFS?\n",
    "Answer: just remove the reversed().\n",
    "\n",
    "you just use:\n",
    "\n",
    "`stack.extend(graph[node])`\n",
    "\n",
    "in that line of the code\n",
    "\n",
    "* Leaves the neighbors as-is, so the right-most neighbor gets visited first (it ends up on top of the stack).\n",
    "\n",
    "* DFS walks the last child in the list first."
   ],
   "id": "5eb6e6704a58c83d"
  },
  {
   "metadata": {},
   "cell_type": "markdown",
   "source": [
    "## ⚡️ Which DFS is faster? Recursive or Stack (Iterative)?\n",
    "Short answer: Both are equally fast in terms of time complexity — but they got tradeoffs.\n",
    "\n",
    "🧠 1. Time Complexity\n",
    "For a graph with:\n",
    "\n",
    "**V** = number of vertices (nodes)\n",
    "\n",
    "**E** = number of edges (connections)\n",
    "\n",
    "Both versions of DFS — recursive and iterative — run in:\n",
    "\n",
    "`⏱️ Time Complexity = O(V + E)`\n",
    "\n",
    "Because you visit every node and every edge once.\n",
    "\n",
    "So performance-wise? Same.\n",
    "\n",
    "### But here's the kicker 👇\n",
    "\n",
    "* If the graph is super deep (like a long skinny tree), **recursive DFS might crash** with a `RecursionError` because of Python’s recursion depth limit (default is ~1000).\n",
    "\n",
    "* **Iterative DFS won't crash**, 'cause you're controlling the stack yourself.\n"
   ],
   "id": "a042e5f24acad380"
  },
  {
   "metadata": {},
   "cell_type": "markdown",
   "source": [
    "## 🧠 Will this DFS algorithm work on all graphs?\n",
    "Let’s break that into pieces:\n",
    "\n",
    "### ✅ Yes — DFS works on all graphs as long as:\n",
    "* The graph is **finite** (not infinite loops)\n",
    "\n",
    "* You **track visited nodes properly**\n",
    "\n",
    "* It can be:\n",
    "\n",
    "    * **Directed or undirected**\n",
    "\n",
    "    * **Connected or disconnected**\n",
    "\n",
    "    * **Cyclic or acyclic**"
   ],
   "id": "481e738e381b3450"
  },
  {
   "metadata": {},
   "cell_type": "markdown",
   "source": [
    "## My Conclusion\n",
    "In an interview I would use the iterative (stack-based) algorithm\n",
    "\n",
    "### 🎯 Why Stack-Based DFS Wins in Interviews\n",
    "\n",
    "| 🧠 Skill               | What You Show                                                                 |\n",
    "|------------------------|--------------------------------------------------------------------------------|\n",
    "| You know LIFO behavior | Key for understanding queues, DAGs, and tree traversal                        |\n",
    "| You control your own data structure | No black-box recursion — you're explicitly managing flow              |\n",
    "| Scales better          | Won’t crash with large datasets or deep recursion                             |\n",
    "| Easily debuggable      | You can print the stack at every step to trace execution                      |\n",
    "| Adaptable              | Can morph into BFS, topological sort, cycle detection, etc., with minor tweaks |\n",
    "\n",
    "* You understand how memory works (you ain’t blowing the call stack),\n",
    "\n",
    "* You’re in control of the flow,\n",
    "\n",
    "* And you can tweak it easily for real-world tasks like crawling data, resolving dependencies, etc.\n",
    "\n",
    "## 🛠️ Stack-Based DFS Template (Copy-Paste Ready for Interviews)"
   ],
   "id": "62b81176a139436b"
  },
  {
   "metadata": {
    "ExecuteTime": {
     "end_time": "2025-04-17T04:50:06.150776Z",
     "start_time": "2025-04-17T04:50:06.145280Z"
    }
   },
   "cell_type": "code",
   "source": [
    "def dfs_stack(graph, start):\n",
    "    visited = []\n",
    "    stack = [start]\n",
    "\n",
    "    while stack:\n",
    "        node = stack.pop()\n",
    "        if node not in visited:\n",
    "            visited.append(node)\n",
    "            stack.extend(reversed(graph[node]))  # or not reversed if right-to-left\n",
    "    return visited\n"
   ],
   "id": "7dc9d1e48803f69",
   "outputs": [],
   "execution_count": 1
  },
  {
   "metadata": {},
   "cell_type": "markdown",
   "source": [
    "## 🧪 Pro Tip for Interviews\n",
    "**If they ask:**\n",
    "\n",
    "\"What happens if there are disconnected components?\"\n",
    "\n",
    "Say:\n",
    "\n",
    "\"We can loop over all nodes and run DFS on unvisited ones to make sure we cover the entire graph, like when building a full dependency tree.\""
   ],
   "id": "36543804c3b72417"
  },
  {
   "metadata": {},
   "cell_type": "code",
   "outputs": [],
   "execution_count": null,
   "source": "",
   "id": "740d5be1695888d4"
  }
 ],
 "metadata": {
  "kernelspec": {
   "display_name": "Python 3",
   "language": "python",
   "name": "python3"
  },
  "language_info": {
   "codemirror_mode": {
    "name": "ipython",
    "version": 2
   },
   "file_extension": ".py",
   "mimetype": "text/x-python",
   "name": "python",
   "nbconvert_exporter": "python",
   "pygments_lexer": "ipython2",
   "version": "2.7.6"
  }
 },
 "nbformat": 4,
 "nbformat_minor": 5
}
