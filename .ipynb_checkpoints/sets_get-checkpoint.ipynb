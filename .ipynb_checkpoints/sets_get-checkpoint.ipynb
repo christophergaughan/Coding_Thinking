{
 "cells": [
  {
   "cell_type": "code",
   "metadata": {
    "jupyter": {
     "is_executing": true
    }
   },
   "source": [
    "files_uploaded = [\"data1.csv\", \"report.xlsx\", \"summary.docx\",\n",
    "                  \"data1.csv\", \"report.xlsx\", \"new_file.txt\"]\n",
    "\n",
    "seen = set()\n",
    "dupes = set(file for file in files_uploaded if file in seen or not seen.add(file))\n",
    "\n",
    "print(dupes)\n"
   ],
   "outputs": [],
   "execution_count": null
  },
  {
   "cell_type": "code",
   "metadata": {
    "jupyter": {
     "is_executing": true
    }
   },
   "source": [
    "files_uploaded = [\"data1.csv\", \"report.xlsx\", \"summary.docx\",\n",
    "                  \"data1.csv\", \"report.xlsx\", \"new_file.txt\"]\n",
    "\n",
    "seen = set()\n",
    "dupes = set()\n",
    "\n",
    "for file in files_uploaded:\n",
    "    if file in seen:\n",
    "        dupes.add(file)  # If it's already in seen, it's a duplicate\n",
    "    else:\n",
    "        seen.add(file)  # Otherwise, add it to seen\n",
    "\n",
    "print(dupes)\n"
   ],
   "outputs": [],
   "execution_count": null
  },
  {
   "cell_type": "markdown",
   "metadata": {},
   "source": [
    "## 📝 Example 1: Checking if a User Exists in a System\n",
    "Imagine you have a huge list of registered users, and you need to check if a new user ID is already in the system.\n",
    "\n",
    "✅ Without Sets (Slow)"
   ]
  },
  {
   "cell_type": "code",
   "execution_count": 3,
   "metadata": {},
   "outputs": [
    {
     "name": "stdout",
     "output_type": "stream",
     "text": [
      "User exists\n"
     ]
    }
   ],
   "source": [
    "users_list = [101, 202, 303, 404, 505, 606]  # Imagine this list is huge\n",
    "user_id = 303\n",
    "\n",
    "if user_id in users_list:  # O(n) lookup time\n",
    "    print(\"User exists\")\n",
    "else:\n",
    "    print(\"User not found\")\n"
   ]
  },
  {
   "cell_type": "markdown",
   "metadata": {},
   "source": [
    "**🔹 Problem: If users_list is big, searching will take time.**"
   ]
  },
  {
   "cell_type": "code",
   "execution_count": null,
   "metadata": {},
   "outputs": [
    {
     "name": "stdout",
     "output_type": "stream",
     "text": [
      "user exists\n"
     ]
    }
   ],
   "source": [
    "user_list = set(users_list)\n",
    "if user_id in users_list:\n",
    "    print(f'user exists')\n",
    "else:\n",
    "    print(\"user not found\")"
   ]
  },
  {
   "cell_type": "markdown",
   "metadata": {},
   "source": [
    "### 1️⃣ Detecting Plagiarism (Finding Common Words in Documents)\n",
    "You have two text documents, and you want to check how many common words appear in both."
   ]
  },
  {
   "cell_type": "code",
   "execution_count": 7,
   "metadata": {},
   "outputs": [
    {
     "name": "stdout",
     "output_type": "stream",
     "text": [
      "{'learning', 'data', 'machine', 'and', 'science'}\n"
     ]
    }
   ],
   "source": [
    "doc1 = \"\"\"Python is great for data science and machine learning\"\"\"\n",
    "doc2 = \"\"\"Machine learning and AI are transforming data science\"\"\"\n",
    "\n",
    "words1 = set(doc1.lower().split())  \n",
    "words2 = set(doc2.lower().split())\n",
    "\n",
    "# Find words that appear in both documents\n",
    "print(words1 & words2)"
   ]
  },
  {
   "cell_type": "markdown",
   "metadata": {},
   "source": [
    "## 2️⃣ Finding Employees Who Haven't Submitted Reports\n",
    "You have two sets:\n",
    "\n",
    "One contains all employees.\n",
    "* The other contains employees who submitted reports.\n",
    "* You need to find out who hasn't submitted their report.\n"
   ]
  },
  {
   "cell_type": "code",
   "execution_count": 8,
   "metadata": {},
   "outputs": [
    {
     "name": "stdout",
     "output_type": "stream",
     "text": [
      "{'Bob', 'Charlie'}\n"
     ]
    }
   ],
   "source": [
    "all_employees = {\"Alice\", \"Bob\", \"Charlie\", \"David\", \"Eve\"}\n",
    "submitted_reports = {\"Alice\", \"David\", \"Eve\"}\n",
    "\n",
    "# Find employees who DID NOT submit reports\n",
    "print(all_employees - submitted_reports)"
   ]
  },
  {
   "cell_type": "markdown",
   "metadata": {},
   "source": [
    "## 3️⃣ Identifying Fraudulent Transactions\n",
    "You have a list of transactions, but some accounts are blacklisted for fraud.\n",
    "- Filter out any transactions from blacklisted accounts."
   ]
  },
  {
   "cell_type": "code",
   "execution_count": 12,
   "metadata": {},
   "outputs": [
    {
     "name": "stdout",
     "output_type": "stream",
     "text": [
      "[('user1', 250), ('user2', 400), ('user4', 100)]\n"
     ]
    }
   ],
   "source": [
    "transactions = [\n",
    "    (\"user1\", 250), (\"user2\", 400), (\"user3\", 500),\n",
    "    (\"user4\", 100), (\"user5\", 750), (\"user3\", 600)\n",
    "]\n",
    "blacklisted_accounts = {\"user3\", \"user5\"}\n",
    "\n",
    "# Create a new list without blacklisted transactions\n",
    "filtered_transactions = []\n",
    "\n",
    "for user, amount in transactions:\n",
    "    if user not in blacklisted_accounts:\n",
    "        filtered_transactions.append((user, amount))\n",
    "\n",
    "print(filtered_transactions)\n"
   ]
  },
  {
   "cell_type": "markdown",
   "metadata": {},
   "source": [
    "## Tuple Unpacking in a List\n",
    "* What is Tuple Unpacking?\n",
    "* When you have a list of tuples, each tuple contains multiple values.\n",
    "* You can unpack those values directly in a for loop instead of accessing them by index.\n",
    "\n",
    "✅ Basic Example: Unpacking Tuples in a List"
   ]
  },
  {
   "cell_type": "code",
   "execution_count": 18,
   "metadata": {},
   "outputs": [
    {
     "name": "stdout",
     "output_type": "stream",
     "text": [
      "1 a\n",
      "2 b\n",
      "3 c\n",
      "1 a:2 b:3 c:"
     ]
    }
   ],
   "source": [
    "pairs = [(1, 'a'), (2, 'b'), (3, 'c')]\n",
    "\n",
    "# Instead of doing this:\n",
    "for pair in pairs:\n",
    "    print(pair[0], pair[1])  # Accessing elements by index\n",
    "\n",
    "# Do this:\n",
    "for num, letter in pairs:\n",
    "    print(num, letter, end=\":\")  # Unpacking the tuple directly\n"
   ]
  },
  {
   "cell_type": "markdown",
   "metadata": {},
   "source": [
    "## 🛑 Common Mistake: Forgetting to Unpack the Tuple\n",
    "### ❌ Wrong:\n",
    " "
   ]
  },
  {
   "cell_type": "code",
   "execution_count": 31,
   "metadata": {},
   "outputs": [
    {
     "name": "stdout",
     "output_type": "stream",
     "text": [
      "Found transaction!\n"
     ]
    }
   ],
   "source": [
    "transactions = [(\"user1\", 250), (\"user2\", 400)]\n",
    "for transaction in transactions:\n",
    "    if transaction[0] == \"user1\":  # Accessing manually\n",
    "        print(\"Found transaction!\")\n"
   ]
  },
  {
   "cell_type": "markdown",
   "metadata": {},
   "source": [
    "### ✅ Right (Unpack It!)"
   ]
  },
  {
   "cell_type": "code",
   "execution_count": 21,
   "metadata": {},
   "outputs": [
    {
     "name": "stdout",
     "output_type": "stream",
     "text": [
      "Found transaction!\n"
     ]
    }
   ],
   "source": [
    "transactions = [(\"user1\", 250), (\"user2\", 400)]\n",
    "for user, amount in transactions:  # UNPACK THE TUPLE\n",
    "    if user == \"user1\":\n",
    "        print(\"Found transaction!\")\n"
   ]
  },
  {
   "cell_type": "markdown",
   "metadata": {},
   "source": [
    "**💡 Why? Python lets you unpack the tuple automatically, so you can use user and amount directly.**"
   ]
  },
  {
   "cell_type": "markdown",
   "metadata": {},
   "source": [
    "## Using `enumerate()` Correctly\n",
    "* What Does `enumerate()` Do?\n",
    "    - `enumerate()` is used to get the index + value at the same time when **looping through a list**.\n",
    "\n",
    "✅ Basic Example:"
   ]
  },
  {
   "cell_type": "code",
   "execution_count": 22,
   "metadata": {},
   "outputs": [
    {
     "name": "stdout",
     "output_type": "stream",
     "text": [
      "Index 0 -> Alice\n",
      "Index 1 -> Bob\n",
      "Index 2 -> Charlie\n"
     ]
    }
   ],
   "source": [
    "names = [\"Alice\", \"Bob\", \"Charlie\"]\n",
    "\n",
    "for index, name in enumerate(names):\n",
    "    print(f\"Index {index} -> {name}\")\n"
   ]
  },
  {
   "cell_type": "markdown",
   "metadata": {},
   "source": "**🔹 `enumerate()` gives you a *tuple* `(index, value)`, which you unpack in the loop.**"
  },
  {
   "cell_type": "markdown",
   "metadata": {},
   "source": [
    "## 🛑 Common Mistake: Misusing enumerate() with Tuples\n",
    "If you already have a list of tuples, enumerate() adds an extra index before the tuple, which can confuse you.\n",
    "\n",
    "### ❌ Wrong: Using enumerate() on a List of Tuples Incorrectly"
   ]
  },
  {
   "cell_type": "code",
   "execution_count": 1,
   "metadata": {},
   "outputs": [
    {
     "ename": "ValueError",
     "evalue": "not enough values to unpack (expected 3, got 2)",
     "output_type": "error",
     "traceback": [
      "\u001B[0;31m---------------------------------------------------------------------------\u001B[0m",
      "\u001B[0;31mValueError\u001B[0m                                Traceback (most recent call last)",
      "\u001B[0;32m/tmp/ipykernel_4930/1100095323.py\u001B[0m in \u001B[0;36m<module>\u001B[0;34m\u001B[0m\n\u001B[1;32m      1\u001B[0m \u001B[0mtransactions\u001B[0m \u001B[0;34m=\u001B[0m \u001B[0;34m[\u001B[0m\u001B[0;34m(\u001B[0m\u001B[0;34m\"user1\"\u001B[0m\u001B[0;34m,\u001B[0m \u001B[0;36m250\u001B[0m\u001B[0;34m)\u001B[0m\u001B[0;34m,\u001B[0m \u001B[0;34m(\u001B[0m\u001B[0;34m\"user2\"\u001B[0m\u001B[0;34m,\u001B[0m \u001B[0;36m400\u001B[0m\u001B[0;34m)\u001B[0m\u001B[0;34m]\u001B[0m\u001B[0;34m\u001B[0m\u001B[0;34m\u001B[0m\u001B[0m\n\u001B[1;32m      2\u001B[0m \u001B[0;34m\u001B[0m\u001B[0m\n\u001B[0;32m----> 3\u001B[0;31m \u001B[0;32mfor\u001B[0m \u001B[0mindex\u001B[0m\u001B[0;34m,\u001B[0m \u001B[0muser\u001B[0m\u001B[0;34m,\u001B[0m \u001B[0mamount\u001B[0m \u001B[0;32min\u001B[0m \u001B[0menumerate\u001B[0m\u001B[0;34m(\u001B[0m\u001B[0mtransactions\u001B[0m\u001B[0;34m)\u001B[0m\u001B[0;34m:\u001B[0m  \u001B[0;31m# ❌ This won't work!\u001B[0m\u001B[0;34m\u001B[0m\u001B[0;34m\u001B[0m\u001B[0m\n\u001B[0m\u001B[1;32m      4\u001B[0m     \u001B[0mprint\u001B[0m\u001B[0;34m(\u001B[0m\u001B[0mindex\u001B[0m\u001B[0;34m,\u001B[0m \u001B[0muser\u001B[0m\u001B[0;34m,\u001B[0m \u001B[0mamount\u001B[0m\u001B[0;34m)\u001B[0m\u001B[0;34m\u001B[0m\u001B[0;34m\u001B[0m\u001B[0m\n",
      "\u001B[0;31mValueError\u001B[0m: not enough values to unpack (expected 3, got 2)"
     ]
    }
   ],
   "source": [
    "transactions = [(\"user1\", 250), (\"user2\", 400)]\n",
    "\n",
    "for index, user, amount in enumerate(transactions):  # ❌ This won't work!\n",
    "    print(index, user, amount)\n"
   ]
  },
  {
   "cell_type": "markdown",
   "metadata": {},
   "source": [
    "## ✅ Right Way: Unpacking enumerate() Correctly"
   ]
  },
  {
   "cell_type": "code",
   "execution_count": 2,
   "metadata": {},
   "outputs": [
    {
     "name": "stdout",
     "output_type": "stream",
     "text": [
      "0: user1 -> $250\n",
      "1: user2 -> $400\n"
     ]
    }
   ],
   "source": [
    "transactions = [(\"user1\", 250), (\"user2\", 400)]\n",
    "\n",
    "for index, (user, amount) in enumerate(transactions):  # ✅ Unpack the tuple properly\n",
    "    print(f\"{index}: {user} -> ${amount}\")\n"
   ]
  },
  {
   "cell_type": "markdown",
   "metadata": {},
   "source": [
    "### 💡 Rule of Thumb:\n",
    "\n",
    "* If working with a regular list, use enumerate() normally.\n",
    "* If working with a list of tuples, unpack the tuple inside the enumerate() loop.\n",
    "\n",
    "## Practice Problems to Drill This Concept\n",
    "Try these to lock it in:\n",
    "\n",
    "### 🧩 Problem 1: Unpack Tuples from a List\n"
   ]
  },
  {
   "cell_type": "code",
   "execution_count": 13,
   "metadata": {},
   "outputs": [
    {
     "name": "stdout",
     "output_type": "stream",
     "text": [
      "Laptop costs 1000\n",
      "Phone costs 500\n",
      "Tablet costs 750\n"
     ]
    }
   ],
   "source": [
    "products = [(\"Laptop\", 1000), (\"Phone\", 500), (\"Tablet\", 750)]\n",
    "# Print each product name and its price\n",
    "for item, price in products:\n",
    "    print(f'{item} costs {price}')"
   ]
  },
  {
   "cell_type": "markdown",
   "metadata": {},
   "source": [
    "### 🧩 Problem 2: Use `enumerate()` Correctly"
   ]
  },
  {
   "cell_type": "code",
   "metadata": {
    "jupyter": {
     "is_executing": true
    }
   },
   "source": [
    "students = [(\"Alice\", 90), (\"Bob\", 85), (\"Charlie\", 88)]\n",
    "# Print each student's position (index) in the list and their grade\n",
    "for index, (student, grade) in enumerate(students):\n",
    "    print(f'Student # {index}: {student} scored {grade}')"
   ],
   "outputs": [],
   "execution_count": null
  },
  {
   "cell_type": "markdown",
   "metadata": {},
   "source": [
    "### 🧩 Problem 3: Find the First Duplicate in a List"
   ]
  },
  {
   "cell_type": "code",
   "execution_count": 29,
   "metadata": {},
   "outputs": [
    {
     "name": "stdout",
     "output_type": "stream",
     "text": [
      "5\n"
     ]
    }
   ],
   "source": [
    "numbers = [4, 5, 6, 7, 5, 8, 9, 6]\n",
    "# Use a set and unpacking to find the first duplicate\n",
    "seen = set()\n",
    "\n",
    "for number in numbers:\n",
    "    if number in seen:\n",
    "        print(number)\n",
    "        break\n",
    "    else:\n",
    "        seen.add(number)\n",
    "        \n",
    "        "
   ]
  },
  {
   "cell_type": "markdown",
   "metadata": {},
   "source": [
    "### Finding Unused API Keys\n",
    "You have a set of all API keys and another set of used API keys.\n",
    "\n",
    "Find which API keys have **never been used**."
   ]
  },
  {
   "cell_type": "code",
   "execution_count": 32,
   "metadata": {},
   "outputs": [
    {
     "name": "stdout",
     "output_type": "stream",
     "text": [
      "{'key4', 'key2'}\n"
     ]
    }
   ],
   "source": [
    "all_keys = {\"key1\", \"key2\", \"key3\", \"key4\", \"key5\"}\n",
    "used_keys = {\"key1\", \"key3\", \"key5\"}\n",
    "\n",
    "# Find API keys that were never used\n",
    "print(all_keys - used_keys)"
   ]
  },
  {
   "cell_type": "markdown",
   "metadata": {},
   "source": [
    "### 🔧 Problem 1: Detecting Missing Records in a Data Pipeline\n",
    "Your system processes data every hour, but some expected records are missing from the output."
   ]
  },
  {
   "cell_type": "code",
   "execution_count": 33,
   "metadata": {},
   "outputs": [
    {
     "name": "stdout",
     "output_type": "stream",
     "text": [
      "{'2024-03-01T05:00:00', '2024-03-01T03:00:00', '2024-03-01T04:00:00', '2024-03-01T02:00:00', '2024-03-01T01:00:00'}\n"
     ]
    }
   ],
   "source": [
    "expected_records = {\n",
    "    \"2024-03-01T01:00:00\", \"2024-03-01T02:00:00\", \"2024-03-01T03:00:00\",\n",
    "    \"2024-03-01T04:00:00\", \"2024-03-01T05:00:00\"\n",
    "}\n",
    "actual_records = {\n",
    "    \"2024-03-01T01:00:00\", \"2024-03-01T03:00:00\", \"2024-03-01T05:00:00\"\n",
    "}\n",
    "\n",
    "print(expected_records | actual_records)"
   ]
  },
  {
   "cell_type": "markdown",
   "metadata": {},
   "source": [
    "### 🔧 Problem 2: Identifying Frequent API Callers\n",
    "Your logs track API calls made by users. You want to find users who made more than 2 API calls.\n",
    "\n",
    "✅ Task: Use a dictionary to count the number of API calls per user and find users with more than 2 calls."
   ]
  },
  {
   "cell_type": "code",
   "execution_count": null,
   "metadata": {},
   "outputs": [
    {
     "name": "stdout",
     "output_type": "stream",
     "text": [
      "{'user2'}\n"
     ]
    }
   ],
   "source": [
    "api_logs = [\n",
    "    (\"user1\", \"/login\"), (\"user2\", \"/data\"), (\"user2\", \"/data\"),\n",
    "    (\"user3\", \"/data\"), (\"user2\", \"/login\"), (\"user1\", \"/logout\"),\n",
    "    (\"user3\", \"/logout\"), (\"user2\", \"/data\"), (\"user3\", \"/data\")\n",
    "]\n",
    "\n",
    "# Step 1: Count API calls per user\n",
    "api_counts = {}\n",
    "\n",
    "# Make the frequency dictionary using `get()`\n",
    "for user, _ in api_logs:\n",
    "    api_counts[user] = api_counts.get(user, 0) + 1  # O(1) update\n",
    "\n",
    "# Step 2: Find users with more than 3 API calls\n",
    "frequent_users = {user for user, count in api_counts.items() if count > 3}\n",
    "\n",
    "print(frequent_users)  # Expected Output: {'user1', 'user2', 'user3'}\n",
    "\n",
    "    "
   ]
  },
  {
   "cell_type": "markdown",
   "metadata": {},
   "source": [
    "## What Does `.get()` Do?\n",
    "The `.get()` method is used to retrieve a value from a dictionary.\n",
    "\n",
    "* If the key exists → Returns the value. ✅\n",
    "* If the key doesn't exist → Returns the default value (instead of throwing an error). ✅\n",
    "\n",
    "`dictionary.get(key, default_value)\n",
    "`"
   ]
  },
  {
   "cell_type": "markdown",
   "metadata": {},
   "source": [
    "### Basic Example: Using `.get()` to Fetch Values"
   ]
  },
  {
   "cell_type": "code",
   "execution_count": null,
   "metadata": {},
   "outputs": [
    {
     "name": "stdout",
     "output_type": "stream",
     "text": [
      "25\n",
      "None\n",
      "Unknown\n"
     ]
    }
   ],
   "source": [
    "user_ages = {\"Alice\": 25, \"Bob\": 30, \"Charlie\": 28}\n",
    "\n",
    "print(user_ages.get(\"Alice\"))\n",
    "print(user_ages.get(\"Eve\"))    # ✅ None (Key doesn’t exist, default is None)\n",
    "print(user_ages.get(\"Eve\", \"Unknown\"))  # ✅ \"Unknown\" (Custom default value)\n"
   ]
  },
  {
   "cell_type": "markdown",
   "metadata": {},
   "source": [
    "#### Why is this Useful?\n",
    "* Using user_ages[\"Eve\"] would throw a KeyError if \"Eve\" isn’t in the dictionary.\n",
    "* get() avoids this error and lets you handle missing keys gracefully."
   ]
  },
  {
   "cell_type": "markdown",
   "metadata": {},
   "source": [
    "## Lets look at the `get()` function\n",
    "You're given a list of API calls made by users. \n",
    "* Use get() to count how many times each user made an API call.\n",
    "\n",
    "### Using `.get()` for Counting (Why It’s Useful in above problem)\n",
    "When counting things (like API calls), .get() makes it easy to initialize missing keys."
   ]
  },
  {
   "cell_type": "code",
   "execution_count": 54,
   "metadata": {},
   "outputs": [
    {
     "name": "stdout",
     "output_type": "stream",
     "text": [
      "{'Alice': 3, 'Bob': 1, 'Charlie': 1}\n"
     ]
    }
   ],
   "source": [
    "api_counts = {}\n",
    "\n",
    "# Without .get() - More complicated\n",
    "for user in [\"Alice\", \"Bob\", \"Alice\", \"Charlie\", \"Alice\"]:\n",
    "    if user in api_counts:\n",
    "        api_counts[user] += 1\n",
    "    else:\n",
    "        api_counts[user] = 1\n",
    "\n",
    "print(api_counts)  # {'Alice': 3, 'Bob': 1, 'Charlie': 1}\n"
   ]
  },
  {
   "cell_type": "markdown",
   "metadata": {},
   "source": [
    "**✅ With .get() - Cleaner & Faster:**"
   ]
  },
  {
   "cell_type": "code",
   "execution_count": null,
   "metadata": {},
   "outputs": [
    {
     "name": "stdout",
     "output_type": "stream",
     "text": [
      "{'Alice': 3, 'Bob': 1, 'Charlie': 1}\n"
     ]
    }
   ],
   "source": [
    "api_counts = {}\n",
    "\n",
    "for user in [\"Alice\", \"Bob\", \"Alice\", \"Charlie\", \"Alice\"]:\n",
    "    api_counts[user] = api_counts.get(user, 0) + 1  # 🔥 No if-else needed!\n",
    "\n",
    "print(api_counts) \n"
   ]
  },
  {
   "cell_type": "markdown",
   "metadata": {},
   "source": [
    "**Why?**\n",
    "\n",
    "* If user already exists, .get(user, 0) returns its count and increments it.\n",
    "* If user doesn’t exist, .get(user, 0) returns 0, so we start counting from 1.\n",
    "\n",
    "### Avoiding KeyErrors with .get()\n",
    "Imagine a dictionary storing configuration settings.\n",
    "\n",
    "❌ Without .get(), you risk errors:\n"
   ]
  },
  {
   "cell_type": "code",
   "execution_count": 56,
   "metadata": {},
   "outputs": [
    {
     "name": "stdout",
     "output_type": "stream",
     "text": [
      "dark\n"
     ]
    },
    {
     "ename": "KeyError",
     "evalue": "'font_size'",
     "output_type": "error",
     "traceback": [
      "\u001B[0;31m---------------------------------------------------------------------------\u001B[0m",
      "\u001B[0;31mKeyError\u001B[0m                                  Traceback (most recent call last)",
      "\u001B[0;32m/tmp/ipykernel_4930/1642526214.py\u001B[0m in \u001B[0;36m<module>\u001B[0;34m\u001B[0m\n\u001B[1;32m      2\u001B[0m \u001B[0;34m\u001B[0m\u001B[0m\n\u001B[1;32m      3\u001B[0m \u001B[0mprint\u001B[0m\u001B[0;34m(\u001B[0m\u001B[0mconfig\u001B[0m\u001B[0;34m[\u001B[0m\u001B[0;34m\"theme\"\u001B[0m\u001B[0;34m]\u001B[0m\u001B[0;34m)\u001B[0m  \u001B[0;31m# ✅ \"dark\"\u001B[0m\u001B[0;34m\u001B[0m\u001B[0;34m\u001B[0m\u001B[0m\n\u001B[0;32m----> 4\u001B[0;31m \u001B[0mprint\u001B[0m\u001B[0;34m(\u001B[0m\u001B[0mconfig\u001B[0m\u001B[0;34m[\u001B[0m\u001B[0;34m\"font_size\"\u001B[0m\u001B[0;34m]\u001B[0m\u001B[0;34m)\u001B[0m  \u001B[0;31m# ❌ KeyError because \"font_size\" isn’t in the dictionary\u001B[0m\u001B[0;34m\u001B[0m\u001B[0;34m\u001B[0m\u001B[0m\n\u001B[0m",
      "\u001B[0;31mKeyError\u001B[0m: 'font_size'"
     ]
    }
   ],
   "source": [
    "config = {\"theme\": \"dark\", \"language\": \"English\"}\n",
    "\n",
    "print(config[\"theme\"])  # ✅ \"dark\"\n",
    "print(config[\"font_size\"])  # ❌ KeyError because \"font_size\" isn’t in the dictionary\n"
   ]
  },
  {
   "cell_type": "markdown",
   "metadata": {},
   "source": [
    "### ✅ Using .get() Prevents Crashes:"
   ]
  },
  {
   "cell_type": "code",
   "execution_count": 57,
   "metadata": {},
   "outputs": [
    {
     "name": "stdout",
     "output_type": "stream",
     "text": [
      "12\n"
     ]
    }
   ],
   "source": [
    "print(config.get(\"font_size\", 12))  # ✅ 12 (default value)\n"
   ]
  },
  {
   "cell_type": "markdown",
   "metadata": {},
   "source": [
    "### Using .get() for Nested Dictionaries\n",
    "Example: User Data in a Dictionary"
   ]
  },
  {
   "cell_type": "code",
   "execution_count": 59,
   "metadata": {},
   "outputs": [
    {
     "name": "stdout",
     "output_type": "stream",
     "text": [
      "NY\n",
      "Unknown\n"
     ]
    }
   ],
   "source": [
    "user_profiles = {\n",
    "    \"Alice\": {\"age\": 25, \"location\": \"NY\"},\n",
    "    \"Bob\": {\"age\": 30}\n",
    "}\n",
    "\n",
    "# Without .get() (Risky)\n",
    "print(user_profiles[\"Alice\"][\"location\"])  # ✅ \"NY\"\n",
    "# print(user_profiles[\"Bob\"][\"location\"])  # ❌ KeyError\n",
    "\n",
    "# With .get() (Safe)\n",
    "print(user_profiles.get(\"Bob\", {}).get(\"location\", \"Unknown\"))  # ✅ \"Unknown\"\n"
   ]
  },
  {
   "cell_type": "markdown",
   "metadata": {},
   "source": [
    "**Why?**\n",
    "\n",
    "* `.get(\"Bob\", {})` → Returns `{}` if \"Bob\" doesn’t exist, preventing an error.\n",
    "* `.get(\"location\", \"Unknown\")` → Returns \"Unknown\" if \"location\" is missing.\n",
    "\n",
    "\n",
    "### `.get()` vs. DefaultDict (Alternative Approach)\n",
    "* **If you're always using .get() to initialize missing keys, consider collections.defaultdict instead.**"
   ]
  },
  {
   "cell_type": "code",
   "execution_count": 60,
   "metadata": {},
   "outputs": [
    {
     "name": "stdout",
     "output_type": "stream",
     "text": [
      "defaultdict(<class 'int'>, {'Alice': 3, 'Bob': 1, 'Charlie': 1})\n"
     ]
    }
   ],
   "source": [
    "from collections import defaultdict\n",
    "\n",
    "api_counts = defaultdict(int)  # Default value for missing keys is 0\n",
    "\n",
    "for user in [\"Alice\", \"Bob\", \"Alice\", \"Charlie\", \"Alice\"]:\n",
    "    api_counts[user] += 1  # No need for .get()\n",
    "\n",
    "print(api_counts)  # {'Alice': 3, 'Bob': 1, 'Charlie': 1}\n"
   ]
  },
  {
   "cell_type": "markdown",
   "metadata": {},
   "source": [
    "#### Difference?\n",
    "\n",
    "* `dict.get()` → Manual way to handle missing keys.\n",
    "* defaultdict → Auto-creates missing keys with a default value.\n"
   ]
  },
  {
   "cell_type": "code",
   "execution_count": null,
   "metadata": {},
   "outputs": [],
   "source": [
    "api_calls = [\"Alice\", \"Bob\", \"Alice\", \"Charlie\", \"Alice\", \"Bob\", \"Charlie\", \"Charlie\"]\n",
    "\n",
    "# Count occurrences using .get()\n",
    "api_counts = {}\n",
    "\n",
    "for user in api_calls:\n",
    "    api_counts = api_calls.get()\n",
    "\n",
    "print(api_counts)\n"
   ]
  }
 ],
 "metadata": {
  "kernelspec": {
   "display_name": "base",
   "language": "python",
   "name": "python3"
  },
  "language_info": {
   "codemirror_mode": {
    "name": "ipython",
    "version": 3
   },
   "file_extension": ".py",
   "mimetype": "text/x-python",
   "name": "python",
   "nbconvert_exporter": "python",
   "pygments_lexer": "ipython3",
   "version": "3.9.7"
  }
 },
 "nbformat": 4,
 "nbformat_minor": 2
}
