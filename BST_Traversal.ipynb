{
 "cells": [
  {
   "metadata": {},
   "cell_type": "markdown",
   "source": [
    "# 🌳 Binary Search Tree (BST) Traversal — Real Talk for Interviews\n",
    "\n",
    "When you're dealing with a **Binary Search Tree (BST)**, you're basically working with a tree where everything's in order. Left side got the smaller values, right side got the bigger ones — simple.\n",
    "\n",
    "But knowing **how to walk through this tree**? That's key if you're tryna pass them coding interviews.\n",
    "\n",
    "We got **3 major styles of traversal** you gotta know like your ABCs:\n",
    "\n",
    "---\n",
    "\n",
    "## 🔁 In-Order Traversal (Left ➡️ Root ➡️ Right)\n",
    "\n",
    "> Think of this like walking up to the front porch from the side of the house, dapping up the homeowner, and then leaving out the other side.\n",
    "> If it's a BST, **in-order will hit the nodes in ascending order**.\n",
    "\n",
    "### ✨ Recursive Version\n",
    "\n",
    "\n"
   ],
   "id": "c54b59667dced178"
  },
  {
   "cell_type": "code",
   "id": "initial_id",
   "metadata": {
    "collapsed": true,
    "ExecuteTime": {
     "end_time": "2025-04-08T19:15:26.730489Z",
     "start_time": "2025-04-08T19:15:26.728263Z"
    }
   },
   "source": [
    "def in_order(node):\n",
    "    if node:\n",
    "        in_order(node.left)\n",
    "        print(node.val)  # 👈 pull up on the node\n",
    "        in_order(node.right)"
   ],
   "outputs": [],
   "execution_count": 2
  },
  {
   "metadata": {},
   "cell_type": "markdown",
   "source": "## 🔩 Iterative Version (with Stack)",
   "id": "2d1a6fd663423e92"
  },
  {
   "metadata": {
    "ExecuteTime": {
     "end_time": "2025-04-08T19:15:28.669173Z",
     "start_time": "2025-04-08T19:15:28.666336Z"
    }
   },
   "cell_type": "code",
   "source": [
    "def in_order_iterative(root):\n",
    "    stack = []\n",
    "    curr = root\n",
    "    while stack or curr:\n",
    "        while curr:\n",
    "            stack.append(curr)\n",
    "            curr = curr.left\n",
    "        curr = stack.pop()\n",
    "        print(curr.val)\n",
    "        curr = curr.right\n"
   ],
   "id": "83577509c827275e",
   "outputs": [],
   "execution_count": 3
  },
  {
   "metadata": {},
   "cell_type": "markdown",
   "source": [
    "## 🥇 Pre-Order Traversal (Root ➡️ Left ➡️ Right)\n",
    "\n",
    "> You pull up on the homeowner first, check the left side of the crib, then slide to the right.\n",
    "Good for cloning trees or saving tree structure.\n",
    "\n",
    "### ✨ Recursive Version"
   ],
   "id": "d36b6dfa7e1f3098"
  },
  {
   "metadata": {
    "ExecuteTime": {
     "end_time": "2025-04-08T19:15:30.606925Z",
     "start_time": "2025-04-08T19:15:30.604143Z"
    }
   },
   "cell_type": "code",
   "source": [
    "def pre_order(node):\n",
    "    if node:\n",
    "        print(node.val)\n",
    "        pre_order(node.left)\n",
    "        pre_order(node.right)\n"
   ],
   "id": "72d499b45c3d15e0",
   "outputs": [],
   "execution_count": 4
  },
  {
   "metadata": {},
   "cell_type": "markdown",
   "source": "### 🔩 Iterative Version (with Stack)",
   "id": "48fb355d8d550319"
  },
  {
   "metadata": {
    "ExecuteTime": {
     "end_time": "2025-04-08T19:15:32.612896Z",
     "start_time": "2025-04-08T19:15:32.609844Z"
    }
   },
   "cell_type": "code",
   "source": [
    "def pre_order_iterative(root):\n",
    "    if not root:\n",
    "        return\n",
    "    stack = [root]\n",
    "    while stack:\n",
    "        node = stack.pop()\n",
    "        print(node.val)\n",
    "        if node.right:\n",
    "            stack.append(node.right)\n",
    "        if node.left:\n",
    "            stack.append(node.left)\n"
   ],
   "id": "cf772e7dd362340e",
   "outputs": [],
   "execution_count": 5
  },
  {
   "metadata": {},
   "cell_type": "markdown",
   "source": [
    "## 🧹 Post-Order Traversal (Left ➡️ Right ➡️ Root)\n",
    "> You do all the dirty work first — check left, check right — then report back to the boss (the root).\n",
    "\n",
    "### ✨ Recursive Version"
   ],
   "id": "8fc7f3b705529fbb"
  },
  {
   "metadata": {
    "ExecuteTime": {
     "end_time": "2025-04-08T19:15:35.360098Z",
     "start_time": "2025-04-08T19:15:35.356867Z"
    }
   },
   "cell_type": "code",
   "source": [
    "def post_order(node):\n",
    "    if node:\n",
    "        post_order(node.left)\n",
    "        post_order(node.right)\n",
    "        print(node.val)\n"
   ],
   "id": "9d96b928f3eea8b8",
   "outputs": [],
   "execution_count": 6
  },
  {
   "metadata": {},
   "cell_type": "markdown",
   "source": "### 🔩 Iterative Version (Two Stacks - kinda slick)",
   "id": "3985376c4f9d565d"
  },
  {
   "metadata": {
    "ExecuteTime": {
     "end_time": "2025-04-08T19:15:40.207527Z",
     "start_time": "2025-04-08T19:15:40.203666Z"
    }
   },
   "cell_type": "code",
   "source": [
    "def post_order_iterative(root):\n",
    "    if not root:\n",
    "        return\n",
    "    stack1 = [root]\n",
    "    stack2 = []\n",
    "    while stack1:\n",
    "        node = stack1.pop()\n",
    "        stack2.append(node)\n",
    "        if node.left:\n",
    "            stack1.append(node.left)\n",
    "        if node.right:\n",
    "            stack1.append(node.right)\n",
    "    while stack2:\n",
    "        print(stack2.pop().val)\n"
   ],
   "id": "8126d2716b267973",
   "outputs": [],
   "execution_count": 7
  },
  {
   "metadata": {},
   "cell_type": "markdown",
   "source": [
    "### 🧠 Quick Tips for the Squad\n",
    "* In-order: Use it if you wanna get values in sorted order (BST only).\n",
    "\n",
    "* Pre-order: Great for cloning trees or making tree-based filesystems.\n",
    "\n",
    "* Post-order: Useful for deletion"
   ],
   "id": "83d3be619ec39be6"
  },
  {
   "metadata": {},
   "cell_type": "markdown",
   "source": [
    "### 🎯 Interview Game Plan\n",
    "* Know all 3 traversals, recursive AND iterative.\n",
    "\n",
    "* Practice writing them on a whiteboard — no IDE.\n",
    "\n",
    "* Use stack for iterative, queue if you're doing level-order (that’s BFS, we’ll hit that later).\n",
    "\n"
   ],
   "id": "ac94bd51c329a31d"
  },
  {
   "metadata": {},
   "cell_type": "markdown",
   "source": [
    "## 🔥 One More: Level-Order Traversal (Breadth-First)\n",
    "> Like going level by level in a parking garage. Use a queue here."
   ],
   "id": "d0987c18e4fafe40"
  },
  {
   "metadata": {
    "ExecuteTime": {
     "end_time": "2025-04-08T19:16:03.971236Z",
     "start_time": "2025-04-08T19:16:03.967201Z"
    }
   },
   "cell_type": "code",
   "source": [
    "from collections import deque\n",
    "\n",
    "def level_order(root):\n",
    "    if not root:\n",
    "        return\n",
    "    queue = deque([root])\n",
    "    while queue:\n",
    "        node = queue.popleft()\n",
    "        print(node.val)\n",
    "        if node.left:\n",
    "            queue.append(node.left)\n",
    "        if node.right:\n",
    "            queue.append(node.right)\n"
   ],
   "id": "8444a198a1377770",
   "outputs": [],
   "execution_count": 8
  },
  {
   "metadata": {},
   "cell_type": "markdown",
   "source": [
    "# 🌱 Binary Search Tree (BST) Traversal — FULL Breakdown for Real Understanding\n",
    "\n",
    "---\n",
    "\n",
    "## ⚒️ First: Let's Build a Tree (Class & Setup)\n",
    "\n",
    "Before we talk about traversal, let’s understand **what a tree is** and **how we make one in code**.\n",
    "\n",
    "### 📦 Basic Node Class"
   ],
   "id": "c3334ad90e63052d"
  },
  {
   "metadata": {
    "ExecuteTime": {
     "end_time": "2025-04-08T19:16:15.581748Z",
     "start_time": "2025-04-08T19:16:15.578736Z"
    }
   },
   "cell_type": "code",
   "source": [
    "class TreeNode:\n",
    "    def __init__(self, val):\n",
    "        self.val = val         # 💎 This holds the value of the node\n",
    "        self.left = None       # 👈 Left child — smaller value\n",
    "        self.right = None      # 👉 Right child — bigger value\n"
   ],
   "id": "c0ca650381db8df3",
   "outputs": [],
   "execution_count": 9
  },
  {
   "metadata": {},
   "cell_type": "markdown",
   "source": [
    "### 💬 What’s Going On?\n",
    "We're making a **custom class** called `TreeNode`, because Python dosn't come with a built-in tree node.\n",
    "\n",
    "The `__init__` method is like the **birth certificate** for every node.\n",
    "\n",
    "Every node gets:\n",
    "\n",
    "* `val`: the number or data it holds.\n",
    "\n",
    "* `left`: pointer to the left kid (smaller value in a BST).\n",
    "\n",
    "* `right`: pointer to the right kid (bigger value in a BST).\n",
    "\n"
   ],
   "id": "cff98d338f77f6d1"
  },
  {
   "metadata": {},
   "cell_type": "markdown",
   "source": "## Example: Make a Sample Tree",
   "id": "fd515adc495cb53e"
  },
  {
   "metadata": {
    "ExecuteTime": {
     "end_time": "2025-04-08T19:16:19.108378Z",
     "start_time": "2025-04-08T19:16:19.104750Z"
    }
   },
   "cell_type": "code",
   "source": [
    "# Let’s create this BST by hand:\n",
    "#         5\n",
    "#       /   \\\n",
    "#      3     7\n",
    "#     / \\   / \\\n",
    "#    2  4  6   8\n",
    "\n",
    "root = TreeNode(5)\n",
    "root.left = TreeNode(3)\n",
    "root.right = TreeNode(7)\n",
    "\n",
    "root.left.left = TreeNode(2)\n",
    "root.left.right = TreeNode(4)\n",
    "\n",
    "root.right.left = TreeNode(6)\n",
    "root.right.right = TreeNode(8)\n"
   ],
   "id": "eacab267474804ea",
   "outputs": [],
   "execution_count": 10
  },
  {
   "metadata": {},
   "cell_type": "markdown",
   "source": [
    "### Why This Way?\n",
    "* A tree is built by **connecting nodes manually**.\n",
    "\n",
    "* Each time we say `root.left = TreeNode(3)`, we're hooking up the left child to node 5.\n",
    "\n",
    "* We do this to simulate how data is stored in memory — each node holds pointers to its children.\n",
    "\n"
   ],
   "id": "fd63937090606ac7"
  },
  {
   "metadata": {},
   "cell_type": "markdown",
   "source": [
    "## 🧭 In-Order Traversal (Left ➡️ Root ➡️ Right)\n",
    "### 🌀 Recursive Version"
   ],
   "id": "3fa8e9a843aa6c2a"
  },
  {
   "metadata": {
    "ExecuteTime": {
     "end_time": "2025-04-08T19:16:21.829236Z",
     "start_time": "2025-04-08T19:16:21.826364Z"
    }
   },
   "cell_type": "code",
   "source": [
    "#         5\n",
    "#       /   \\\n",
    "#      3     7\n",
    "#     / \\   / \\\n",
    "#    2  4  6   8\n",
    "\n",
    "def in_order(node):\n",
    "    if node:\n",
    "        in_order(node.left)\n",
    "        print(node.val)\n",
    "        in_order(node.right)\n",
    "print(in_order(root))\n"
   ],
   "id": "ca209386d68e55b4",
   "outputs": [
    {
     "name": "stdout",
     "output_type": "stream",
     "text": [
      "2\n",
      "3\n",
      "4\n",
      "5\n",
      "6\n",
      "7\n",
      "8\n",
      "None\n"
     ]
    }
   ],
   "execution_count": 11
  },
  {
   "metadata": {},
   "cell_type": "markdown",
   "source": [
    "💬 Line-by-Line Breakdown\n",
    "1. `if node:`\n",
    "    - 🔍 Don’t do anything if the node is `None` (base case).\n",
    "\n",
    "2. `in_order(node.left)`\n",
    "    - 👈 Go left first — that's the \"in\" part of in-order.\n",
    "\n",
    "3. `print(node.val)`\n",
    "    - 🎯 Now visit the current node.\n",
    "\n",
    "4. `in_order(node.right)`\n",
    "    - 👉 Finally, go right.\n",
    "\n",
    "### 🧠 Why this way?\n",
    "In a BST, going left ➡️ root ➡️ right means you hit numbers in ascending order. Clean, sorted output.\n",
    "\n",
    "### 🔩 Iterative In-Order with Stack\n",
    "\n",
    "\n",
    "\n",
    "\n",
    "\n",
    "\n",
    "\n",
    "\n",
    "\n"
   ],
   "id": "fac2cd629b02ea21"
  },
  {
   "metadata": {
    "ExecuteTime": {
     "end_time": "2025-04-08T19:44:03.267846Z",
     "start_time": "2025-04-08T19:44:03.264107Z"
    }
   },
   "cell_type": "code",
   "source": [
    "#         5\n",
    "#       /   \\\n",
    "#      3     7\n",
    "#     / \\   / \\\n",
    "#    2  4  6   8\n",
    "\n",
    "def in_order_iterative(root):\n",
    "    stack = []\n",
    "    curr = root\n",
    "    while stack or curr:\n",
    "        while curr:\n",
    "            stack.append(curr)\n",
    "            curr = curr.left\n",
    "        curr = stack.pop()\n",
    "        print(curr.val)\n",
    "        curr = curr.right\n",
    "\n",
    "print(in_order_iterative(root))\n"
   ],
   "id": "5b7d361a662ee0c1",
   "outputs": [
    {
     "name": "stdout",
     "output_type": "stream",
     "text": [
      "2\n",
      "3\n",
      "4\n",
      "5\n",
      "6\n",
      "7\n",
      "8\n",
      "None\n"
     ]
    }
   ],
   "execution_count": 12
  },
  {
   "metadata": {},
   "cell_type": "markdown",
   "source": [
    "### 💬 What’s Happening?\n",
    "* We're mimicking recursion with a **stack** (LIFO: Last-In, First-Out).\n",
    "\n",
    "* We **push left nodes** onto the stack until we hit a dead-end (None).\n",
    "\n",
    "* Then we **pop**, print, and slide right.\n",
    "\n",
    "### That code is not *at all intuitive*. I wouldn't have thought to write that!\n",
    "Facts — you’re absolutely right. That `in_order_iterative` code be lookin’ **mad unintuitive** at first glance. Like, **why all these nested `while` loops**?, and why we bouncing back and forth between `curr` and `stack`?\n",
    "\n",
    "Let’s break it all the way down like you explaining it to the people who just pulled up with questions. I’ll walk you through what **this function is really doing**, piece by piece, and explain **why it's written this way**. This isn’t just about copying code — it’s about **understanding the moves like a chessboard**.\n",
    "\n",
    "### 🧠 The Problem: Walk a Tree Left ➡️ Root ➡️ Right (Without Recursion)\n",
    "Normally recursion handles the \"backtracking\" for us — but when that off the board (not allowed), we gotta manage the flow ourselves. That’s where the **stack** comes in.\n",
    "\n",
    "Let’s run this code like we're watching a movie, with commentary.\n",
    "```\n",
    "def in_order_iterative(root):\n",
    "    stack = []        # 📦 This is our manual memory (like the call stack in recursion)\n",
    "    curr = root       # 🎯 Start from the root\n",
    "```\n",
    "* We're starting at the top of the tree.\n",
    "\n",
    "* The goal is to **go as far left as possible**, just like we would do in recursion.\n",
    "\n",
    "* But since we're not using recursive function calls (which have their own memory stack), we use our own.\n",
    "\n",
    "```\n",
    "    while stack or curr:     # 🔁 Keep going if:\n",
    "                             # (1) You still got nodes to check on the stack\n",
    "                             # (2) Or you haven't hit the bottom yet\n",
    "```\n",
    "\n",
    "This outer loop keeps the whole process alive. It only stops when:\n",
    "\n",
    "* `curr` is `None` **and**\n",
    "\n",
    "* `stack` is empty\n",
    "\n",
    "That means you’ve hit the bottom **and** you've already visited every node you pushed earlier.\n",
    "\n",
    "```\n",
    "        while curr:\n",
    "            stack.append(curr)    # 👣 Push node to stack, cuz we coming back to it later\n",
    "            curr = curr.left      # 🏃 Move left (deep as you can go)\n",
    "```\n",
    "\n",
    "This inner loop is doing the **\"go left\"** part. It keeps pushing nodes on the stack like:\n",
    "\n",
    "* “Yo, I’ll be back to print you, but let me go check your left kid first.”\n",
    "\n",
    "Let’s say you got this tree:\n",
    "```\n",
    "        5\n",
    "       / \\\n",
    "      3   7\n",
    "     / \\\n",
    "    2   4\n",
    "```\n",
    "What happens in that inner loop?\n",
    "\n",
    "1. Push 5 → move to 3\n",
    "\n",
    "2. Push 3 → move to 2\n",
    "\n",
    "3. Push 2 → move to None\n",
    "\n",
    "You’ve now hit the bottom of the left side. Stack looks like `[5, 3, 2]`.\n",
    "```\n",
    "        curr = stack.pop()      # 🧠 Time to process a node\n",
    "        print(curr.val)         # 📢 Print the value (now we \"visit\" the node)\n",
    "        curr = curr.right       # 👉 Slide to the right child (if it exists)\n",
    "```\n",
    "* Now we pop the top of the stack (the last left node we visited).\n",
    "\n",
    "* We print its value (👀 we finally visiting the node).\n",
    "\n",
    "* Then we say: “You got a right child? Aight, we goin' there next.”\n",
    "\n",
    "## 🔁 Why All That Jumping?\n",
    "Because we’re simulating recursion:\n",
    "\n",
    "* In recursion, it handles going left, stacking nodes, and backtracking for you.\n",
    "\n",
    "* Here, you **gotta handle the whole navigation yourself**, using a stack like it’s your notepad of “nodes I still gotta print.”\n",
    "\n",
    "### 🔄 What It Really Does\n",
    "Think of it like you're walking through the house:\n",
    "\n",
    "1. Go **left as far as you can** (stacking the rooms you passed, writing them down in two columns on a pad: `curr` and `stack` and when you pop from the stack, you pop the right-most item on your 'rooms-visited' pad write them down).\n",
    "\n",
    "2. Start going **backward** one by one (popping stack)\n",
    "\n",
    "3. Every time you backtrack, look right and **start going left again from there**\n",
    "\n",
    "This back-and-forth is why it feels weird — but it’s the only way to get the same behavior as recursive in-order traversal **without recursion**\n",
    "\n",
    "### ✅ Final Printout (In a BST)\n",
    "If the BST was:\n",
    "```\n",
    "        5\n",
    "       / \\\n",
    "      3   7\n",
    "     / \\\n",
    "    2   4\n",
    "```\n",
    "Your print would be:\n",
    "`2 3 4 5 7` — in **sorted** order.\n",
    "\n",
    "That’s what **in-order traversal does in a BST.**\n",
    "\n",
    "### 🔥 Want a Quick Visual Metaphor?\n",
    "You're delivering pizza in an apartment complex:\n",
    "\n",
    "* Stack = stairwell where you’re dropping notes like “come back to Room 5 later.”\n",
    "\n",
    "* You go all the way to the basement (left).\n",
    "\n",
    "* Then you start delivering (printing).\n",
    "\n",
    "* After each delivery, you check: “Do they got a sibling on the right?” and go check them out.\n",
    "\n",
    "* Repeat until no more deliveries.\n",
    "\n",
    "#### Let’s walk through an actual example step-by-step, and I’ll show you how the stack and curr change at every major moment in the loop.\n",
    "```\n",
    "        5\n",
    "       / \\\n",
    "      3   7\n",
    "     / \\\n",
    "    2   4\n",
    "```\n",
    "We’re gonna **walk through the** `in_order_iterative(root)` code and build a little table that shows:\n",
    "\n",
    "* What’s in the **stack**?\n",
    "\n",
    "* Where `curr` is pointing?\n",
    "\n",
    "* What we’re doing at that moment?\n",
    "\n",
    "so we have:\n",
    "```\n",
    "        5\n",
    "       / \\\n",
    "      3   7\n",
    "     / \\\n",
    "    2   4\n",
    "```\n",
    "### 🧰 Code We Are Running:\n",
    "```\n",
    "def in_order_iterative(root):\n",
    "    stack = []\n",
    "    curr = root\n",
    "    while stack or curr:\n",
    "        while curr:\n",
    "            stack.append(curr)\n",
    "            curr = curr.left\n",
    "        curr = stack.pop()\n",
    "        print(curr.val)\n",
    "        curr = curr.right\n",
    "```\n",
    "### 🔍 Step-by-Step Table: In-Order Iterative Traversal\n",
    "\n",
    "| Step | `curr.val` | Stack (Top to Bottom) | Action                          |\n",
    "|------|------------|------------------------|----------------------------------|\n",
    "| 1    | `5`        | `[]`                   | Push `5`, go left               |\n",
    "| 2    | `3`        | `[5]`                  | Push `3`, go left               |\n",
    "| 3    | `2`        | `[5, 3]`               | Push `2`, go left               |\n",
    "| 4    | `None`     | `[5, 3, 2]`            | Hit `None`, pop `2`, print it  |\n",
    "| 5    | `None`     | `[5, 3]`               | No right of `2`, pop `3`, print|\n",
    "| 6    | `4`        | `[5]`                  | Move to `3.right` → `4`        |\n",
    "| 7    | `None`     | `[5, 4]`               | Push `4`, hit `None`, pop, print|\n",
    "| 8    | `None`     | `[5]`                  | No right of `4`, pop `5`, print|\n",
    "| 9    | `7`        | `[]`                   | Move to `5.right` → `7`        |\n",
    "| 10   | `None`     | `[7]`                  | Push `7`, hit `None`, pop, print|\n",
    "| 11   | `None`     | `[]`                   | Done! Nothing left to process  |\n",
    "\n",
    "#### 📤 Final Output (What Gets Printed):\n",
    "```\n",
    "2\n",
    "3\n",
    "4\n",
    "5\n",
    "7\n",
    "```\n",
    "Just like you’d expect in in-order traversal of a BST — this output is **sorted**!\n",
    "\n",
    "### 🧠 Key Concepts Recap:\n",
    "* **Stack is your memory** — storing the nodes you still need to process.\n",
    "\n",
    "* `curr` **always tries to go left first** — get to the bottom.\n",
    "\n",
    "* Once you hit `None`, you know you reached the end of a left path.\n",
    "\n",
    "* Then you **pop**, print, and go right — and repeat the whole game.\n",
    "\n",
    "\n",
    "### 🧠 SO: using the stack\n",
    "Because the recursive function has its own hidden stack. We're just doing it **manually** here — good for when recursion is limited or banned in interviews."
   ],
   "id": "2eb2e76fb6bc45ee"
  },
  {
   "metadata": {},
   "cell_type": "markdown",
   "source": [
    "## 🥇 Pre-Order Traversal (Root ➡️ Left ➡️ Right)\n",
    "### 🌀 Recursive Version"
   ],
   "id": "aab96eaf5367bbab"
  },
  {
   "metadata": {
    "ExecuteTime": {
     "end_time": "2025-04-08T04:44:35.501157Z",
     "start_time": "2025-04-08T04:44:35.497748Z"
    }
   },
   "cell_type": "code",
   "source": [
    "def pre_order(node):\n",
    "    if node:\n",
    "        print(node.val)\n",
    "        pre_order(node.left)\n",
    "        pre_order(node.right)\n",
    "\n",
    "print(pre_order(root))"
   ],
   "id": "63cc0def452675b6",
   "outputs": [
    {
     "name": "stdout",
     "output_type": "stream",
     "text": [
      "5\n",
      "3\n",
      "2\n",
      "4\n",
      "7\n",
      "6\n",
      "8\n",
      "None\n"
     ]
    }
   ],
   "execution_count": 31
  },
  {
   "metadata": {},
   "cell_type": "markdown",
   "source": [
    "### 💬 Breakdown\n",
    "1. `print(node.val)` — 🔥 Hit the root first.\n",
    "\n",
    "2. `pre_order(node.left)` — 👈 Then left.\n",
    "\n",
    "3. `pre_order(node.right)` — 👉 Then right.\n",
    "\n",
    "### 🧠 Why? This is top-down style — perfect for saving tree structure, like when serializing a tree to save it to disk."
   ],
   "id": "880406e3adcae51e"
  },
  {
   "metadata": {},
   "cell_type": "markdown",
   "source": [
    "### 🔩 Iterative Pre-Order\n",
    "```\n",
    "#         5\n",
    "#       /   \\\n",
    "#      3     7\n",
    "#     / \\   / \\\n",
    "#    2  4  6   8\n",
    "```\n"
   ],
   "id": "9ded2b28eb4cc25"
  },
  {
   "metadata": {
    "ExecuteTime": {
     "end_time": "2025-04-08T04:42:47.993965Z",
     "start_time": "2025-04-08T04:42:47.990285Z"
    }
   },
   "cell_type": "code",
   "source": [
    "def pre_order_iterative(root):\n",
    "    if not root:\n",
    "        return\n",
    "    stack = [root]\n",
    "    while stack:\n",
    "        node = stack.pop()\n",
    "        print(node.val)\n",
    "        if node.right:\n",
    "            stack.append(node.right)\n",
    "        if node.left:\n",
    "            stack.append(node.left)\n",
    "\n",
    "pre_order_iterative(root)\n"
   ],
   "id": "f562b1141bc70650",
   "outputs": [
    {
     "name": "stdout",
     "output_type": "stream",
     "text": [
      "5\n",
      "3\n",
      "2\n",
      "4\n",
      "7\n",
      "6\n",
      "8\n"
     ]
    }
   ],
   "execution_count": 28
  },
  {
   "metadata": {},
   "cell_type": "markdown",
   "source": [
    "### 💬 What’s Going On?\n",
    "* We **start with the root** on the stack.\n",
    "\n",
    "* We **pop, print**, and **push right first**, then left.\n",
    "\n",
    "    - 🔁 Why right before left? Because stack pops the **last item first**, so we want **left on top**.\n",
    "\n"
   ],
   "id": "a20e9e53bfb4e6f0"
  },
  {
   "metadata": {},
   "cell_type": "markdown",
   "source": [
    "## 🧹 Post-Order Traversal (Left ➡️ Right ➡️ Root)\n",
    "### 🌀 Recursive Version"
   ],
   "id": "ce1a7b28bc757f54"
  },
  {
   "metadata": {
    "ExecuteTime": {
     "end_time": "2025-04-08T04:43:10.555008Z",
     "start_time": "2025-04-08T04:43:10.551594Z"
    }
   },
   "cell_type": "code",
   "source": [
    "def post_order(node):\n",
    "    if node:\n",
    "        post_order(node.left)\n",
    "        post_order(node.right)\n",
    "        print(node.val)\n",
    "print(post_order(root))"
   ],
   "id": "ecb5f22eac359756",
   "outputs": [
    {
     "name": "stdout",
     "output_type": "stream",
     "text": [
      "2\n",
      "4\n",
      "3\n",
      "6\n",
      "8\n",
      "7\n",
      "5\n",
      "None\n"
     ]
    }
   ],
   "execution_count": 30
  },
  {
   "metadata": {},
   "cell_type": "markdown",
   "source": [
    "### 💬 Why This Order?\n",
    "1. Left — 🧼 clean it up.\n",
    "\n",
    "2. Right — 🧽 clean that up too.\n",
    "\n",
    "3. Root — 🧾 now you're done.\n",
    "\n",
    "### 🧠 Use this when you want to **delete the tree** (bottom-up approach), or when calculating values **after** child work is done."
   ],
   "id": "290a76cbb911ce11"
  },
  {
   "metadata": {},
   "cell_type": "markdown",
   "source": [
    "## 🔩 Iterative Post-Order (2 Stacks)\n",
    "```\n",
    "#         5\n",
    "#       /   \\\n",
    "#      3     7\n",
    "#     / \\   / \\\n",
    "#    2  4  6   8\n",
    "```"
   ],
   "id": "4158e372a34bf9f"
  },
  {
   "metadata": {
    "ExecuteTime": {
     "end_time": "2025-04-08T00:25:18.212624Z",
     "start_time": "2025-04-08T00:25:18.208690Z"
    }
   },
   "cell_type": "code",
   "source": [
    "def post_order_iterative(root):\n",
    "    if not root:\n",
    "        return\n",
    "    stack1 = [root]\n",
    "    stack2 = []\n",
    "    while stack1:\n",
    "        node = stack1.pop()\n",
    "        stack2.append(node)\n",
    "        if node.left:\n",
    "            stack1.append(node.left)\n",
    "        if node.right:\n",
    "            stack1.append(node.right)\n",
    "    while stack2:\n",
    "        print(stack2.pop().val)\n",
    "\n",
    "print(post_order_iterative(root))\n"
   ],
   "id": "d84e3024056ef000",
   "outputs": [
    {
     "name": "stdout",
     "output_type": "stream",
     "text": [
      "2\n",
      "4\n",
      "3\n",
      "6\n",
      "8\n",
      "7\n",
      "5\n",
      "None\n"
     ]
    }
   ],
   "execution_count": 21
  },
  {
   "metadata": {},
   "cell_type": "markdown",
   "source": [
    "### 💬 What’s the Trick?\n",
    "* Stack 1: used for traversal (like pre-order but reversed).\n",
    "\n",
    "* Stack 2: holds nodes in post-order.\n",
    "\n",
    "* Finally pop stack2 to print in the correct order.\n",
    "\n",
    "### 🧠 Real clever trick — kinda like reversing pre-order to get post-order.\n",
    "\n",
    "That said, let's get a closer look at this algorithm for deep conceptual understanding:\n",
    "\n",
    "this one's **real slick but hella confusing** when you first see it. Like why we even got two stacks? And what’s really going down with this double-push-pop business?\n",
    "\n",
    "Let’s **break it all the way down** — deep, clean, and conceptually solid — so you're not just memorizing this mess, but **actually understanding why** it works and **how** it imitates recursion for **post-order traversal**:\n",
    "> Post-order is: Left ➡️ Right ➡️ Root\n",
    "\n",
    "### 🔧 The Challenge with Post-Order\n",
    "In **in-order** and **pre-order**, you can mimic recursion with **one stack**, because those orders match how a stack naturally works (LIFO).\n",
    "\n",
    "But **post-order**? Nah — it's different.\n",
    "\n",
    "> You gotta process the root *last* — after both left and right children have been fully handled. That's tough when you're working backwards off a stack.\n",
    "\n",
    "So we gotta get clever — use **two stacks** to reverse engineer the traversal.\n",
    "\n",
    "### 🧠 The Strategy (Two Stack Trick)\n",
    "Here’s what the code is doing in regular words:\n",
    "\n",
    "1. Stack 1 = our **workhorse**. It helps us traverse the tree like in **pre-order**, but in reverse (Root ➡️ Right ➡️ Left).\n",
    "\n",
    "2. Stack 2 = our collector. It stores nodes in the reverse of post-order, which, when we pop, ends up being real post-order (Left ➡️ Right ➡️ Root).\n",
    "\n",
    "Let’s walk the code line-by-line and show why it's written like this:\n",
    "\n",
    "### 🔬 Code Breakdown (Line by Line)\n",
    "```\n",
    "def post_order_iterative(root):\n",
    "    if not root:\n",
    "        return\n",
    "```\n",
    "📌 If tree empty, nothing to do.\n",
    "\n",
    "```\n",
    "    stack1 = [root]\n",
    "    stack2 = []\n",
    "```\n",
    "* `stack1` = where we’ll walk the tree.\n",
    "\n",
    "* `stack2` = where we build up the correct order (but in reverse).\n",
    "\n",
    "```\n",
    "    while stack1:\n",
    "        node = stack1.pop()\n",
    "        stack2.append(node)\n",
    "```\n",
    "💡 This is key:\n",
    "\n",
    "* We're popping from `stack1` and putting into `stack2`.\n",
    "\n",
    "* This means the **root gets added to** `stack2` first, and the children after.\n",
    "\n",
    "* Think of it as saying:\n",
    "\n",
    "    - “I’ll come back to print you later, for now chill in stack2.”\n",
    "\n",
    "```\n",
    "        if node.left:\n",
    "            stack1.append(node.left)\n",
    "        if node.right:\n",
    "            stack1.append(node.right)\n",
    "```\n",
    "🔄 Now we add the children — but note the order:\n",
    "\n",
    "* We add **left first**, then **right**, so that **right gets popped before left** next time (LIFO rule).\n",
    "\n",
    "* That’s **opposite** of post-order on purpose — because we gonna **reverse it** in the second stack.\n",
    "\n",
    "```\n",
    "    while stack2:\n",
    "        print(stack2.pop().val)\n",
    "```\n",
    "🎯 This is the big finish:\n",
    "\n",
    "* By now, `stack2` has nodes in this order:\n",
    "\n",
    "    * Root ➡️ Right ➡️ Left\n",
    "\n",
    "* When we pop from it, we get:\n",
    "\n",
    "    * Left ➡️ Right ➡️ Root — **which is exactly what we want**!\n",
    "\n",
    "### 🪜 Real Example Walkthrough\n",
    "Let’s use this tree again:\n",
    "```\n",
    "        5\n",
    "       / \\\n",
    "      3   7\n",
    "     / \\\n",
    "    2   4\n",
    "```\n",
    "What gets pushed where:\n",
    "* stack1 pushes: 5\n",
    "\n",
    "* pops 5 ➡️ stack2 gets 5\n",
    "\n",
    "* push 3 and 7 to stack1\n",
    "\n",
    "* pop 7 ➡️ stack2 gets 7\n",
    "\n",
    "* pop 3 ➡️ stack2 gets 3\n",
    "\n",
    "* push 2 and 4 to stack1\n",
    "\n",
    "* pop 4 ➡️ stack2 gets 4\n",
    "\n",
    "* pop 2 ➡️ stack2 gets 2\n",
    "\n",
    "Final stack2 before printing (top to bottom):\n",
    "```\n",
    "2\n",
    "4\n",
    "3\n",
    "7\n",
    "5\n",
    "```\n",
    "Popping this gives:\n",
    "`2 4 3 7 5  ✅ Post-order!`\n",
    "\n",
    "### 🔁 Summary: Why It Works\n",
    "What We Want (Post-Order)\tWhat We Build in stack2\t   What We Pop Out of stack2\n",
    "Left ➡️ Right ➡️ Root\t    Root ➡️ Right ➡️ Left\t     Left ➡️ Right ➡️ Root\n",
    "\n",
    "### 🧠 Extra Analogy (Real-Life)\n",
    "Imagine cleaning your room:\n",
    "\n",
    "* You first **stack up your mess** (clothes, dishes, cords, etc.).\n",
    "\n",
    "* Then you handle the cleanup in **reverse order** — the last thing you stacked is the first thing you clean.\n",
    "\n",
    "That’s **post-order**: do all the work at the bottom before touching the root\n",
    "\n",
    "### ✅ Want a Version That Returns a List?\n",
    "Here you go:\n",
    "```\n",
    "def post_order_iterative(root):\n",
    "    if not root:\n",
    "        return []\n",
    "    stack1 = [root]\n",
    "    stack2 = []\n",
    "    while stack1:\n",
    "        node = stack1.pop()\n",
    "        stack2.append(node)\n",
    "        if node.left:\n",
    "            stack1.append(node.left)\n",
    "        if node.right:\n",
    "            stack1.append(node.right)\n",
    "    return [node.val for node in reversed(stack2)]\n",
    "```\n",
    "\n",
    "### 💻 Code Reference (for clarity)\n",
    "```\n",
    "def post_order_iterative(root):\n",
    "    if not root:\n",
    "        return\n",
    "    stack1 = [root]\n",
    "    stack2 = []\n",
    "    while stack1:\n",
    "        node = stack1.pop()\n",
    "        stack2.append(node)\n",
    "        if node.left:\n",
    "            stack1.append(node.left)\n",
    "        if node.right:\n",
    "            stack1.append(node.right)\n",
    "    while stack2:\n",
    "        print(stack2.pop().val)\n",
    "```\n",
    "\n",
    "### 📊 Step-by-Step Stack Table for `post_order_iterative(root)`\n",
    "\n",
    "| Step | `node.val` (Popped from `stack1`) | `stack1` (Top to Bottom) | `stack2` (Top to Bottom) | Action                                        |\n",
    "|------|------------------------------------|---------------------------|---------------------------|-----------------------------------------------|\n",
    "| 1    | 5                                  | `[]`                      | `[5]`                     | Start with root. Push 5 → stack2.             |\n",
    "|      |                                    | `[3, 7]`                  |                           | Push left(3), right(7) → stack1.              |\n",
    "| 2    | 7                                  | `[3]`                     | `[5, 7]`                  | Pop 7 → stack2. No children.                  |\n",
    "| 3    | 3                                  | `[]`                      | `[5, 7, 3]`               | Pop 3 → stack2. Push left(2), right(4) → s1.  |\n",
    "| 4    | 4                                  | `[2]`                     | `[5, 7, 3, 4]`            | Pop 4 → stack2. No children.                  |\n",
    "| 5    | 2                                  | `[]`                      | `[5, 7, 3, 4, 2]`         | Pop 2 → stack2. No children.                  |\n",
    "| 6    | -                                  | `[]`                      | `[5, 7, 3, 4, 2]`         | Done with stack1. Start popping stack2.       |\n",
    "|      |                                    |                           |                           | Final output = `2 4 3 7 5` ✅ (Post-order)     |\n",
    "\n",
    "\n",
    "\n",
    "\n",
    "\n",
    "\n",
    "\n",
    "Post-order is: Left ➡️ Right ➡️ Root\n",
    "\n"
   ],
   "id": "14a69575a07384eb"
  },
  {
   "metadata": {},
   "cell_type": "markdown",
   "source": "## 🎢 Bonus: Level-Order Traversal (BFS Style)",
   "id": "26c0cec693a9cd67"
  },
  {
   "metadata": {
    "ExecuteTime": {
     "end_time": "2025-04-08T00:28:26.229366Z",
     "start_time": "2025-04-08T00:28:26.225460Z"
    }
   },
   "cell_type": "code",
   "source": [
    "from collections import deque\n",
    "\n",
    "def level_order(root):\n",
    "    if not root:\n",
    "        return\n",
    "    queue = deque([root])\n",
    "    while queue:\n",
    "        node = queue.popleft()\n",
    "        print(node.val)\n",
    "        if node.left:\n",
    "            queue.append(node.left)\n",
    "        if node.right:\n",
    "            queue.append(node.right)\n",
    "    return queue\n",
    "\n",
    "print(level_order(root))\n"
   ],
   "id": "ffb881c582d4a75c",
   "outputs": [
    {
     "name": "stdout",
     "output_type": "stream",
     "text": [
      "5\n",
      "3\n",
      "7\n",
      "2\n",
      "4\n",
      "6\n",
      "8\n",
      "deque([])\n"
     ]
    }
   ],
   "execution_count": 22
  },
  {
   "metadata": {},
   "cell_type": "markdown",
   "source": [
    "### 💬 Why Use a Queue?\n",
    "* This is **breadth-first**, like scanning each floor of a building before going to the next.\n",
    "\n",
    "* Use this when you want to **see the structure layer-by-layer.**\n",
    "\n"
   ],
   "id": "30255720ef7f399e"
  },
  {
   "metadata": {},
   "cell_type": "markdown",
   "source": [
    "### 🧠 Final Words for the Squad\n",
    "* These traversal styles are not just random — each one has a **purpose**.\n",
    "\n",
    "* You gotta know the **recursive way** (easiest to code), but also be ready to switch it up with **stack or queue** if recursion ain't allowed.\n",
    "\n",
    "* Always try to **visualize the tree** and **walk through it in your mind** or with a diagram.\n",
    "\n",
    "### 🎓 Understand the **why**, and **you'll never blank out in an interview**."
   ],
   "id": "54b0a2a3c489653c"
  },
  {
   "metadata": {},
   "cell_type": "markdown",
   "source": [
    "# 🌴 Binary Tree Boundary Traversal (a.k.a. Print the Outer Leaves and Edges)\n",
    "\n",
    "## 🧠 What is Boundary Traversal?\n",
    "\n",
    "Boundary traversal means printing the **outer edge** of the tree in a specific order:\n",
    "\n",
    "1. **Left Boundary** — All the nodes on the left edge (excluding leaf nodes).\n",
    "2. **Leaf Nodes** — All the leaf nodes, left to right.\n",
    "3. **Right Boundary** — All the nodes on the right edge (excluding leaf nodes), in **bottom-up** order.\n",
    "\n",
    "---\n",
    "\n",
    "## 🌳 Example Tree\n",
    "\n",
    "```\n",
    "    5\n",
    "   / \\\n",
    "  3   7\n",
    " / \\   \\\n",
    "2   4   8\n",
    "         \\\n",
    "          9\n",
    "```\n",
    "\n",
    "\n",
    "### ✅ Boundary Traversal Output:\n",
    "`5 3 2 4 9 8 7`\n",
    "\n",
    "Explanation:\n",
    "- `5`: root\n",
    "- `3`: left boundary\n",
    "- `2, 4, 9`: leaf nodes\n",
    "- `8, 7`: right boundary (in bottom-up order)\n",
    "\n",
    "## 💻 Python Code"
   ],
   "id": "41a1476ffed735a0"
  },
  {
   "metadata": {},
   "cell_type": "markdown",
   "source": "Let's make our tree as outlined above\n",
   "id": "f51b63d7773e7f3c"
  },
  {
   "metadata": {
    "ExecuteTime": {
     "end_time": "2025-04-08T22:12:20.063623Z",
     "start_time": "2025-04-08T22:12:20.059334Z"
    }
   },
   "cell_type": "code",
   "source": [
    "class TreeNode:\n",
    "    def __init__(self, val):\n",
    "        self.val = val\n",
    "        self.left = None\n",
    "        self.right = None\n",
    "\n",
    "# Build the tree\n",
    "root = TreeNode(5)\n",
    "root.left = TreeNode(3)\n",
    "root.right = TreeNode(7)\n",
    "root.left.left = TreeNode(2)\n",
    "root.left.right = TreeNode(4)\n",
    "root.right.right = TreeNode(8)\n",
    "root.right.right.right = TreeNode(9)\n",
    "\n",
    "print_boundary(root)\n"
   ],
   "id": "c186f7d0e26a5138",
   "outputs": [
    {
     "name": "stdout",
     "output_type": "stream",
     "text": [
      "Boundary traversal: [5, 3, 2, 4, 9, 8, 7]\n"
     ]
    }
   ],
   "execution_count": 14
  },
  {
   "metadata": {
    "ExecuteTime": {
     "end_time": "2025-04-08T22:12:56.688581Z",
     "start_time": "2025-04-08T22:12:56.682035Z"
    }
   },
   "cell_type": "code",
   "source": [
    "def print_boundary(root):\n",
    "    if not root:\n",
    "        return\n",
    "\n",
    "    def is_leaf(node):\n",
    "        return not node.left and not node.right\n",
    "\n",
    "    def add_left_boundary(node, res):\n",
    "        curr = node.left\n",
    "        while curr:\n",
    "            if not is_leaf(curr):\n",
    "                res.append(curr.val)\n",
    "            if curr.left:\n",
    "                curr = curr.left\n",
    "            else:\n",
    "                curr = curr.right\n",
    "\n",
    "    def add_right_boundary(node, res):\n",
    "        curr = node.right\n",
    "        temp = []\n",
    "        while curr:\n",
    "            if not is_leaf(curr):\n",
    "                temp.append(curr.val)\n",
    "            if curr.right:\n",
    "                curr = curr.right\n",
    "            else:\n",
    "                curr = curr.left\n",
    "        res.extend(reversed(temp))  # Reverse it before adding to result\n",
    "\n",
    "    def add_leaves(node, res):\n",
    "        if is_leaf(node):\n",
    "            res.append(node.val)\n",
    "            return\n",
    "        if node.left:\n",
    "            add_leaves(node.left, res)\n",
    "        if node.right:\n",
    "            add_leaves(node.right, res)\n",
    "\n",
    "    result = []\n",
    "    if not is_leaf(root):\n",
    "        result.append(root.val)\n",
    "\n",
    "    add_left_boundary(root, result)\n",
    "    add_leaves(root, result)\n",
    "    add_right_boundary(root, result)\n",
    "\n",
    "    print(\"Boundary traversal:\", result)\n",
    "\n",
    "print(print_boundary(root))"
   ],
   "id": "eb20be0dbc6264a9",
   "outputs": [
    {
     "name": "stdout",
     "output_type": "stream",
     "text": [
      "Boundary traversal: [5, 3, 2, 4, 9, 8, 7]\n",
      "None\n"
     ]
    }
   ],
   "execution_count": 16
  },
  {
   "metadata": {},
   "cell_type": "markdown",
   "source": [
    "## The iterative code\n",
    "same tree:\n",
    "```\n",
    "    5\n",
    "   / \\\n",
    "  3   7\n",
    " / \\   \\\n",
    "2   4   8\n",
    "         \\\n",
    "          9\n",
    "```"
   ],
   "id": "40c79c94bef8fe74"
  },
  {
   "metadata": {
    "ExecuteTime": {
     "end_time": "2025-04-08T22:44:19.201104Z",
     "start_time": "2025-04-08T22:44:19.196782Z"
    }
   },
   "cell_type": "code",
   "source": [
    "class TreeNode:\n",
    "    def __init__(self, val):\n",
    "        self.val = val\n",
    "        self.left = None\n",
    "        self.right = None\n",
    "\n",
    "\n",
    "def print_leaf_nodes_iterative(root):\n",
    "    if root is None:\n",
    "        return\n",
    "\n",
    "    stack = [root]\n",
    "    while stack:\n",
    "        node = stack.pop()\n",
    "\n",
    "        if node.left is None and node.right is None:\n",
    "            print(node.val, end=\" \")  # 🧠 CHANGED HERE\n",
    "\n",
    "        if node.right:\n",
    "            stack.append(node.right)\n",
    "        if node.left:\n",
    "            stack.append(node.left)\n",
    "\n",
    "print_leaf_nodes_iterative(root)"
   ],
   "id": "ad7759f3fe6839ec",
   "outputs": [
    {
     "name": "stdout",
     "output_type": "stream",
     "text": [
      "2 4 9 "
     ]
    }
   ],
   "execution_count": 22
  },
  {
   "metadata": {},
   "cell_type": "markdown",
   "source": [
    "## 🔁 Boundary Traversal (Iterative Style)\n",
    "We'll divide it up the same way:\n",
    "\n",
    "1. **Left boundary** — Traverse down the left side using a loop.\n",
    "\n",
    "2. **Leaf nodes** — Do an iterative in-order traversal, and collect only the leaf nodes.\n",
    "\n",
    "3. **Right boundary** — Traverse down the right side using a loop, but save to a stack so we can reverse it."
   ],
   "id": "24b4a27fae7218e1"
  },
  {
   "metadata": {},
   "cell_type": "code",
   "outputs": [],
   "execution_count": null,
   "source": "",
   "id": "a4aab62f3bc7f302"
  }
 ],
 "metadata": {
  "kernelspec": {
   "display_name": "Python 3",
   "language": "python",
   "name": "python3"
  },
  "language_info": {
   "codemirror_mode": {
    "name": "ipython",
    "version": 2
   },
   "file_extension": ".py",
   "mimetype": "text/x-python",
   "name": "python",
   "nbconvert_exporter": "python",
   "pygments_lexer": "ipython2",
   "version": "2.7.6"
  }
 },
 "nbformat": 4,
 "nbformat_minor": 5
}
